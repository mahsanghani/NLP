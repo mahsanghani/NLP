{
 "cells": [
  {
   "cell_type": "code",
   "execution_count": 1,
   "id": "d77e5d49-1a83-4658-9997-893eb38c3648",
   "metadata": {},
   "outputs": [],
   "source": [
    "# !conda install opencv"
   ]
  },
  {
   "cell_type": "code",
   "execution_count": 2,
   "id": "3eb8c336-d650-4d77-97a9-81c8329c5d99",
   "metadata": {},
   "outputs": [],
   "source": [
    "import cv2\n",
    "import matplotlib.pyplot as plt\n",
    "import matplotlib.image as mpimg"
   ]
  },
  {
   "cell_type": "code",
   "execution_count": 3,
   "id": "6df52a27-e9cf-428f-b5ef-27934c8982e4",
   "metadata": {},
   "outputs": [],
   "source": [
    "def vconcat_resize(img_list, interpolation \n",
    "                   = cv2.INTER_CUBIC):\n",
    "    # for img in img_list:\n",
    "    #     if img.endswith(\".jpg\"):\n",
    "    img = mpimg.imread(img_list[0])\n",
    "    w_min = img.shape[1]\n",
    "            # image_resized = resize(img, (128, 128))\n",
    "            # imgplot = plt.imshow(img)\n",
    "            # plt.show()\n",
    "            # print(img.shape)\n",
    "      # take minimum width\n",
    "    # w_min = min(img.shape[1] \n",
    "    #             for img in img_list)\n",
    "      \n",
    "    # resizing images\n",
    "    im_list_resize = []\n",
    "    for img in img_list:\n",
    "        img = mpimg.imread(img)\n",
    "        im_list_resize.append(cv2.resize(img,\n",
    "                      (w_min, int(img.shape[0] * w_min / img.shape[1])),\n",
    "                                 interpolation = interpolation))\n",
    "    # return final image\n",
    "    return cv2.vconcat(img_list)\n",
    "  \n",
    "# function calling\n",
    "# img_v_resize = vconcat_resize([img1, img2, img1])\n",
    "  \n",
    "# show the output image\n",
    "# cv2.imwrite('vconcat_resize.jpg', img_v_resize)"
   ]
  },
  {
   "cell_type": "code",
   "execution_count": 4,
   "id": "2b88abc8-15bc-4cb2-b1d0-3e7920428e66",
   "metadata": {},
   "outputs": [],
   "source": [
    "import itertools\n",
    "def grouper(S, n):\n",
    "    iterator = iter(S)\n",
    "    while True:\n",
    "        items = list(itertools.islice(iterator, n))\n",
    "        if len(items) == 0:\n",
    "            break\n",
    "        yield items"
   ]
  },
  {
   "cell_type": "code",
   "execution_count": 5,
   "id": "c7aafadb-2c4b-4c72-8501-d51bce985765",
   "metadata": {},
   "outputs": [
    {
     "ename": "error",
     "evalue": "OpenCV(4.5.3) :-1: error: (-5:Bad argument) in function 'vconcat'\n> Overload resolution failed:\n>  - src is not a numpy array, neither a scalar\n>  - Expected Ptr<cv::UMat> for argument 'src'\n",
     "output_type": "error",
     "traceback": [
      "\u001b[0;31m---------------------------------------------------------------------------\u001b[0m",
      "\u001b[0;31merror\u001b[0m                                     Traceback (most recent call last)",
      "\u001b[0;32m/var/folders/n2/vqk_2j3x6tsds2vmz6_smh980000gn/T/ipykernel_16031/3768080581.py\u001b[0m in \u001b[0;36m<module>\u001b[0;34m\u001b[0m\n\u001b[1;32m      7\u001b[0m     \u001b[0;31m# for fname in fnames:\u001b[0m\u001b[0;34m\u001b[0m\u001b[0;34m\u001b[0m\u001b[0m\n\u001b[1;32m      8\u001b[0m     \u001b[0;31m#     shutil.move(fname, dirname)\u001b[0m\u001b[0;34m\u001b[0m\u001b[0;34m\u001b[0m\u001b[0m\n\u001b[0;32m----> 9\u001b[0;31m     \u001b[0mimg_v_resize\u001b[0m \u001b[0;34m=\u001b[0m \u001b[0mvconcat_resize\u001b[0m\u001b[0;34m(\u001b[0m\u001b[0mfnames\u001b[0m\u001b[0;34m)\u001b[0m\u001b[0;34m\u001b[0m\u001b[0;34m\u001b[0m\u001b[0m\n\u001b[0m\u001b[1;32m     10\u001b[0m     \u001b[0mcv2\u001b[0m\u001b[0;34m.\u001b[0m\u001b[0mimwrite\u001b[0m\u001b[0;34m(\u001b[0m\u001b[0;34m'batch%d'\u001b[0m \u001b[0;34m%\u001b[0m \u001b[0mi\u001b[0m\u001b[0;34m,\u001b[0m \u001b[0mimg_v_resize\u001b[0m\u001b[0;34m)\u001b[0m\u001b[0;34m\u001b[0m\u001b[0;34m\u001b[0m\u001b[0m\n",
      "\u001b[0;32m/var/folders/n2/vqk_2j3x6tsds2vmz6_smh980000gn/T/ipykernel_16031/593638869.py\u001b[0m in \u001b[0;36mvconcat_resize\u001b[0;34m(img_list, interpolation)\u001b[0m\n\u001b[1;32m     21\u001b[0m                                  interpolation = interpolation))\n\u001b[1;32m     22\u001b[0m     \u001b[0;31m# return final image\u001b[0m\u001b[0;34m\u001b[0m\u001b[0;34m\u001b[0m\u001b[0m\n\u001b[0;32m---> 23\u001b[0;31m     \u001b[0;32mreturn\u001b[0m \u001b[0mcv2\u001b[0m\u001b[0;34m.\u001b[0m\u001b[0mvconcat\u001b[0m\u001b[0;34m(\u001b[0m\u001b[0mimg_list\u001b[0m\u001b[0;34m)\u001b[0m\u001b[0;34m\u001b[0m\u001b[0;34m\u001b[0m\u001b[0m\n\u001b[0m\u001b[1;32m     24\u001b[0m \u001b[0;34m\u001b[0m\u001b[0m\n\u001b[1;32m     25\u001b[0m \u001b[0;31m# function calling\u001b[0m\u001b[0;34m\u001b[0m\u001b[0;34m\u001b[0m\u001b[0m\n",
      "\u001b[0;31merror\u001b[0m: OpenCV(4.5.3) :-1: error: (-5:Bad argument) in function 'vconcat'\n> Overload resolution failed:\n>  - src is not a numpy array, neither a scalar\n>  - Expected Ptr<cv::UMat> for argument 'src'\n"
     ]
    }
   ],
   "source": [
    "import glob, os, shutil\n",
    "fnames = sorted(glob.glob('OnlineKhatt/Images/*.jpg'))\n",
    "for i, fnames in enumerate(grouper(fnames, 5)):\n",
    "    print(fnames)\n",
    "    dirname = 'batch%d' % i\n",
    "    os.mkdir(dirname)\n",
    "    for fname in fnames:\n",
    "        shutil.move(fname, dirname)\n",
    "    img_v_resize = vconcat_resize(fnames)\n",
    "    cv2.imwrite('batch%d' % i, img_v_resize)"
   ]
  },
  {
   "cell_type": "code",
   "execution_count": null,
   "id": "5fadc95d-2beb-4a82-a4c9-364ae62bff4b",
   "metadata": {},
   "outputs": [],
   "source": []
  },
  {
   "cell_type": "code",
   "execution_count": null,
   "id": "343228be-1da7-4786-97fc-bd1fd9b89934",
   "metadata": {},
   "outputs": [],
   "source": []
  },
  {
   "cell_type": "code",
   "execution_count": null,
   "id": "c9f658e0-9973-4b73-bdf7-e43e913256ff",
   "metadata": {},
   "outputs": [],
   "source": []
  },
  {
   "cell_type": "code",
   "execution_count": null,
   "id": "45ffa76d-3332-4e17-bf7b-ea125073ebc0",
   "metadata": {},
   "outputs": [],
   "source": []
  }
 ],
 "metadata": {
  "kernelspec": {
   "display_name": "Python 3 (ipykernel)",
   "language": "python",
   "name": "python3"
  },
  "language_info": {
   "codemirror_mode": {
    "name": "ipython",
    "version": 3
   },
   "file_extension": ".py",
   "mimetype": "text/x-python",
   "name": "python",
   "nbconvert_exporter": "python",
   "pygments_lexer": "ipython3",
   "version": "3.9.9"
  }
 },
 "nbformat": 4,
 "nbformat_minor": 5
}
