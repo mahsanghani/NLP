{
  "cells": [
    {
      "cell_type": "code",
      "execution_count": 1,
      "metadata": {
        "execution": {
          "iopub.execute_input": "2021-05-25T06:50:29.636394Z",
          "iopub.status.busy": "2021-05-25T06:50:29.636041Z",
          "iopub.status.idle": "2021-05-25T06:50:29.643277Z",
          "shell.execute_reply": "2021-05-25T06:50:29.642127Z",
          "shell.execute_reply.started": "2021-05-25T06:50:29.636365Z"
        },
        "id": "nNsJacNZy755"
      },
      "outputs": [],
      "source": [
        "import pandas as pd\n",
        "import sklearn\n",
        "import itertools\n",
        "import numpy as np\n",
        "import seaborn as sb\n",
        "import re\n",
        "import nltk\n",
        "import pickle\n",
        "from sklearn.model_selection import train_test_split\n",
        "from sklearn.feature_extraction.text import TfidfVectorizer\n",
        "from sklearn import metrics\n",
        "from sklearn.metrics import confusion_matrix\n",
        "from matplotlib import pyplot as plt\n",
        "from sklearn.linear_model import PassiveAggressiveClassifier\n",
        "from nltk.stem import WordNetLemmatizer\n",
        "from nltk.corpus import stopwords\n",
        "import nltk"
      ]
    },
    {
      "cell_type": "code",
      "source": [
        "nltk.download('punkt')\n",
        "nltk.download('wordnet')\n",
        "nltk.download('omw-1.4')\n",
        "nltk.download('stopwords')"
      ],
      "metadata": {
        "colab": {
          "base_uri": "https://localhost:8080/"
        },
        "id": "ufhloE2O1csf",
        "outputId": "ce73d3ba-032f-4cb5-a4f6-41b90fd433fc"
      },
      "execution_count": 2,
      "outputs": [
        {
          "output_type": "stream",
          "name": "stderr",
          "text": [
            "[nltk_data] Downloading package punkt to /root/nltk_data...\n",
            "[nltk_data]   Unzipping tokenizers/punkt.zip.\n",
            "[nltk_data] Downloading package wordnet to /root/nltk_data...\n",
            "[nltk_data] Downloading package omw-1.4 to /root/nltk_data...\n",
            "[nltk_data] Downloading package stopwords to /root/nltk_data...\n",
            "[nltk_data]   Unzipping corpora/stopwords.zip.\n"
          ]
        },
        {
          "output_type": "execute_result",
          "data": {
            "text/plain": [
              "True"
            ]
          },
          "metadata": {},
          "execution_count": 2
        }
      ]
    },
    {
      "cell_type": "code",
      "source": [
        "from google.colab import drive\n",
        "drive.mount('/content/drive')"
      ],
      "metadata": {
        "colab": {
          "base_uri": "https://localhost:8080/"
        },
        "id": "2fQU-UmkzvW3",
        "outputId": "f9c25099-5a4f-48ea-d874-822b8d26e3c1"
      },
      "execution_count": 3,
      "outputs": [
        {
          "output_type": "stream",
          "name": "stdout",
          "text": [
            "Mounted at /content/drive\n"
          ]
        }
      ]
    },
    {
      "cell_type": "code",
      "execution_count": 4,
      "metadata": {
        "execution": {
          "iopub.execute_input": "2021-05-25T06:50:29.656569Z",
          "iopub.status.busy": "2021-05-25T06:50:29.656203Z",
          "iopub.status.idle": "2021-05-25T06:50:32.048864Z",
          "shell.execute_reply": "2021-05-25T06:50:32.047882Z",
          "shell.execute_reply.started": "2021-05-25T06:50:29.65654Z"
        },
        "id": "pFUrH10ty756"
      },
      "outputs": [],
      "source": [
        "train_df = pd.read_csv('/content/drive/MyDrive/NLP/fake_news/train.csv')"
      ]
    },
    {
      "cell_type": "code",
      "execution_count": 5,
      "metadata": {
        "execution": {
          "iopub.execute_input": "2021-05-25T06:50:32.05136Z",
          "iopub.status.busy": "2021-05-25T06:50:32.051032Z",
          "iopub.status.idle": "2021-05-25T06:50:32.089516Z",
          "shell.execute_reply": "2021-05-25T06:50:32.088399Z",
          "shell.execute_reply.started": "2021-05-25T06:50:32.051329Z"
        },
        "colab": {
          "base_uri": "https://localhost:8080/",
          "height": 1000
        },
        "id": "oKmS8w0jy757",
        "outputId": "0135b7d1-4424-48a0-d37e-b9ea510c9f6c"
      },
      "outputs": [
        {
          "output_type": "execute_result",
          "data": {
            "text/plain": [
              "    id                                              title  \\\n",
              "0    0  House Dem Aide: We Didn’t Even See Comey’s Let...   \n",
              "1    1  FLYNN: Hillary Clinton, Big Woman on Campus - ...   \n",
              "2    2                  Why the Truth Might Get You Fired   \n",
              "3    3  15 Civilians Killed In Single US Airstrike Hav...   \n",
              "4    4  Iranian woman jailed for fictional unpublished...   \n",
              "5    5  Jackie Mason: Hollywood Would Love Trump if He...   \n",
              "6    6  Life: Life Of Luxury: Elton John’s 6 Favorite ...   \n",
              "7    7  Benoît Hamon Wins French Socialist Party’s Pre...   \n",
              "8    8  Excerpts From a Draft Script for Donald Trump’...   \n",
              "9    9  A Back-Channel Plan for Ukraine and Russia, Co...   \n",
              "10  10  Obama’s Organizing for Action Partners with So...   \n",
              "11  11  BBC Comedy Sketch \"Real Housewives of ISIS\" Ca...   \n",
              "12  12  Russian Researchers Discover Secret Nazi Milit...   \n",
              "13  13  US Officials See No Link Between Trump and Russia   \n",
              "14  14  Re: Yes, There Are Paid Government Trolls On S...   \n",
              "\n",
              "                          author  \\\n",
              "0                  Darrell Lucus   \n",
              "1                Daniel J. Flynn   \n",
              "2             Consortiumnews.com   \n",
              "3                Jessica Purkiss   \n",
              "4                 Howard Portnoy   \n",
              "5                Daniel Nussbaum   \n",
              "6                            NaN   \n",
              "7                Alissa J. Rubin   \n",
              "8                            NaN   \n",
              "9   Megan Twohey and Scott Shane   \n",
              "10                   Aaron Klein   \n",
              "11               Chris Tomlinson   \n",
              "12                 Amando Flavio   \n",
              "13                    Jason Ditz   \n",
              "14                  AnotherAnnie   \n",
              "\n",
              "                                                 text  label  \n",
              "0   House Dem Aide: We Didn’t Even See Comey’s Let...      1  \n",
              "1   Ever get the feeling your life circles the rou...      0  \n",
              "2   Why the Truth Might Get You Fired October 29, ...      1  \n",
              "3   Videos 15 Civilians Killed In Single US Airstr...      1  \n",
              "4   Print \\nAn Iranian woman has been sentenced to...      1  \n",
              "5   In these trying times, Jackie Mason is the Voi...      0  \n",
              "6   Ever wonder how Britain’s most iconic pop pian...      1  \n",
              "7   PARIS  —   France chose an idealistic, traditi...      0  \n",
              "8   Donald J. Trump is scheduled to make a highly ...      0  \n",
              "9   A week before Michael T. Flynn resigned as nat...      0  \n",
              "10  Organizing for Action, the activist group that...      0  \n",
              "11  The BBC produced spoof on the “Real Housewives...      0  \n",
              "12  The mystery surrounding The Third Reich and Na...      1  \n",
              "13  Clinton Campaign Demands FBI Affirm Trump's Ru...      1  \n",
              "14  Yes, There Are Paid Government Trolls On Socia...      1  "
            ],
            "text/html": [
              "\n",
              "  <div id=\"df-6eb9fc42-bcab-4339-91df-e45eac168a7e\">\n",
              "    <div class=\"colab-df-container\">\n",
              "      <div>\n",
              "<style scoped>\n",
              "    .dataframe tbody tr th:only-of-type {\n",
              "        vertical-align: middle;\n",
              "    }\n",
              "\n",
              "    .dataframe tbody tr th {\n",
              "        vertical-align: top;\n",
              "    }\n",
              "\n",
              "    .dataframe thead th {\n",
              "        text-align: right;\n",
              "    }\n",
              "</style>\n",
              "<table border=\"1\" class=\"dataframe\">\n",
              "  <thead>\n",
              "    <tr style=\"text-align: right;\">\n",
              "      <th></th>\n",
              "      <th>id</th>\n",
              "      <th>title</th>\n",
              "      <th>author</th>\n",
              "      <th>text</th>\n",
              "      <th>label</th>\n",
              "    </tr>\n",
              "  </thead>\n",
              "  <tbody>\n",
              "    <tr>\n",
              "      <th>0</th>\n",
              "      <td>0</td>\n",
              "      <td>House Dem Aide: We Didn’t Even See Comey’s Let...</td>\n",
              "      <td>Darrell Lucus</td>\n",
              "      <td>House Dem Aide: We Didn’t Even See Comey’s Let...</td>\n",
              "      <td>1</td>\n",
              "    </tr>\n",
              "    <tr>\n",
              "      <th>1</th>\n",
              "      <td>1</td>\n",
              "      <td>FLYNN: Hillary Clinton, Big Woman on Campus - ...</td>\n",
              "      <td>Daniel J. Flynn</td>\n",
              "      <td>Ever get the feeling your life circles the rou...</td>\n",
              "      <td>0</td>\n",
              "    </tr>\n",
              "    <tr>\n",
              "      <th>2</th>\n",
              "      <td>2</td>\n",
              "      <td>Why the Truth Might Get You Fired</td>\n",
              "      <td>Consortiumnews.com</td>\n",
              "      <td>Why the Truth Might Get You Fired October 29, ...</td>\n",
              "      <td>1</td>\n",
              "    </tr>\n",
              "    <tr>\n",
              "      <th>3</th>\n",
              "      <td>3</td>\n",
              "      <td>15 Civilians Killed In Single US Airstrike Hav...</td>\n",
              "      <td>Jessica Purkiss</td>\n",
              "      <td>Videos 15 Civilians Killed In Single US Airstr...</td>\n",
              "      <td>1</td>\n",
              "    </tr>\n",
              "    <tr>\n",
              "      <th>4</th>\n",
              "      <td>4</td>\n",
              "      <td>Iranian woman jailed for fictional unpublished...</td>\n",
              "      <td>Howard Portnoy</td>\n",
              "      <td>Print \\nAn Iranian woman has been sentenced to...</td>\n",
              "      <td>1</td>\n",
              "    </tr>\n",
              "    <tr>\n",
              "      <th>5</th>\n",
              "      <td>5</td>\n",
              "      <td>Jackie Mason: Hollywood Would Love Trump if He...</td>\n",
              "      <td>Daniel Nussbaum</td>\n",
              "      <td>In these trying times, Jackie Mason is the Voi...</td>\n",
              "      <td>0</td>\n",
              "    </tr>\n",
              "    <tr>\n",
              "      <th>6</th>\n",
              "      <td>6</td>\n",
              "      <td>Life: Life Of Luxury: Elton John’s 6 Favorite ...</td>\n",
              "      <td>NaN</td>\n",
              "      <td>Ever wonder how Britain’s most iconic pop pian...</td>\n",
              "      <td>1</td>\n",
              "    </tr>\n",
              "    <tr>\n",
              "      <th>7</th>\n",
              "      <td>7</td>\n",
              "      <td>Benoît Hamon Wins French Socialist Party’s Pre...</td>\n",
              "      <td>Alissa J. Rubin</td>\n",
              "      <td>PARIS  —   France chose an idealistic, traditi...</td>\n",
              "      <td>0</td>\n",
              "    </tr>\n",
              "    <tr>\n",
              "      <th>8</th>\n",
              "      <td>8</td>\n",
              "      <td>Excerpts From a Draft Script for Donald Trump’...</td>\n",
              "      <td>NaN</td>\n",
              "      <td>Donald J. Trump is scheduled to make a highly ...</td>\n",
              "      <td>0</td>\n",
              "    </tr>\n",
              "    <tr>\n",
              "      <th>9</th>\n",
              "      <td>9</td>\n",
              "      <td>A Back-Channel Plan for Ukraine and Russia, Co...</td>\n",
              "      <td>Megan Twohey and Scott Shane</td>\n",
              "      <td>A week before Michael T. Flynn resigned as nat...</td>\n",
              "      <td>0</td>\n",
              "    </tr>\n",
              "    <tr>\n",
              "      <th>10</th>\n",
              "      <td>10</td>\n",
              "      <td>Obama’s Organizing for Action Partners with So...</td>\n",
              "      <td>Aaron Klein</td>\n",
              "      <td>Organizing for Action, the activist group that...</td>\n",
              "      <td>0</td>\n",
              "    </tr>\n",
              "    <tr>\n",
              "      <th>11</th>\n",
              "      <td>11</td>\n",
              "      <td>BBC Comedy Sketch \"Real Housewives of ISIS\" Ca...</td>\n",
              "      <td>Chris Tomlinson</td>\n",
              "      <td>The BBC produced spoof on the “Real Housewives...</td>\n",
              "      <td>0</td>\n",
              "    </tr>\n",
              "    <tr>\n",
              "      <th>12</th>\n",
              "      <td>12</td>\n",
              "      <td>Russian Researchers Discover Secret Nazi Milit...</td>\n",
              "      <td>Amando Flavio</td>\n",
              "      <td>The mystery surrounding The Third Reich and Na...</td>\n",
              "      <td>1</td>\n",
              "    </tr>\n",
              "    <tr>\n",
              "      <th>13</th>\n",
              "      <td>13</td>\n",
              "      <td>US Officials See No Link Between Trump and Russia</td>\n",
              "      <td>Jason Ditz</td>\n",
              "      <td>Clinton Campaign Demands FBI Affirm Trump's Ru...</td>\n",
              "      <td>1</td>\n",
              "    </tr>\n",
              "    <tr>\n",
              "      <th>14</th>\n",
              "      <td>14</td>\n",
              "      <td>Re: Yes, There Are Paid Government Trolls On S...</td>\n",
              "      <td>AnotherAnnie</td>\n",
              "      <td>Yes, There Are Paid Government Trolls On Socia...</td>\n",
              "      <td>1</td>\n",
              "    </tr>\n",
              "  </tbody>\n",
              "</table>\n",
              "</div>\n",
              "      <button class=\"colab-df-convert\" onclick=\"convertToInteractive('df-6eb9fc42-bcab-4339-91df-e45eac168a7e')\"\n",
              "              title=\"Convert this dataframe to an interactive table.\"\n",
              "              style=\"display:none;\">\n",
              "        \n",
              "  <svg xmlns=\"http://www.w3.org/2000/svg\" height=\"24px\"viewBox=\"0 0 24 24\"\n",
              "       width=\"24px\">\n",
              "    <path d=\"M0 0h24v24H0V0z\" fill=\"none\"/>\n",
              "    <path d=\"M18.56 5.44l.94 2.06.94-2.06 2.06-.94-2.06-.94-.94-2.06-.94 2.06-2.06.94zm-11 1L8.5 8.5l.94-2.06 2.06-.94-2.06-.94L8.5 2.5l-.94 2.06-2.06.94zm10 10l.94 2.06.94-2.06 2.06-.94-2.06-.94-.94-2.06-.94 2.06-2.06.94z\"/><path d=\"M17.41 7.96l-1.37-1.37c-.4-.4-.92-.59-1.43-.59-.52 0-1.04.2-1.43.59L10.3 9.45l-7.72 7.72c-.78.78-.78 2.05 0 2.83L4 21.41c.39.39.9.59 1.41.59.51 0 1.02-.2 1.41-.59l7.78-7.78 2.81-2.81c.8-.78.8-2.07 0-2.86zM5.41 20L4 18.59l7.72-7.72 1.47 1.35L5.41 20z\"/>\n",
              "  </svg>\n",
              "      </button>\n",
              "      \n",
              "  <style>\n",
              "    .colab-df-container {\n",
              "      display:flex;\n",
              "      flex-wrap:wrap;\n",
              "      gap: 12px;\n",
              "    }\n",
              "\n",
              "    .colab-df-convert {\n",
              "      background-color: #E8F0FE;\n",
              "      border: none;\n",
              "      border-radius: 50%;\n",
              "      cursor: pointer;\n",
              "      display: none;\n",
              "      fill: #1967D2;\n",
              "      height: 32px;\n",
              "      padding: 0 0 0 0;\n",
              "      width: 32px;\n",
              "    }\n",
              "\n",
              "    .colab-df-convert:hover {\n",
              "      background-color: #E2EBFA;\n",
              "      box-shadow: 0px 1px 2px rgba(60, 64, 67, 0.3), 0px 1px 3px 1px rgba(60, 64, 67, 0.15);\n",
              "      fill: #174EA6;\n",
              "    }\n",
              "\n",
              "    [theme=dark] .colab-df-convert {\n",
              "      background-color: #3B4455;\n",
              "      fill: #D2E3FC;\n",
              "    }\n",
              "\n",
              "    [theme=dark] .colab-df-convert:hover {\n",
              "      background-color: #434B5C;\n",
              "      box-shadow: 0px 1px 3px 1px rgba(0, 0, 0, 0.15);\n",
              "      filter: drop-shadow(0px 1px 2px rgba(0, 0, 0, 0.3));\n",
              "      fill: #FFFFFF;\n",
              "    }\n",
              "  </style>\n",
              "\n",
              "      <script>\n",
              "        const buttonEl =\n",
              "          document.querySelector('#df-6eb9fc42-bcab-4339-91df-e45eac168a7e button.colab-df-convert');\n",
              "        buttonEl.style.display =\n",
              "          google.colab.kernel.accessAllowed ? 'block' : 'none';\n",
              "\n",
              "        async function convertToInteractive(key) {\n",
              "          const element = document.querySelector('#df-6eb9fc42-bcab-4339-91df-e45eac168a7e');\n",
              "          const dataTable =\n",
              "            await google.colab.kernel.invokeFunction('convertToInteractive',\n",
              "                                                     [key], {});\n",
              "          if (!dataTable) return;\n",
              "\n",
              "          const docLinkHtml = 'Like what you see? Visit the ' +\n",
              "            '<a target=\"_blank\" href=https://colab.research.google.com/notebooks/data_table.ipynb>data table notebook</a>'\n",
              "            + ' to learn more about interactive tables.';\n",
              "          element.innerHTML = '';\n",
              "          dataTable['output_type'] = 'display_data';\n",
              "          await google.colab.output.renderOutput(dataTable, element);\n",
              "          const docLink = document.createElement('div');\n",
              "          docLink.innerHTML = docLinkHtml;\n",
              "          element.appendChild(docLink);\n",
              "        }\n",
              "      </script>\n",
              "    </div>\n",
              "  </div>\n",
              "  "
            ]
          },
          "metadata": {},
          "execution_count": 5
        }
      ],
      "source": [
        "train_df.head(15)"
      ]
    },
    {
      "cell_type": "code",
      "execution_count": 6,
      "metadata": {
        "execution": {
          "iopub.execute_input": "2021-05-25T06:50:32.091153Z",
          "iopub.status.busy": "2021-05-25T06:50:32.090847Z",
          "iopub.status.idle": "2021-05-25T06:50:32.104756Z",
          "shell.execute_reply": "2021-05-25T06:50:32.10363Z",
          "shell.execute_reply.started": "2021-05-25T06:50:32.091126Z"
        },
        "id": "gV-N7n2ky757"
      },
      "outputs": [],
      "source": [
        "train_df = train_df.drop(\"author\", axis = 1)\n",
        "train_df = train_df.drop(\"title\", axis = 1)\n",
        "train_df = train_df.drop(\"id\", axis = 1)"
      ]
    },
    {
      "cell_type": "code",
      "execution_count": 7,
      "metadata": {
        "execution": {
          "iopub.execute_input": "2021-05-25T06:50:32.10674Z",
          "iopub.status.busy": "2021-05-25T06:50:32.106434Z",
          "iopub.status.idle": "2021-05-25T06:50:32.120541Z",
          "shell.execute_reply": "2021-05-25T06:50:32.119386Z",
          "shell.execute_reply.started": "2021-05-25T06:50:32.106712Z"
        },
        "colab": {
          "base_uri": "https://localhost:8080/"
        },
        "id": "i9b4Oq6by758",
        "outputId": "e25a685e-5873-4570-b396-ba10dfa4c5c5"
      },
      "outputs": [
        {
          "output_type": "execute_result",
          "data": {
            "text/plain": [
              "(20800, 2)"
            ]
          },
          "metadata": {},
          "execution_count": 7
        }
      ],
      "source": [
        "train_df.shape"
      ]
    },
    {
      "cell_type": "code",
      "execution_count": 8,
      "metadata": {
        "execution": {
          "iopub.execute_input": "2021-05-25T06:50:32.124489Z",
          "iopub.status.busy": "2021-05-25T06:50:32.12414Z",
          "iopub.status.idle": "2021-05-25T06:50:32.140229Z",
          "shell.execute_reply": "2021-05-25T06:50:32.139288Z",
          "shell.execute_reply.started": "2021-05-25T06:50:32.124461Z"
        },
        "colab": {
          "base_uri": "https://localhost:8080/",
          "height": 520
        },
        "id": "sPmiQEmry758",
        "outputId": "7de8cea3-93bd-41c8-d505-57c22c28c610"
      },
      "outputs": [
        {
          "output_type": "execute_result",
          "data": {
            "text/plain": [
              "                                                 text  label\n",
              "0   House Dem Aide: We Didn’t Even See Comey’s Let...      1\n",
              "1   Ever get the feeling your life circles the rou...      0\n",
              "2   Why the Truth Might Get You Fired October 29, ...      1\n",
              "3   Videos 15 Civilians Killed In Single US Airstr...      1\n",
              "4   Print \\nAn Iranian woman has been sentenced to...      1\n",
              "5   In these trying times, Jackie Mason is the Voi...      0\n",
              "6   Ever wonder how Britain’s most iconic pop pian...      1\n",
              "7   PARIS  —   France chose an idealistic, traditi...      0\n",
              "8   Donald J. Trump is scheduled to make a highly ...      0\n",
              "9   A week before Michael T. Flynn resigned as nat...      0\n",
              "10  Organizing for Action, the activist group that...      0\n",
              "11  The BBC produced spoof on the “Real Housewives...      0\n",
              "12  The mystery surrounding The Third Reich and Na...      1\n",
              "13  Clinton Campaign Demands FBI Affirm Trump's Ru...      1\n",
              "14  Yes, There Are Paid Government Trolls On Socia...      1"
            ],
            "text/html": [
              "\n",
              "  <div id=\"df-be88594c-37f7-4f76-9fd3-fa39da8d238e\">\n",
              "    <div class=\"colab-df-container\">\n",
              "      <div>\n",
              "<style scoped>\n",
              "    .dataframe tbody tr th:only-of-type {\n",
              "        vertical-align: middle;\n",
              "    }\n",
              "\n",
              "    .dataframe tbody tr th {\n",
              "        vertical-align: top;\n",
              "    }\n",
              "\n",
              "    .dataframe thead th {\n",
              "        text-align: right;\n",
              "    }\n",
              "</style>\n",
              "<table border=\"1\" class=\"dataframe\">\n",
              "  <thead>\n",
              "    <tr style=\"text-align: right;\">\n",
              "      <th></th>\n",
              "      <th>text</th>\n",
              "      <th>label</th>\n",
              "    </tr>\n",
              "  </thead>\n",
              "  <tbody>\n",
              "    <tr>\n",
              "      <th>0</th>\n",
              "      <td>House Dem Aide: We Didn’t Even See Comey’s Let...</td>\n",
              "      <td>1</td>\n",
              "    </tr>\n",
              "    <tr>\n",
              "      <th>1</th>\n",
              "      <td>Ever get the feeling your life circles the rou...</td>\n",
              "      <td>0</td>\n",
              "    </tr>\n",
              "    <tr>\n",
              "      <th>2</th>\n",
              "      <td>Why the Truth Might Get You Fired October 29, ...</td>\n",
              "      <td>1</td>\n",
              "    </tr>\n",
              "    <tr>\n",
              "      <th>3</th>\n",
              "      <td>Videos 15 Civilians Killed In Single US Airstr...</td>\n",
              "      <td>1</td>\n",
              "    </tr>\n",
              "    <tr>\n",
              "      <th>4</th>\n",
              "      <td>Print \\nAn Iranian woman has been sentenced to...</td>\n",
              "      <td>1</td>\n",
              "    </tr>\n",
              "    <tr>\n",
              "      <th>5</th>\n",
              "      <td>In these trying times, Jackie Mason is the Voi...</td>\n",
              "      <td>0</td>\n",
              "    </tr>\n",
              "    <tr>\n",
              "      <th>6</th>\n",
              "      <td>Ever wonder how Britain’s most iconic pop pian...</td>\n",
              "      <td>1</td>\n",
              "    </tr>\n",
              "    <tr>\n",
              "      <th>7</th>\n",
              "      <td>PARIS  —   France chose an idealistic, traditi...</td>\n",
              "      <td>0</td>\n",
              "    </tr>\n",
              "    <tr>\n",
              "      <th>8</th>\n",
              "      <td>Donald J. Trump is scheduled to make a highly ...</td>\n",
              "      <td>0</td>\n",
              "    </tr>\n",
              "    <tr>\n",
              "      <th>9</th>\n",
              "      <td>A week before Michael T. Flynn resigned as nat...</td>\n",
              "      <td>0</td>\n",
              "    </tr>\n",
              "    <tr>\n",
              "      <th>10</th>\n",
              "      <td>Organizing for Action, the activist group that...</td>\n",
              "      <td>0</td>\n",
              "    </tr>\n",
              "    <tr>\n",
              "      <th>11</th>\n",
              "      <td>The BBC produced spoof on the “Real Housewives...</td>\n",
              "      <td>0</td>\n",
              "    </tr>\n",
              "    <tr>\n",
              "      <th>12</th>\n",
              "      <td>The mystery surrounding The Third Reich and Na...</td>\n",
              "      <td>1</td>\n",
              "    </tr>\n",
              "    <tr>\n",
              "      <th>13</th>\n",
              "      <td>Clinton Campaign Demands FBI Affirm Trump's Ru...</td>\n",
              "      <td>1</td>\n",
              "    </tr>\n",
              "    <tr>\n",
              "      <th>14</th>\n",
              "      <td>Yes, There Are Paid Government Trolls On Socia...</td>\n",
              "      <td>1</td>\n",
              "    </tr>\n",
              "  </tbody>\n",
              "</table>\n",
              "</div>\n",
              "      <button class=\"colab-df-convert\" onclick=\"convertToInteractive('df-be88594c-37f7-4f76-9fd3-fa39da8d238e')\"\n",
              "              title=\"Convert this dataframe to an interactive table.\"\n",
              "              style=\"display:none;\">\n",
              "        \n",
              "  <svg xmlns=\"http://www.w3.org/2000/svg\" height=\"24px\"viewBox=\"0 0 24 24\"\n",
              "       width=\"24px\">\n",
              "    <path d=\"M0 0h24v24H0V0z\" fill=\"none\"/>\n",
              "    <path d=\"M18.56 5.44l.94 2.06.94-2.06 2.06-.94-2.06-.94-.94-2.06-.94 2.06-2.06.94zm-11 1L8.5 8.5l.94-2.06 2.06-.94-2.06-.94L8.5 2.5l-.94 2.06-2.06.94zm10 10l.94 2.06.94-2.06 2.06-.94-2.06-.94-.94-2.06-.94 2.06-2.06.94z\"/><path d=\"M17.41 7.96l-1.37-1.37c-.4-.4-.92-.59-1.43-.59-.52 0-1.04.2-1.43.59L10.3 9.45l-7.72 7.72c-.78.78-.78 2.05 0 2.83L4 21.41c.39.39.9.59 1.41.59.51 0 1.02-.2 1.41-.59l7.78-7.78 2.81-2.81c.8-.78.8-2.07 0-2.86zM5.41 20L4 18.59l7.72-7.72 1.47 1.35L5.41 20z\"/>\n",
              "  </svg>\n",
              "      </button>\n",
              "      \n",
              "  <style>\n",
              "    .colab-df-container {\n",
              "      display:flex;\n",
              "      flex-wrap:wrap;\n",
              "      gap: 12px;\n",
              "    }\n",
              "\n",
              "    .colab-df-convert {\n",
              "      background-color: #E8F0FE;\n",
              "      border: none;\n",
              "      border-radius: 50%;\n",
              "      cursor: pointer;\n",
              "      display: none;\n",
              "      fill: #1967D2;\n",
              "      height: 32px;\n",
              "      padding: 0 0 0 0;\n",
              "      width: 32px;\n",
              "    }\n",
              "\n",
              "    .colab-df-convert:hover {\n",
              "      background-color: #E2EBFA;\n",
              "      box-shadow: 0px 1px 2px rgba(60, 64, 67, 0.3), 0px 1px 3px 1px rgba(60, 64, 67, 0.15);\n",
              "      fill: #174EA6;\n",
              "    }\n",
              "\n",
              "    [theme=dark] .colab-df-convert {\n",
              "      background-color: #3B4455;\n",
              "      fill: #D2E3FC;\n",
              "    }\n",
              "\n",
              "    [theme=dark] .colab-df-convert:hover {\n",
              "      background-color: #434B5C;\n",
              "      box-shadow: 0px 1px 3px 1px rgba(0, 0, 0, 0.15);\n",
              "      filter: drop-shadow(0px 1px 2px rgba(0, 0, 0, 0.3));\n",
              "      fill: #FFFFFF;\n",
              "    }\n",
              "  </style>\n",
              "\n",
              "      <script>\n",
              "        const buttonEl =\n",
              "          document.querySelector('#df-be88594c-37f7-4f76-9fd3-fa39da8d238e button.colab-df-convert');\n",
              "        buttonEl.style.display =\n",
              "          google.colab.kernel.accessAllowed ? 'block' : 'none';\n",
              "\n",
              "        async function convertToInteractive(key) {\n",
              "          const element = document.querySelector('#df-be88594c-37f7-4f76-9fd3-fa39da8d238e');\n",
              "          const dataTable =\n",
              "            await google.colab.kernel.invokeFunction('convertToInteractive',\n",
              "                                                     [key], {});\n",
              "          if (!dataTable) return;\n",
              "\n",
              "          const docLinkHtml = 'Like what you see? Visit the ' +\n",
              "            '<a target=\"_blank\" href=https://colab.research.google.com/notebooks/data_table.ipynb>data table notebook</a>'\n",
              "            + ' to learn more about interactive tables.';\n",
              "          element.innerHTML = '';\n",
              "          dataTable['output_type'] = 'display_data';\n",
              "          await google.colab.output.renderOutput(dataTable, element);\n",
              "          const docLink = document.createElement('div');\n",
              "          docLink.innerHTML = docLinkHtml;\n",
              "          element.appendChild(docLink);\n",
              "        }\n",
              "      </script>\n",
              "    </div>\n",
              "  </div>\n",
              "  "
            ]
          },
          "metadata": {},
          "execution_count": 8
        }
      ],
      "source": [
        "train_df.head(15)"
      ]
    },
    {
      "cell_type": "code",
      "execution_count": 9,
      "metadata": {
        "execution": {
          "iopub.execute_input": "2021-05-25T06:50:32.144642Z",
          "iopub.status.busy": "2021-05-25T06:50:32.144299Z",
          "iopub.status.idle": "2021-05-25T06:50:32.302296Z",
          "shell.execute_reply": "2021-05-25T06:50:32.301193Z",
          "shell.execute_reply.started": "2021-05-25T06:50:32.144612Z"
        },
        "colab": {
          "base_uri": "https://localhost:8080/",
          "height": 296
        },
        "id": "fmLyAkZLy758",
        "outputId": "5275eb31-bb94-437c-e25f-18598db318f6"
      },
      "outputs": [
        {
          "output_type": "execute_result",
          "data": {
            "text/plain": [
              "<matplotlib.axes._subplots.AxesSubplot at 0x7f5f4a293ed0>"
            ]
          },
          "metadata": {},
          "execution_count": 9
        },
        {
          "output_type": "display_data",
          "data": {
            "text/plain": [
              "<Figure size 432x288 with 1 Axes>"
            ],
            "image/png": "[encoded data removed]"
          },
          "metadata": {
            "needs_background": "light"
          }
        }
      ],
      "source": [
        "def create_distribution(dataFile):\n",
        "    return sb.countplot(x='label', data=dataFile, palette='hls')\n",
        "create_distribution(train_df)"
      ]
    },
    {
      "cell_type": "code",
      "execution_count": 10,
      "metadata": {
        "execution": {
          "iopub.execute_input": "2021-05-25T06:50:32.306146Z",
          "iopub.status.busy": "2021-05-25T06:50:32.305826Z",
          "iopub.status.idle": "2021-05-25T06:50:32.335357Z",
          "shell.execute_reply": "2021-05-25T06:50:32.33417Z",
          "shell.execute_reply.started": "2021-05-25T06:50:32.306118Z"
        },
        "colab": {
          "base_uri": "https://localhost:8080/"
        },
        "id": "TeaDn7l9y758",
        "outputId": "21995c1e-e160-4108-ce11-407e0011ee0f"
      },
      "outputs": [
        {
          "output_type": "stream",
          "name": "stdout",
          "text": [
            "Checking data qualitites...\n",
            "<class 'pandas.core.frame.DataFrame'>\n",
            "RangeIndex: 20800 entries, 0 to 20799\n",
            "Data columns (total 2 columns):\n",
            " #   Column  Non-Null Count  Dtype \n",
            "---  ------  --------------  ----- \n",
            " 0   text    20761 non-null  object\n",
            " 1   label   20800 non-null  int64 \n",
            "dtypes: int64(1), object(1)\n",
            "memory usage: 325.1+ KB\n",
            "check finished.\n"
          ]
        }
      ],
      "source": [
        "def data_qualityCheck():\n",
        "    print(\"Checking data qualitites...\")\n",
        "    train_df.isnull().sum()\n",
        "    train_df.info()  \n",
        "    print(\"check finished.\")\n",
        "data_qualityCheck()"
      ]
    },
    {
      "cell_type": "code",
      "execution_count": 11,
      "metadata": {
        "execution": {
          "iopub.execute_input": "2021-05-25T06:50:32.337061Z",
          "iopub.status.busy": "2021-05-25T06:50:32.336735Z",
          "iopub.status.idle": "2021-05-25T06:50:32.367948Z",
          "shell.execute_reply": "2021-05-25T06:50:32.366933Z",
          "shell.execute_reply.started": "2021-05-25T06:50:32.33703Z"
        },
        "id": "aPoQaQz5y759"
      },
      "outputs": [],
      "source": [
        "train_df = train_df.dropna()"
      ]
    },
    {
      "cell_type": "code",
      "execution_count": 12,
      "metadata": {
        "execution": {
          "iopub.execute_input": "2021-05-25T06:50:32.369967Z",
          "iopub.status.busy": "2021-05-25T06:50:32.369528Z",
          "iopub.status.idle": "2021-05-25T06:50:32.399296Z",
          "shell.execute_reply": "2021-05-25T06:50:32.398264Z",
          "shell.execute_reply.started": "2021-05-25T06:50:32.369924Z"
        },
        "colab": {
          "base_uri": "https://localhost:8080/"
        },
        "id": "cANA7zJ7y759",
        "outputId": "fa3a47de-eb19-45d7-cc9a-011ca83f3ae9"
      },
      "outputs": [
        {
          "output_type": "stream",
          "name": "stdout",
          "text": [
            "Checking data qualitites...\n",
            "<class 'pandas.core.frame.DataFrame'>\n",
            "Int64Index: 20761 entries, 0 to 20799\n",
            "Data columns (total 2 columns):\n",
            " #   Column  Non-Null Count  Dtype \n",
            "---  ------  --------------  ----- \n",
            " 0   text    20761 non-null  object\n",
            " 1   label   20761 non-null  int64 \n",
            "dtypes: int64(1), object(1)\n",
            "memory usage: 486.6+ KB\n",
            "check finished.\n"
          ]
        }
      ],
      "source": [
        "data_qualityCheck()"
      ]
    },
    {
      "cell_type": "code",
      "execution_count": 13,
      "metadata": {
        "execution": {
          "iopub.execute_input": "2021-05-25T06:50:32.401314Z",
          "iopub.status.busy": "2021-05-25T06:50:32.400868Z",
          "iopub.status.idle": "2021-05-25T06:50:32.407806Z",
          "shell.execute_reply": "2021-05-25T06:50:32.406589Z",
          "shell.execute_reply.started": "2021-05-25T06:50:32.401272Z"
        },
        "colab": {
          "base_uri": "https://localhost:8080/"
        },
        "id": "J3capHjly759",
        "outputId": "eaf24ef4-00a8-47bb-8f57-30d19b56fbb2"
      },
      "outputs": [
        {
          "output_type": "execute_result",
          "data": {
            "text/plain": [
              "(20761, 2)"
            ]
          },
          "metadata": {},
          "execution_count": 13
        }
      ],
      "source": [
        "train_df.shape"
      ]
    },
    {
      "cell_type": "code",
      "execution_count": 14,
      "metadata": {
        "execution": {
          "iopub.execute_input": "2021-05-25T06:50:32.409912Z",
          "iopub.status.busy": "2021-05-25T06:50:32.409162Z",
          "iopub.status.idle": "2021-05-25T06:50:32.426843Z",
          "shell.execute_reply": "2021-05-25T06:50:32.425727Z",
          "shell.execute_reply.started": "2021-05-25T06:50:32.409868Z"
        },
        "colab": {
          "base_uri": "https://localhost:8080/",
          "height": 363
        },
        "id": "eUjU_Rnky759",
        "outputId": "56cf3fa8-70e1-435b-c4b3-d1e48bfea6ce"
      },
      "outputs": [
        {
          "output_type": "execute_result",
          "data": {
            "text/plain": [
              "                                                text  label\n",
              "0  House Dem Aide: We Didn’t Even See Comey’s Let...      1\n",
              "1  Ever get the feeling your life circles the rou...      0\n",
              "2  Why the Truth Might Get You Fired October 29, ...      1\n",
              "3  Videos 15 Civilians Killed In Single US Airstr...      1\n",
              "4  Print \\nAn Iranian woman has been sentenced to...      1\n",
              "5  In these trying times, Jackie Mason is the Voi...      0\n",
              "6  Ever wonder how Britain’s most iconic pop pian...      1\n",
              "7  PARIS  —   France chose an idealistic, traditi...      0\n",
              "8  Donald J. Trump is scheduled to make a highly ...      0\n",
              "9  A week before Michael T. Flynn resigned as nat...      0"
            ],
            "text/html": [
              "\n",
              "  <div id=\"df-43f5341c-1066-40e5-96fe-7fce8ef86215\">\n",
              "    <div class=\"colab-df-container\">\n",
              "      <div>\n",
              "<style scoped>\n",
              "    .dataframe tbody tr th:only-of-type {\n",
              "        vertical-align: middle;\n",
              "    }\n",
              "\n",
              "    .dataframe tbody tr th {\n",
              "        vertical-align: top;\n",
              "    }\n",
              "\n",
              "    .dataframe thead th {\n",
              "        text-align: right;\n",
              "    }\n",
              "</style>\n",
              "<table border=\"1\" class=\"dataframe\">\n",
              "  <thead>\n",
              "    <tr style=\"text-align: right;\">\n",
              "      <th></th>\n",
              "      <th>text</th>\n",
              "      <th>label</th>\n",
              "    </tr>\n",
              "  </thead>\n",
              "  <tbody>\n",
              "    <tr>\n",
              "      <th>0</th>\n",
              "      <td>House Dem Aide: We Didn’t Even See Comey’s Let...</td>\n",
              "      <td>1</td>\n",
              "    </tr>\n",
              "    <tr>\n",
              "      <th>1</th>\n",
              "      <td>Ever get the feeling your life circles the rou...</td>\n",
              "      <td>0</td>\n",
              "    </tr>\n",
              "    <tr>\n",
              "      <th>2</th>\n",
              "      <td>Why the Truth Might Get You Fired October 29, ...</td>\n",
              "      <td>1</td>\n",
              "    </tr>\n",
              "    <tr>\n",
              "      <th>3</th>\n",
              "      <td>Videos 15 Civilians Killed In Single US Airstr...</td>\n",
              "      <td>1</td>\n",
              "    </tr>\n",
              "    <tr>\n",
              "      <th>4</th>\n",
              "      <td>Print \\nAn Iranian woman has been sentenced to...</td>\n",
              "      <td>1</td>\n",
              "    </tr>\n",
              "    <tr>\n",
              "      <th>5</th>\n",
              "      <td>In these trying times, Jackie Mason is the Voi...</td>\n",
              "      <td>0</td>\n",
              "    </tr>\n",
              "    <tr>\n",
              "      <th>6</th>\n",
              "      <td>Ever wonder how Britain’s most iconic pop pian...</td>\n",
              "      <td>1</td>\n",
              "    </tr>\n",
              "    <tr>\n",
              "      <th>7</th>\n",
              "      <td>PARIS  —   France chose an idealistic, traditi...</td>\n",
              "      <td>0</td>\n",
              "    </tr>\n",
              "    <tr>\n",
              "      <th>8</th>\n",
              "      <td>Donald J. Trump is scheduled to make a highly ...</td>\n",
              "      <td>0</td>\n",
              "    </tr>\n",
              "    <tr>\n",
              "      <th>9</th>\n",
              "      <td>A week before Michael T. Flynn resigned as nat...</td>\n",
              "      <td>0</td>\n",
              "    </tr>\n",
              "  </tbody>\n",
              "</table>\n",
              "</div>\n",
              "      <button class=\"colab-df-convert\" onclick=\"convertToInteractive('df-43f5341c-1066-40e5-96fe-7fce8ef86215')\"\n",
              "              title=\"Convert this dataframe to an interactive table.\"\n",
              "              style=\"display:none;\">\n",
              "        \n",
              "  <svg xmlns=\"http://www.w3.org/2000/svg\" height=\"24px\"viewBox=\"0 0 24 24\"\n",
              "       width=\"24px\">\n",
              "    <path d=\"M0 0h24v24H0V0z\" fill=\"none\"/>\n",
              "    <path d=\"M18.56 5.44l.94 2.06.94-2.06 2.06-.94-2.06-.94-.94-2.06-.94 2.06-2.06.94zm-11 1L8.5 8.5l.94-2.06 2.06-.94-2.06-.94L8.5 2.5l-.94 2.06-2.06.94zm10 10l.94 2.06.94-2.06 2.06-.94-2.06-.94-.94-2.06-.94 2.06-2.06.94z\"/><path d=\"M17.41 7.96l-1.37-1.37c-.4-.4-.92-.59-1.43-.59-.52 0-1.04.2-1.43.59L10.3 9.45l-7.72 7.72c-.78.78-.78 2.05 0 2.83L4 21.41c.39.39.9.59 1.41.59.51 0 1.02-.2 1.41-.59l7.78-7.78 2.81-2.81c.8-.78.8-2.07 0-2.86zM5.41 20L4 18.59l7.72-7.72 1.47 1.35L5.41 20z\"/>\n",
              "  </svg>\n",
              "      </button>\n",
              "      \n",
              "  <style>\n",
              "    .colab-df-container {\n",
              "      display:flex;\n",
              "      flex-wrap:wrap;\n",
              "      gap: 12px;\n",
              "    }\n",
              "\n",
              "    .colab-df-convert {\n",
              "      background-color: #E8F0FE;\n",
              "      border: none;\n",
              "      border-radius: 50%;\n",
              "      cursor: pointer;\n",
              "      display: none;\n",
              "      fill: #1967D2;\n",
              "      height: 32px;\n",
              "      padding: 0 0 0 0;\n",
              "      width: 32px;\n",
              "    }\n",
              "\n",
              "    .colab-df-convert:hover {\n",
              "      background-color: #E2EBFA;\n",
              "      box-shadow: 0px 1px 2px rgba(60, 64, 67, 0.3), 0px 1px 3px 1px rgba(60, 64, 67, 0.15);\n",
              "      fill: #174EA6;\n",
              "    }\n",
              "\n",
              "    [theme=dark] .colab-df-convert {\n",
              "      background-color: #3B4455;\n",
              "      fill: #D2E3FC;\n",
              "    }\n",
              "\n",
              "    [theme=dark] .colab-df-convert:hover {\n",
              "      background-color: #434B5C;\n",
              "      box-shadow: 0px 1px 3px 1px rgba(0, 0, 0, 0.15);\n",
              "      filter: drop-shadow(0px 1px 2px rgba(0, 0, 0, 0.3));\n",
              "      fill: #FFFFFF;\n",
              "    }\n",
              "  </style>\n",
              "\n",
              "      <script>\n",
              "        const buttonEl =\n",
              "          document.querySelector('#df-43f5341c-1066-40e5-96fe-7fce8ef86215 button.colab-df-convert');\n",
              "        buttonEl.style.display =\n",
              "          google.colab.kernel.accessAllowed ? 'block' : 'none';\n",
              "\n",
              "        async function convertToInteractive(key) {\n",
              "          const element = document.querySelector('#df-43f5341c-1066-40e5-96fe-7fce8ef86215');\n",
              "          const dataTable =\n",
              "            await google.colab.kernel.invokeFunction('convertToInteractive',\n",
              "                                                     [key], {});\n",
              "          if (!dataTable) return;\n",
              "\n",
              "          const docLinkHtml = 'Like what you see? Visit the ' +\n",
              "            '<a target=\"_blank\" href=https://colab.research.google.com/notebooks/data_table.ipynb>data table notebook</a>'\n",
              "            + ' to learn more about interactive tables.';\n",
              "          element.innerHTML = '';\n",
              "          dataTable['output_type'] = 'display_data';\n",
              "          await google.colab.output.renderOutput(dataTable, element);\n",
              "          const docLink = document.createElement('div');\n",
              "          docLink.innerHTML = docLinkHtml;\n",
              "          element.appendChild(docLink);\n",
              "        }\n",
              "      </script>\n",
              "    </div>\n",
              "  </div>\n",
              "  "
            ]
          },
          "metadata": {},
          "execution_count": 14
        }
      ],
      "source": [
        "train_df.head(10)"
      ]
    },
    {
      "cell_type": "code",
      "execution_count": 15,
      "metadata": {
        "execution": {
          "iopub.execute_input": "2021-05-25T06:50:32.42892Z",
          "iopub.status.busy": "2021-05-25T06:50:32.42853Z",
          "iopub.status.idle": "2021-05-25T06:50:32.433555Z",
          "shell.execute_reply": "2021-05-25T06:50:32.432625Z",
          "shell.execute_reply.started": "2021-05-25T06:50:32.428889Z"
        },
        "id": "8WYF2H-zy75-"
      },
      "outputs": [],
      "source": [
        "train_df.reset_index(drop= True,inplace=True)"
      ]
    },
    {
      "cell_type": "code",
      "execution_count": 16,
      "metadata": {
        "execution": {
          "iopub.execute_input": "2021-05-25T06:50:32.435265Z",
          "iopub.status.busy": "2021-05-25T06:50:32.434781Z",
          "iopub.status.idle": "2021-05-25T06:50:32.454591Z",
          "shell.execute_reply": "2021-05-25T06:50:32.453613Z",
          "shell.execute_reply.started": "2021-05-25T06:50:32.435224Z"
        },
        "colab": {
          "base_uri": "https://localhost:8080/",
          "height": 363
        },
        "id": "02pITKkjy75-",
        "outputId": "ddcced42-b93b-4d5a-e7e1-0bdb6d45dfc9"
      },
      "outputs": [
        {
          "output_type": "execute_result",
          "data": {
            "text/plain": [
              "                                                text  label\n",
              "0  House Dem Aide: We Didn’t Even See Comey’s Let...      1\n",
              "1  Ever get the feeling your life circles the rou...      0\n",
              "2  Why the Truth Might Get You Fired October 29, ...      1\n",
              "3  Videos 15 Civilians Killed In Single US Airstr...      1\n",
              "4  Print \\nAn Iranian woman has been sentenced to...      1\n",
              "5  In these trying times, Jackie Mason is the Voi...      0\n",
              "6  Ever wonder how Britain’s most iconic pop pian...      1\n",
              "7  PARIS  —   France chose an idealistic, traditi...      0\n",
              "8  Donald J. Trump is scheduled to make a highly ...      0\n",
              "9  A week before Michael T. Flynn resigned as nat...      0"
            ],
            "text/html": [
              "\n",
              "  <div id=\"df-cc7749e1-7964-4325-ab3f-b9e1ae800c3a\">\n",
              "    <div class=\"colab-df-container\">\n",
              "      <div>\n",
              "<style scoped>\n",
              "    .dataframe tbody tr th:only-of-type {\n",
              "        vertical-align: middle;\n",
              "    }\n",
              "\n",
              "    .dataframe tbody tr th {\n",
              "        vertical-align: top;\n",
              "    }\n",
              "\n",
              "    .dataframe thead th {\n",
              "        text-align: right;\n",
              "    }\n",
              "</style>\n",
              "<table border=\"1\" class=\"dataframe\">\n",
              "  <thead>\n",
              "    <tr style=\"text-align: right;\">\n",
              "      <th></th>\n",
              "      <th>text</th>\n",
              "      <th>label</th>\n",
              "    </tr>\n",
              "  </thead>\n",
              "  <tbody>\n",
              "    <tr>\n",
              "      <th>0</th>\n",
              "      <td>House Dem Aide: We Didn’t Even See Comey’s Let...</td>\n",
              "      <td>1</td>\n",
              "    </tr>\n",
              "    <tr>\n",
              "      <th>1</th>\n",
              "      <td>Ever get the feeling your life circles the rou...</td>\n",
              "      <td>0</td>\n",
              "    </tr>\n",
              "    <tr>\n",
              "      <th>2</th>\n",
              "      <td>Why the Truth Might Get You Fired October 29, ...</td>\n",
              "      <td>1</td>\n",
              "    </tr>\n",
              "    <tr>\n",
              "      <th>3</th>\n",
              "      <td>Videos 15 Civilians Killed In Single US Airstr...</td>\n",
              "      <td>1</td>\n",
              "    </tr>\n",
              "    <tr>\n",
              "      <th>4</th>\n",
              "      <td>Print \\nAn Iranian woman has been sentenced to...</td>\n",
              "      <td>1</td>\n",
              "    </tr>\n",
              "    <tr>\n",
              "      <th>5</th>\n",
              "      <td>In these trying times, Jackie Mason is the Voi...</td>\n",
              "      <td>0</td>\n",
              "    </tr>\n",
              "    <tr>\n",
              "      <th>6</th>\n",
              "      <td>Ever wonder how Britain’s most iconic pop pian...</td>\n",
              "      <td>1</td>\n",
              "    </tr>\n",
              "    <tr>\n",
              "      <th>7</th>\n",
              "      <td>PARIS  —   France chose an idealistic, traditi...</td>\n",
              "      <td>0</td>\n",
              "    </tr>\n",
              "    <tr>\n",
              "      <th>8</th>\n",
              "      <td>Donald J. Trump is scheduled to make a highly ...</td>\n",
              "      <td>0</td>\n",
              "    </tr>\n",
              "    <tr>\n",
              "      <th>9</th>\n",
              "      <td>A week before Michael T. Flynn resigned as nat...</td>\n",
              "      <td>0</td>\n",
              "    </tr>\n",
              "  </tbody>\n",
              "</table>\n",
              "</div>\n",
              "      <button class=\"colab-df-convert\" onclick=\"convertToInteractive('df-cc7749e1-7964-4325-ab3f-b9e1ae800c3a')\"\n",
              "              title=\"Convert this dataframe to an interactive table.\"\n",
              "              style=\"display:none;\">\n",
              "        \n",
              "  <svg xmlns=\"http://www.w3.org/2000/svg\" height=\"24px\"viewBox=\"0 0 24 24\"\n",
              "       width=\"24px\">\n",
              "    <path d=\"M0 0h24v24H0V0z\" fill=\"none\"/>\n",
              "    <path d=\"M18.56 5.44l.94 2.06.94-2.06 2.06-.94-2.06-.94-.94-2.06-.94 2.06-2.06.94zm-11 1L8.5 8.5l.94-2.06 2.06-.94-2.06-.94L8.5 2.5l-.94 2.06-2.06.94zm10 10l.94 2.06.94-2.06 2.06-.94-2.06-.94-.94-2.06-.94 2.06-2.06.94z\"/><path d=\"M17.41 7.96l-1.37-1.37c-.4-.4-.92-.59-1.43-.59-.52 0-1.04.2-1.43.59L10.3 9.45l-7.72 7.72c-.78.78-.78 2.05 0 2.83L4 21.41c.39.39.9.59 1.41.59.51 0 1.02-.2 1.41-.59l7.78-7.78 2.81-2.81c.8-.78.8-2.07 0-2.86zM5.41 20L4 18.59l7.72-7.72 1.47 1.35L5.41 20z\"/>\n",
              "  </svg>\n",
              "      </button>\n",
              "      \n",
              "  <style>\n",
              "    .colab-df-container {\n",
              "      display:flex;\n",
              "      flex-wrap:wrap;\n",
              "      gap: 12px;\n",
              "    }\n",
              "\n",
              "    .colab-df-convert {\n",
              "      background-color: #E8F0FE;\n",
              "      border: none;\n",
              "      border-radius: 50%;\n",
              "      cursor: pointer;\n",
              "      display: none;\n",
              "      fill: #1967D2;\n",
              "      height: 32px;\n",
              "      padding: 0 0 0 0;\n",
              "      width: 32px;\n",
              "    }\n",
              "\n",
              "    .colab-df-convert:hover {\n",
              "      background-color: #E2EBFA;\n",
              "      box-shadow: 0px 1px 2px rgba(60, 64, 67, 0.3), 0px 1px 3px 1px rgba(60, 64, 67, 0.15);\n",
              "      fill: #174EA6;\n",
              "    }\n",
              "\n",
              "    [theme=dark] .colab-df-convert {\n",
              "      background-color: #3B4455;\n",
              "      fill: #D2E3FC;\n",
              "    }\n",
              "\n",
              "    [theme=dark] .colab-df-convert:hover {\n",
              "      background-color: #434B5C;\n",
              "      box-shadow: 0px 1px 3px 1px rgba(0, 0, 0, 0.15);\n",
              "      filter: drop-shadow(0px 1px 2px rgba(0, 0, 0, 0.3));\n",
              "      fill: #FFFFFF;\n",
              "    }\n",
              "  </style>\n",
              "\n",
              "      <script>\n",
              "        const buttonEl =\n",
              "          document.querySelector('#df-cc7749e1-7964-4325-ab3f-b9e1ae800c3a button.colab-df-convert');\n",
              "        buttonEl.style.display =\n",
              "          google.colab.kernel.accessAllowed ? 'block' : 'none';\n",
              "\n",
              "        async function convertToInteractive(key) {\n",
              "          const element = document.querySelector('#df-cc7749e1-7964-4325-ab3f-b9e1ae800c3a');\n",
              "          const dataTable =\n",
              "            await google.colab.kernel.invokeFunction('convertToInteractive',\n",
              "                                                     [key], {});\n",
              "          if (!dataTable) return;\n",
              "\n",
              "          const docLinkHtml = 'Like what you see? Visit the ' +\n",
              "            '<a target=\"_blank\" href=https://colab.research.google.com/notebooks/data_table.ipynb>data table notebook</a>'\n",
              "            + ' to learn more about interactive tables.';\n",
              "          element.innerHTML = '';\n",
              "          dataTable['output_type'] = 'display_data';\n",
              "          await google.colab.output.renderOutput(dataTable, element);\n",
              "          const docLink = document.createElement('div');\n",
              "          docLink.innerHTML = docLinkHtml;\n",
              "          element.appendChild(docLink);\n",
              "        }\n",
              "      </script>\n",
              "    </div>\n",
              "  </div>\n",
              "  "
            ]
          },
          "metadata": {},
          "execution_count": 16
        }
      ],
      "source": [
        "train_df.head(10)"
      ]
    },
    {
      "cell_type": "code",
      "execution_count": 17,
      "metadata": {
        "execution": {
          "iopub.execute_input": "2021-05-25T06:50:32.457112Z",
          "iopub.status.busy": "2021-05-25T06:50:32.45653Z",
          "iopub.status.idle": "2021-05-25T06:50:32.46346Z",
          "shell.execute_reply": "2021-05-25T06:50:32.461467Z",
          "shell.execute_reply.started": "2021-05-25T06:50:32.457067Z"
        },
        "id": "lM2SLswJy75-"
      },
      "outputs": [],
      "source": [
        "label_train = train_df.label"
      ]
    },
    {
      "cell_type": "code",
      "execution_count": 18,
      "metadata": {
        "execution": {
          "iopub.execute_input": "2021-05-25T06:50:32.46513Z",
          "iopub.status.busy": "2021-05-25T06:50:32.46484Z",
          "iopub.status.idle": "2021-05-25T06:50:32.479833Z",
          "shell.execute_reply": "2021-05-25T06:50:32.478601Z",
          "shell.execute_reply.started": "2021-05-25T06:50:32.465102Z"
        },
        "colab": {
          "base_uri": "https://localhost:8080/"
        },
        "id": "KO4ann92y75-",
        "outputId": "c0f82053-fd6f-457c-d3a9-9ae6d9fe42dd"
      },
      "outputs": [
        {
          "output_type": "execute_result",
          "data": {
            "text/plain": [
              "0    1\n",
              "1    0\n",
              "2    1\n",
              "3    1\n",
              "4    1\n",
              "5    0\n",
              "6    1\n",
              "7    0\n",
              "8    0\n",
              "9    0\n",
              "Name: label, dtype: int64"
            ]
          },
          "metadata": {},
          "execution_count": 18
        }
      ],
      "source": [
        "label_train.head(10)"
      ]
    },
    {
      "cell_type": "code",
      "execution_count": 19,
      "metadata": {
        "execution": {
          "iopub.execute_input": "2021-05-25T06:50:32.481757Z",
          "iopub.status.busy": "2021-05-25T06:50:32.481439Z",
          "iopub.status.idle": "2021-05-25T06:50:32.493571Z",
          "shell.execute_reply": "2021-05-25T06:50:32.492736Z",
          "shell.execute_reply.started": "2021-05-25T06:50:32.481728Z"
        },
        "id": "zO2Ui4xHy75-"
      },
      "outputs": [],
      "source": [
        "train_df = train_df.drop(\"label\", axis = 1)"
      ]
    },
    {
      "cell_type": "code",
      "execution_count": 20,
      "metadata": {
        "execution": {
          "iopub.execute_input": "2021-05-25T06:50:32.495566Z",
          "iopub.status.busy": "2021-05-25T06:50:32.495116Z",
          "iopub.status.idle": "2021-05-25T06:50:32.513957Z",
          "shell.execute_reply": "2021-05-25T06:50:32.51265Z",
          "shell.execute_reply.started": "2021-05-25T06:50:32.495526Z"
        },
        "colab": {
          "base_uri": "https://localhost:8080/",
          "height": 363
        },
        "id": "DBxbyidmy75-",
        "outputId": "65fb183b-a113-406d-d490-aa304bbc4c15"
      },
      "outputs": [
        {
          "output_type": "execute_result",
          "data": {
            "text/plain": [
              "                                                text\n",
              "0  House Dem Aide: We Didn’t Even See Comey’s Let...\n",
              "1  Ever get the feeling your life circles the rou...\n",
              "2  Why the Truth Might Get You Fired October 29, ...\n",
              "3  Videos 15 Civilians Killed In Single US Airstr...\n",
              "4  Print \\nAn Iranian woman has been sentenced to...\n",
              "5  In these trying times, Jackie Mason is the Voi...\n",
              "6  Ever wonder how Britain’s most iconic pop pian...\n",
              "7  PARIS  —   France chose an idealistic, traditi...\n",
              "8  Donald J. Trump is scheduled to make a highly ...\n",
              "9  A week before Michael T. Flynn resigned as nat..."
            ],
            "text/html": [
              "\n",
              "  <div id=\"df-c7aa185e-e21d-44fd-bbb4-1f5b5d97ad5d\">\n",
              "    <div class=\"colab-df-container\">\n",
              "      <div>\n",
              "<style scoped>\n",
              "    .dataframe tbody tr th:only-of-type {\n",
              "        vertical-align: middle;\n",
              "    }\n",
              "\n",
              "    .dataframe tbody tr th {\n",
              "        vertical-align: top;\n",
              "    }\n",
              "\n",
              "    .dataframe thead th {\n",
              "        text-align: right;\n",
              "    }\n",
              "</style>\n",
              "<table border=\"1\" class=\"dataframe\">\n",
              "  <thead>\n",
              "    <tr style=\"text-align: right;\">\n",
              "      <th></th>\n",
              "      <th>text</th>\n",
              "    </tr>\n",
              "  </thead>\n",
              "  <tbody>\n",
              "    <tr>\n",
              "      <th>0</th>\n",
              "      <td>House Dem Aide: We Didn’t Even See Comey’s Let...</td>\n",
              "    </tr>\n",
              "    <tr>\n",
              "      <th>1</th>\n",
              "      <td>Ever get the feeling your life circles the rou...</td>\n",
              "    </tr>\n",
              "    <tr>\n",
              "      <th>2</th>\n",
              "      <td>Why the Truth Might Get You Fired October 29, ...</td>\n",
              "    </tr>\n",
              "    <tr>\n",
              "      <th>3</th>\n",
              "      <td>Videos 15 Civilians Killed In Single US Airstr...</td>\n",
              "    </tr>\n",
              "    <tr>\n",
              "      <th>4</th>\n",
              "      <td>Print \\nAn Iranian woman has been sentenced to...</td>\n",
              "    </tr>\n",
              "    <tr>\n",
              "      <th>5</th>\n",
              "      <td>In these trying times, Jackie Mason is the Voi...</td>\n",
              "    </tr>\n",
              "    <tr>\n",
              "      <th>6</th>\n",
              "      <td>Ever wonder how Britain’s most iconic pop pian...</td>\n",
              "    </tr>\n",
              "    <tr>\n",
              "      <th>7</th>\n",
              "      <td>PARIS  —   France chose an idealistic, traditi...</td>\n",
              "    </tr>\n",
              "    <tr>\n",
              "      <th>8</th>\n",
              "      <td>Donald J. Trump is scheduled to make a highly ...</td>\n",
              "    </tr>\n",
              "    <tr>\n",
              "      <th>9</th>\n",
              "      <td>A week before Michael T. Flynn resigned as nat...</td>\n",
              "    </tr>\n",
              "  </tbody>\n",
              "</table>\n",
              "</div>\n",
              "      <button class=\"colab-df-convert\" onclick=\"convertToInteractive('df-c7aa185e-e21d-44fd-bbb4-1f5b5d97ad5d')\"\n",
              "              title=\"Convert this dataframe to an interactive table.\"\n",
              "              style=\"display:none;\">\n",
              "        \n",
              "  <svg xmlns=\"http://www.w3.org/2000/svg\" height=\"24px\"viewBox=\"0 0 24 24\"\n",
              "       width=\"24px\">\n",
              "    <path d=\"M0 0h24v24H0V0z\" fill=\"none\"/>\n",
              "    <path d=\"M18.56 5.44l.94 2.06.94-2.06 2.06-.94-2.06-.94-.94-2.06-.94 2.06-2.06.94zm-11 1L8.5 8.5l.94-2.06 2.06-.94-2.06-.94L8.5 2.5l-.94 2.06-2.06.94zm10 10l.94 2.06.94-2.06 2.06-.94-2.06-.94-.94-2.06-.94 2.06-2.06.94z\"/><path d=\"M17.41 7.96l-1.37-1.37c-.4-.4-.92-.59-1.43-.59-.52 0-1.04.2-1.43.59L10.3 9.45l-7.72 7.72c-.78.78-.78 2.05 0 2.83L4 21.41c.39.39.9.59 1.41.59.51 0 1.02-.2 1.41-.59l7.78-7.78 2.81-2.81c.8-.78.8-2.07 0-2.86zM5.41 20L4 18.59l7.72-7.72 1.47 1.35L5.41 20z\"/>\n",
              "  </svg>\n",
              "      </button>\n",
              "      \n",
              "  <style>\n",
              "    .colab-df-container {\n",
              "      display:flex;\n",
              "      flex-wrap:wrap;\n",
              "      gap: 12px;\n",
              "    }\n",
              "\n",
              "    .colab-df-convert {\n",
              "      background-color: #E8F0FE;\n",
              "      border: none;\n",
              "      border-radius: 50%;\n",
              "      cursor: pointer;\n",
              "      display: none;\n",
              "      fill: #1967D2;\n",
              "      height: 32px;\n",
              "      padding: 0 0 0 0;\n",
              "      width: 32px;\n",
              "    }\n",
              "\n",
              "    .colab-df-convert:hover {\n",
              "      background-color: #E2EBFA;\n",
              "      box-shadow: 0px 1px 2px rgba(60, 64, 67, 0.3), 0px 1px 3px 1px rgba(60, 64, 67, 0.15);\n",
              "      fill: #174EA6;\n",
              "    }\n",
              "\n",
              "    [theme=dark] .colab-df-convert {\n",
              "      background-color: #3B4455;\n",
              "      fill: #D2E3FC;\n",
              "    }\n",
              "\n",
              "    [theme=dark] .colab-df-convert:hover {\n",
              "      background-color: #434B5C;\n",
              "      box-shadow: 0px 1px 3px 1px rgba(0, 0, 0, 0.15);\n",
              "      filter: drop-shadow(0px 1px 2px rgba(0, 0, 0, 0.3));\n",
              "      fill: #FFFFFF;\n",
              "    }\n",
              "  </style>\n",
              "\n",
              "      <script>\n",
              "        const buttonEl =\n",
              "          document.querySelector('#df-c7aa185e-e21d-44fd-bbb4-1f5b5d97ad5d button.colab-df-convert');\n",
              "        buttonEl.style.display =\n",
              "          google.colab.kernel.accessAllowed ? 'block' : 'none';\n",
              "\n",
              "        async function convertToInteractive(key) {\n",
              "          const element = document.querySelector('#df-c7aa185e-e21d-44fd-bbb4-1f5b5d97ad5d');\n",
              "          const dataTable =\n",
              "            await google.colab.kernel.invokeFunction('convertToInteractive',\n",
              "                                                     [key], {});\n",
              "          if (!dataTable) return;\n",
              "\n",
              "          const docLinkHtml = 'Like what you see? Visit the ' +\n",
              "            '<a target=\"_blank\" href=https://colab.research.google.com/notebooks/data_table.ipynb>data table notebook</a>'\n",
              "            + ' to learn more about interactive tables.';\n",
              "          element.innerHTML = '';\n",
              "          dataTable['output_type'] = 'display_data';\n",
              "          await google.colab.output.renderOutput(dataTable, element);\n",
              "          const docLink = document.createElement('div');\n",
              "          docLink.innerHTML = docLinkHtml;\n",
              "          element.appendChild(docLink);\n",
              "        }\n",
              "      </script>\n",
              "    </div>\n",
              "  </div>\n",
              "  "
            ]
          },
          "metadata": {},
          "execution_count": 20
        }
      ],
      "source": [
        "train_df.head(10)"
      ]
    },
    {
      "cell_type": "code",
      "execution_count": 21,
      "metadata": {
        "colab": {
          "base_uri": "https://localhost:8080/",
          "height": 261
        },
        "id": "z3iqMhMby75_",
        "outputId": "065249f0-fa2a-4cb9-ffee-27f10c0e4eeb"
      },
      "outputs": [
        {
          "output_type": "execute_result",
          "data": {
            "text/plain": [
              "'\\nThis article was written by John Vibes and originally published at Activist Post.com . \\nEditor’s Comment: On the surface, there are good intentions here. The Bushes, like other patriotic establishment figures, always honor the troops, and count the sacrifices. Typically, they are stoic and praiseworthy of everything the military does. But underneath the surface, one has to wonder what is really going on inside the disturbed mind of George W. Bush – whose orders for an illegal war in Iraq, and a broader War on Terror in Afghanistan and elsewhere resulted in the deaths of thousands of U.S. troops, tens of thousands of wounded or injured and potentially more than a million civilians dead. \\nDoes he feel remorse? Guilt? Has he admitted to his personal responsibility for what happened to their lives? Or do his paintings reveal a morbid sense of power over the lives of men and women whom he can only reflect upon and humanize after the fact? Considering that the Iraq war was based upon a provable lie – or false intelligence if you prefer to lie to yourself – something seems very off about honoring victims who wouldn’t have been harmed if Bush himself hadn’t authorized the actions that took place under his watch. \\nGeorge W. Bush Paints Portraits Of The Veterans Who Were “Injured Carrying Out My Orders” \\nby John Vibes\\nThis Veterans Day, former president George W. Bush revealed one of his favorite hobbies and talents, painting portraits. However, there was an extremely disturbing twist.\\nThis week, Bush posted a photo to his official Instagram account, showing himself in an art room painting portraits of the veterans who were injured carrying out his orders. He was even brazen enough to describe the situation in those exact words.\\nIn the caption below the photo, Bush said,\\nOver the past several months, I’ve painted the portraits of 98 wounded warriors I’ve gotten to know – remarkable men and women who were injured carrying out my orders. I think about them on #VeteransDay and every day. Their paintings and stories will be featured in PORTRAITS OF COURAGE – a book and special exhibit – next spring, and I am donating all my proceeds to @thebushcenter and our Military Service Initiative’s work to honor and support them. Click link in bio for more info.\\nIs this a slap in the face to the veterans who Bush sent to be injured and die in senseless wars, or does he actually have remorse for the part he played in the conflicts?\\nThe portraits will also be featured in a book that will be released by the former president and will tell the stories of the veterans depicted in the paintings.\\nFor some reason, despite the fact that Bush said he painted 98 veterans, the official “portraits of courage” series consists of a total of 66 images, according to the website. \\n66 is a bit of a strange number for them to select, don’t you think?\\nThe paintings in the book will be the subject of a special exhibit at the George W. Bush Presidential Center in Dallas on the campus of SMU that will be open to the public from March 2, 2017 through October 1, 2017.\\nThis article was written by John Vibes and originally published at Activist Post.com . \\nJohn Vibes is an author and researcher who organizes a number of large events including the Free Your Mind Conference . He also has a publishing company where he offers a censorship free platform for both fiction and non-fiction writers. You can contact him and stay connected to his work at his Facebook page. John is currently battling cancer naturally , without any chemo or radiation, and will be working to help others through his experience, if you wish to contribute to his treatments please donate. '"
            ],
            "application/vnd.google.colaboratory.intrinsic+json": {
              "type": "string"
            }
          },
          "metadata": {},
          "execution_count": 21
        }
      ],
      "source": [
        "train_df['text'][2188]"
      ]
    },
    {
      "cell_type": "code",
      "execution_count": 22,
      "metadata": {
        "execution": {
          "iopub.execute_input": "2021-05-25T06:50:32.51602Z",
          "iopub.status.busy": "2021-05-25T06:50:32.515411Z",
          "iopub.status.idle": "2021-05-25T06:50:32.531829Z",
          "shell.execute_reply": "2021-05-25T06:50:32.530895Z",
          "shell.execute_reply.started": "2021-05-25T06:50:32.515972Z"
        },
        "id": "5-O1mt49y75_"
      },
      "outputs": [],
      "source": [
        "lemmatizer = WordNetLemmatizer()\n",
        "# stpwrds = list(stopwords.words('english'))"
      ]
    },
    {
      "cell_type": "code",
      "execution_count": 23,
      "metadata": {
        "id": "gRRmDkQky75_"
      },
      "outputs": [],
      "source": [
        "# stopwords"
      ]
    },
    {
      "cell_type": "code",
      "execution_count": 24,
      "metadata": {
        "execution": {
          "iopub.execute_input": "2021-05-25T06:50:32.54905Z",
          "iopub.status.busy": "2021-05-25T06:50:32.548517Z",
          "iopub.status.idle": "2021-05-25T06:53:51.648153Z",
          "shell.execute_reply": "2021-05-25T06:53:51.647283Z",
          "shell.execute_reply.started": "2021-05-25T06:50:32.549015Z"
        },
        "id": "18xZsH59y75_"
      },
      "outputs": [],
      "source": [
        "for x in range(len(train_df)) :\n",
        "    corpus = []\n",
        "    review = train_df['text'][x]\n",
        "    review = re.sub(r'[^a-zA-Z\\s]', '', review)\n",
        "    review = review.lower()\n",
        "    review = nltk.word_tokenize(review)\n",
        "    for y in review :\n",
        "        if y not in nltk.corpus.stopwords.words(\"english\") :\n",
        "            corpus.append(lemmatizer.lemmatize(y))\n",
        "    review = ' '.join(corpus)\n",
        "    train_df['text'][x] = review"
      ]
    },
    {
      "cell_type": "code",
      "execution_count": 25,
      "metadata": {
        "execution": {
          "iopub.execute_input": "2021-05-25T07:14:51.798724Z",
          "iopub.status.busy": "2021-05-25T07:14:51.798361Z",
          "iopub.status.idle": "2021-05-25T07:14:51.805617Z",
          "shell.execute_reply": "2021-05-25T07:14:51.804946Z",
          "shell.execute_reply.started": "2021-05-25T07:14:51.798694Z"
        },
        "scrolled": true,
        "colab": {
          "base_uri": "https://localhost:8080/",
          "height": 261
        },
        "id": "LxK-6frsy75_",
        "outputId": "1cb2bcdf-cb12-4263-893b-dfb0d629bebc"
      },
      "outputs": [
        {
          "output_type": "execute_result",
          "data": {
            "text/plain": [
              "'comment actor steven seagal stood america rest hollywood remains silent week rough country first democratic nominee hillary clinton collapsed memorial called million hardworking american deplorable werent enough nfl player throughout country blatantly disrespecting american flag needle say seagal enough think important job secretary state ensuring people dont get killed seagal tweeted cant email protected pneumonia going disastrous american people notohillary continued course seagal quickly became target liberal fire comment refused break particularly lost one twitter user tried argued hillary capable presidency capable capable leaving american die capable disregarding law capable disrespecting rape survivor argued went address race relation united state true role president barack obama played social evolution country obama abysmal race relation usa truth need start honest dialog wrote seagal concluded pointing irony attack receiving liberal everywhere best thing worldmaking one statement freedom getting attacked every demo hypocritical tweeted america without democrat white house safer america think seagals comment'"
            ],
            "application/vnd.google.colaboratory.intrinsic+json": {
              "type": "string"
            }
          },
          "metadata": {},
          "execution_count": 25
        }
      ],
      "source": [
        "train_df['text'][2182]"
      ]
    },
    {
      "cell_type": "code",
      "execution_count": 26,
      "metadata": {
        "execution": {
          "iopub.execute_input": "2021-05-25T07:16:37.152728Z",
          "iopub.status.busy": "2021-05-25T07:16:37.152216Z",
          "iopub.status.idle": "2021-05-25T07:16:37.163059Z",
          "shell.execute_reply": "2021-05-25T07:16:37.161884Z",
          "shell.execute_reply.started": "2021-05-25T07:16:37.152696Z"
        },
        "id": "TYaCjCmay75_"
      },
      "outputs": [],
      "source": [
        "X_train, X_test, Y_train, Y_test = train_test_split(train_df['text'], label_train, test_size=0.3, random_state=1)"
      ]
    },
    {
      "cell_type": "code",
      "execution_count": 27,
      "metadata": {
        "scrolled": true,
        "colab": {
          "base_uri": "https://localhost:8080/"
        },
        "id": "UBDt0v3oy75_",
        "outputId": "bb931526-0191-43dc-86d9-aeee3a4cbc3d"
      },
      "outputs": [
        {
          "output_type": "execute_result",
          "data": {
            "text/plain": [
              "10140    comment fox news star megyn kelly finally reve...\n",
              "11508    written daniel mcadams told attack iraq saddam...\n",
              "4035     u representative california introduced bill bl...\n",
              "4528     paris salah abdeslam thought direct participan...\n",
              "2608     photo jorge lascar photo great wall china vasi...\n",
              "                               ...                        \n",
              "10955    daily caller progress unity found progress uni...\n",
              "17289    archie elam third career transition living sta...\n",
              "5192     philadelphia sometimes exhibition planned year...\n",
              "12172    here something interesting unz review recipien...\n",
              "235      changing montenegrin leader change ideology so...\n",
              "Name: text, Length: 14532, dtype: object"
            ]
          },
          "metadata": {},
          "execution_count": 27
        }
      ],
      "source": [
        "X_train"
      ]
    },
    {
      "cell_type": "code",
      "execution_count": 28,
      "metadata": {
        "execution": {
          "iopub.execute_input": "2021-05-25T07:17:50.592597Z",
          "iopub.status.busy": "2021-05-25T07:17:50.592095Z",
          "iopub.status.idle": "2021-05-25T07:17:50.598862Z",
          "shell.execute_reply": "2021-05-25T07:17:50.597641Z",
          "shell.execute_reply.started": "2021-05-25T07:17:50.592566Z"
        },
        "colab": {
          "base_uri": "https://localhost:8080/"
        },
        "id": "q6pyrGiay76A",
        "outputId": "91e2bf05-5184-4305-80e9-49670f863a38"
      },
      "outputs": [
        {
          "output_type": "execute_result",
          "data": {
            "text/plain": [
              "(14532,)"
            ]
          },
          "metadata": {},
          "execution_count": 28
        }
      ],
      "source": [
        "X_train.shape"
      ]
    },
    {
      "cell_type": "code",
      "execution_count": 29,
      "metadata": {
        "execution": {
          "iopub.execute_input": "2021-05-25T07:18:05.89317Z",
          "iopub.status.busy": "2021-05-25T07:18:05.892651Z",
          "iopub.status.idle": "2021-05-25T07:18:05.902743Z",
          "shell.execute_reply": "2021-05-25T07:18:05.901523Z",
          "shell.execute_reply.started": "2021-05-25T07:18:05.893127Z"
        },
        "colab": {
          "base_uri": "https://localhost:8080/"
        },
        "id": "NGqlTma6y76A",
        "outputId": "e1be0b47-4ad2-41c2-8159-24b056377bc2"
      },
      "outputs": [
        {
          "output_type": "execute_result",
          "data": {
            "text/plain": [
              "10140    1\n",
              "11508    1\n",
              "4035     0\n",
              "4528     0\n",
              "2608     1\n",
              "        ..\n",
              "10955    1\n",
              "17289    0\n",
              "5192     0\n",
              "12172    1\n",
              "235      1\n",
              "Name: label, Length: 14532, dtype: int64"
            ]
          },
          "metadata": {},
          "execution_count": 29
        }
      ],
      "source": [
        "Y_train"
      ]
    },
    {
      "cell_type": "code",
      "execution_count": 30,
      "metadata": {
        "execution": {
          "iopub.execute_input": "2021-05-25T07:18:10.901469Z",
          "iopub.status.busy": "2021-05-25T07:18:10.901136Z",
          "iopub.status.idle": "2021-05-25T07:18:22.003384Z",
          "shell.execute_reply": "2021-05-25T07:18:22.002314Z",
          "shell.execute_reply.started": "2021-05-25T07:18:10.90144Z"
        },
        "id": "kHcJsFPqy76A"
      },
      "outputs": [],
      "source": [
        "tfidf_v = TfidfVectorizer()\n",
        "tfidf_X_train = tfidf_v.fit_transform(X_train)\n",
        "tfidf_X_test = tfidf_v.transform(X_test)"
      ]
    },
    {
      "cell_type": "code",
      "execution_count": 31,
      "metadata": {
        "execution": {
          "iopub.execute_input": "2021-05-25T07:18:24.321674Z",
          "iopub.status.busy": "2021-05-25T07:18:24.321329Z",
          "iopub.status.idle": "2021-05-25T07:18:24.327063Z",
          "shell.execute_reply": "2021-05-25T07:18:24.325975Z",
          "shell.execute_reply.started": "2021-05-25T07:18:24.321644Z"
        },
        "colab": {
          "base_uri": "https://localhost:8080/"
        },
        "id": "IuXFtoKLy76A",
        "outputId": "84c71cf9-c297-4950-f829-d5501aa2c08b"
      },
      "outputs": [
        {
          "output_type": "execute_result",
          "data": {
            "text/plain": [
              "(14532, 137427)"
            ]
          },
          "metadata": {},
          "execution_count": 31
        }
      ],
      "source": [
        "tfidf_X_train.shape"
      ]
    },
    {
      "cell_type": "code",
      "execution_count": 32,
      "metadata": {
        "execution": {
          "iopub.execute_input": "2021-05-25T07:18:31.418929Z",
          "iopub.status.busy": "2021-05-25T07:18:31.418573Z",
          "iopub.status.idle": "2021-05-25T07:18:31.427535Z",
          "shell.execute_reply": "2021-05-25T07:18:31.426865Z",
          "shell.execute_reply.started": "2021-05-25T07:18:31.418889Z"
        },
        "id": "qbPcwZ5Fy76A"
      },
      "outputs": [],
      "source": [
        "def plot_confusion_matrix(cm, classes,\n",
        "                          normalize=False,\n",
        "                          title='Confusion matrix',\n",
        "                          cmap=plt.cm.Blues):\n",
        "    \n",
        "    plt.imshow(cm, interpolation='nearest', cmap=cmap)\n",
        "    plt.title(title)\n",
        "    plt.colorbar()\n",
        "    tick_marks = np.arange(len(classes))\n",
        "    plt.xticks(tick_marks, classes, rotation=45)\n",
        "    plt.yticks(tick_marks, classes)\n",
        "\n",
        "    if normalize:\n",
        "        cm = cm.astype('float') / cm.sum(axis=1)[:, np.newaxis]\n",
        "        print(\"Normalized confusion matrix\")\n",
        "    else:\n",
        "        print('Confusion matrix, without normalization')\n",
        "\n",
        "    thresh = cm.max() / 2.\n",
        "    for i, j in itertools.product(range(cm.shape[0]), range(cm.shape[1])):\n",
        "        plt.text(j, i, cm[i, j],\n",
        "                 horizontalalignment=\"center\",\n",
        "                 color=\"white\" if cm[i, j] > thresh else \"black\")\n",
        "\n",
        "    plt.tight_layout()\n",
        "    plt.ylabel('True label')\n",
        "    plt.xlabel('Predicted label')"
      ]
    },
    {
      "cell_type": "code",
      "execution_count": 33,
      "metadata": {
        "execution": {
          "iopub.execute_input": "2021-05-25T07:18:36.942583Z",
          "iopub.status.busy": "2021-05-25T07:18:36.942Z",
          "iopub.status.idle": "2021-05-25T07:18:37.23373Z",
          "shell.execute_reply": "2021-05-25T07:18:37.233Z",
          "shell.execute_reply.started": "2021-05-25T07:18:36.942549Z"
        },
        "colab": {
          "base_uri": "https://localhost:8080/"
        },
        "id": "V7uYfA9Dy76A",
        "outputId": "49e24c1c-250f-40d4-de80-9238723f8b0f"
      },
      "outputs": [
        {
          "output_type": "execute_result",
          "data": {
            "text/plain": [
              "PassiveAggressiveClassifier()"
            ]
          },
          "metadata": {},
          "execution_count": 33
        }
      ],
      "source": [
        "classifier = PassiveAggressiveClassifier()\n",
        "classifier.fit(tfidf_X_train,Y_train)"
      ]
    },
    {
      "cell_type": "code",
      "execution_count": 34,
      "metadata": {
        "execution": {
          "iopub.execute_input": "2021-05-25T07:18:41.422338Z",
          "iopub.status.busy": "2021-05-25T07:18:41.421887Z",
          "iopub.status.idle": "2021-05-25T07:18:41.673492Z",
          "shell.execute_reply": "2021-05-25T07:18:41.672498Z",
          "shell.execute_reply.started": "2021-05-25T07:18:41.422308Z"
        },
        "colab": {
          "base_uri": "https://localhost:8080/",
          "height": 346
        },
        "id": "wmqj4G1ry76A",
        "outputId": "bd948a9f-c07f-493c-9b14-01ca045e4d61"
      },
      "outputs": [
        {
          "output_type": "stream",
          "name": "stdout",
          "text": [
            "Accuracy: 95.62%\n",
            "Confusion matrix, without normalization\n"
          ]
        },
        {
          "output_type": "display_data",
          "data": {
            "text/plain": [
              "<Figure size 432x288 with 2 Axes>"
            ],
            "image/png": "[encoded data removed]"
          },
          "metadata": {
            "needs_background": "light"
          }
        }
      ],
      "source": [
        "Y_pred = classifier.predict(tfidf_X_test)\n",
        "score = metrics.accuracy_score(Y_test, Y_pred)\n",
        "print(f'Accuracy: {round(score*100,2)}%')\n",
        "cm = metrics.confusion_matrix(Y_test, Y_pred)\n",
        "plot_confusion_matrix(cm, classes=['FAKE Data', 'REAL Data'])"
      ]
    },
    {
      "cell_type": "code",
      "execution_count": 35,
      "metadata": {
        "execution": {
          "iopub.execute_input": "2021-05-25T07:47:25.718988Z",
          "iopub.status.busy": "2021-05-25T07:47:25.718614Z",
          "iopub.status.idle": "2021-05-25T07:47:25.723756Z",
          "shell.execute_reply": "2021-05-25T07:47:25.722952Z",
          "shell.execute_reply.started": "2021-05-25T07:47:25.718959Z"
        },
        "id": "Ijljp8dwy76B"
      },
      "outputs": [],
      "source": [
        "import bz2\n",
        "ofile = bz2.BZ2File('./model.pkl','wb')\n",
        "pickle.dump(classifier,ofile)\n",
        "ofile.close()"
      ]
    },
    {
      "cell_type": "code",
      "execution_count": 36,
      "metadata": {
        "execution": {
          "iopub.execute_input": "2021-05-25T07:47:30.821844Z",
          "iopub.status.busy": "2021-05-25T07:47:30.821333Z",
          "iopub.status.idle": "2021-05-25T07:47:30.825935Z",
          "shell.execute_reply": "2021-05-25T07:47:30.824983Z",
          "shell.execute_reply.started": "2021-05-25T07:47:30.821811Z"
        },
        "id": "CJQe--IIy76B"
      },
      "outputs": [],
      "source": [
        "ifile = bz2.BZ2File('./model.pkl','rb')\n",
        "loaded_model = pickle.load(ifile)\n",
        "ifile.close()\n",
        "\n",
        "# load the model from disk\n",
        "# loaded_model = pickle.load(open('./model.pkl', 'rb'))"
      ]
    },
    {
      "cell_type": "code",
      "execution_count": 37,
      "metadata": {
        "execution": {
          "iopub.execute_input": "2021-05-25T08:03:34.889218Z",
          "iopub.status.busy": "2021-05-25T08:03:34.888860Z",
          "iopub.status.idle": "2021-05-25T08:03:34.895792Z",
          "shell.execute_reply": "2021-05-25T08:03:34.894703Z",
          "shell.execute_reply.started": "2021-05-25T08:03:34.889189Z"
        },
        "id": "P9Sc8UKxy76B"
      },
      "outputs": [],
      "source": [
        "def fake_news_det(news):\n",
        "    review = news\n",
        "    review = re.sub(r'[^a-zA-Z\\s]', '', review)\n",
        "    review = review.lower()\n",
        "    review = nltk.word_tokenize(review)\n",
        "    for y in review :\n",
        "        if y not in stpwrds :\n",
        "            corpus.append(lemmatizer.lemmatize(y))     \n",
        "    input_data = [' '.join(corpus)]\n",
        "    vectorized_input_data = tfidf_v.transform(input_data)\n",
        "    prediction = loaded_model.predict(vectorized_input_data)\n",
        "    if prediction[0] == 0:\n",
        "        print(\"Prediction of the News :  Looking Fake⚠ News📰 \")\n",
        "    else:\n",
        "        print(\"Prediction of the News : Looking Real News📰 \")"
      ]
    },
    {
      "cell_type": "code",
      "execution_count": 37,
      "metadata": {
        "id": "nMtbrtj_y76B"
      },
      "outputs": [],
      "source": [
        ""
      ]
    }
  ],
  "metadata": {
    "kernelspec": {
      "display_name": "Python 3",
      "language": "python",
      "name": "python3"
    },
    "language_info": {
      "codemirror_mode": {
        "name": "ipython",
        "version": 3
      },
      "file_extension": ".py",
      "mimetype": "text/x-python",
      "name": "python",
      "nbconvert_exporter": "python",
      "pygments_lexer": "ipython3",
      "version": "3.8.5"
    },
    "colab": {
      "name": "fakenews.ipynb",
      "provenance": [],
      "machine_shape": "hm"
    },
    "accelerator": "GPU",
    "gpuClass": "standard"
  },
  "nbformat": 4,
  "nbformat_minor": 0
}