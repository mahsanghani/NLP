{
  "nbformat": 4,
  "nbformat_minor": 0,
  "metadata": {
    "colab": {
      "name": "routes.ipynb",
      "provenance": []
    },
    "kernelspec": {
      "name": "python3",
      "display_name": "Python 3"
    },
    "language_info": {
      "name": "python"
    }
  },
  "cells": [
    {
      "cell_type": "code",
      "source": [
        "# import datasets directly from kaggle via API token\n",
        "!mkdir ~/.kaggle\n",
        "!touch ~/.kaggle/kaggle.json\n",
        "\n",
        "api_token = {\"username\":\"ahsang\",\"key\":\"d3ebeb853bab50eb612332b10793b9a7\"}\n",
        "\n",
        "import json\n",
        "\n",
        "with open('/root/.kaggle/kaggle.json', 'w') as file:\n",
        "    json.dump(api_token, file)\n",
        "\n",
        "!chmod 600 ~/.kaggle/kaggle.json"
      ],
      "metadata": {
        "id": "mqRY5ncfPLE_"
      },
      "execution_count": 1,
      "outputs": []
    },
    {
      "cell_type": "code",
      "source": [
        "!kaggle datasets download -d open-flights/airline-database\n",
        "!kaggle datasets download -d open-flights/flight-route-database\n",
        "!kaggle datasets download -d thoudamyoihenba/airports\n",
        "!kaggle datasets download -d rusiano/european-airports-iata-codes"
      ],
      "metadata": {
        "id": "k-pKmWVXPK90",
        "colab": {
          "base_uri": "https://localhost:8080/"
        },
        "outputId": "4c97d06a-8137-42fc-abc9-2c17891d4ab5"
      },
      "execution_count": 2,
      "outputs": [
        {
          "output_type": "stream",
          "name": "stdout",
          "text": [
            "Downloading airline-database.zip to /content\n",
            "\r  0% 0.00/120k [00:00<?, ?B/s]\n",
            "100% 120k/120k [00:00<00:00, 44.7MB/s]\n",
            "Downloading flight-route-database.zip to /content\n",
            "  0% 0.00/375k [00:00<?, ?B/s]\n",
            "100% 375k/375k [00:00<00:00, 74.4MB/s]\n",
            "Downloading airports.zip to /content\n",
            "  0% 0.00/303k [00:00<?, ?B/s]\n",
            "100% 303k/303k [00:00<00:00, 62.5MB/s]\n",
            "Downloading european-airports-iata-codes.zip to /content\n",
            "  0% 0.00/6.49k [00:00<?, ?B/s]\n",
            "100% 6.49k/6.49k [00:00<00:00, 4.52MB/s]\n"
          ]
        }
      ]
    },
    {
      "cell_type": "markdown",
      "source": [
        "### Challenges\n",
        "Initially, the NavBlue provided datasets were missing column headers so the same datasets were fetched from Kaggle with an API key.\n",
        "\n",
        "The Kaggle approach didn't work because the airport dataset online is missing 2 fields such as Type and Source which are included in the NavBlue dataset.\n",
        "\n",
        "Hence, the NavBlue datasets were ammended to include column headers with the schema provided. We will now incorporate one extra reference dataset for European Airport IATA codes.\n",
        "\n",
        "### Problem Statement\n",
        "\n",
        "We will evaluate the following statistics with respect to Ryanair's share of the European aviation market:\n",
        "1.   connections\n",
        "    - number\n",
        "2.   airports\n",
        "    -   number\n",
        "    -   percentage\n",
        "3.   routes\n",
        "    -   number\n",
        "    -   shared\n",
        "    -   exclusive\n",
        "\n"
      ],
      "metadata": {
        "id": "tw_sYOVLU_QK"
      }
    },
    {
      "cell_type": "code",
      "execution_count": 3,
      "metadata": {
        "colab": {
          "base_uri": "https://localhost:8080/"
        },
        "id": "RnB1hrftPJqU",
        "outputId": "bc0632a6-3beb-42d6-c50e-5ed92c47002b"
      },
      "outputs": [
        {
          "output_type": "stream",
          "name": "stdout",
          "text": [
            "Mounted at /content/drive\n"
          ]
        }
      ],
      "source": [
        "# import csv from google drive\n",
        "from google.colab import drive\n",
        "drive.mount('/content/drive')\n",
        "# error datasets missing headers"
      ]
    },
    {
      "cell_type": "code",
      "source": [
        "import numpy as np\n",
        "import pandas as pd\n",
        "\n",
        "from google.colab import drive\n",
        "drive.mount('/content/drive')\n",
        "\n",
        "import os\n",
        "for dirname, _, filenames in os.walk('/content/drive/MyDrive/Kaggle/Airlines'):\n",
        "    for filename in filenames:\n",
        "        print(os.path.join(dirname, filename))"
      ],
      "metadata": {
        "id": "0gwrUowoYqJl",
        "colab": {
          "base_uri": "https://localhost:8080/"
        },
        "outputId": "ab4c58ca-da4d-46bd-80fe-148f11725bcf"
      },
      "execution_count": 4,
      "outputs": [
        {
          "output_type": "stream",
          "name": "stdout",
          "text": [
            "Drive already mounted at /content/drive; to attempt to forcibly remount, call drive.mount(\"/content/drive\", force_remount=True).\n",
            "/content/drive/MyDrive/Kaggle/Airlines/european_iatas_df.csv\n",
            "/content/drive/MyDrive/Kaggle/Airlines/airlines.csv\n",
            "/content/drive/MyDrive/Kaggle/Airlines/airports.csv\n",
            "/content/drive/MyDrive/Kaggle/Airlines/routes.csv\n"
          ]
        }
      ]
    },
    {
      "cell_type": "code",
      "source": [
        "airlines_df = (\n",
        "    pd.read_csv('/content/drive/MyDrive/Kaggle/Airlines/airlines.csv', \n",
        "                header=None, names=['id','name','alias','iata','icao','callsign','country','active'],\n",
        "                na_values=['\\\\N', '-', 'NAN', 'unknown'])\n",
        "    .rename(columns=str.lower)\n",
        "    .rename(columns=lambda col: '_'.join(col.split()))\n",
        "    .assign(airline_id=lambda df: df.id.map(str))\n",
        ")\n",
        "\n",
        "airlines_df.head()"
      ],
      "metadata": {
        "colab": {
          "base_uri": "https://localhost:8080/",
          "height": 354
        },
        "id": "BngQJ7DQU_Ha",
        "outputId": "10a7a6e7-4695-4b5d-b9ad-69815cec3c73"
      },
      "execution_count": 5,
      "outputs": [
        {
          "output_type": "execute_result",
          "data": {
            "text/plain": [
              "   id                                          name alias iata icao callsign  \\\n",
              "0  -1                                       Unknown   NaN  NaN  NaN      NaN   \n",
              "1   1                                Private flight   NaN  NaN  NaN      NaN   \n",
              "2   2                                   135 Airways   NaN  NaN  GNL  GENERAL   \n",
              "3   3                                 1Time Airline   NaN   1T  RNX  NEXTIME   \n",
              "4   4  2 Sqn No 1 Elementary Flying Training School   NaN  NaN  WYT      NaN   \n",
              "\n",
              "          country active airline_id  \n",
              "0             NaN      Y         -1  \n",
              "1             NaN      Y          1  \n",
              "2   United States      N          2  \n",
              "3    South Africa      Y          3  \n",
              "4  United Kingdom      N          4  "
            ],
            "text/html": [
              "\n",
              "  <div id=\"df-be0544c5-76ae-41a2-8108-f5e9cd82be3a\">\n",
              "    <div class=\"colab-df-container\">\n",
              "      <div>\n",
              "<style scoped>\n",
              "    .dataframe tbody tr th:only-of-type {\n",
              "        vertical-align: middle;\n",
              "    }\n",
              "\n",
              "    .dataframe tbody tr th {\n",
              "        vertical-align: top;\n",
              "    }\n",
              "\n",
              "    .dataframe thead th {\n",
              "        text-align: right;\n",
              "    }\n",
              "</style>\n",
              "<table border=\"1\" class=\"dataframe\">\n",
              "  <thead>\n",
              "    <tr style=\"text-align: right;\">\n",
              "      <th></th>\n",
              "      <th>id</th>\n",
              "      <th>name</th>\n",
              "      <th>alias</th>\n",
              "      <th>iata</th>\n",
              "      <th>icao</th>\n",
              "      <th>callsign</th>\n",
              "      <th>country</th>\n",
              "      <th>active</th>\n",
              "      <th>airline_id</th>\n",
              "    </tr>\n",
              "  </thead>\n",
              "  <tbody>\n",
              "    <tr>\n",
              "      <th>0</th>\n",
              "      <td>-1</td>\n",
              "      <td>Unknown</td>\n",
              "      <td>NaN</td>\n",
              "      <td>NaN</td>\n",
              "      <td>NaN</td>\n",
              "      <td>NaN</td>\n",
              "      <td>NaN</td>\n",
              "      <td>Y</td>\n",
              "      <td>-1</td>\n",
              "    </tr>\n",
              "    <tr>\n",
              "      <th>1</th>\n",
              "      <td>1</td>\n",
              "      <td>Private flight</td>\n",
              "      <td>NaN</td>\n",
              "      <td>NaN</td>\n",
              "      <td>NaN</td>\n",
              "      <td>NaN</td>\n",
              "      <td>NaN</td>\n",
              "      <td>Y</td>\n",
              "      <td>1</td>\n",
              "    </tr>\n",
              "    <tr>\n",
              "      <th>2</th>\n",
              "      <td>2</td>\n",
              "      <td>135 Airways</td>\n",
              "      <td>NaN</td>\n",
              "      <td>NaN</td>\n",
              "      <td>GNL</td>\n",
              "      <td>GENERAL</td>\n",
              "      <td>United States</td>\n",
              "      <td>N</td>\n",
              "      <td>2</td>\n",
              "    </tr>\n",
              "    <tr>\n",
              "      <th>3</th>\n",
              "      <td>3</td>\n",
              "      <td>1Time Airline</td>\n",
              "      <td>NaN</td>\n",
              "      <td>1T</td>\n",
              "      <td>RNX</td>\n",
              "      <td>NEXTIME</td>\n",
              "      <td>South Africa</td>\n",
              "      <td>Y</td>\n",
              "      <td>3</td>\n",
              "    </tr>\n",
              "    <tr>\n",
              "      <th>4</th>\n",
              "      <td>4</td>\n",
              "      <td>2 Sqn No 1 Elementary Flying Training School</td>\n",
              "      <td>NaN</td>\n",
              "      <td>NaN</td>\n",
              "      <td>WYT</td>\n",
              "      <td>NaN</td>\n",
              "      <td>United Kingdom</td>\n",
              "      <td>N</td>\n",
              "      <td>4</td>\n",
              "    </tr>\n",
              "  </tbody>\n",
              "</table>\n",
              "</div>\n",
              "      <button class=\"colab-df-convert\" onclick=\"convertToInteractive('df-be0544c5-76ae-41a2-8108-f5e9cd82be3a')\"\n",
              "              title=\"Convert this dataframe to an interactive table.\"\n",
              "              style=\"display:none;\">\n",
              "        \n",
              "  <svg xmlns=\"http://www.w3.org/2000/svg\" height=\"24px\"viewBox=\"0 0 24 24\"\n",
              "       width=\"24px\">\n",
              "    <path d=\"M0 0h24v24H0V0z\" fill=\"none\"/>\n",
              "    <path d=\"M18.56 5.44l.94 2.06.94-2.06 2.06-.94-2.06-.94-.94-2.06-.94 2.06-2.06.94zm-11 1L8.5 8.5l.94-2.06 2.06-.94-2.06-.94L8.5 2.5l-.94 2.06-2.06.94zm10 10l.94 2.06.94-2.06 2.06-.94-2.06-.94-.94-2.06-.94 2.06-2.06.94z\"/><path d=\"M17.41 7.96l-1.37-1.37c-.4-.4-.92-.59-1.43-.59-.52 0-1.04.2-1.43.59L10.3 9.45l-7.72 7.72c-.78.78-.78 2.05 0 2.83L4 21.41c.39.39.9.59 1.41.59.51 0 1.02-.2 1.41-.59l7.78-7.78 2.81-2.81c.8-.78.8-2.07 0-2.86zM5.41 20L4 18.59l7.72-7.72 1.47 1.35L5.41 20z\"/>\n",
              "  </svg>\n",
              "      </button>\n",
              "      \n",
              "  <style>\n",
              "    .colab-df-container {\n",
              "      display:flex;\n",
              "      flex-wrap:wrap;\n",
              "      gap: 12px;\n",
              "    }\n",
              "\n",
              "    .colab-df-convert {\n",
              "      background-color: #E8F0FE;\n",
              "      border: none;\n",
              "      border-radius: 50%;\n",
              "      cursor: pointer;\n",
              "      display: none;\n",
              "      fill: #1967D2;\n",
              "      height: 32px;\n",
              "      padding: 0 0 0 0;\n",
              "      width: 32px;\n",
              "    }\n",
              "\n",
              "    .colab-df-convert:hover {\n",
              "      background-color: #E2EBFA;\n",
              "      box-shadow: 0px 1px 2px rgba(60, 64, 67, 0.3), 0px 1px 3px 1px rgba(60, 64, 67, 0.15);\n",
              "      fill: #174EA6;\n",
              "    }\n",
              "\n",
              "    [theme=dark] .colab-df-convert {\n",
              "      background-color: #3B4455;\n",
              "      fill: #D2E3FC;\n",
              "    }\n",
              "\n",
              "    [theme=dark] .colab-df-convert:hover {\n",
              "      background-color: #434B5C;\n",
              "      box-shadow: 0px 1px 3px 1px rgba(0, 0, 0, 0.15);\n",
              "      filter: drop-shadow(0px 1px 2px rgba(0, 0, 0, 0.3));\n",
              "      fill: #FFFFFF;\n",
              "    }\n",
              "  </style>\n",
              "\n",
              "      <script>\n",
              "        const buttonEl =\n",
              "          document.querySelector('#df-be0544c5-76ae-41a2-8108-f5e9cd82be3a button.colab-df-convert');\n",
              "        buttonEl.style.display =\n",
              "          google.colab.kernel.accessAllowed ? 'block' : 'none';\n",
              "\n",
              "        async function convertToInteractive(key) {\n",
              "          const element = document.querySelector('#df-be0544c5-76ae-41a2-8108-f5e9cd82be3a');\n",
              "          const dataTable =\n",
              "            await google.colab.kernel.invokeFunction('convertToInteractive',\n",
              "                                                     [key], {});\n",
              "          if (!dataTable) return;\n",
              "\n",
              "          const docLinkHtml = 'Like what you see? Visit the ' +\n",
              "            '<a target=\"_blank\" href=https://colab.research.google.com/notebooks/data_table.ipynb>data table notebook</a>'\n",
              "            + ' to learn more about interactive tables.';\n",
              "          element.innerHTML = '';\n",
              "          dataTable['output_type'] = 'display_data';\n",
              "          await google.colab.output.renderOutput(dataTable, element);\n",
              "          const docLink = document.createElement('div');\n",
              "          docLink.innerHTML = docLinkHtml;\n",
              "          element.appendChild(docLink);\n",
              "        }\n",
              "      </script>\n",
              "    </div>\n",
              "  </div>\n",
              "  "
            ]
          },
          "metadata": {},
          "execution_count": 5
        }
      ]
    },
    {
      "cell_type": "code",
      "source": [
        "airports_df = (\n",
        "    pd.read_csv('/content/drive/MyDrive/Kaggle/Airlines/airports.csv',\n",
        "                header=None, names=['id', 'name', 'city', 'country', 'iata', 'icao', 'latitude', \n",
        "                                    'longitude', 'altitude', 'timezone', 'dst', 'tz', 'type', 'source'],\n",
        "                na_values=['\\\\N', '-', 'NAN', 'unknown'])\n",
        "    .set_index('id')\n",
        "    .reset_index(drop=True)\n",
        ")\n",
        "\n",
        "eur_airports_iata_df = (\n",
        "    pd.read_csv('/content/drive/MyDrive/Kaggle/Airlines/european_iatas_df.csv',\n",
        "                header=None, names=['airport_city', 'airport_name', 'airport_iata'],\n",
        "                na_values=['\\\\N', '-', 'NAN', 'unknown'])\n",
        ")\n",
        "\n",
        "eur_airports_df = (\n",
        "    airports_df[airports_df.iata.isin(eur_airports_iata_df.airport_iata)].copy()\n",
        "    [lambda df: ~df.country.isin(['Russia', 'Turkey'])]\n",
        "    .reset_index(drop=True))\n",
        "\n",
        "# del airports_df, eur_airports_iata_df\n",
        "\n",
        "print('All:', airports_df.shape)\n",
        "print('Europe:', eur_airports_df.shape)\n",
        "eur_airports_df.head()"
      ],
      "metadata": {
        "id": "rXVp858AYNFQ",
        "colab": {
          "base_uri": "https://localhost:8080/",
          "height": 445
        },
        "outputId": "c045c94e-853a-4f70-b281-52e326382d24"
      },
      "execution_count": 6,
      "outputs": [
        {
          "output_type": "stream",
          "name": "stdout",
          "text": [
            "All: (7698, 13)\n",
            "Europe: (345, 13)\n"
          ]
        },
        {
          "output_type": "execute_result",
          "data": {
            "text/plain": [
              "                                     name       city  country iata  icao  \\\n",
              "0                        Akureyri Airport   Akureyri  Iceland  AEY  BIAR   \n",
              "1          Keflavik International Airport   Keflavik  Iceland  KEF  BIKF   \n",
              "2                       Reykjavik Airport  Reykjavik  Iceland  RKV  BIRK   \n",
              "3  Antwerp International Airport (Deurne)    Antwerp  Belgium  ANR  EBAW   \n",
              "4                        Brussels Airport   Brussels  Belgium  BRU  EBBR   \n",
              "\n",
              "    latitude  longitude  altitude  timezone dst                  tz     type  \\\n",
              "0  65.660004 -18.072701         6       0.0   N  Atlantic/Reykjavik  airport   \n",
              "1  63.985001 -22.605600       171       0.0   N  Atlantic/Reykjavik  airport   \n",
              "2  64.129997 -21.940599        48       0.0   N  Atlantic/Reykjavik  airport   \n",
              "3  51.189400   4.460280        39       1.0   E     Europe/Brussels  airport   \n",
              "4  50.901402   4.484440       184       1.0   E     Europe/Brussels  airport   \n",
              "\n",
              "        source  \n",
              "0  OurAirports  \n",
              "1  OurAirports  \n",
              "2  OurAirports  \n",
              "3  OurAirports  \n",
              "4  OurAirports  "
            ],
            "text/html": [
              "\n",
              "  <div id=\"df-87cd0003-5b33-4cf2-9c28-f3b81ce9f53d\">\n",
              "    <div class=\"colab-df-container\">\n",
              "      <div>\n",
              "<style scoped>\n",
              "    .dataframe tbody tr th:only-of-type {\n",
              "        vertical-align: middle;\n",
              "    }\n",
              "\n",
              "    .dataframe tbody tr th {\n",
              "        vertical-align: top;\n",
              "    }\n",
              "\n",
              "    .dataframe thead th {\n",
              "        text-align: right;\n",
              "    }\n",
              "</style>\n",
              "<table border=\"1\" class=\"dataframe\">\n",
              "  <thead>\n",
              "    <tr style=\"text-align: right;\">\n",
              "      <th></th>\n",
              "      <th>name</th>\n",
              "      <th>city</th>\n",
              "      <th>country</th>\n",
              "      <th>iata</th>\n",
              "      <th>icao</th>\n",
              "      <th>latitude</th>\n",
              "      <th>longitude</th>\n",
              "      <th>altitude</th>\n",
              "      <th>timezone</th>\n",
              "      <th>dst</th>\n",
              "      <th>tz</th>\n",
              "      <th>type</th>\n",
              "      <th>source</th>\n",
              "    </tr>\n",
              "  </thead>\n",
              "  <tbody>\n",
              "    <tr>\n",
              "      <th>0</th>\n",
              "      <td>Akureyri Airport</td>\n",
              "      <td>Akureyri</td>\n",
              "      <td>Iceland</td>\n",
              "      <td>AEY</td>\n",
              "      <td>BIAR</td>\n",
              "      <td>65.660004</td>\n",
              "      <td>-18.072701</td>\n",
              "      <td>6</td>\n",
              "      <td>0.0</td>\n",
              "      <td>N</td>\n",
              "      <td>Atlantic/Reykjavik</td>\n",
              "      <td>airport</td>\n",
              "      <td>OurAirports</td>\n",
              "    </tr>\n",
              "    <tr>\n",
              "      <th>1</th>\n",
              "      <td>Keflavik International Airport</td>\n",
              "      <td>Keflavik</td>\n",
              "      <td>Iceland</td>\n",
              "      <td>KEF</td>\n",
              "      <td>BIKF</td>\n",
              "      <td>63.985001</td>\n",
              "      <td>-22.605600</td>\n",
              "      <td>171</td>\n",
              "      <td>0.0</td>\n",
              "      <td>N</td>\n",
              "      <td>Atlantic/Reykjavik</td>\n",
              "      <td>airport</td>\n",
              "      <td>OurAirports</td>\n",
              "    </tr>\n",
              "    <tr>\n",
              "      <th>2</th>\n",
              "      <td>Reykjavik Airport</td>\n",
              "      <td>Reykjavik</td>\n",
              "      <td>Iceland</td>\n",
              "      <td>RKV</td>\n",
              "      <td>BIRK</td>\n",
              "      <td>64.129997</td>\n",
              "      <td>-21.940599</td>\n",
              "      <td>48</td>\n",
              "      <td>0.0</td>\n",
              "      <td>N</td>\n",
              "      <td>Atlantic/Reykjavik</td>\n",
              "      <td>airport</td>\n",
              "      <td>OurAirports</td>\n",
              "    </tr>\n",
              "    <tr>\n",
              "      <th>3</th>\n",
              "      <td>Antwerp International Airport (Deurne)</td>\n",
              "      <td>Antwerp</td>\n",
              "      <td>Belgium</td>\n",
              "      <td>ANR</td>\n",
              "      <td>EBAW</td>\n",
              "      <td>51.189400</td>\n",
              "      <td>4.460280</td>\n",
              "      <td>39</td>\n",
              "      <td>1.0</td>\n",
              "      <td>E</td>\n",
              "      <td>Europe/Brussels</td>\n",
              "      <td>airport</td>\n",
              "      <td>OurAirports</td>\n",
              "    </tr>\n",
              "    <tr>\n",
              "      <th>4</th>\n",
              "      <td>Brussels Airport</td>\n",
              "      <td>Brussels</td>\n",
              "      <td>Belgium</td>\n",
              "      <td>BRU</td>\n",
              "      <td>EBBR</td>\n",
              "      <td>50.901402</td>\n",
              "      <td>4.484440</td>\n",
              "      <td>184</td>\n",
              "      <td>1.0</td>\n",
              "      <td>E</td>\n",
              "      <td>Europe/Brussels</td>\n",
              "      <td>airport</td>\n",
              "      <td>OurAirports</td>\n",
              "    </tr>\n",
              "  </tbody>\n",
              "</table>\n",
              "</div>\n",
              "      <button class=\"colab-df-convert\" onclick=\"convertToInteractive('df-87cd0003-5b33-4cf2-9c28-f3b81ce9f53d')\"\n",
              "              title=\"Convert this dataframe to an interactive table.\"\n",
              "              style=\"display:none;\">\n",
              "        \n",
              "  <svg xmlns=\"http://www.w3.org/2000/svg\" height=\"24px\"viewBox=\"0 0 24 24\"\n",
              "       width=\"24px\">\n",
              "    <path d=\"M0 0h24v24H0V0z\" fill=\"none\"/>\n",
              "    <path d=\"M18.56 5.44l.94 2.06.94-2.06 2.06-.94-2.06-.94-.94-2.06-.94 2.06-2.06.94zm-11 1L8.5 8.5l.94-2.06 2.06-.94-2.06-.94L8.5 2.5l-.94 2.06-2.06.94zm10 10l.94 2.06.94-2.06 2.06-.94-2.06-.94-.94-2.06-.94 2.06-2.06.94z\"/><path d=\"M17.41 7.96l-1.37-1.37c-.4-.4-.92-.59-1.43-.59-.52 0-1.04.2-1.43.59L10.3 9.45l-7.72 7.72c-.78.78-.78 2.05 0 2.83L4 21.41c.39.39.9.59 1.41.59.51 0 1.02-.2 1.41-.59l7.78-7.78 2.81-2.81c.8-.78.8-2.07 0-2.86zM5.41 20L4 18.59l7.72-7.72 1.47 1.35L5.41 20z\"/>\n",
              "  </svg>\n",
              "      </button>\n",
              "      \n",
              "  <style>\n",
              "    .colab-df-container {\n",
              "      display:flex;\n",
              "      flex-wrap:wrap;\n",
              "      gap: 12px;\n",
              "    }\n",
              "\n",
              "    .colab-df-convert {\n",
              "      background-color: #E8F0FE;\n",
              "      border: none;\n",
              "      border-radius: 50%;\n",
              "      cursor: pointer;\n",
              "      display: none;\n",
              "      fill: #1967D2;\n",
              "      height: 32px;\n",
              "      padding: 0 0 0 0;\n",
              "      width: 32px;\n",
              "    }\n",
              "\n",
              "    .colab-df-convert:hover {\n",
              "      background-color: #E2EBFA;\n",
              "      box-shadow: 0px 1px 2px rgba(60, 64, 67, 0.3), 0px 1px 3px 1px rgba(60, 64, 67, 0.15);\n",
              "      fill: #174EA6;\n",
              "    }\n",
              "\n",
              "    [theme=dark] .colab-df-convert {\n",
              "      background-color: #3B4455;\n",
              "      fill: #D2E3FC;\n",
              "    }\n",
              "\n",
              "    [theme=dark] .colab-df-convert:hover {\n",
              "      background-color: #434B5C;\n",
              "      box-shadow: 0px 1px 3px 1px rgba(0, 0, 0, 0.15);\n",
              "      filter: drop-shadow(0px 1px 2px rgba(0, 0, 0, 0.3));\n",
              "      fill: #FFFFFF;\n",
              "    }\n",
              "  </style>\n",
              "\n",
              "      <script>\n",
              "        const buttonEl =\n",
              "          document.querySelector('#df-87cd0003-5b33-4cf2-9c28-f3b81ce9f53d button.colab-df-convert');\n",
              "        buttonEl.style.display =\n",
              "          google.colab.kernel.accessAllowed ? 'block' : 'none';\n",
              "\n",
              "        async function convertToInteractive(key) {\n",
              "          const element = document.querySelector('#df-87cd0003-5b33-4cf2-9c28-f3b81ce9f53d');\n",
              "          const dataTable =\n",
              "            await google.colab.kernel.invokeFunction('convertToInteractive',\n",
              "                                                     [key], {});\n",
              "          if (!dataTable) return;\n",
              "\n",
              "          const docLinkHtml = 'Like what you see? Visit the ' +\n",
              "            '<a target=\"_blank\" href=https://colab.research.google.com/notebooks/data_table.ipynb>data table notebook</a>'\n",
              "            + ' to learn more about interactive tables.';\n",
              "          element.innerHTML = '';\n",
              "          dataTable['output_type'] = 'display_data';\n",
              "          await google.colab.output.renderOutput(dataTable, element);\n",
              "          const docLink = document.createElement('div');\n",
              "          docLink.innerHTML = docLinkHtml;\n",
              "          element.appendChild(docLink);\n",
              "        }\n",
              "      </script>\n",
              "    </div>\n",
              "  </div>\n",
              "  "
            ]
          },
          "metadata": {},
          "execution_count": 6
        }
      ]
    },
    {
      "cell_type": "code",
      "source": [
        "routes_df = (\n",
        "    pd.read_csv('/content/drive/MyDrive/Kaggle/Airlines/routes.csv', \n",
        "                header=None, names=['airline', 'airline id', 'source', 'source id', 'destination', \n",
        "                                    'destination id', 'codeshare', 'stops', 'equipment'],\n",
        "                na_values=['\\\\N', '-', 'NAN', 'unknown'])\n",
        "    .rename(columns=str.strip)\n",
        "    .rename(columns=str.lower)\n",
        "    .rename(columns=lambda v: v.replace(' ', '_'))\n",
        "    .dropna(subset=['airline_id', 'source_id', 'destination_id'], how='any')\n",
        "    .assign(airline_id=lambda df: df.airline_id.map(int).map(str),\n",
        "            source=lambda df: df.source.map(str).map(str),\n",
        "            source_id=lambda df: df.source_id.map(int).map(str),\n",
        "            destination=lambda df: df.destination.map(str).map(str),\n",
        "            destination_id=lambda df: df.destination_id.map(int).map(str),\n",
        "            route_id=lambda df: df[['source', 'destination']].apply(sorted, axis=1).map('_'.join))\n",
        ")\n",
        "\n",
        "eur_routes_df = (\n",
        "    routes_df[\n",
        "        routes_df.source.isin(eur_airports_df.iata)\n",
        "        &\n",
        "        routes_df.destination.isin(eur_airports_df.iata)\n",
        "    ].copy()\n",
        ")\n",
        "\n",
        "print('All:', routes_df.shape)\n",
        "print('Europe:', eur_routes_df.shape)\n",
        "eur_routes_df.head()"
      ],
      "metadata": {
        "colab": {
          "base_uri": "https://localhost:8080/",
          "height": 306
        },
        "id": "9sdpFI3Q4t3b",
        "outputId": "588ed221-4638-4bb2-ce31-39f782da8a1e"
      },
      "execution_count": 7,
      "outputs": [
        {
          "output_type": "stream",
          "name": "stdout",
          "text": [
            "All: (66765, 10)\n",
            "Europe: (14023, 10)\n"
          ]
        },
        {
          "output_type": "execute_result",
          "data": {
            "text/plain": [
              "    airline airline_id source source_id destination destination_id codeshare  \\\n",
              "115      2L       2750    BDS      1506         ZRH           1678       NaN   \n",
              "116      2L       2750    BOD      1264         ZRH           1678       NaN   \n",
              "117      2L       2750    BRS       490         ZRH           1678       NaN   \n",
              "118      2L       2750    GVA      1665         LPA           1054       NaN   \n",
              "119      2L       2750    LCA      1197         ZRH           1678       NaN   \n",
              "\n",
              "     stops equipment route_id  \n",
              "115      0       100  BDS_ZRH  \n",
              "116      0       100  BOD_ZRH  \n",
              "117      0       100  BRS_ZRH  \n",
              "118      0       319  GVA_LPA  \n",
              "119      0       319  LCA_ZRH  "
            ],
            "text/html": [
              "\n",
              "  <div id=\"df-ba8b88a4-d9ef-4296-b485-89aefb6c0613\">\n",
              "    <div class=\"colab-df-container\">\n",
              "      <div>\n",
              "<style scoped>\n",
              "    .dataframe tbody tr th:only-of-type {\n",
              "        vertical-align: middle;\n",
              "    }\n",
              "\n",
              "    .dataframe tbody tr th {\n",
              "        vertical-align: top;\n",
              "    }\n",
              "\n",
              "    .dataframe thead th {\n",
              "        text-align: right;\n",
              "    }\n",
              "</style>\n",
              "<table border=\"1\" class=\"dataframe\">\n",
              "  <thead>\n",
              "    <tr style=\"text-align: right;\">\n",
              "      <th></th>\n",
              "      <th>airline</th>\n",
              "      <th>airline_id</th>\n",
              "      <th>source</th>\n",
              "      <th>source_id</th>\n",
              "      <th>destination</th>\n",
              "      <th>destination_id</th>\n",
              "      <th>codeshare</th>\n",
              "      <th>stops</th>\n",
              "      <th>equipment</th>\n",
              "      <th>route_id</th>\n",
              "    </tr>\n",
              "  </thead>\n",
              "  <tbody>\n",
              "    <tr>\n",
              "      <th>115</th>\n",
              "      <td>2L</td>\n",
              "      <td>2750</td>\n",
              "      <td>BDS</td>\n",
              "      <td>1506</td>\n",
              "      <td>ZRH</td>\n",
              "      <td>1678</td>\n",
              "      <td>NaN</td>\n",
              "      <td>0</td>\n",
              "      <td>100</td>\n",
              "      <td>BDS_ZRH</td>\n",
              "    </tr>\n",
              "    <tr>\n",
              "      <th>116</th>\n",
              "      <td>2L</td>\n",
              "      <td>2750</td>\n",
              "      <td>BOD</td>\n",
              "      <td>1264</td>\n",
              "      <td>ZRH</td>\n",
              "      <td>1678</td>\n",
              "      <td>NaN</td>\n",
              "      <td>0</td>\n",
              "      <td>100</td>\n",
              "      <td>BOD_ZRH</td>\n",
              "    </tr>\n",
              "    <tr>\n",
              "      <th>117</th>\n",
              "      <td>2L</td>\n",
              "      <td>2750</td>\n",
              "      <td>BRS</td>\n",
              "      <td>490</td>\n",
              "      <td>ZRH</td>\n",
              "      <td>1678</td>\n",
              "      <td>NaN</td>\n",
              "      <td>0</td>\n",
              "      <td>100</td>\n",
              "      <td>BRS_ZRH</td>\n",
              "    </tr>\n",
              "    <tr>\n",
              "      <th>118</th>\n",
              "      <td>2L</td>\n",
              "      <td>2750</td>\n",
              "      <td>GVA</td>\n",
              "      <td>1665</td>\n",
              "      <td>LPA</td>\n",
              "      <td>1054</td>\n",
              "      <td>NaN</td>\n",
              "      <td>0</td>\n",
              "      <td>319</td>\n",
              "      <td>GVA_LPA</td>\n",
              "    </tr>\n",
              "    <tr>\n",
              "      <th>119</th>\n",
              "      <td>2L</td>\n",
              "      <td>2750</td>\n",
              "      <td>LCA</td>\n",
              "      <td>1197</td>\n",
              "      <td>ZRH</td>\n",
              "      <td>1678</td>\n",
              "      <td>NaN</td>\n",
              "      <td>0</td>\n",
              "      <td>319</td>\n",
              "      <td>LCA_ZRH</td>\n",
              "    </tr>\n",
              "  </tbody>\n",
              "</table>\n",
              "</div>\n",
              "      <button class=\"colab-df-convert\" onclick=\"convertToInteractive('df-ba8b88a4-d9ef-4296-b485-89aefb6c0613')\"\n",
              "              title=\"Convert this dataframe to an interactive table.\"\n",
              "              style=\"display:none;\">\n",
              "        \n",
              "  <svg xmlns=\"http://www.w3.org/2000/svg\" height=\"24px\"viewBox=\"0 0 24 24\"\n",
              "       width=\"24px\">\n",
              "    <path d=\"M0 0h24v24H0V0z\" fill=\"none\"/>\n",
              "    <path d=\"M18.56 5.44l.94 2.06.94-2.06 2.06-.94-2.06-.94-.94-2.06-.94 2.06-2.06.94zm-11 1L8.5 8.5l.94-2.06 2.06-.94-2.06-.94L8.5 2.5l-.94 2.06-2.06.94zm10 10l.94 2.06.94-2.06 2.06-.94-2.06-.94-.94-2.06-.94 2.06-2.06.94z\"/><path d=\"M17.41 7.96l-1.37-1.37c-.4-.4-.92-.59-1.43-.59-.52 0-1.04.2-1.43.59L10.3 9.45l-7.72 7.72c-.78.78-.78 2.05 0 2.83L4 21.41c.39.39.9.59 1.41.59.51 0 1.02-.2 1.41-.59l7.78-7.78 2.81-2.81c.8-.78.8-2.07 0-2.86zM5.41 20L4 18.59l7.72-7.72 1.47 1.35L5.41 20z\"/>\n",
              "  </svg>\n",
              "      </button>\n",
              "      \n",
              "  <style>\n",
              "    .colab-df-container {\n",
              "      display:flex;\n",
              "      flex-wrap:wrap;\n",
              "      gap: 12px;\n",
              "    }\n",
              "\n",
              "    .colab-df-convert {\n",
              "      background-color: #E8F0FE;\n",
              "      border: none;\n",
              "      border-radius: 50%;\n",
              "      cursor: pointer;\n",
              "      display: none;\n",
              "      fill: #1967D2;\n",
              "      height: 32px;\n",
              "      padding: 0 0 0 0;\n",
              "      width: 32px;\n",
              "    }\n",
              "\n",
              "    .colab-df-convert:hover {\n",
              "      background-color: #E2EBFA;\n",
              "      box-shadow: 0px 1px 2px rgba(60, 64, 67, 0.3), 0px 1px 3px 1px rgba(60, 64, 67, 0.15);\n",
              "      fill: #174EA6;\n",
              "    }\n",
              "\n",
              "    [theme=dark] .colab-df-convert {\n",
              "      background-color: #3B4455;\n",
              "      fill: #D2E3FC;\n",
              "    }\n",
              "\n",
              "    [theme=dark] .colab-df-convert:hover {\n",
              "      background-color: #434B5C;\n",
              "      box-shadow: 0px 1px 3px 1px rgba(0, 0, 0, 0.15);\n",
              "      filter: drop-shadow(0px 1px 2px rgba(0, 0, 0, 0.3));\n",
              "      fill: #FFFFFF;\n",
              "    }\n",
              "  </style>\n",
              "\n",
              "      <script>\n",
              "        const buttonEl =\n",
              "          document.querySelector('#df-ba8b88a4-d9ef-4296-b485-89aefb6c0613 button.colab-df-convert');\n",
              "        buttonEl.style.display =\n",
              "          google.colab.kernel.accessAllowed ? 'block' : 'none';\n",
              "\n",
              "        async function convertToInteractive(key) {\n",
              "          const element = document.querySelector('#df-ba8b88a4-d9ef-4296-b485-89aefb6c0613');\n",
              "          const dataTable =\n",
              "            await google.colab.kernel.invokeFunction('convertToInteractive',\n",
              "                                                     [key], {});\n",
              "          if (!dataTable) return;\n",
              "\n",
              "          const docLinkHtml = 'Like what you see? Visit the ' +\n",
              "            '<a target=\"_blank\" href=https://colab.research.google.com/notebooks/data_table.ipynb>data table notebook</a>'\n",
              "            + ' to learn more about interactive tables.';\n",
              "          element.innerHTML = '';\n",
              "          dataTable['output_type'] = 'display_data';\n",
              "          await google.colab.output.renderOutput(dataTable, element);\n",
              "          const docLink = document.createElement('div');\n",
              "          docLink.innerHTML = docLinkHtml;\n",
              "          element.appendChild(docLink);\n",
              "        }\n",
              "      </script>\n",
              "    </div>\n",
              "  </div>\n",
              "  "
            ]
          },
          "metadata": {},
          "execution_count": 7
        }
      ]
    },
    {
      "cell_type": "code",
      "source": [
        "eur_routes_df2 = (\n",
        "    eur_routes_df\n",
        "    .pipe(pd.merge, \n",
        "          airlines_df[['id', 'icao', 'name', 'country']],\n",
        "          left_on=['source'], right_on=['icao'], how='left')\n",
        "    .pipe(pd.merge, \n",
        "          eur_airports_df[['iata', 'country', 'city', 'latitude', 'longitude']]\n",
        "          .rename(columns=lambda col: 'source_' + col),\n",
        "          left_on=['source'], right_on=['source_iata'], how='left')\n",
        "    .pipe(pd.merge, \n",
        "          eur_airports_df[['iata', 'country', 'city', 'latitude', 'longitude']]\n",
        "          .rename(columns=lambda col: 'destination_' + col),\n",
        "          left_on=['destination'], right_on=['destination_iata'], how='right')\n",
        "    .assign(is_national_route=lambda df: df.source_country == df.destination_country)\n",
        "    .assign(dist=lambda df: np.sqrt(\n",
        "        (df.destination_longitude - df.source_longitude) ** 2 \n",
        "        + (df.destination_latitude - df.source_latitude) ** 2))\n",
        ")\n",
        "\n",
        "eur_routes_df2.sort_values(by='airline', ascending=True).value_counts('airline')"
      ],
      "metadata": {
        "colab": {
          "base_uri": "https://localhost:8080/"
        },
        "id": "VPcI8oBE5GNY",
        "outputId": "c05ff1c7-a578-4fe4-db2e-c36225721df7"
      },
      "execution_count": 8,
      "outputs": [
        {
          "output_type": "execute_result",
          "data": {
            "text/plain": [
              "airline\n",
              "FR    2270\n",
              "U2    1012\n",
              "AB     612\n",
              "DY     506\n",
              "IB     500\n",
              "      ... \n",
              "XQ       1\n",
              "EW       1\n",
              "TS       1\n",
              "U6       1\n",
              "KQ       1\n",
              "Length: 154, dtype: int64"
            ]
          },
          "metadata": {},
          "execution_count": 8
        }
      ]
    },
    {
      "cell_type": "code",
      "source": [
        "%matplotlib inline\n",
        "\n",
        "import matplotlib.pyplot as plt\n",
        "import seaborn as sns\n",
        "import plotly.graph_objects as go\n",
        "\n",
        "# ensure white background\n",
        "plt.rcParams['figure.facecolor'] = 'w'"
      ],
      "metadata": {
        "id": "q76TJ8_25GLQ"
      },
      "execution_count": 9,
      "outputs": []
    },
    {
      "cell_type": "code",
      "source": [
        "n_connections_srs = (\n",
        "    eur_routes_df2\n",
        "    .groupby('airline')\n",
        "    .route_id\n",
        "    .nunique()\n",
        "    .sort_values()[::-1]\n",
        "    .rename('# Unique Connections')\n",
        "    .rename_axis('Airline')\n",
        ")"
      ],
      "metadata": {
        "id": "in3pPtQq5GI9"
      },
      "execution_count": 13,
      "outputs": []
    },
    {
      "cell_type": "code",
      "source": [
        "fig, ax = plt.subplots(figsize=(10,6))\n",
        "\n",
        "ax.barh(n_connections_srs.index[:25][::-1], n_connections_srs[:25][::-1])\n",
        "ax.barh('FR', n_connections_srs['FR'], color='navy')\n",
        "\n",
        "ax.set_xlabel('Connections')\n",
        "\n",
        "ax.set_title('Unique Connections', weight='bold')\n",
        "ax.grid(axis='x')\n",
        "plt.show()"
      ],
      "metadata": {
        "colab": {
          "base_uri": "https://localhost:8080/",
          "height": 404
        },
        "id": "60iUak5s5GE5",
        "outputId": "110e89af-c2b3-46a8-9b84-e3a4394a4267"
      },
      "execution_count": 14,
      "outputs": [
        {
          "output_type": "display_data",
          "data": {
            "text/plain": [
              "<Figure size 720x432 with 1 Axes>"
            ],
            "image/png": "[encoded data removed]"
          },
          "metadata": {}
        }
      ]
    },
    {
      "cell_type": "code",
      "source": [
        "n_exclusive_connections_srs = (\n",
        "    eur_routes_df2\n",
        "    .groupby('route_id')\n",
        "    .airline_id\n",
        "    .nunique()\n",
        "    [lambda srs: srs == 1]\n",
        "    .reset_index()\n",
        "    .pipe(pd.merge, eur_routes_df2[['route_id', 'airline']], how='left')\n",
        "    .groupby('airline')\n",
        "    .route_id\n",
        "    .nunique()\n",
        "    .sort_values()[::-1]\n",
        "    .rename('# Exclusive Connections')\n",
        "    .rename_axis('Airline')\n",
        ")\n",
        "\n",
        "fig, ax = plt.subplots(figsize=(10,6))\n",
        "\n",
        "ax.barh(n_exclusive_connections_srs.index[:25][::-1], n_exclusive_connections_srs[:25][::-1])\n",
        "ax.barh('FR', n_exclusive_connections_srs.loc['FR'], color='navy')\n",
        "ax.set_xlabel('Exclusive Connections')\n",
        "ax.set_title('Exclusive Connections', weight='bold')\n",
        "ax.grid(axis='x')\n",
        "\n",
        "plt.show()"
      ],
      "metadata": {
        "colab": {
          "base_uri": "https://localhost:8080/",
          "height": 404
        },
        "id": "uV6yKsVl5GCy",
        "outputId": "4b06c80e-6840-4fbe-d27b-e27106c6607e"
      },
      "execution_count": 15,
      "outputs": [
        {
          "output_type": "display_data",
          "data": {
            "text/plain": [
              "<Figure size 720x432 with 1 Axes>"
            ],
            "image/png": "[encoded data removed]"
          },
          "metadata": {}
        }
      ]
    },
    {
      "cell_type": "code",
      "source": [
        "fig, ax = plt.subplots()\n",
        "\n",
        "ax.pie(n_exclusive_connections_srs, autopct=lambda pct: ('%.2f' % pct) + '%' if pct > 4 else '',\n",
        "       labels=[al if i < 5 else '' for i, al in enumerate(n_exclusive_connections_srs.index)])\n",
        "\n",
        "plt.show()"
      ],
      "metadata": {
        "colab": {
          "base_uri": "https://localhost:8080/",
          "height": 248
        },
        "id": "1qIaOINJ5GAw",
        "outputId": "65dbecfc-b1b0-4ea8-b6e3-5a5697739f83"
      },
      "execution_count": 16,
      "outputs": [
        {
          "output_type": "display_data",
          "data": {
            "text/plain": [
              "<Figure size 432x288 with 1 Axes>"
            ],
            "image/png": "[encoded data removed]"
          },
          "metadata": {}
        }
      ]
    },
    {
      "cell_type": "code",
      "source": [
        "n_airports_srs = (\n",
        "    eur_routes_df2\n",
        "    .groupby('airline')\n",
        "    .source_id\n",
        "    .nunique()\n",
        "    .sort_values()[::-1]\n",
        "    .rename('# Airports')\n",
        "    .rename_axis('Airline')\n",
        ")\n",
        "\n",
        "fig, ax = plt.subplots(figsize=(10,6))\n",
        "\n",
        "ax.barh(n_airports_srs.index[:25][::-1], n_airports_srs[:25][::-1])\n",
        "ax.barh('FR', n_airports_srs.loc['FR'], color='navy')\n",
        "ax.set_xlabel('# Airports')\n",
        "ax.set_title('Top 25 Airlines\\nby Number of Base Airports', weight='bold')\n",
        "ax.grid(axis='x')\n",
        "\n",
        "plt.show()"
      ],
      "metadata": {
        "colab": {
          "base_uri": "https://localhost:8080/",
          "height": 419
        },
        "id": "mjhHvwi85uIz",
        "outputId": "120b8fd8-3a17-4ef6-dc0a-7581fac8cbf5"
      },
      "execution_count": 17,
      "outputs": [
        {
          "output_type": "display_data",
          "data": {
            "text/plain": [
              "<Figure size 720x432 with 1 Axes>"
            ],
            "image/png": "[encoded data removed]"
          },
          "metadata": {}
        }
      ]
    },
    {
      "cell_type": "code",
      "source": [
        "n_airports_srs.head()"
      ],
      "metadata": {
        "colab": {
          "base_uri": "https://localhost:8080/"
        },
        "id": "eiK34lZZ5v6M",
        "outputId": "a6c93cf9-188f-4f19-da3e-a171a3bc7981"
      },
      "execution_count": 18,
      "outputs": [
        {
          "output_type": "execute_result",
          "data": {
            "text/plain": [
              "Airline\n",
              "FR    157\n",
              "LH    116\n",
              "U2    114\n",
              "AZ    113\n",
              "IB     99\n",
              "Name: # Airports, dtype: int64"
            ]
          },
          "metadata": {},
          "execution_count": 18
        }
      ]
    },
    {
      "cell_type": "code",
      "source": [
        "n_countries_srs = (\n",
        "    eur_routes_df2\n",
        "    .groupby('airline')\n",
        "    .source_country\n",
        "    .nunique()\n",
        "    .sort_values()[::-1]\n",
        "    .rename('# Countries')\n",
        "    .rename_axis('Airline')\n",
        ")\n",
        "\n",
        "fig, ax = plt.subplots(figsize=(10,6))\n",
        "\n",
        "ax.barh(n_countries_srs.index[:25][::-1], n_countries_srs[:25][::-1])\n",
        "ax.barh('FR', n_countries_srs.loc['FR'], color='navy')\n",
        "ax.set_xlabel('# Countries')\n",
        "ax.set_title('Top 25 Airlines\\nby Number of Base Countries', weight='bold')\n",
        "ax.grid(axis='x')\n",
        "\n",
        "plt.show()"
      ],
      "metadata": {
        "colab": {
          "base_uri": "https://localhost:8080/",
          "height": 419
        },
        "id": "9dCDxh6l5zOF",
        "outputId": "d08520cf-c226-4e67-e676-d6dab75e2a36"
      },
      "execution_count": 19,
      "outputs": [
        {
          "output_type": "display_data",
          "data": {
            "text/plain": [
              "<Figure size 720x432 with 1 Axes>"
            ],
            "image/png": "[encoded data removed]"
          },
          "metadata": {}
        }
      ]
    },
    {
      "cell_type": "code",
      "source": [
        "n_competitors_df = (\n",
        "    eur_routes_df2.groupby('source_id')\n",
        "    .airline_id.nunique().sub(1)\n",
        "    .to_frame('n_competitors')\n",
        "    .reset_index()\n",
        "    .pipe(pd.merge, eur_routes_df2[['source_id', 'airline']].drop_duplicates())\n",
        ")\n",
        "\n",
        "avg_competitors_srs = (\n",
        "    n_competitors_df\n",
        "    .groupby('airline')\n",
        "    .n_competitors\n",
        "    .mean()\n",
        "    .sort_values()[::-1]\n",
        ")\n",
        "\n",
        "fig, ax = plt.subplots(figsize=(10, 6))\n",
        "\n",
        "ax.barh(*list(zip(*list(avg_competitors_srs.reindex(index=n_airports_srs.index[:25]).sort_values().iteritems()))))\n",
        "ax.barh('FR', avg_competitors_srs.loc['FR'], color='navy')\n",
        "ax.set_xlabel('Competitors per Airport')\n",
        "ax.set_title('Number of Competitors', weight='bold')\n",
        "ax.grid(axis='x')\n",
        "\n",
        "plt.show()"
      ],
      "metadata": {
        "colab": {
          "base_uri": "https://localhost:8080/",
          "height": 404
        },
        "id": "Xw1O1OPR5zL7",
        "outputId": "d0b706fe-506a-4174-f03b-517c33ea4259"
      },
      "execution_count": 20,
      "outputs": [
        {
          "output_type": "display_data",
          "data": {
            "text/plain": [
              "<Figure size 720x432 with 1 Axes>"
            ],
            "image/png": "[encoded data removed]"
          },
          "metadata": {}
        }
      ]
    },
    {
      "cell_type": "code",
      "source": [
        "airport_presence_df = (\n",
        "    eur_routes_df2\n",
        "    .groupby('source_id')\n",
        "    .airline\n",
        "    .apply(lambda srs: srs.value_counts(normalize=True).rename_axis('airline'))\n",
        "    .rename('airport_presence')\n",
        "    .reset_index()\n",
        ")\n",
        "\n",
        "avg_airport_presence_df = (\n",
        "    airport_presence_df\n",
        "    .groupby('airline')\n",
        "    .airport_presence.mean()\n",
        "    .sort_values()[::-1]\n",
        ")\n",
        "\n",
        "fig, (ax, ax1) = plt.subplots(1, 2, figsize=(16,6))\n",
        "\n",
        "ax.barh(avg_airport_presence_df.index[:25][::-1], avg_airport_presence_df[:25][::-1])\n",
        "ax.barh('FR', avg_airport_presence_df.loc['FR'], color='navy')\n",
        "ax.set_xlabel('Avg Airport Presence (%)')\n",
        "ax.set_title('Top 25 Airlines\\nby Avg Airport Presence', weight='bold')\n",
        "ax.grid(axis='x')\n",
        "\n",
        "avg_presence_for_top25_airlines_by_airports = avg_airport_presence_df.reindex(index=n_airports_srs.index[:25]).sort_values()\n",
        "ax1.barh(avg_presence_for_top25_airlines_by_airports.index, avg_presence_for_top25_airlines_by_airports)\n",
        "ax1.barh('FR', avg_airport_presence_df.loc['FR'], color='navy')\n",
        "ax1.set_xlabel('Avg Airport Presence (%)')\n",
        "ax1.set_title('Avg Airport Presence\\namong Top 25 Airlines by Number of Base Airports', weight='bold')\n",
        "ax1.grid(axis='x')\n",
        "\n",
        "plt.tight_layout()\n",
        "plt.show()"
      ],
      "metadata": {
        "colab": {
          "base_uri": "https://localhost:8080/",
          "height": 250
        },
        "id": "jXo0z9at5zJ0",
        "outputId": "cc9121ee-82d6-4b83-8265-72cf7a60b9d2"
      },
      "execution_count": 21,
      "outputs": [
        {
          "output_type": "display_data",
          "data": {
            "text/plain": [
              "<Figure size 1152x432 with 2 Axes>"
            ],
            "image/png": "[encoded data removed]"
          },
          "metadata": {}
        }
      ]
    },
    {
      "cell_type": "code",
      "source": [
        "avg_airport_presence_df.head()"
      ],
      "metadata": {
        "colab": {
          "base_uri": "https://localhost:8080/"
        },
        "id": "Jx65Wb625zHt",
        "outputId": "5b4ef460-d67b-450c-e736-6de255cc65c2"
      },
      "execution_count": 22,
      "outputs": [
        {
          "output_type": "execute_result",
          "data": {
            "text/plain": [
              "airline\n",
              "NY    1.000000\n",
              "M9    0.531250\n",
              "PE    0.502066\n",
              "FR    0.430619\n",
              "UJ    0.282212\n",
              "Name: airport_presence, dtype: float64"
            ]
          },
          "metadata": {},
          "execution_count": 22
        }
      ]
    },
    {
      "cell_type": "code",
      "source": [
        ""
      ],
      "metadata": {
        "id": "K_IUiYDL5zFg"
      },
      "execution_count": 22,
      "outputs": []
    }
  ]
}