{
  "cells": [
    {
      "cell_type": "markdown",
      "metadata": {
        "id": "1Wq4SB9A_9ic"
      },
      "source": [
        "# 🥱 LazyMergekit + 🤖 Phi3 = ❤️\n",
        "\n",
        "![](https://ebqbyiy3cbe.exactdn.com/wp-content/uploads/2024/04/423caff5-d0f3-420b-8c66-108aeba5e2d0.jpg?strip=all&lossy=1&quality=88&sharp=1&ssl=1)\n",
        "\n",
        "❤️ Created by [@maximelabonne](https://twitter.com/maximelabonne).\n",
        "\n",
        "♻️ Adapted by [@paulilioaica](https://huggingface.co/paulilioaica) to be able to create Mixture of Experts with Phi3s\n",
        "\n",
        "This notebook allows you to easily create mixture of experts using multiple Phi3s using [mergekit](https://github.com/paulilioaica/mergekit-phi3).\n",
        "\n",
        "*Special thanks to [@maximelabonne](https://github.com/cg123) for the Phixtral initiative."
      ]
    },
    {
      "cell_type": "code",
      "execution_count": null,
      "metadata": {
        "id": "LGd7jlfCpNcg"
      },
      "outputs": [],
      "source": [
        "out_path = \"phi3s\"\n",
        "\n",
        "MODEL_NAME =  \"Phi3Mix\"\n",
        "\n",
        "yaml_config = f\"\"\"\n",
        "base_model: microsoft/Phi-3-mini-4k-instruct\n",
        "gate_mode: cheap_embed\n",
        "experts_per_token: 1\n",
        "dtype: float16\n",
        "experts:\n",
        "  - source_model: microsoft/Phi-3-mini-4k-instruct\n",
        "    positive_prompts: [\"research, logic, math, science\"]\n",
        "  - source_model: microsoft/Phi-3-mini-4k-instruct\n",
        "    positive_prompts: [\"creative, art\"]\n",
        "\"\"\"\n",
        "\n",
        "\n",
        "# Save config as yaml file\n",
        "with open('config.yaml', 'w', encoding=\"utf-8\") as f:\n",
        "    f.write(yaml_config)"
      ]
    },
    {
      "cell_type": "code",
      "execution_count": null,
      "metadata": {
        "id": "d5mYzDo1q96y"
      },
      "outputs": [],
      "source": [
        "# @title ## Install dependencies\n",
        "\n",
        "# @markdown ### Install dependencies from git\n",
        "# @markdown Select your runtime (CPU, High RAM, GPU)\n",
        "\n",
        "runtime = \"CPU\" # @param [\"CPU\", \"CPU + High-RAM\", \"GPU\"]\n",
        "\n",
        "\n",
        "branch = \"mixtral\"\n",
        "trust_remote_code = True\n",
        "!git clone -b mixtral https://github.com/paulilioaica/mergekit-phi3\n",
        "!cd mergekit-phi3 && pip install -qqq -e . --progress-bar off\n",
        "!pip install -qqq -U transformers --progress-bar off\n"
      ]
    },
    {
      "cell_type": "code",
      "execution_count": null,
      "metadata": {
        "id": "d4jrwwY3Z7pQ"
      },
      "outputs": [],
      "source": [
        "# @title ## Building the CLI\n",
        "\n",
        "# @markdown ### Building the CLI\n",
        "\n",
        "\n",
        "cli = f\"mergekit-moe config.yaml {out_path}  --allow-crimes --trust-remote-code --out-shard-size 5B --lazy-unpickle --copy-tokenizer --i-understand-this-is-not-useful-without-training\"\n",
        "\n",
        "# Additional arguments\n",
        "if runtime == \"GPU\":\n",
        "  cli += \" --device cuda --low-cpu-memory\"\n"
      ]
    },
    {
      "cell_type": "code",
      "execution_count": null,
      "metadata": {
        "id": "Kj3hk8SeAsSO",
        "cellView": "form"
      },
      "outputs": [],
      "source": [
        "# @title ## Run merge!\n",
        "# @markdown ### Start the merging process\n",
        "!{cli}"
      ]
    },
    {
      "cell_type": "code",
      "source": [
        "# @title ## Copy remaining Phi3 dependencies to output folder\n",
        "\n",
        "\n",
        "!cp mergekit-phi3/mergekit/configuration_phi3.py {out_path}/configuration_phi3.py\n",
        "!cp mergekit-phi3/mergekit/modeling_phi3.py {out_path}/modeling_phi3.py"
      ],
      "metadata": {
        "id": "VXzyM6NGv3RU"
      },
      "execution_count": null,
      "outputs": []
    },
    {
      "cell_type": "code",
      "execution_count": null,
      "metadata": {
        "id": "ik0V0dF55gfU"
      },
      "outputs": [],
      "source": [
        "# @title ## Upload model to Hugging Face { display-mode: \"form\" }\n",
        "!pip install -qU huggingface_hub\n",
        "\n",
        "username = 'YOUR_USERNAME'\n",
        "token = 'YOUR_TOKEN'\n",
        "license = \"apache-2.0\"\n",
        "\n",
        "\n",
        "import yaml\n",
        "\n",
        "from huggingface_hub import ModelCard, ModelCardData, HfApi\n",
        "from jinja2 import Template\n",
        "\n",
        "template_text = \"\"\"\n",
        "---\n",
        "license: {{ license }}\n",
        "base_model:\n",
        "{%- for model in models %}\n",
        "  - {{ model }}\n",
        "{%- endfor %}\n",
        "tags:\n",
        "- moe\n",
        "- merge\n",
        "- mergekit\n",
        "- lazymergekit\n",
        "- phi3_mergekit\n",
        "\n",
        "{%- for model in models %}\n",
        "- {{ model }}\n",
        "{%- endfor %}\n",
        "---\n",
        "\n",
        "# {{ model_name }}\n",
        "\n",
        "{{ model_name }} is a Mixture of Experts (MoE) made with the following models using [Phi3_LazyMergekit](https://colab.research.google.com/drive/1Upb8JOAS3-K-iemblew34p9h1H6wtCeU?usp=sharing):\n",
        "\n",
        "{%- for model in models %}\n",
        "* [{{ model }}](https://huggingface.co/{{ model }})\n",
        "{%- endfor %}\n",
        "\n",
        "\n",
        "## 🧩 Configuration\n",
        "\n",
        "```yaml\n",
        "{{- yaml_config -}}\n",
        "```\n",
        "\n",
        "## 💻 Usage\n",
        "\n",
        "```python\n",
        "import torch\n",
        "from transformers import AutoModelForCausalLM, AutoTokenizer\n",
        "\n",
        "model = \"{{ username }}/{{ model_name }}\"\n",
        "\n",
        "tokenizer = AutoTokenizer.from_pretrained(model)\n",
        "\n",
        "model = AutoModelForCausalLM.from_pretrained(\n",
        "    model,\n",
        "    trust_remote_code=True,\n",
        ")\n",
        "\n",
        "prompt=\"How many continents are there?\"\n",
        "input = f\"<|system|>You are a helpful AI assistant.<|end|><|user|>{prompt}<|assistant|>\"\n",
        "tokenized_input = tokenizer.encode(input, return_tensors=\"pt\")\n",
        "\n",
        "outputs = model.generate(tokenized_input, max_new_tokens=128, do_sample=True, temperature=0.7, top_k=50, top_p=0.95)\n",
        "print(tokenizer.decode(outputs[0]))\n",
        "```\n",
        "\"\"\"\n",
        "\n",
        "# Create a Jinja template object\n",
        "jinja_template = Template(template_text.strip())\n",
        "\n",
        "# Fill the template\n",
        "data = yaml.safe_load(yaml_config)\n",
        "models = [model['source_model'] for model in data['experts']]\n",
        "\n",
        "content = jinja_template.render(\n",
        "    model_name=MODEL_NAME,\n",
        "    models=models,\n",
        "    yaml_config=yaml_config,\n",
        "    username=username,\n",
        "    license=license\n",
        ")\n",
        "\n",
        "# Save the model card\n",
        "card = ModelCard(content)\n",
        "card.save(f'{out_path}/README.md')\n",
        "\n",
        "# Defined in the secrets tab in Google Colab\n",
        "api = HfApi(token=token)\n",
        "\n",
        "# Upload merge folder\n",
        "api.create_repo(\n",
        "    repo_id=f\"{username}/{MODEL_NAME}\",\n",
        "    repo_type=\"model\",\n",
        "    exist_ok=True,\n",
        ")\n",
        "api.upload_folder(\n",
        "    repo_id=f\"{username}/{MODEL_NAME}\",\n",
        "    folder_path=out_path,\n",
        ")"
      ]
    }
  ],
  "metadata": {
    "colab": {
      "provenance": [],
      "gpuType": "T4"
    },
    "kernelspec": {
      "display_name": "Python 3",
      "name": "python3"
    },
    "language_info": {
      "codemirror_mode": {
        "name": "ipython",
        "version": 3
      },
      "file_extension": ".py",
      "mimetype": "text/x-python",
      "name": "python",
      "nbconvert_exporter": "python",
      "pygments_lexer": "ipython3",
      "version": "3.8.5"
    },
    "accelerator": "GPU"
  },
  "nbformat": 4,
  "nbformat_minor": 0
}