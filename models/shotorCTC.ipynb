{
  "cells": [
    {
      "cell_type": "markdown",
      "metadata": {
        "id": "2G5bK8BU870A"
      },
      "source": [
        "# Word Level OCR for Persian Language\n",
        "## Based on Recurrent Neural Networks\n",
        "Amirabbas Asadi, amir137825@gmail.com"
      ]
    },
    {
      "cell_type": "markdown",
      "metadata": {
        "id": "SIyqRgeN870E"
      },
      "source": [
        "## Requirements\n",
        "- Pandas, Numpy\n",
        "- Pytorch\n",
        "- OpenCV\n",
        "- imgaug"
      ]
    },
    {
      "cell_type": "markdown",
      "metadata": {
        "id": "DZO2MlML870E"
      },
      "source": [
        "## Dataset\n",
        "I created a Synthetic dataset called Shotor containing 120000 images and correspond words.  \n",
        "[Download The Dataset](https://github.com/amirabbasasadi/Shotor)"
      ]
    },
    {
      "cell_type": "markdown",
      "metadata": {
        "id": "pKbJUA7F870F"
      },
      "source": [
        "## Loading and using images"
      ]
    },
    {
      "cell_type": "code",
      "execution_count": 1,
      "metadata": {
        "id": "9oIkC_He870F"
      },
      "outputs": [],
      "source": [
        "from imgaug import augmenters as iaa\n",
        "import os\n",
        "import torch\n",
        "import pandas as pd\n",
        "from skimage import io, transform\n",
        "import numpy as np\n",
        "import seaborn as sns\n",
        "sns.set()\n",
        "sns.set_style('dark')\n",
        "import matplotlib.pyplot as plt\n",
        "from torch.utils.data import Dataset, DataLoader\n",
        "from torchvision import transforms, utils\n",
        "import torchvision\n",
        "from random import randint"
      ]
    },
    {
      "cell_type": "markdown",
      "metadata": {
        "id": "VeW9ngBT870G"
      },
      "source": [
        "### Some configurations"
      ]
    },
    {
      "cell_type": "code",
      "execution_count": 2,
      "metadata": {
        "id": "N_o9Ut-q870H"
      },
      "outputs": [],
      "source": [
        "img_width = 100\n",
        "img_height = 50\n",
        "img_splits = 20\n",
        "word_max_len = 15\n",
        "device = 'cpu' "
      ]
    },
    {
      "cell_type": "markdown",
      "metadata": {
        "id": "lBOKc-UR870I"
      },
      "source": [
        "### Set dataset path"
      ]
    },
    {
      "cell_type": "code",
      "source": [
        "!mkdir shotor"
      ],
      "metadata": {
        "id": "tvfxojDy-MOE"
      },
      "execution_count": 3,
      "outputs": []
    },
    {
      "cell_type": "code",
      "source": [
        "from google.colab import drive\n",
        "drive.mount('/content/drive')"
      ],
      "metadata": {
        "colab": {
          "base_uri": "https://localhost:8080/"
        },
        "id": "3i5RPejo9OjA",
        "outputId": "d90083c2-5d31-4b96-c49e-fa10869a9141"
      },
      "execution_count": 4,
      "outputs": [
        {
          "output_type": "stream",
          "name": "stdout",
          "text": [
            "Mounted at /content/drive\n"
          ]
        }
      ]
    },
    {
      "cell_type": "code",
      "source": [
        "import tarfile\n",
        "file = tarfile.open('/content/drive/MyDrive/NLP/Shotor_Images.tar.gz')\n",
        "file.extractall('/content/shotor/')  \n",
        "file.close()"
      ],
      "metadata": {
        "id": "jSqgLTsV9OlE"
      },
      "execution_count": 5,
      "outputs": []
    },
    {
      "cell_type": "code",
      "execution_count": 6,
      "metadata": {
        "id": "9eK5C-o_870I"
      },
      "outputs": [],
      "source": [
        "dataset_path = '/content/shotor/Shotor_Images/'\n",
        "csv_words_path = '/content/drive/MyDrive/NLP/Shotor_Words.csv'"
      ]
    },
    {
      "cell_type": "markdown",
      "metadata": {
        "id": "usWlfgVI870J"
      },
      "source": [
        "### Creating dataset object\n",
        "It is easier to define a dataset object for using data for Pytorch models"
      ]
    },
    {
      "cell_type": "code",
      "execution_count": 7,
      "metadata": {
        "id": "OmVl0CJ5870J"
      },
      "outputs": [],
      "source": [
        "class PersianOCR(Dataset):\n",
        "    \"\"\"Persian Hand-Written dataset.\"\"\"\n",
        "\n",
        "    def __init__(self, csv_file, root_dir, transform=None):\n",
        "        \"\"\"\n",
        "        Args:\n",
        "            csv_file (string): Path to the csv file with annotations.\n",
        "            root_dir (string): Directory with all the images.\n",
        "            transform (callable, optional): Optional transform to be applied\n",
        "                on a sample.\n",
        "        \"\"\"\n",
        "        self.root_dir = root_dir\n",
        "        self.transform = transform\n",
        "        # read the csv file\n",
        "        self.csv = pd.read_csv(csv_file)\n",
        "    def __len__(self):\n",
        "        return self.csv.shape[0]\n",
        "\n",
        "    def __getitem__(self, idx):\n",
        "        if torch.is_tensor(idx):\n",
        "            idx = idx.tolist()\n",
        "        img_name = os.path.join(self.root_dir,\n",
        "                                self.csv.iloc[idx, 0])\n",
        "        word = self.csv.iloc[idx, 1]\n",
        "        image = io.imread(img_name)\n",
        "        \n",
        "        item = {'image': image, 'word': word}\n",
        "\n",
        "        if self.transform:\n",
        "            item = self.transform(item)\n",
        "\n",
        "        return item\n",
        "\n",
        "dataset = PersianOCR(csv_words_path, dataset_path)"
      ]
    },
    {
      "cell_type": "markdown",
      "metadata": {
        "id": "SJgrStp-870J"
      },
      "source": [
        "### Checking the raw dataset\n",
        "Take a look at some random words from dataset"
      ]
    },
    {
      "cell_type": "code",
      "execution_count": 8,
      "metadata": {
        "colab": {
          "base_uri": "https://localhost:8080/",
          "height": 287
        },
        "id": "MFUufDA2870K",
        "outputId": "8db10a4d-84b2-4115-8462-dba6334989ab"
      },
      "outputs": [
        {
          "output_type": "display_data",
          "data": {
            "text/plain": [
              "<Figure size 720x864 with 40 Axes>"
            ],
            "image/png": "[encoded data removed]"
          },
          "metadata": {}
        }
      ],
      "source": [
        "from mpl_toolkits.axes_grid1 import ImageGrid\n",
        "fig = plt.figure(figsize=(10., 12.))\n",
        "grid = ImageGrid(fig, 111, nrows_ncols=(4, 5), axes_pad=0.1)\n",
        "\n",
        "images = []\n",
        "for _ in range(20):\n",
        "  images.append(dataset[randint(0, len(dataset)-1)]['image'])\n",
        "\n",
        "for ax, im in zip(grid, images):\n",
        "    ax.imshow(im)\n",
        "plt.show()"
      ]
    },
    {
      "cell_type": "markdown",
      "metadata": {
        "id": "nOP4JZxi870K"
      },
      "source": [
        "### Converting Words and Images to Pytorch Tensors\n",
        "We should define all persian alphabets.\n",
        "Also we define `S` as start token and `E` as end token and `-` as blank character which is used for CTCLoss that we wanna use and is different from space character."
      ]
    },
    {
      "cell_type": "code",
      "execution_count": 9,
      "metadata": {
        "id": "djTIc7S3870L"
      },
      "outputs": [],
      "source": [
        "# define all persian alphabets\n",
        "pchars = \"آ ا ب پ ت ث ج چ ح خ د ذ ر ز ژ س ش ص ض ط ظ ع غ ف ق ک گ ل م ن و ه ی ئ\"\n",
        "pchars = ['-',' ', 'S', 'E'] + pchars.split(' ')\n",
        "letter_to_index = {}\n",
        "for i in range(len(pchars)):\n",
        "  letter_to_index[pchars[i]] = i\n",
        "enc_dim = len(pchars)"
      ]
    },
    {
      "cell_type": "code",
      "execution_count": 10,
      "metadata": {
        "id": "sP_EWpq1870L"
      },
      "outputs": [],
      "source": [
        "class ToTensor(object):\n",
        "    \"\"\"Convert ndarrays in sample to Tensors.\"\"\"\n",
        "    def __call__(self, sample):\n",
        "        image, word = sample['image'], sample['word']\n",
        "        image = image.reshape(-1, img_height, img_width)\n",
        "        if (len(word) > word_max_len):\n",
        "          word = word[:word_max_len]\n",
        "        word = word + 'E'\n",
        "        original_word = [[letter_to_index[c]] for c in word]\n",
        "        return {'image': torch.from_numpy(image).double(),\n",
        "                'word' : torch.LongTensor(original_word)}"
      ]
    },
    {
      "cell_type": "markdown",
      "metadata": {
        "id": "rC27mgMt870L"
      },
      "source": [
        "### Augmentation Pipeline\n",
        "using imgaug we can define an Augmentation pipeline. It helps to train a robust model and useable for more realistic data. It randomly applies some of 5 augmentations."
      ]
    },
    {
      "cell_type": "code",
      "execution_count": 11,
      "metadata": {
        "id": "n9yLo3Fc870L"
      },
      "outputs": [],
      "source": [
        "class ImageAug(object):\n",
        "    \"\"\"Apply Image Augmentation on style and output\"\"\"\n",
        "\n",
        "    def __call__(self, sample):\n",
        "        image, word = sample['image'], sample['word']\n",
        "        aug = iaa.SomeOf((0, 5), [\n",
        "            iaa.Affine(scale={\"x\": (0.80, 1.20), \"y\": (0.80, 1.20)}),\n",
        "            iaa.Affine(translate_percent={\"x\": (-0.2, 0.2), \"y\": (-0.2, 0.2)}),\n",
        "            iaa.Add((-30, 30)),\n",
        "            iaa.Multiply((0.80, 1.20)),\n",
        "            iaa.GaussianBlur(sigma=(0, 0.2))\n",
        "        ])\n",
        "        image = aug(images=image)\n",
        "        return {'image': image,\n",
        "                'word': word}\n"
      ]
    },
    {
      "cell_type": "markdown",
      "metadata": {
        "id": "o2-gILxF870M"
      },
      "source": [
        "### Create Dataset with Transformations"
      ]
    },
    {
      "cell_type": "code",
      "execution_count": 12,
      "metadata": {
        "id": "FxfRzyTq870M"
      },
      "outputs": [],
      "source": [
        "transformed_dataset = PersianOCR(csv_words_path, dataset_path,\n",
        "                                 transform=transforms.Compose([ImageAug(), ToTensor()]))\n",
        "\n",
        "dataloader = DataLoader(transformed_dataset, batch_size=1, shuffle=True)"
      ]
    },
    {
      "cell_type": "markdown",
      "metadata": {
        "id": "fwshwPCM870M"
      },
      "source": [
        "### See some samples from transformed dataset"
      ]
    },
    {
      "cell_type": "code",
      "execution_count": 13,
      "metadata": {
        "colab": {
          "base_uri": "https://localhost:8080/",
          "height": 287
        },
        "id": "TLR_yt8M870M",
        "outputId": "6457e78b-8769-4824-acfa-ec7ab9c0c43a"
      },
      "outputs": [
        {
          "output_type": "display_data",
          "data": {
            "text/plain": [
              "<Figure size 720x864 with 40 Axes>"
            ],
            "image/png": "[encoded data removed]"
          },
          "metadata": {}
        }
      ],
      "source": [
        "dataiter = iter(dataloader)\n",
        "\n",
        "fig = plt.figure(figsize=(10., 12.))\n",
        "grid = ImageGrid(fig, 111, nrows_ncols=(4, 5), axes_pad=0.1)\n",
        "\n",
        "images = []\n",
        "for _ in range(20):\n",
        "  batch = dataiter.next()\n",
        "  images.append(batch['image'][0][0])\n",
        "\n",
        "for ax, im in zip(grid, images):\n",
        "    ax.imshow(im)\n",
        "\n",
        "plt.show()"
      ]
    },
    {
      "cell_type": "markdown",
      "metadata": {
        "id": "XaCKit3a870M"
      },
      "source": [
        "## Defining a Recurrent Neural Network in Pytorch"
      ]
    },
    {
      "cell_type": "code",
      "execution_count": 14,
      "metadata": {
        "colab": {
          "base_uri": "https://localhost:8080/"
        },
        "id": "BG3Ryf9d870N",
        "outputId": "74bc5560-7434-49c6-bb39-2c7a2bae0d0a"
      },
      "outputs": [
        {
          "output_type": "stream",
          "name": "stdout",
          "text": [
            "OCRNet(\n",
            "  (fc1): Linear(in_features=250, out_features=450, bias=True)\n",
            "  (fc2): Linear(in_features=450, out_features=200, bias=True)\n",
            "  (drop): Dropout(p=0.1, inplace=False)\n",
            "  (act): CELU(alpha=1.0)\n",
            "  (i2h): Linear(in_features=276, out_features=80, bias=True)\n",
            "  (h2h): Linear(in_features=80, out_features=60, bias=True)\n",
            "  (h2h2): Linear(in_features=60, out_features=38, bias=True)\n",
            "  (i2o): Linear(in_features=276, out_features=200, bias=True)\n",
            "  (o2o): Linear(in_features=200, out_features=38, bias=True)\n",
            "  (softmax): LogSoftmax(dim=1)\n",
            ")\n",
            "Number of Parameters:  295526\n"
          ]
        }
      ],
      "source": [
        "import torch.nn as nn\n",
        "\n",
        "class OCRNet(nn.Module):\n",
        "    def __init__(self, img_size, hidden_size):\n",
        "        super(OCRNet, self).__init__()\n",
        "        self.hidden_size = hidden_size\n",
        "        self.img_size = img_size\n",
        "        self.enc_img_size = 200\n",
        "        self.fc1 = nn.Linear(self.img_size, 450)\n",
        "        self.fc2 = nn.Linear(450, self.enc_img_size)\n",
        "        self.drop = nn.Dropout(p=0.1)\n",
        "        self.act = nn.CELU()\n",
        "        self.i2h = nn.Linear(self.enc_img_size + enc_dim + self.hidden_size, 80)\n",
        "        self.h2h = nn.Linear(80, 60)\n",
        "        self.h2h2 = nn.Linear(60, self.hidden_size)\n",
        "        self.i2o = nn.Linear(self.enc_img_size + enc_dim + self.hidden_size, 200)\n",
        "        self.o2o = nn.Linear(200, enc_dim)\n",
        "        self.softmax = nn.LogSoftmax(dim=1)\n",
        "    def forward(self, x, input, hidden):\n",
        "        x = x.reshape((1, -1))\n",
        "        x = self.act(self.fc1(x))\n",
        "        x = self.act(self.fc2(x))\n",
        "        x = self.drop(x)\n",
        "        combined = torch.cat((x, input.view((1, -1)), hidden.view((1, -1))), 1)\n",
        "        hidden = self.act(self.i2h(combined))\n",
        "        hidden = self.act(self.h2h(hidden))\n",
        "        hidden = self.h2h2(hidden)\n",
        "        output = self.act(self.i2o(combined))\n",
        "        output = self.o2o(output)\n",
        "        output = self.softmax(output)\n",
        "        \n",
        "        return output, hidden\n",
        "\n",
        "\n",
        "net = OCRNet(int(img_width/img_splits)*img_height, enc_dim).double()\n",
        "net = net.to(device)\n",
        "print(net)\n",
        "print(\"Number of Parameters: \", sum(p.numel() for p in net.parameters() if p.requires_grad))"
      ]
    },
    {
      "cell_type": "markdown",
      "metadata": {
        "id": "QC4GGGU_870N"
      },
      "source": [
        "## Training The Model"
      ]
    },
    {
      "cell_type": "markdown",
      "metadata": {
        "id": "FrapfhTE870N"
      },
      "source": [
        "### Generating start token"
      ]
    },
    {
      "cell_type": "code",
      "execution_count": 15,
      "metadata": {
        "id": "Wwf3GlOa870N"
      },
      "outputs": [],
      "source": [
        "def get_start_token():\n",
        "  start_token = torch.zeros((1, enc_dim), dtype=torch.double).to(device)\n",
        "  start_token[0][letter_to_index['S']] = 1\n",
        "  return start_token"
      ]
    },
    {
      "cell_type": "markdown",
      "metadata": {
        "id": "xmpxROaB870N"
      },
      "source": [
        "### Defining Optimizer"
      ]
    },
    {
      "cell_type": "code",
      "execution_count": 16,
      "metadata": {
        "id": "yxqjMsx0870N"
      },
      "outputs": [],
      "source": [
        "import torch.optim as optim\n",
        "\n",
        "# I suggest to decrease the learning rate after each epoch\n",
        "# for the first one I used lr = 0.0002 and for the second lr = 0.00005\n",
        "optim_learning_rate = 0.0002\n",
        "\n",
        "criterion = nn.CTCLoss() \n",
        "optimizer = optim.Adam(net.parameters(), lr=optim_learning_rate, betas=(0.5, 0.999))\n",
        "\n",
        "epochs = 1\n",
        "mini_batchs = 100\n",
        "loss_values = []"
      ]
    },
    {
      "cell_type": "markdown",
      "metadata": {
        "id": "sLPOJxYY870N"
      },
      "source": [
        "### Training\n",
        "After two epochs I saw an acceptable output. on CPU each epoch might take 1-2 hours."
      ]
    },
    {
      "cell_type": "code",
      "execution_count": 17,
      "metadata": {
        "colab": {
          "base_uri": "https://localhost:8080/"
        },
        "id": "v5HXR7kQ870N",
        "outputId": "2060023c-1684-4c0d-e5a5-9446d12894f8"
      },
      "outputs": [
        {
          "output_type": "stream",
          "name": "stdout",
          "text": [
            "[1,   100] loss: 4.44799\n",
            "[1,   200] loss: 3.31295\n",
            "[1,   300] loss: 3.14176\n",
            "[1,   400] loss: 3.03006\n",
            "[1,   500] loss: 2.89140\n",
            "[1,   600] loss: 2.67338\n",
            "[1,   700] loss: 2.65186\n",
            "[1,   800] loss: 2.65825\n",
            "[1,   900] loss: 2.54854\n",
            "[1,  1000] loss: 2.60027\n",
            "[1,  1100] loss: 2.40687\n",
            "[1,  1200] loss: 2.52121\n",
            "[1,  1300] loss: 2.34141\n",
            "[1,  1400] loss: 2.17745\n",
            "[1,  1500] loss: 2.23043\n",
            "[1,  1600] loss: 2.14139\n",
            "[1,  1700] loss: 2.32435\n",
            "[1,  1800] loss: 2.15876\n",
            "[1,  1900] loss: 2.23877\n",
            "[1,  2000] loss: 2.07212\n",
            "[1,  2100] loss: 2.11249\n",
            "[1,  2200] loss: 1.95021\n",
            "[1,  2300] loss: 1.89597\n",
            "[1,  2400] loss: 1.89850\n",
            "[1,  2500] loss: 1.86754\n",
            "[1,  2600] loss: 1.93399\n",
            "[1,  2700] loss: 1.81171\n",
            "[1,  2800] loss: 1.78701\n",
            "[1,  2900] loss: 1.66491\n",
            "[1,  3000] loss: 1.54071\n",
            "[1,  3100] loss: 1.65558\n",
            "[1,  3200] loss: 1.63908\n",
            "[1,  3300] loss: 1.65869\n",
            "[1,  3400] loss: 1.65105\n",
            "[1,  3500] loss: 1.58473\n",
            "[1,  3600] loss: 1.33368\n",
            "[1,  3700] loss: 1.48749\n",
            "[1,  3800] loss: 1.43434\n",
            "[1,  3900] loss: 1.53656\n",
            "[1,  4000] loss: 1.50287\n",
            "[1,  4100] loss: 1.41000\n",
            "[1,  4200] loss: 1.50804\n",
            "[1,  4300] loss: 1.29226\n",
            "[1,  4400] loss: 1.45940\n",
            "[1,  4500] loss: 1.48160\n",
            "[1,  4600] loss: 1.32341\n",
            "[1,  4700] loss: 1.39650\n",
            "[1,  4800] loss: 1.39756\n",
            "[1,  4900] loss: 1.17958\n",
            "[1,  5000] loss: 1.40525\n",
            "[1,  5100] loss: 1.20213\n",
            "[1,  5200] loss: 1.33185\n",
            "[1,  5300] loss: 1.29448\n",
            "[1,  5400] loss: 1.21063\n",
            "[1,  5500] loss: 1.22522\n",
            "[1,  5600] loss: 1.25690\n",
            "[1,  5700] loss: 1.21187\n",
            "[1,  5800] loss: 1.27593\n",
            "[1,  5900] loss: 1.40170\n",
            "[1,  6000] loss: 1.13012\n",
            "[1,  6100] loss: 1.30374\n",
            "[1,  6200] loss: 1.21392\n",
            "[1,  6300] loss: 1.03469\n",
            "[1,  6400] loss: 1.26075\n",
            "[1,  6500] loss: 1.17605\n",
            "[1,  6600] loss: 1.20245\n",
            "[1,  6700] loss: 1.17999\n",
            "[1,  6800] loss: 1.04686\n",
            "[1,  6900] loss: 1.29668\n",
            "[1,  7000] loss: 1.16241\n",
            "[1,  7100] loss: 0.94150\n",
            "[1,  7200] loss: 1.18588\n",
            "[1,  7300] loss: 1.05014\n",
            "[1,  7400] loss: 1.06539\n",
            "[1,  7500] loss: 1.20279\n",
            "[1,  7600] loss: 1.13828\n",
            "[1,  7700] loss: 1.16048\n",
            "[1,  7800] loss: 0.92783\n",
            "[1,  7900] loss: 1.12103\n",
            "[1,  8000] loss: 1.01593\n",
            "[1,  8100] loss: 1.23509\n",
            "[1,  8200] loss: 1.08988\n",
            "[1,  8300] loss: 1.01560\n",
            "[1,  8400] loss: 1.08720\n",
            "[1,  8500] loss: 1.03033\n",
            "[1,  8600] loss: 0.99112\n",
            "[1,  8700] loss: 0.93252\n",
            "[1,  8800] loss: 1.07672\n",
            "[1,  8900] loss: 1.10087\n",
            "[1,  9000] loss: 1.06283\n",
            "[1,  9100] loss: 1.07187\n",
            "[1,  9200] loss: 1.02861\n",
            "[1,  9300] loss: 1.05522\n",
            "[1,  9400] loss: 0.98420\n",
            "[1,  9500] loss: 1.04386\n",
            "[1,  9600] loss: 0.91968\n",
            "[1,  9700] loss: 1.19375\n",
            "[1,  9800] loss: 0.93545\n",
            "[1,  9900] loss: 0.89867\n",
            "[1, 10000] loss: 0.89226\n",
            "[1, 10100] loss: 0.92219\n",
            "[1, 10200] loss: 1.04873\n",
            "[1, 10300] loss: 1.00034\n",
            "[1, 10400] loss: 0.94383\n",
            "[1, 10500] loss: 0.94384\n",
            "[1, 10600] loss: 0.94394\n",
            "[1, 10700] loss: 1.05115\n",
            "[1, 10800] loss: 1.08523\n",
            "[1, 10900] loss: 0.81475\n",
            "[1, 11000] loss: 0.93113\n",
            "[1, 11100] loss: 0.93506\n",
            "[1, 11200] loss: 0.96284\n",
            "[1, 11300] loss: 0.98654\n",
            "[1, 11400] loss: 0.89037\n",
            "[1, 11500] loss: 0.82043\n",
            "[1, 11600] loss: 0.89522\n",
            "[1, 11700] loss: 1.04754\n",
            "[1, 11800] loss: 0.93848\n",
            "[1, 11900] loss: 0.87340\n",
            "[1, 12000] loss: 0.99090\n",
            "[1, 12100] loss: 0.96929\n",
            "[1, 12200] loss: 1.00835\n",
            "[1, 12300] loss: 0.95749\n",
            "[1, 12400] loss: 0.97995\n",
            "[1, 12500] loss: 1.03018\n",
            "[1, 12600] loss: 0.91009\n",
            "[1, 12700] loss: 1.05224\n",
            "[1, 12800] loss: 0.94845\n",
            "[1, 12900] loss: 0.97077\n",
            "[1, 13000] loss: 0.78399\n",
            "[1, 13100] loss: 0.97708\n",
            "[1, 13200] loss: 0.89593\n",
            "[1, 13300] loss: 0.83527\n",
            "[1, 13400] loss: 0.84551\n",
            "[1, 13500] loss: 0.79267\n",
            "[1, 13600] loss: 0.86153\n",
            "[1, 13700] loss: 0.91849\n",
            "[1, 13800] loss: 0.96695\n",
            "[1, 13900] loss: 0.83946\n",
            "[1, 14000] loss: 0.90980\n",
            "[1, 14100] loss: 0.88308\n",
            "[1, 14200] loss: 0.84483\n",
            "[1, 14300] loss: 0.84037\n",
            "[1, 14400] loss: 0.88027\n",
            "[1, 14500] loss: 0.86925\n",
            "[1, 14600] loss: 0.74952\n",
            "[1, 14700] loss: 0.77118\n",
            "[1, 14800] loss: 1.05707\n",
            "[1, 14900] loss: 0.83076\n",
            "[1, 15000] loss: 0.83850\n",
            "[1, 15100] loss: 0.84427\n",
            "[1, 15200] loss: 0.73881\n",
            "[1, 15300] loss: 0.96976\n",
            "[1, 15400] loss: 0.85923\n",
            "[1, 15500] loss: 0.77740\n",
            "[1, 15600] loss: 0.95327\n",
            "[1, 15700] loss: 0.83837\n",
            "[1, 15800] loss: 0.74612\n",
            "[1, 15900] loss: 0.75797\n",
            "[1, 16000] loss: 0.92700\n",
            "[1, 16100] loss: 0.87574\n",
            "[1, 16200] loss: 0.88906\n",
            "[1, 16300] loss: 0.65297\n",
            "[1, 16400] loss: 0.71760\n",
            "[1, 16500] loss: 0.90798\n",
            "[1, 16600] loss: 0.66503\n",
            "[1, 16700] loss: 0.80848\n",
            "[1, 16800] loss: 0.89566\n",
            "[1, 16900] loss: 0.94276\n",
            "[1, 17000] loss: 0.82238\n",
            "[1, 17100] loss: 0.87295\n",
            "[1, 17200] loss: 0.60675\n",
            "[1, 17300] loss: 0.79129\n",
            "[1, 17400] loss: 0.89934\n",
            "[1, 17500] loss: 0.70394\n",
            "[1, 17600] loss: 0.86764\n",
            "[1, 17700] loss: 0.98094\n",
            "[1, 17800] loss: 0.70477\n",
            "[1, 17900] loss: 0.76111\n",
            "[1, 18000] loss: 0.77844\n",
            "[1, 18100] loss: 0.78010\n",
            "[1, 18200] loss: 0.84166\n",
            "[1, 18300] loss: 0.89412\n",
            "[1, 18400] loss: 0.79916\n",
            "[1, 18500] loss: 0.81852\n",
            "[1, 18600] loss: 0.71940\n",
            "[1, 18700] loss: 0.87268\n",
            "[1, 18800] loss: 0.64889\n",
            "[1, 18900] loss: 0.83532\n",
            "[1, 19000] loss: 0.77645\n",
            "[1, 19100] loss: 0.81104\n",
            "[1, 19200] loss: 0.75682\n",
            "[1, 19300] loss: 0.75441\n",
            "[1, 19400] loss: 0.78370\n",
            "[1, 19500] loss: 0.84006\n",
            "[1, 19600] loss: 0.71784\n",
            "[1, 19700] loss: 0.80467\n",
            "[1, 19800] loss: 0.78104\n",
            "[1, 19900] loss: 0.74966\n",
            "[1, 20000] loss: 0.77953\n",
            "[1, 20100] loss: 0.66715\n",
            "[1, 20200] loss: 0.62796\n",
            "[1, 20300] loss: 0.76939\n",
            "[1, 20400] loss: 0.76944\n",
            "[1, 20500] loss: 0.82524\n",
            "[1, 20600] loss: 0.72794\n",
            "[1, 20700] loss: 0.75240\n",
            "[1, 20800] loss: 0.80302\n",
            "[1, 20900] loss: 0.85849\n",
            "[1, 21000] loss: 0.73109\n",
            "[1, 21100] loss: 0.59334\n",
            "[1, 21200] loss: 0.77989\n",
            "[1, 21300] loss: 0.70141\n",
            "[1, 21400] loss: 0.66888\n",
            "[1, 21500] loss: 0.64014\n",
            "[1, 21600] loss: 0.79047\n",
            "[1, 21700] loss: 0.79952\n",
            "[1, 21800] loss: 0.66603\n",
            "[1, 21900] loss: 0.82994\n",
            "[1, 22000] loss: 0.61835\n",
            "[1, 22100] loss: 0.81655\n",
            "[1, 22200] loss: 0.68698\n",
            "[1, 22300] loss: 0.61860\n",
            "[1, 22400] loss: 0.80627\n",
            "[1, 22500] loss: 0.66407\n",
            "[1, 22600] loss: 0.72194\n",
            "[1, 22700] loss: 0.62775\n",
            "[1, 22800] loss: 0.77198\n",
            "[1, 22900] loss: 0.72392\n",
            "[1, 23000] loss: 0.51977\n",
            "[1, 23100] loss: 0.68933\n",
            "[1, 23200] loss: 0.81221\n",
            "[1, 23300] loss: 0.77798\n",
            "[1, 23400] loss: 0.54144\n",
            "[1, 23500] loss: 0.63834\n",
            "[1, 23600] loss: 0.65336\n",
            "[1, 23700] loss: 0.64701\n",
            "[1, 23800] loss: 0.73281\n",
            "[1, 23900] loss: 0.64272\n",
            "[1, 24000] loss: 0.77812\n",
            "[1, 24100] loss: 0.73333\n",
            "[1, 24200] loss: 0.64170\n",
            "[1, 24300] loss: 0.69550\n",
            "[1, 24400] loss: 0.69348\n",
            "[1, 24500] loss: 0.59263\n",
            "[1, 24600] loss: 0.55301\n",
            "[1, 24700] loss: 0.82989\n",
            "[1, 24800] loss: 0.55643\n",
            "[1, 24900] loss: 0.78506\n",
            "[1, 25000] loss: 0.65886\n",
            "[1, 25100] loss: 0.58267\n",
            "[1, 25200] loss: 0.74245\n",
            "[1, 25300] loss: 0.63143\n",
            "[1, 25400] loss: 0.62493\n",
            "[1, 25500] loss: 0.68569\n",
            "[1, 25600] loss: 0.68453\n",
            "[1, 25700] loss: 0.54053\n",
            "[1, 25800] loss: 0.84757\n",
            "[1, 25900] loss: 0.70894\n",
            "[1, 26000] loss: 0.69981\n",
            "[1, 26100] loss: 0.68148\n",
            "[1, 26200] loss: 0.69763\n",
            "[1, 26300] loss: 0.72862\n",
            "[1, 26400] loss: 0.84888\n",
            "[1, 26500] loss: 0.63841\n",
            "[1, 26600] loss: 0.71406\n",
            "[1, 26700] loss: 0.49511\n",
            "[1, 26800] loss: 0.67732\n",
            "[1, 26900] loss: 0.78836\n",
            "[1, 27000] loss: 0.62875\n",
            "[1, 27100] loss: 0.66419\n",
            "[1, 27200] loss: 0.53000\n",
            "[1, 27300] loss: 0.67497\n",
            "[1, 27400] loss: 0.65414\n",
            "[1, 27500] loss: 0.71877\n",
            "[1, 27600] loss: 0.58529\n",
            "[1, 27700] loss: 0.67295\n",
            "[1, 27800] loss: 0.60587\n",
            "[1, 27900] loss: 0.65411\n",
            "[1, 28000] loss: 0.67727\n",
            "[1, 28100] loss: 0.57383\n",
            "[1, 28200] loss: 0.66913\n",
            "[1, 28300] loss: 0.54348\n",
            "[1, 28400] loss: 0.67758\n",
            "[1, 28500] loss: 0.56671\n",
            "[1, 28600] loss: 0.58423\n",
            "[1, 28700] loss: 0.80756\n",
            "[1, 28800] loss: 0.55709\n",
            "[1, 28900] loss: 0.81702\n",
            "[1, 29000] loss: 0.58452\n",
            "[1, 29100] loss: 0.70935\n",
            "[1, 29200] loss: 0.60183\n",
            "[1, 29300] loss: 0.68195\n",
            "[1, 29400] loss: 0.58045\n",
            "[1, 29500] loss: 0.69963\n",
            "[1, 29600] loss: 0.48612\n",
            "[1, 29700] loss: 0.55845\n",
            "[1, 29800] loss: 0.55531\n",
            "[1, 29900] loss: 0.67269\n",
            "[1, 30000] loss: 0.67068\n",
            "[1, 30100] loss: 0.69322\n",
            "[1, 30200] loss: 0.58786\n",
            "[1, 30300] loss: 0.59903\n",
            "[1, 30400] loss: 0.60028\n",
            "[1, 30500] loss: 0.56837\n",
            "[1, 30600] loss: 0.71714\n",
            "[1, 30700] loss: 0.59246\n",
            "[1, 30800] loss: 0.53640\n",
            "[1, 30900] loss: 0.73605\n",
            "[1, 31000] loss: 0.67701\n",
            "[1, 31100] loss: 0.60835\n",
            "[1, 31200] loss: 0.64381\n",
            "[1, 31300] loss: 0.74986\n",
            "[1, 31400] loss: 1.15333\n",
            "[1, 31500] loss: 0.74135\n",
            "[1, 31600] loss: 0.75077\n",
            "[1, 31700] loss: 0.52726\n",
            "[1, 31800] loss: 0.72984\n",
            "[1, 31900] loss: 0.62123\n",
            "[1, 32000] loss: 0.75747\n",
            "[1, 32100] loss: 0.63963\n",
            "[1, 32200] loss: 0.62354\n",
            "[1, 32300] loss: 0.69231\n",
            "[1, 32400] loss: 0.66455\n",
            "[1, 32500] loss: 0.59491\n",
            "[1, 32600] loss: 0.65197\n",
            "[1, 32700] loss: 0.50912\n",
            "[1, 32800] loss: 0.56397\n",
            "[1, 32900] loss: 0.56929\n",
            "[1, 33000] loss: 0.55597\n",
            "[1, 33100] loss: 0.55923\n",
            "[1, 33200] loss: 0.59233\n",
            "[1, 33300] loss: 0.58320\n",
            "[1, 33400] loss: 0.59854\n",
            "[1, 33500] loss: 0.55952\n",
            "[1, 33600] loss: 0.52937\n",
            "[1, 33700] loss: 0.69496\n",
            "[1, 33800] loss: 0.56768\n",
            "[1, 33900] loss: 0.65979\n",
            "[1, 34000] loss: 0.53912\n",
            "[1, 34100] loss: 0.59666\n",
            "[1, 34200] loss: 0.69731\n",
            "[1, 34300] loss: 0.54139\n",
            "[1, 34400] loss: 0.69338\n",
            "[1, 34500] loss: 0.50444\n",
            "[1, 34600] loss: 0.52771\n",
            "[1, 34700] loss: 0.64938\n",
            "[1, 34800] loss: 0.66689\n",
            "[1, 34900] loss: 0.62109\n",
            "[1, 35000] loss: 0.61784\n",
            "[1, 35100] loss: 0.58178\n",
            "[1, 35200] loss: 0.58409\n",
            "[1, 35300] loss: 0.52868\n",
            "[1, 35400] loss: 0.47686\n",
            "[1, 35500] loss: 0.61966\n",
            "[1, 35600] loss: 0.70534\n",
            "[1, 35700] loss: 0.65258\n",
            "[1, 35800] loss: 0.47901\n",
            "[1, 35900] loss: 0.72650\n",
            "[1, 36000] loss: 0.67228\n",
            "[1, 36100] loss: 0.58018\n",
            "[1, 36200] loss: 0.55496\n",
            "[1, 36300] loss: 0.64834\n",
            "[1, 36400] loss: 0.60997\n",
            "[1, 36500] loss: 0.63623\n",
            "[1, 36600] loss: 0.71451\n",
            "[1, 36700] loss: 0.53050\n",
            "[1, 36800] loss: 0.65824\n",
            "[1, 36900] loss: 0.57156\n",
            "[1, 37000] loss: 0.46713\n",
            "[1, 37100] loss: 0.65657\n",
            "[1, 37200] loss: 0.61780\n",
            "[1, 37300] loss: 0.60924\n",
            "[1, 37400] loss: 0.50201\n",
            "[1, 37500] loss: 0.62850\n",
            "[1, 37600] loss: 0.49019\n",
            "[1, 37700] loss: 0.57422\n",
            "[1, 37800] loss: 0.60860\n",
            "[1, 37900] loss: 0.57384\n",
            "[1, 38000] loss: 0.60977\n",
            "[1, 38100] loss: 0.51648\n",
            "[1, 38200] loss: 0.56073\n",
            "[1, 38300] loss: 0.77844\n",
            "[1, 38400] loss: 0.58777\n",
            "[1, 38500] loss: 0.55043\n",
            "[1, 38600] loss: 0.69001\n",
            "[1, 38700] loss: 0.62669\n",
            "[1, 38800] loss: 0.62182\n",
            "[1, 38900] loss: 0.62571\n",
            "[1, 39000] loss: 0.53381\n",
            "[1, 39100] loss: 0.50857\n",
            "[1, 39200] loss: 0.56310\n",
            "[1, 39300] loss: 0.69948\n",
            "[1, 39400] loss: 0.57490\n",
            "[1, 39500] loss: 0.56627\n",
            "[1, 39600] loss: 0.42841\n",
            "[1, 39700] loss: 0.58272\n",
            "[1, 39800] loss: 0.72115\n",
            "[1, 39900] loss: 0.43244\n",
            "[1, 40000] loss: 0.60767\n",
            "[1, 40100] loss: 0.48239\n",
            "[1, 40200] loss: 0.58623\n",
            "[1, 40300] loss: 0.45938\n",
            "[1, 40400] loss: 0.59124\n",
            "[1, 40500] loss: 0.53734\n",
            "[1, 40600] loss: 0.54760\n",
            "[1, 40700] loss: 0.60267\n",
            "[1, 40800] loss: 0.55649\n",
            "[1, 40900] loss: 0.48490\n",
            "[1, 41000] loss: 0.52399\n",
            "[1, 41100] loss: 0.63884\n",
            "[1, 41200] loss: 0.59067\n",
            "[1, 41300] loss: 0.62409\n",
            "[1, 41400] loss: 0.69115\n",
            "[1, 41500] loss: 0.58139\n",
            "[1, 41600] loss: 0.47536\n",
            "[1, 41700] loss: 0.53193\n",
            "[1, 41800] loss: 0.54576\n",
            "[1, 41900] loss: 0.60216\n",
            "[1, 42000] loss: 0.51512\n",
            "[1, 42100] loss: 0.65042\n",
            "[1, 42200] loss: 0.55200\n",
            "[1, 42300] loss: 0.63405\n",
            "[1, 42400] loss: 0.58626\n",
            "[1, 42500] loss: 0.53513\n",
            "[1, 42600] loss: 0.59045\n",
            "[1, 42700] loss: 0.39370\n",
            "[1, 42800] loss: 0.53782\n",
            "[1, 42900] loss: 0.53363\n",
            "[1, 43000] loss: 0.58666\n",
            "[1, 43100] loss: 0.60049\n",
            "[1, 43200] loss: 0.59499\n",
            "[1, 43300] loss: 0.58125\n",
            "[1, 43400] loss: 0.56692\n",
            "[1, 43500] loss: 0.55762\n",
            "[1, 43600] loss: 0.64066\n",
            "[1, 43700] loss: 0.57268\n",
            "[1, 43800] loss: 0.56930\n",
            "[1, 43900] loss: 0.66786\n",
            "[1, 44000] loss: 0.53926\n",
            "[1, 44100] loss: 0.50219\n",
            "[1, 44200] loss: 0.61217\n",
            "[1, 44300] loss: 0.68295\n",
            "[1, 44400] loss: 0.36266\n",
            "[1, 44500] loss: 0.54412\n",
            "[1, 44600] loss: 0.75140\n",
            "[1, 44700] loss: 0.66056\n",
            "[1, 44800] loss: 0.56087\n",
            "[1, 44900] loss: 0.63851\n",
            "[1, 45000] loss: 0.71412\n",
            "[1, 45100] loss: 0.59219\n",
            "[1, 45200] loss: 0.63934\n",
            "[1, 45300] loss: 0.49029\n",
            "[1, 45400] loss: 0.76065\n",
            "[1, 45500] loss: 0.64883\n",
            "[1, 45600] loss: 0.52077\n",
            "[1, 45700] loss: 0.47437\n",
            "[1, 45800] loss: 0.53221\n",
            "[1, 45900] loss: 0.58229\n",
            "[1, 46000] loss: 0.62884\n",
            "[1, 46100] loss: 0.64577\n",
            "[1, 46200] loss: 0.55002\n",
            "[1, 46300] loss: 0.59027\n",
            "[1, 46400] loss: 0.52057\n",
            "[1, 46500] loss: 0.47002\n",
            "[1, 46600] loss: 0.61434\n",
            "[1, 46700] loss: 0.46404\n",
            "[1, 46800] loss: 0.47367\n",
            "[1, 46900] loss: 0.49119\n",
            "[1, 47000] loss: 0.54932\n",
            "[1, 47100] loss: 0.69562\n",
            "[1, 47200] loss: 0.54548\n",
            "[1, 47300] loss: 0.52648\n",
            "[1, 47400] loss: 0.73429\n",
            "[1, 47500] loss: 0.59383\n",
            "[1, 47600] loss: 0.57461\n",
            "[1, 47700] loss: 0.57563\n",
            "[1, 47800] loss: 0.51915\n",
            "[1, 47900] loss: 0.67844\n",
            "[1, 48000] loss: 0.56141\n",
            "[1, 48100] loss: 0.45560\n",
            "[1, 48200] loss: 0.50122\n",
            "[1, 48300] loss: 0.61402\n",
            "[1, 48400] loss: 0.47473\n",
            "[1, 48500] loss: 0.57631\n",
            "[1, 48600] loss: 0.53905\n",
            "[1, 48700] loss: 0.50286\n",
            "[1, 48800] loss: 0.44880\n",
            "[1, 48900] loss: 0.58584\n",
            "[1, 49000] loss: 0.60371\n",
            "[1, 49100] loss: 0.39718\n",
            "[1, 49200] loss: 0.54431\n",
            "[1, 49300] loss: 0.49008\n",
            "[1, 49400] loss: 0.51099\n",
            "[1, 49500] loss: 0.54257\n",
            "[1, 49600] loss: 0.53657\n",
            "[1, 49700] loss: 0.52207\n",
            "[1, 49800] loss: 0.50498\n",
            "[1, 49900] loss: 0.49100\n",
            "[1, 50000] loss: 0.61331\n",
            "[1, 50100] loss: 0.45937\n",
            "[1, 50200] loss: 0.51842\n",
            "[1, 50300] loss: 0.41373\n",
            "[1, 50400] loss: 0.58565\n",
            "[1, 50500] loss: 0.66704\n",
            "[1, 50600] loss: 0.55030\n",
            "[1, 50700] loss: 0.47257\n",
            "[1, 50800] loss: 0.57466\n",
            "[1, 50900] loss: 0.54502\n",
            "[1, 51000] loss: 0.46919\n",
            "[1, 51100] loss: 0.57466\n",
            "[1, 51200] loss: 0.41040\n",
            "[1, 51300] loss: 0.48465\n",
            "[1, 51400] loss: 0.47878\n",
            "[1, 51500] loss: 0.39994\n",
            "[1, 51600] loss: 0.58935\n",
            "[1, 51700] loss: 0.67510\n",
            "[1, 51800] loss: 0.50072\n",
            "[1, 51900] loss: 0.56891\n",
            "[1, 52000] loss: 0.54412\n",
            "[1, 52100] loss: 0.38011\n",
            "[1, 52200] loss: 0.41679\n",
            "[1, 52300] loss: 0.42891\n",
            "[1, 52400] loss: 0.48968\n",
            "[1, 52500] loss: 0.60706\n",
            "[1, 52600] loss: 0.56672\n",
            "[1, 52700] loss: 0.45014\n",
            "[1, 52800] loss: 0.53216\n",
            "[1, 52900] loss: 0.48433\n",
            "[1, 53000] loss: 0.60608\n",
            "[1, 53100] loss: 0.54334\n",
            "[1, 53200] loss: 0.47844\n",
            "[1, 53300] loss: 0.46961\n",
            "[1, 53400] loss: 0.60128\n",
            "[1, 53500] loss: 0.63589\n",
            "[1, 53600] loss: 0.62930\n",
            "[1, 53700] loss: 0.65173\n",
            "[1, 53800] loss: 0.49043\n",
            "[1, 53900] loss: 0.55016\n",
            "[1, 54000] loss: 0.43800\n",
            "[1, 54100] loss: 0.48442\n",
            "[1, 54200] loss: 0.52213\n",
            "[1, 54300] loss: 0.53419\n",
            "[1, 54400] loss: 0.42777\n",
            "[1, 54500] loss: 0.55787\n",
            "[1, 54600] loss: 0.37457\n",
            "[1, 54700] loss: 0.48404\n",
            "[1, 54800] loss: 0.56869\n",
            "[1, 54900] loss: 0.49870\n",
            "[1, 55000] loss: 0.46114\n",
            "[1, 55100] loss: 0.54294\n",
            "[1, 55200] loss: 0.50367\n",
            "[1, 55300] loss: 0.50989\n",
            "[1, 55400] loss: 0.56651\n",
            "[1, 55500] loss: 0.48594\n",
            "[1, 55600] loss: 0.51326\n",
            "[1, 55700] loss: 0.52383\n",
            "[1, 55800] loss: 0.44097\n",
            "[1, 55900] loss: 0.51775\n",
            "[1, 56000] loss: 0.40789\n",
            "[1, 56100] loss: 0.63308\n",
            "[1, 56200] loss: 0.44334\n",
            "[1, 56300] loss: 0.44466\n",
            "[1, 56400] loss: 0.57422\n",
            "[1, 56500] loss: 0.38154\n",
            "[1, 56600] loss: 0.66918\n",
            "[1, 56700] loss: 0.32274\n",
            "[1, 56800] loss: 0.47165\n",
            "[1, 56900] loss: 0.56803\n",
            "[1, 57000] loss: 0.42788\n",
            "[1, 57100] loss: 0.41735\n",
            "[1, 57200] loss: 0.38877\n",
            "[1, 57300] loss: 0.43298\n",
            "[1, 57400] loss: 0.41827\n",
            "[1, 57500] loss: 0.42483\n",
            "[1, 57600] loss: 0.40715\n",
            "[1, 57700] loss: 0.44314\n",
            "[1, 57800] loss: 0.35602\n",
            "[1, 57900] loss: 0.64780\n",
            "[1, 58000] loss: 0.62578\n",
            "[1, 58100] loss: 0.54354\n",
            "[1, 58200] loss: 0.51687\n",
            "[1, 58300] loss: 0.43482\n",
            "[1, 58400] loss: 0.36067\n",
            "[1, 58500] loss: 0.45437\n",
            "[1, 58600] loss: 0.51525\n",
            "[1, 58700] loss: 0.40029\n",
            "[1, 58800] loss: 0.48868\n",
            "[1, 58900] loss: 0.51285\n",
            "[1, 59000] loss: 0.57653\n",
            "[1, 59100] loss: 0.40996\n",
            "[1, 59200] loss: 0.37193\n",
            "[1, 59300] loss: 0.58131\n",
            "[1, 59400] loss: 0.45318\n",
            "[1, 59500] loss: 0.58260\n",
            "[1, 59600] loss: 0.50402\n",
            "[1, 59700] loss: 0.50873\n",
            "[1, 59800] loss: 0.43279\n",
            "[1, 59900] loss: 0.38474\n",
            "[1, 60000] loss: 0.43673\n",
            "[1, 60100] loss: 0.38739\n",
            "[1, 60200] loss: 0.45147\n",
            "[1, 60300] loss: 0.62993\n",
            "[1, 60400] loss: 0.33773\n",
            "[1, 60500] loss: 0.62592\n",
            "[1, 60600] loss: 0.43194\n",
            "[1, 60700] loss: 0.45893\n",
            "[1, 60800] loss: 0.43313\n",
            "[1, 60900] loss: 0.42586\n",
            "[1, 61000] loss: 0.45183\n",
            "[1, 61100] loss: 0.40352\n",
            "[1, 61200] loss: 0.43401\n",
            "[1, 61300] loss: 0.52071\n",
            "[1, 61400] loss: 0.62698\n",
            "[1, 61500] loss: 0.48015\n",
            "[1, 61600] loss: 0.63180\n",
            "[1, 61700] loss: 0.51768\n",
            "[1, 61800] loss: 0.48196\n",
            "[1, 61900] loss: 0.38445\n",
            "[1, 62000] loss: 0.52074\n",
            "[1, 62100] loss: 0.54817\n",
            "[1, 62200] loss: 0.40022\n",
            "[1, 62300] loss: 0.48167\n",
            "[1, 62400] loss: 0.48282\n",
            "[1, 62500] loss: 0.43562\n",
            "[1, 62600] loss: 0.39494\n",
            "[1, 62700] loss: 0.42691\n",
            "[1, 62800] loss: 0.53178\n",
            "[1, 62900] loss: 0.36223\n",
            "[1, 63000] loss: 0.48694\n",
            "[1, 63100] loss: 0.52131\n",
            "[1, 63200] loss: 0.63452\n",
            "[1, 63300] loss: 0.60969\n",
            "[1, 63400] loss: 0.47058\n",
            "[1, 63500] loss: 0.42520\n",
            "[1, 63600] loss: 0.49293\n",
            "[1, 63700] loss: 0.42406\n",
            "[1, 63800] loss: 0.51522\n",
            "[1, 63900] loss: 0.47976\n",
            "[1, 64000] loss: 0.36111\n",
            "[1, 64100] loss: 0.44026\n",
            "[1, 64200] loss: 0.38446\n",
            "[1, 64300] loss: 0.47208\n",
            "[1, 64400] loss: 0.42369\n",
            "[1, 64500] loss: 0.53819\n",
            "[1, 64600] loss: 0.51465\n",
            "[1, 64700] loss: 0.45537\n",
            "[1, 64800] loss: 0.49837\n",
            "[1, 64900] loss: 0.40667\n",
            "[1, 65000] loss: 0.48210\n",
            "[1, 65100] loss: 0.50071\n",
            "[1, 65200] loss: 0.52722\n",
            "[1, 65300] loss: 0.48571\n",
            "[1, 65400] loss: 0.40530\n",
            "[1, 65500] loss: 0.53318\n",
            "[1, 65600] loss: 0.60852\n",
            "[1, 65700] loss: 0.51746\n",
            "[1, 65800] loss: 0.54210\n",
            "[1, 65900] loss: 0.37762\n",
            "[1, 66000] loss: 0.60857\n",
            "[1, 66100] loss: 0.49248\n",
            "[1, 66200] loss: 0.52308\n",
            "[1, 66300] loss: 0.39956\n",
            "[1, 66400] loss: 0.62144\n",
            "[1, 66500] loss: 0.43511\n",
            "[1, 66600] loss: 0.53714\n",
            "[1, 66700] loss: 0.60614\n",
            "[1, 66800] loss: 0.49023\n",
            "[1, 66900] loss: 0.47338\n",
            "[1, 67000] loss: 0.44243\n",
            "[1, 67100] loss: 0.38862\n",
            "[1, 67200] loss: 0.60609\n",
            "[1, 67300] loss: 0.43360\n",
            "[1, 67400] loss: 0.40875\n",
            "[1, 67500] loss: 0.46057\n",
            "[1, 67600] loss: 0.47720\n",
            "[1, 67700] loss: 0.45018\n",
            "[1, 67800] loss: 0.49401\n",
            "[1, 67900] loss: 0.48825\n",
            "[1, 68000] loss: 0.40343\n",
            "[1, 68100] loss: 1.05578\n",
            "[1, 68200] loss: 0.55422\n",
            "[1, 68300] loss: 0.56331\n",
            "[1, 68400] loss: 0.47567\n",
            "[1, 68500] loss: 0.75282\n",
            "[1, 68600] loss: 0.69191\n",
            "[1, 68700] loss: 0.42812\n",
            "[1, 68800] loss: 0.34088\n",
            "[1, 68900] loss: 0.45207\n",
            "[1, 69000] loss: 0.48059\n",
            "[1, 69100] loss: 0.48995\n",
            "[1, 69200] loss: 0.37140\n",
            "[1, 69300] loss: 0.50539\n",
            "[1, 69400] loss: 0.52454\n",
            "[1, 69500] loss: 0.44255\n",
            "[1, 69600] loss: 0.49281\n",
            "[1, 69700] loss: 0.59660\n",
            "[1, 69800] loss: 0.54543\n",
            "[1, 69900] loss: 0.43180\n",
            "[1, 70000] loss: 0.32393\n",
            "[1, 70100] loss: 0.45314\n",
            "[1, 70200] loss: 0.39972\n",
            "[1, 70300] loss: 0.43453\n",
            "[1, 70400] loss: 0.49014\n",
            "[1, 70500] loss: 0.42253\n",
            "[1, 70600] loss: 0.42621\n",
            "[1, 70700] loss: 0.46015\n",
            "[1, 70800] loss: 0.37021\n",
            "[1, 70900] loss: 0.42322\n",
            "[1, 71000] loss: 0.44688\n",
            "[1, 71100] loss: 0.46967\n",
            "[1, 71200] loss: 0.45355\n",
            "[1, 71300] loss: 0.40877\n",
            "[1, 71400] loss: 0.42488\n",
            "[1, 71500] loss: 0.54850\n",
            "[1, 71600] loss: 0.48444\n",
            "[1, 71700] loss: 0.56101\n",
            "[1, 71800] loss: 0.43642\n",
            "[1, 71900] loss: 0.38103\n",
            "[1, 72000] loss: 0.40440\n",
            "[1, 72100] loss: 0.52399\n",
            "[1, 72200] loss: 0.33247\n",
            "[1, 72300] loss: 0.35441\n",
            "[1, 72400] loss: 0.46167\n",
            "[1, 72500] loss: 0.36135\n",
            "[1, 72600] loss: 0.36919\n",
            "[1, 72700] loss: 0.34727\n",
            "[1, 72800] loss: 0.40440\n",
            "[1, 72900] loss: 0.62081\n",
            "[1, 73000] loss: 0.40140\n",
            "[1, 73100] loss: 0.46520\n",
            "[1, 73200] loss: 0.45608\n",
            "[1, 73300] loss: 0.51152\n",
            "[1, 73400] loss: 0.48724\n",
            "[1, 73500] loss: 0.48958\n",
            "[1, 73600] loss: 0.39316\n",
            "[1, 73700] loss: 0.39723\n",
            "[1, 73800] loss: 0.47517\n",
            "[1, 73900] loss: 0.41905\n",
            "[1, 74000] loss: 0.48358\n",
            "[1, 74100] loss: 0.40853\n",
            "[1, 74200] loss: 0.37875\n",
            "[1, 74300] loss: 0.43778\n",
            "[1, 74400] loss: 0.41006\n",
            "[1, 74500] loss: 0.51046\n",
            "[1, 74600] loss: 0.54134\n",
            "[1, 74700] loss: 0.69773\n",
            "[1, 74800] loss: 0.39517\n",
            "[1, 74900] loss: 0.39649\n",
            "[1, 75000] loss: 0.43660\n",
            "[1, 75100] loss: 0.27660\n",
            "[1, 75200] loss: 0.42378\n",
            "[1, 75300] loss: 0.53858\n",
            "[1, 75400] loss: 0.55916\n",
            "[1, 75500] loss: 0.51033\n",
            "[1, 75600] loss: 0.43935\n",
            "[1, 75700] loss: 0.41179\n",
            "[1, 75800] loss: 0.50180\n",
            "[1, 75900] loss: 0.35935\n",
            "[1, 76000] loss: 0.53512\n",
            "[1, 76100] loss: 0.34218\n",
            "[1, 76200] loss: 0.46424\n",
            "[1, 76300] loss: 0.35201\n",
            "[1, 76400] loss: 0.49225\n",
            "[1, 76500] loss: 0.38694\n",
            "[1, 76600] loss: 0.35506\n",
            "[1, 76700] loss: 0.46723\n",
            "[1, 76800] loss: 0.44498\n",
            "[1, 76900] loss: 0.41225\n",
            "[1, 77000] loss: 0.39310\n",
            "[1, 77100] loss: 0.50774\n",
            "[1, 77200] loss: 0.39996\n",
            "[1, 77300] loss: 0.35732\n",
            "[1, 77400] loss: 0.29871\n",
            "[1, 77500] loss: 0.37745\n",
            "[1, 77600] loss: 0.43302\n",
            "[1, 77700] loss: 0.48295\n",
            "[1, 77800] loss: 0.47344\n",
            "[1, 77900] loss: 0.30771\n",
            "[1, 78000] loss: 0.51304\n",
            "[1, 78100] loss: 0.52203\n",
            "[1, 78200] loss: 0.44835\n",
            "[1, 78300] loss: 0.41726\n",
            "[1, 78400] loss: 0.47251\n",
            "[1, 78500] loss: 0.57818\n",
            "[1, 78600] loss: 0.40087\n",
            "[1, 78700] loss: 0.35725\n",
            "[1, 78800] loss: 0.38918\n",
            "[1, 78900] loss: 0.61249\n",
            "[1, 79000] loss: 0.45839\n",
            "[1, 79100] loss: 0.30066\n",
            "[1, 79200] loss: 0.55160\n",
            "[1, 79300] loss: 0.37800\n",
            "[1, 79400] loss: 0.45543\n",
            "[1, 79500] loss: 0.50131\n",
            "[1, 79600] loss: 0.47692\n",
            "[1, 79700] loss: 0.50311\n",
            "[1, 79800] loss: 0.41064\n",
            "[1, 79900] loss: 0.30557\n",
            "[1, 80000] loss: 0.40828\n",
            "[1, 80100] loss: 0.56060\n",
            "[1, 80200] loss: 0.38609\n",
            "[1, 80300] loss: 0.52837\n",
            "[1, 80400] loss: 0.36507\n",
            "[1, 80500] loss: 0.46083\n",
            "[1, 80600] loss: 0.44475\n",
            "[1, 80700] loss: 0.51898\n",
            "[1, 80800] loss: 0.52119\n",
            "[1, 80900] loss: 0.36765\n",
            "[1, 81000] loss: 0.47679\n",
            "[1, 81100] loss: 0.50034\n",
            "[1, 81200] loss: 0.31064\n",
            "[1, 81300] loss: 0.38243\n",
            "[1, 81400] loss: 0.38193\n",
            "[1, 81500] loss: 0.37826\n",
            "[1, 81600] loss: 0.39370\n",
            "[1, 81700] loss: 0.39891\n",
            "[1, 81800] loss: 0.42092\n",
            "[1, 81900] loss: 0.48212\n",
            "[1, 82000] loss: 0.47644\n",
            "[1, 82100] loss: 0.46126\n",
            "[1, 82200] loss: 0.52900\n",
            "[1, 82300] loss: 0.43802\n",
            "[1, 82400] loss: 0.47919\n",
            "[1, 82500] loss: 0.43265\n",
            "[1, 82600] loss: 0.48417\n",
            "[1, 82700] loss: 0.36433\n",
            "[1, 82800] loss: 0.48877\n",
            "[1, 82900] loss: 0.35033\n",
            "[1, 83000] loss: 0.40091\n",
            "[1, 83100] loss: 0.32331\n",
            "[1, 83200] loss: 0.36124\n",
            "[1, 83300] loss: 0.59865\n",
            "[1, 83400] loss: 0.41714\n",
            "[1, 83500] loss: 0.53011\n",
            "[1, 83600] loss: 0.44999\n",
            "[1, 83700] loss: 0.46105\n",
            "[1, 83800] loss: 0.43265\n",
            "[1, 83900] loss: 0.35812\n",
            "[1, 84000] loss: 0.27854\n",
            "[1, 84100] loss: 0.31185\n",
            "[1, 84200] loss: 0.40865\n",
            "[1, 84300] loss: 0.30814\n",
            "[1, 84400] loss: 0.44683\n",
            "[1, 84500] loss: 0.38558\n",
            "[1, 84600] loss: 0.44593\n",
            "[1, 84700] loss: 0.48758\n",
            "[1, 84800] loss: 0.40769\n",
            "[1, 84900] loss: 0.30815\n",
            "[1, 85000] loss: 0.37156\n",
            "[1, 85100] loss: 0.42611\n",
            "[1, 85200] loss: 0.38004\n",
            "[1, 85300] loss: 0.44809\n",
            "[1, 85400] loss: 0.61222\n",
            "[1, 85500] loss: 0.30176\n",
            "[1, 85600] loss: 0.28797\n",
            "[1, 85700] loss: 0.41742\n",
            "[1, 85800] loss: 0.41420\n",
            "[1, 85900] loss: 0.42193\n",
            "[1, 86000] loss: 0.44981\n",
            "[1, 86100] loss: 0.49591\n",
            "[1, 86200] loss: 0.41397\n",
            "[1, 86300] loss: 0.32897\n",
            "[1, 86400] loss: 0.34550\n",
            "[1, 86500] loss: 0.30329\n",
            "[1, 86600] loss: 0.38295\n",
            "[1, 86700] loss: 0.41055\n",
            "[1, 86800] loss: 0.35616\n",
            "[1, 86900] loss: 0.40801\n",
            "[1, 87000] loss: 0.26228\n",
            "[1, 87100] loss: 0.35642\n",
            "[1, 87200] loss: 0.33617\n",
            "[1, 87300] loss: 0.33692\n",
            "[1, 87400] loss: 0.35959\n",
            "[1, 87500] loss: 0.34665\n",
            "[1, 87600] loss: 0.41505\n",
            "[1, 87700] loss: 0.31957\n",
            "[1, 87800] loss: 0.55435\n",
            "[1, 87900] loss: 0.32128\n",
            "[1, 88000] loss: 0.44732\n",
            "[1, 88100] loss: 0.34178\n",
            "[1, 88200] loss: 0.40004\n",
            "[1, 88300] loss: 0.36573\n",
            "[1, 88400] loss: 0.55840\n",
            "[1, 88500] loss: 0.47775\n",
            "[1, 88600] loss: 0.37690\n",
            "[1, 88700] loss: 0.46356\n",
            "[1, 88800] loss: 0.38145\n",
            "[1, 88900] loss: 0.51214\n",
            "[1, 89000] loss: 0.41935\n",
            "[1, 89100] loss: 0.35895\n",
            "[1, 89200] loss: 0.46366\n",
            "[1, 89300] loss: 0.38904\n",
            "[1, 89400] loss: 0.48012\n",
            "[1, 89500] loss: 0.46253\n",
            "[1, 89600] loss: 0.50568\n",
            "[1, 89700] loss: 0.47901\n",
            "[1, 89800] loss: 0.47836\n",
            "[1, 89900] loss: 0.31907\n",
            "[1, 90000] loss: 0.31406\n",
            "[1, 90100] loss: 0.40624\n",
            "[1, 90200] loss: 0.41315\n",
            "[1, 90300] loss: 0.42945\n",
            "[1, 90400] loss: 0.41072\n",
            "[1, 90500] loss: 0.42282\n",
            "[1, 90600] loss: 0.40719\n",
            "[1, 90700] loss: 0.35544\n",
            "[1, 90800] loss: 0.32240\n",
            "[1, 90900] loss: 0.37859\n",
            "[1, 91000] loss: 0.35801\n",
            "[1, 91100] loss: 0.42483\n",
            "[1, 91200] loss: 0.37945\n",
            "[1, 91300] loss: 0.35579\n",
            "[1, 91400] loss: 0.50663\n",
            "[1, 91500] loss: 0.54414\n",
            "[1, 91600] loss: 0.35356\n",
            "[1, 91700] loss: 0.39577\n",
            "[1, 91800] loss: 0.62460\n",
            "[1, 91900] loss: 0.48277\n",
            "[1, 92000] loss: 0.43244\n",
            "[1, 92100] loss: 0.42485\n",
            "[1, 92200] loss: 0.29278\n",
            "[1, 92300] loss: 0.39939\n",
            "[1, 92400] loss: 0.34266\n",
            "[1, 92500] loss: 0.33618\n",
            "[1, 92600] loss: 0.29573\n",
            "[1, 92700] loss: 0.33326\n",
            "[1, 92800] loss: 0.34800\n",
            "[1, 92900] loss: 0.47546\n",
            "[1, 93000] loss: 0.45530\n",
            "[1, 93100] loss: 0.47805\n",
            "[1, 93200] loss: 0.39991\n",
            "[1, 93300] loss: 0.43491\n",
            "[1, 93400] loss: 0.41144\n",
            "[1, 93500] loss: 0.38280\n",
            "[1, 93600] loss: 0.46520\n",
            "[1, 93700] loss: 0.53032\n",
            "[1, 93800] loss: 0.43196\n",
            "[1, 93900] loss: 0.56993\n",
            "[1, 94000] loss: 0.46051\n",
            "[1, 94100] loss: 0.41556\n",
            "[1, 94200] loss: 0.36083\n",
            "[1, 94300] loss: 0.27948\n",
            "[1, 94400] loss: 0.37409\n",
            "[1, 94500] loss: 0.31835\n",
            "[1, 94600] loss: 0.45942\n",
            "[1, 94700] loss: 0.34844\n",
            "[1, 94800] loss: 0.31023\n",
            "[1, 94900] loss: 0.36915\n",
            "[1, 95000] loss: 0.47814\n",
            "[1, 95100] loss: 0.36850\n",
            "[1, 95200] loss: 0.39875\n",
            "[1, 95300] loss: 0.26305\n",
            "[1, 95400] loss: 0.49499\n",
            "[1, 95500] loss: 0.37178\n",
            "[1, 95600] loss: 0.42180\n",
            "[1, 95700] loss: 0.49682\n",
            "[1, 95800] loss: 0.49301\n",
            "[1, 95900] loss: 0.43813\n",
            "[1, 96000] loss: 0.39848\n",
            "[1, 96100] loss: 0.37448\n",
            "[1, 96200] loss: 0.31270\n",
            "[1, 96300] loss: 0.50187\n",
            "[1, 96400] loss: 0.45656\n",
            "[1, 96500] loss: 0.52562\n",
            "[1, 96600] loss: 0.47299\n",
            "[1, 96700] loss: 0.41835\n",
            "[1, 96800] loss: 0.41554\n",
            "[1, 96900] loss: 0.35695\n",
            "[1, 97000] loss: 0.36559\n",
            "[1, 97100] loss: 0.38400\n",
            "[1, 97200] loss: 0.34233\n",
            "[1, 97300] loss: 0.38492\n",
            "[1, 97400] loss: 0.30745\n",
            "[1, 97500] loss: 0.37393\n",
            "[1, 97600] loss: 0.37846\n",
            "[1, 97700] loss: 0.32585\n",
            "[1, 97800] loss: 0.49979\n",
            "[1, 97900] loss: 0.27561\n",
            "[1, 98000] loss: 0.29232\n",
            "[1, 98100] loss: 0.38441\n",
            "[1, 98200] loss: 0.40193\n",
            "[1, 98300] loss: 0.34719\n",
            "[1, 98400] loss: 0.33392\n",
            "[1, 98500] loss: 0.43061\n",
            "[1, 98600] loss: 0.39425\n",
            "[1, 98700] loss: 0.39905\n",
            "[1, 98800] loss: 0.50792\n",
            "[1, 98900] loss: 0.41654\n",
            "[1, 99000] loss: 0.39594\n",
            "[1, 99100] loss: 0.45390\n",
            "[1, 99200] loss: 0.31308\n",
            "[1, 99300] loss: 0.39975\n",
            "[1, 99400] loss: 0.49763\n",
            "[1, 99500] loss: 0.36410\n",
            "[1, 99600] loss: 0.31457\n",
            "[1, 99700] loss: 0.45300\n",
            "[1, 99800] loss: 0.33822\n",
            "[1, 99900] loss: 0.49434\n",
            "[1, 100000] loss: 0.38075\n",
            "[1, 100100] loss: 0.44961\n",
            "[1, 100200] loss: 0.52204\n",
            "[1, 100300] loss: 0.42126\n",
            "[1, 100400] loss: 0.39637\n",
            "[1, 100500] loss: 0.44783\n",
            "[1, 100600] loss: 0.28876\n",
            "[1, 100700] loss: 0.45703\n",
            "[1, 100800] loss: 0.39059\n",
            "[1, 100900] loss: 0.46492\n",
            "[1, 101000] loss: 0.36664\n",
            "[1, 101100] loss: 0.55485\n",
            "[1, 101200] loss: 0.38000\n",
            "[1, 101300] loss: 0.41581\n",
            "[1, 101400] loss: 0.46579\n",
            "[1, 101500] loss: 0.34246\n",
            "[1, 101600] loss: 0.33599\n",
            "[1, 101700] loss: 0.39101\n",
            "[1, 101800] loss: 0.41601\n",
            "[1, 101900] loss: 0.25239\n",
            "[1, 102000] loss: 0.33837\n",
            "[1, 102100] loss: 0.38166\n",
            "[1, 102200] loss: 0.45682\n",
            "[1, 102300] loss: 0.38448\n",
            "[1, 102400] loss: 0.30385\n",
            "[1, 102500] loss: 0.48280\n",
            "[1, 102600] loss: 0.32102\n",
            "[1, 102700] loss: 0.44037\n",
            "[1, 102800] loss: 0.35405\n",
            "[1, 102900] loss: 0.40240\n",
            "[1, 103000] loss: 0.38736\n",
            "[1, 103100] loss: 0.44498\n",
            "[1, 103200] loss: 0.31813\n",
            "[1, 103300] loss: 0.33670\n",
            "[1, 103400] loss: 0.34817\n",
            "[1, 103500] loss: 0.33696\n",
            "[1, 103600] loss: 0.32647\n",
            "[1, 103700] loss: 0.44700\n",
            "[1, 103800] loss: 0.22726\n",
            "[1, 103900] loss: 0.31242\n",
            "[1, 104000] loss: 0.39284\n",
            "[1, 104100] loss: 0.51319\n",
            "[1, 104200] loss: 0.47295\n",
            "[1, 104300] loss: 0.33309\n",
            "[1, 104400] loss: 0.35329\n",
            "[1, 104500] loss: 0.22256\n",
            "[1, 104600] loss: 0.57562\n",
            "[1, 104700] loss: 0.52656\n",
            "[1, 104800] loss: 0.42626\n",
            "[1, 104900] loss: 0.42882\n",
            "[1, 105000] loss: 0.51120\n",
            "[1, 105100] loss: 0.36353\n",
            "[1, 105200] loss: 0.52749\n",
            "[1, 105300] loss: 0.38649\n",
            "[1, 105400] loss: 0.33955\n",
            "[1, 105500] loss: 0.53177\n",
            "[1, 105600] loss: 0.35581\n",
            "[1, 105700] loss: 0.35155\n",
            "[1, 105800] loss: 0.47386\n",
            "[1, 105900] loss: 0.39326\n",
            "[1, 106000] loss: 0.48799\n",
            "[1, 106100] loss: 0.45691\n",
            "[1, 106200] loss: 0.28171\n",
            "[1, 106300] loss: 0.32854\n",
            "[1, 106400] loss: 0.28626\n",
            "[1, 106500] loss: 0.34861\n",
            "[1, 106600] loss: 0.35301\n",
            "[1, 106700] loss: 0.27111\n",
            "[1, 106800] loss: 0.34490\n",
            "[1, 106900] loss: 0.49427\n",
            "[1, 107000] loss: 0.32712\n",
            "[1, 107100] loss: 0.40650\n",
            "[1, 107200] loss: 0.34498\n",
            "[1, 107300] loss: 0.27313\n",
            "[1, 107400] loss: 0.31688\n",
            "[1, 107500] loss: 0.48559\n",
            "[1, 107600] loss: 0.28893\n",
            "[1, 107700] loss: 0.38594\n",
            "[1, 107800] loss: 0.38961\n",
            "[1, 107900] loss: 0.52617\n",
            "[1, 108000] loss: 0.33337\n",
            "[1, 108100] loss: 0.39765\n",
            "[1, 108200] loss: 0.30238\n",
            "[1, 108300] loss: 0.48158\n",
            "[1, 108400] loss: 0.31238\n",
            "[1, 108500] loss: 0.30328\n",
            "[1, 108600] loss: 0.35537\n",
            "[1, 108700] loss: 0.40725\n",
            "[1, 108800] loss: 0.34231\n",
            "[1, 108900] loss: 0.40916\n",
            "[1, 109000] loss: 0.35376\n",
            "[1, 109100] loss: 0.40393\n",
            "[1, 109200] loss: 0.37513\n",
            "[1, 109300] loss: 0.33234\n",
            "[1, 109400] loss: 0.33914\n",
            "[1, 109500] loss: 0.39694\n",
            "[1, 109600] loss: 0.40694\n",
            "[1, 109700] loss: 0.31142\n",
            "[1, 109800] loss: 0.35411\n",
            "[1, 109900] loss: 0.41713\n",
            "[1, 110000] loss: 0.41321\n",
            "[1, 110100] loss: 0.37691\n",
            "[1, 110200] loss: 0.37442\n",
            "[1, 110300] loss: 0.40773\n",
            "[1, 110400] loss: 0.23592\n",
            "[1, 110500] loss: 0.40556\n",
            "[1, 110600] loss: 0.30983\n",
            "[1, 110700] loss: 0.43552\n",
            "[1, 110800] loss: 0.30789\n",
            "[1, 110900] loss: 0.39212\n",
            "[1, 111000] loss: 0.38928\n",
            "[1, 111100] loss: 0.32188\n",
            "[1, 111200] loss: 0.25297\n",
            "[1, 111300] loss: 0.31392\n",
            "[1, 111400] loss: 0.37073\n",
            "[1, 111500] loss: 0.23997\n",
            "[1, 111600] loss: 0.40303\n",
            "[1, 111700] loss: 0.33279\n",
            "[1, 111800] loss: 0.40259\n",
            "[1, 111900] loss: 0.44923\n",
            "[1, 112000] loss: 0.37348\n",
            "[1, 112100] loss: 0.37933\n",
            "[1, 112200] loss: 0.37791\n",
            "[1, 112300] loss: 0.37950\n",
            "[1, 112400] loss: 0.25469\n",
            "[1, 112500] loss: 0.43891\n",
            "[1, 112600] loss: 0.38303\n",
            "[1, 112700] loss: 0.56833\n",
            "[1, 112800] loss: 0.29600\n",
            "[1, 112900] loss: 0.44195\n",
            "[1, 113000] loss: 0.32220\n",
            "[1, 113100] loss: 0.29475\n",
            "[1, 113200] loss: 0.36373\n",
            "[1, 113300] loss: 0.33282\n",
            "[1, 113400] loss: 0.38022\n",
            "[1, 113500] loss: 0.44367\n",
            "[1, 113600] loss: 0.29750\n",
            "[1, 113700] loss: 0.26145\n",
            "[1, 113800] loss: 0.35373\n",
            "[1, 113900] loss: 0.37096\n",
            "[1, 114000] loss: 0.43029\n",
            "[1, 114100] loss: 0.41994\n",
            "[1, 114200] loss: 0.32113\n",
            "[1, 114300] loss: 0.48458\n",
            "[1, 114400] loss: 0.45683\n",
            "[1, 114500] loss: 0.30556\n",
            "[1, 114600] loss: 0.34290\n",
            "[1, 114700] loss: 0.42766\n",
            "[1, 114800] loss: 0.35260\n",
            "[1, 114900] loss: 0.42238\n",
            "[1, 115000] loss: 0.36615\n",
            "[1, 115100] loss: 0.40891\n",
            "[1, 115200] loss: 0.52851\n",
            "[1, 115300] loss: 0.40293\n",
            "[1, 115400] loss: 0.37432\n",
            "[1, 115500] loss: 0.43324\n",
            "[1, 115600] loss: 0.35527\n",
            "[1, 115700] loss: 0.47988\n",
            "[1, 115800] loss: 0.35698\n",
            "[1, 115900] loss: 0.35358\n",
            "[1, 116000] loss: 0.28418\n",
            "[1, 116100] loss: 0.52227\n",
            "[1, 116200] loss: 0.43790\n",
            "[1, 116300] loss: 0.30806\n",
            "[1, 116400] loss: 0.43303\n",
            "[1, 116500] loss: 0.45035\n",
            "[1, 116600] loss: 0.32609\n",
            "[1, 116700] loss: 0.39835\n",
            "[1, 116800] loss: 0.37026\n",
            "[1, 116900] loss: 0.46430\n",
            "[1, 117000] loss: 0.35852\n",
            "[1, 117100] loss: 0.34658\n",
            "[1, 117200] loss: 0.34152\n",
            "[1, 117300] loss: 0.49329\n",
            "[1, 117400] loss: 0.38056\n",
            "[1, 117500] loss: 0.44964\n",
            "[1, 117600] loss: 0.26365\n",
            "[1, 117700] loss: 0.25173\n",
            "[1, 117800] loss: 0.37863\n",
            "[1, 117900] loss: 0.20415\n",
            "[1, 118000] loss: 0.28642\n",
            "[1, 118100] loss: 0.55480\n",
            "[1, 118200] loss: 0.44525\n",
            "[1, 118300] loss: 0.25683\n",
            "[1, 118400] loss: 0.29044\n",
            "[1, 118500] loss: 0.42466\n",
            "[1, 118600] loss: 0.23246\n",
            "[1, 118700] loss: 0.34456\n",
            "[1, 118800] loss: 0.40475\n",
            "[1, 118900] loss: 0.41474\n",
            "[1, 119000] loss: 0.34103\n",
            "[1, 119100] loss: 0.31844\n",
            "[1, 119200] loss: 0.32693\n",
            "[1, 119300] loss: 0.41955\n",
            "[1, 119400] loss: 0.28916\n",
            "[1, 119500] loss: 0.51444\n",
            "[1, 119600] loss: 0.37316\n",
            "[1, 119700] loss: 0.29783\n",
            "[1, 119800] loss: 0.34124\n",
            "[1, 119900] loss: 0.46780\n",
            "[1, 120000] loss: 0.44948\n"
          ]
        }
      ],
      "source": [
        "net.train()\n",
        "step = int(img_width / img_splits)\n",
        "input_seq_len = torch.tensor([img_splits], dtype=torch.long)\n",
        "for epoch in range(epochs):\n",
        "    loss = 0\n",
        "    mini_batch_loss = 0\n",
        "    for i, data in enumerate(dataloader, 0):\n",
        "        # get the input\n",
        "        image, word = data['image'], data['word']\n",
        "        image = image.to(device)\n",
        "        word = word.to(device)\n",
        "        # zero the parameter gradients\n",
        "        optimizer.zero_grad()\n",
        "        # initialize the RNN hidden state\n",
        "        hidden = torch.zeros((1, enc_dim)).double().to(device)\n",
        "        output = get_start_token()\n",
        "        letters = []\n",
        "        for j in range(img_splits):\n",
        "          output, hidden = net(image[:, :, :,\n",
        "                                     step*(img_splits-j-1):step*(img_splits-j)],\n",
        "                                     output, hidden)\n",
        "          letters.append(output)\n",
        "\n",
        "        # concatinate the outputs\n",
        "        predicted_word = torch.cat(letters, dim=1).view(img_splits, 1, enc_dim)\n",
        "        \n",
        "        target_seq_len = torch.tensor([word.size(1)],\n",
        "                                      dtype=torch.long)\n",
        "        \n",
        "        # compairing the output and word based on CTCLoss\n",
        "        loss = criterion(predicted_word, word.view((1, -1)),\n",
        "                          input_seq_len, target_seq_len)\n",
        "        \n",
        "        loss.backward()\n",
        "        \n",
        "        optimizer.step()\n",
        "        \n",
        "        mini_batch_loss += loss.item()\n",
        "        \n",
        "        if i % mini_batchs == (mini_batchs-1):\n",
        "            \n",
        "            print('[%d, %5d] loss: %.5f' %\n",
        "                  (epoch + 1, i + 1, mini_batch_loss/mini_batchs))\n",
        "            \n",
        "            loss_values.append(mini_batch_loss)    \n",
        "        \n",
        "            mini_batch_loss = 0"
      ]
    },
    {
      "cell_type": "markdown",
      "metadata": {
        "id": "j8UCra09870O"
      },
      "source": [
        "### Checking The Loss values"
      ]
    },
    {
      "cell_type": "code",
      "execution_count": 18,
      "metadata": {
        "colab": {
          "base_uri": "https://localhost:8080/",
          "height": 301
        },
        "id": "iaGy6Jl7870O",
        "outputId": "be72ea9f-2714-4d8a-a33b-597b0f1fb1ed"
      },
      "outputs": [
        {
          "output_type": "display_data",
          "data": {
            "text/plain": [
              "<Figure size 720x288 with 1 Axes>"
            ],
            "image/png": "[encoded data removed]"
          },
          "metadata": {}
        }
      ],
      "source": [
        "sns.set_palette(sns.dark_palette(\"purple\"))\n",
        "fig, ax = plt.subplots(figsize=(10, 4))\n",
        "plot = sns.lineplot(ax=ax,y=loss_values, x=range(len(loss_values)))\n",
        "plot.set_title(\"Training Loss\")\n",
        "plot.set_xlabel(\"steps\")\n",
        "plot.set_ylabel(\"CTC Loss\")\n",
        "plt.show()"
      ]
    },
    {
      "cell_type": "markdown",
      "metadata": {
        "id": "-HqC0NkP870O"
      },
      "source": [
        "## Using The Model for converting a page"
      ]
    },
    {
      "cell_type": "markdown",
      "metadata": {
        "id": "COr9T8Wz870O"
      },
      "source": [
        "### Cleaning The Ouput\n",
        "Due to the CTCLoss we should clear the ouput from repeated characters then `-` (blank) characters. "
      ]
    },
    {
      "cell_type": "code",
      "execution_count": 19,
      "metadata": {
        "id": "ar4vU4z_870O"
      },
      "outputs": [],
      "source": [
        "import re\n",
        "def clean_ctc(s):\n",
        "    # remove repeated\n",
        "    word = \"\"\n",
        "    prev = \"\"\n",
        "    for c in s:\n",
        "      if(c != prev):\n",
        "        word += c\n",
        "      prev = c\n",
        "    word = re.sub('[\\-SE]', '', word)\n",
        "    return word"
      ]
    },
    {
      "cell_type": "markdown",
      "metadata": {
        "id": "q1zAh__p870O"
      },
      "source": [
        "### Converting Output Tensor To Word"
      ]
    },
    {
      "cell_type": "code",
      "execution_count": 20,
      "metadata": {
        "id": "uIZuFzRY870O"
      },
      "outputs": [],
      "source": [
        "def tensor_to_word(word_tensor):\n",
        "    word_tensor = word_tensor.max(2)[1].view(-1)\n",
        "    word = \"\"\n",
        "    for i in range(word_tensor.size(0)):\n",
        "      word += pchars[word_tensor[i]]\n",
        "    return clean_ctc(word)"
      ]
    },
    {
      "cell_type": "markdown",
      "metadata": {
        "id": "4XjYe0ZV870O"
      },
      "source": [
        "### Transforming Numpy Images for evaluation"
      ]
    },
    {
      "cell_type": "code",
      "execution_count": 21,
      "metadata": {
        "id": "EDyipjvZ870O"
      },
      "outputs": [],
      "source": [
        "def transform_numpy_image(img):\n",
        "    # scale the image\n",
        "    img = img.reshape(1, 1, 50, 100)\n",
        "    tensor = torch.from_numpy(img).double().to(device)\n",
        "    return tensor"
      ]
    },
    {
      "cell_type": "markdown",
      "metadata": {
        "id": "GIYwqnEj870P"
      },
      "source": [
        "### Feeding Image to Model "
      ]
    },
    {
      "cell_type": "code",
      "execution_count": 22,
      "metadata": {
        "id": "5kmm-KN8870P"
      },
      "outputs": [],
      "source": [
        "def image_to_word(img):\n",
        "    tensor = transform_numpy_image(img)\n",
        "    prediction = None\n",
        "    net.eval()\n",
        "    with torch.no_grad():\n",
        "      hidden = torch.zeros((1, enc_dim)).double().to(device)\n",
        "      output = get_start_token()\n",
        "      letters = []\n",
        "      for j in range(img_splits):\n",
        "        step = int(img_width / img_splits)\n",
        "        output, hidden = net(tensor[:, :, :, step*(img_splits-j-1):step*(img_splits-j)], output, hidden)\n",
        "        letters.append(output)\n",
        "      prediction = torch.cat(letters, dim=0).view(img_splits, 1, enc_dim)\n",
        "    return tensor_to_word(prediction)"
      ]
    },
    {
      "cell_type": "markdown",
      "metadata": {
        "id": "ZsqSPloc870P"
      },
      "source": [
        "### Reading The Text Image"
      ]
    },
    {
      "cell_type": "code",
      "execution_count": 23,
      "metadata": {
        "colab": {
          "base_uri": "https://localhost:8080/",
          "height": 331
        },
        "id": "psMjynpK870P",
        "outputId": "5cfdf5e0-c455-44dc-d5c1-ed800f1c2b16"
      },
      "outputs": [
        {
          "output_type": "execute_result",
          "data": {
            "text/plain": [
              "<matplotlib.image.AxesImage at 0x7f4253b2d610>"
            ]
          },
          "metadata": {},
          "execution_count": 23
        },
        {
          "output_type": "display_data",
          "data": {
            "text/plain": [
              "<Figure size 1008x360 with 1 Axes>"
            ],
            "image/png": "[encoded data removed]"
          },
          "metadata": {
            "needs_background": "light"
          }
        }
      ],
      "source": [
        "import cv2\n",
        "%matplotlib inline\n",
        "image_path = '/content/drive/MyDrive/NLP/test_page.png'\n",
        "\n",
        "img = cv2.imread(image_path, cv2.IMREAD_COLOR)\n",
        "gray = cv2.cvtColor(img, cv2.COLOR_BGR2GRAY)\n",
        "\n",
        "fig, ax = plt.subplots(figsize=(14, 5))\n",
        "ax.imshow(gray, interpolation='nearest')"
      ]
    },
    {
      "cell_type": "markdown",
      "metadata": {
        "id": "TWB-pT1k870P"
      },
      "source": [
        "### Thresholding The Image"
      ]
    },
    {
      "cell_type": "code",
      "execution_count": 24,
      "metadata": {
        "colab": {
          "base_uri": "https://localhost:8080/",
          "height": 331
        },
        "id": "_V9t7x3R870P",
        "outputId": "1af1aa63-c95b-454c-d8cd-b9ceccfbbde4"
      },
      "outputs": [
        {
          "output_type": "execute_result",
          "data": {
            "text/plain": [
              "<matplotlib.image.AxesImage at 0x7f425580b210>"
            ]
          },
          "metadata": {},
          "execution_count": 24
        },
        {
          "output_type": "display_data",
          "data": {
            "text/plain": [
              "<Figure size 1008x360 with 1 Axes>"
            ],
            "image/png": "[encoded data removed]"
          },
          "metadata": {
            "needs_background": "light"
          }
        }
      ],
      "source": [
        "ret,thresh = cv2.threshold(gray, 0, 255,cv2.THRESH_OTSU|cv2.THRESH_BINARY_INV)\n",
        "fig, ax = plt.subplots(figsize=(14, 5))\n",
        "ax.imshow(thresh, interpolation='nearest')"
      ]
    },
    {
      "cell_type": "markdown",
      "metadata": {
        "id": "TsXcIY8g870P"
      },
      "source": [
        "### Using dilation to segment the words"
      ]
    },
    {
      "cell_type": "code",
      "execution_count": 25,
      "metadata": {
        "colab": {
          "base_uri": "https://localhost:8080/",
          "height": 331
        },
        "id": "eag0QEH9870P",
        "outputId": "6389afb3-e4b9-4eb7-d6cf-1a834de902ea"
      },
      "outputs": [
        {
          "output_type": "execute_result",
          "data": {
            "text/plain": [
              "<matplotlib.image.AxesImage at 0x7f425580be50>"
            ]
          },
          "metadata": {},
          "execution_count": 25
        },
        {
          "output_type": "display_data",
          "data": {
            "text/plain": [
              "<Figure size 1008x360 with 1 Axes>"
            ],
            "image/png": "[encoded data removed]"
          },
          "metadata": {
            "needs_background": "light"
          }
        }
      ],
      "source": [
        "rect_kernel = cv2.getStructuringElement(cv2.MORPH_RECT, (2, 3))\n",
        "dilation = cv2.dilate(thresh, rect_kernel, iterations = 3)\n",
        "fig, ax = plt.subplots(figsize=(14, 5))\n",
        "ax.imshow(dilation, interpolation='nearest')"
      ]
    },
    {
      "cell_type": "markdown",
      "metadata": {
        "id": "aCEu9JOK870P"
      },
      "source": [
        "### Finding The Contours"
      ]
    },
    {
      "cell_type": "code",
      "execution_count": 26,
      "metadata": {
        "colab": {
          "base_uri": "https://localhost:8080/",
          "height": 331
        },
        "id": "FTT4jFp5870P",
        "outputId": "c5683288-3c0e-4e36-ff6d-ca7569c0cfc9"
      },
      "outputs": [
        {
          "output_type": "execute_result",
          "data": {
            "text/plain": [
              "<matplotlib.image.AxesImage at 0x7f425564f0d0>"
            ]
          },
          "metadata": {},
          "execution_count": 26
        },
        {
          "output_type": "display_data",
          "data": {
            "text/plain": [
              "<Figure size 1008x360 with 1 Axes>"
            ],
            "image/png": "[encoded data removed]"
          },
          "metadata": {
            "needs_background": "light"
          }
        }
      ],
      "source": [
        "contours, hierarchy = cv2.findContours(dilation, cv2.RETR_EXTERNAL, cv2.CHAIN_APPROX_NONE)\n",
        "img_contours = img.copy()\n",
        "for cnt in contours:\n",
        "  x, y, w, h = cv2.boundingRect(cnt)\n",
        "  cv2.rectangle(img_contours, (x, y), (x + w, y + h), (0, 255, 0), 1)\n",
        "fig, ax = plt.subplots(figsize=(14, 5))\n",
        "ax.imshow(img_contours, interpolation='nearest')"
      ]
    },
    {
      "cell_type": "markdown",
      "metadata": {
        "id": "SY7k73yO870Q"
      },
      "source": [
        "### Sorting The Contours"
      ]
    },
    {
      "cell_type": "code",
      "execution_count": 27,
      "metadata": {
        "id": "-8NBZ7MY870Q"
      },
      "outputs": [],
      "source": [
        "from functools import cmp_to_key\n",
        "\n",
        "def rectCmp(r1, r2):\n",
        "  if (abs(r1[1] - r2[1]) < 20):\n",
        "    return r2[0] - r1[0]\n",
        "  return r1[1] - r2[1]\n",
        "\n",
        "bounding_rects = [ cv2.boundingRect(c) for c in contours ]\n",
        "bounding_rects.sort(key=cmp_to_key(rectCmp))"
      ]
    },
    {
      "cell_type": "markdown",
      "metadata": {
        "id": "U4Zw-lLH870Q"
      },
      "source": [
        "### Extract Images"
      ]
    },
    {
      "cell_type": "code",
      "execution_count": 28,
      "metadata": {
        "id": "WJ_5zmF0870Q"
      },
      "outputs": [],
      "source": [
        "def extract_images(rects, image):\n",
        "  images = []\n",
        "  for r in rects:\n",
        "    x, y, w, h = r\n",
        "    H=50\n",
        "    W=100\n",
        "    Y = int((H-h)/2) - 5\n",
        "    X = int((W-w)/2) - 5\n",
        "    c = np.zeros((H, W))\n",
        "    c[Y:Y+h, X:X+w] = 1-image[y:y+h, x:x+w]\n",
        "    c[c < 70] = 0\n",
        "    c *= 1.8\n",
        "    c[c > 255] = 255\n",
        "    c = np.floor(c)\n",
        "    images.append(c)\n",
        "  return images\n",
        "test_images = extract_images(bounding_rects, gray)"
      ]
    },
    {
      "cell_type": "markdown",
      "metadata": {
        "id": "jBCG274s870Q"
      },
      "source": [
        "## Final Result\n",
        "After 2 epochs the result should be meangful"
      ]
    },
    {
      "cell_type": "code",
      "execution_count": 29,
      "metadata": {
        "colab": {
          "base_uri": "https://localhost:8080/",
          "height": 107
        },
        "id": "fjeKOazN870Q",
        "outputId": "6f160a84-ebd8-4c14-c4d0-09240adcb29e"
      },
      "outputs": [
        {
          "output_type": "execute_result",
          "data": {
            "text/plain": [
              "'از هر دز نگام ریاخسیات و سیاست مادانسکی با مسثله بیار سجتنتی مواجه ثنه پود به عنوان یک غیر نظامی حوان که یکی از باور های اساسی ارتش در مورد حنگ سرد را به جالش می کتید باید تصمبیم گیرندگان را متقاعد می کرد با وجود اینکه هنگز فاجحه ای دنخ ننانه همکن است یکی در آینده رنخ دهد او باید قضیه را از ثبن بیز به افرادی غیر متحصح توخسیح می داد و به دلیل بد گصانی ارتت نسبست به توحسبیه های بدجن حتساب و کتاب افراد غیر نخلام ناجار بود نتا حد امکان از کمترین تحدان فرخیات اولیه استفاده کتندن هصجتبن با در نظر گرفتن نتمداد تم حوادت و خوشبختانه آخرالزمان هایی که تا آن موقح رنخ داد بود یک مشکل آماری هپ بججود داشت'"
            ],
            "application/vnd.google.colaboratory.intrinsic+json": {
              "type": "string"
            }
          },
          "metadata": {},
          "execution_count": 29
        }
      ],
      "source": [
        "' '.join([image_to_word(image) for image in test_images])"
      ]
    },
    {
      "cell_type": "markdown",
      "metadata": {
        "id": "RGaZ-cPF870Q"
      },
      "source": [
        "## References\n",
        "This paper helped me a lot, however my architecture is not same\n",
        "- https://arxiv.org/abs/1805.09441\n",
        "- [Pytorch Tutorial on RNNs](https://pytorch.org/tutorials/intermediate/char_rnn_classification_tutorial.html)  \n",
        "For word segmentation using dilation see this:\n",
        "- https://stackoverflow.com/a/10970473/4334320\n",
        "\n",
        "The text of the image which I used to show the final result is a translation of this book:\n",
        "- The Theory That Would Not Die, Sharon McGrayne"
      ]
    },
    {
      "cell_type": "code",
      "execution_count": 29,
      "metadata": {
        "id": "FXrAkr-k870Q"
      },
      "outputs": [],
      "source": [
        ""
      ]
    }
  ],
  "metadata": {
    "kernelspec": {
      "display_name": "Python 3",
      "language": "python",
      "name": "python3"
    },
    "language_info": {
      "codemirror_mode": {
        "name": "ipython",
        "version": 3
      },
      "file_extension": ".py",
      "mimetype": "text/x-python",
      "name": "python",
      "nbconvert_exporter": "python",
      "pygments_lexer": "ipython3",
      "version": "3.7.5"
    },
    "colab": {
      "name": "shotorCTC.ipynb",
      "provenance": [],
      "collapsed_sections": [],
      "machine_shape": "hm"
    },
    "accelerator": "GPU",
    "gpuClass": "standard"
  },
  "nbformat": 4,
  "nbformat_minor": 0
}