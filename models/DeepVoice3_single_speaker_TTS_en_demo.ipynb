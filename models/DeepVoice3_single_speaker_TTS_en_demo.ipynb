{
  "nbformat": 4,
  "nbformat_minor": 0,
  "metadata": {
    "colab": {
      "provenance": [],
      "private_outputs": true
    },
    "kernelspec": {
      "name": "python3",
      "display_name": "Python 3"
    },
    "accelerator": "GPU"
  },
  "cells": [
    {
      "metadata": {
        "id": "Za124iWvdMsZ"
      },
      "cell_type": "markdown",
      "source": [
        "# DeepVoice3: Single-speaker text-to-speech demo\n",
        "\n",
        "In this notebook, you can try DeepVoice3-based single-speaker text-to-speech (en) using a model trained on [LJSpeech dataset](https://keithito.com/LJ-Speech-Dataset/). The notebook is supposed to be executed on [Google colab](https://colab.research.google.com) so you don't have to setup your machines locally.\n",
        "\n",
        "**Estimated time to complete**: 5 miniutes.\n",
        "\n",
        "- Code: https://github.com/r9y9/deepvoice3_pytorch\n",
        "- Audio samples: https://r9y9.github.io/deepvoice3_pytorch/"
      ]
    },
    {
      "metadata": {
        "id": "ml6wOhwqhGiI"
      },
      "cell_type": "markdown",
      "source": [
        "## Setup"
      ]
    },
    {
      "metadata": {
        "id": "QjindPTItq75"
      },
      "cell_type": "markdown",
      "source": [
        "### Install dependencies"
      ]
    },
    {
      "metadata": {
        "id": "kemMMs6pg9Rv"
      },
      "cell_type": "code",
      "source": [
        "import os\n",
        "from os.path import exists, join, expanduser\n",
        "\n",
        "# Clone\n",
        "name = \"deepvoice3_pytorch\"\n",
        "if not exists(name):\n",
        "  ! git clone https://github.com/r9y9/$name"
      ],
      "execution_count": null,
      "outputs": []
    },
    {
      "metadata": {
        "id": "ntBxf7b6DCqT"
      },
      "cell_type": "code",
      "source": [
        "# Change working directory to the project dir\n",
        "os.chdir(join(expanduser(\"~\"), '/content/'+name))\n",
        "\n",
        "!git checkout 7a10ac6763eda92595e257543494b6a95f64229b --quiet\n",
        "\n",
        "# Install dependencices\n",
        "!pip install -q -e '.[bin]'\n",
        "!pip install hparams"
      ],
      "execution_count": null,
      "outputs": []
    },
    {
      "metadata": {
        "id": "X6VFmDe-ideo"
      },
      "cell_type": "code",
      "source": [
        "%pylab inline\n",
        "! pip install -q librosa nltk\n",
        "\n",
        "import torch\n",
        "import numpy as np\n",
        "import librosa\n",
        "import librosa.display\n",
        "import IPython\n",
        "from IPython.display import Audio\n",
        "# need this for English text processing frontend\n",
        "import nltk\n",
        "! python -m nltk.downloader cmudict"
      ],
      "execution_count": null,
      "outputs": []
    },
    {
      "metadata": {
        "id": "_l1Gd2SStt0E"
      },
      "cell_type": "markdown",
      "source": [
        "### Download a pre-trained model"
      ]
    },
    {
      "metadata": {
        "id": "42Zwjr4UjNn_"
      },
      "cell_type": "code",
      "source": [
        "preset = \"20180505_deepvoice3_ljspeech.json\"\n",
        "checkpoint_path = \"20180505_deepvoice3_checkpoint_step000640000.pth\""
      ],
      "execution_count": null,
      "outputs": []
    },
    {
      "metadata": {
        "id": "45Wrp8INj6Xu"
      },
      "cell_type": "code",
      "source": [
        "if not exists(preset):\n",
        "  !curl -O -L \"https://www.dropbox.com/s/0ck82unm0bo0rxd/20180505_deepvoice3_ljspeech.json\"\n",
        "if not exists(checkpoint_path):\n",
        "  !curl -O -L \"https://www.dropbox.com/s/5ucl9remrwy5oeg/20180505_deepvoice3_checkpoint_step000640000.pth\""
      ],
      "execution_count": null,
      "outputs": []
    },
    {
      "metadata": {
        "id": "_yJ90ESZiT_S"
      },
      "cell_type": "markdown",
      "source": [
        "## Synthesis"
      ]
    },
    {
      "metadata": {
        "id": "FUyhiJg03dj6"
      },
      "cell_type": "markdown",
      "source": [
        "### Setup hyper parameters"
      ]
    },
    {
      "cell_type": "code",
      "source": [
        "!sudo apt install python3-docopt"
      ],
      "metadata": {
        "id": "goeR8umwXPy0"
      },
      "execution_count": null,
      "outputs": []
    },
    {
      "metadata": {
        "id": "E9sLuYgcnbZb"
      },
      "cell_type": "code",
      "source": [
        "# import hparams\n",
        "import json\n",
        "import tensorflow as tf\n",
        "from tensorboard.plugins.hparams import api as hp\n",
        "\n",
        "\n",
        "# Load parameters from preset\n",
        "with open(preset) as f:\n",
        "  json.loads(f.read())\n",
        "\n",
        "# Inject frontend text processor\n",
        "import synthesis\n",
        "import train\n",
        "from deepvoice3_pytorch import frontend\n",
        "synthesis._frontend = getattr(frontend, \"en\")\n",
        "train._frontend =  getattr(frontend, \"en\")\n",
        "\n",
        "# alises\n",
        "fs = hparams.hparams.sample_rate\n",
        "hop_length = hparams.hparams.hop_size"
      ],
      "execution_count": null,
      "outputs": []
    },
    {
      "metadata": {
        "id": "C4NOldY83wG1"
      },
      "cell_type": "markdown",
      "source": [
        "### Define utility functions"
      ]
    },
    {
      "metadata": {
        "id": "xRbelGLjiSfA"
      },
      "cell_type": "code",
      "source": [
        "def tts(model, text, p=0, speaker_id=None, fast=True, figures=True):\n",
        "  from synthesis import tts as _tts\n",
        "  waveform, alignment, spectrogram, mel = _tts(model, text, p, speaker_id, fast)\n",
        "  if figures:\n",
        "      visualize(alignment, spectrogram)\n",
        "  IPython.display.display(Audio(waveform, rate=fs))\n",
        "\n",
        "def visualize(alignment, spectrogram):\n",
        "  label_fontsize = 16\n",
        "  figure(figsize=(16,16))\n",
        "\n",
        "  subplot(2,1,1)\n",
        "  imshow(alignment.T, aspect=\"auto\", origin=\"lower\", interpolation=None)\n",
        "  xlabel(\"Decoder timestamp\", fontsize=label_fontsize)\n",
        "  ylabel(\"Encoder timestamp\", fontsize=label_fontsize)\n",
        "  colorbar()\n",
        "\n",
        "  subplot(2,1,2)\n",
        "  librosa.display.specshow(spectrogram.T, sr=fs,\n",
        "                           hop_length=hop_length, x_axis=\"time\", y_axis=\"linear\")\n",
        "  xlabel(\"Time\", fontsize=label_fontsize)\n",
        "  ylabel(\"Hz\", fontsize=label_fontsize)\n",
        "  tight_layout()\n",
        "  colorbar()"
      ],
      "execution_count": null,
      "outputs": []
    },
    {
      "metadata": {
        "id": "m2jmbSD430Ws"
      },
      "cell_type": "markdown",
      "source": [
        "### Load the model checkpoint"
      ]
    },
    {
      "metadata": {
        "id": "lr8pgqtYhvav"
      },
      "cell_type": "code",
      "source": [
        "from train import build_model\n",
        "from train import restore_parts, load_checkpoint\n",
        "\n",
        "model = build_model()\n",
        "model = load_checkpoint(checkpoint_path, model, None, True)"
      ],
      "execution_count": null,
      "outputs": []
    },
    {
      "metadata": {
        "id": "DOJ3miW63ywA"
      },
      "cell_type": "markdown",
      "source": [
        "### Generate speech"
      ]
    },
    {
      "metadata": {
        "id": "GR1XRy-ykbz_"
      },
      "cell_type": "code",
      "source": [
        "# Try your favorite senteneces:)\n",
        "texts = [\n",
        "    \"Scientists at the CERN laboratory say they have discovered a new particle.\",\n",
        "    \"There's a way to measure the acute emotional intelligence that has never gone out of style.\",\n",
        "    \"President Trump met with other leaders at the Group of 20 conference.\",\n",
        "    \"The Senate's bill to repeal and replace the Affordable Care Act is now imperiled.\",\n",
        "    \"Generative adversarial network or variational auto-encoder.\",\n",
        "    \"The buses aren't the problem, they actually provide a solution.\",\n",
        "    \"peter piper picked a peck of pickled peppers how many peppers did peter piper pick.\",\n",
        "    \"Some have accepted this as a miracle without any physical explanation.\",\n",
        "]\n",
        "\n",
        "for idx, text in enumerate(texts):\n",
        "  print(idx, text)\n",
        "  tts(model, text, figures=False)"
      ],
      "execution_count": null,
      "outputs": []
    },
    {
      "metadata": {
        "id": "nirMEf2J5Roy"
      },
      "cell_type": "code",
      "source": [
        "# With attention plot\n",
        "text = \"Generative adversarial network or variational auto-encoder.\"\n",
        "tts(model, text, figures=True)"
      ],
      "execution_count": null,
      "outputs": []
    },
    {
      "metadata": {
        "id": "ArQspYbs5Aoo"
      },
      "cell_type": "markdown",
      "source": [
        "For details, please visit https://github.com/r9y9/deepvoice3_pytorch"
      ]
    },
    {
      "cell_type": "code",
      "source": [],
      "metadata": {
        "id": "1yTdsQQbSVFt"
      },
      "execution_count": null,
      "outputs": []
    }
  ]
}