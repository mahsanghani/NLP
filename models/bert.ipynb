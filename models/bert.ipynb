{
  "cells": [
    {
      "cell_type": "markdown",
      "metadata": {
        "id": "pSIR9UtJ9mJH"
      },
      "source": [
        "# COLX 563 Lab Assignment 4: Slot filling\n",
        "## Assignment Objectives\n",
        "\n",
        "In this lab, you will build an end-to-end system for basic (binary) intent recognition and slot filling in the context of a dialogue system. It is a team assignment, and you have nearly complete freedom with regards to your solution, with a few restrictions mentioned below. **For this lab, you will work with your capstone team.**"
      ]
    },
    {
      "cell_type": "markdown",
      "metadata": {
        "id": "S1mjztZJ9mJL"
      },
      "source": [
        "## Getting Started\n",
        "\n",
        "Add imports below."
      ]
    },
    {
      "cell_type": "code",
      "execution_count": null,
      "metadata": {
        "colab": {
          "base_uri": "https://localhost:8080/"
        },
        "id": "ImFUHMuP9xIx",
        "outputId": "cdf94064-a566-4237-c509-00c430ef18d6"
      },
      "outputs": [
        {
          "name": "stdout",
          "output_type": "stream",
          "text": [
            "[nltk_data] Downloading package punkt to /root/nltk_data...\n",
            "[nltk_data]   Unzipping tokenizers/punkt.zip.\n",
            "Collecting pulp\n",
            "  Downloading PuLP-2.6.0-py3-none-any.whl (14.2 MB)\n",
            "\u001b[K     |████████████████████████████████| 14.2 MB 14.1 MB/s \n",
            "\u001b[?25hInstalling collected packages: pulp\n",
            "Successfully installed pulp-2.6.0\n",
            "Requirement already satisfied: torch in /usr/local/lib/python3.7/dist-packages (1.11.0+cu113)\n",
            "Requirement already satisfied: typing-extensions in /usr/local/lib/python3.7/dist-packages (from torch) (4.2.0)\n",
            "Collecting transformers\n",
            "  Downloading transformers-4.18.0-py3-none-any.whl (4.0 MB)\n",
            "\u001b[K     |████████████████████████████████| 4.0 MB 9.7 MB/s \n",
            "\u001b[?25hCollecting huggingface-hub<1.0,>=0.1.0\n",
            "  Downloading huggingface_hub-0.5.1-py3-none-any.whl (77 kB)\n",
            "\u001b[K     |████████████████████████████████| 77 kB 5.9 MB/s \n",
            "\u001b[?25hRequirement already satisfied: importlib-metadata in /usr/local/lib/python3.7/dist-packages (from transformers) (4.11.3)\n",
            "Collecting sacremoses\n",
            "  Downloading sacremoses-0.0.49-py3-none-any.whl (895 kB)\n",
            "\u001b[K     |████████████████████████████████| 895 kB 57.4 MB/s \n",
            "\u001b[?25hRequirement already satisfied: tqdm>=4.27 in /usr/local/lib/python3.7/dist-packages (from transformers) (4.64.0)\n",
            "Requirement already satisfied: filelock in /usr/local/lib/python3.7/dist-packages (from transformers) (3.6.0)\n",
            "Requirement already satisfied: regex!=2019.12.17 in /usr/local/lib/python3.7/dist-packages (from transformers) (2019.12.20)\n",
            "Collecting tokenizers!=0.11.3,<0.13,>=0.11.1\n",
            "  Downloading tokenizers-0.12.1-cp37-cp37m-manylinux_2_12_x86_64.manylinux2010_x86_64.whl (6.6 MB)\n",
            "\u001b[K     |████████████████████████████████| 6.6 MB 48.4 MB/s \n",
            "\u001b[?25hRequirement already satisfied: requests in /usr/local/lib/python3.7/dist-packages (from transformers) (2.23.0)\n",
            "Collecting pyyaml>=5.1\n",
            "  Downloading PyYAML-6.0-cp37-cp37m-manylinux_2_5_x86_64.manylinux1_x86_64.manylinux_2_12_x86_64.manylinux2010_x86_64.whl (596 kB)\n",
            "\u001b[K     |████████████████████████████████| 596 kB 49.9 MB/s \n",
            "\u001b[?25hRequirement already satisfied: packaging>=20.0 in /usr/local/lib/python3.7/dist-packages (from transformers) (21.3)\n",
            "Requirement already satisfied: numpy>=1.17 in /usr/local/lib/python3.7/dist-packages (from transformers) (1.21.6)\n",
            "Requirement already satisfied: typing-extensions>=3.7.4.3 in /usr/local/lib/python3.7/dist-packages (from huggingface-hub<1.0,>=0.1.0->transformers) (4.2.0)\n",
            "Requirement already satisfied: pyparsing!=3.0.5,>=2.0.2 in /usr/local/lib/python3.7/dist-packages (from packaging>=20.0->transformers) (3.0.8)\n",
            "Requirement already satisfied: zipp>=0.5 in /usr/local/lib/python3.7/dist-packages (from importlib-metadata->transformers) (3.8.0)\n",
            "Requirement already satisfied: certifi>=2017.4.17 in /usr/local/lib/python3.7/dist-packages (from requests->transformers) (2021.10.8)\n",
            "Requirement already satisfied: chardet<4,>=3.0.2 in /usr/local/lib/python3.7/dist-packages (from requests->transformers) (3.0.4)\n",
            "Requirement already satisfied: urllib3!=1.25.0,!=1.25.1,<1.26,>=1.21.1 in /usr/local/lib/python3.7/dist-packages (from requests->transformers) (1.24.3)\n",
            "Requirement already satisfied: idna<3,>=2.5 in /usr/local/lib/python3.7/dist-packages (from requests->transformers) (2.10)\n",
            "Requirement already satisfied: joblib in /usr/local/lib/python3.7/dist-packages (from sacremoses->transformers) (1.1.0)\n",
            "Requirement already satisfied: click in /usr/local/lib/python3.7/dist-packages (from sacremoses->transformers) (7.1.2)\n",
            "Requirement already satisfied: six in /usr/local/lib/python3.7/dist-packages (from sacremoses->transformers) (1.15.0)\n",
            "Installing collected packages: pyyaml, tokenizers, sacremoses, huggingface-hub, transformers\n",
            "  Attempting uninstall: pyyaml\n",
            "    Found existing installation: PyYAML 3.13\n",
            "    Uninstalling PyYAML-3.13:\n",
            "      Successfully uninstalled PyYAML-3.13\n",
            "Successfully installed huggingface-hub-0.5.1 pyyaml-6.0 sacremoses-0.0.49 tokenizers-0.12.1 transformers-4.18.0\n",
            "Collecting BeautifulSoup\n",
            "  Downloading BeautifulSoup-3.2.2.tar.gz (32 kB)\n",
            "\u001b[33mWARNING: Discarding https://files.pythonhosted.org/packages/40/f2/6c9f2f3e696ee6a1fb0e4d7850617e224ed2b0b1e872110abffeca2a09d4/BeautifulSoup-3.2.2.tar.gz#sha256=a04169602bff6e3138b1259dbbf491f5a27f9499dea9a8fbafd48843f9d89970 (from https://pypi.org/simple/beautifulsoup/). Command errored out with exit status 1: python setup.py egg_info Check the logs for full command output.\u001b[0m\n",
            "  Downloading BeautifulSoup-3.2.1.tar.gz (31 kB)\n",
            "\u001b[33mWARNING: Discarding https://files.pythonhosted.org/packages/1e/ee/295988deca1a5a7accd783d0dfe14524867e31abb05b6c0eeceee49c759d/BeautifulSoup-3.2.1.tar.gz#sha256=6a8cb4401111e011b579c8c52a51cdab970041cc543814bbd9577a4529fe1cdb (from https://pypi.org/simple/beautifulsoup/). Command errored out with exit status 1: python setup.py egg_info Check the logs for full command output.\u001b[0m\n",
            "  Downloading BeautifulSoup-3.2.0.tar.gz (31 kB)\n",
            "\u001b[33mWARNING: Discarding https://files.pythonhosted.org/packages/33/fe/15326560884f20d792d3ffc7fe8f639aab88647c9d46509a240d9bfbb6b1/BeautifulSoup-3.2.0.tar.gz#sha256=0dc52d07516c1665c9dd9f0a390a7a054bfb7b147a50b2866fb116b8909dfd37 (from https://pypi.org/simple/beautifulsoup/). Command errored out with exit status 1: python setup.py egg_info Check the logs for full command output.\u001b[0m\n",
            "\u001b[31mERROR: Could not find a version that satisfies the requirement BeautifulSoup (from versions: 3.2.0, 3.2.1, 3.2.2)\u001b[0m\n",
            "\u001b[31mERROR: No matching distribution found for BeautifulSoup\u001b[0m\n",
            "Collecting sklearn_crfsuite\n",
            "  Downloading sklearn_crfsuite-0.3.6-py2.py3-none-any.whl (12 kB)\n",
            "Requirement already satisfied: tqdm>=2.0 in /usr/local/lib/python3.7/dist-packages (from sklearn_crfsuite) (4.64.0)\n",
            "Collecting python-crfsuite>=0.8.3\n",
            "  Downloading python_crfsuite-0.9.8-cp37-cp37m-manylinux_2_17_x86_64.manylinux2014_x86_64.whl (965 kB)\n",
            "\u001b[K     |████████████████████████████████| 965 kB 8.4 MB/s \n",
            "\u001b[?25hRequirement already satisfied: six in /usr/local/lib/python3.7/dist-packages (from sklearn_crfsuite) (1.15.0)\n",
            "Requirement already satisfied: tabulate in /usr/local/lib/python3.7/dist-packages (from sklearn_crfsuite) (0.8.9)\n",
            "Installing collected packages: python-crfsuite, sklearn-crfsuite\n",
            "Successfully installed python-crfsuite-0.9.8 sklearn-crfsuite-0.3.6\n",
            "Mounted at /content/gdrive\n"
          ]
        }
      ],
      "source": [
        "from sklearn.metrics import accuracy_score\n",
        "import nltk\n",
        "nltk.download('punkt')\n",
        "!pip install pulp\n",
        "!pip install torch\n",
        "!pip install transformers\n",
        "!pip install BeautifulSoup\n",
        "!pip install sklearn_crfsuite\n",
        "from google.colab import drive\n",
        "drive.mount('/content/gdrive')"
      ]
    },
    {
      "cell_type": "code",
      "execution_count": null,
      "metadata": {
        "id": "wO0XUYYv9mJM"
      },
      "outputs": [],
      "source": [
        "#provided code\n",
        "import os\n",
        "import pandas as pd\n",
        "from tqdm import tqdm\n",
        "\n",
        "import torch\n",
        "import torch.nn as nn\n",
        "from torch.optim import AdamW, Adam\n",
        "from torch.utils.data import Dataset, DataLoader\n",
        "\n",
        "from transformers import AutoTokenizer, AutoModel\n",
        "\n",
        "from sklearn.metrics import accuracy_score"
      ]
    },
    {
      "cell_type": "markdown",
      "metadata": {
        "id": "M1OL8zhg9mJN"
      },
      "source": [
        "For this lab, you'll be working with the MultiWOZ dataset of goal-oriented dialogues (2.2). You can look at the full corpus [here](https://github.com/budzianowski/multiwoz/tree/master/data/MultiWOZ_2.2). It has an impressively detailed annotation involving multiple turns and multiple goals which we have simplified to just the initiating request (first turn) and involving two possible intents and the corresponding slots for those intents. Download the data from [github](https://github.ubc.ca/jungyeul/labs/raw/master/block6/Multiwoz.zip), unzip it into a directory outside of your lab repo and change the path below."
      ]
    },
    {
      "cell_type": "code",
      "execution_count": null,
      "metadata": {
        "id": "CRHfBmp59mJO"
      },
      "outputs": [],
      "source": [
        "#provided code\n",
        "woz_directory = \"/content/gdrive/MyDrive/563/Lab4/data/\""
      ]
    },
    {
      "cell_type": "code",
      "execution_count": null,
      "metadata": {
        "id": "LFt1_XyE9mJO"
      },
      "outputs": [],
      "source": [
        "hotel_slot_order = [\n",
        "    \"hotel-area\",\n",
        "    \"hotel-internet\",\n",
        "    \"hotel-name\",\n",
        "    \"hotel-parking\",\n",
        "    \"hotel-pricerange\",\n",
        "    \"hotel-stars\",\n",
        "    \"hotel-type\",\n",
        "]\n",
        "\n",
        "restaurant_slot_order = [\n",
        "    \"restaurant-area\",\n",
        "    \"restaurant-food\",\n",
        "    \"restaurant-name\",\n",
        "    \"restaurant-pricerange\",\n",
        "]\n",
        "\n",
        "intent2ind = {\"find_hotel\": 0, \"find_restaurant\": 1}\n",
        "pricerange2ind = {\n",
        "    \"no_mention\": 0,\n",
        "    \"cheap\": 1,\n",
        "    \"dontcare\": 2,\n",
        "    \"expensive\": 3,\n",
        "    \"moderate\": 4,\n",
        "}\n",
        "area2ind = {\n",
        "    \"no_mention\": 0,\n",
        "    \"dontcare\": 1,\n",
        "    \"centre\": 2,\n",
        "    \"east\": 3,\n",
        "    \"north\": 4,\n",
        "    \"south\": 5,\n",
        "    \"west\": 6,\n",
        "}\n",
        "parking2ind = {\"no_mention\": 0, \"dontcare\": 1, \"no\": 2, \"yes\": 3}\n",
        "internet2ind = {\"no_mention\": 0, \"dontcare\": 1, \"no\": 2, \"yes\": 3}\n",
        "star2ind = {\n",
        "    \"no_mention\": 0,\n",
        "    \"dontcare\": 1,\n",
        "    \"0\": 2,\n",
        "    \"1\": 3,\n",
        "    \"2\": 4,\n",
        "    \"3\": 5,\n",
        "    \"4\": 6,\n",
        "    \"5\": 7,\n",
        "}\n",
        "type2ind = {\"no_mention\": 0, \"dontcare\": 1, \"guesthouse\": 2}\n",
        "\n",
        "iob_labels = {\"hotel-name\", \"restaurant-food\", \"restaurant-name\"}\n",
        "\n",
        "iob_tags = [\n",
        "    \"O\",\n",
        "    \"B-HOTEL-NAME\",\n",
        "    \"I-HOTEL-NAME\",\n",
        "    \"B-RESTAURANT-NAME\",\n",
        "    \"I-RESTAURANT-NAME\",\n",
        "    \"B-RESTAURANT-FOOD\",\n",
        "    \"I-RESTAURANT-FOOD\",\n",
        "]\n",
        "\n",
        "iob_tags2ind = {tag: i for i, tag in enumerate(iob_tags)}\n",
        "\n",
        "\n",
        "label2ind = {\n",
        "    \"find\": intent2ind,\n",
        "    \"pricerange\": pricerange2ind,\n",
        "    \"area\": area2ind,\n",
        "    \"parking\": parking2ind,\n",
        "    \"internet\": internet2ind,\n",
        "    \"stars\": star2ind,\n",
        "    \"type\": type2ind,\n",
        "}\n"
      ]
    },
    {
      "cell_type": "code",
      "execution_count": null,
      "metadata": {
        "colab": {
          "base_uri": "https://localhost:8080/",
          "height": 145,
          "referenced_widgets": [
            "407c2c600a044f53bdc4c6686eea923a",
            "ae5470fefa7b4c309336578b960ed9da",
            "3672d6afba224c6eb1d4e6240bf2d41d",
            "5266c2d73d6a48b5a2ce33ed06b88212",
            "8efdcfb40e2144a7b1d565542b378cb5",
            "742d0fcfc53948f8861655400e7883a3",
            "9334b6005d984a3f8ebb8b2d217d437b",
            "f9eef57230e542ad98f71cfda280bde4",
            "11dc0d9d1c9a48629c083148e7986590",
            "0286423c76f94f6b94908c9456f37c48",
            "79ba2d96e4eb4693bb2bff8ac43392fb",
            "2608b5bc8e7c478f9ab70d8e6e336643",
            "4ca167efbff84f4890a58a4ede9ce060",
            "0d32c62129c144699ad08875c69e2676",
            "2bf265327fe64897896d56c99f785734",
            "ba4d613bda144a1d887aee50243146da",
            "61d4699f4be34b2e87e5e2b74343c793",
            "89fa1d0e3e0c4dfaa1edbeaa617baca2",
            "22cfa64ff549448dbf4604e06b53c7b7",
            "765e3c1f316444bbb2c6bee80fae9bfe",
            "2ca63ebe68db41f6b37ecd5304011fab",
            "7e754d5cc9df46ce8b0e662689afc0df",
            "9d379bc5370841c1a4717b1cc598a437",
            "d0e7a146bdd4472782841409901c8af8",
            "1e5e9496e6004710896449d5922f91aa",
            "2cd5dc7bdff14e95a4774ae443eea755",
            "c3f9840c00754132942379d56da70890",
            "20cb2607cd5d45b7a59159bcafcf435f",
            "fa19aa01b9ff4427a6a3603d2989d74c",
            "35f5720853a74ea087378ce81cbe9057",
            "11870e1395c548ce84fa87fa7090b6e7",
            "49721a4b94c2429fb08f51d233c8458a",
            "b9bd457b8d10411aa6c3aff70f993862",
            "4443a6e08feb49cca72253391007b385",
            "8e33baacc4054dcea0c9cbd279bb9691",
            "f1c880b3a0714311a00b15f81fde3924",
            "714f81de42f24286bc5c737aeebe963b",
            "ab26bc1743be413c81890c2e9126dcd0",
            "761af0e75ec54a70842c75380fdd5ca5",
            "dec74ac1e48f4adb952aac12835bec90",
            "f5c297c58cdc4de4a9fcddba8c61f233",
            "35c524abe3ac4e3b95865297974559af",
            "119b869525e14cc1bee72ea086c40468",
            "8b6fa77633d94d368dc063d38a19401f"
          ]
        },
        "id": "eCktcZH19mJQ",
        "outputId": "9d36ffd2-8966-4696-b7d4-64def24cd228"
      },
      "outputs": [
        {
          "data": {
            "application/vnd.jupyter.widget-view+json": {
              "model_id": "407c2c600a044f53bdc4c6686eea923a",
              "version_major": 2,
              "version_minor": 0
            },
            "text/plain": [
              "Downloading:   0%|          | 0.00/480 [00:00<?, ?B/s]"
            ]
          },
          "metadata": {},
          "output_type": "display_data"
        },
        {
          "data": {
            "application/vnd.jupyter.widget-view+json": {
              "model_id": "2608b5bc8e7c478f9ab70d8e6e336643",
              "version_major": 2,
              "version_minor": 0
            },
            "text/plain": [
              "Downloading:   0%|          | 0.00/878k [00:00<?, ?B/s]"
            ]
          },
          "metadata": {},
          "output_type": "display_data"
        },
        {
          "data": {
            "application/vnd.jupyter.widget-view+json": {
              "model_id": "9d379bc5370841c1a4717b1cc598a437",
              "version_major": 2,
              "version_minor": 0
            },
            "text/plain": [
              "Downloading:   0%|          | 0.00/446k [00:00<?, ?B/s]"
            ]
          },
          "metadata": {},
          "output_type": "display_data"
        },
        {
          "data": {
            "application/vnd.jupyter.widget-view+json": {
              "model_id": "4443a6e08feb49cca72253391007b385",
              "version_major": 2,
              "version_minor": 0
            },
            "text/plain": [
              "Downloading:   0%|          | 0.00/1.29M [00:00<?, ?B/s]"
            ]
          },
          "metadata": {},
          "output_type": "display_data"
        }
      ],
      "source": [
        "MODEL_NAME = \"distilroberta-base\"\n",
        "BATCH_SIZE = 16\n",
        "\n",
        "tokenizer = AutoTokenizer.from_pretrained(MODEL_NAME, use_fast=True)"
      ]
    },
    {
      "cell_type": "markdown",
      "metadata": {
        "id": "qIPvkija9mJR"
      },
      "source": [
        "## Tidy Submission\n",
        "rubric={mechanics:1}\n",
        "\n",
        "To get the marks for tidy submission:\n",
        "- Submit the assignment by filling in this Jupyter notebook with your answers embedded\n",
        "- Be sure to follow the instructions"
      ]
    },
    {
      "cell_type": "markdown",
      "metadata": {
        "id": "dxA2LkMQ9mJR"
      },
      "source": [
        "## Inspecting the data\n",
        "\n",
        "Let's look at corresponding pairs of utterances and answers from the training portion of our corpus"
      ]
    },
    {
      "cell_type": "code",
      "execution_count": null,
      "metadata": {
        "colab": {
          "base_uri": "https://localhost:8080/"
        },
        "id": "pAYwZQ-p9mJS",
        "outputId": "ee381a74-49ac-4379-8d71-9861839686e3",
        "scrolled": true
      },
      "outputs": [
        {
          "name": "stdout",
          "output_type": "stream",
          "text": [
            "Guten Tag, I am staying overnight in Cambridge and need a place to sleep. I need free parking and internet.\n",
            "find_hotel|hotel-area=centre|hotel-internet=yes|hotel-parking=yes\n",
            "------\n",
            "Hi there! Can you give me some info on Cityroomz?\n",
            "find_hotel|hotel-name=cityroomz\n",
            "------\n",
            "I am looking for a hotel named alyesbray lodge guest house.\n",
            "find_hotel|hotel-name=alyesbray lodge guest house\n",
            "------\n",
            "I am looking for a restaurant. I would like something cheap that has Chinese food.\n",
            "find_restaurant|restaurant-food=chinese|restaurant-pricerange=cheap\n",
            "------\n",
            "I'm looking for an expensive restaurant in the centre if you could help me.\n",
            "find_restaurant|restaurant-area=centre|restaurant-pricerange=expensive\n",
            "------\n",
            "I'm looking for a places to go and see during my upcoming trip to Cambridge.\n",
            "find_hotel\n",
            "------\n",
            "Yeah, could you recommend a good gastropub?\n",
            "find_restaurant|restaurant-food=gastropub\n",
            "------\n",
            "I want to find an expensive restaurant and serves european food. Can i also have the address, phone number and its area. ?\n",
            "find_restaurant|restaurant-food=european|restaurant-pricerange=expensive\n",
            "------\n",
            "Where's a good place to eat crossover food in Cambridge?\n",
            "find_restaurant|restaurant-food=crossover\n",
            "------\n",
            "I need a place to stay that has free wifi.\n",
            "find_hotel|hotel-internet=yes\n",
            "------\n",
            "I am looking for a restaurant that is in the expensive price range and in the south part of town.\n",
            "find_restaurant|restaurant-area=south|restaurant-pricerange=expensive\n",
            "------\n",
            "Can you help me find an expensive Chinese food restaurant?\n",
            "find_restaurant|restaurant-food=chinese|restaurant-pricerange=expensive\n",
            "------\n",
            "I'm looking to go to dinner tonight and am in the mood for some good Bistro in the centre of town, can you find me some options?\n",
            "find_restaurant|restaurant-area=centre|restaurant-food=bistro\n",
            "------\n",
            "I am looking for a particular restaurant. Its name is called travellers rest\n",
            "find_restaurant|restaurant-name=travellers rest\n",
            "------\n",
            "Heya, can you find me an expensive restaurant with north african food?\n",
            "find_restaurant|restaurant-food=african|restaurant-pricerange=expensive\n",
            "------\n",
            "I am looking for a restaurant.\n",
            "find_restaurant\n",
            "------\n",
            "I am looking for a high priced hotel in the north side of town\n",
            "find_hotel|hotel-area=north|hotel-pricerange=expensive\n",
            "------\n",
            "Hi, what can you tell me about the bangkok city restaurant?\n",
            "find_restaurant|restaurant-name=bangkok city\n",
            "------\n",
            "I'm looking for a hotel, can you help?\n",
            "find_hotel\n",
            "------\n",
            "Please find me a place to dine that's expensive and in the centre.\n",
            "find_restaurant|restaurant-area=centre|restaurant-pricerange=expensive\n",
            "------\n"
          ]
        }
      ],
      "source": [
        "count = 0\n",
        "with open(woz_directory + \"WOZ_train_utt.txt\") as f1:\n",
        "    with open(woz_directory + \"WOZ_train_ans.txt\") as f2:\n",
        "        while count < 20:\n",
        "            print(f1.readline().strip())\n",
        "            print(f2.readline().strip())\n",
        "            print(\"------\")\n",
        "            count += 1"
      ]
    },
    {
      "cell_type": "markdown",
      "metadata": {
        "id": "0__BoEI99mJT"
      },
      "source": [
        "The utterances consists of a request for information about either hotels or restaurants. The first part of the answer starts with the intent (either find_restaurant or find_hotel) and then lists the slots that have been filled in based on the utterance. Your goal is to generate this string of intents and slots based purely on the utterance. A few things to note:\n",
        "\n",
        "* Not all slots are filled in, and sometimes there are no slots filled in at all (but there is always an intent).\n",
        "* There are a fixed number of slots for each intent, and they always appear in a particular order, when they are filled in\n",
        "* The slot values sometimes but do not always correspond to what appears in the utterance. For example, a mention of wanting wifi in the request becomes hotel-internet=yes.\n",
        "\n",
        "We will be evaluating based on exact duplication of the entire output string, so before you start coding a solution, you should look carefully at examples in the training set and make sure you understand all the different components of the output, and how they related to the input utterance. In particular, you should identify the various constituent parts of the task, and judge which are likely to be easy, and which are likely to be more difficult."
      ]
    },
    {
      "cell_type": "markdown",
      "metadata": {
        "id": "tKRbuY7C9mJT"
      },
      "source": [
        "## Solution\n",
        "rubric={accuracy:10,quality:5,efficiency:3}\n",
        "\n",
        "You will build a system that, when provided with an utterance, predicts the appropriate intent and slots in the format used in the provided answers. This is an open-ended problem and you may solve it however you like, with the following restrictions:\n",
        "\n",
        "* Your solution should include at least one of token-level prediction models used in Labs 1-3 of this course, i.e. you should make use of a CRF, an LSTM, or a BERT model. You may use multiple models.\n",
        "* You may use basic NLP tools (tokenizer, POS, parser) and unsupervised resources such as word embeddings, but you should NOT use an existing NER system, or any additional labeled data for this task.\n",
        "* Your solution should be appropriately decomposed into parts, and documented. This is a complex enough problem that you should have several functions. You may wrap things up into a single class if you like, but you don't have to.\n",
        "* Use the provided assert to test `dev_predicted`, the output of your complete model on the dev set, you will need to pass the assert to get full accuracy points. \n",
        "* Though you may use dev *accuracy* to guide the development of your model, you should not look at either utterances or answers for the dev (or the test) when developing your model. Limit your inspection of the data (e.g. for the purposes of error analysis) to the training set.\n",
        "\n",
        "Other things to consider:\n",
        "\n",
        "* You may want to build \"standard\" (non-sequential) ML classifiers for some aspects of this problem, but you don't have to!\n",
        "* You may want to use appropriate lexicons. You can build them yourself, or find some.\n",
        "* Rather than using statistical classifiers, you may want to use rule-based methods to solve some of the problems you're facing.\n",
        "* You should probably do regular error analysis, some kind of crossvalidation in the training set is a good approach for this, or you can create another (inspectable) internal dev set by splitting up the training set.\n",
        "* If you're looking for just a little bit more performance, don't forget to tune your hyperparameters!"
      ]
    },
    {
      "cell_type": "code",
      "execution_count": null,
      "metadata": {
        "id": "LpnlyHiX9mJT"
      },
      "outputs": [],
      "source": [
        "class WOZdataset(Dataset):\n",
        "    \"\"\"\n",
        "    A dataset for housing WOZ data, including\n",
        "    input ids, label dicts, iobs and padding mask\n",
        "    \"\"\"\n",
        "\n",
        "    def __init__(\n",
        "        self,\n",
        "        prefix=\"train\",\n",
        "        tokenizer=tokenizer,\n",
        "        label2ind=label2ind,\n",
        "        iob_labels=iob_labels,\n",
        "        iob_tags2ind=iob_tags2ind,\n",
        "    ):\n",
        "        self.prefix = prefix\n",
        "        self.tokenizer = tokenizer\n",
        "        self.label2ind = label2ind\n",
        "        self.iob_labels = iob_labels\n",
        "        self.iob_tags2ind = iob_tags2ind\n",
        "\n",
        "        self.ids, self.mask = self.get_inputs()\n",
        "\n",
        "        if self.prefix != \"test\":\n",
        "            self.labels = self.get_labels()\n",
        "            self.iobs = self.get_iobs()\n",
        "        else:\n",
        "            self.labels = torch.zeros(self.ids.shape[0])\n",
        "            self.iobs = torch.zeros(self.ids.shape[0])\n",
        "\n",
        "    def get_inputs(self):\n",
        "        utterances = (\n",
        "            open(woz_directory + \"WOZ_\" + self.prefix + \"_utt.txt\").read().split(\"\\n\")\n",
        "        )\n",
        "        result = self.tokenizer(utterances, padding=\"max_length\", truncation=True)\n",
        "        ids = torch.tensor(result.input_ids)\n",
        "        mask = torch.tensor(result.attention_mask)\n",
        "        return ids, mask\n",
        "\n",
        "    def get_labels(self):\n",
        "        labels = []\n",
        "        with open(woz_directory + \"WOZ_\" + self.prefix + \"_ans.txt\") as f:\n",
        "            for line in f:\n",
        "                label_dict = {}\n",
        "                # 1. Split all the labels in the text file\n",
        "                splits = line.strip().split(\"|\")\n",
        "                # 2. Add the intention to the label dictionary\n",
        "                label_dict[\"find\"] = torch.tensor(self.label2ind[\"find\"][splits[0]])\n",
        "                # 3. For each other label, see if we have it or not and match it to it's appropriate encoding\n",
        "                for label in list(self.label2ind.keys())[1:]:\n",
        "                    for split in splits[1:]:\n",
        "                        split_label_name, split_label_value = split.split(\"=\")\n",
        "                        if label in split_label_name:\n",
        "                            label_value = torch.tensor(\n",
        "                                self.label2ind[label][split_label_value]\n",
        "                            )\n",
        "                            label_dict[label] = label_value\n",
        "                    if label not in label_dict.keys():\n",
        "                        # If the label doesn't exist, make sure to give it a default value.\n",
        "                        label_dict[label] = torch.tensor(\n",
        "                            self.label2ind[label][\"no_mention\"]\n",
        "                        )\n",
        "                labels.append(label_dict)\n",
        "\n",
        "        return labels\n",
        "\n",
        "    def get_iobs(self):\n",
        "        iobs = []\n",
        "        with open(woz_directory + \"WOZ_\" + self.prefix + \"_ans.txt\") as f:\n",
        "            for i, line in enumerate(f):\n",
        "                splits = line.strip().split(\"|\")\n",
        "                # Initialize all the iobs to O values which are equal to zero\n",
        "                iob = torch.zeros(self.ids[i].shape, dtype=torch.long)\n",
        "                for split in splits[1:]:\n",
        "                    split_label_name, split_label_value = split.strip().split(\"=\")\n",
        "                    # Make sure it's an iob tag\n",
        "                    if split_label_name in self.iob_labels:\n",
        "                        # For loop to match the iob position inside the tokenized input\n",
        "                        for j in range(len(self.ids[i])):\n",
        "                            k = 1\n",
        "                            # strip and lower to make sure it matches\n",
        "                            span = (\n",
        "                                self.tokenizer.decode(self.ids[i][j : j + k])\n",
        "                                .strip()\n",
        "                                .lower()\n",
        "                            )\n",
        "                            # If the first word matches, we keep adding words\n",
        "                            # until it's equal or doesn't match anymore\n",
        "                            while span in split_label_value:\n",
        "                                if span == split_label_value:\n",
        "                                    # If it's equal, we add the iob tags\n",
        "                                    iob_tag = \"B-\" + split_label_name.upper()\n",
        "                                    iob[j] = self.iob_tags2ind[iob_tag]\n",
        "                                    if k > 1:\n",
        "                                        iob_tag = \"I-\" + split_label_name.upper()\n",
        "                                        for l in range(1, k):\n",
        "                                            iob[j + l] = self.iob_tags2ind[iob_tag]\n",
        "                                    break\n",
        "                                k += 1\n",
        "                                span = (\n",
        "                                    self.tokenizer.decode(self.ids[i][j : j + k])\n",
        "                                    .strip()\n",
        "                                    .lower()\n",
        "                                )\n",
        "                iobs.append(iob)\n",
        "\n",
        "        return iobs\n",
        "\n",
        "    def __len__(self):\n",
        "        return len(self.ids)\n",
        "\n",
        "    def __getitem__(self, index):\n",
        "        labels = self.labels[index]\n",
        "        ids = self.ids[index]\n",
        "        mask = self.mask[index]\n",
        "        iobs = self.iobs[index]\n",
        "        return ids, labels, iobs, mask\n"
      ]
    },
    {
      "cell_type": "code",
      "execution_count": null,
      "metadata": {
        "id": "wkJeU6-h9mJU"
      },
      "outputs": [],
      "source": [
        "train_iter = WOZdataset()\n",
        "dev_iter = WOZdataset(\"dev\")\n",
        "test_iter = WOZdataset(\"test\")\n",
        "\n",
        "train_dataloader = DataLoader(train_iter, batch_size=BATCH_SIZE, shuffle=True)\n",
        "dev_dataloader = DataLoader(dev_iter, batch_size=BATCH_SIZE, shuffle=False)\n",
        "test_dataloader = DataLoader(test_iter, batch_size=BATCH_SIZE, shuffle=False)"
      ]
    },
    {
      "cell_type": "code",
      "execution_count": null,
      "metadata": {
        "id": "ZXYX3CbE9mJV"
      },
      "outputs": [],
      "source": [
        "\"\"\"\n",
        "Guten Tag, I am staying overnight in Cambridge and need a place to sleep. I need free parking and internet.\n",
        "find_hotel|hotel-area=centre|hotel-internet=yes|hotel-parking=yes\n",
        "------\n",
        "Hi there! Can you give me some info on Cityroomz?\n",
        "find_hotel|hotel-name=cityroomz\n",
        "------\n",
        "I am looking for a hotel named alyesbray lodge guest house.\n",
        "find_hotel|hotel-name=alyesbray lodge guest house\n",
        "------\n",
        "I am looking for a restaurant. I would like something cheap that has Chinese food.\n",
        "find_restaurant|restaurant-food=chinese|restaurant-pricerange=cheap\n",
        "------\n",
        "I'm looking for an expensive restaurant in the centre if you could help me.\n",
        "find_restaurant|restaurant-area=centre|restaurant-pricerange=expensive\n",
        "\"\"\"\n",
        "\n",
        "assert train_iter[0][1] == {\n",
        "    \"find\": torch.tensor(intent2ind[\"find_hotel\"]),\n",
        "    \"pricerange\": torch.tensor(pricerange2ind[\"no_mention\"]),\n",
        "    \"area\": torch.tensor(area2ind[\"centre\"]),\n",
        "    \"parking\": torch.tensor(parking2ind[\"yes\"]),\n",
        "    \"internet\": torch.tensor(internet2ind[\"yes\"]),\n",
        "    \"stars\": torch.tensor(star2ind[\"no_mention\"]),\n",
        "    \"type\": torch.tensor(type2ind[\"no_mention\"]),\n",
        "}\n",
        "\n",
        "assert (\n",
        "    tokenizer.decode(train_iter[1][0][torch.where(train_iter[1][2] != 0)])\n",
        "    .strip()\n",
        "    .lower()\n",
        "    == \"cityroomz\"\n",
        ")\n",
        "\n",
        "assert (\n",
        "    train_iter[1][2][torch.where(train_iter[1][2] != 0)][0]\n",
        "    == iob_tags2ind[\"B-HOTEL-NAME\"]\n",
        "    and train_iter[1][2][torch.where(train_iter[1][2] != 0)][1]\n",
        "    == iob_tags2ind[\"I-HOTEL-NAME\"]\n",
        ")\n",
        "\n",
        "assert (\n",
        "    tokenizer.decode(train_iter[2][0][torch.where(train_iter[2][2] != 0)])\n",
        "    .strip()\n",
        "    .lower()\n",
        "    == \"alyesbray lodge guest house\"\n",
        ")\n",
        "\n",
        "assert (\n",
        "    train_iter[2][2][torch.where(train_iter[2][2] != 0)][0]\n",
        "    == iob_tags2ind[\"B-HOTEL-NAME\"]\n",
        "    and train_iter[2][2][torch.where(train_iter[2][2] != 0)][1]\n",
        "    == iob_tags2ind[\"I-HOTEL-NAME\"]\n",
        ")\n",
        "\n",
        "assert train_iter[3][1] == {\n",
        "    \"find\": torch.tensor(intent2ind[\"find_restaurant\"]),\n",
        "    \"pricerange\": torch.tensor(pricerange2ind[\"cheap\"]),\n",
        "    \"area\": torch.tensor(area2ind[\"no_mention\"]),\n",
        "    \"parking\": torch.tensor(parking2ind[\"no_mention\"]),\n",
        "    \"internet\": torch.tensor(internet2ind[\"no_mention\"]),\n",
        "    \"stars\": torch.tensor(star2ind[\"no_mention\"]),\n",
        "    \"type\": torch.tensor(type2ind[\"no_mention\"]),\n",
        "}\n",
        "\n",
        "assert (\n",
        "    tokenizer.decode(train_iter[3][0][torch.where(train_iter[3][2] != 0)])\n",
        "    .strip()\n",
        "    .lower()\n",
        "    == \"chinese\"\n",
        ")\n",
        "\n",
        "assert (\n",
        "    train_iter[3][2][torch.where(train_iter[3][2] != 0)][0]\n",
        "    == iob_tags2ind[\"B-RESTAURANT-FOOD\"]\n",
        ")\n",
        "\n",
        "assert train_iter[4][1] == {\n",
        "    \"find\": torch.tensor(intent2ind[\"find_restaurant\"]),\n",
        "    \"pricerange\": torch.tensor(pricerange2ind[\"expensive\"]),\n",
        "    \"area\": torch.tensor(area2ind[\"centre\"]),\n",
        "    \"parking\": torch.tensor(parking2ind[\"no_mention\"]),\n",
        "    \"internet\": torch.tensor(internet2ind[\"no_mention\"]),\n",
        "    \"stars\": torch.tensor(star2ind[\"no_mention\"]),\n",
        "    \"type\": torch.tensor(type2ind[\"no_mention\"]),\n",
        "}\n"
      ]
    },
    {
      "cell_type": "code",
      "execution_count": null,
      "metadata": {
        "id": "JDgrrNfZ9mJV"
      },
      "outputs": [],
      "source": [
        "class WOZIOBClassifier(nn.Module):\n",
        "    def __init__(self, hidden_size, num_tags):\n",
        "        super(WOZIOBClassifier, self).__init__()\n",
        "        self.hidden_size = hidden_size\n",
        "        self.num_tags = num_tags\n",
        "        self.classifier = nn.Linear(self.hidden_size, self.num_tags)\n",
        "\n",
        "    def forward(self, hidden_states):\n",
        "        out = self.classifier(hidden_states).log_softmax(dim=-1)\n",
        "        return out\n",
        "\n",
        "\n",
        "class WOZLabelClassifier(nn.Module):\n",
        "    def __init__(self, hidden_size, label2ind):\n",
        "        super(WOZLabelClassifier, self).__init__()\n",
        "        self.hidden_size = hidden_size\n",
        "        self.label2ind = label2ind\n",
        "        self.classifier_dict = dict()\n",
        "\n",
        "        for label in self.label2ind:\n",
        "            self.classifier_dict[label] = nn.Linear(\n",
        "                self.hidden_size, len(self.label2ind[label])\n",
        "            ).to(DEVICE)\n",
        "\n",
        "    def forward(self, cls_state):\n",
        "        out_label_dict = dict()\n",
        "        for label, classifier in self.classifier_dict.items():\n",
        "            out_label_dict[label] = classifier(cls_state).log_softmax(dim=-1)\n",
        "        return out_label_dict\n",
        "\n",
        "\n",
        "class WOZClassifier(nn.Module):\n",
        "    def __init__(\n",
        "        self,\n",
        "        bert_model_name=MODEL_NAME,\n",
        "        label2ind=label2ind,\n",
        "        iob_tags2ind=iob_tags2ind,\n",
        "        dropout=0.1,\n",
        "    ):\n",
        "        super(WOZClassifier, self).__init__()\n",
        "        self.label2ind = label2ind\n",
        "        self.iob_tags2ind = iob_tags2ind\n",
        "        self.bert = AutoModel.from_pretrained(bert_model_name)\n",
        "        self.label_classifier = WOZLabelClassifier(\n",
        "            self.bert.config.hidden_size, self.label2ind\n",
        "        )\n",
        "        self.iob_classifier = WOZIOBClassifier(\n",
        "            self.bert.config.hidden_size, len(iob_tags2ind)\n",
        "        )\n",
        "        self.dropout = nn.Dropout(dropout)\n",
        "\n",
        "    def forward(self, input_ids, attention_mask):\n",
        "        hidden_states = self.dropout(\n",
        "            self.bert(input_ids=input_ids, attention_mask=attention_mask)[0]\n",
        "        )\n",
        "        cls_state = hidden_states[:, 0, :]\n",
        "        labels = self.label_classifier(cls_state)\n",
        "        iobs = self.iob_classifier(hidden_states)\n",
        "\n",
        "        return labels, iobs\n",
        "\n",
        "    def decode(\n",
        "        self,\n",
        "        input_ids,\n",
        "        attention_mask,\n",
        "        hotel_slot_order=hotel_slot_order,\n",
        "        restaurant_slot_order=restaurant_slot_order,\n",
        "        iob_labels=iob_labels,\n",
        "        iob_tags=iob_tags,\n",
        "        tokenizer=tokenizer\n",
        "    ):\n",
        "        # The goal of this function is to decode the output\n",
        "        # of the model to its orginal string format\n",
        "        encoded_output = []\n",
        "\n",
        "        # Step 1 : Get the predictions from the model\n",
        "        hidden_states = self.bert(input_ids=input_ids, attention_mask=attention_mask)[0]\n",
        "        cls_state = hidden_states[:, 0, :]\n",
        "        labels = self.label_classifier(cls_state)\n",
        "        iobs = self.iob_classifier(hidden_states).argmax(dim=-1)\n",
        "\n",
        "        for label_name in labels:\n",
        "            labels[label_name] = labels[label_name].argmax(dim=-1)\n",
        "\n",
        "        lengths = attention_mask.sum(dim=-1)\n",
        "\n",
        "        # Step 2: Go through the predictions one by one\n",
        "        for i, length in enumerate(lengths):\n",
        "            # Step 2.1 : Decode the IOB output by getting only ids\n",
        "            # that are not equal to zero and saving them for latter.\n",
        "            iob = iobs[i, :length]\n",
        "            non_zero_iob_ids = torch.where(iob != 0)\n",
        "            iob_labels_tag_ids = iob[non_zero_iob_ids]\n",
        "            iob_labels_strings = dict()\n",
        "            for iob_label_tag_id, iob_label_token_id in zip(\n",
        "                iob_labels_tag_ids, input_ids[i, :length][non_zero_iob_ids]\n",
        "            ):\n",
        "                current_label = iob_tags[iob_label_tag_id]\n",
        "                iob_split = current_label[:1]\n",
        "                tag_split = current_label[2:].lower()\n",
        "                if iob_split == \"B\":\n",
        "                    iob_labels_strings[tag_split] = [iob_label_token_id.item()]\n",
        "                else:\n",
        "                    if tag_split in iob_labels_strings.keys():\n",
        "                        iob_labels_strings[tag_split].append(iob_label_token_id.item())\n",
        "\n",
        "            # Step 2.2 : Find the intention so that\n",
        "            # we can look at the labels in the right order.\n",
        "            intention_id = labels[\"find\"][i]\n",
        "\n",
        "            enc = \"\"\n",
        "            if self.label2ind[\"find\"][\"find_hotel\"] == intention_id:\n",
        "                intention_name = \"find_hotel\"\n",
        "                slot_order = hotel_slot_order\n",
        "            elif self.label2ind[\"find\"][\"find_restaurant\"] == intention_id:\n",
        "                intention_name = \"find_restaurant\"\n",
        "                slot_order = restaurant_slot_order\n",
        "\n",
        "            # Step 2.3 : Get the values one by one for each label in order.\n",
        "            enc += intention_name\n",
        "            for slot in slot_order:\n",
        "                if slot in iob_labels:\n",
        "                    if slot in iob_labels_strings:\n",
        "                        enc += (\n",
        "                            \"|\"\n",
        "                            + slot\n",
        "                            + \"=\"\n",
        "                            + tokenizer.decode(torch.tensor(iob_labels_strings[slot]))\n",
        "                            .strip()\n",
        "                            .lower()\n",
        "                        )\n",
        "                else:\n",
        "                    slot_name = slot.split(\"-\")[1]\n",
        "                    predicted_slot_value = labels[slot_name][i]\n",
        "                    if predicted_slot_value != 0:\n",
        "                        # Have to use this undirect way to get the key matching the id\n",
        "                        # Ideally, we should've had a key and id mapping going both ways\n",
        "                        predicted_slot_value_str = list(\n",
        "                            self.label2ind[slot_name].keys()\n",
        "                        )[\n",
        "                            list(self.label2ind[slot_name].values()).index(\n",
        "                                predicted_slot_value\n",
        "                            )\n",
        "                        ]\n",
        "                        enc += \"|\" + slot + \"=\" + predicted_slot_value_str\n",
        "\n",
        "            encoded_output.append(enc)\n",
        "\n",
        "        return encoded_output\n"
      ]
    },
    {
      "cell_type": "code",
      "execution_count": null,
      "metadata": {
        "colab": {
          "base_uri": "https://localhost:8080/"
        },
        "id": "soSRDsHb9mJW",
        "outputId": "fbdbb408-d5ea-46fa-df21-243251e002a3"
      },
      "outputs": [
        {
          "data": {
            "text/plain": [
              "device(type='cuda')"
            ]
          },
          "execution_count": 11,
          "metadata": {},
          "output_type": "execute_result"
        }
      ],
      "source": [
        "DEVICE = torch.device('cuda' if torch.cuda.is_available() else 'cpu')\n",
        "DEVICE"
      ]
    },
    {
      "cell_type": "code",
      "execution_count": null,
      "metadata": {
        "id": "lwzgbt9p9mJW"
      },
      "outputs": [],
      "source": [
        "def label_loss_fn(pred_labels, gold_labels):\n",
        "    cel = nn.CrossEntropyLoss()\n",
        "    out = 0\n",
        "    for label in gold_labels:\n",
        "        out += cel(pred_labels[label], gold_labels[label])\n",
        "\n",
        "    return out\n",
        "\n",
        "\n",
        "def iob_loss_fn(pred_iob, gold_iob, mask):\n",
        "    length = mask.sum()\n",
        "    cel = nn.CrossEntropyLoss()\n",
        "    out = cel(pred_iob[:, :length, :].permute(0, 2, 1), gold_iob[:, :length])\n",
        "    return out\n",
        "\n",
        "\n",
        "def train_model(dataloader, model, optimizer):\n",
        "    model.train()\n",
        "    total_loss = 0\n",
        "\n",
        "    for inputs, labels, iobs, masks in tqdm(dataloader, total=len(dataloader)):\n",
        "        model.zero_grad()\n",
        "\n",
        "        inputs = inputs.to(DEVICE)\n",
        "        for label_name in labels:\n",
        "            labels[label_name] = labels[label_name].to(DEVICE)\n",
        "        iobs = iobs.to(DEVICE)\n",
        "        masks = masks.to(DEVICE)\n",
        "\n",
        "        pred_labels, pred_iobs = model(input_ids=inputs, attention_mask=masks)\n",
        "\n",
        "        label_loss = label_loss_fn(pred_labels, labels)\n",
        "        iob_loss = iob_loss_fn(pred_iobs, iobs, masks)\n",
        "\n",
        "        loss = label_loss + iob_loss\n",
        "\n",
        "        loss.backward()\n",
        "        optimizer.step()\n",
        "\n",
        "        total_loss += loss.item()\n",
        "\n",
        "    return total_loss\n",
        "\n",
        "\n",
        "def eval_model(dataloader, model):\n",
        "    model.eval()\n",
        "\n",
        "    gold = []\n",
        "    pred = []\n",
        "\n",
        "    for inputs, labels, iobs, masks in tqdm(dataloader, total=len(dataloader)):\n",
        "        inputs = inputs.to(DEVICE)\n",
        "        masks = masks.to(DEVICE)\n",
        "\n",
        "        pred_labels, pred_iobs = model(input_ids=inputs, attention_mask=masks)\n",
        "\n",
        "        for label_name in model.label2ind:\n",
        "            gold.extend(labels[label_name])\n",
        "            pred.extend(pred_labels[label_name].argmax(dim=-1).cpu())\n",
        "\n",
        "        for iob in iobs:\n",
        "            gold.extend(iob)\n",
        "\n",
        "        for iob in pred_iobs.argmax(dim=-1).cpu():\n",
        "            pred.extend(iob)\n",
        "\n",
        "    return accuracy_score(gold, pred)\n",
        "\n",
        "\n",
        "def eval_model_label_accuracy(dataloader, model):\n",
        "    model.eval()\n",
        "\n",
        "    gold = []\n",
        "    pred = []\n",
        "\n",
        "    for inputs, labels, iobs, masks in tqdm(dataloader, total=len(dataloader)):\n",
        "        inputs = inputs.to(DEVICE)\n",
        "        masks = masks.to(DEVICE)\n",
        "\n",
        "        pred_labels, pred_iobs = model(input_ids=inputs, attention_mask=masks)\n",
        "\n",
        "        for label_name in model.label2ind:\n",
        "            non_zero_label_ids = torch.where(labels[label_name] != 0)\n",
        "            gold.extend(labels[label_name][non_zero_label_ids])\n",
        "            pred.extend(\n",
        "                pred_labels[label_name].argmax(dim=-1)[non_zero_label_ids].cpu()\n",
        "            )\n",
        "\n",
        "    return accuracy_score(gold, pred)\n",
        "\n",
        "\n",
        "def eval_model_iob_accuracy(dataloader, model):\n",
        "    model.eval()\n",
        "\n",
        "    gold = []\n",
        "    pred = []\n",
        "\n",
        "    for inputs, labels, iobs, masks in tqdm(dataloader, total=len(dataloader)):\n",
        "        inputs = inputs.to(DEVICE)\n",
        "        masks = masks.to(DEVICE)\n",
        "\n",
        "        lengths = masks.sum(dim=-1)\n",
        "\n",
        "        pred_labels, pred_iobs = model(input_ids=inputs, attention_mask=masks)\n",
        "\n",
        "        for iob_gold, iob_pred, length in zip(iobs, pred_iobs.argmax(dim=-1).cpu(), lengths):\n",
        "            iob_gold = iob_gold[:length]\n",
        "            iob_pred = iob_pred[:length]\n",
        "            non_zero_iob_ids = torch.where(iob_gold != 0)\n",
        "            gold.extend(iob_gold[non_zero_iob_ids])\n",
        "            pred.extend(iob_pred[non_zero_iob_ids])\n",
        "\n",
        "    return accuracy_score(gold, pred)\n"
      ]
    },
    {
      "cell_type": "code",
      "execution_count": null,
      "metadata": {
        "colab": {
          "base_uri": "https://localhost:8080/",
          "height": 1000,
          "referenced_widgets": [
            "dbd0a9a45a5149bfad283f19aafada26",
            "9ee979804a3c44cc8e5e7760faa820cc",
            "7886631d38d145cb8b736e638ef07647",
            "77f3dee4d85b48729a3ac65f35b7eb62",
            "90fc0bc2ced64e079a721d13d2a00707",
            "b3df1237575e4fdcabccbba9b388cc1f",
            "31e4b2c440b447f3a182f86921c0e28d",
            "97a49a3a4e354493842f9ff97bb9513b",
            "4bb7582a75474568b5fc81f32d8f2854",
            "a924635305cd4613a46d3dfebf88b5ad",
            "625f4c96fec44d20ae58e934ab56376a"
          ]
        },
        "id": "9NZ1wwoB9mJX",
        "outputId": "b5e13af2-4bfc-4634-f98e-673d981753c6"
      },
      "outputs": [
        {
          "data": {
            "application/vnd.jupyter.widget-view+json": {
              "model_id": "dbd0a9a45a5149bfad283f19aafada26",
              "version_major": 2,
              "version_minor": 0
            },
            "text/plain": [
              "Downloading:   0%|          | 0.00/316M [00:00<?, ?B/s]"
            ]
          },
          "metadata": {},
          "output_type": "display_data"
        },
        {
          "name": "stderr",
          "output_type": "stream",
          "text": [
            "Some weights of the model checkpoint at distilroberta-base were not used when initializing RobertaModel: ['lm_head.decoder.weight', 'lm_head.layer_norm.weight', 'lm_head.dense.bias', 'lm_head.bias', 'lm_head.dense.weight', 'lm_head.layer_norm.bias']\n",
            "- This IS expected if you are initializing RobertaModel from the checkpoint of a model trained on another task or with another architecture (e.g. initializing a BertForSequenceClassification model from a BertForPreTraining model).\n",
            "- This IS NOT expected if you are initializing RobertaModel from the checkpoint of a model that you expect to be exactly identical (initializing a BertForSequenceClassification model from a BertForSequenceClassification model).\n"
          ]
        },
        {
          "name": "stdout",
          "output_type": "stream",
          "text": [
            "EPOCH: 1 of 20\n"
          ]
        },
        {
          "name": "stderr",
          "output_type": "stream",
          "text": [
            "100%|██████████| 235/235 [02:43<00:00,  1.43it/s]\n"
          ]
        },
        {
          "name": "stdout",
          "output_type": "stream",
          "text": [
            "loss = 1.9529592645929215\n",
            "EPOCH: 2 of 20\n"
          ]
        },
        {
          "name": "stderr",
          "output_type": "stream",
          "text": [
            "100%|██████████| 235/235 [02:48<00:00,  1.40it/s]\n"
          ]
        },
        {
          "name": "stdout",
          "output_type": "stream",
          "text": [
            "loss = 0.6002779518036132\n",
            "EPOCH: 3 of 20\n"
          ]
        },
        {
          "name": "stderr",
          "output_type": "stream",
          "text": [
            "100%|██████████| 235/235 [02:48<00:00,  1.40it/s]\n"
          ]
        },
        {
          "name": "stdout",
          "output_type": "stream",
          "text": [
            "loss = 0.4345280300429527\n",
            "EPOCH: 4 of 20\n"
          ]
        },
        {
          "name": "stderr",
          "output_type": "stream",
          "text": [
            "100%|██████████| 235/235 [02:48<00:00,  1.40it/s]\n"
          ]
        },
        {
          "name": "stdout",
          "output_type": "stream",
          "text": [
            "loss = 0.3534769215482347\n",
            "EPOCH: 5 of 20\n"
          ]
        },
        {
          "name": "stderr",
          "output_type": "stream",
          "text": [
            "100%|██████████| 235/235 [02:48<00:00,  1.40it/s]\n"
          ]
        },
        {
          "name": "stdout",
          "output_type": "stream",
          "text": [
            "loss = 0.31408583870593537\n",
            "EPOCH: 6 of 20\n"
          ]
        },
        {
          "name": "stderr",
          "output_type": "stream",
          "text": [
            "100%|██████████| 235/235 [02:48<00:00,  1.40it/s]\n"
          ]
        },
        {
          "name": "stdout",
          "output_type": "stream",
          "text": [
            "loss = 0.2765578421506476\n",
            "EPOCH: 7 of 20\n"
          ]
        },
        {
          "name": "stderr",
          "output_type": "stream",
          "text": [
            "100%|██████████| 235/235 [02:48<00:00,  1.40it/s]\n"
          ]
        },
        {
          "name": "stdout",
          "output_type": "stream",
          "text": [
            "loss = 0.24971942172405567\n",
            "EPOCH: 8 of 20\n"
          ]
        },
        {
          "name": "stderr",
          "output_type": "stream",
          "text": [
            "100%|██████████| 235/235 [02:48<00:00,  1.40it/s]\n"
          ]
        },
        {
          "name": "stdout",
          "output_type": "stream",
          "text": [
            "loss = 0.22197552741842067\n",
            "EPOCH: 9 of 20\n"
          ]
        },
        {
          "name": "stderr",
          "output_type": "stream",
          "text": [
            "100%|██████████| 235/235 [02:48<00:00,  1.40it/s]\n"
          ]
        },
        {
          "name": "stdout",
          "output_type": "stream",
          "text": [
            "loss = 0.20628415086167923\n",
            "EPOCH: 10 of 20\n"
          ]
        },
        {
          "name": "stderr",
          "output_type": "stream",
          "text": [
            "100%|██████████| 235/235 [02:48<00:00,  1.40it/s]\n"
          ]
        },
        {
          "name": "stdout",
          "output_type": "stream",
          "text": [
            "loss = 0.19263856021013664\n",
            "EPOCH: 11 of 20\n"
          ]
        },
        {
          "name": "stderr",
          "output_type": "stream",
          "text": [
            "100%|██████████| 235/235 [02:48<00:00,  1.40it/s]\n"
          ]
        },
        {
          "name": "stdout",
          "output_type": "stream",
          "text": [
            "loss = 0.1846341626758271\n",
            "EPOCH: 12 of 20\n"
          ]
        },
        {
          "name": "stderr",
          "output_type": "stream",
          "text": [
            "100%|██████████| 235/235 [02:48<00:00,  1.40it/s]\n"
          ]
        },
        {
          "name": "stdout",
          "output_type": "stream",
          "text": [
            "loss = 0.16991751425443813\n",
            "EPOCH: 13 of 20\n"
          ]
        },
        {
          "name": "stderr",
          "output_type": "stream",
          "text": [
            "100%|██████████| 235/235 [02:48<00:00,  1.40it/s]\n"
          ]
        },
        {
          "name": "stdout",
          "output_type": "stream",
          "text": [
            "loss = 0.15122364477274267\n",
            "EPOCH: 14 of 20\n"
          ]
        },
        {
          "name": "stderr",
          "output_type": "stream",
          "text": [
            "100%|██████████| 235/235 [02:48<00:00,  1.40it/s]\n"
          ]
        },
        {
          "name": "stdout",
          "output_type": "stream",
          "text": [
            "loss = 0.14151911006328907\n",
            "EPOCH: 15 of 20\n"
          ]
        },
        {
          "name": "stderr",
          "output_type": "stream",
          "text": [
            "100%|██████████| 235/235 [02:48<00:00,  1.40it/s]\n"
          ]
        },
        {
          "name": "stdout",
          "output_type": "stream",
          "text": [
            "loss = 0.13797141649621597\n",
            "EPOCH: 16 of 20\n"
          ]
        },
        {
          "name": "stderr",
          "output_type": "stream",
          "text": [
            "100%|██████████| 235/235 [02:48<00:00,  1.40it/s]\n"
          ]
        },
        {
          "name": "stdout",
          "output_type": "stream",
          "text": [
            "loss = 0.1292850873888807\n",
            "EPOCH: 17 of 20\n"
          ]
        },
        {
          "name": "stderr",
          "output_type": "stream",
          "text": [
            "100%|██████████| 235/235 [02:48<00:00,  1.40it/s]\n"
          ]
        },
        {
          "name": "stdout",
          "output_type": "stream",
          "text": [
            "loss = 0.1155037782293685\n",
            "EPOCH: 18 of 20\n"
          ]
        },
        {
          "name": "stderr",
          "output_type": "stream",
          "text": [
            "100%|██████████| 235/235 [02:48<00:00,  1.40it/s]\n"
          ]
        },
        {
          "name": "stdout",
          "output_type": "stream",
          "text": [
            "loss = 0.1142849826115243\n",
            "EPOCH: 19 of 20\n"
          ]
        },
        {
          "name": "stderr",
          "output_type": "stream",
          "text": [
            "100%|██████████| 235/235 [02:48<00:00,  1.40it/s]\n"
          ]
        },
        {
          "name": "stdout",
          "output_type": "stream",
          "text": [
            "loss = 0.10677737143445522\n",
            "EPOCH: 20 of 20\n"
          ]
        },
        {
          "name": "stderr",
          "output_type": "stream",
          "text": [
            " 89%|████████▉ | 210/235 [02:30<00:17,  1.40it/s]"
          ]
        }
      ],
      "source": [
        "LEARNING_RATE = 5e-5\n",
        "EPOCHS = 20\n",
        "\n",
        "\n",
        "model = WOZClassifier()\n",
        "model.to(DEVICE)\n",
        "\n",
        "optimizer = AdamW(model.parameters(), lr=LEARNING_RATE)\n",
        "\n",
        "for epoch in range(EPOCHS):\n",
        "    print(f\"EPOCH: {epoch+1} of {EPOCHS}\")\n",
        "    epoch_loss = train_model(train_dataloader, model, optimizer)\n",
        "    print(f\"loss = {epoch_loss / len(train_dataloader)}\")\n"
      ]
    },
    {
      "cell_type": "code",
      "execution_count": null,
      "metadata": {
        "id": "Dc3lA2xP9mJX"
      },
      "outputs": [],
      "source": [
        "# model = torch.load('cpkt/woz_full_model.pth')"
      ]
    },
    {
      "cell_type": "code",
      "execution_count": null,
      "metadata": {
        "colab": {
          "background_save": true
        },
        "id": "JcS1cnkk9mJY",
        "outputId": "742ad667-c90a-465e-ff2d-a33fbc7ad817"
      },
      "outputs": [
        {
          "name": "stderr",
          "output_type": "stream",
          "text": [
            "100%|██████████| 26/26 [00:06<00:00,  3.80it/s]\n"
          ]
        },
        {
          "data": {
            "text/plain": [
              "0.9995567934237475"
            ]
          },
          "execution_count": null,
          "metadata": {},
          "output_type": "execute_result"
        }
      ],
      "source": [
        "eval_model(dev_dataloader, model)"
      ]
    },
    {
      "cell_type": "code",
      "execution_count": null,
      "metadata": {
        "colab": {
          "background_save": true
        },
        "id": "2vDQKFQx9mJY",
        "outputId": "a7807579-6f0d-4931-d634-77aaef2ff2d6"
      },
      "outputs": [
        {
          "name": "stderr",
          "output_type": "stream",
          "text": [
            "100%|██████████| 26/26 [00:06<00:00,  4.25it/s]\n"
          ]
        },
        {
          "data": {
            "text/plain": [
              "0.9853420195439739"
            ]
          },
          "execution_count": null,
          "metadata": {},
          "output_type": "execute_result"
        }
      ],
      "source": [
        "eval_model_label_accuracy(dev_dataloader, model)"
      ]
    },
    {
      "cell_type": "code",
      "execution_count": null,
      "metadata": {
        "colab": {
          "background_save": true
        },
        "id": "J8InVRuC9mJY",
        "outputId": "e8c62af6-15ac-4f52-ff79-e8814abd06d5"
      },
      "outputs": [
        {
          "name": "stderr",
          "output_type": "stream",
          "text": [
            "100%|██████████| 26/26 [00:06<00:00,  4.29it/s]\n"
          ]
        },
        {
          "data": {
            "text/plain": [
              "0.9599236641221374"
            ]
          },
          "execution_count": null,
          "metadata": {},
          "output_type": "execute_result"
        }
      ],
      "source": [
        "eval_model_iob_accuracy(dev_dataloader, model)"
      ]
    },
    {
      "cell_type": "code",
      "execution_count": null,
      "metadata": {
        "colab": {
          "background_save": true
        },
        "id": "hM7gT4-u9mJY"
      },
      "outputs": [],
      "source": [
        "# torch.save(model, \"cpkt/woz_full_model.pth\")"
      ]
    },
    {
      "cell_type": "markdown",
      "metadata": {
        "id": "p42LfjMm9mJY"
      },
      "source": [
        "## Report\n",
        "rubric={raw:2,reasoning:3,writing:1}\n",
        "\n",
        "Describe your system, and discuss what your thinking about particular choices and any experiments you tried. Please talk about things you tried but didn't work, or things you thought of doing but didn't. Finally, discuss how each group member contributed to the project. As usual, there is an expectation that every group member will have made some significant contribution to the project. "
      ]
    },
    {
      "cell_type": "markdown",
      "metadata": {
        "id": "JSHe_LMb9mJY"
      },
      "source": [
        "## Submit to Kaggle \n",
        "rubric={accuracy:2}\n",
        "\n",
        "Run your system over the test data, and submit the result (in the same format as the train/dev answers) to the Kaggle competition. The competition is hosted [here](https://www.kaggle.com/t/71ccaf26071b4bfc864251a03c204b4f). To get full points, you need to beat the public baseline. Use your capstone partner as your team name please!\n"
      ]
    },
    {
      "cell_type": "code",
      "execution_count": null,
      "metadata": {
        "colab": {
          "background_save": true
        },
        "id": "UPTws-Kk9mJZ",
        "outputId": "21a788b0-8ec2-4809-acba-8b00a7e5f2bd"
      },
      "outputs": [
        {
          "name": "stderr",
          "output_type": "stream",
          "text": [
            "100%|██████████| 25/25 [00:05<00:00,  4.18it/s]\n"
          ]
        }
      ],
      "source": [
        "pred_test_slots = []\n",
        "for inputs, labels, iobs, masks in tqdm(test_dataloader, total=len(test_dataloader)):\n",
        "    out = model.decode(inputs.to(DEVICE), masks.to(DEVICE))\n",
        "    pred_test_slots.extend(out)\n",
        "\n",
        "assert len(pred_test_slots) == len(test_iter)"
      ]
    },
    {
      "cell_type": "code",
      "execution_count": null,
      "metadata": {
        "id": "C7Txq7Jz9mJZ"
      },
      "outputs": [],
      "source": [
        "HEADER = 'ID,Expected'\n",
        "\n",
        "with open(\"kaggle_tags.csv\", \"w\") as f:\n",
        "    f.write(HEADER + '\\n')\n",
        "    for i, pred in enumerate(pred_test_slots):\n",
        "        f.write(str(i) + \",\" + pred + \"\\n\")"
      ]
    },
    {
      "cell_type": "markdown",
      "metadata": {
        "id": "0fEHWCxc9mJZ"
      },
      "source": [
        "## Exercise: Kaggle competition (Optional)\n",
        "rubric={raw:2}\n",
        "\n",
        "As a team, compete to get the best result in the task. Since there are only 8 teams, the distribution of marks is a bit different than usual, only the top 3 groups will get bonus points. As usual, the rankings will be based on the score on the private leaderboard:\n",
        "\n",
        "\n",
        "- 1st place: 2\n",
        "- 2nd place: 1\n",
        "- 3rd place: 0.5"
      ]
    }
  ],
  "metadata": {
    "accelerator": "GPU",
    "colab": {
      "name": "bert.ipynb",
      "provenance": []
    },
    "kernelspec": {
      "display_name": "Python 3 (ipykernel)",
      "language": "python",
      "name": "python3"
    },
    "language_info": {
      "codemirror_mode": {
        "name": "ipython",
        "version": 3
      },
      "file_extension": ".py",
      "mimetype": "text/x-python",
      "name": "python",
      "nbconvert_exporter": "python",
      "pygments_lexer": "ipython3",
      "version": "3.8.12"
    },
    "widgets": {
      "application/vnd.jupyter.widget-state+json": {
        "0286423c76f94f6b94908c9456f37c48": {
          "model_module": "@jupyter-widgets/base",
          "model_module_version": "1.2.0",
          "model_name": "LayoutModel",
          "state": {
            "_model_module": "@jupyter-widgets/base",
            "_model_module_version": "1.2.0",
            "_model_name": "LayoutModel",
            "_view_count": null,
            "_view_module": "@jupyter-widgets/base",
            "_view_module_version": "1.2.0",
            "_view_name": "LayoutView",
            "align_content": null,
            "align_items": null,
            "align_self": null,
            "border": null,
            "bottom": null,
            "display": null,
            "flex": null,
            "flex_flow": null,
            "grid_area": null,
            "grid_auto_columns": null,
            "grid_auto_flow": null,
            "grid_auto_rows": null,
            "grid_column": null,
            "grid_gap": null,
            "grid_row": null,
            "grid_template_areas": null,
            "grid_template_columns": null,
            "grid_template_rows": null,
            "height": null,
            "justify_content": null,
            "justify_items": null,
            "left": null,
            "margin": null,
            "max_height": null,
            "max_width": null,
            "min_height": null,
            "min_width": null,
            "object_fit": null,
            "object_position": null,
            "order": null,
            "overflow": null,
            "overflow_x": null,
            "overflow_y": null,
            "padding": null,
            "right": null,
            "top": null,
            "visibility": null,
            "width": null
          }
        },
        "0d32c62129c144699ad08875c69e2676": {
          "model_module": "@jupyter-widgets/controls",
          "model_module_version": "1.5.0",
          "model_name": "FloatProgressModel",
          "state": {
            "_dom_classes": [],
            "_model_module": "@jupyter-widgets/controls",
            "_model_module_version": "1.5.0",
            "_model_name": "FloatProgressModel",
            "_view_count": null,
            "_view_module": "@jupyter-widgets/controls",
            "_view_module_version": "1.5.0",
            "_view_name": "ProgressView",
            "bar_style": "success",
            "description": "",
            "description_tooltip": null,
            "layout": "IPY_MODEL_22cfa64ff549448dbf4604e06b53c7b7",
            "max": 898823,
            "min": 0,
            "orientation": "horizontal",
            "style": "IPY_MODEL_765e3c1f316444bbb2c6bee80fae9bfe",
            "value": 898823
          }
        },
        "11870e1395c548ce84fa87fa7090b6e7": {
          "model_module": "@jupyter-widgets/controls",
          "model_module_version": "1.5.0",
          "model_name": "ProgressStyleModel",
          "state": {
            "_model_module": "@jupyter-widgets/controls",
            "_model_module_version": "1.5.0",
            "_model_name": "ProgressStyleModel",
            "_view_count": null,
            "_view_module": "@jupyter-widgets/base",
            "_view_module_version": "1.2.0",
            "_view_name": "StyleView",
            "bar_color": null,
            "description_width": ""
          }
        },
        "119b869525e14cc1bee72ea086c40468": {
          "model_module": "@jupyter-widgets/base",
          "model_module_version": "1.2.0",
          "model_name": "LayoutModel",
          "state": {
            "_model_module": "@jupyter-widgets/base",
            "_model_module_version": "1.2.0",
            "_model_name": "LayoutModel",
            "_view_count": null,
            "_view_module": "@jupyter-widgets/base",
            "_view_module_version": "1.2.0",
            "_view_name": "LayoutView",
            "align_content": null,
            "align_items": null,
            "align_self": null,
            "border": null,
            "bottom": null,
            "display": null,
            "flex": null,
            "flex_flow": null,
            "grid_area": null,
            "grid_auto_columns": null,
            "grid_auto_flow": null,
            "grid_auto_rows": null,
            "grid_column": null,
            "grid_gap": null,
            "grid_row": null,
            "grid_template_areas": null,
            "grid_template_columns": null,
            "grid_template_rows": null,
            "height": null,
            "justify_content": null,
            "justify_items": null,
            "left": null,
            "margin": null,
            "max_height": null,
            "max_width": null,
            "min_height": null,
            "min_width": null,
            "object_fit": null,
            "object_position": null,
            "order": null,
            "overflow": null,
            "overflow_x": null,
            "overflow_y": null,
            "padding": null,
            "right": null,
            "top": null,
            "visibility": null,
            "width": null
          }
        },
        "11dc0d9d1c9a48629c083148e7986590": {
          "model_module": "@jupyter-widgets/controls",
          "model_module_version": "1.5.0",
          "model_name": "ProgressStyleModel",
          "state": {
            "_model_module": "@jupyter-widgets/controls",
            "_model_module_version": "1.5.0",
            "_model_name": "ProgressStyleModel",
            "_view_count": null,
            "_view_module": "@jupyter-widgets/base",
            "_view_module_version": "1.2.0",
            "_view_name": "StyleView",
            "bar_color": null,
            "description_width": ""
          }
        },
        "1e5e9496e6004710896449d5922f91aa": {
          "model_module": "@jupyter-widgets/controls",
          "model_module_version": "1.5.0",
          "model_name": "FloatProgressModel",
          "state": {
            "_dom_classes": [],
            "_model_module": "@jupyter-widgets/controls",
            "_model_module_version": "1.5.0",
            "_model_name": "FloatProgressModel",
            "_view_count": null,
            "_view_module": "@jupyter-widgets/controls",
            "_view_module_version": "1.5.0",
            "_view_name": "ProgressView",
            "bar_style": "success",
            "description": "",
            "description_tooltip": null,
            "layout": "IPY_MODEL_35f5720853a74ea087378ce81cbe9057",
            "max": 456318,
            "min": 0,
            "orientation": "horizontal",
            "style": "IPY_MODEL_11870e1395c548ce84fa87fa7090b6e7",
            "value": 456318
          }
        },
        "20cb2607cd5d45b7a59159bcafcf435f": {
          "model_module": "@jupyter-widgets/base",
          "model_module_version": "1.2.0",
          "model_name": "LayoutModel",
          "state": {
            "_model_module": "@jupyter-widgets/base",
            "_model_module_version": "1.2.0",
            "_model_name": "LayoutModel",
            "_view_count": null,
            "_view_module": "@jupyter-widgets/base",
            "_view_module_version": "1.2.0",
            "_view_name": "LayoutView",
            "align_content": null,
            "align_items": null,
            "align_self": null,
            "border": null,
            "bottom": null,
            "display": null,
            "flex": null,
            "flex_flow": null,
            "grid_area": null,
            "grid_auto_columns": null,
            "grid_auto_flow": null,
            "grid_auto_rows": null,
            "grid_column": null,
            "grid_gap": null,
            "grid_row": null,
            "grid_template_areas": null,
            "grid_template_columns": null,
            "grid_template_rows": null,
            "height": null,
            "justify_content": null,
            "justify_items": null,
            "left": null,
            "margin": null,
            "max_height": null,
            "max_width": null,
            "min_height": null,
            "min_width": null,
            "object_fit": null,
            "object_position": null,
            "order": null,
            "overflow": null,
            "overflow_x": null,
            "overflow_y": null,
            "padding": null,
            "right": null,
            "top": null,
            "visibility": null,
            "width": null
          }
        },
        "22cfa64ff549448dbf4604e06b53c7b7": {
          "model_module": "@jupyter-widgets/base",
          "model_module_version": "1.2.0",
          "model_name": "LayoutModel",
          "state": {
            "_model_module": "@jupyter-widgets/base",
            "_model_module_version": "1.2.0",
            "_model_name": "LayoutModel",
            "_view_count": null,
            "_view_module": "@jupyter-widgets/base",
            "_view_module_version": "1.2.0",
            "_view_name": "LayoutView",
            "align_content": null,
            "align_items": null,
            "align_self": null,
            "border": null,
            "bottom": null,
            "display": null,
            "flex": null,
            "flex_flow": null,
            "grid_area": null,
            "grid_auto_columns": null,
            "grid_auto_flow": null,
            "grid_auto_rows": null,
            "grid_column": null,
            "grid_gap": null,
            "grid_row": null,
            "grid_template_areas": null,
            "grid_template_columns": null,
            "grid_template_rows": null,
            "height": null,
            "justify_content": null,
            "justify_items": null,
            "left": null,
            "margin": null,
            "max_height": null,
            "max_width": null,
            "min_height": null,
            "min_width": null,
            "object_fit": null,
            "object_position": null,
            "order": null,
            "overflow": null,
            "overflow_x": null,
            "overflow_y": null,
            "padding": null,
            "right": null,
            "top": null,
            "visibility": null,
            "width": null
          }
        },
        "2608b5bc8e7c478f9ab70d8e6e336643": {
          "model_module": "@jupyter-widgets/controls",
          "model_module_version": "1.5.0",
          "model_name": "HBoxModel",
          "state": {
            "_dom_classes": [],
            "_model_module": "@jupyter-widgets/controls",
            "_model_module_version": "1.5.0",
            "_model_name": "HBoxModel",
            "_view_count": null,
            "_view_module": "@jupyter-widgets/controls",
            "_view_module_version": "1.5.0",
            "_view_name": "HBoxView",
            "box_style": "",
            "children": [
              "IPY_MODEL_4ca167efbff84f4890a58a4ede9ce060",
              "IPY_MODEL_0d32c62129c144699ad08875c69e2676",
              "IPY_MODEL_2bf265327fe64897896d56c99f785734"
            ],
            "layout": "IPY_MODEL_ba4d613bda144a1d887aee50243146da"
          }
        },
        "2bf265327fe64897896d56c99f785734": {
          "model_module": "@jupyter-widgets/controls",
          "model_module_version": "1.5.0",
          "model_name": "HTMLModel",
          "state": {
            "_dom_classes": [],
            "_model_module": "@jupyter-widgets/controls",
            "_model_module_version": "1.5.0",
            "_model_name": "HTMLModel",
            "_view_count": null,
            "_view_module": "@jupyter-widgets/controls",
            "_view_module_version": "1.5.0",
            "_view_name": "HTMLView",
            "description": "",
            "description_tooltip": null,
            "layout": "IPY_MODEL_2ca63ebe68db41f6b37ecd5304011fab",
            "placeholder": "​",
            "style": "IPY_MODEL_7e754d5cc9df46ce8b0e662689afc0df",
            "value": " 878k/878k [00:00&lt;00:00, 906kB/s]"
          }
        },
        "2ca63ebe68db41f6b37ecd5304011fab": {
          "model_module": "@jupyter-widgets/base",
          "model_module_version": "1.2.0",
          "model_name": "LayoutModel",
          "state": {
            "_model_module": "@jupyter-widgets/base",
            "_model_module_version": "1.2.0",
            "_model_name": "LayoutModel",
            "_view_count": null,
            "_view_module": "@jupyter-widgets/base",
            "_view_module_version": "1.2.0",
            "_view_name": "LayoutView",
            "align_content": null,
            "align_items": null,
            "align_self": null,
            "border": null,
            "bottom": null,
            "display": null,
            "flex": null,
            "flex_flow": null,
            "grid_area": null,
            "grid_auto_columns": null,
            "grid_auto_flow": null,
            "grid_auto_rows": null,
            "grid_column": null,
            "grid_gap": null,
            "grid_row": null,
            "grid_template_areas": null,
            "grid_template_columns": null,
            "grid_template_rows": null,
            "height": null,
            "justify_content": null,
            "justify_items": null,
            "left": null,
            "margin": null,
            "max_height": null,
            "max_width": null,
            "min_height": null,
            "min_width": null,
            "object_fit": null,
            "object_position": null,
            "order": null,
            "overflow": null,
            "overflow_x": null,
            "overflow_y": null,
            "padding": null,
            "right": null,
            "top": null,
            "visibility": null,
            "width": null
          }
        },
        "2cd5dc7bdff14e95a4774ae443eea755": {
          "model_module": "@jupyter-widgets/controls",
          "model_module_version": "1.5.0",
          "model_name": "HTMLModel",
          "state": {
            "_dom_classes": [],
            "_model_module": "@jupyter-widgets/controls",
            "_model_module_version": "1.5.0",
            "_model_name": "HTMLModel",
            "_view_count": null,
            "_view_module": "@jupyter-widgets/controls",
            "_view_module_version": "1.5.0",
            "_view_name": "HTMLView",
            "description": "",
            "description_tooltip": null,
            "layout": "IPY_MODEL_49721a4b94c2429fb08f51d233c8458a",
            "placeholder": "​",
            "style": "IPY_MODEL_b9bd457b8d10411aa6c3aff70f993862",
            "value": " 446k/446k [00:00&lt;00:00, 1.24MB/s]"
          }
        },
        "31e4b2c440b447f3a182f86921c0e28d": {
          "model_module": "@jupyter-widgets/controls",
          "model_module_version": "1.5.0",
          "model_name": "DescriptionStyleModel",
          "state": {
            "_model_module": "@jupyter-widgets/controls",
            "_model_module_version": "1.5.0",
            "_model_name": "DescriptionStyleModel",
            "_view_count": null,
            "_view_module": "@jupyter-widgets/base",
            "_view_module_version": "1.2.0",
            "_view_name": "StyleView",
            "description_width": ""
          }
        },
        "35c524abe3ac4e3b95865297974559af": {
          "model_module": "@jupyter-widgets/controls",
          "model_module_version": "1.5.0",
          "model_name": "ProgressStyleModel",
          "state": {
            "_model_module": "@jupyter-widgets/controls",
            "_model_module_version": "1.5.0",
            "_model_name": "ProgressStyleModel",
            "_view_count": null,
            "_view_module": "@jupyter-widgets/base",
            "_view_module_version": "1.2.0",
            "_view_name": "StyleView",
            "bar_color": null,
            "description_width": ""
          }
        },
        "35f5720853a74ea087378ce81cbe9057": {
          "model_module": "@jupyter-widgets/base",
          "model_module_version": "1.2.0",
          "model_name": "LayoutModel",
          "state": {
            "_model_module": "@jupyter-widgets/base",
            "_model_module_version": "1.2.0",
            "_model_name": "LayoutModel",
            "_view_count": null,
            "_view_module": "@jupyter-widgets/base",
            "_view_module_version": "1.2.0",
            "_view_name": "LayoutView",
            "align_content": null,
            "align_items": null,
            "align_self": null,
            "border": null,
            "bottom": null,
            "display": null,
            "flex": null,
            "flex_flow": null,
            "grid_area": null,
            "grid_auto_columns": null,
            "grid_auto_flow": null,
            "grid_auto_rows": null,
            "grid_column": null,
            "grid_gap": null,
            "grid_row": null,
            "grid_template_areas": null,
            "grid_template_columns": null,
            "grid_template_rows": null,
            "height": null,
            "justify_content": null,
            "justify_items": null,
            "left": null,
            "margin": null,
            "max_height": null,
            "max_width": null,
            "min_height": null,
            "min_width": null,
            "object_fit": null,
            "object_position": null,
            "order": null,
            "overflow": null,
            "overflow_x": null,
            "overflow_y": null,
            "padding": null,
            "right": null,
            "top": null,
            "visibility": null,
            "width": null
          }
        },
        "3672d6afba224c6eb1d4e6240bf2d41d": {
          "model_module": "@jupyter-widgets/controls",
          "model_module_version": "1.5.0",
          "model_name": "FloatProgressModel",
          "state": {
            "_dom_classes": [],
            "_model_module": "@jupyter-widgets/controls",
            "_model_module_version": "1.5.0",
            "_model_name": "FloatProgressModel",
            "_view_count": null,
            "_view_module": "@jupyter-widgets/controls",
            "_view_module_version": "1.5.0",
            "_view_name": "ProgressView",
            "bar_style": "success",
            "description": "",
            "description_tooltip": null,
            "layout": "IPY_MODEL_f9eef57230e542ad98f71cfda280bde4",
            "max": 480,
            "min": 0,
            "orientation": "horizontal",
            "style": "IPY_MODEL_11dc0d9d1c9a48629c083148e7986590",
            "value": 480
          }
        },
        "407c2c600a044f53bdc4c6686eea923a": {
          "model_module": "@jupyter-widgets/controls",
          "model_module_version": "1.5.0",
          "model_name": "HBoxModel",
          "state": {
            "_dom_classes": [],
            "_model_module": "@jupyter-widgets/controls",
            "_model_module_version": "1.5.0",
            "_model_name": "HBoxModel",
            "_view_count": null,
            "_view_module": "@jupyter-widgets/controls",
            "_view_module_version": "1.5.0",
            "_view_name": "HBoxView",
            "box_style": "",
            "children": [
              "IPY_MODEL_ae5470fefa7b4c309336578b960ed9da",
              "IPY_MODEL_3672d6afba224c6eb1d4e6240bf2d41d",
              "IPY_MODEL_5266c2d73d6a48b5a2ce33ed06b88212"
            ],
            "layout": "IPY_MODEL_8efdcfb40e2144a7b1d565542b378cb5"
          }
        },
        "4443a6e08feb49cca72253391007b385": {
          "model_module": "@jupyter-widgets/controls",
          "model_module_version": "1.5.0",
          "model_name": "HBoxModel",
          "state": {
            "_dom_classes": [],
            "_model_module": "@jupyter-widgets/controls",
            "_model_module_version": "1.5.0",
            "_model_name": "HBoxModel",
            "_view_count": null,
            "_view_module": "@jupyter-widgets/controls",
            "_view_module_version": "1.5.0",
            "_view_name": "HBoxView",
            "box_style": "",
            "children": [
              "IPY_MODEL_8e33baacc4054dcea0c9cbd279bb9691",
              "IPY_MODEL_f1c880b3a0714311a00b15f81fde3924",
              "IPY_MODEL_714f81de42f24286bc5c737aeebe963b"
            ],
            "layout": "IPY_MODEL_ab26bc1743be413c81890c2e9126dcd0"
          }
        },
        "49721a4b94c2429fb08f51d233c8458a": {
          "model_module": "@jupyter-widgets/base",
          "model_module_version": "1.2.0",
          "model_name": "LayoutModel",
          "state": {
            "_model_module": "@jupyter-widgets/base",
            "_model_module_version": "1.2.0",
            "_model_name": "LayoutModel",
            "_view_count": null,
            "_view_module": "@jupyter-widgets/base",
            "_view_module_version": "1.2.0",
            "_view_name": "LayoutView",
            "align_content": null,
            "align_items": null,
            "align_self": null,
            "border": null,
            "bottom": null,
            "display": null,
            "flex": null,
            "flex_flow": null,
            "grid_area": null,
            "grid_auto_columns": null,
            "grid_auto_flow": null,
            "grid_auto_rows": null,
            "grid_column": null,
            "grid_gap": null,
            "grid_row": null,
            "grid_template_areas": null,
            "grid_template_columns": null,
            "grid_template_rows": null,
            "height": null,
            "justify_content": null,
            "justify_items": null,
            "left": null,
            "margin": null,
            "max_height": null,
            "max_width": null,
            "min_height": null,
            "min_width": null,
            "object_fit": null,
            "object_position": null,
            "order": null,
            "overflow": null,
            "overflow_x": null,
            "overflow_y": null,
            "padding": null,
            "right": null,
            "top": null,
            "visibility": null,
            "width": null
          }
        },
        "4bb7582a75474568b5fc81f32d8f2854": {
          "model_module": "@jupyter-widgets/controls",
          "model_module_version": "1.5.0",
          "model_name": "ProgressStyleModel",
          "state": {
            "_model_module": "@jupyter-widgets/controls",
            "_model_module_version": "1.5.0",
            "_model_name": "ProgressStyleModel",
            "_view_count": null,
            "_view_module": "@jupyter-widgets/base",
            "_view_module_version": "1.2.0",
            "_view_name": "StyleView",
            "bar_color": null,
            "description_width": ""
          }
        },
        "4ca167efbff84f4890a58a4ede9ce060": {
          "model_module": "@jupyter-widgets/controls",
          "model_module_version": "1.5.0",
          "model_name": "HTMLModel",
          "state": {
            "_dom_classes": [],
            "_model_module": "@jupyter-widgets/controls",
            "_model_module_version": "1.5.0",
            "_model_name": "HTMLModel",
            "_view_count": null,
            "_view_module": "@jupyter-widgets/controls",
            "_view_module_version": "1.5.0",
            "_view_name": "HTMLView",
            "description": "",
            "description_tooltip": null,
            "layout": "IPY_MODEL_61d4699f4be34b2e87e5e2b74343c793",
            "placeholder": "​",
            "style": "IPY_MODEL_89fa1d0e3e0c4dfaa1edbeaa617baca2",
            "value": "Downloading: 100%"
          }
        },
        "5266c2d73d6a48b5a2ce33ed06b88212": {
          "model_module": "@jupyter-widgets/controls",
          "model_module_version": "1.5.0",
          "model_name": "HTMLModel",
          "state": {
            "_dom_classes": [],
            "_model_module": "@jupyter-widgets/controls",
            "_model_module_version": "1.5.0",
            "_model_name": "HTMLModel",
            "_view_count": null,
            "_view_module": "@jupyter-widgets/controls",
            "_view_module_version": "1.5.0",
            "_view_name": "HTMLView",
            "description": "",
            "description_tooltip": null,
            "layout": "IPY_MODEL_0286423c76f94f6b94908c9456f37c48",
            "placeholder": "​",
            "style": "IPY_MODEL_79ba2d96e4eb4693bb2bff8ac43392fb",
            "value": " 480/480 [00:00&lt;00:00, 14.9kB/s]"
          }
        },
        "61d4699f4be34b2e87e5e2b74343c793": {
          "model_module": "@jupyter-widgets/base",
          "model_module_version": "1.2.0",
          "model_name": "LayoutModel",
          "state": {
            "_model_module": "@jupyter-widgets/base",
            "_model_module_version": "1.2.0",
            "_model_name": "LayoutModel",
            "_view_count": null,
            "_view_module": "@jupyter-widgets/base",
            "_view_module_version": "1.2.0",
            "_view_name": "LayoutView",
            "align_content": null,
            "align_items": null,
            "align_self": null,
            "border": null,
            "bottom": null,
            "display": null,
            "flex": null,
            "flex_flow": null,
            "grid_area": null,
            "grid_auto_columns": null,
            "grid_auto_flow": null,
            "grid_auto_rows": null,
            "grid_column": null,
            "grid_gap": null,
            "grid_row": null,
            "grid_template_areas": null,
            "grid_template_columns": null,
            "grid_template_rows": null,
            "height": null,
            "justify_content": null,
            "justify_items": null,
            "left": null,
            "margin": null,
            "max_height": null,
            "max_width": null,
            "min_height": null,
            "min_width": null,
            "object_fit": null,
            "object_position": null,
            "order": null,
            "overflow": null,
            "overflow_x": null,
            "overflow_y": null,
            "padding": null,
            "right": null,
            "top": null,
            "visibility": null,
            "width": null
          }
        },
        "625f4c96fec44d20ae58e934ab56376a": {
          "model_module": "@jupyter-widgets/controls",
          "model_module_version": "1.5.0",
          "model_name": "DescriptionStyleModel",
          "state": {
            "_model_module": "@jupyter-widgets/controls",
            "_model_module_version": "1.5.0",
            "_model_name": "DescriptionStyleModel",
            "_view_count": null,
            "_view_module": "@jupyter-widgets/base",
            "_view_module_version": "1.2.0",
            "_view_name": "StyleView",
            "description_width": ""
          }
        },
        "714f81de42f24286bc5c737aeebe963b": {
          "model_module": "@jupyter-widgets/controls",
          "model_module_version": "1.5.0",
          "model_name": "HTMLModel",
          "state": {
            "_dom_classes": [],
            "_model_module": "@jupyter-widgets/controls",
            "_model_module_version": "1.5.0",
            "_model_name": "HTMLModel",
            "_view_count": null,
            "_view_module": "@jupyter-widgets/controls",
            "_view_module_version": "1.5.0",
            "_view_name": "HTMLView",
            "description": "",
            "description_tooltip": null,
            "layout": "IPY_MODEL_119b869525e14cc1bee72ea086c40468",
            "placeholder": "​",
            "style": "IPY_MODEL_8b6fa77633d94d368dc063d38a19401f",
            "value": " 1.29M/1.29M [00:00&lt;00:00, 2.82MB/s]"
          }
        },
        "742d0fcfc53948f8861655400e7883a3": {
          "model_module": "@jupyter-widgets/base",
          "model_module_version": "1.2.0",
          "model_name": "LayoutModel",
          "state": {
            "_model_module": "@jupyter-widgets/base",
            "_model_module_version": "1.2.0",
            "_model_name": "LayoutModel",
            "_view_count": null,
            "_view_module": "@jupyter-widgets/base",
            "_view_module_version": "1.2.0",
            "_view_name": "LayoutView",
            "align_content": null,
            "align_items": null,
            "align_self": null,
            "border": null,
            "bottom": null,
            "display": null,
            "flex": null,
            "flex_flow": null,
            "grid_area": null,
            "grid_auto_columns": null,
            "grid_auto_flow": null,
            "grid_auto_rows": null,
            "grid_column": null,
            "grid_gap": null,
            "grid_row": null,
            "grid_template_areas": null,
            "grid_template_columns": null,
            "grid_template_rows": null,
            "height": null,
            "justify_content": null,
            "justify_items": null,
            "left": null,
            "margin": null,
            "max_height": null,
            "max_width": null,
            "min_height": null,
            "min_width": null,
            "object_fit": null,
            "object_position": null,
            "order": null,
            "overflow": null,
            "overflow_x": null,
            "overflow_y": null,
            "padding": null,
            "right": null,
            "top": null,
            "visibility": null,
            "width": null
          }
        },
        "761af0e75ec54a70842c75380fdd5ca5": {
          "model_module": "@jupyter-widgets/base",
          "model_module_version": "1.2.0",
          "model_name": "LayoutModel",
          "state": {
            "_model_module": "@jupyter-widgets/base",
            "_model_module_version": "1.2.0",
            "_model_name": "LayoutModel",
            "_view_count": null,
            "_view_module": "@jupyter-widgets/base",
            "_view_module_version": "1.2.0",
            "_view_name": "LayoutView",
            "align_content": null,
            "align_items": null,
            "align_self": null,
            "border": null,
            "bottom": null,
            "display": null,
            "flex": null,
            "flex_flow": null,
            "grid_area": null,
            "grid_auto_columns": null,
            "grid_auto_flow": null,
            "grid_auto_rows": null,
            "grid_column": null,
            "grid_gap": null,
            "grid_row": null,
            "grid_template_areas": null,
            "grid_template_columns": null,
            "grid_template_rows": null,
            "height": null,
            "justify_content": null,
            "justify_items": null,
            "left": null,
            "margin": null,
            "max_height": null,
            "max_width": null,
            "min_height": null,
            "min_width": null,
            "object_fit": null,
            "object_position": null,
            "order": null,
            "overflow": null,
            "overflow_x": null,
            "overflow_y": null,
            "padding": null,
            "right": null,
            "top": null,
            "visibility": null,
            "width": null
          }
        },
        "765e3c1f316444bbb2c6bee80fae9bfe": {
          "model_module": "@jupyter-widgets/controls",
          "model_module_version": "1.5.0",
          "model_name": "ProgressStyleModel",
          "state": {
            "_model_module": "@jupyter-widgets/controls",
            "_model_module_version": "1.5.0",
            "_model_name": "ProgressStyleModel",
            "_view_count": null,
            "_view_module": "@jupyter-widgets/base",
            "_view_module_version": "1.2.0",
            "_view_name": "StyleView",
            "bar_color": null,
            "description_width": ""
          }
        },
        "77f3dee4d85b48729a3ac65f35b7eb62": {
          "model_module": "@jupyter-widgets/controls",
          "model_module_version": "1.5.0",
          "model_name": "HTMLModel",
          "state": {
            "_dom_classes": [],
            "_model_module": "@jupyter-widgets/controls",
            "_model_module_version": "1.5.0",
            "_model_name": "HTMLModel",
            "_view_count": null,
            "_view_module": "@jupyter-widgets/controls",
            "_view_module_version": "1.5.0",
            "_view_name": "HTMLView",
            "description": "",
            "description_tooltip": null,
            "layout": "IPY_MODEL_a924635305cd4613a46d3dfebf88b5ad",
            "placeholder": "​",
            "style": "IPY_MODEL_625f4c96fec44d20ae58e934ab56376a",
            "value": " 316M/316M [00:07&lt;00:00, 48.5MB/s]"
          }
        },
        "7886631d38d145cb8b736e638ef07647": {
          "model_module": "@jupyter-widgets/controls",
          "model_module_version": "1.5.0",
          "model_name": "FloatProgressModel",
          "state": {
            "_dom_classes": [],
            "_model_module": "@jupyter-widgets/controls",
            "_model_module_version": "1.5.0",
            "_model_name": "FloatProgressModel",
            "_view_count": null,
            "_view_module": "@jupyter-widgets/controls",
            "_view_module_version": "1.5.0",
            "_view_name": "ProgressView",
            "bar_style": "success",
            "description": "",
            "description_tooltip": null,
            "layout": "IPY_MODEL_97a49a3a4e354493842f9ff97bb9513b",
            "max": 331070498,
            "min": 0,
            "orientation": "horizontal",
            "style": "IPY_MODEL_4bb7582a75474568b5fc81f32d8f2854",
            "value": 331070498
          }
        },
        "79ba2d96e4eb4693bb2bff8ac43392fb": {
          "model_module": "@jupyter-widgets/controls",
          "model_module_version": "1.5.0",
          "model_name": "DescriptionStyleModel",
          "state": {
            "_model_module": "@jupyter-widgets/controls",
            "_model_module_version": "1.5.0",
            "_model_name": "DescriptionStyleModel",
            "_view_count": null,
            "_view_module": "@jupyter-widgets/base",
            "_view_module_version": "1.2.0",
            "_view_name": "StyleView",
            "description_width": ""
          }
        },
        "7e754d5cc9df46ce8b0e662689afc0df": {
          "model_module": "@jupyter-widgets/controls",
          "model_module_version": "1.5.0",
          "model_name": "DescriptionStyleModel",
          "state": {
            "_model_module": "@jupyter-widgets/controls",
            "_model_module_version": "1.5.0",
            "_model_name": "DescriptionStyleModel",
            "_view_count": null,
            "_view_module": "@jupyter-widgets/base",
            "_view_module_version": "1.2.0",
            "_view_name": "StyleView",
            "description_width": ""
          }
        },
        "89fa1d0e3e0c4dfaa1edbeaa617baca2": {
          "model_module": "@jupyter-widgets/controls",
          "model_module_version": "1.5.0",
          "model_name": "DescriptionStyleModel",
          "state": {
            "_model_module": "@jupyter-widgets/controls",
            "_model_module_version": "1.5.0",
            "_model_name": "DescriptionStyleModel",
            "_view_count": null,
            "_view_module": "@jupyter-widgets/base",
            "_view_module_version": "1.2.0",
            "_view_name": "StyleView",
            "description_width": ""
          }
        },
        "8b6fa77633d94d368dc063d38a19401f": {
          "model_module": "@jupyter-widgets/controls",
          "model_module_version": "1.5.0",
          "model_name": "DescriptionStyleModel",
          "state": {
            "_model_module": "@jupyter-widgets/controls",
            "_model_module_version": "1.5.0",
            "_model_name": "DescriptionStyleModel",
            "_view_count": null,
            "_view_module": "@jupyter-widgets/base",
            "_view_module_version": "1.2.0",
            "_view_name": "StyleView",
            "description_width": ""
          }
        },
        "8e33baacc4054dcea0c9cbd279bb9691": {
          "model_module": "@jupyter-widgets/controls",
          "model_module_version": "1.5.0",
          "model_name": "HTMLModel",
          "state": {
            "_dom_classes": [],
            "_model_module": "@jupyter-widgets/controls",
            "_model_module_version": "1.5.0",
            "_model_name": "HTMLModel",
            "_view_count": null,
            "_view_module": "@jupyter-widgets/controls",
            "_view_module_version": "1.5.0",
            "_view_name": "HTMLView",
            "description": "",
            "description_tooltip": null,
            "layout": "IPY_MODEL_761af0e75ec54a70842c75380fdd5ca5",
            "placeholder": "​",
            "style": "IPY_MODEL_dec74ac1e48f4adb952aac12835bec90",
            "value": "Downloading: 100%"
          }
        },
        "8efdcfb40e2144a7b1d565542b378cb5": {
          "model_module": "@jupyter-widgets/base",
          "model_module_version": "1.2.0",
          "model_name": "LayoutModel",
          "state": {
            "_model_module": "@jupyter-widgets/base",
            "_model_module_version": "1.2.0",
            "_model_name": "LayoutModel",
            "_view_count": null,
            "_view_module": "@jupyter-widgets/base",
            "_view_module_version": "1.2.0",
            "_view_name": "LayoutView",
            "align_content": null,
            "align_items": null,
            "align_self": null,
            "border": null,
            "bottom": null,
            "display": null,
            "flex": null,
            "flex_flow": null,
            "grid_area": null,
            "grid_auto_columns": null,
            "grid_auto_flow": null,
            "grid_auto_rows": null,
            "grid_column": null,
            "grid_gap": null,
            "grid_row": null,
            "grid_template_areas": null,
            "grid_template_columns": null,
            "grid_template_rows": null,
            "height": null,
            "justify_content": null,
            "justify_items": null,
            "left": null,
            "margin": null,
            "max_height": null,
            "max_width": null,
            "min_height": null,
            "min_width": null,
            "object_fit": null,
            "object_position": null,
            "order": null,
            "overflow": null,
            "overflow_x": null,
            "overflow_y": null,
            "padding": null,
            "right": null,
            "top": null,
            "visibility": null,
            "width": null
          }
        },
        "90fc0bc2ced64e079a721d13d2a00707": {
          "model_module": "@jupyter-widgets/base",
          "model_module_version": "1.2.0",
          "model_name": "LayoutModel",
          "state": {
            "_model_module": "@jupyter-widgets/base",
            "_model_module_version": "1.2.0",
            "_model_name": "LayoutModel",
            "_view_count": null,
            "_view_module": "@jupyter-widgets/base",
            "_view_module_version": "1.2.0",
            "_view_name": "LayoutView",
            "align_content": null,
            "align_items": null,
            "align_self": null,
            "border": null,
            "bottom": null,
            "display": null,
            "flex": null,
            "flex_flow": null,
            "grid_area": null,
            "grid_auto_columns": null,
            "grid_auto_flow": null,
            "grid_auto_rows": null,
            "grid_column": null,
            "grid_gap": null,
            "grid_row": null,
            "grid_template_areas": null,
            "grid_template_columns": null,
            "grid_template_rows": null,
            "height": null,
            "justify_content": null,
            "justify_items": null,
            "left": null,
            "margin": null,
            "max_height": null,
            "max_width": null,
            "min_height": null,
            "min_width": null,
            "object_fit": null,
            "object_position": null,
            "order": null,
            "overflow": null,
            "overflow_x": null,
            "overflow_y": null,
            "padding": null,
            "right": null,
            "top": null,
            "visibility": null,
            "width": null
          }
        },
        "9334b6005d984a3f8ebb8b2d217d437b": {
          "model_module": "@jupyter-widgets/controls",
          "model_module_version": "1.5.0",
          "model_name": "DescriptionStyleModel",
          "state": {
            "_model_module": "@jupyter-widgets/controls",
            "_model_module_version": "1.5.0",
            "_model_name": "DescriptionStyleModel",
            "_view_count": null,
            "_view_module": "@jupyter-widgets/base",
            "_view_module_version": "1.2.0",
            "_view_name": "StyleView",
            "description_width": ""
          }
        },
        "97a49a3a4e354493842f9ff97bb9513b": {
          "model_module": "@jupyter-widgets/base",
          "model_module_version": "1.2.0",
          "model_name": "LayoutModel",
          "state": {
            "_model_module": "@jupyter-widgets/base",
            "_model_module_version": "1.2.0",
            "_model_name": "LayoutModel",
            "_view_count": null,
            "_view_module": "@jupyter-widgets/base",
            "_view_module_version": "1.2.0",
            "_view_name": "LayoutView",
            "align_content": null,
            "align_items": null,
            "align_self": null,
            "border": null,
            "bottom": null,
            "display": null,
            "flex": null,
            "flex_flow": null,
            "grid_area": null,
            "grid_auto_columns": null,
            "grid_auto_flow": null,
            "grid_auto_rows": null,
            "grid_column": null,
            "grid_gap": null,
            "grid_row": null,
            "grid_template_areas": null,
            "grid_template_columns": null,
            "grid_template_rows": null,
            "height": null,
            "justify_content": null,
            "justify_items": null,
            "left": null,
            "margin": null,
            "max_height": null,
            "max_width": null,
            "min_height": null,
            "min_width": null,
            "object_fit": null,
            "object_position": null,
            "order": null,
            "overflow": null,
            "overflow_x": null,
            "overflow_y": null,
            "padding": null,
            "right": null,
            "top": null,
            "visibility": null,
            "width": null
          }
        },
        "9d379bc5370841c1a4717b1cc598a437": {
          "model_module": "@jupyter-widgets/controls",
          "model_module_version": "1.5.0",
          "model_name": "HBoxModel",
          "state": {
            "_dom_classes": [],
            "_model_module": "@jupyter-widgets/controls",
            "_model_module_version": "1.5.0",
            "_model_name": "HBoxModel",
            "_view_count": null,
            "_view_module": "@jupyter-widgets/controls",
            "_view_module_version": "1.5.0",
            "_view_name": "HBoxView",
            "box_style": "",
            "children": [
              "IPY_MODEL_d0e7a146bdd4472782841409901c8af8",
              "IPY_MODEL_1e5e9496e6004710896449d5922f91aa",
              "IPY_MODEL_2cd5dc7bdff14e95a4774ae443eea755"
            ],
            "layout": "IPY_MODEL_c3f9840c00754132942379d56da70890"
          }
        },
        "9ee979804a3c44cc8e5e7760faa820cc": {
          "model_module": "@jupyter-widgets/controls",
          "model_module_version": "1.5.0",
          "model_name": "HTMLModel",
          "state": {
            "_dom_classes": [],
            "_model_module": "@jupyter-widgets/controls",
            "_model_module_version": "1.5.0",
            "_model_name": "HTMLModel",
            "_view_count": null,
            "_view_module": "@jupyter-widgets/controls",
            "_view_module_version": "1.5.0",
            "_view_name": "HTMLView",
            "description": "",
            "description_tooltip": null,
            "layout": "IPY_MODEL_b3df1237575e4fdcabccbba9b388cc1f",
            "placeholder": "​",
            "style": "IPY_MODEL_31e4b2c440b447f3a182f86921c0e28d",
            "value": "Downloading: 100%"
          }
        },
        "a924635305cd4613a46d3dfebf88b5ad": {
          "model_module": "@jupyter-widgets/base",
          "model_module_version": "1.2.0",
          "model_name": "LayoutModel",
          "state": {
            "_model_module": "@jupyter-widgets/base",
            "_model_module_version": "1.2.0",
            "_model_name": "LayoutModel",
            "_view_count": null,
            "_view_module": "@jupyter-widgets/base",
            "_view_module_version": "1.2.0",
            "_view_name": "LayoutView",
            "align_content": null,
            "align_items": null,
            "align_self": null,
            "border": null,
            "bottom": null,
            "display": null,
            "flex": null,
            "flex_flow": null,
            "grid_area": null,
            "grid_auto_columns": null,
            "grid_auto_flow": null,
            "grid_auto_rows": null,
            "grid_column": null,
            "grid_gap": null,
            "grid_row": null,
            "grid_template_areas": null,
            "grid_template_columns": null,
            "grid_template_rows": null,
            "height": null,
            "justify_content": null,
            "justify_items": null,
            "left": null,
            "margin": null,
            "max_height": null,
            "max_width": null,
            "min_height": null,
            "min_width": null,
            "object_fit": null,
            "object_position": null,
            "order": null,
            "overflow": null,
            "overflow_x": null,
            "overflow_y": null,
            "padding": null,
            "right": null,
            "top": null,
            "visibility": null,
            "width": null
          }
        },
        "ab26bc1743be413c81890c2e9126dcd0": {
          "model_module": "@jupyter-widgets/base",
          "model_module_version": "1.2.0",
          "model_name": "LayoutModel",
          "state": {
            "_model_module": "@jupyter-widgets/base",
            "_model_module_version": "1.2.0",
            "_model_name": "LayoutModel",
            "_view_count": null,
            "_view_module": "@jupyter-widgets/base",
            "_view_module_version": "1.2.0",
            "_view_name": "LayoutView",
            "align_content": null,
            "align_items": null,
            "align_self": null,
            "border": null,
            "bottom": null,
            "display": null,
            "flex": null,
            "flex_flow": null,
            "grid_area": null,
            "grid_auto_columns": null,
            "grid_auto_flow": null,
            "grid_auto_rows": null,
            "grid_column": null,
            "grid_gap": null,
            "grid_row": null,
            "grid_template_areas": null,
            "grid_template_columns": null,
            "grid_template_rows": null,
            "height": null,
            "justify_content": null,
            "justify_items": null,
            "left": null,
            "margin": null,
            "max_height": null,
            "max_width": null,
            "min_height": null,
            "min_width": null,
            "object_fit": null,
            "object_position": null,
            "order": null,
            "overflow": null,
            "overflow_x": null,
            "overflow_y": null,
            "padding": null,
            "right": null,
            "top": null,
            "visibility": null,
            "width": null
          }
        },
        "ae5470fefa7b4c309336578b960ed9da": {
          "model_module": "@jupyter-widgets/controls",
          "model_module_version": "1.5.0",
          "model_name": "HTMLModel",
          "state": {
            "_dom_classes": [],
            "_model_module": "@jupyter-widgets/controls",
            "_model_module_version": "1.5.0",
            "_model_name": "HTMLModel",
            "_view_count": null,
            "_view_module": "@jupyter-widgets/controls",
            "_view_module_version": "1.5.0",
            "_view_name": "HTMLView",
            "description": "",
            "description_tooltip": null,
            "layout": "IPY_MODEL_742d0fcfc53948f8861655400e7883a3",
            "placeholder": "​",
            "style": "IPY_MODEL_9334b6005d984a3f8ebb8b2d217d437b",
            "value": "Downloading: 100%"
          }
        },
        "b3df1237575e4fdcabccbba9b388cc1f": {
          "model_module": "@jupyter-widgets/base",
          "model_module_version": "1.2.0",
          "model_name": "LayoutModel",
          "state": {
            "_model_module": "@jupyter-widgets/base",
            "_model_module_version": "1.2.0",
            "_model_name": "LayoutModel",
            "_view_count": null,
            "_view_module": "@jupyter-widgets/base",
            "_view_module_version": "1.2.0",
            "_view_name": "LayoutView",
            "align_content": null,
            "align_items": null,
            "align_self": null,
            "border": null,
            "bottom": null,
            "display": null,
            "flex": null,
            "flex_flow": null,
            "grid_area": null,
            "grid_auto_columns": null,
            "grid_auto_flow": null,
            "grid_auto_rows": null,
            "grid_column": null,
            "grid_gap": null,
            "grid_row": null,
            "grid_template_areas": null,
            "grid_template_columns": null,
            "grid_template_rows": null,
            "height": null,
            "justify_content": null,
            "justify_items": null,
            "left": null,
            "margin": null,
            "max_height": null,
            "max_width": null,
            "min_height": null,
            "min_width": null,
            "object_fit": null,
            "object_position": null,
            "order": null,
            "overflow": null,
            "overflow_x": null,
            "overflow_y": null,
            "padding": null,
            "right": null,
            "top": null,
            "visibility": null,
            "width": null
          }
        },
        "b9bd457b8d10411aa6c3aff70f993862": {
          "model_module": "@jupyter-widgets/controls",
          "model_module_version": "1.5.0",
          "model_name": "DescriptionStyleModel",
          "state": {
            "_model_module": "@jupyter-widgets/controls",
            "_model_module_version": "1.5.0",
            "_model_name": "DescriptionStyleModel",
            "_view_count": null,
            "_view_module": "@jupyter-widgets/base",
            "_view_module_version": "1.2.0",
            "_view_name": "StyleView",
            "description_width": ""
          }
        },
        "ba4d613bda144a1d887aee50243146da": {
          "model_module": "@jupyter-widgets/base",
          "model_module_version": "1.2.0",
          "model_name": "LayoutModel",
          "state": {
            "_model_module": "@jupyter-widgets/base",
            "_model_module_version": "1.2.0",
            "_model_name": "LayoutModel",
            "_view_count": null,
            "_view_module": "@jupyter-widgets/base",
            "_view_module_version": "1.2.0",
            "_view_name": "LayoutView",
            "align_content": null,
            "align_items": null,
            "align_self": null,
            "border": null,
            "bottom": null,
            "display": null,
            "flex": null,
            "flex_flow": null,
            "grid_area": null,
            "grid_auto_columns": null,
            "grid_auto_flow": null,
            "grid_auto_rows": null,
            "grid_column": null,
            "grid_gap": null,
            "grid_row": null,
            "grid_template_areas": null,
            "grid_template_columns": null,
            "grid_template_rows": null,
            "height": null,
            "justify_content": null,
            "justify_items": null,
            "left": null,
            "margin": null,
            "max_height": null,
            "max_width": null,
            "min_height": null,
            "min_width": null,
            "object_fit": null,
            "object_position": null,
            "order": null,
            "overflow": null,
            "overflow_x": null,
            "overflow_y": null,
            "padding": null,
            "right": null,
            "top": null,
            "visibility": null,
            "width": null
          }
        },
        "c3f9840c00754132942379d56da70890": {
          "model_module": "@jupyter-widgets/base",
          "model_module_version": "1.2.0",
          "model_name": "LayoutModel",
          "state": {
            "_model_module": "@jupyter-widgets/base",
            "_model_module_version": "1.2.0",
            "_model_name": "LayoutModel",
            "_view_count": null,
            "_view_module": "@jupyter-widgets/base",
            "_view_module_version": "1.2.0",
            "_view_name": "LayoutView",
            "align_content": null,
            "align_items": null,
            "align_self": null,
            "border": null,
            "bottom": null,
            "display": null,
            "flex": null,
            "flex_flow": null,
            "grid_area": null,
            "grid_auto_columns": null,
            "grid_auto_flow": null,
            "grid_auto_rows": null,
            "grid_column": null,
            "grid_gap": null,
            "grid_row": null,
            "grid_template_areas": null,
            "grid_template_columns": null,
            "grid_template_rows": null,
            "height": null,
            "justify_content": null,
            "justify_items": null,
            "left": null,
            "margin": null,
            "max_height": null,
            "max_width": null,
            "min_height": null,
            "min_width": null,
            "object_fit": null,
            "object_position": null,
            "order": null,
            "overflow": null,
            "overflow_x": null,
            "overflow_y": null,
            "padding": null,
            "right": null,
            "top": null,
            "visibility": null,
            "width": null
          }
        },
        "d0e7a146bdd4472782841409901c8af8": {
          "model_module": "@jupyter-widgets/controls",
          "model_module_version": "1.5.0",
          "model_name": "HTMLModel",
          "state": {
            "_dom_classes": [],
            "_model_module": "@jupyter-widgets/controls",
            "_model_module_version": "1.5.0",
            "_model_name": "HTMLModel",
            "_view_count": null,
            "_view_module": "@jupyter-widgets/controls",
            "_view_module_version": "1.5.0",
            "_view_name": "HTMLView",
            "description": "",
            "description_tooltip": null,
            "layout": "IPY_MODEL_20cb2607cd5d45b7a59159bcafcf435f",
            "placeholder": "​",
            "style": "IPY_MODEL_fa19aa01b9ff4427a6a3603d2989d74c",
            "value": "Downloading: 100%"
          }
        },
        "dbd0a9a45a5149bfad283f19aafada26": {
          "model_module": "@jupyter-widgets/controls",
          "model_module_version": "1.5.0",
          "model_name": "HBoxModel",
          "state": {
            "_dom_classes": [],
            "_model_module": "@jupyter-widgets/controls",
            "_model_module_version": "1.5.0",
            "_model_name": "HBoxModel",
            "_view_count": null,
            "_view_module": "@jupyter-widgets/controls",
            "_view_module_version": "1.5.0",
            "_view_name": "HBoxView",
            "box_style": "",
            "children": [
              "IPY_MODEL_9ee979804a3c44cc8e5e7760faa820cc",
              "IPY_MODEL_7886631d38d145cb8b736e638ef07647",
              "IPY_MODEL_77f3dee4d85b48729a3ac65f35b7eb62"
            ],
            "layout": "IPY_MODEL_90fc0bc2ced64e079a721d13d2a00707"
          }
        },
        "dec74ac1e48f4adb952aac12835bec90": {
          "model_module": "@jupyter-widgets/controls",
          "model_module_version": "1.5.0",
          "model_name": "DescriptionStyleModel",
          "state": {
            "_model_module": "@jupyter-widgets/controls",
            "_model_module_version": "1.5.0",
            "_model_name": "DescriptionStyleModel",
            "_view_count": null,
            "_view_module": "@jupyter-widgets/base",
            "_view_module_version": "1.2.0",
            "_view_name": "StyleView",
            "description_width": ""
          }
        },
        "f1c880b3a0714311a00b15f81fde3924": {
          "model_module": "@jupyter-widgets/controls",
          "model_module_version": "1.5.0",
          "model_name": "FloatProgressModel",
          "state": {
            "_dom_classes": [],
            "_model_module": "@jupyter-widgets/controls",
            "_model_module_version": "1.5.0",
            "_model_name": "FloatProgressModel",
            "_view_count": null,
            "_view_module": "@jupyter-widgets/controls",
            "_view_module_version": "1.5.0",
            "_view_name": "ProgressView",
            "bar_style": "success",
            "description": "",
            "description_tooltip": null,
            "layout": "IPY_MODEL_f5c297c58cdc4de4a9fcddba8c61f233",
            "max": 1355863,
            "min": 0,
            "orientation": "horizontal",
            "style": "IPY_MODEL_35c524abe3ac4e3b95865297974559af",
            "value": 1355863
          }
        },
        "f5c297c58cdc4de4a9fcddba8c61f233": {
          "model_module": "@jupyter-widgets/base",
          "model_module_version": "1.2.0",
          "model_name": "LayoutModel",
          "state": {
            "_model_module": "@jupyter-widgets/base",
            "_model_module_version": "1.2.0",
            "_model_name": "LayoutModel",
            "_view_count": null,
            "_view_module": "@jupyter-widgets/base",
            "_view_module_version": "1.2.0",
            "_view_name": "LayoutView",
            "align_content": null,
            "align_items": null,
            "align_self": null,
            "border": null,
            "bottom": null,
            "display": null,
            "flex": null,
            "flex_flow": null,
            "grid_area": null,
            "grid_auto_columns": null,
            "grid_auto_flow": null,
            "grid_auto_rows": null,
            "grid_column": null,
            "grid_gap": null,
            "grid_row": null,
            "grid_template_areas": null,
            "grid_template_columns": null,
            "grid_template_rows": null,
            "height": null,
            "justify_content": null,
            "justify_items": null,
            "left": null,
            "margin": null,
            "max_height": null,
            "max_width": null,
            "min_height": null,
            "min_width": null,
            "object_fit": null,
            "object_position": null,
            "order": null,
            "overflow": null,
            "overflow_x": null,
            "overflow_y": null,
            "padding": null,
            "right": null,
            "top": null,
            "visibility": null,
            "width": null
          }
        },
        "f9eef57230e542ad98f71cfda280bde4": {
          "model_module": "@jupyter-widgets/base",
          "model_module_version": "1.2.0",
          "model_name": "LayoutModel",
          "state": {
            "_model_module": "@jupyter-widgets/base",
            "_model_module_version": "1.2.0",
            "_model_name": "LayoutModel",
            "_view_count": null,
            "_view_module": "@jupyter-widgets/base",
            "_view_module_version": "1.2.0",
            "_view_name": "LayoutView",
            "align_content": null,
            "align_items": null,
            "align_self": null,
            "border": null,
            "bottom": null,
            "display": null,
            "flex": null,
            "flex_flow": null,
            "grid_area": null,
            "grid_auto_columns": null,
            "grid_auto_flow": null,
            "grid_auto_rows": null,
            "grid_column": null,
            "grid_gap": null,
            "grid_row": null,
            "grid_template_areas": null,
            "grid_template_columns": null,
            "grid_template_rows": null,
            "height": null,
            "justify_content": null,
            "justify_items": null,
            "left": null,
            "margin": null,
            "max_height": null,
            "max_width": null,
            "min_height": null,
            "min_width": null,
            "object_fit": null,
            "object_position": null,
            "order": null,
            "overflow": null,
            "overflow_x": null,
            "overflow_y": null,
            "padding": null,
            "right": null,
            "top": null,
            "visibility": null,
            "width": null
          }
        },
        "fa19aa01b9ff4427a6a3603d2989d74c": {
          "model_module": "@jupyter-widgets/controls",
          "model_module_version": "1.5.0",
          "model_name": "DescriptionStyleModel",
          "state": {
            "_model_module": "@jupyter-widgets/controls",
            "_model_module_version": "1.5.0",
            "_model_name": "DescriptionStyleModel",
            "_view_count": null,
            "_view_module": "@jupyter-widgets/base",
            "_view_module_version": "1.2.0",
            "_view_name": "StyleView",
            "description_width": ""
          }
        }
      }
    }
  },
  "nbformat": 4,
  "nbformat_minor": 0
}