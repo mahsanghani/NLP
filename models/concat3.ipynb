{
 "cells": [
  {
   "cell_type": "code",
   "execution_count": 1,
   "id": "7b0611fd-61c2-43ff-a131-7662d8abbcb2",
   "metadata": {},
   "outputs": [],
   "source": [
    "import imageio\n",
    "import itertools\n",
    "from PIL import Image\n",
    "import glob, os, shutil"
   ]
  },
  {
   "cell_type": "code",
   "execution_count": 2,
   "id": "fd4d1831-647d-47a4-9caa-c32600756905",
   "metadata": {},
   "outputs": [
    {
     "name": "stderr",
     "output_type": "stream",
     "text": [
      "/var/folders/n2/vqk_2j3x6tsds2vmz6_smh980000gn/T/ipykernel_18486/3429716549.py:2: DeprecationWarning: Starting with ImageIO v3 the behavior of this function will switch to that of iio.v3.imread. To keep the current behavior (and make this warning dissapear) use `import imageio.v2 as imageio` or call `imageio.v2.imread` directly.\n",
      "  img = imageio.imread(\"face.png\")\n"
     ]
    }
   ],
   "source": [
    "# Read the image\n",
    "img = imageio.imread(\"face.png\")\n",
    "height, width, _ = img.shape\n",
    "\n",
    "# Cut the image in half\n",
    "dim = width // 5\n",
    "s1 = img[:, :dim]\n",
    "s2 = img[:, dim:2*dim]\n",
    "s3 = img[:, 2*dim:3*dim]\n",
    "s4 = img[:, 3*dim:4*dim]\n",
    "s5 = img[:, 4*dim:]\n",
    "\n",
    "# Save each half\n",
    "imageio.imsave(\"face1.png\", s1)\n",
    "imageio.imsave(\"face2.png\", s2)\n",
    "imageio.imsave(\"face3.png\", s3)\n",
    "imageio.imsave(\"face4.png\", s4)\n",
    "imageio.imsave(\"face5.png\", s5)"
   ]
  },
  {
   "cell_type": "code",
   "execution_count": 3,
   "id": "3e645ce4-3cb3-4469-a8ef-fac3acecda66",
   "metadata": {},
   "outputs": [
    {
     "name": "stderr",
     "output_type": "stream",
     "text": [
      "/var/folders/n2/vqk_2j3x6tsds2vmz6_smh980000gn/T/ipykernel_18486/1353840987.py:4: DeprecationWarning: Starting with ImageIO v3 the behavior of this function will switch to that of iio.v3.imread. To keep the current behavior (and make this warning dissapear) use `import imageio.v2 as imageio` or call `imageio.v2.imread` directly.\n",
      "  img = imageio.imread(fname)\n"
     ]
    }
   ],
   "source": [
    "fnames = sorted(glob.glob('OnlineKhatt/Images/*.jpg'))\n",
    "for i, fname in enumerate(fnames):\n",
    "    os.mkdir('splits/'+fname.split('.')[0].split('/')[-1])\n",
    "    img = imageio.imread(fname)\n",
    "    height, width, _ = img.shape\n",
    "    dim = width // 5\n",
    "    s1 = img[:, :dim]\n",
    "    s2 = img[:, dim:2*dim]\n",
    "    s3 = img[:, 2*dim:3*dim]\n",
    "    s4 = img[:, 3*dim:4*dim]\n",
    "    s5 = img[:, 4*dim:]\n",
    "    imageio.imsave('splits/'+fname.split('.')[0].split('/')[-1]+'/'+fname.split('.')[0].split('/')[-1]+'1.png', s1)\n",
    "    imageio.imsave('splits/'+fname.split('.')[0].split('/')[-1]+'/'+fname.split('.')[0].split('/')[-1]+'2.png', s2)\n",
    "    imageio.imsave('splits/'+fname.split('.')[0].split('/')[-1]+'/'+fname.split('.')[0].split('/')[-1]+'3.png', s3)\n",
    "    imageio.imsave('splits/'+fname.split('.')[0].split('/')[-1]+'/'+fname.split('.')[0].split('/')[-1]+'4.png', s4)\n",
    "    imageio.imsave('splits/'+fname.split('.')[0].split('/')[-1]+'/'+fname.split('.')[0].split('/')[-1]+'5.png', s5)\n"
   ]
  },
  {
   "cell_type": "code",
   "execution_count": null,
   "id": "9e23a3cf-b0dc-4888-bce0-faf10634e937",
   "metadata": {},
   "outputs": [],
   "source": []
  }
 ],
 "metadata": {
  "kernelspec": {
   "display_name": "Python 3 (ipykernel)",
   "language": "python",
   "name": "python3"
  },
  "language_info": {
   "codemirror_mode": {
    "name": "ipython",
    "version": 3
   },
   "file_extension": ".py",
   "mimetype": "text/x-python",
   "name": "python",
   "nbconvert_exporter": "python",
   "pygments_lexer": "ipython3",
   "version": "3.9.9"
  }
 },
 "nbformat": 4,
 "nbformat_minor": 5
}
