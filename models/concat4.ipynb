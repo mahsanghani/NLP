{
 "cells": [
  {
   "cell_type": "code",
   "execution_count": 1,
   "id": "8051913f-3863-4a09-9d24-341961ec2b52",
   "metadata": {
    "id": "8051913f-3863-4a09-9d24-341961ec2b52",
    "pycharm": {
     "name": "#%%\n"
    }
   },
   "outputs": [],
   "source": [
    "import pandas as pd\n",
    "import numpy as np\n",
    "from sklearn.model_selection import train_test_split"
   ]
  },
  {
   "cell_type": "code",
   "execution_count": 2,
   "id": "2a415164-b1a4-42fa-a4c9-a89f42830b85",
   "metadata": {
    "tags": [],
    "colab": {
     "base_uri": "https://localhost:8080/",
     "height": 424
    },
    "id": "2a415164-b1a4-42fa-a4c9-a89f42830b85",
    "outputId": "ee470e86-bb37-48ef-a04a-b3c875b965bf",
    "pycharm": {
     "name": "#%%\n"
    }
   },
   "outputs": [
    {
     "output_type": "execute_result",
     "data": {
      "text/plain": [
       "                       file_name  \\\n",
       "0      OnlineKHATT_A0001_1_1.jpg   \n",
       "1     OnlineKHATT_A0001_1_10.jpg   \n",
       "2     OnlineKHATT_A0001_1_11.jpg   \n",
       "3     OnlineKHATT_A0001_1_12.jpg   \n",
       "4     OnlineKHATT_A0001_1_13.jpg   \n",
       "...                          ...   \n",
       "8493   OnlineKHATT_A1193_2_6.jpg   \n",
       "8494   OnlineKHATT_A1193_3_1.jpg   \n",
       "8495   OnlineKHATT_A1193_3_2.jpg   \n",
       "8496   OnlineKHATT_A1194_2_6.jpg   \n",
       "8497   OnlineKHATT_A1194_3_2.jpg   \n",
       "\n",
       "                                                   text  \n",
       "0     أطلقت الشركة السعودية لمعدات الديزل المحدودة ب...  \n",
       "1           الديزل حرصت على استقدام عدة طرازات جديدة من  \n",
       "2     حافلات هايجر الصينية التى تتميز بتعدد استخداما...  \n",
       "3     لوسائل الراحة لمستخدميها ومن جانبه، أوضح مازن ...  \n",
       "4     مدير قسم الشاحنات بالشركة السعودية لمعدات الدي...  \n",
       "...                                                 ...  \n",
       "8493                                  خ ض، ب س ش، ص غ ه  \n",
       "8494  أننا في الحج. هل تعلم فائدة الكلمات التالية له...  \n",
       "8495                      مشمس، دراق، غيظ، ناء ،بث ،نسر  \n",
       "8496                                 خ ض، ب س ،ش، ص غ ه  \n",
       "8497                      مشمس، دراق، غيط، ناء ،بث ،نسر  \n",
       "\n",
       "[8498 rows x 2 columns]"
      ],
      "text/html": [
       "\n",
       "  <div id=\"df-6be81965-02d6-47a8-98c4-c0641c695e3a\">\n",
       "    <div class=\"colab-df-container\">\n",
       "      <div>\n",
       "<style scoped>\n",
       "    .dataframe tbody tr th:only-of-type {\n",
       "        vertical-align: middle;\n",
       "    }\n",
       "\n",
       "    .dataframe tbody tr th {\n",
       "        vertical-align: top;\n",
       "    }\n",
       "\n",
       "    .dataframe thead th {\n",
       "        text-align: right;\n",
       "    }\n",
       "</style>\n",
       "<table border=\"1\" class=\"dataframe\">\n",
       "  <thead>\n",
       "    <tr style=\"text-align: right;\">\n",
       "      <th></th>\n",
       "      <th>file_name</th>\n",
       "      <th>text</th>\n",
       "    </tr>\n",
       "  </thead>\n",
       "  <tbody>\n",
       "    <tr>\n",
       "      <th>0</th>\n",
       "      <td>OnlineKHATT_A0001_1_1.jpg</td>\n",
       "      <td>أطلقت الشركة السعودية لمعدات الديزل المحدودة ب...</td>\n",
       "    </tr>\n",
       "    <tr>\n",
       "      <th>1</th>\n",
       "      <td>OnlineKHATT_A0001_1_10.jpg</td>\n",
       "      <td>الديزل حرصت على استقدام عدة طرازات جديدة من</td>\n",
       "    </tr>\n",
       "    <tr>\n",
       "      <th>2</th>\n",
       "      <td>OnlineKHATT_A0001_1_11.jpg</td>\n",
       "      <td>حافلات هايجر الصينية التى تتميز بتعدد استخداما...</td>\n",
       "    </tr>\n",
       "    <tr>\n",
       "      <th>3</th>\n",
       "      <td>OnlineKHATT_A0001_1_12.jpg</td>\n",
       "      <td>لوسائل الراحة لمستخدميها ومن جانبه، أوضح مازن ...</td>\n",
       "    </tr>\n",
       "    <tr>\n",
       "      <th>4</th>\n",
       "      <td>OnlineKHATT_A0001_1_13.jpg</td>\n",
       "      <td>مدير قسم الشاحنات بالشركة السعودية لمعدات الدي...</td>\n",
       "    </tr>\n",
       "    <tr>\n",
       "      <th>...</th>\n",
       "      <td>...</td>\n",
       "      <td>...</td>\n",
       "    </tr>\n",
       "    <tr>\n",
       "      <th>8493</th>\n",
       "      <td>OnlineKHATT_A1193_2_6.jpg</td>\n",
       "      <td>خ ض، ب س ش، ص غ ه</td>\n",
       "    </tr>\n",
       "    <tr>\n",
       "      <th>8494</th>\n",
       "      <td>OnlineKHATT_A1193_3_1.jpg</td>\n",
       "      <td>أننا في الحج. هل تعلم فائدة الكلمات التالية له...</td>\n",
       "    </tr>\n",
       "    <tr>\n",
       "      <th>8495</th>\n",
       "      <td>OnlineKHATT_A1193_3_2.jpg</td>\n",
       "      <td>مشمس، دراق، غيظ، ناء ،بث ،نسر</td>\n",
       "    </tr>\n",
       "    <tr>\n",
       "      <th>8496</th>\n",
       "      <td>OnlineKHATT_A1194_2_6.jpg</td>\n",
       "      <td>خ ض، ب س ،ش، ص غ ه</td>\n",
       "    </tr>\n",
       "    <tr>\n",
       "      <th>8497</th>\n",
       "      <td>OnlineKHATT_A1194_3_2.jpg</td>\n",
       "      <td>مشمس، دراق، غيط، ناء ،بث ،نسر</td>\n",
       "    </tr>\n",
       "  </tbody>\n",
       "</table>\n",
       "<p>8498 rows × 2 columns</p>\n",
       "</div>\n",
       "      <button class=\"colab-df-convert\" onclick=\"convertToInteractive('df-6be81965-02d6-47a8-98c4-c0641c695e3a')\"\n",
       "              title=\"Convert this dataframe to an interactive table.\"\n",
       "              style=\"display:none;\">\n",
       "        \n",
       "  <svg xmlns=\"http://www.w3.org/2000/svg\" height=\"24px\"viewBox=\"0 0 24 24\"\n",
       "       width=\"24px\">\n",
       "    <path d=\"M0 0h24v24H0V0z\" fill=\"none\"/>\n",
       "    <path d=\"M18.56 5.44l.94 2.06.94-2.06 2.06-.94-2.06-.94-.94-2.06-.94 2.06-2.06.94zm-11 1L8.5 8.5l.94-2.06 2.06-.94-2.06-.94L8.5 2.5l-.94 2.06-2.06.94zm10 10l.94 2.06.94-2.06 2.06-.94-2.06-.94-.94-2.06-.94 2.06-2.06.94z\"/><path d=\"M17.41 7.96l-1.37-1.37c-.4-.4-.92-.59-1.43-.59-.52 0-1.04.2-1.43.59L10.3 9.45l-7.72 7.72c-.78.78-.78 2.05 0 2.83L4 21.41c.39.39.9.59 1.41.59.51 0 1.02-.2 1.41-.59l7.78-7.78 2.81-2.81c.8-.78.8-2.07 0-2.86zM5.41 20L4 18.59l7.72-7.72 1.47 1.35L5.41 20z\"/>\n",
       "  </svg>\n",
       "      </button>\n",
       "      \n",
       "  <style>\n",
       "    .colab-df-container {\n",
       "      display:flex;\n",
       "      flex-wrap:wrap;\n",
       "      gap: 12px;\n",
       "    }\n",
       "\n",
       "    .colab-df-convert {\n",
       "      background-color: #E8F0FE;\n",
       "      border: none;\n",
       "      border-radius: 50%;\n",
       "      cursor: pointer;\n",
       "      display: none;\n",
       "      fill: #1967D2;\n",
       "      height: 32px;\n",
       "      padding: 0 0 0 0;\n",
       "      width: 32px;\n",
       "    }\n",
       "\n",
       "    .colab-df-convert:hover {\n",
       "      background-color: #E2EBFA;\n",
       "      box-shadow: 0px 1px 2px rgba(60, 64, 67, 0.3), 0px 1px 3px 1px rgba(60, 64, 67, 0.15);\n",
       "      fill: #174EA6;\n",
       "    }\n",
       "\n",
       "    [theme=dark] .colab-df-convert {\n",
       "      background-color: #3B4455;\n",
       "      fill: #D2E3FC;\n",
       "    }\n",
       "\n",
       "    [theme=dark] .colab-df-convert:hover {\n",
       "      background-color: #434B5C;\n",
       "      box-shadow: 0px 1px 3px 1px rgba(0, 0, 0, 0.15);\n",
       "      filter: drop-shadow(0px 1px 2px rgba(0, 0, 0, 0.3));\n",
       "      fill: #FFFFFF;\n",
       "    }\n",
       "  </style>\n",
       "\n",
       "      <script>\n",
       "        const buttonEl =\n",
       "          document.querySelector('#df-6be81965-02d6-47a8-98c4-c0641c695e3a button.colab-df-convert');\n",
       "        buttonEl.style.display =\n",
       "          google.colab.kernel.accessAllowed ? 'block' : 'none';\n",
       "\n",
       "        async function convertToInteractive(key) {\n",
       "          const element = document.querySelector('#df-6be81965-02d6-47a8-98c4-c0641c695e3a');\n",
       "          const dataTable =\n",
       "            await google.colab.kernel.invokeFunction('convertToInteractive',\n",
       "                                                     [key], {});\n",
       "          if (!dataTable) return;\n",
       "\n",
       "          const docLinkHtml = 'Like what you see? Visit the ' +\n",
       "            '<a target=\"_blank\" href=https://colab.research.google.com/notebooks/data_table.ipynb>data table notebook</a>'\n",
       "            + ' to learn more about interactive tables.';\n",
       "          element.innerHTML = '';\n",
       "          dataTable['output_type'] = 'display_data';\n",
       "          await google.colab.output.renderOutput(dataTable, element);\n",
       "          const docLink = document.createElement('div');\n",
       "          docLink.innerHTML = docLinkHtml;\n",
       "          element.appendChild(docLink);\n",
       "        }\n",
       "      </script>\n",
       "    </div>\n",
       "  </div>\n",
       "  "
      ]
     },
     "metadata": {},
     "execution_count": 2
    }
   ],
   "source": [
    "df = pd.read_csv('OnlineKhatt.tsv', sep='\\t')\n",
    " \n",
    "# printing data\n",
    "df"
   ]
  },
  {
   "cell_type": "code",
   "execution_count": 3,
   "id": "dab25b15-0962-44d4-aabc-8b3c5af82414",
   "metadata": {
    "id": "dab25b15-0962-44d4-aabc-8b3c5af82414",
    "pycharm": {
     "name": "#%%\n"
    }
   },
   "outputs": [],
   "source": [
    "# data = []\n",
    "# for i,j in enumerate(df['text']):\n",
    "#     data.append(j)\n",
    "\n",
    "# df = pd.DataFrame(data, columns=['concat5'])\n",
    "# df"
   ]
  },
  {
   "cell_type": "code",
   "execution_count": 4,
   "id": "23ac95d6-265e-47f8-a6d1-592729e3a4eb",
   "metadata": {
    "id": "23ac95d6-265e-47f8-a6d1-592729e3a4eb",
    "pycharm": {
     "name": "#%%\n"
    }
   },
   "outputs": [],
   "source": [
    "# print (df.groupby(df.index // 5)['text'].agg('\\n'.join))"
   ]
  },
  {
   "cell_type": "code",
   "execution_count": 5,
   "id": "30a6f548-1eec-40a3-9c80-f1386aa85a1a",
   "metadata": {
    "id": "30a6f548-1eec-40a3-9c80-f1386aa85a1a",
    "pycharm": {
     "name": "#%%\n"
    }
   },
   "outputs": [],
   "source": [
    "# df['text'].groupby(np.repeat(np.arange(len(df)), 5)[:len(df)]).agg('\\n'.join)"
   ]
  },
  {
   "cell_type": "code",
   "execution_count": 6,
   "id": "88baf05d-ff9a-4b1c-9d1a-87b33bdae862",
   "metadata": {
    "colab": {
     "base_uri": "https://localhost:8080/",
     "height": 300
    },
    "id": "88baf05d-ff9a-4b1c-9d1a-87b33bdae862",
    "outputId": "3f7183e3-2fe7-4629-a3f7-30f4cda1905f",
    "pycharm": {
     "name": "#%%\n"
    }
   },
   "outputs": [
    {
     "output_type": "execute_result",
     "data": {
      "text/plain": [
       "     col\n",
       "0    one\n",
       "1   fish\n",
       "2    two\n",
       "3   fish\n",
       "4   left\n",
       "5   foot\n",
       "6  right\n",
       "7   foot"
      ],
      "text/html": [
       "\n",
       "  <div id=\"df-2772ffcd-1bae-4cd1-8fd3-eefdaaca0675\">\n",
       "    <div class=\"colab-df-container\">\n",
       "      <div>\n",
       "<style scoped>\n",
       "    .dataframe tbody tr th:only-of-type {\n",
       "        vertical-align: middle;\n",
       "    }\n",
       "\n",
       "    .dataframe tbody tr th {\n",
       "        vertical-align: top;\n",
       "    }\n",
       "\n",
       "    .dataframe thead th {\n",
       "        text-align: right;\n",
       "    }\n",
       "</style>\n",
       "<table border=\"1\" class=\"dataframe\">\n",
       "  <thead>\n",
       "    <tr style=\"text-align: right;\">\n",
       "      <th></th>\n",
       "      <th>col</th>\n",
       "    </tr>\n",
       "  </thead>\n",
       "  <tbody>\n",
       "    <tr>\n",
       "      <th>0</th>\n",
       "      <td>one</td>\n",
       "    </tr>\n",
       "    <tr>\n",
       "      <th>1</th>\n",
       "      <td>fish</td>\n",
       "    </tr>\n",
       "    <tr>\n",
       "      <th>2</th>\n",
       "      <td>two</td>\n",
       "    </tr>\n",
       "    <tr>\n",
       "      <th>3</th>\n",
       "      <td>fish</td>\n",
       "    </tr>\n",
       "    <tr>\n",
       "      <th>4</th>\n",
       "      <td>left</td>\n",
       "    </tr>\n",
       "    <tr>\n",
       "      <th>5</th>\n",
       "      <td>foot</td>\n",
       "    </tr>\n",
       "    <tr>\n",
       "      <th>6</th>\n",
       "      <td>right</td>\n",
       "    </tr>\n",
       "    <tr>\n",
       "      <th>7</th>\n",
       "      <td>foot</td>\n",
       "    </tr>\n",
       "  </tbody>\n",
       "</table>\n",
       "</div>\n",
       "      <button class=\"colab-df-convert\" onclick=\"convertToInteractive('df-2772ffcd-1bae-4cd1-8fd3-eefdaaca0675')\"\n",
       "              title=\"Convert this dataframe to an interactive table.\"\n",
       "              style=\"display:none;\">\n",
       "        \n",
       "  <svg xmlns=\"http://www.w3.org/2000/svg\" height=\"24px\"viewBox=\"0 0 24 24\"\n",
       "       width=\"24px\">\n",
       "    <path d=\"M0 0h24v24H0V0z\" fill=\"none\"/>\n",
       "    <path d=\"M18.56 5.44l.94 2.06.94-2.06 2.06-.94-2.06-.94-.94-2.06-.94 2.06-2.06.94zm-11 1L8.5 8.5l.94-2.06 2.06-.94-2.06-.94L8.5 2.5l-.94 2.06-2.06.94zm10 10l.94 2.06.94-2.06 2.06-.94-2.06-.94-.94-2.06-.94 2.06-2.06.94z\"/><path d=\"M17.41 7.96l-1.37-1.37c-.4-.4-.92-.59-1.43-.59-.52 0-1.04.2-1.43.59L10.3 9.45l-7.72 7.72c-.78.78-.78 2.05 0 2.83L4 21.41c.39.39.9.59 1.41.59.51 0 1.02-.2 1.41-.59l7.78-7.78 2.81-2.81c.8-.78.8-2.07 0-2.86zM5.41 20L4 18.59l7.72-7.72 1.47 1.35L5.41 20z\"/>\n",
       "  </svg>\n",
       "      </button>\n",
       "      \n",
       "  <style>\n",
       "    .colab-df-container {\n",
       "      display:flex;\n",
       "      flex-wrap:wrap;\n",
       "      gap: 12px;\n",
       "    }\n",
       "\n",
       "    .colab-df-convert {\n",
       "      background-color: #E8F0FE;\n",
       "      border: none;\n",
       "      border-radius: 50%;\n",
       "      cursor: pointer;\n",
       "      display: none;\n",
       "      fill: #1967D2;\n",
       "      height: 32px;\n",
       "      padding: 0 0 0 0;\n",
       "      width: 32px;\n",
       "    }\n",
       "\n",
       "    .colab-df-convert:hover {\n",
       "      background-color: #E2EBFA;\n",
       "      box-shadow: 0px 1px 2px rgba(60, 64, 67, 0.3), 0px 1px 3px 1px rgba(60, 64, 67, 0.15);\n",
       "      fill: #174EA6;\n",
       "    }\n",
       "\n",
       "    [theme=dark] .colab-df-convert {\n",
       "      background-color: #3B4455;\n",
       "      fill: #D2E3FC;\n",
       "    }\n",
       "\n",
       "    [theme=dark] .colab-df-convert:hover {\n",
       "      background-color: #434B5C;\n",
       "      box-shadow: 0px 1px 3px 1px rgba(0, 0, 0, 0.15);\n",
       "      filter: drop-shadow(0px 1px 2px rgba(0, 0, 0, 0.3));\n",
       "      fill: #FFFFFF;\n",
       "    }\n",
       "  </style>\n",
       "\n",
       "      <script>\n",
       "        const buttonEl =\n",
       "          document.querySelector('#df-2772ffcd-1bae-4cd1-8fd3-eefdaaca0675 button.colab-df-convert');\n",
       "        buttonEl.style.display =\n",
       "          google.colab.kernel.accessAllowed ? 'block' : 'none';\n",
       "\n",
       "        async function convertToInteractive(key) {\n",
       "          const element = document.querySelector('#df-2772ffcd-1bae-4cd1-8fd3-eefdaaca0675');\n",
       "          const dataTable =\n",
       "            await google.colab.kernel.invokeFunction('convertToInteractive',\n",
       "                                                     [key], {});\n",
       "          if (!dataTable) return;\n",
       "\n",
       "          const docLinkHtml = 'Like what you see? Visit the ' +\n",
       "            '<a target=\"_blank\" href=https://colab.research.google.com/notebooks/data_table.ipynb>data table notebook</a>'\n",
       "            + ' to learn more about interactive tables.';\n",
       "          element.innerHTML = '';\n",
       "          dataTable['output_type'] = 'display_data';\n",
       "          await google.colab.output.renderOutput(dataTable, element);\n",
       "          const docLink = document.createElement('div');\n",
       "          docLink.innerHTML = docLinkHtml;\n",
       "          element.appendChild(docLink);\n",
       "        }\n",
       "      </script>\n",
       "    </div>\n",
       "  </div>\n",
       "  "
      ]
     },
     "metadata": {},
     "execution_count": 6
    }
   ],
   "source": [
    "df2 = pd.DataFrame({'col':['one','fish','two','fish','left','foot','right','foot']})\n",
    "df2"
   ]
  },
  {
   "cell_type": "code",
   "execution_count": 7,
   "id": "855c31c6-57c1-49c4-8a6f-0cd5eac82825",
   "metadata": {
    "colab": {
     "base_uri": "https://localhost:8080/"
    },
    "id": "855c31c6-57c1-49c4-8a6f-0cd5eac82825",
    "outputId": "42a59a2c-4fc3-4050-d5d8-a1508d62803b",
    "pycharm": {
     "name": "#%%\n"
    }
   },
   "outputs": [
    {
     "output_type": "stream",
     "name": "stderr",
     "text": [
      "/usr/local/lib/python3.7/dist-packages/pandas/core/groupby/generic.py:303: FutureWarning: Dropping invalid columns in SeriesGroupBy.agg is deprecated. In a future version, a TypeError will be raised. Before calling .agg, select only columns which should be valid for the aggregating function.\n",
      "  results[key] = self.aggregate(func)\n"
     ]
    }
   ],
   "source": [
    "output_left = df.groupby(df.index // 5).agg(' '.join)"
   ]
  },
  {
   "cell_type": "code",
   "source": [
    "df = df.dropna()"
   ],
   "metadata": {
    "id": "R6-JybIrP1rv",
    "pycharm": {
     "name": "#%%\n"
    }
   },
   "id": "R6-JybIrP1rv",
   "execution_count": 8,
   "outputs": []
  },
  {
   "cell_type": "code",
   "execution_count": 9,
   "id": "8dc41577-9794-440f-833c-54a5cd481501",
   "metadata": {
    "colab": {
     "base_uri": "https://localhost:8080/"
    },
    "id": "8dc41577-9794-440f-833c-54a5cd481501",
    "outputId": "36d9538a-1586-41dc-b46d-11295d41164c",
    "pycharm": {
     "name": "#%%\n"
    }
   },
   "outputs": [
    {
     "output_type": "execute_result",
     "data": {
      "text/plain": [
       "8497"
      ]
     },
     "metadata": {},
     "execution_count": 9
    }
   ],
   "source": [
    "len(df)"
   ]
  },
  {
   "cell_type": "code",
   "execution_count": 10,
   "id": "8e1c9654-e20f-4c80-8a86-78896d0435dc",
   "metadata": {
    "id": "8e1c9654-e20f-4c80-8a86-78896d0435dc",
    "pycharm": {
     "name": "#%%\n"
    }
   },
   "outputs": [],
   "source": [
    "output_right = df.groupby(df.index // 5)['text'].agg('\\n'.join)"
   ]
  },
  {
   "cell_type": "code",
   "execution_count": 11,
   "id": "b3586f58-088f-44e2-833d-b6fec3b911a8",
   "metadata": {
    "id": "b3586f58-088f-44e2-833d-b6fec3b911a8",
    "pycharm": {
     "name": "#%%\n"
    }
   },
   "outputs": [],
   "source": [
    "output = pd.concat([output_left, output_right], axis=1)"
   ]
  },
  {
   "cell_type": "code",
   "execution_count": 12,
   "id": "f559bc7a-8fb1-4701-8a74-8e1bf6767086",
   "metadata": {
    "id": "f559bc7a-8fb1-4701-8a74-8e1bf6767086",
    "pycharm": {
     "name": "#%%\n"
    }
   },
   "outputs": [],
   "source": [
    "# print(df3.groupby(df3.index // 5)['text'].agg(' '.join).to_frame())"
   ]
  },
  {
   "cell_type": "code",
   "execution_count": 13,
   "id": "0abe7541-3f84-4c65-935c-b5221b15b8d9",
   "metadata": {
    "id": "0abe7541-3f84-4c65-935c-b5221b15b8d9",
    "pycharm": {
     "name": "#%%\n"
    }
   },
   "outputs": [],
   "source": [
    "output.to_csv('concat_khatt.tsv', sep=\"\\t\")"
   ]
  },
  {
   "cell_type": "code",
   "source": [
    "output['file_name'] = 'batch'+(output['file_name'].index + 1).astype(str)+'.jpg'"
   ],
   "metadata": {
    "id": "9FUbhRHDayye",
    "pycharm": {
     "name": "#%%\n"
    }
   },
   "id": "9FUbhRHDayye",
   "execution_count": 14,
   "outputs": []
  },
  {
   "cell_type": "code",
   "source": [
    "output = output.rename(columns={\"file_name\": \"image\"})"
   ],
   "metadata": {
    "id": "BZozbI-ekQ6H",
    "pycharm": {
     "name": "#%%\n"
    }
   },
   "id": "BZozbI-ekQ6H",
   "execution_count": 15,
   "outputs": []
  },
  {
   "cell_type": "code",
   "source": [
    "output"
   ],
   "metadata": {
    "colab": {
     "base_uri": "https://localhost:8080/",
     "height": 424
    },
    "id": "8d6PkbVIb0dl",
    "outputId": "aaaba787-e00b-477b-d987-0d7810bb4c1f",
    "pycharm": {
     "name": "#%%\n"
    }
   },
   "id": "8d6PkbVIb0dl",
   "execution_count": 16,
   "outputs": [
    {
     "output_type": "execute_result",
     "data": {
      "text/plain": [
       "              image                                               text\n",
       "0        batch1.jpg  أطلقت الشركة السعودية لمعدات الديزل المحدودة ب...\n",
       "1        batch2.jpg  مصنع هايجر للحافلات يعد من المصانع الرئيسية في...\n",
       "2        batch3.jpg  خمسة طرازات جديدة من حافلات هايجر، وذلك خلال\\n...\n",
       "3        batch4.jpg  كبيراً تشهده المملكة العربية السعودية في مختلف...\n",
       "4        batch5.jpg  إصلاح معايشهم في الدنيا، ويدركون به استنقاذ أر...\n",
       "...             ...                                                ...\n",
       "1695  batch1696.jpg  الخيمة وحو نائم بكلمات لا أفهمها مثل أنقض بغلس...\n",
       "1696  batch1697.jpg  ذهب نوح مظفر ضرغام بصحبة رؤوف بن لؤي رايق ظافر...\n",
       "1697  batch1698.jpg  خ ض، ب س ش، ص غ ه\\nأننا في الحج هل تعلم فائده ...\n",
       "1698  batch1699.jpg  آخر عند وصولنا طفنا وسعينا مع شيخ. كان جاري في...\n",
       "1699  batch1700.jpg  مشمس، دراق، غيظ، ناء ،بث ،نسر\\nخ ض، ب س ،ش، ص ...\n",
       "\n",
       "[1700 rows x 2 columns]"
      ],
      "text/html": [
       "\n",
       "  <div id=\"df-c4438844-57c0-4495-a365-4b4405fc381d\">\n",
       "    <div class=\"colab-df-container\">\n",
       "      <div>\n",
       "<style scoped>\n",
       "    .dataframe tbody tr th:only-of-type {\n",
       "        vertical-align: middle;\n",
       "    }\n",
       "\n",
       "    .dataframe tbody tr th {\n",
       "        vertical-align: top;\n",
       "    }\n",
       "\n",
       "    .dataframe thead th {\n",
       "        text-align: right;\n",
       "    }\n",
       "</style>\n",
       "<table border=\"1\" class=\"dataframe\">\n",
       "  <thead>\n",
       "    <tr style=\"text-align: right;\">\n",
       "      <th></th>\n",
       "      <th>image</th>\n",
       "      <th>text</th>\n",
       "    </tr>\n",
       "  </thead>\n",
       "  <tbody>\n",
       "    <tr>\n",
       "      <th>0</th>\n",
       "      <td>batch1.jpg</td>\n",
       "      <td>أطلقت الشركة السعودية لمعدات الديزل المحدودة ب...</td>\n",
       "    </tr>\n",
       "    <tr>\n",
       "      <th>1</th>\n",
       "      <td>batch2.jpg</td>\n",
       "      <td>مصنع هايجر للحافلات يعد من المصانع الرئيسية في...</td>\n",
       "    </tr>\n",
       "    <tr>\n",
       "      <th>2</th>\n",
       "      <td>batch3.jpg</td>\n",
       "      <td>خمسة طرازات جديدة من حافلات هايجر، وذلك خلال\\n...</td>\n",
       "    </tr>\n",
       "    <tr>\n",
       "      <th>3</th>\n",
       "      <td>batch4.jpg</td>\n",
       "      <td>كبيراً تشهده المملكة العربية السعودية في مختلف...</td>\n",
       "    </tr>\n",
       "    <tr>\n",
       "      <th>4</th>\n",
       "      <td>batch5.jpg</td>\n",
       "      <td>إصلاح معايشهم في الدنيا، ويدركون به استنقاذ أر...</td>\n",
       "    </tr>\n",
       "    <tr>\n",
       "      <th>...</th>\n",
       "      <td>...</td>\n",
       "      <td>...</td>\n",
       "    </tr>\n",
       "    <tr>\n",
       "      <th>1695</th>\n",
       "      <td>batch1696.jpg</td>\n",
       "      <td>الخيمة وحو نائم بكلمات لا أفهمها مثل أنقض بغلس...</td>\n",
       "    </tr>\n",
       "    <tr>\n",
       "      <th>1696</th>\n",
       "      <td>batch1697.jpg</td>\n",
       "      <td>ذهب نوح مظفر ضرغام بصحبة رؤوف بن لؤي رايق ظافر...</td>\n",
       "    </tr>\n",
       "    <tr>\n",
       "      <th>1697</th>\n",
       "      <td>batch1698.jpg</td>\n",
       "      <td>خ ض، ب س ش، ص غ ه\\nأننا في الحج هل تعلم فائده ...</td>\n",
       "    </tr>\n",
       "    <tr>\n",
       "      <th>1698</th>\n",
       "      <td>batch1699.jpg</td>\n",
       "      <td>آخر عند وصولنا طفنا وسعينا مع شيخ. كان جاري في...</td>\n",
       "    </tr>\n",
       "    <tr>\n",
       "      <th>1699</th>\n",
       "      <td>batch1700.jpg</td>\n",
       "      <td>مشمس، دراق، غيظ، ناء ،بث ،نسر\\nخ ض، ب س ،ش، ص ...</td>\n",
       "    </tr>\n",
       "  </tbody>\n",
       "</table>\n",
       "<p>1700 rows × 2 columns</p>\n",
       "</div>\n",
       "      <button class=\"colab-df-convert\" onclick=\"convertToInteractive('df-c4438844-57c0-4495-a365-4b4405fc381d')\"\n",
       "              title=\"Convert this dataframe to an interactive table.\"\n",
       "              style=\"display:none;\">\n",
       "        \n",
       "  <svg xmlns=\"http://www.w3.org/2000/svg\" height=\"24px\"viewBox=\"0 0 24 24\"\n",
       "       width=\"24px\">\n",
       "    <path d=\"M0 0h24v24H0V0z\" fill=\"none\"/>\n",
       "    <path d=\"M18.56 5.44l.94 2.06.94-2.06 2.06-.94-2.06-.94-.94-2.06-.94 2.06-2.06.94zm-11 1L8.5 8.5l.94-2.06 2.06-.94-2.06-.94L8.5 2.5l-.94 2.06-2.06.94zm10 10l.94 2.06.94-2.06 2.06-.94-2.06-.94-.94-2.06-.94 2.06-2.06.94z\"/><path d=\"M17.41 7.96l-1.37-1.37c-.4-.4-.92-.59-1.43-.59-.52 0-1.04.2-1.43.59L10.3 9.45l-7.72 7.72c-.78.78-.78 2.05 0 2.83L4 21.41c.39.39.9.59 1.41.59.51 0 1.02-.2 1.41-.59l7.78-7.78 2.81-2.81c.8-.78.8-2.07 0-2.86zM5.41 20L4 18.59l7.72-7.72 1.47 1.35L5.41 20z\"/>\n",
       "  </svg>\n",
       "      </button>\n",
       "      \n",
       "  <style>\n",
       "    .colab-df-container {\n",
       "      display:flex;\n",
       "      flex-wrap:wrap;\n",
       "      gap: 12px;\n",
       "    }\n",
       "\n",
       "    .colab-df-convert {\n",
       "      background-color: #E8F0FE;\n",
       "      border: none;\n",
       "      border-radius: 50%;\n",
       "      cursor: pointer;\n",
       "      display: none;\n",
       "      fill: #1967D2;\n",
       "      height: 32px;\n",
       "      padding: 0 0 0 0;\n",
       "      width: 32px;\n",
       "    }\n",
       "\n",
       "    .colab-df-convert:hover {\n",
       "      background-color: #E2EBFA;\n",
       "      box-shadow: 0px 1px 2px rgba(60, 64, 67, 0.3), 0px 1px 3px 1px rgba(60, 64, 67, 0.15);\n",
       "      fill: #174EA6;\n",
       "    }\n",
       "\n",
       "    [theme=dark] .colab-df-convert {\n",
       "      background-color: #3B4455;\n",
       "      fill: #D2E3FC;\n",
       "    }\n",
       "\n",
       "    [theme=dark] .colab-df-convert:hover {\n",
       "      background-color: #434B5C;\n",
       "      box-shadow: 0px 1px 3px 1px rgba(0, 0, 0, 0.15);\n",
       "      filter: drop-shadow(0px 1px 2px rgba(0, 0, 0, 0.3));\n",
       "      fill: #FFFFFF;\n",
       "    }\n",
       "  </style>\n",
       "\n",
       "      <script>\n",
       "        const buttonEl =\n",
       "          document.querySelector('#df-c4438844-57c0-4495-a365-4b4405fc381d button.colab-df-convert');\n",
       "        buttonEl.style.display =\n",
       "          google.colab.kernel.accessAllowed ? 'block' : 'none';\n",
       "\n",
       "        async function convertToInteractive(key) {\n",
       "          const element = document.querySelector('#df-c4438844-57c0-4495-a365-4b4405fc381d');\n",
       "          const dataTable =\n",
       "            await google.colab.kernel.invokeFunction('convertToInteractive',\n",
       "                                                     [key], {});\n",
       "          if (!dataTable) return;\n",
       "\n",
       "          const docLinkHtml = 'Like what you see? Visit the ' +\n",
       "            '<a target=\"_blank\" href=https://colab.research.google.com/notebooks/data_table.ipynb>data table notebook</a>'\n",
       "            + ' to learn more about interactive tables.';\n",
       "          element.innerHTML = '';\n",
       "          dataTable['output_type'] = 'display_data';\n",
       "          await google.colab.output.renderOutput(dataTable, element);\n",
       "          const docLink = document.createElement('div');\n",
       "          docLink.innerHTML = docLinkHtml;\n",
       "          element.appendChild(docLink);\n",
       "        }\n",
       "      </script>\n",
       "    </div>\n",
       "  </div>\n",
       "  "
      ]
     },
     "metadata": {},
     "execution_count": 16
    }
   ]
  },
  {
   "cell_type": "code",
   "source": [
    "# train_test_split(output, test_size=0.20, random_state=42)"
   ],
   "metadata": {
    "id": "wHn_7N_-Yx3L",
    "pycharm": {
     "name": "#%%\n"
    }
   },
   "id": "wHn_7N_-Yx3L",
   "execution_count": 17,
   "outputs": []
  },
  {
   "cell_type": "code",
   "source": [
    "train, test = train_test_split(output, test_size=0.20, random_state=42)"
   ],
   "metadata": {
    "id": "l0aJ1BDkRW0v",
    "pycharm": {
     "name": "#%%\n"
    }
   },
   "id": "l0aJ1BDkRW0v",
   "execution_count": 18,
   "outputs": []
  },
  {
   "cell_type": "code",
   "source": [
    "test, val = train_test_split(test, test_size=0.50, random_state=42)"
   ],
   "metadata": {
    "id": "ikFYTc1nZC3N",
    "pycharm": {
     "name": "#%%\n"
    }
   },
   "id": "ikFYTc1nZC3N",
   "execution_count": 19,
   "outputs": []
  },
  {
   "cell_type": "code",
   "source": [
    "train.to_csv('train.tsv',sep=\"\\t\")\n",
    "test.to_csv('test.tsv',sep=\"\\t\")\n",
    "val.to_csv('valid.tsv',sep=\"\\t\")"
   ],
   "metadata": {
    "id": "20AXCLY3csw7",
    "pycharm": {
     "name": "#%%\n"
    }
   },
   "id": "20AXCLY3csw7",
   "execution_count": 20,
   "outputs": []
  },
  {
   "cell_type": "code",
   "source": [],
   "metadata": {
    "id": "qcJ4Kn7zc7i9",
    "pycharm": {
     "name": "#%%\n"
    }
   },
   "id": "qcJ4Kn7zc7i9",
   "execution_count": 20,
   "outputs": []
  }
 ],
 "metadata": {
  "kernelspec": {
   "display_name": "Python 3 (ipykernel)",
   "language": "python",
   "name": "python3"
  },
  "language_info": {
   "codemirror_mode": {
    "name": "ipython",
    "version": 3
   },
   "file_extension": ".py",
   "mimetype": "text/x-python",
   "name": "python",
   "nbconvert_exporter": "python",
   "pygments_lexer": "ipython3",
   "version": "3.9.9"
  },
  "colab": {
   "name": "concat4.ipynb",
   "provenance": []
  }
 },
 "nbformat": 4,
 "nbformat_minor": 5
}