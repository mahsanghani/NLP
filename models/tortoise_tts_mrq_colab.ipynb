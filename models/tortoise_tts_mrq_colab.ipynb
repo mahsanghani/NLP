{
  "cells": [
    {
      "cell_type": "code",
      "execution_count": null,
      "metadata": {
        "id": "FtsMKKfH18iM"
      },
      "outputs": [],
      "source": [
        "!apt install python3.8-venv\n",
        "!git clone https://git.ecker.tech/camenduru/ai-voice-cloning\n",
        "%cd /content/ai-voice-cloning\n",
        "!./setup-cuda.sh\n",
        "\n",
        "%cd /content/ai-voice-cloning/\n",
        "!./start.sh --share"
      ]
    },
    {
      "cell_type": "code",
      "source": [],
      "metadata": {
        "id": "aOiypOguhBB2"
      },
      "execution_count": null,
      "outputs": []
    }
  ],
  "metadata": {
    "accelerator": "GPU",
    "colab": {
      "private_outputs": true,
      "provenance": []
    },
    "gpuClass": "standard",
    "kernelspec": {
      "display_name": "Python 3",
      "name": "python3"
    },
    "language_info": {
      "name": "python"
    }
  },
  "nbformat": 4,
  "nbformat_minor": 0
}