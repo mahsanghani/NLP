{
  "nbformat": 4,
  "nbformat_minor": 0,
  "metadata": {
    "colab": {
      "provenance": []
    },
    "kernelspec": {
      "name": "python3",
      "display_name": "Python 3"
    },
    "language_info": {
      "name": "python"
    }
  },
  "cells": [
    {
      "cell_type": "code",
      "execution_count": 1,
      "metadata": {
        "id": "o-1Q9wqwHQw-"
      },
      "outputs": [],
      "source": [
        "!pip install --upgrade --quiet google-genai"
      ]
    },
    {
      "cell_type": "code",
      "source": [
        "import sys\n",
        "\n",
        "if \"google.colab\" in sys.modules:\n",
        "    # Authenticate user to Google Cloud\n",
        "    from google.colab import auth\n",
        "\n",
        "    auth.authenticate_user()"
      ],
      "metadata": {
        "id": "i3kLy47NHXFY"
      },
      "execution_count": 2,
      "outputs": []
    },
    {
      "cell_type": "code",
      "source": [
        "import os\n",
        "\n",
        "PROJECT_ID = \"genai-458310\"  # @param {type: \"string\"}\n",
        "if not PROJECT_ID or PROJECT_ID == \"[your-project-id]\":\n",
        "    PROJECT_ID = str(os.environ.get(\"GOOGLE_CLOUD_PROJECT\"))\n",
        "\n",
        "LOCATION = os.environ.get(\"GOOGLE_CLOUD_REGION\", \"us-central1\")\n",
        "\n",
        "from google import genai\n",
        "\n",
        "client = genai.Client(vertexai=True, project=PROJECT_ID, location=LOCATION)"
      ],
      "metadata": {
        "id": "mgvYJW52HxEH"
      },
      "execution_count": 3,
      "outputs": []
    },
    {
      "cell_type": "code",
      "source": [
        "from IPython.display import Markdown, display\n",
        "from google.genai.types import (\n",
        "    GenerateContentConfig,\n",
        "    GenerateContentResponse,\n",
        "    GoogleSearch,\n",
        "    Part,\n",
        "    Retrieval,\n",
        "    Tool,\n",
        "    VertexAISearch,\n",
        ")"
      ],
      "metadata": {
        "id": "JtZr6sTKH08M"
      },
      "execution_count": 4,
      "outputs": []
    },
    {
      "cell_type": "code",
      "source": [
        "MODEL_ID = \"gemini-2.0-flash\"  # @param {type: \"string\"}"
      ],
      "metadata": {
        "id": "Ab4PhG3-IBBW"
      },
      "execution_count": 5,
      "outputs": []
    },
    {
      "cell_type": "code",
      "source": [
        "PROMPT = \"When is the next solar eclipse in the US?\""
      ],
      "metadata": {
        "id": "_icg2t6IIA_B"
      },
      "execution_count": 6,
      "outputs": []
    },
    {
      "cell_type": "code",
      "source": [
        "def print_grounding_data(response: GenerateContentResponse) -> None:\n",
        "    \"\"\"Prints Gemini response with grounding citations in Markdown format.\"\"\"\n",
        "    if not (response.candidates and response.candidates[0].grounding_metadata):\n",
        "        print(\"Response does not contain grounding metadata.\")\n",
        "        display(Markdown(response.text))\n",
        "        return\n",
        "\n",
        "    grounding_metadata = response.candidates[0].grounding_metadata\n",
        "    markdown_parts = []\n",
        "\n",
        "    # Citation indexes are in bytes\n",
        "    ENCODING = \"utf-8\"\n",
        "    text_bytes = response.text.encode(ENCODING)\n",
        "    last_byte_index = 0\n",
        "\n",
        "    for support in grounding_metadata.grounding_supports:\n",
        "        markdown_parts.append(\n",
        "            text_bytes[last_byte_index : support.segment.end_index].decode(ENCODING)\n",
        "        )\n",
        "\n",
        "        # Generate and append citation footnotes (e.g., \"[1][2]\")\n",
        "        footnotes = \"\".join([f\"[{i + 1}]\" for i in support.grounding_chunk_indices])\n",
        "        markdown_parts.append(f\" {footnotes}\")\n",
        "\n",
        "        # Update index for the next segment\n",
        "        last_byte_index = support.segment.end_index\n",
        "\n",
        "    # Append any remaining text after the last citation\n",
        "    if last_byte_index < len(text_bytes):\n",
        "        markdown_parts.append(text_bytes[last_byte_index:].decode(ENCODING))\n",
        "\n",
        "    markdown_parts.append(\"\\n\\n----\\n## Grounding Sources\\n\")\n",
        "\n",
        "    # Build Grounding Sources Section\n",
        "    markdown_parts.append(\"### Grounding Chunks\\n\")\n",
        "    for i, chunk in enumerate(grounding_metadata.grounding_chunks, start=1):\n",
        "        context = chunk.web or chunk.retrieved_context\n",
        "        if not context:\n",
        "            print(f\"Skipping Grounding Chunk without context: {chunk}\")\n",
        "            continue\n",
        "\n",
        "        uri = context.uri\n",
        "        title = context.title or \"Source\"\n",
        "\n",
        "        # Convert GCS URIs to public HTTPS URLs\n",
        "        if uri and uri.startswith(\"gs://\"):\n",
        "            uri = uri.replace(\"gs://\", \"https://storage.googleapis.com/\", 1).replace(\n",
        "                \" \", \"%20\"\n",
        "            )\n",
        "        markdown_parts.append(f\"{i}. [{title}]({uri})\\n\")\n",
        "\n",
        "    # Add Search/Retrieval Queries\n",
        "    if grounding_metadata.web_search_queries:\n",
        "        markdown_parts.append(\n",
        "            f\"\\n**Web Search Queries:** {grounding_metadata.web_search_queries}\\n\"\n",
        "        )\n",
        "        if grounding_metadata.search_entry_point:\n",
        "            markdown_parts.append(\n",
        "                f\"\\n**Search Entry Point:**\\n{grounding_metadata.search_entry_point.rendered_content}\\n\"\n",
        "            )\n",
        "    elif grounding_metadata.retrieval_queries:\n",
        "        markdown_parts.append(\n",
        "            f\"\\n**Retrieval Queries:** {grounding_metadata.retrieval_queries}\\n\"\n",
        "        )\n",
        "\n",
        "    display(Markdown(\"\".join(markdown_parts)))"
      ],
      "metadata": {
        "id": "EknYh0QhH7Ge"
      },
      "execution_count": 7,
      "outputs": []
    },
    {
      "cell_type": "code",
      "source": [
        "response = client.models.generate_content(\n",
        "    model=MODEL_ID,\n",
        "    contents=PROMPT,\n",
        ")\n",
        "\n",
        "display(Markdown(response.text))"
      ],
      "metadata": {
        "colab": {
          "base_uri": "https://localhost:8080/",
          "height": 70
        },
        "id": "3yskH990H9DE",
        "outputId": "ea4e519b-5737-4b63-e87d-471d3cf73822"
      },
      "execution_count": 8,
      "outputs": [
        {
          "output_type": "display_data",
          "data": {
            "text/plain": [
              "<IPython.core.display.Markdown object>"
            ],
            "text/markdown": "The next solar eclipse in the U.S. will be an **annular solar eclipse on October 14, 2023**.\n\nAfter that, the next **total solar eclipse** visible in the U.S. will be on **April 8, 2024**.\n"
          },
          "metadata": {}
        }
      ]
    },
    {
      "cell_type": "code",
      "source": [
        "google_search_tool = Tool(google_search=GoogleSearch())\n",
        "\n",
        "response = client.models.generate_content(\n",
        "    model=MODEL_ID,\n",
        "    contents=PROMPT,\n",
        "    config=GenerateContentConfig(tools=[google_search_tool]),\n",
        ")\n",
        "\n",
        "print_grounding_data(response)"
      ],
      "metadata": {
        "colab": {
          "base_uri": "https://localhost:8080/",
          "height": 290
        },
        "id": "MpcUaDVzIFn0",
        "outputId": "7c565a3c-2d4b-4a36-99f8-9e30145e9d06"
      },
      "execution_count": 9,
      "outputs": [
        {
          "output_type": "display_data",
          "data": {
            "text/plain": [
              "<IPython.core.display.Markdown object>"
            ],
            "text/markdown": "The next solar eclipse visible in the contiguous United States will be a total solar eclipse on August 23, 2044. [1][2][3] However, if you include Alaska, there will be a total solar eclipse on March 30, 2033. [3][1]\n\n\n----\n## Grounding Sources\n### Grounding Chunks\n1. [wikipedia.org](https://vertexaisearch.cloud.google.com/grounding-api-redirect/AWQVqAIC3EPljRlFIKaRP2P7Abow1G30k3Y_40PVkv9gV0CN5MS21mGsx6UscTISmRj_CKbFVIutmDI3hMIFyckiQDzqDXKASsBNP4IlY4ksWN5kGY-0j_ykFNrPjMtNkyLJtbXKYMUUyET4Ta_QjZ3rCl3xx1EAWCatyA==)\n2. [cbsnews.com](https://vertexaisearch.cloud.google.com/grounding-api-redirect/AWQVqAK0SwBsrABLu0Rc2FKZ2jcGzueNCaJ6hwZ7nBr975Dqh2BEjs38L74r740X_j62eTj_YtF4NarCixtOqXu5rW77ZkQY7FW6uu7pqYKptfvIvKNbpiamlU2jSMhqsxUBPHRsGSDQr-0wv-mDngPfTRFCqJLBiihfZszhE74=)\n3. [wikipedia.org](https://vertexaisearch.cloud.google.com/grounding-api-redirect/AWQVqALffhKc0SQnnOG75sAsbOIqHQR2Si4uTScuw3jImPlkBIqKlKOp84norwegeUCHaKZFiyRgfhlSN6h5jl7_pIxwlRJg86oY-myq04XrzF4ez9wj42-nL7c5tDUk1eR585jMxsVFlOlaw54MVPxGYErgwCIv8uoed7l4SrLxX1c3qFJVRhz8RZo8Lh0D1nh4)\n\n**Web Search Queries:** ['next solar eclipse in the US']\n\n**Search Entry Point:**\n<style>\n.container {\n  align-items: center;\n  border-radius: 8px;\n  display: flex;\n  font-family: Google Sans, Roboto, sans-serif;\n  font-size: 14px;\n  line-height: 20px;\n  padding: 8px 12px;\n}\n.chip {\n  display: inline-block;\n  border: solid 1px;\n  border-radius: 16px;\n  min-width: 14px;\n  padding: 5px 16px;\n  text-align: center;\n  user-select: none;\n  margin: 0 8px;\n  -webkit-tap-highlight-color: transparent;\n}\n.carousel {\n  overflow: auto;\n  scrollbar-width: none;\n  white-space: nowrap;\n  margin-right: -12px;\n}\n.headline {\n  display: flex;\n  margin-right: 4px;\n}\n.gradient-container {\n  position: relative;\n}\n.gradient {\n  position: absolute;\n  transform: translate(3px, -9px);\n  height: 36px;\n  width: 9px;\n}\n@media (prefers-color-scheme: light) {\n  .container {\n    background-color: #fafafa;\n    box-shadow: 0 0 0 1px #0000000f;\n  }\n  .headline-label {\n    color: #1f1f1f;\n  }\n  .chip {\n    background-color: #ffffff;\n    border-color: #d2d2d2;\n    color: #5e5e5e;\n    text-decoration: none;\n  }\n  .chip:hover {\n    background-color: #f2f2f2;\n  }\n  .chip:focus {\n    background-color: #f2f2f2;\n  }\n  .chip:active {\n    background-color: #d8d8d8;\n    border-color: #b6b6b6;\n  }\n  .logo-dark {\n    display: none;\n  }\n  .gradient {\n    background: linear-gradient(90deg, #fafafa 15%, #fafafa00 100%);\n  }\n}\n@media (prefers-color-scheme: dark) {\n  .container {\n    background-color: #1f1f1f;\n    box-shadow: 0 0 0 1px #ffffff26;\n  }\n  .headline-label {\n    color: #fff;\n  }\n  .chip {\n    background-color: #2c2c2c;\n    border-color: #3c4043;\n    color: #fff;\n    text-decoration: none;\n  }\n  .chip:hover {\n    background-color: #353536;\n  }\n  .chip:focus {\n    background-color: #353536;\n  }\n  .chip:active {\n    background-color: #464849;\n    border-color: #53575b;\n  }\n  .logo-light {\n    display: none;\n  }\n  .gradient {\n    background: linear-gradient(90deg, #1f1f1f 15%, #1f1f1f00 100%);\n  }\n}\n</style>\n<div class=\"container\">\n  <div class=\"headline\">\n    <svg class=\"logo-light\" width=\"18\" height=\"18\" viewBox=\"9 9 35 35\" fill=\"none\" xmlns=\"http://www.w3.org/2000/svg\">\n      <path fill-rule=\"evenodd\" clip-rule=\"evenodd\" d=\"M42.8622 27.0064C42.8622 25.7839 42.7525 24.6084 42.5487 23.4799H26.3109V30.1568H35.5897C35.1821 32.3041 33.9596 34.1222 32.1258 35.3448V39.6864H37.7213C40.9814 36.677 42.8622 32.2571 42.8622 27.0064V27.0064Z\" fill=\"#4285F4\"/>\n      <path fill-rule=\"evenodd\" clip-rule=\"evenodd\" d=\"M26.3109 43.8555C30.9659 43.8555 34.8687 42.3195 37.7213 39.6863L32.1258 35.3447C30.5898 36.3792 28.6306 37.0061 26.3109 37.0061C21.8282 37.0061 18.0195 33.9811 16.6559 29.906H10.9194V34.3573C13.7563 39.9841 19.5712 43.8555 26.3109 43.8555V43.8555Z\" fill=\"#34A853\"/>\n      <path fill-rule=\"evenodd\" clip-rule=\"evenodd\" d=\"M16.6559 29.8904C16.3111 28.8559 16.1074 27.7588 16.1074 26.6146C16.1074 25.4704 16.3111 24.3733 16.6559 23.3388V18.8875H10.9194C9.74388 21.2072 9.06992 23.8247 9.06992 26.6146C9.06992 29.4045 9.74388 32.022 10.9194 34.3417L15.3864 30.8621L16.6559 29.8904V29.8904Z\" fill=\"#FBBC05\"/>\n      <path fill-rule=\"evenodd\" clip-rule=\"evenodd\" d=\"M26.3109 16.2386C28.85 16.2386 31.107 17.1164 32.9095 18.8091L37.8466 13.8719C34.853 11.082 30.9659 9.3736 26.3109 9.3736C19.5712 9.3736 13.7563 13.245 10.9194 18.8875L16.6559 23.3388C18.0195 19.2636 21.8282 16.2386 26.3109 16.2386V16.2386Z\" fill=\"#EA4335\"/>\n    </svg>\n    <svg class=\"logo-dark\" width=\"18\" height=\"18\" viewBox=\"0 0 48 48\" xmlns=\"http://www.w3.org/2000/svg\">\n      <circle cx=\"24\" cy=\"23\" fill=\"#FFF\" r=\"22\"/>\n      <path d=\"M33.76 34.26c2.75-2.56 4.49-6.37 4.49-11.26 0-.89-.08-1.84-.29-3H24.01v5.99h8.03c-.4 2.02-1.5 3.56-3.07 4.56v.75l3.91 2.97h.88z\" fill=\"#4285F4\"/>\n      <path d=\"M15.58 25.77A8.845 8.845 0 0 0 24 31.86c1.92 0 3.62-.46 4.97-1.31l4.79 3.71C31.14 36.7 27.65 38 24 38c-5.93 0-11.01-3.4-13.45-8.36l.17-1.01 4.06-2.85h.8z\" fill=\"#34A853\"/>\n      <path d=\"M15.59 20.21a8.864 8.864 0 0 0 0 5.58l-5.03 3.86c-.98-2-1.53-4.25-1.53-6.64 0-2.39.55-4.64 1.53-6.64l1-.22 3.81 2.98.22 1.08z\" fill=\"#FBBC05\"/>\n      <path d=\"M24 14.14c2.11 0 4.02.75 5.52 1.98l4.36-4.36C31.22 9.43 27.81 8 24 8c-5.93 0-11.01 3.4-13.45 8.36l5.03 3.85A8.86 8.86 0 0 1 24 14.14z\" fill=\"#EA4335\"/>\n    </svg>\n    <div class=\"gradient-container\"><div class=\"gradient\"></div></div>\n  </div>\n  <div class=\"carousel\">\n    <a class=\"chip\" href=\"https://vertexaisearch.cloud.google.com/grounding-api-redirect/AWQVqAJsihsDc452uXISj80RxyQayY6-Tj9HELSIB6ijVOLEzKYvPjnc71uAQHp5FKtjz3Q5u3RVVTRVsU2WxWXJEWyzXgmvsiVUsLn0TbXZVx6ceeFjo4fhzbInDb-uv9OWiIFeB-uIsFhz3h4IkPZoCfkTxq46O4TzTcqHKikc3oM3X2ywcyiJe3-iFfeZBZaeOrFIKldfVDNnYdP3qoPljDM=\">next solar eclipse in the US</a>\n  </div>\n</div>\n\n"
          },
          "metadata": {}
        }
      ]
    },
    {
      "cell_type": "code",
      "source": [
        "PROMPT = \"What is the current temperature at this location?\"\n",
        "\n",
        "response = client.models.generate_content(\n",
        "    model=MODEL_ID,\n",
        "    contents=[\n",
        "        Part.from_uri(\n",
        "            file_uri=\"gs://github-repo/generative-ai/gemini/grounding/paris.jpg\",\n",
        "            mime_type=\"image/jpeg\",\n",
        "        ),\n",
        "        PROMPT,\n",
        "    ],\n",
        "    config=GenerateContentConfig(\n",
        "        tools=[google_search_tool],\n",
        "    ),\n",
        ")\n",
        "\n",
        "print_grounding_data(response)"
      ],
      "metadata": {
        "colab": {
          "base_uri": "https://localhost:8080/",
          "height": 377
        },
        "id": "t1ZJX3R6YxR6",
        "outputId": "3ee39f30-8403-4ac6-f58f-bac5eca3afc6"
      },
      "execution_count": 10,
      "outputs": [
        {
          "output_type": "display_data",
          "data": {
            "text/plain": [
              "<IPython.core.display.Markdown object>"
            ],
            "text/markdown": "The image shows a view of Paris, France, featuring the Eiffel Tower and the Seine River. However, I cannot determine the current temperature at this location based on the image alone. To provide you with the current temperature, I would need to access a weather service. Would you like me to search for the current temperature in Paris?\nThe current temperature in Paris, France is 77°F (25°C). [1] It feels like 77°F (25°C). [2][1] The chance of rain is around 0% and the humidity is around 27%. [2] It is sunny. [3][4][2][5][6][1]\n\n\n----\n## Grounding Sources\n### Grounding Chunks\n1. [yahoo.com](https://vertexaisearch.cloud.google.com/grounding-api-redirect/AWQVqAIsHtyIlFs3NW8UhPv685Ku-D1YLh1lak1gxmdUHmTYjri3Ajqi8V08SX-RBG8dZxrAhPyt_ZZPTwOqHvjJQpqcNfTM_B5e0r3oVhfqiMsg42rjsWCvBlXblMU0sbfC4nQ5Bb0XKua1yDDy3pd-I0xpmzAakSKSXADv4W8MRjtLDTBz)\n2. [Weather information for locality: Paris](https://www.google.com/search?q=weather+in+Paris)\n3. [timeanddate.com](https://vertexaisearch.cloud.google.com/grounding-api-redirect/AWQVqAI7mKsXsfb0TPYs-suSZNdrr_ct_qLKwJ7sZ1xIPNeJTha7m__J5mv_L15J20hzF6LqgZF_LbeXSwxlMrssAFAHZb2zdM6vj_r6OYyrhBB77tsAYkx1jSgQzL7m9egTEhp441Kv27MgpN7NPqv9eA==)\n4. [wunderground.com](https://vertexaisearch.cloud.google.com/grounding-api-redirect/AWQVqAJYKoBwcnjkhG2YkBFbGRSzbLIHf8DyboItggX3DsXUMRgZCZLHxIrS61xvXiH6jTx-RLaVd7mvvfLhVrTWiPMZSDmhiT8P3xI10RPjE0ObglBpnWkALmMmxp2EtrxjXlz5ZVVyM0RC)\n5. [weatherapi.com](https://vertexaisearch.cloud.google.com/grounding-api-redirect/AWQVqAKIiiVChL6NhVPJRcsbBfxRp2_W7irjVhLQnqZ-j7DNvoFfy-boeoPJxn8HgsweCKzcu0EuquH4Mq9BuiFpePMA_BWB9qJnd47BAYczeMQD3ErPVerULDfiAQdcfDKnx3lk--54qrrQMLrmXQ==)\n6. [metoffice.gov.uk](https://vertexaisearch.cloud.google.com/grounding-api-redirect/AWQVqALlf6hHTSJFQM72IfxhM_tgRKBVrHEdYBWdxptx4vKgGA_EUjujWeesiJCVgNa8XuTt5Q0Z_N0S1sUnKJuWHvYuZ8hG6l40EDP917G3Jj3ZIiPAgKTaKf0-UhBr7chuGmO_jIgF3FALDA0eauZY)\n\n**Web Search Queries:** ['current temperature in Paris']\n\n**Search Entry Point:**\n<style>\n.container {\n  align-items: center;\n  border-radius: 8px;\n  display: flex;\n  font-family: Google Sans, Roboto, sans-serif;\n  font-size: 14px;\n  line-height: 20px;\n  padding: 8px 12px;\n}\n.chip {\n  display: inline-block;\n  border: solid 1px;\n  border-radius: 16px;\n  min-width: 14px;\n  padding: 5px 16px;\n  text-align: center;\n  user-select: none;\n  margin: 0 8px;\n  -webkit-tap-highlight-color: transparent;\n}\n.carousel {\n  overflow: auto;\n  scrollbar-width: none;\n  white-space: nowrap;\n  margin-right: -12px;\n}\n.headline {\n  display: flex;\n  margin-right: 4px;\n}\n.gradient-container {\n  position: relative;\n}\n.gradient {\n  position: absolute;\n  transform: translate(3px, -9px);\n  height: 36px;\n  width: 9px;\n}\n@media (prefers-color-scheme: light) {\n  .container {\n    background-color: #fafafa;\n    box-shadow: 0 0 0 1px #0000000f;\n  }\n  .headline-label {\n    color: #1f1f1f;\n  }\n  .chip {\n    background-color: #ffffff;\n    border-color: #d2d2d2;\n    color: #5e5e5e;\n    text-decoration: none;\n  }\n  .chip:hover {\n    background-color: #f2f2f2;\n  }\n  .chip:focus {\n    background-color: #f2f2f2;\n  }\n  .chip:active {\n    background-color: #d8d8d8;\n    border-color: #b6b6b6;\n  }\n  .logo-dark {\n    display: none;\n  }\n  .gradient {\n    background: linear-gradient(90deg, #fafafa 15%, #fafafa00 100%);\n  }\n}\n@media (prefers-color-scheme: dark) {\n  .container {\n    background-color: #1f1f1f;\n    box-shadow: 0 0 0 1px #ffffff26;\n  }\n  .headline-label {\n    color: #fff;\n  }\n  .chip {\n    background-color: #2c2c2c;\n    border-color: #3c4043;\n    color: #fff;\n    text-decoration: none;\n  }\n  .chip:hover {\n    background-color: #353536;\n  }\n  .chip:focus {\n    background-color: #353536;\n  }\n  .chip:active {\n    background-color: #464849;\n    border-color: #53575b;\n  }\n  .logo-light {\n    display: none;\n  }\n  .gradient {\n    background: linear-gradient(90deg, #1f1f1f 15%, #1f1f1f00 100%);\n  }\n}\n</style>\n<div class=\"container\">\n  <div class=\"headline\">\n    <svg class=\"logo-light\" width=\"18\" height=\"18\" viewBox=\"9 9 35 35\" fill=\"none\" xmlns=\"http://www.w3.org/2000/svg\">\n      <path fill-rule=\"evenodd\" clip-rule=\"evenodd\" d=\"M42.8622 27.0064C42.8622 25.7839 42.7525 24.6084 42.5487 23.4799H26.3109V30.1568H35.5897C35.1821 32.3041 33.9596 34.1222 32.1258 35.3448V39.6864H37.7213C40.9814 36.677 42.8622 32.2571 42.8622 27.0064V27.0064Z\" fill=\"#4285F4\"/>\n      <path fill-rule=\"evenodd\" clip-rule=\"evenodd\" d=\"M26.3109 43.8555C30.9659 43.8555 34.8687 42.3195 37.7213 39.6863L32.1258 35.3447C30.5898 36.3792 28.6306 37.0061 26.3109 37.0061C21.8282 37.0061 18.0195 33.9811 16.6559 29.906H10.9194V34.3573C13.7563 39.9841 19.5712 43.8555 26.3109 43.8555V43.8555Z\" fill=\"#34A853\"/>\n      <path fill-rule=\"evenodd\" clip-rule=\"evenodd\" d=\"M16.6559 29.8904C16.3111 28.8559 16.1074 27.7588 16.1074 26.6146C16.1074 25.4704 16.3111 24.3733 16.6559 23.3388V18.8875H10.9194C9.74388 21.2072 9.06992 23.8247 9.06992 26.6146C9.06992 29.4045 9.74388 32.022 10.9194 34.3417L15.3864 30.8621L16.6559 29.8904V29.8904Z\" fill=\"#FBBC05\"/>\n      <path fill-rule=\"evenodd\" clip-rule=\"evenodd\" d=\"M26.3109 16.2386C28.85 16.2386 31.107 17.1164 32.9095 18.8091L37.8466 13.8719C34.853 11.082 30.9659 9.3736 26.3109 9.3736C19.5712 9.3736 13.7563 13.245 10.9194 18.8875L16.6559 23.3388C18.0195 19.2636 21.8282 16.2386 26.3109 16.2386V16.2386Z\" fill=\"#EA4335\"/>\n    </svg>\n    <svg class=\"logo-dark\" width=\"18\" height=\"18\" viewBox=\"0 0 48 48\" xmlns=\"http://www.w3.org/2000/svg\">\n      <circle cx=\"24\" cy=\"23\" fill=\"#FFF\" r=\"22\"/>\n      <path d=\"M33.76 34.26c2.75-2.56 4.49-6.37 4.49-11.26 0-.89-.08-1.84-.29-3H24.01v5.99h8.03c-.4 2.02-1.5 3.56-3.07 4.56v.75l3.91 2.97h.88z\" fill=\"#4285F4\"/>\n      <path d=\"M15.58 25.77A8.845 8.845 0 0 0 24 31.86c1.92 0 3.62-.46 4.97-1.31l4.79 3.71C31.14 36.7 27.65 38 24 38c-5.93 0-11.01-3.4-13.45-8.36l.17-1.01 4.06-2.85h.8z\" fill=\"#34A853\"/>\n      <path d=\"M15.59 20.21a8.864 8.864 0 0 0 0 5.58l-5.03 3.86c-.98-2-1.53-4.25-1.53-6.64 0-2.39.55-4.64 1.53-6.64l1-.22 3.81 2.98.22 1.08z\" fill=\"#FBBC05\"/>\n      <path d=\"M24 14.14c2.11 0 4.02.75 5.52 1.98l4.36-4.36C31.22 9.43 27.81 8 24 8c-5.93 0-11.01 3.4-13.45 8.36l5.03 3.85A8.86 8.86 0 0 1 24 14.14z\" fill=\"#EA4335\"/>\n    </svg>\n    <div class=\"gradient-container\"><div class=\"gradient\"></div></div>\n  </div>\n  <div class=\"carousel\">\n    <a class=\"chip\" href=\"https://vertexaisearch.cloud.google.com/grounding-api-redirect/AWQVqAKUT8un776AcUmioILzhVvdAoA7G6CIcOvG99LY4UuLUAgMaYVWmcL9k_EbN2FvSUgFz5Br6AnHkU4EcjQtK8rxJ5ktdckkCpAX73jBVJzUTuWPGAVAUfY3Ff0AUypX_KplRjHowmR5jVO7oYzSJdXeyFUzy5BnE_Ef2x4u4wK8k7Gktm70xyCB_x_R6lht1Xgpu51T6pCAg5yQwNPY8w==\">current temperature in Paris</a>\n  </div>\n</div>\n\n"
          },
          "metadata": {}
        }
      ]
    },
    {
      "cell_type": "code",
      "source": [
        "%%bash -s \"$PROJECT_ID\" \"$MODEL_ID\"\n",
        "PROJECT_ID=$1\n",
        "MODEL_ID=$2\n",
        "curl -X POST \\\n",
        "  -H \"Authorization: Bearer $(gcloud auth print-access-token)\" \\\n",
        "  -H \"Content-Type: application/json\" \\\n",
        "  -H \"x-server-timeout: 60\" \\\n",
        "  https://us-central1-aiplatform.googleapis.com/v1/projects/\\$PROJECT_ID/locations/us-central1/publishers/google/models/\\$MODEL_ID:generateContent \\\n",
        "  -d '{\n",
        "    \"contents\": [{\n",
        "      \"role\": \"user\",\n",
        "      \"parts\": [{\n",
        "        \"text\": \"Who won the 2024 UEFA European Championship?\"\n",
        "      }]\n",
        "    }],\n",
        "    \"tools\": [{\n",
        "      \"enterpriseWebSearch\": {}\n",
        "    }]\n",
        "  }'"
      ],
      "metadata": {
        "colab": {
          "base_uri": "https://localhost:8080/"
        },
        "id": "nMIE6MfHYxP8",
        "outputId": "302edcc6-7494-4221-d45b-74c14b9b9550"
      },
      "execution_count": 12,
      "outputs": [
        {
          "output_type": "stream",
          "name": "stdout",
          "text": [
            "{\n",
            "  \"candidates\": [\n",
            "    {\n",
            "      \"content\": {\n",
            "        \"role\": \"model\",\n",
            "        \"parts\": [\n",
            "          {\n",
            "            \"text\": \"Spain won the 2024 UEFA European Championship, securing their record-breaking fourth title by defeating England 2-1 in the final. The match was held at the Olympiastadion in Berlin on July 14, 2024.\\n\"\n",
            "          }\n",
            "        ]\n",
            "      },\n",
            "      \"finishReason\": \"STOP\",\n",
            "      \"groundingMetadata\": {\n",
            "        \"webSearchQueries\": [\n",
            "          \"who won UEFA European Championship 2024\"\n",
            "        ],\n",
            "        \"searchEntryPoint\": {\n",
            "          \"renderedContent\": \"\\u003cstyle\\u003e\\n.container {\\n  align-items: center;\\n  border-radius: 8px;\\n  display: flex;\\n  font-family: Google Sans, Roboto, sans-serif;\\n  font-size: 14px;\\n  line-height: 20px;\\n  padding: 8px 12px;\\n}\\n.chip {\\n  display: inline-block;\\n  border: solid 1px;\\n  border-radius: 16px;\\n  min-width: 14px;\\n  padding: 5px 16px;\\n  text-align: center;\\n  user-select: none;\\n  margin: 0 8px;\\n  -webkit-tap-highlight-color: transparent;\\n}\\n.carousel {\\n  overflow: auto;\\n  scrollbar-width: none;\\n  white-space: nowrap;\\n  margin-right: -12px;\\n}\\n.headline {\\n  display: flex;\\n  margin-right: 4px;\\n}\\n.gradient-container {\\n  position: relative;\\n}\\n.gradient {\\n  position: absolute;\\n  transform: translate(3px, -9px);\\n  height: 36px;\\n  width: 9px;\\n}\\n@media (prefers-color-scheme: light) {\\n  .container {\\n    background-color: #fafafa;\\n    box-shadow: 0 0 0 1px #0000000f;\\n  }\\n  .headline-label {\\n    color: #1f1f1f;\\n  }\\n  .chip {\\n    background-color: #ffffff;\\n    border-color: #d2d2d2;\\n    color: #5e5e5e;\\n    text-decoration: none;\\n  }\\n  .chip:hover {\\n    background-color: #f2f2f2;\\n  }\\n  .chip:focus {\\n    background-color: #f2f2f2;\\n  }\\n  .chip:active {\\n    background-color: #d8d8d8;\\n    border-color: #b6b6b6;\\n  }\\n  .logo-dark {\\n    display: none;\\n  }\\n  .gradient {\\n    background: linear-gradient(90deg, #fafafa 15%, #fafafa00 100%);\\n  }\\n}\\n@media (prefers-color-scheme: dark) {\\n  .container {\\n    background-color: #1f1f1f;\\n    box-shadow: 0 0 0 1px #ffffff26;\\n  }\\n  .headline-label {\\n    color: #fff;\\n  }\\n  .chip {\\n    background-color: #2c2c2c;\\n    border-color: #3c4043;\\n    color: #fff;\\n    text-decoration: none;\\n  }\\n  .chip:hover {\\n    background-color: #353536;\\n  }\\n  .chip:focus {\\n    background-color: #353536;\\n  }\\n  .chip:active {\\n    background-color: #464849;\\n    border-color: #53575b;\\n  }\\n  .logo-light {\\n    display: none;\\n  }\\n  .gradient {\\n    background: linear-gradient(90deg, #1f1f1f 15%, #1f1f1f00 100%);\\n  }\\n}\\n\\u003c/style\\u003e\\n\\u003cdiv class=\\\"container\\\"\\u003e\\n  \\u003cdiv class=\\\"headline\\\"\\u003e\\n    \\u003csvg class=\\\"logo-light\\\" width=\\\"18\\\" height=\\\"18\\\" viewBox=\\\"9 9 35 35\\\" fill=\\\"none\\\" xmlns=\\\"http://www.w3.org/2000/svg\\\"\\u003e\\n      \\u003cpath fill-rule=\\\"evenodd\\\" clip-rule=\\\"evenodd\\\" d=\\\"M42.8622 27.0064C42.8622 25.7839 42.7525 24.6084 42.5487 23.4799H26.3109V30.1568H35.5897C35.1821 32.3041 33.9596 34.1222 32.1258 35.3448V39.6864H37.7213C40.9814 36.677 42.8622 32.2571 42.8622 27.0064V27.0064Z\\\" fill=\\\"#4285F4\\\"/\\u003e\\n      \\u003cpath fill-rule=\\\"evenodd\\\" clip-rule=\\\"evenodd\\\" d=\\\"M26.3109 43.8555C30.9659 43.8555 34.8687 42.3195 37.7213 39.6863L32.1258 35.3447C30.5898 36.3792 28.6306 37.0061 26.3109 37.0061C21.8282 37.0061 18.0195 33.9811 16.6559 29.906H10.9194V34.3573C13.7563 39.9841 19.5712 43.8555 26.3109 43.8555V43.8555Z\\\" fill=\\\"#34A853\\\"/\\u003e\\n      \\u003cpath fill-rule=\\\"evenodd\\\" clip-rule=\\\"evenodd\\\" d=\\\"M16.6559 29.8904C16.3111 28.8559 16.1074 27.7588 16.1074 26.6146C16.1074 25.4704 16.3111 24.3733 16.6559 23.3388V18.8875H10.9194C9.74388 21.2072 9.06992 23.8247 9.06992 26.6146C9.06992 29.4045 9.74388 32.022 10.9194 34.3417L15.3864 30.8621L16.6559 29.8904V29.8904Z\\\" fill=\\\"#FBBC05\\\"/\\u003e\\n      \\u003cpath fill-rule=\\\"evenodd\\\" clip-rule=\\\"evenodd\\\" d=\\\"M26.3109 16.2386C28.85 16.2386 31.107 17.1164 32.9095 18.8091L37.8466 13.8719C34.853 11.082 30.9659 9.3736 26.3109 9.3736C19.5712 9.3736 13.7563 13.245 10.9194 18.8875L16.6559 23.3388C18.0195 19.2636 21.8282 16.2386 26.3109 16.2386V16.2386Z\\\" fill=\\\"#EA4335\\\"/\\u003e\\n    \\u003c/svg\\u003e\\n    \\u003csvg class=\\\"logo-dark\\\" width=\\\"18\\\" height=\\\"18\\\" viewBox=\\\"0 0 48 48\\\" xmlns=\\\"http://www.w3.org/2000/svg\\\"\\u003e\\n      \\u003ccircle cx=\\\"24\\\" cy=\\\"23\\\" fill=\\\"#FFF\\\" r=\\\"22\\\"/\\u003e\\n      \\u003cpath d=\\\"M33.76 34.26c2.75-2.56 4.49-6.37 4.49-11.26 0-.89-.08-1.84-.29-3H24.01v5.99h8.03c-.4 2.02-1.5 3.56-3.07 4.56v.75l3.91 2.97h.88z\\\" fill=\\\"#4285F4\\\"/\\u003e\\n      \\u003cpath d=\\\"M15.58 25.77A8.845 8.845 0 0 0 24 31.86c1.92 0 3.62-.46 4.97-1.31l4.79 3.71C31.14 36.7 27.65 38 24 38c-5.93 0-11.01-3.4-13.45-8.36l.17-1.01 4.06-2.85h.8z\\\" fill=\\\"#34A853\\\"/\\u003e\\n      \\u003cpath d=\\\"M15.59 20.21a8.864 8.864 0 0 0 0 5.58l-5.03 3.86c-.98-2-1.53-4.25-1.53-6.64 0-2.39.55-4.64 1.53-6.64l1-.22 3.81 2.98.22 1.08z\\\" fill=\\\"#FBBC05\\\"/\\u003e\\n      \\u003cpath d=\\\"M24 14.14c2.11 0 4.02.75 5.52 1.98l4.36-4.36C31.22 9.43 27.81 8 24 8c-5.93 0-11.01 3.4-13.45 8.36l5.03 3.85A8.86 8.86 0 0 1 24 14.14z\\\" fill=\\\"#EA4335\\\"/\\u003e\\n    \\u003c/svg\\u003e\\n    \\u003cdiv class=\\\"gradient-container\\\"\\u003e\\u003cdiv class=\\\"gradient\\\"\\u003e\\u003c/div\\u003e\\u003c/div\\u003e\\n  \\u003c/div\\u003e\\n  \\u003cdiv class=\\\"carousel\\\"\\u003e\\n    \\u003ca class=\\\"chip\\\" href=\\\"https://vertexaisearch.cloud.google.com/grounding-api-redirect/AWQVqAK1JQA9qUDCtmy_SGTJYGRSi0J93CoS29D-iu3GgekIljYkaAfyQPnMYmfRWCp-zb_XgHC4Lz5op_ifGwy8pDTESKpTdseXjNT9OodFXbquIJz81wL66lgElbHWGdXpuIb9ufdVv0xUomAUIPDHZvdYlZZu6S1LlVWPpBvDG2iZFOtXzLZXHkCqAtg2fTOJfGFwJ8l_jRin20RAd8FuV3T56mGjpkvfiQhdkA==\\\"\\u003ewho won UEFA European Championship 2024\\u003c/a\\u003e\\n  \\u003c/div\\u003e\\n\\u003c/div\\u003e\\n\"\n",
            "        },\n",
            "        \"groundingChunks\": [\n",
            "          {\n",
            "            \"web\": {\n",
            "              \"uri\": \"https://vertexaisearch.cloud.google.com/grounding-api-redirect/AWQVqAIVb8Q1T_9j_MuqMkZkj6b7Qo1pHdM7Q5IEd963ScJ0mHLas_bPgPjsC2Lu1vjhGZgVZjnOHBX_TqmEk68SW6H8OKn1OcwDSG8yVE70oEZuEAOpIQgF4d5K6OLPLfSb-ecolFDf2FeC1uk5W0ax\",\n",
            "              \"title\": \"wikipedia.org\",\n",
            "              \"domain\": \"wikipedia.org\"\n",
            "            }\n",
            "          },\n",
            "          {\n",
            "            \"web\": {\n",
            "              \"uri\": \"https://vertexaisearch.cloud.google.com/grounding-api-redirect/AWQVqAJmCTM40JBTWVw-d3qz2fqq5l_zl6htLqfI_uqJM42gEUYJgWvd9J-xaz2_YPZddX6GSB-wU9MItYqCs5xo7S469ixRoJLTWdJDzqVT6PYZQt9O3hvUi64_fNILiApWDORsfApAUEvChBYQz6K9aNlXcyYChc78llV76olzTIfEp3K8amIZjbSQQbVXhI9bJ_F0mWjG-mlpFUUovudtTuqMu4Z6yEVPy9s8GJMEG1HnTQ==\",\n",
            "              \"title\": \"aljazeera.com\",\n",
            "              \"domain\": \"aljazeera.com\"\n",
            "            }\n",
            "          },\n",
            "          {\n",
            "            \"web\": {\n",
            "              \"uri\": \"https://vertexaisearch.cloud.google.com/grounding-api-redirect/AWQVqAImqvqlQgxvOJchSC7k-Br1neSYvucpd80QrH4lerbdaY9G3Sa66Q43dO6nqorHFi0Mz5PEmEr7jA0lCkoXiSyuZqWoo480zSaY8z3PyvWKPfp-GFLLBhE-R0qDVr_kqsyzVoSpAAMoIsAMCMsMj0uQj4h9\",\n",
            "              \"title\": \"wikipedia.org\",\n",
            "              \"domain\": \"wikipedia.org\"\n",
            "            }\n",
            "          }\n",
            "        ],\n",
            "        \"groundingSupports\": [\n",
            "          {\n",
            "            \"segment\": {\n",
            "              \"endIndex\": 129,\n",
            "              \"text\": \"Spain won the 2024 UEFA European Championship, securing their record-breaking fourth title by defeating England 2-1 in the final.\"\n",
            "            },\n",
            "            \"groundingChunkIndices\": [\n",
            "              0,\n",
            "              1,\n",
            "              2\n",
            "            ],\n",
            "            \"confidenceScores\": [\n",
            "              0.9825685,\n",
            "              0.89559036,\n",
            "              0.7315601\n",
            "            ]\n",
            "          },\n",
            "          {\n",
            "            \"segment\": {\n",
            "              \"startIndex\": 130,\n",
            "              \"endIndex\": 198,\n",
            "              \"text\": \"The match was held at the Olympiastadion in Berlin on July 14, 2024.\"\n",
            "            },\n",
            "            \"groundingChunkIndices\": [\n",
            "              0,\n",
            "              1\n",
            "            ],\n",
            "            \"confidenceScores\": [\n",
            "              0.98986125,\n",
            "              0.9806959\n",
            "            ]\n",
            "          }\n",
            "        ]\n",
            "      }\n",
            "    }\n",
            "  ],\n",
            "  \"usageMetadata\": {\n",
            "    \"promptTokenCount\": 12,\n",
            "    \"candidatesTokenCount\": 53,\n",
            "    \"totalTokenCount\": 65,\n",
            "    \"trafficType\": \"ON_DEMAND\",\n",
            "    \"promptTokensDetails\": [\n",
            "      {\n",
            "        \"modality\": \"TEXT\",\n",
            "        \"tokenCount\": 12\n",
            "      }\n",
            "    ],\n",
            "    \"candidatesTokensDetails\": [\n",
            "      {\n",
            "        \"modality\": \"TEXT\",\n",
            "        \"tokenCount\": 53\n",
            "      }\n",
            "    ]\n",
            "  },\n",
            "  \"modelVersion\": \"gemini-2.0-flash\",\n",
            "  \"createTime\": \"2025-04-29T16:36:27.395841Z\",\n",
            "  \"responseId\": \"CwARaMGUGO2imecPh9KjkAg\"\n",
            "}\n"
          ]
        },
        {
          "output_type": "stream",
          "name": "stderr",
          "text": [
            "  % Total    % Received % Xferd  Average Speed   Time    Time     Time  Current\n",
            "                                 Dload  Upload   Total   Spent    Left  Speed\n",
            "\r  0     0    0     0    0     0      0      0 --:--:-- --:--:-- --:--:--     0\r100   199    0     0  100   199      0    165  0:00:01  0:00:01 --:--:--   165\r100   199    0     0  100   199      0     90  0:00:02  0:00:02 --:--:--    90\r100  8659    0  8460  100   199   2947     69  0:00:02  0:00:02 --:--:--  3016\r100  8659    0  8460  100   199   2945     69  0:00:02  0:00:02 --:--:--  3014\n"
          ]
        }
      ]
    },
    {
      "cell_type": "code",
      "source": [],
      "metadata": {
        "id": "CQLzoKKoYxNw"
      },
      "execution_count": null,
      "outputs": []
    },
    {
      "cell_type": "code",
      "source": [],
      "metadata": {
        "id": "th4QWOZ_YxLc"
      },
      "execution_count": null,
      "outputs": []
    }
  ]
}
