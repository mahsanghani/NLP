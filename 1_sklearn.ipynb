{
  "cells": [
    {
      "cell_type": "code",
      "execution_count": null,
      "metadata": {
        "id": "d208b62a-d011-427b-962f-dbd039478948"
      },
      "outputs": [],
      "source": [
        "import numpy as np\n",
        "import pandas as pd\n",
        "import matplotlib.pyplot as plt\n",
        "import random\n",
        "\n",
        "import cv2 as cv\n",
        "import glob\n",
        "\n",
        "from sklearn.model_selection import train_test_split\n",
        "from sklearn.linear_model import LogisticRegression\n",
        "from sklearn.tree import DecisionTreeClassifier\n",
        "from sklearn.ensemble import RandomForestClassifier\n",
        "\n",
        "from sklearn.pipeline import Pipeline\n",
        "from sklearn.model_selection import GridSearchCV\n",
        "\n",
        "from sklearn.metrics import accuracy_score"
      ],
      "id": "d208b62a-d011-427b-962f-dbd039478948"
    },
    {
      "cell_type": "code",
      "execution_count": null,
      "metadata": {
        "id": "KAceEWk4365q"
      },
      "outputs": [],
      "source": [
        "!mkdir ~/.kaggle\n",
        "!touch ~/.kaggle/kaggle.json\n",
        "\n",
        "api_token = {\"username\":\"ahsang\",\"key\":\"632d5506d403d23603ab306b4ade5d78\"}\n",
        "\n",
        "import json\n",
        "\n",
        "with open('/root/.kaggle/kaggle.json', 'w') as file:\n",
        "    json.dump(api_token, file)\n",
        "\n",
        "!chmod 600 ~/.kaggle/kaggle.json"
      ],
      "id": "KAceEWk4365q"
    },
    {
      "cell_type": "code",
      "execution_count": null,
      "metadata": {
        "id": "Mpc5Uyyt3_Ec"
      },
      "outputs": [],
      "source": [
        "!kaggle datasets download -d begnini/captcha2"
      ],
      "id": "Mpc5Uyyt3_Ec"
    },
    {
      "cell_type": "code",
      "execution_count": null,
      "metadata": {
        "id": "CJiwPy0L3_Cj"
      },
      "outputs": [],
      "source": [
        "!unzip captcha2.zip -d /content/captcha2/"
      ],
      "id": "CJiwPy0L3_Cj"
    },
    {
      "cell_type": "code",
      "execution_count": null,
      "metadata": {
        "id": "25128088-cf4c-4faa-8828-096fc6cbd0fa"
      },
      "outputs": [],
      "source": [
        "path = 'captcha2'\n",
        "\n",
        "folder_list = ['cadesp', 'lattes', 'nfe', 'nfesjppr', 'pje', 'rfb', 'rsc', 'sefazsp', 'sintegrarj', 'tjrs', 'trt3']"
      ],
      "id": "25128088-cf4c-4faa-8828-096fc6cbd0fa"
    },
    {
      "cell_type": "markdown",
      "metadata": {
        "id": "8251ffc8-33d7-4598-a6a8-aa5ee980711b"
      },
      "source": [
        "----\n",
        "**Initial SetUp:**\n",
        "\n",
        "Utility Functions and Classes:\n",
        "\n",
        "We define CaptchaLibrary as an empty class that will hold all our Captcha class objects.\n",
        "\n",
        "The each Captcha class will contain the images and targets that we will use for training and testing."
      ],
      "id": "8251ffc8-33d7-4598-a6a8-aa5ee980711b"
    },
    {
      "cell_type": "code",
      "execution_count": null,
      "metadata": {
        "id": "7992fa22-7ae9-477f-8baf-2ad14060c83e"
      },
      "outputs": [],
      "source": [
        "class CaptchaLibrary:\n",
        "    pass\n",
        "\n",
        "class Captcha:\n",
        "    def __init__(self, image_list, target_list):\n",
        "        self.images = image_list\n",
        "        self.targets = target_list\n",
        "\n",
        "def GetImages(folder_path, limit = 0):\n",
        "    \"\"\"\"\"\"\"\"\"\n",
        "    This function will return a list containing the first pictures up to a certain 'limit', from the specified folder path.\n",
        "    If the limit is 0 it will append all pictures from the folder. \n",
        "    \"\"\"\"\"\"\"\"\"\n",
        "    count = 0\n",
        "    \n",
        "    image_list = []\n",
        "    \n",
        "    for filename in glob.glob('/content/' + path + '/' + folder_path + '/*.*'):\n",
        "        image=cv.imread(filename)\n",
        "        image_list.append(image)\n",
        "        print(filename)\n",
        "        if limit > 0:\n",
        "            count += 1\n",
        "            if count >= limit:\n",
        "                break\n",
        "    \n",
        "    return image_list\n",
        "\n",
        "def GetTargets(folder_path, limit):\n",
        "    \"\"\"\"\"\"\"\"\"\n",
        "    This function will return a list containing the first filenames (i.e the targets) up to a certain 'limit', from the specified folder path.\n",
        "    If limit is 0 it will append all the filenames from the folder.\n",
        "    \"\"\"\"\"\"\"\"\"\n",
        "    \n",
        "    count = 0\n",
        "    \n",
        "    target_list = []\n",
        "    \n",
        "    for filename in glob.glob('/content/' + path + '/' + folder_path + '/*.*'):\n",
        "        target_list.append(filename)\n",
        "        print(filename)\n",
        "        if limit > 0:\n",
        "            count += 1\n",
        "            if count >= limit:\n",
        "                break\n",
        "    \n",
        "    target_list = list(map(lambda x: x.split('\\\\')[1].split('.')[0], target_list))\n",
        "    \n",
        "    return target_list"
      ],
      "id": "7992fa22-7ae9-477f-8baf-2ad14060c83e"
    },
    {
      "cell_type": "code",
      "source": [
        "!pwd"
      ],
      "metadata": {
        "colab": {
          "base_uri": "https://localhost:8080/"
        },
        "id": "qy1FINokS6Pz",
        "outputId": "f1183332-722c-4ae8-ac5f-4b901a073691"
      },
      "id": "qy1FINokS6Pz",
      "execution_count": null,
      "outputs": [
        {
          "output_type": "stream",
          "name": "stdout",
          "text": [
            "/content\n"
          ]
        }
      ]
    },
    {
      "cell_type": "code",
      "source": [
        "[file for file in glob.glob(f'/content/{path}/cadesp/*.*') if file.split('.')[-1] != 'png']"
      ],
      "metadata": {
        "id": "a9raQrzxS4nY"
      },
      "id": "a9raQrzxS4nY",
      "execution_count": null,
      "outputs": []
    },
    {
      "cell_type": "markdown",
      "metadata": {
        "id": "62b53ac9-7313-4f4f-ab49-99c84b718b25"
      },
      "source": [
        "Here we will dynamically create 'Captcha' variables by looping through the folders in the list above."
      ],
      "id": "62b53ac9-7313-4f4f-ab49-99c84b718b25"
    },
    {
      "cell_type": "code",
      "execution_count": null,
      "metadata": {
        "id": "a600612b-8062-4085-96ee-49c32136b469",
        "collapsed": true
      },
      "outputs": [],
      "source": [
        "library = CaptchaLibrary()\n",
        "\n",
        "for folder  in folder_list:\n",
        "    captchas = GetImages(folder, 0)\n",
        "    targets = GetTargets(folder, 0)\n",
        "    setattr(library, folder, Captcha(captchas, targets))"
      ],
      "id": "a600612b-8062-4085-96ee-49c32136b469"
    },
    {
      "cell_type": "code",
      "execution_count": null,
      "metadata": {
        "id": "c01d6f5e-fa9d-46c5-9692-b3d3b85642b2"
      },
      "outputs": [],
      "source": [
        "plt.figure()\n",
        "\n",
        "fig, axes = plt.subplots(3, 4, figsize = (16, 8))\n",
        "\n",
        "library_variables = [library.cadesp, library.lattes, library.nfe,\n",
        "                    library.nfesjppr, library.pje, library.rfb, library.rsc,\n",
        "                    library.sefazsp, library.sintegrarj, library.tjrs, library.trt3]\n",
        "\n",
        "for i, lib in enumerate(library_variables):\n",
        "    plt.subplot(3, 4, i + 1)\n",
        "    \n",
        "    example_image = lib.images[0]\n",
        "    \n",
        "    plt.imshow(cv.cvtColor(example_image, cv.COLOR_BGR2RGB))\n",
        "    plt.title(f'{folder_list[i]}: {np.asarray(example_image).shape}')\n",
        "    plt.tick_params(labelleft = False, labelbottom = False)\n",
        "\n",
        "fig.delaxes(axes.flatten()[11])\n",
        "\n",
        "plt.show()"
      ],
      "id": "c01d6f5e-fa9d-46c5-9692-b3d3b85642b2"
    },
    {
      "cell_type": "markdown",
      "metadata": {
        "id": "6150d7a2-cc26-48ce-9b62-7d98be5b6b1f"
      },
      "source": [
        "------\n",
        "**Image Preprocessing**\n",
        "\n",
        "Before we test out any initial models, it is important that we first clean up the images by following some of the steps we will show here:"
      ],
      "id": "6150d7a2-cc26-48ce-9b62-7d98be5b6b1f"
    },
    {
      "cell_type": "code",
      "execution_count": null,
      "metadata": {
        "id": "3df786d8-9147-4b8c-9314-8a448feb5d85",
        "colab": {
          "base_uri": "https://localhost:8080/",
          "height": 287
        },
        "outputId": "25be38e5-fc3b-448b-a959-4e3e26819271"
      },
      "outputs": [
        {
          "output_type": "stream",
          "name": "stdout",
          "text": [
            "This Image has Dimensions: (2888, 2250, 3).\n"
          ]
        },
        {
          "output_type": "display_data",
          "data": {
            "text/plain": [
              "<Figure size 432x288 with 1 Axes>"
            ],
            "image/png": "[encoded data removed]"
          },
          "metadata": {
            "needs_background": "light"
          }
        }
      ],
      "source": [
        "image = cv.imread('test.jpg')\n",
        "image_copy = image.copy()\n",
        "\n",
        "plt.imshow(cv.cvtColor(image, cv.COLOR_BGR2RGB))\n",
        "print(f'This Image has Dimensions: {image.shape}.')"
      ],
      "id": "3df786d8-9147-4b8c-9314-8a448feb5d85"
    },
    {
      "cell_type": "markdown",
      "metadata": {
        "id": "8b6e3e2d-72e2-413c-b6d5-5fcc02faeb90"
      },
      "source": [
        "As we can see this Captcha is an image in RGB format. As color will not play such an important role in determining each character we will start by changing the image to grayscale. This will also have the benefit of decreasing our run time by reducing the number of dimensions."
      ],
      "id": "8b6e3e2d-72e2-413c-b6d5-5fcc02faeb90"
    },
    {
      "cell_type": "code",
      "execution_count": null,
      "metadata": {
        "id": "619a31b1-68bd-4e32-9b76-c12443797816",
        "colab": {
          "base_uri": "https://localhost:8080/",
          "height": 287
        },
        "outputId": "0e53a107-5167-4695-85a9-c4aabdefdacb"
      },
      "outputs": [
        {
          "output_type": "execute_result",
          "data": {
            "text/plain": [
              "<matplotlib.image.AxesImage at 0x7f94bdaaa050>"
            ]
          },
          "metadata": {},
          "execution_count": 23
        },
        {
          "output_type": "display_data",
          "data": {
            "text/plain": [
              "<Figure size 432x288 with 1 Axes>"
            ],
            "image/png": "[encoded data removed]"
          },
          "metadata": {
            "needs_background": "light"
          }
        }
      ],
      "source": [
        "image = cv.cvtColor(image, cv.COLOR_BGR2GRAY) #Change Image to Grayscale\n",
        "\n",
        "plt.imshow(cv.cvtColor(image, cv.COLOR_BGR2RGB))"
      ],
      "id": "619a31b1-68bd-4e32-9b76-c12443797816"
    },
    {
      "cell_type": "markdown",
      "metadata": {
        "id": "15610454-24f9-46fc-b62e-77361c3960e1"
      },
      "source": [
        "Some images use random noise, dots and segments to trick automated bots, something we can do to reduce this is apply some blur to the image and apply some thresholding."
      ],
      "id": "15610454-24f9-46fc-b62e-77361c3960e1"
    },
    {
      "cell_type": "code",
      "execution_count": null,
      "metadata": {
        "id": "15184f17-64ab-4a63-92e2-6a13d578fe4d",
        "colab": {
          "base_uri": "https://localhost:8080/",
          "height": 287
        },
        "outputId": "8c79742b-151c-4851-84dc-1932100f1310"
      },
      "outputs": [
        {
          "output_type": "execute_result",
          "data": {
            "text/plain": [
              "<matplotlib.image.AxesImage at 0x7f94bd580f50>"
            ]
          },
          "metadata": {},
          "execution_count": 24
        },
        {
          "output_type": "display_data",
          "data": {
            "text/plain": [
              "<Figure size 432x288 with 1 Axes>"
            ],
            "image/png": "[encoded data removed]"
          },
          "metadata": {
            "needs_background": "light"
          }
        }
      ],
      "source": [
        "image = cv.blur(image, (3,3))\n",
        "\n",
        "plt.imshow(cv.cvtColor(image, cv.COLOR_BGR2RGB))"
      ],
      "id": "15184f17-64ab-4a63-92e2-6a13d578fe4d"
    },
    {
      "cell_type": "markdown",
      "metadata": {
        "id": "920be5af-be19-4e59-8c1b-6e460c0e0ce6"
      },
      "source": [
        "With thresholding we can separate background from character. This is generally how we want an image to look before our final steps."
      ],
      "id": "920be5af-be19-4e59-8c1b-6e460c0e0ce6"
    },
    {
      "cell_type": "code",
      "execution_count": null,
      "metadata": {
        "id": "e0effb2d-0360-4cc9-859c-09cae0721df5",
        "colab": {
          "base_uri": "https://localhost:8080/",
          "height": 287
        },
        "outputId": "f8f6854c-5c32-4008-aaac-e42fb20032cc"
      },
      "outputs": [
        {
          "output_type": "execute_result",
          "data": {
            "text/plain": [
              "<matplotlib.image.AxesImage at 0x7f94bd59b650>"
            ]
          },
          "metadata": {},
          "execution_count": 25
        },
        {
          "output_type": "display_data",
          "data": {
            "text/plain": [
              "<Figure size 432x288 with 1 Axes>"
            ],
            "image/png": "[encoded data removed]"
          },
          "metadata": {
            "needs_background": "light"
          }
        }
      ],
      "source": [
        "_ , image = cv.threshold(image, 100, 255, cv.THRESH_BINARY_INV)\n",
        "\n",
        "plt.imshow(cv.cvtColor(image, cv.COLOR_BGR2RGB))"
      ],
      "id": "e0effb2d-0360-4cc9-859c-09cae0721df5"
    },
    {
      "cell_type": "markdown",
      "metadata": {
        "id": "9d7ad48a-fe24-43b0-b8b8-10e6773f8660"
      },
      "source": [
        "Finally we will use use cv2's findContours and boundingRect functions to get the contours of each character and 'draw' the smallest box around each contour."
      ],
      "id": "9d7ad48a-fe24-43b0-b8b8-10e6773f8660"
    },
    {
      "cell_type": "code",
      "execution_count": null,
      "metadata": {
        "id": "de6e6ae8-e97f-4c40-93be-761cb50d6cc4"
      },
      "outputs": [],
      "source": [
        "contours, hier = cv.findContours(image, cv.RETR_CCOMP, cv.CHAIN_APPROX_SIMPLE)\n",
        "\n",
        "contours_poly = list(range(len(contours)))"
      ],
      "id": "de6e6ae8-e97f-4c40-93be-761cb50d6cc4"
    },
    {
      "cell_type": "code",
      "execution_count": null,
      "metadata": {
        "id": "0702c4af-cb5e-4534-ae51-d1b749d99795",
        "colab": {
          "base_uri": "https://localhost:8080/",
          "height": 287
        },
        "outputId": "67d06e51-d154-4bf4-851b-4fbf76b6f2c4"
      },
      "outputs": [
        {
          "output_type": "execute_result",
          "data": {
            "text/plain": [
              "<matplotlib.image.AxesImage at 0x7f94bd501950>"
            ]
          },
          "metadata": {},
          "execution_count": 27
        },
        {
          "output_type": "display_data",
          "data": {
            "text/plain": [
              "<Figure size 432x288 with 1 Axes>"
            ],
            "image/png": "[encoded data removed]"
          },
          "metadata": {
            "needs_background": "light"
          }
        }
      ],
      "source": [
        "boundRect = []\n",
        "\n",
        "for i, c in enumerate(contours):\n",
        "\n",
        "    if hier[0][i][3] == -1:\n",
        "        contours_poly[i] = cv.approxPolyDP(c, 3, True)\n",
        "        boundRect.append(cv.boundingRect(contours_poly[i]))\n",
        "\n",
        "# For Visualization\n",
        "for i in range(len(boundRect)):\n",
        "    color = (0, 255, 0)\n",
        "    cv.rectangle(image_copy, (int(boundRect[i][0]), int(boundRect[i][1])), \n",
        "              (int(boundRect[i][0] + boundRect[i][2]), int(boundRect[i][1] + boundRect[i][3])), color, 1)\n",
        "    \n",
        "plt.imshow(cv.cvtColor(image_copy, cv.COLOR_BGR2RGB))"
      ],
      "id": "0702c4af-cb5e-4534-ae51-d1b749d99795"
    },
    {
      "cell_type": "markdown",
      "metadata": {
        "id": "9980be5d-a22a-4648-bfae-e53222baf0e4"
      },
      "source": [
        "Other techniques we can use are dilation to eliminate any thin obstructions in a CAPTCHA."
      ],
      "id": "9980be5d-a22a-4648-bfae-e53222baf0e4"
    },
    {
      "cell_type": "code",
      "execution_count": null,
      "metadata": {
        "id": "10c37d8a-ceec-4b3c-a538-a4693cf6f273",
        "colab": {
          "base_uri": "https://localhost:8080/",
          "height": 287
        },
        "outputId": "dbb64915-998d-4886-c646-cdd9a335b347"
      },
      "outputs": [
        {
          "output_type": "stream",
          "name": "stdout",
          "text": [
            "This Image has Dimensions: (2888, 2250).\n"
          ]
        },
        {
          "output_type": "display_data",
          "data": {
            "text/plain": [
              "<Figure size 432x288 with 1 Axes>"
            ],
            "image/png": "[encoded data removed]"
          },
          "metadata": {
            "needs_background": "light"
          }
        }
      ],
      "source": [
        "image_to_dilate = image\n",
        "\n",
        "#We use 2x2 because we only want to remove the thinnest segments,\n",
        "#anything higher or a higher number ot iterations and we risk erasing a character.\n",
        "kernel = np.ones((2,2),np.uint8)\n",
        "\n",
        "dilated_image =cv.dilate(image_to_dilate ,kernel ,iterations=2)\n",
        "\n",
        "plt.imshow(cv.cvtColor(image_to_dilate, cv.COLOR_BGR2RGB))\n",
        "\n",
        "print(f'This Image has Dimensions: {image.shape}.')"
      ],
      "id": "10c37d8a-ceec-4b3c-a538-a4693cf6f273"
    },
    {
      "cell_type": "code",
      "execution_count": null,
      "metadata": {
        "id": "18c035d1-4e0f-40c1-9b6c-618b9491a45f",
        "colab": {
          "base_uri": "https://localhost:8080/",
          "height": 287
        },
        "outputId": "0662b233-7fc8-4a57-df12-6f8419d0135c"
      },
      "outputs": [
        {
          "output_type": "stream",
          "name": "stdout",
          "text": [
            "This Image has Dimensions: (2888, 2250).\n"
          ]
        },
        {
          "output_type": "display_data",
          "data": {
            "text/plain": [
              "<Figure size 432x288 with 1 Axes>"
            ],
            "image/png": "[encoded data removed]"
          },
          "metadata": {
            "needs_background": "light"
          }
        }
      ],
      "source": [
        "plt.imshow(cv.cvtColor(dilated_image, cv.COLOR_BGR2RGB))\n",
        "\n",
        "print(f'This Image has Dimensions: {image.shape}.')"
      ],
      "id": "18c035d1-4e0f-40c1-9b6c-618b9491a45f"
    },
    {
      "cell_type": "markdown",
      "metadata": {
        "id": "064070a8-813b-4ffe-a80e-24cb99aa373b"
      },
      "source": [
        "Additionally the following functions will be used on cases where two characters overlap, and to account for the disjointed dot over i's and j's."
      ],
      "id": "064070a8-813b-4ffe-a80e-24cb99aa373b"
    },
    {
      "cell_type": "code",
      "execution_count": null,
      "metadata": {
        "id": "5ef51096-efd6-41ca-be83-9395123655ee"
      },
      "outputs": [],
      "source": [
        "def SeparateOverlappingLetters(bounds):\n",
        "    \"\"\"\"\"\"\"\"\"\n",
        "    This function's input is a list of rectangle bounds, it will split the same bounds with the largest one split in half.\n",
        "    \"\"\"\"\"\"\"\"\"\n",
        "    \n",
        "    #Each bound is defined a list with [X, Y, width, height] elements, we sort by height so the bound with the largest lenght.\n",
        "    bounds.sort(key = lambda x:x[2], reverse = True)\n",
        "\n",
        "    halved_height = int(bounds[0][2]/2)\n",
        "    \n",
        "    # Here we set the width of the largest box to be half of its original size\n",
        "    bounds[0] = bounds[0][:2] + (halved_height,) + bounds[0][3:] \n",
        "    \n",
        "    rect2_new_xcoordinate = int(bounds[0][0] + halved_height)\n",
        "    \n",
        "    # We make a new box, same dimensions as the first but with a new x-coordinate\n",
        "    new_rect = bounds[0]\n",
        "    \n",
        "    new_rect = (rect2_new_xcoordinate,) + bounds[0][1:]\n",
        "    \n",
        "    bounds.append(new_rect)\n",
        "\n",
        "    bounds.sort(key = lambda x:x[0]) # Sorts so they are in the correct sequence\n",
        "    \n",
        "    return bounds "
      ],
      "id": "5ef51096-efd6-41ca-be83-9395123655ee"
    },
    {
      "cell_type": "code",
      "execution_count": null,
      "metadata": {
        "id": "de9d3fcb-2f32-4be9-b8a2-7c50affe6fb1"
      },
      "outputs": [],
      "source": [
        "def JoinDisconnectedLetter(bounds):\n",
        "    \"\"\"\"\"\"\"\"\"\n",
        "    This function's input is a list of rectangle bounds, it will join the two boxes based on the shortest x-proximity.\n",
        "    \"\"\"\"\"\"\"\"\"\n",
        "    bounds.sort()\n",
        "    \n",
        "    minDiff = np.Infinity\n",
        "    \n",
        "    #We find the two boxes that are the closest to each other in terms of their x -coordinate\n",
        "    for i in range(1, len(bounds)):\n",
        "        minDiff = min(minDiff, np.abs(bounds[i][0] - bounds[i-1][0]))\n",
        "        \n",
        "    for j in range(1, len(bounds)):\n",
        "        if (bounds[j][0] - bounds[j-1][0]) <= minDiff:\n",
        "            closest_rect = [bounds[j],bounds[j-1]]\n",
        "    \n",
        "    #We will remove the original boxes and append a new larger one.\n",
        "    for k in closest_rect:\n",
        "        bounds.remove(k)\n",
        "    \n",
        "    newRect = (min(closest_rect[0][0],closest_rect[1][0]),\n",
        "               min(closest_rect[0][1],closest_rect[1][1]),\n",
        "               max(closest_rect[0][2],closest_rect[1][2]),\n",
        "               closest_rect[0][3] + closest_rect[1][3])\n",
        "    \n",
        "    bounds.append(newRect)\n",
        "    \n",
        "    bounds.sort(key = lambda x:x[0]) # Sorts so they are in the correct sequence\n",
        "        \n",
        "    return bounds"
      ],
      "id": "de9d3fcb-2f32-4be9-b8a2-7c50affe6fb1"
    },
    {
      "cell_type": "markdown",
      "metadata": {
        "id": "9584f4a1-a0a3-462f-978b-9b9c0f0102f0"
      },
      "source": [
        "We define a function that applies all the transformations, and another to crop and separate each character:"
      ],
      "id": "9584f4a1-a0a3-462f-978b-9b9c0f0102f0"
    },
    {
      "cell_type": "code",
      "execution_count": null,
      "metadata": {
        "id": "86e63e65-9910-4143-82e8-012677508e76"
      },
      "outputs": [],
      "source": [
        "def TransformImage(image, THRESHOLD = 150, APPLY_BLUR = False, APPLY_DILATION = False):\n",
        "    \"\"\"\"\"\"\"\"\"\n",
        "    This function takes as input an image, it will apply the following tranformations to it:\n",
        "    \n",
        "    Change Mode to Grayscale -> Blur (if True) -> Dilate (if True) -> Threshold with specified value\n",
        "    \n",
        "    It will also return the list of bounding rectangles of each character.\n",
        "    \"\"\"\"\"\"\"\"\"\n",
        "    #Initial Transforms\n",
        "    image = cv.cvtColor(image, cv.COLOR_BGR2GRAY) #Set to Grayscale\n",
        "    \n",
        "    if APPLY_BLUR == True:\n",
        "        image = cv.blur(image, (3,3))\n",
        "    \n",
        "    if APPLY_DILATION == True:\n",
        "        kernel = np.ones((2,2),np.uint8)\n",
        "        image =cv.dilate(image ,kernel,iterations = 1)\n",
        "    \n",
        "    _ , image = cv.threshold(image, THRESHOLD, 255, cv.THRESH_BINARY_INV) #Apply Thresholding\n",
        "    \n",
        "    #Finding Contours of each Character\n",
        "    contours, hier = cv.findContours(image, cv.RETR_CCOMP, cv.CHAIN_APPROX_SIMPLE)\n",
        "    \n",
        "    contours_poly = list(range(len(contours)))\n",
        "    \n",
        "    #Get Bounding Rectangles\n",
        "    boundRect = []\n",
        "    \n",
        "    for i, c in enumerate(contours):\n",
        "        if hier[0][i][3] == -1:\n",
        "            contours_poly[i] = cv.approxPolyDP(c, 3, True)\n",
        "            boundRect.append(cv.boundingRect(contours_poly[i]))\n",
        "            \n",
        "    boundRect.sort(key = lambda x:x[0]) # Sorts so they are in the correct sequence\n",
        "    \n",
        "    return (image, boundRect)"
      ],
      "id": "86e63e65-9910-4143-82e8-012677508e76"
    },
    {
      "cell_type": "code",
      "execution_count": null,
      "metadata": {
        "id": "cc160d08-598d-4207-b795-b1e7fb94c602"
      },
      "outputs": [],
      "source": [
        "def SplitImage(image, bounds):    \n",
        "    \"\"\"\"\"\"\"\"\"\n",
        "    Takes an image and rectangle bounds as input. It will then crop the image by using each character's\n",
        "    corresponding bounds and return them in a list.\n",
        "    \"\"\"\"\"\"\"\"\"\n",
        "    cropped_image_list = []\n",
        "    for i in range(len(bounds)):\n",
        "        x, y, w, h = bounds[i]\n",
        "    \n",
        "        cropped_image = image[y:y + h, x:x + w]\n",
        "        cropped_image_list.append(cropped_image)\n",
        "\n",
        "    return cropped_image_list"
      ],
      "id": "cc160d08-598d-4207-b795-b1e7fb94c602"
    },
    {
      "cell_type": "code",
      "execution_count": null,
      "metadata": {
        "id": "d9fde291-c0f2-49d3-876e-26635897dcbd"
      },
      "outputs": [],
      "source": [
        "def LoadSample(image_list, label_list, X, y, THRESHOLD = 150, APPLY_BLUR = False, APPLY_DILATION = False):\n",
        "    \n",
        "    \"\"\"\"\"\"\"\"\"\"\"\n",
        "    It will apply the transformations on all the images in a list, split them into separate letter and append each\n",
        "    letter and its label to X and y.\n",
        "    \n",
        "    It will also decide whether to apply the functions to Separate overlaps or combine disjoints if the number of labels does\n",
        "    not match the number of cropped images in a captcha.\n",
        "    \"\"\"\"\"\"\"\"\"\"\"\n",
        "    \n",
        "    for i in range(len(image_list)):\n",
        "        \n",
        "        transformed_image, rect_bounds = TransformImage(image_list[i], THRESHOLD, APPLY_BLUR, APPLY_DILATION)\n",
        "        \n",
        "        target_seq = label_list[i]\n",
        "        \n",
        "        if len(rect_bounds) == len(target_seq):\n",
        "            image_splits = SplitImage(transformed_image, rect_bounds)\n",
        "            \n",
        "            if len(image_splits) == (len(target_seq)):\n",
        "                for j in range(len(image_splits)):\n",
        "                    X.append(image_splits[j])\n",
        "                    y.append(target_seq[j])\n",
        "            else:\n",
        "                print('Cannot Load :',  i)\n",
        "                \n",
        "        elif len(rect_bounds) < len(target_seq):\n",
        "            while len(rect_bounds) < (len(target_seq)):\n",
        "                rect_bounds = SeparateOverlappingLetters(rect_bounds)\n",
        "                \n",
        "            image_splits = SplitImage(transformed_image, rect_bounds)\n",
        "            \n",
        "            if len(image_splits) == (len(target_seq)):\n",
        "                for k in range(len(image_splits)):\n",
        "                    X.append(image_splits[k])\n",
        "                    y.append(target_seq[k])\n",
        "            else:\n",
        "                print('Cannot Load :',  i)\n",
        "        \n",
        "        elif len(rect_bounds) > (len(target_seq)):\n",
        "            while len(rect_bounds) > (len(target_seq)):\n",
        "                rect_bounds = JoinDisconnectedLetter(rect_bounds)\n",
        "                \n",
        "            image_splits = SplitImage(transformed_image, rect_bounds)\n",
        "            \n",
        "            if len(image_splits) == (len(target_seq)):\n",
        "                for k in range(len(image_splits)):\n",
        "                    X.append(image_splits[k])\n",
        "                    y.append(target_seq[k])\n",
        "            else:\n",
        "                print('Cannot Load :',  i)"
      ],
      "id": "d9fde291-c0f2-49d3-876e-26635897dcbd"
    },
    {
      "cell_type": "markdown",
      "metadata": {
        "id": "2e2d3245-39cb-4cef-a32a-30df71e533b1"
      },
      "source": [
        "Please note that these steps are not perfect and there are cases where findcontours detects other pixels that were not properly removed after we threshold (We will see this later on). These are some of the steps that work on some of the Captchas."
      ],
      "id": "2e2d3245-39cb-4cef-a32a-30df71e533b1"
    },
    {
      "cell_type": "code",
      "execution_count": null,
      "metadata": {
        "id": "dd89dafd-3700-48b2-a00f-62c6f8968c31"
      },
      "outputs": [],
      "source": [
        "#library rsc        :: THRESHOLD=180 , APPLY_BLUR=False , APPLY_DILATION = False\n",
        "#library nfesjppr   :: THRESHOLD=100 , APPLY_BLUR=True , APPLY_DILATION = False\n",
        "#library sintegrarj :: THRESHOLD=180 , APPLY_BLUR=False , APPLY_DILATION = False\n",
        "#library cadesp     :: THRESHOLD=120 , APPLY_BLUR=True , APPLY_DILATION = False\n",
        "#library pje        :: THRESHOLD=160 , APPLY_BLUR=False , APPLY_DILATION = True\n",
        "#library sefazsp    :: THRESHOLD=140 , APPLY_BLUR=True  , APPLY_DILATION = False"
      ],
      "id": "dd89dafd-3700-48b2-a00f-62c6f8968c31"
    },
    {
      "cell_type": "code",
      "execution_count": null,
      "metadata": {
        "id": "fc8594b8-62f4-4313-8c6b-66f7281759db",
        "colab": {
          "base_uri": "https://localhost:8080/",
          "height": 287
        },
        "outputId": "a22df4ac-3a9d-45ef-d227-6ca6b09bea24"
      },
      "outputs": [
        {
          "output_type": "execute_result",
          "data": {
            "text/plain": [
              "<matplotlib.image.AxesImage at 0x7f94bd3885d0>"
            ]
          },
          "metadata": {},
          "execution_count": 36
        },
        {
          "output_type": "display_data",
          "data": {
            "text/plain": [
              "<Figure size 432x288 with 1 Axes>"
            ],
            "image/png": "[encoded data removed]"
          },
          "metadata": {
            "needs_background": "light"
          }
        }
      ],
      "source": [
        "image = image\n",
        "plt.imshow(cv.cvtColor(image, cv.COLOR_BGR2RGB))"
      ],
      "id": "fc8594b8-62f4-4313-8c6b-66f7281759db"
    },
    {
      "cell_type": "code",
      "execution_count": null,
      "metadata": {
        "id": "f460e546-dcf8-4153-af1b-040a5a302db8",
        "colab": {
          "base_uri": "https://localhost:8080/",
          "height": 514
        },
        "outputId": "0c483cfd-5369-4643-9634-ce574e5221ad"
      },
      "outputs": [
        {
          "output_type": "error",
          "ename": "error",
          "evalue": "ignored",
          "traceback": [
            "\u001b[0;31m---------------------------------------------------------------------------\u001b[0m",
            "\u001b[0;31merror\u001b[0m                                     Traceback (most recent call last)",
            "\u001b[0;32m<ipython-input-37-fffc1936a2e4>\u001b[0m in \u001b[0;36m<module>\u001b[0;34m()\u001b[0m\n\u001b[1;32m      9\u001b[0m \u001b[0mimg_train\u001b[0m\u001b[0;34m,\u001b[0m \u001b[0mimg_test\u001b[0m\u001b[0;34m,\u001b[0m \u001b[0mlab_train\u001b[0m\u001b[0;34m,\u001b[0m \u001b[0mlab_test\u001b[0m \u001b[0;34m=\u001b[0m \u001b[0mtrain_test_split\u001b[0m\u001b[0;34m(\u001b[0m\u001b[0mimage\u001b[0m\u001b[0;34m,\u001b[0m \u001b[0mimage\u001b[0m\u001b[0;34m,\u001b[0m \u001b[0mtest_size\u001b[0m \u001b[0;34m=\u001b[0m \u001b[0;36m0.3\u001b[0m\u001b[0;34m)\u001b[0m\u001b[0;34m\u001b[0m\u001b[0;34m\u001b[0m\u001b[0m\n\u001b[1;32m     10\u001b[0m \u001b[0;34m\u001b[0m\u001b[0m\n\u001b[0;32m---> 11\u001b[0;31m \u001b[0mLoadSample\u001b[0m\u001b[0;34m(\u001b[0m\u001b[0mimg_train\u001b[0m\u001b[0;34m,\u001b[0m \u001b[0mlab_train\u001b[0m\u001b[0;34m,\u001b[0m \u001b[0mX_sample\u001b[0m\u001b[0;34m,\u001b[0m \u001b[0my_sample\u001b[0m\u001b[0;34m,\u001b[0m \u001b[0mTHRESHOLD\u001b[0m \u001b[0;34m=\u001b[0m \u001b[0mthreshold\u001b[0m\u001b[0;34m,\u001b[0m \u001b[0mAPPLY_BLUR\u001b[0m \u001b[0;34m=\u001b[0m \u001b[0mblur\u001b[0m\u001b[0;34m,\u001b[0m \u001b[0mAPPLY_DILATION\u001b[0m \u001b[0;34m=\u001b[0m \u001b[0mdilate\u001b[0m\u001b[0;34m)\u001b[0m\u001b[0;34m\u001b[0m\u001b[0;34m\u001b[0m\u001b[0m\n\u001b[0m",
            "\u001b[0;32m<ipython-input-34-e5f7ba79413d>\u001b[0m in \u001b[0;36mLoadSample\u001b[0;34m(image_list, label_list, X, y, THRESHOLD, APPLY_BLUR, APPLY_DILATION)\u001b[0m\n\u001b[1;32m     11\u001b[0m     \u001b[0;32mfor\u001b[0m \u001b[0mi\u001b[0m \u001b[0;32min\u001b[0m \u001b[0mrange\u001b[0m\u001b[0;34m(\u001b[0m\u001b[0mlen\u001b[0m\u001b[0;34m(\u001b[0m\u001b[0mimage_list\u001b[0m\u001b[0;34m)\u001b[0m\u001b[0;34m)\u001b[0m\u001b[0;34m:\u001b[0m\u001b[0;34m\u001b[0m\u001b[0;34m\u001b[0m\u001b[0m\n\u001b[1;32m     12\u001b[0m \u001b[0;34m\u001b[0m\u001b[0m\n\u001b[0;32m---> 13\u001b[0;31m         \u001b[0mtransformed_image\u001b[0m\u001b[0;34m,\u001b[0m \u001b[0mrect_bounds\u001b[0m \u001b[0;34m=\u001b[0m \u001b[0mTransformImage\u001b[0m\u001b[0;34m(\u001b[0m\u001b[0mimage_list\u001b[0m\u001b[0;34m[\u001b[0m\u001b[0mi\u001b[0m\u001b[0;34m]\u001b[0m\u001b[0;34m,\u001b[0m \u001b[0mTHRESHOLD\u001b[0m\u001b[0;34m,\u001b[0m \u001b[0mAPPLY_BLUR\u001b[0m\u001b[0;34m,\u001b[0m \u001b[0mAPPLY_DILATION\u001b[0m\u001b[0;34m)\u001b[0m\u001b[0;34m\u001b[0m\u001b[0;34m\u001b[0m\u001b[0m\n\u001b[0m\u001b[1;32m     14\u001b[0m \u001b[0;34m\u001b[0m\u001b[0m\n\u001b[1;32m     15\u001b[0m         \u001b[0mtarget_seq\u001b[0m \u001b[0;34m=\u001b[0m \u001b[0mlabel_list\u001b[0m\u001b[0;34m[\u001b[0m\u001b[0mi\u001b[0m\u001b[0;34m]\u001b[0m\u001b[0;34m\u001b[0m\u001b[0;34m\u001b[0m\u001b[0m\n",
            "\u001b[0;32m<ipython-input-32-23dfa00c8317>\u001b[0m in \u001b[0;36mTransformImage\u001b[0;34m(image, THRESHOLD, APPLY_BLUR, APPLY_DILATION)\u001b[0m\n\u001b[1;32m      8\u001b[0m     \"\"\"\"\"\"\"\"\"\n\u001b[1;32m      9\u001b[0m     \u001b[0;31m#Initial Transforms\u001b[0m\u001b[0;34m\u001b[0m\u001b[0;34m\u001b[0m\u001b[0;34m\u001b[0m\u001b[0m\n\u001b[0;32m---> 10\u001b[0;31m     \u001b[0mimage\u001b[0m \u001b[0;34m=\u001b[0m \u001b[0mcv\u001b[0m\u001b[0;34m.\u001b[0m\u001b[0mcvtColor\u001b[0m\u001b[0;34m(\u001b[0m\u001b[0mimage\u001b[0m\u001b[0;34m,\u001b[0m \u001b[0mcv\u001b[0m\u001b[0;34m.\u001b[0m\u001b[0mCOLOR_BGR2GRAY\u001b[0m\u001b[0;34m)\u001b[0m \u001b[0;31m#Set to Grayscale\u001b[0m\u001b[0;34m\u001b[0m\u001b[0;34m\u001b[0m\u001b[0m\n\u001b[0m\u001b[1;32m     11\u001b[0m \u001b[0;34m\u001b[0m\u001b[0m\n\u001b[1;32m     12\u001b[0m     \u001b[0;32mif\u001b[0m \u001b[0mAPPLY_BLUR\u001b[0m \u001b[0;34m==\u001b[0m \u001b[0;32mTrue\u001b[0m\u001b[0;34m:\u001b[0m\u001b[0;34m\u001b[0m\u001b[0;34m\u001b[0m\u001b[0m\n",
            "\u001b[0;31merror\u001b[0m: OpenCV(4.6.0) /io/opencv/modules/imgproc/src/color.simd_helpers.hpp:92: error: (-2:Unspecified error) in function 'cv::impl::{anonymous}::CvtHelper<VScn, VDcn, VDepth, sizePolicy>::CvtHelper(cv::InputArray, cv::OutputArray, int) [with VScn = cv::impl::{anonymous}::Set<3, 4>; VDcn = cv::impl::{anonymous}::Set<1>; VDepth = cv::impl::{anonymous}::Set<0, 2, 5>; cv::impl::{anonymous}::SizePolicy sizePolicy = cv::impl::<unnamed>::NONE; cv::InputArray = const cv::_InputArray&; cv::OutputArray = const cv::_OutputArray&]'\n> Invalid number of channels in input image:\n>     'VScn::contains(scn)'\n> where\n>     'scn' is 1\n"
          ]
        }
      ],
      "source": [
        "library_test = image\n",
        "threshold = 180\n",
        "blur = False\n",
        "dilate = False\n",
        "\n",
        "X_sample = []\n",
        "y_sample = []\n",
        "\n",
        "img_train, img_test, lab_train, lab_test = train_test_split(image, image, test_size = 0.3)\n",
        "\n",
        "LoadSample(img_train, lab_train, X_sample, y_sample, THRESHOLD = threshold, APPLY_BLUR = blur, APPLY_DILATION = dilate)"
      ],
      "id": "f460e546-dcf8-4153-af1b-040a5a302db8"
    },
    {
      "cell_type": "code",
      "execution_count": null,
      "metadata": {
        "id": "f841b82a-a11e-4b52-9778-32bab36a1d1c"
      },
      "outputs": [],
      "source": [
        "items, counts = np.unique(y_sample, return_counts = True)\n",
        "\n",
        "plt.figure(figsize = (16, 6))\n",
        "\n",
        "plt.bar(items, counts)\n",
        "plt.title('Class Distribution')\n",
        "\n",
        "plt.show()"
      ],
      "id": "f841b82a-a11e-4b52-9778-32bab36a1d1c"
    },
    {
      "cell_type": "code",
      "execution_count": null,
      "metadata": {
        "id": "29cb1b72-a1e9-447d-90ba-690de5bace28"
      },
      "outputs": [],
      "source": [
        "if (len(X_sample) == len(y_sample)):\n",
        "    print(f'We are ready to train the model! There are {len(X_sample)} total samples we can use to train on.')\n",
        "else:\n",
        "    print(f'Oops, something muct be wrong: the number of cropped letters does not match the number of labels.')\n",
        "    print(f'X: {len(X_sample)}, y: {y_sample}')"
      ],
      "id": "29cb1b72-a1e9-447d-90ba-690de5bace28"
    },
    {
      "cell_type": "markdown",
      "metadata": {
        "id": "fdf0380c-452c-4738-8e14-3305e985615d"
      },
      "source": [
        "Not all cropped letters are of the same dimensions after being cropped. So we will reshape them for the model."
      ],
      "id": "fdf0380c-452c-4738-8e14-3305e985615d"
    },
    {
      "cell_type": "code",
      "execution_count": null,
      "metadata": {
        "id": "fc4053a4-3d3a-49d9-9efa-664d2ff3a9c0"
      },
      "outputs": [],
      "source": [
        "def Reshape_Transform(image, dim = (12, 12)):\n",
        "    \n",
        "    \"\"\"\"\"\"\"\"\"\n",
        "    Reshapes an image into a specified dimension.\n",
        "    \n",
        "    Because stretching might make some parts of a character lighter, we will apply threshold again.\n",
        "    \"\"\"\"\"\"\"\"\"\n",
        "    \n",
        "    resized_image = cv.resize(image, dim, interpolation = cv.INTER_AREA)\n",
        "    \n",
        "    resized_image = cv.bitwise_not(resized_image)\n",
        "    \n",
        "    _ , resized_image = cv.threshold(resized_image, 180, 255, cv.THRESH_BINARY_INV)\n",
        "    \n",
        "    return resized_image"
      ],
      "id": "fc4053a4-3d3a-49d9-9efa-664d2ff3a9c0"
    },
    {
      "cell_type": "code",
      "execution_count": null,
      "metadata": {
        "id": "53306a3b-3d9f-41da-a80d-1700f701b587"
      },
      "outputs": [],
      "source": [
        "for i in range(len(X_sample)):\n",
        "    X_sample[i] = Reshape_Transform(X_sample[i], dim = (20, 20))"
      ],
      "id": "53306a3b-3d9f-41da-a80d-1700f701b587"
    },
    {
      "cell_type": "markdown",
      "metadata": {
        "id": "773d3432-3af4-460e-b151-dce8f62762ba"
      },
      "source": [
        "Sanity check:"
      ],
      "id": "773d3432-3af4-460e-b151-dce8f62762ba"
    },
    {
      "cell_type": "code",
      "execution_count": null,
      "metadata": {
        "id": "fda142e1-2de3-435e-811c-16cddf7531ef"
      },
      "outputs": [],
      "source": [
        "fig, axes = plt.subplots(2, 5, figsize = (10, 5))\n",
        "\n",
        "plot_index = 0\n",
        "\n",
        "for i in [random.randrange(len(X_sample)) for i in range(10)]:\n",
        "    plot_index += 1\n",
        "    plt.subplot(2, 5, plot_index)\n",
        "    plt.imshow(X_sample[i], cmap=\"gray_r\")\n",
        "    plt.title(f'Train: {y_sample[i]}')\n",
        "    \n",
        "    plt.tick_params(left = False, labelleft = False,\n",
        "                labelbottom = False, bottom = False)\n",
        "    \n",
        "plt.show()"
      ],
      "id": "fda142e1-2de3-435e-811c-16cddf7531ef"
    },
    {
      "cell_type": "markdown",
      "metadata": {
        "id": "7c384a8d-0dac-49d1-b7cc-32b959b70800"
      },
      "source": [
        "We finish our preprocessing by flattening our image and scaling all the values so they are either 0 or 1:"
      ],
      "id": "7c384a8d-0dac-49d1-b7cc-32b959b70800"
    },
    {
      "cell_type": "code",
      "execution_count": null,
      "metadata": {
        "id": "c43fe8dc-e005-40ec-bbf6-d5477ac479d2"
      },
      "outputs": [],
      "source": [
        "X_sample = np.asarray(X_sample)\n",
        "\n",
        "X_sample = X_sample.reshape(X_sample.shape[0], X_sample[0].shape[0] * X_sample[0].shape[1])\n",
        "\n",
        "X_sample = X_sample/255"
      ],
      "id": "c43fe8dc-e005-40ec-bbf6-d5477ac479d2"
    },
    {
      "cell_type": "markdown",
      "metadata": {
        "id": "813240cf-229d-402a-93cb-ba7b2d23a988"
      },
      "source": [
        "**Predicting Using Logistic Regression**"
      ],
      "id": "813240cf-229d-402a-93cb-ba7b2d23a988"
    },
    {
      "cell_type": "code",
      "execution_count": null,
      "metadata": {
        "id": "5717a203-235e-44bc-96a6-3715328b8ed9"
      },
      "outputs": [],
      "source": [
        "X_train, X_val, y_train, y_val = train_test_split(X_sample, y_sample, test_size = 0.3, stratify = y_sample)\n",
        "\n",
        "logreg = LogisticRegression()\n",
        "\n",
        "logreg.fit(X_train, y_train)"
      ],
      "id": "5717a203-235e-44bc-96a6-3715328b8ed9"
    },
    {
      "cell_type": "code",
      "execution_count": null,
      "metadata": {
        "id": "ba88770b-af2c-42fb-b891-afa10c7abc91"
      },
      "outputs": [],
      "source": [
        "train_prediction = logreg.predict(X_train)\n",
        "val_prediction = logreg.predict(X_val)\n",
        "\n",
        "train_accuracy = accuracy_score(train_prediction, y_train)\n",
        "val_accuracy = accuracy_score(val_prediction, y_val)\n",
        "\n",
        "print(f\"Training set accuracy score: {train_accuracy}\")\n",
        "print(f\"Val set accuracy score: {val_accuracy}\")"
      ],
      "id": "ba88770b-af2c-42fb-b891-afa10c7abc91"
    },
    {
      "cell_type": "code",
      "execution_count": null,
      "metadata": {
        "id": "1d9beefd-9f2d-44ab-a913-bc4fefd40836"
      },
      "outputs": [],
      "source": [
        "coefs = logreg.coef_.reshape(-1, 20, 20)"
      ],
      "id": "1d9beefd-9f2d-44ab-a913-bc4fefd40836"
    },
    {
      "cell_type": "code",
      "execution_count": null,
      "metadata": {
        "id": "80a688a7-ce52-4510-a35a-361def5f2db5"
      },
      "outputs": [],
      "source": [
        "plt.imshow(coefs[3], cmap=\"gray_r\")"
      ],
      "id": "80a688a7-ce52-4510-a35a-361def5f2db5"
    },
    {
      "cell_type": "code",
      "execution_count": null,
      "metadata": {
        "id": "193b8aae-e481-422b-97d6-b610d2946c9d"
      },
      "outputs": [],
      "source": [
        "def PrepareImage(image, n_outputs, THRESHOLD = 150, APPLY_BLUR = False, APPLY_DILATION = False):\n",
        "    '''''\n",
        "    Will apply the transformations and split the image according to the number of outputs.\n",
        "    '''''\n",
        "    transformed_image, rect_bounds = TransformImage(image, THRESHOLD, APPLY_BLUR, APPLY_DILATION)\n",
        "    \n",
        "    if len(rect_bounds) == n_outputs:\n",
        "        image_splits = SplitImage(transformed_image, rect_bounds)\n",
        "        \n",
        "        if len(image_splits) == n_outputs:\n",
        "            return image_splits\n",
        "            \n",
        "    elif len(rect_bounds) < n_outputs:\n",
        "        while len(rect_bounds) < n_outputs:\n",
        "            rect_bounds = SeparateOverlappingLetters(rect_bounds)\n",
        "            \n",
        "        image_splits = SplitImage(transformed_image, rect_bounds)\n",
        "        \n",
        "        if len(image_splits) == n_outputs:\n",
        "            return image_splits\n",
        "    \n",
        "    elif len(rect_bounds) > n_outputs:\n",
        "        while len(rect_bounds) > n_outputs:\n",
        "            rect_bounds = JoinDisconnectedLetter(rect_bounds)\n",
        "            \n",
        "        image_splits = SplitImage(transformed_image, rect_bounds)\n",
        "        \n",
        "        if len(image_splits) == n_outputs:\n",
        "            return image_splits"
      ],
      "id": "193b8aae-e481-422b-97d6-b610d2946c9d"
    },
    {
      "cell_type": "code",
      "execution_count": null,
      "metadata": {
        "id": "ec27d04c-3e05-43df-a15f-701f2c59b1c7"
      },
      "outputs": [],
      "source": [
        "def PredictFullCaptcha(image, n_outputs, model, THRESHOLD = 150, APPLY_BLUR = False, APPLY_DILATION = False, dim = (20, 20)):\n",
        "    '''''\n",
        "    Applies the transformations and provides a prediction based on the trained model.\n",
        "    '''''\n",
        "    img_copy = image.copy()\n",
        "    \n",
        "    char_list = PrepareImage(img_copy,  n_outputs, THRESHOLD, APPLY_BLUR, APPLY_DILATION)\n",
        "    \n",
        "    for i in range(len(char_list)):\n",
        "        char_list[i] = Reshape_Transform(char_list[i], dim = dim)\n",
        "        char_list[i] = char_list[i]/255\n",
        "    \n",
        "    char_list = np.asarray(char_list)\n",
        "    \n",
        "    char_list = char_list.reshape(char_list.shape[0], char_list[0].shape[0] * char_list[0].shape[1])\n",
        "    \n",
        "    test_predictions = []\n",
        "    \n",
        "    for img in char_list:\n",
        "        test_predictions.append(model.predict([img])[0])\n",
        "    \n",
        "    return test_predictions"
      ],
      "id": "ec27d04c-3e05-43df-a15f-701f2c59b1c7"
    },
    {
      "cell_type": "code",
      "execution_count": null,
      "metadata": {
        "id": "a3e33690-4b60-4ef1-a3f5-0ab918a017d5"
      },
      "outputs": [],
      "source": [
        "plt.imshow(cv.cvtColor(img_test[2], cv.COLOR_BGR2RGB))"
      ],
      "id": "a3e33690-4b60-4ef1-a3f5-0ab918a017d5"
    },
    {
      "cell_type": "code",
      "execution_count": null,
      "metadata": {
        "id": "dcba31eb-dd44-4629-85b0-d6e29e249350"
      },
      "outputs": [],
      "source": [
        "PredictFullCaptcha(img_test[2], 4, logreg, THRESHOLD=180)"
      ],
      "id": "dcba31eb-dd44-4629-85b0-d6e29e249350"
    },
    {
      "cell_type": "code",
      "execution_count": null,
      "metadata": {
        "id": "609ed60a-7888-45c7-9215-f51a1648dd73"
      },
      "outputs": [],
      "source": [
        "logreg_full_predictions = []\n",
        "for img in img_test:\n",
        "    logreg_full_predictions.append(''.join(PredictFullCaptcha(img, 4, logreg, THRESHOLD=180, APPLY_BLUR=False)))\n",
        "\n",
        "test_accuracy = accuracy_score(lab_test, logreg_full_predictions)\n",
        "\n",
        "print(f\"Test accuracy score: {test_accuracy}\")"
      ],
      "id": "609ed60a-7888-45c7-9215-f51a1648dd73"
    },
    {
      "cell_type": "markdown",
      "metadata": {
        "id": "3f4a7087-c672-4f75-a609-13aab7e8166a"
      },
      "source": [
        "**Decision Trees**"
      ],
      "id": "3f4a7087-c672-4f75-a609-13aab7e8166a"
    },
    {
      "cell_type": "code",
      "execution_count": null,
      "metadata": {
        "id": "b0e18716-f877-468f-8566-41a429e86cf8"
      },
      "outputs": [],
      "source": [
        "n_trees = range(1, 20)\n",
        "\n",
        "acc_train = []\n",
        "acc_val = []\n",
        "\n",
        "for i in n_trees:\n",
        "    dt = DecisionTreeClassifier(max_depth=i)\n",
        "    dt.fit(X_train, y_train)\n",
        "    \n",
        "    acc_train.append(dt.score(X_train, y_train))\n",
        "    acc_val.append(dt.score(X_val, y_val))"
      ],
      "id": "b0e18716-f877-468f-8566-41a429e86cf8"
    },
    {
      "cell_type": "code",
      "execution_count": null,
      "metadata": {
        "id": "f2a11441-0461-4d1d-914d-b45b906e52e5"
      },
      "outputs": [],
      "source": [
        "plt.figure()\n",
        "\n",
        "plt.scatter(x = n_trees, y = acc_train, color = 'r')\n",
        "plt.scatter(x = n_trees, y = acc_val, color = 'b')\n",
        "\n",
        "plt.title('Accuracy Score VS Number of Splits')\n",
        "plt.show()"
      ],
      "id": "f2a11441-0461-4d1d-914d-b45b906e52e5"
    },
    {
      "cell_type": "markdown",
      "metadata": {
        "id": "d92da9b7-4c08-41ba-afc2-fc840be95062"
      },
      "source": [
        "We get good accuracies after 10 splits."
      ],
      "id": "d92da9b7-4c08-41ba-afc2-fc840be95062"
    },
    {
      "cell_type": "code",
      "execution_count": null,
      "metadata": {
        "id": "a30ecadc-68d8-416a-971d-3e3ddc7ae620"
      },
      "outputs": [],
      "source": [
        "dt = DecisionTreeClassifier(max_depth=10)\n",
        "dt.fit(X_train, y_train)"
      ],
      "id": "a30ecadc-68d8-416a-971d-3e3ddc7ae620"
    },
    {
      "cell_type": "code",
      "execution_count": null,
      "metadata": {
        "id": "86319b83-4c77-4069-8559-7b03a3629e06"
      },
      "outputs": [],
      "source": [
        "val_prediction = dt.predict(X_val)\n",
        "\n",
        "val_accuracy = accuracy_score(val_prediction, y_val)\n",
        "\n",
        "print(f\"Validation set accuracy score: {val_accuracy}\")"
      ],
      "id": "86319b83-4c77-4069-8559-7b03a3629e06"
    },
    {
      "cell_type": "code",
      "execution_count": null,
      "metadata": {
        "id": "82fc5041-0d92-4989-a678-f9bc50552cd6"
      },
      "outputs": [],
      "source": [
        "dt_full_predictions = []\n",
        "for img in img_test:\n",
        "    dt_full_predictions.append(''.join(PredictFullCaptcha(img, 4, dt, THRESHOLD=180, APPLY_BLUR=False)))\n",
        "    \n",
        "test_accuracy = accuracy_score(lab_test, dt_full_predictions)\n",
        "\n",
        "print(f\"Test accuracy score: {test_accuracy}\")"
      ],
      "id": "82fc5041-0d92-4989-a678-f9bc50552cd6"
    },
    {
      "cell_type": "markdown",
      "metadata": {
        "id": "f3798881-5729-44cb-a40c-ffc85a574282"
      },
      "source": [
        "**Random Forest**"
      ],
      "id": "f3798881-5729-44cb-a40c-ffc85a574282"
    },
    {
      "cell_type": "code",
      "execution_count": null,
      "metadata": {
        "id": "44480f95-b06c-4deb-a7f7-c2dec328f588"
      },
      "outputs": [],
      "source": [
        "estimators = [('model', RandomForestClassifier())]\n",
        "\n",
        "param_grid = [{'model__n_estimators':range(2, 22, 2)}]\n",
        "\n",
        "pipe = Pipeline(estimators)\n",
        "grid = GridSearchCV(pipe, param_grid, cv=5)\n",
        "fittedgrid = grid.fit(X_sample, y_sample)\n",
        "fittedgrid.best_estimator_"
      ],
      "id": "44480f95-b06c-4deb-a7f7-c2dec328f588"
    },
    {
      "cell_type": "code",
      "execution_count": null,
      "metadata": {
        "id": "e2cc0060-d983-42b2-9cb0-3b24f0645991"
      },
      "outputs": [],
      "source": [
        "fittedgrid.cv_results_['mean_test_score']"
      ],
      "id": "e2cc0060-d983-42b2-9cb0-3b24f0645991"
    },
    {
      "cell_type": "code",
      "execution_count": null,
      "metadata": {
        "id": "f959caa6-6e7c-45df-9b6a-84f0512e5017"
      },
      "outputs": [],
      "source": [
        "rfc_full_predictions = []\n",
        "for img in img_test:\n",
        "    rfc_full_predictions.append(''.join(PredictFullCaptcha(img, 4, fittedgrid, THRESHOLD=180, APPLY_BLUR=False)))"
      ],
      "id": "f959caa6-6e7c-45df-9b6a-84f0512e5017"
    },
    {
      "cell_type": "code",
      "execution_count": null,
      "metadata": {
        "id": "0cdd492e-fa98-4d70-ba49-7bfe271eb800"
      },
      "outputs": [],
      "source": [
        "test_accuracy = accuracy_score(lab_test, rfc_full_predictions)\n",
        "\n",
        "print(f\"Training set accuracy score: {test_accuracy}\")"
      ],
      "id": "0cdd492e-fa98-4d70-ba49-7bfe271eb800"
    },
    {
      "cell_type": "markdown",
      "metadata": {
        "id": "6266b0c6-d3c1-498b-8f7e-6834b7d3377a"
      },
      "source": [
        "**Testing on a CAPTCHA that has a noisy background**"
      ],
      "id": "6266b0c6-d3c1-498b-8f7e-6834b7d3377a"
    },
    {
      "cell_type": "code",
      "execution_count": null,
      "metadata": {
        "id": "95636dec-58d7-43bc-b3cb-635afccdbb33"
      },
      "outputs": [],
      "source": [
        "image = library.nfesjppr.images[0]\n",
        "\n",
        "plt.imshow(cv.cvtColor(image, cv.COLOR_BGR2RGB))"
      ],
      "id": "95636dec-58d7-43bc-b3cb-635afccdbb33"
    },
    {
      "cell_type": "code",
      "execution_count": null,
      "metadata": {
        "id": "f32bf310-b8b4-4dbf-b10c-a46d6a1d8981"
      },
      "outputs": [],
      "source": [
        "library_test = library.nfesjppr\n",
        "threshold = 100\n",
        "blur = True\n",
        "dilate = False\n",
        "\n",
        "X_sample = []\n",
        "y_sample = []\n",
        "\n",
        "img_train, img_test, lab_train, lab_test = train_test_split(library_test.images, library_test.targets, test_size = 0.3)\n",
        "\n",
        "LoadSample(img_train, lab_train, X_sample, y_sample, THRESHOLD = threshold, APPLY_BLUR = blur, APPLY_DILATION = dilate)\n",
        "\n",
        "if (len(X_sample) == len(y_sample)):\n",
        "    print(f'We are ready to train the model! There are {len(X_sample)} total samples we can use to train on.')\n",
        "else:\n",
        "    print(f'Oops, something muct be wrong: the number of cropped letters does not match the number of labels.')\n",
        "    print(f'X: {len(X_sample)}, y: {y_sample}')"
      ],
      "id": "f32bf310-b8b4-4dbf-b10c-a46d6a1d8981"
    },
    {
      "cell_type": "code",
      "execution_count": null,
      "metadata": {
        "id": "a6605ded-17d3-44c8-b946-dd95d67acf93"
      },
      "outputs": [],
      "source": [
        "for i in range(len(X_sample)):\n",
        "    X_sample[i] = Reshape_Transform(X_sample[i], dim = (20, 20))"
      ],
      "id": "a6605ded-17d3-44c8-b946-dd95d67acf93"
    },
    {
      "cell_type": "code",
      "execution_count": null,
      "metadata": {
        "id": "2b6da7fe-b42f-4539-a725-0da8b9675d22"
      },
      "outputs": [],
      "source": [
        "fig, axes = plt.subplots(2, 5, figsize = (10, 5))\n",
        "\n",
        "plot_index = 0\n",
        "\n",
        "for i in [random.randrange(len(X_sample)) for i in range(10)]:\n",
        "    plot_index += 1\n",
        "    plt.subplot(2, 5, plot_index)\n",
        "    plt.imshow(X_sample[i], cmap=\"gray_r\")\n",
        "    plt.title(f'Train: {y_sample[i]}')\n",
        "    \n",
        "    plt.tick_params(left = False, labelleft = False,\n",
        "                labelbottom = False, bottom = False)\n",
        "    \n",
        "plt.show()"
      ],
      "id": "2b6da7fe-b42f-4539-a725-0da8b9675d22"
    },
    {
      "cell_type": "code",
      "execution_count": null,
      "metadata": {
        "id": "30917576-cd31-4579-a12f-07c8a31713d9"
      },
      "outputs": [],
      "source": [
        "X_sample = np.asarray(X_sample)\n",
        "\n",
        "X_sample = X_sample.reshape(X_sample.shape[0], X_sample[0].shape[0] * X_sample[0].shape[1])\n",
        "\n",
        "X_sample = X_sample/255"
      ],
      "id": "30917576-cd31-4579-a12f-07c8a31713d9"
    },
    {
      "cell_type": "code",
      "execution_count": null,
      "metadata": {
        "id": "37c7c14b-7076-4ea2-b5d6-d603d214c345"
      },
      "outputs": [],
      "source": [
        "X_train, X_val, y_train, y_val = train_test_split(X_sample, y_sample, test_size = 0.3, stratify = y_sample)\n",
        "\n",
        "logreg = LogisticRegression()\n",
        "\n",
        "logreg.fit(X_train, y_train)"
      ],
      "id": "37c7c14b-7076-4ea2-b5d6-d603d214c345"
    },
    {
      "cell_type": "code",
      "execution_count": null,
      "metadata": {
        "id": "b934d697-3f49-4905-ba1a-7615e516a695"
      },
      "outputs": [],
      "source": [
        "plt.imshow(cv.cvtColor(img_test[0], cv.COLOR_BGR2RGB))"
      ],
      "id": "b934d697-3f49-4905-ba1a-7615e516a695"
    },
    {
      "cell_type": "code",
      "execution_count": null,
      "metadata": {
        "id": "a942a07b-c88f-4cd5-bbc4-e6b139a04f5d"
      },
      "outputs": [],
      "source": [
        "PredictFullCaptcha(img_test[0], 5, logreg, THRESHOLD=100, APPLY_BLUR=True)"
      ],
      "id": "a942a07b-c88f-4cd5-bbc4-e6b139a04f5d"
    },
    {
      "cell_type": "code",
      "execution_count": null,
      "metadata": {
        "id": "15f07ed9-6f46-4271-87bb-b158ec07b07b"
      },
      "outputs": [],
      "source": [
        "logreg_full_predictions = []\n",
        "for img in img_test:\n",
        "    logreg_full_predictions.append(''.join(PredictFullCaptcha(img, 5, logreg, THRESHOLD=100, APPLY_BLUR=True)))\n",
        "\n",
        "test_accuracy = accuracy_score(lab_test, logreg_full_predictions)\n",
        "\n",
        "print(f\"Test accuracy score: {test_accuracy}\")"
      ],
      "id": "15f07ed9-6f46-4271-87bb-b158ec07b07b"
    },
    {
      "cell_type": "markdown",
      "metadata": {
        "id": "6a97abf3-8dd9-4f83-ada5-c433a26a66b5"
      },
      "source": [
        "**Testing on Distorted Characters and Colorful Background**"
      ],
      "id": "6a97abf3-8dd9-4f83-ada5-c433a26a66b5"
    },
    {
      "cell_type": "code",
      "execution_count": null,
      "metadata": {
        "id": "00951088-72a2-4bb6-89bb-7a44743c6106"
      },
      "outputs": [],
      "source": [
        "image = library.sefazsp.images[0]\n",
        "\n",
        "plt.imshow(cv.cvtColor(image, cv.COLOR_BGR2RGB))"
      ],
      "id": "00951088-72a2-4bb6-89bb-7a44743c6106"
    },
    {
      "cell_type": "code",
      "execution_count": null,
      "metadata": {
        "id": "90e8af5f-ce9a-4d15-a074-aae3f947267c"
      },
      "outputs": [],
      "source": [
        "library_test = library.sefazsp\n",
        "threshold = 140\n",
        "blur = True\n",
        "dilate = False\n",
        "\n",
        "X_sample = []\n",
        "y_sample = []\n",
        "\n",
        "X_test = []\n",
        "y_test = []\n",
        "\n",
        "img_train, img_test, lab_train, lab_test = train_test_split(library_test.images, library_test.targets, test_size = 0.3)\n",
        "\n",
        "LoadSample(img_train, lab_train, X_sample, y_sample, THRESHOLD = threshold, APPLY_BLUR = blur, APPLY_DILATION = dilate)\n",
        "\n",
        "for i in range(len(X_sample)):\n",
        "    X_sample[i] = Reshape_Transform(X_sample[i], dim = (20, 20))\n",
        "\n",
        "\n",
        "if (len(X_sample) == len(y_sample)):\n",
        "    print(f'We are ready to train the model! There are {len(X_sample)} total samples we can use to train on.')\n",
        "else:\n",
        "    print(f'Oops, something muct be wrong: the number of cropped letters does not match the number of labels.')\n",
        "    print(f'X: {len(X_sample)}, y: {y_sample}')"
      ],
      "id": "90e8af5f-ce9a-4d15-a074-aae3f947267c"
    },
    {
      "cell_type": "code",
      "execution_count": null,
      "metadata": {
        "id": "20cf9695-c681-4414-8b4d-7600f00f22e4"
      },
      "outputs": [],
      "source": [
        "fig, axes = plt.subplots(2, 5, figsize = (10, 5))\n",
        "\n",
        "plot_index = 0\n",
        "\n",
        "for i in [random.randrange(len(X_sample)) for i in range(10)]:\n",
        "    plot_index += 1\n",
        "    plt.subplot(2, 5, plot_index)\n",
        "    plt.imshow(X_sample[i], cmap=\"gray_r\")\n",
        "    plt.title(f'Train: {y_sample[i]}')\n",
        "    \n",
        "    plt.tick_params(left = False, labelleft = False,\n",
        "                labelbottom = False, bottom = False)\n",
        "    \n",
        "plt.show()"
      ],
      "id": "20cf9695-c681-4414-8b4d-7600f00f22e4"
    },
    {
      "cell_type": "code",
      "execution_count": null,
      "metadata": {
        "id": "ea4865a5-fd31-4564-ba15-187ef2432cc9"
      },
      "outputs": [],
      "source": [
        "X_sample = np.asarray(X_sample)\n",
        "\n",
        "X_sample = X_sample.reshape(X_sample.shape[0], X_sample[0].shape[0] * X_sample[0].shape[1])\n",
        "\n",
        "X_sample = X_sample/255"
      ],
      "id": "ea4865a5-fd31-4564-ba15-187ef2432cc9"
    },
    {
      "cell_type": "code",
      "execution_count": null,
      "metadata": {
        "id": "d87eb9da-cdba-41dc-8154-514eb03b6e96"
      },
      "outputs": [],
      "source": [
        "X_train, X_val, y_train, y_val = train_test_split(X_sample, y_sample, test_size = 0.3, stratify = y_sample)\n",
        "\n",
        "logreg = LogisticRegression()\n",
        "\n",
        "logreg.fit(X_train, y_train)"
      ],
      "id": "d87eb9da-cdba-41dc-8154-514eb03b6e96"
    },
    {
      "cell_type": "code",
      "execution_count": null,
      "metadata": {
        "id": "dd7c9099-4078-439a-9056-6f4d51d6a0c7"
      },
      "outputs": [],
      "source": [
        "plt.imshow(cv.cvtColor(img_test[0], cv.COLOR_BGR2RGB))"
      ],
      "id": "dd7c9099-4078-439a-9056-6f4d51d6a0c7"
    },
    {
      "cell_type": "code",
      "execution_count": null,
      "metadata": {
        "id": "4e283fb0-bdaf-4621-8d67-31f8b176008c"
      },
      "outputs": [],
      "source": [
        "PredictFullCaptcha(img_test[0], 5, logreg, THRESHOLD=140, APPLY_BLUR=True)"
      ],
      "id": "4e283fb0-bdaf-4621-8d67-31f8b176008c"
    },
    {
      "cell_type": "code",
      "execution_count": null,
      "metadata": {
        "id": "17b84fe7-1f51-40e0-a11a-2ebcaf28a56a"
      },
      "outputs": [],
      "source": [
        "logreg_full_predictions = []\n",
        "for img in img_test:\n",
        "    logreg_full_predictions.append(''.join(PredictFullCaptcha(img, 5, logreg, THRESHOLD=140, APPLY_BLUR=True)))\n",
        "\n",
        "test_accuracy = accuracy_score(lab_test, logreg_full_predictions)\n",
        "\n",
        "print(f\"Test accuracy score: {test_accuracy}\")"
      ],
      "id": "17b84fe7-1f51-40e0-a11a-2ebcaf28a56a"
    },
    {
      "cell_type": "markdown",
      "metadata": {
        "id": "6438de6e-1ed6-496c-a1d9-62361796fd45"
      },
      "source": [
        "Here we start seeing where the models and transformations applied start to struggle."
      ],
      "id": "6438de6e-1ed6-496c-a1d9-62361796fd45"
    },
    {
      "cell_type": "markdown",
      "metadata": {
        "id": "c351392d-6f8c-409a-bb19-19150f6ae9f2"
      },
      "source": [
        "**Testing On CAPTCHAS that have obstructions between characters**"
      ],
      "id": "c351392d-6f8c-409a-bb19-19150f6ae9f2"
    },
    {
      "cell_type": "code",
      "execution_count": null,
      "metadata": {
        "id": "4c462443-a27d-40cd-8cff-87aea9c08d18"
      },
      "outputs": [],
      "source": [
        "image = library.pje.images[0]\n",
        "\n",
        "plt.imshow(cv.cvtColor(image, cv.COLOR_BGR2RGB))"
      ],
      "id": "4c462443-a27d-40cd-8cff-87aea9c08d18"
    },
    {
      "cell_type": "code",
      "execution_count": null,
      "metadata": {
        "id": "559338bf-14fa-4b0c-a4e3-bcaeee2376ce"
      },
      "outputs": [],
      "source": [
        "library_test = library.pje\n",
        "threshold = 180\n",
        "blur = False\n",
        "dilate = True\n",
        "\n",
        "X_sample = []\n",
        "y_sample = []\n",
        "\n",
        "img_train, img_test, lab_train, lab_test = train_test_split(library_test.images, library_test.targets, test_size = 0.3)\n",
        "\n",
        "LoadSample(img_train, lab_train, X_sample, y_sample, THRESHOLD = threshold, APPLY_BLUR = blur, APPLY_DILATION = dilate)\n",
        "\n",
        "for i in range(len(X_sample)):\n",
        "    X_sample[i] = Reshape_Transform(X_sample[i], dim = (20, 20))\n",
        "\n",
        "if (len(X_sample) == len(y_sample)):\n",
        "    print(f'We are ready to train the model! There are {len(X_sample)} total samples we can use to train on.')\n",
        "else:\n",
        "    print(f'Oops, something muct be wrong: the number of cropped letters does not match the number of labels.')\n",
        "    print(f'X: {len(X_sample)}, y: {y_sample}')"
      ],
      "id": "559338bf-14fa-4b0c-a4e3-bcaeee2376ce"
    },
    {
      "cell_type": "code",
      "execution_count": null,
      "metadata": {
        "id": "72218eae-bb4e-4ffe-b21e-c577317fad03"
      },
      "outputs": [],
      "source": [
        "fig, axes = plt.subplots(2, 5, figsize = (10, 5))\n",
        "\n",
        "plot_index = 0\n",
        "\n",
        "for i in [random.randrange(len(X_sample)) for i in range(10)]:\n",
        "    plot_index += 1\n",
        "    plt.subplot(2, 5, plot_index)\n",
        "    plt.imshow(X_sample[i], cmap=\"gray_r\")\n",
        "    plt.title(f'Train: {y_sample[i]}')\n",
        "    \n",
        "    plt.tick_params(left = False, labelleft = False,\n",
        "                labelbottom = False, bottom = False)\n",
        "    \n",
        "plt.show()"
      ],
      "id": "72218eae-bb4e-4ffe-b21e-c577317fad03"
    },
    {
      "cell_type": "markdown",
      "metadata": {
        "id": "ea0a6527-a12f-4e21-82c4-1d6f50fd8f39"
      },
      "source": [
        "While dilating helps by removing it also adds a new level of complexity where a lot of the actual letters get thinner causing some of them to break. Dilating may also leave some pixels on so they may also get detected when we try to get the contours. We will not train a model on this data as the training set itself will have wrongly labeled shapes."
      ],
      "id": "ea0a6527-a12f-4e21-82c4-1d6f50fd8f39"
    },
    {
      "cell_type": "markdown",
      "metadata": {
        "id": "7c7f4702-a71b-4880-80ad-2787f90d7035"
      },
      "source": [
        "While it requires a lot more preprocessing we have shown that we can use this method on half of our sample CAPTCHAS. It is by far not perfect but can get the job done and does not require a lot of samples for training, as for any CAPTCHA that we get, we have multiple letters to train on. We can still use some of the cleaning techniques when training Neural Networks, which we will try in the next Notebook."
      ],
      "id": "7c7f4702-a71b-4880-80ad-2787f90d7035"
    },
    {
      "cell_type": "code",
      "execution_count": null,
      "metadata": {
        "id": "bac9e297-a2e5-4db3-a052-58a9a71d185b"
      },
      "outputs": [],
      "source": [
        ""
      ],
      "id": "bac9e297-a2e5-4db3-a052-58a9a71d185b"
    }
  ],
  "metadata": {
    "colab": {
      "name": "1-sklearn.ipynb",
      "provenance": []
    },
    "kernelspec": {
      "display_name": "Python 3",
      "language": "python",
      "name": "python3"
    },
    "language_info": {
      "codemirror_mode": {
        "name": "ipython",
        "version": 3
      },
      "file_extension": ".py",
      "mimetype": "text/x-python",
      "name": "python",
      "nbconvert_exporter": "python",
      "pygments_lexer": "ipython3",
      "version": "3.8.10"
    }
  },
  "nbformat": 4,
  "nbformat_minor": 5
}