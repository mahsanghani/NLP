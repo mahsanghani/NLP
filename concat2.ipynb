{
 "cells": [
  {
   "cell_type": "code",
   "execution_count": null,
   "id": "e800601c-9ff5-4a69-afe7-9941096663a9",
   "metadata": {},
   "outputs": [],
   "source": [
    "from PIL import Image\n",
    "images_list = ['test.jpg', 'test2.jpg']\n",
    "imgs = [Image.open(i) for i in images_list]\n",
    "\n",
    "# If you're using an older version of Pillow, you might have to use .size[0] instead of .width\n",
    "# and later on, .size[1] instead of .height\n",
    "min_img_width = min(i.width for i in imgs)\n",
    "\n",
    "total_height = 0\n",
    "for i, img in enumerate(imgs):\n",
    "    # If the image is larger than the minimum width, resize it\n",
    "    if img.width > min_img_width:\n",
    "        imgs[i] = img.resize((min_img_width, int(img.height / img.width * min_img_width)), Image.ANTIALIAS)\n",
    "    total_height += imgs[i].height\n",
    "\n",
    "# I have picked the mode of the first image to be generic. You may have other ideas\n",
    "# Now that we know the total height of all of the resized images, we know the height of our final image\n",
    "img_merge = Image.new(imgs[0].mode, (min_img_width, total_height))\n",
    "y = 0\n",
    "for img in imgs:\n",
    "    img_merge.paste(img, (0, y))\n",
    "\n",
    "    y += img.height\n",
    "img_merge.save('terracegarden_v.jpg')"
   ]
  },
  {
   "cell_type": "code",
   "execution_count": null,
   "id": "487de3ba-73ee-4bc2-a029-144d12cb143f",
   "metadata": {},
   "outputs": [],
   "source": [
    "import itertools\n",
    "from PIL import Image\n",
    "import glob, os, shutil"
   ]
  },
  {
   "cell_type": "code",
   "execution_count": null,
   "id": "83eaa6f0-005e-4f13-a441-b74bf0abbb1d",
   "metadata": {},
   "outputs": [],
   "source": [
    "def grouper(S, n):\n",
    "    iterator = iter(S)\n",
    "    while True:\n",
    "        items = list(itertools.islice(iterator, n))\n",
    "        if len(items) == 0:\n",
    "            break\n",
    "        yield items"
   ]
  },
  {
   "cell_type": "code",
   "execution_count": null,
   "id": "3a2b7137-35b2-4464-9d9a-d5185ed439fb",
   "metadata": {},
   "outputs": [],
   "source": [
    "fnames = sorted(glob.glob('OnlineKhatt/Images/*.jpg'))\n",
    "counter=1\n",
    "for i, fnames in enumerate(grouper(fnames, 5)):\n",
    "    print(fnames)\n",
    "    imgs = [Image.open(i) for i in fnames]\n",
    "    min_img_width = min(i.width for i in imgs)\n",
    "    total_height = 0\n",
    "    for i, img in enumerate(imgs):\n",
    "        if img.width > min_img_width:\n",
    "            imgs[i] = img.resize((min_img_width, int(img.height / img.width * min_img_width)), Image.ANTIALIAS)\n",
    "        total_height += imgs[i].height\n",
    "    img_merge = Image.new(imgs[0].mode, (min_img_width, total_height))\n",
    "    y = 0\n",
    "    for img in imgs:\n",
    "        img_merge.paste(img, (0, y))\n",
    "        y += img.height\n",
    "    img_merge.save('batch%d.jpg' % counter)\n",
    "    counter+=1"
   ]
  },
  {
   "cell_type": "code",
   "execution_count": null,
   "id": "52ef3b8d-5a17-4dc5-ba19-65277d28257f",
   "metadata": {},
   "outputs": [],
   "source": []
  }
 ],
 "metadata": {
  "kernelspec": {
   "display_name": "Python 3 (ipykernel)",
   "language": "python",
   "name": "python3"
  },
  "language_info": {
   "codemirror_mode": {
    "name": "ipython",
    "version": 3
   },
   "file_extension": ".py",
   "mimetype": "text/x-python",
   "name": "python",
   "nbconvert_exporter": "python",
   "pygments_lexer": "ipython3",
   "version": "3.9.9"
  }
 },
 "nbformat": 4,
 "nbformat_minor": 5
}
