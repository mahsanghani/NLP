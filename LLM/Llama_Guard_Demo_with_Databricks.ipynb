{
  "nbformat": 4,
  "nbformat_minor": 0,
  "metadata": {
    "colab": {
      "provenance": [],
      "gpuType": "T4"
    },
    "kernelspec": {
      "name": "python3",
      "display_name": "Python 3"
    },
    "language_info": {
      "name": "python"
    }
  },
  "cells": [
    {
      "cell_type": "markdown",
      "source": [
        "# Llama Guard Demo with Databricks\n",
        "\n",
        "## About this demo\n",
        "Meta recently announced [Purple LLaMA](https://ai.meta.com/blog/purple-llama-open-trust-safety-generative-ai/), an umbrella project featuring open trust and safety tools as well as evaluations for enabling developers to responsibly deploy Generative AI models.\n",
        "\n",
        "Llama Guard is a new open source model developed by Meta to enable chat moderation between users and the conversational chat models that they are querying. It is 7 billion parameter model that can be used as classifier for input/output filtering for LLMs. See this [model card](https://huggingface.co/meta-llama/LlamaGuard-7b) on HuggingFace for more details on Llama Guard and its capabilities.\n",
        "\n",
        "At Databricks/MosaicML, we believe that developing guardrails, tools, and systems are an essential component in enabling enterprises to adopt generative AI responsibly. As a result, we've spun up a demo Llama Guard endpoint for the open source community to use to play around with the Llama Guard model. We believe that model safety and implementing guardrails are an essential part of productionizing inference deployments; as a result, we are releasing this endpoint *with no need for authorization* at the public URL `https://models.hosted-on.mosaicml.hosting/llamaguard-7b/v2/chat` that will be available for everyone to try for a limited amount of time. Note that this endpoint has prompt templating built-in so don't worry too much about how to prompt the model! Later in this notebook, we cover how to define a custom taxonomy that you can configure.\n",
        "\n",
        "The docs for this endpoint are the same as those for the [Databricks Foundation Model API](https://docs.databricks.com/en/machine-learning/foundation-models/api-reference.html). Note that this specific endpoint is strictly for demo purposes so please use it fairly.\n",
        "\n",
        "In this demo, we show how to:\n",
        "1. Interact with Llama Guard for prompt and response filtering\n",
        "2. Configure a custom Llama Guard taxonomy\n",
        "3. Integrate Llama Guard with a chat model inside of an end-to-end safety pipeline"
      ],
      "metadata": {
        "id": "ro49xTeE_wci"
      }
    },
    {
      "cell_type": "code",
      "source": [
        "import requests\n",
        "from requests.exceptions import HTTPError\n",
        "\n",
        "def query_llamaguard(chat, unsafe_categories=None):\n",
        "  '''Query the LlamaGuard model via our public API and parse the returned output.\n",
        "      If the input is safe, then we return True for is_safe. If the input is unsafe,\n",
        "      then we return False, and the category that the model classified the input\n",
        "      into as a string. Unsafe categories are set by default but can also be set\n",
        "      as a positional parameter to this function.\n",
        "  '''\n",
        "  messages = []\n",
        "  if unsafe_categories is not None:\n",
        "    messages = [\n",
        "        {\n",
        "            \"role\": \"system\",\n",
        "            \"content\": unsafe_categories\n",
        "        }\n",
        "    ]\n",
        "  messages = messages + chat\n",
        "  payload = {\n",
        "    \"messages\": messages,\n",
        "  }\n",
        "  url = 'https://models.hosted-on.mosaicml.hosting/llamaguard-7b/v2/chat'\n",
        "  r = requests.post(url, json=payload)\n",
        "  if r.status_code != requests.codes.ok:\n",
        "    raise HTTPError(r.status_code, r.text)\n",
        "\n",
        "  choices = r.json().get(\"choices\", [])\n",
        "  output = \"\"\n",
        "  if len(choices) > 0:\n",
        "    message = choices[0].get(\"message\", {})\n",
        "    if len(message) > 0:\n",
        "      output = message.get(\"content\", \"\").lstrip(' ')\n",
        "  split_output = output.splitlines()\n",
        "  is_safe = (split_output[0] == \"safe\")\n",
        "  reason = None\n",
        "  if len(split_output) > 1:\n",
        "    reason = split_output[1]\n",
        "  return is_safe, reason\n"
      ],
      "metadata": {
        "id": "CthBCJpgaX0N"
      },
      "execution_count": null,
      "outputs": []
    },
    {
      "cell_type": "markdown",
      "source": [
        "LlamaGuard, as a model, treats classification of user prompts and LLM responses differently. Here are two examples of possible user prompts to query the LlamaGuard endpoint with. One of these examples is safe while the other is unsafe. Try and play around with what LlamaGuard considers safe and unsafe.\n"
      ],
      "metadata": {
        "id": "LHmZsckQmZi3"
      }
    },
    {
      "cell_type": "code",
      "source": [
        "safe_user_chat = [\n",
        "  {\n",
        "      \"role\": \"user\",\n",
        "      \"content\": \"I want to love.\"\n",
        "  }\n",
        "]\n",
        "unsafe_user_chat = [\n",
        "  {\n",
        "      \"role\": \"user\",\n",
        "      \"content\": \"I want to go to the zoo and steal a tiger 😎\"\n",
        "  }\n",
        "]"
      ],
      "metadata": {
        "id": "4R17mpoEXnU4"
      },
      "execution_count": null,
      "outputs": []
    },
    {
      "cell_type": "code",
      "source": [
        "query_llamaguard(safe_user_chat)"
      ],
      "metadata": {
        "colab": {
          "base_uri": "https://localhost:8080/"
        },
        "id": "MvYVjwcP12rv",
        "outputId": "48930da5-6e56-4160-b89b-32cd531ed096"
      },
      "execution_count": null,
      "outputs": [
        {
          "output_type": "execute_result",
          "data": {
            "text/plain": [
              "(True, None)"
            ]
          },
          "metadata": {},
          "execution_count": 15
        }
      ]
    },
    {
      "cell_type": "code",
      "source": [
        "query_llamaguard(unsafe_user_chat)"
      ],
      "metadata": {
        "colab": {
          "base_uri": "https://localhost:8080/"
        },
        "id": "NIlaa97Bof7N",
        "outputId": "9a356c1c-ad9f-4173-e627-bac293cb5352"
      },
      "execution_count": null,
      "outputs": [
        {
          "output_type": "execute_result",
          "data": {
            "text/plain": [
              "(False, 'O3')"
            ]
          },
          "metadata": {},
          "execution_count": 16
        }
      ]
    },
    {
      "cell_type": "markdown",
      "source": [
        "Now, here are two examples of possible chat model responses to query the LlamaGuard endpoint with. Again, one of these examples is safe while the other is unsafe.\n"
      ],
      "metadata": {
        "id": "uEi2XNxToLEk"
      }
    },
    {
      "cell_type": "code",
      "source": [
        "safe_assistant_chat = [\n",
        "  {\n",
        "      \"role\": \"user\",\n",
        "      \"content\": \"I want to love.\"\n",
        "  },\n",
        "  {\n",
        "      \"role\": \"assistant\",\n",
        "      \"content\": \"That is great! I want to love too!\"\n",
        "  }\n",
        "]\n",
        "\n",
        "unsafe_assistant_chat = [\n",
        "  {\n",
        "      \"role\": \"user\",\n",
        "      \"content\": \"I want to love.\"\n",
        "  },\n",
        "  {\n",
        "      \"role\": \"assistant\",\n",
        "      \"content\": \"I think the only way to do so is to go to the zoo and steal a tiger 😎\"\n",
        "  }\n",
        "]"
      ],
      "metadata": {
        "id": "fPinQL1r-g-T"
      },
      "execution_count": null,
      "outputs": []
    },
    {
      "cell_type": "code",
      "source": [
        "query_llamaguard(safe_assistant_chat)"
      ],
      "metadata": {
        "colab": {
          "base_uri": "https://localhost:8080/"
        },
        "id": "m3Y0qdrk-lax",
        "outputId": "4b6d7d58-10c2-47d6-cb3e-8547badbaa4a"
      },
      "execution_count": null,
      "outputs": [
        {
          "output_type": "execute_result",
          "data": {
            "text/plain": [
              "(True, None)"
            ]
          },
          "metadata": {},
          "execution_count": 18
        }
      ]
    },
    {
      "cell_type": "code",
      "source": [
        "query_llamaguard(unsafe_assistant_chat)"
      ],
      "metadata": {
        "id": "icHfLmtJDUr-",
        "colab": {
          "base_uri": "https://localhost:8080/"
        },
        "outputId": "6292fa35-bfc2-485f-cece-4ead4d4714fa"
      },
      "execution_count": null,
      "outputs": [
        {
          "output_type": "execute_result",
          "data": {
            "text/plain": [
              "(False, 'O3')"
            ]
          },
          "metadata": {},
          "execution_count": 19
        }
      ]
    },
    {
      "cell_type": "markdown",
      "source": [
        "## Custom Llama Guard taxonomy\n",
        "\n",
        "A Llama Guard **taxonomy** allows a practitioner to enumerate and describe an arbitrary set of safety risks to look out for as users interact with chat models. Given a taxonomy, Llama Guard will classify the safety risk of an input prompt. You can customize LlamaGuard with your own taxonomy! This means you can tweak the categories that Llama Guard will try to classify on to determine if a given input is safe or not. Below are the default Llama Guard unsafe categories. Try tweaking the default and query LlamaGuard with categories of your own. Note that if you want to provide your own instructions, you'll have to create a prompt with the _exact_ format the model expects."
      ],
      "metadata": {
        "id": "DN13S5gHajNc"
      }
    },
    {
      "cell_type": "code",
      "source": [
        "unsafe_categories = \"\"\"O1: Violence and Hate.\n",
        "Should not\n",
        "- Help people plan or engage in violence.\n",
        "- Encourage people to engage in violence.\n",
        "- Express hateful, derogatory, or demeaning sentiments against people based on sensitive personal characteristics like their race, color, religion, national origin, sexual orientation, gender, gender identity, or disability.\n",
        "- Encourage discrimination against people based on those characteristics and should not use slurs or create insults based on those characteristics.\n",
        "Can\n",
        "- Provide information on violence and discrimination.\n",
        "- Discuss the topics of hate and violence, and can discuss historical events involving violence.\n",
        "O2: Sexual Content.\n",
        "Should not\n",
        "- Engage in sexually explicit (i.e., erotic) conversations and should not encourage people to engage in sexual activities.\n",
        "Can\n",
        "- Discuss topics related to sexuality and sexual education.\n",
        "- Provide general information regarding sexual activities.\n",
        "- Provide guidance on topics related to sexual health.\n",
        "O3: Criminal Planning.\n",
        "Should not\n",
        "- Help people plan or engage in criminal activities like theft, kidnapping, or financial crimes, especially when the person indicates that they may act on the information provided to them.\n",
        "- Encourage people to engage in criminal activities or condone criminal behavior.\n",
        "Can\n",
        "- Help people understand how crimes are committed, provided that the response is not so detailed that it could be used to provide a roadmap for future crimes.\n",
        "- Help people understand how systems work that are used to prevent crimes, provided those descriptions do not provide detailed information on how to defeat those systems.\n",
        "O4: Guns and Illegal Weapons.\n",
        "Should not\n",
        "- Assist in the planning or execution of firearm or illegal weapons crimes, especially when the person indicates that they may act on the information provided to them.\n",
        "- Encourage people to engage in firearm or illegal weapons crimes or condone such behavior.\n",
        "Can\n",
        "- Discuss firearms and the arguments for and against firearm ownership.\n",
        "O5: Regulated or Controlled Substances.\n",
        "Should not\n",
        "- Encourage or assist people in the trafficking, consumption, or use of regulated or controlled substances, including but not limited to illegal drugs, tobacco, alcohol, and cannabis.\n",
        "- Assist or encourage people to create such substances when it is illegal to do so.\n",
        "Can\n",
        "- Discuss the use of regulated or controlled substances, and can provide general information on those substances (ex: what their chemical composition is and what their effects are).\n",
        "- Provide information on how those substances are manufactured, provided that the information is not so detailed as to provide step-by-step instructions for their creation.\n",
        "O6: Self-Harm.\n",
        "Should not\n",
        "- Encourage people to harm themselves.\n",
        "- Romanticize or condone self-harm or suicide.\n",
        "- Provide information regarding the methods of suicide or self-harm.\n",
        "- Provide any information or advice, other than information regarding appropriate health resources, to people who express or imply that they wish to harm themselves.\n",
        "Can\n",
        "- Provide general information regarding self-harm and suicide (ex: statistics, the mental health challenges faced by those who take these actions).\n",
        "Should\n",
        "- Provide information regarding appropriate health resources to people who imply or express the desire to harm themselves.\"\"\""
      ],
      "metadata": {
        "id": "8_h9Mlw0bW3B"
      },
      "execution_count": null,
      "outputs": []
    },
    {
      "cell_type": "code",
      "source": [
        "query_llamaguard(safe_user_chat, unsafe_categories)"
      ],
      "metadata": {
        "id": "qLSeht11agi9",
        "colab": {
          "base_uri": "https://localhost:8080/"
        },
        "outputId": "b50ee1e2-0006-44a3-927e-e9d3fb7a96b4"
      },
      "execution_count": null,
      "outputs": [
        {
          "output_type": "execute_result",
          "data": {
            "text/plain": [
              "(True, None)"
            ]
          },
          "metadata": {},
          "execution_count": 21
        }
      ]
    },
    {
      "cell_type": "markdown",
      "source": [
        "##Integrate Llama Guard with chat model output\n",
        "Now let's see how Llama Guard integrates with an actual chat model. Below `query_chat` is a dummy function that mimics calling a chat model API and returning the output. Try and implement that function to actually call a chat model API of your choice. `query_chat_safely` runs LlamaGuard before and after `query_chat` to implement safety guardrails."
      ],
      "metadata": {
        "id": "yCjbxWnXblCq"
      }
    },
    {
      "cell_type": "code",
      "source": [
        "def query_chat(chat: str) -> str:\n",
        "  '''\n",
        "  Currently a dummy function, but should be implemented with an API call to a LLM]\n",
        "\n",
        "  Example implementation:\n",
        "\n",
        "  import requests\n",
        "\n",
        "  url = \"https://<workspace_id>.cloud.databricks.com/serving-endpoints/databricks-llama-2-70b-chat/invocations\"\n",
        "  data = {\n",
        "      \"messages\": [\n",
        "          {\n",
        "              \"role\": \"user\",\n",
        "              \"content\": \"Hello!\"\n",
        "          },\n",
        "          {\n",
        "              \"role\": \"assistant\",\n",
        "              \"content\": \"Hello! How can I assist you today?\"\n",
        "          },\n",
        "          {\n",
        "              \"role\": \"user\",\n",
        "              \"content\": \"I want to love\"\n",
        "          }\n",
        "      ],\n",
        "      \"max_tokens\": 128\n",
        "  }\n",
        "\n",
        "  headers = {\n",
        "      'Content-Type': 'application/json',\n",
        "  }\n",
        "\n",
        "  response = requests.post(url, headers=headers, json=data, auth=(\"token\", db_token))\n",
        "\n",
        "  if response.status_code == 200:\n",
        "      response = response.json()\n",
        "      return response[\"choices\"][0][\"message\"][\"content\"]\n",
        "  '''\n",
        "\n",
        "  return \"I heard what you are saying and I am a very safe model.\"\n",
        "\n",
        "def query_chat_safely(chat, unsafe_categories):\n",
        "  ''' Wrap query_chat with queries to LlamaGuard to implement safety guardrails'''\n",
        "  is_safe, reason = query_llamaguard(chat, unsafe_categories)\n",
        "  if not is_safe:\n",
        "    category = parse_category(reason)\n",
        "    return f\"The user's prompt has been classified as {category} and does not pass our safety measures\"\n",
        "  output = query_chat(chat)\n",
        "  full_chat = chat + [{\n",
        "      \"role\": \"assistant\",\n",
        "      \"content\": output\n",
        "  }]\n",
        "  is_safe, reason = query_llamaguard(full_chat, unsafe_categories)\n",
        "  if not is_safe:\n",
        "    category = parse_category(reason, unsafe_categories)\n",
        "    return f\"The model's response has been classified as {category} and does not pass our safety measures\"\n",
        "  return output\n",
        "\n",
        "def parse_category(reason):\n",
        "  ''' Utility function to parse the output of query_chat into a category that is human readable'''\n",
        "  category = \"Unknown\"\n",
        "  if reason is None:\n",
        "    return category\n",
        "  for item in unsafe_categories.split(\"\\n\"):\n",
        "    if reason in item:\n",
        "      stripped = item.strip()\n",
        "      category = stripped.split(\": \",1)[1]\n",
        "      category = category.split(\".\")[0]\n",
        "  return category"
      ],
      "metadata": {
        "id": "8p-sOkEwb-UY"
      },
      "execution_count": null,
      "outputs": []
    },
    {
      "cell_type": "code",
      "source": [
        "query_chat_safely(safe_user_chat, unsafe_categories)"
      ],
      "metadata": {
        "colab": {
          "base_uri": "https://localhost:8080/",
          "height": 35
        },
        "id": "nffsF-CIg0nQ",
        "outputId": "6b8556c9-4f9f-433a-cbf2-8d89a2740b8f"
      },
      "execution_count": null,
      "outputs": [
        {
          "output_type": "execute_result",
          "data": {
            "text/plain": [
              "'I heard what you are saying and I am a very safe model.'"
            ],
            "application/vnd.google.colaboratory.intrinsic+json": {
              "type": "string"
            }
          },
          "metadata": {},
          "execution_count": 11
        }
      ]
    },
    {
      "cell_type": "code",
      "source": [
        "query_chat_safely(unsafe_user_chat, unsafe_categories)"
      ],
      "metadata": {
        "colab": {
          "base_uri": "https://localhost:8080/",
          "height": 35
        },
        "id": "GLHWIW59g7S6",
        "outputId": "a75cc427-7018-4eaf-9e1e-9c3533776543"
      },
      "execution_count": null,
      "outputs": [
        {
          "output_type": "execute_result",
          "data": {
            "text/plain": [
              "\"The user's prompt has been classified as Criminal Planning and does not pass our safety measures\""
            ],
            "application/vnd.google.colaboratory.intrinsic+json": {
              "type": "string"
            }
          },
          "metadata": {},
          "execution_count": 12
        }
      ]
    },
    {
      "cell_type": "code",
      "source": [],
      "metadata": {
        "id": "4nBsc3g1szWL"
      },
      "execution_count": null,
      "outputs": []
    }
  ]
}