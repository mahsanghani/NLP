{
  "cells": [
    {
      "cell_type": "markdown",
      "metadata": {
        "id": "LBSYoWbi-45k"
      },
      "source": [
        "# **Fine-tuning XLSR-Wav2Vec2 for Multi-Lingual ASR with 🤗 Transformers**"
      ]
    },
    {
      "cell_type": "markdown",
      "metadata": {
        "id": "V7YOT2mnUiea"
      },
      "source": [
        "Wav2Vec2 is a pretrained model for Automatic Speech Recognition (ASR) and was released in [September 2020](https://ai.facebook.com/blog/wav2vec-20-learning-the-structure-of-speech-from-raw-audio/) by Alexei Baevski, Michael Auli, and Alex Conneau.  Soon after the superior performance of Wav2Vec2 was demonstrated on the English ASR dataset LibriSpeech, *Facebook AI* presented XLSR-Wav2Vec2 (click [here](https://arxiv.org/abs/2006.13979)). XLSR stands for *cross-lingual  speech representations* and refers to XLSR-Wav2Vec2's ability to learn speech representations that are useful across multiple languages.\n",
        "\n",
        "Similar to Wav2Vec2, XLSR-Wav2Vec2 learns powerful speech representations from hundreds of thousands of hours of speech in more than 50 languages of unlabeled speech. Similar, to [BERT's masked language modeling](http://jalammar.github.io/illustrated-bert/), the model learns contextualized speech representations by randomly masking feature vectors before passing them to a transformer network.\n",
        "\n",
        "![wav2vec2_structure](https://raw.githubusercontent.com/patrickvonplaten/scientific_images/master/xlsr_wav2vec2.png)\n",
        "\n",
        "The authors show for the first time that massively pretraining an ASR model on cross-lingual unlabeled speech data, followed by language-specific fine-tuning on very little labeled data achieves state-of-the-art results. See Table 1-5 of the official [paper](https://arxiv.org/pdf/2006.13979.pdf)."
      ]
    },
    {
      "cell_type": "markdown",
      "metadata": {
        "id": "nT_QrfWtsxIz"
      },
      "source": [
        "In this notebook, we will give an in-detail explanation of how XLSR-Wav2Vec2's pretrained checkpoint can be fine-tuned on a low-resource ASR dataset of any language. Note that in this notebook, we will fine-tune XLSR-Wav2Vec2 without making use of a language model. It is much simpler and more efficient to use XLSR-Wav2Vec2 without a language model, but better results can be achieved by including a language model. \n",
        "\n",
        "For demonstration purposes, we fine-tune the [wav2vec2-large-xlsr-53](https://huggingface.co/facebook/wav2vec2-large-xlsr-53) on the low resource Turkish ASR dataset of [Common Voice](https://huggingface.co/datasets/common_voice) that contains just ~6h of validated training data."
      ]
    },
    {
      "cell_type": "markdown",
      "metadata": {
        "id": "Gx9OdDYrCtQ1"
      },
      "source": [
        "XLSR-Wav2Vec2 is fine-tuned using Connectionist Temporal Classification (CTC), which is an algorithm that is used to train neural networks for sequence-to-sequence problems and mainly in Automatic Speech Recognition and handwriting recognition. \n",
        "\n",
        "I highly recommend reading the blog post [Sequence Modeling with CTC (2017)](https://distill.pub/2017/ctc/) very well-written blog post by Awni Hannun."
      ]
    },
    {
      "cell_type": "markdown",
      "metadata": {
        "id": "e335hPmdtASZ"
      },
      "source": [
        "Before we start, let's install both `datasets` and `transformers` from master. Also, we need the `torchaudio` and `librosa` package to load audio files and the `jiwer` to evaluate our fine-tuned model using the [word error rate (WER)](https://huggingface.co/metrics/wer) metric ${}^1$."
      ]
    },
    {
      "cell_type": "code",
      "execution_count": null,
      "metadata": {
        "id": "c8eh87Hoee5d"
      },
      "outputs": [],
      "source": [
        "%%capture\n",
        "!pip install datasets==1.13.3\n",
        "!pip install transformers==4.11.3\n",
        "!pip install torchaudio\n",
        "!pip install librosa\n",
        "!pip install jiwer"
      ]
    },
    {
      "cell_type": "markdown",
      "metadata": {
        "id": "Mn9swf6EQ9Vd"
      },
      "source": [
        "\n",
        "\n",
        "\n",
        "---\n",
        "\n",
        "${}^1$ In the [paper](https://arxiv.org/pdf/2006.13979.pdf), the model was evaluated using the phoneme error rate (PER), but by far the most common metric in ASR is the word error rate (WER). To keep this notebook as general as possible we decided to evaluate the model using WER."
      ]
    },
    {
      "cell_type": "markdown",
      "metadata": {
        "id": "0mW-C1Nt-j7k"
      },
      "source": [
        "## Prepare Data, Tokenizer, Feature Extractor"
      ]
    },
    {
      "cell_type": "markdown",
      "metadata": {
        "id": "BeBosnY9BH3e"
      },
      "source": [
        "ASR models transcribe speech to text, which means that we both need a feature extractor that processes the speech signal to the model's input format, *e.g.* a feature vector, and a tokenizer that processes the model's output format to text. \n",
        "\n",
        "In 🤗 Transformers, the XLSR-Wav2Vec2 model is thus accompanied by both a tokenizer, called [Wav2Vec2CTCTokenizer](https://huggingface.co/transformers/master/model_doc/wav2vec2.html#wav2vec2ctctokenizer), and a feature extractor, called [Wav2Vec2FeatureExtractor](https://huggingface.co/transformers/master/model_doc/wav2vec2.html#wav2vec2featureextractor).\n",
        "\n",
        "Let's start by creating the tokenizer responsible for decoding the model's predictions."
      ]
    },
    {
      "cell_type": "markdown",
      "metadata": {
        "id": "sEXEWEJGQPqD"
      },
      "source": [
        "### Create Wav2Vec2CTCTokenizer"
      ]
    },
    {
      "cell_type": "markdown",
      "metadata": {
        "id": "tWmMikuNEKl_"
      },
      "source": [
        "The [pretrained Wav2Vec2 checkpoint]( ) maps the speech signal to a sequence of context representations as illustrated in the figure above. A fine-tuned XLSR-Wav2Vec2 checkpoint needs to map this sequence of context representations to its corresponding transcription so that a linear layer has to be added on top of the transformer block (shown in yellow). This linear layer is used to classifies each context representation to a token class analogous how, *e.g.*, after pretraining a linear layer is added on top of BERT's embeddings for further classification - *cf.* with *'BERT'* section of this [blog post](https://huggingface.co/blog/warm-starting-encoder-decoder).\n",
        "\n",
        "The output size of this layer corresponds to the number of tokens in the vocabulary, which does **not** depend on XLSR-Wav2Vec2's pretraining task, but only on the labeled dataset used for fine-tuning. So in the first step, we will take a look at Common Voice and define a vocabulary based on the dataset's transcriptions."
      ]
    },
    {
      "cell_type": "markdown",
      "metadata": {
        "id": "idBczw8mWzgt"
      },
      "source": [
        "First, let's go to [Common Voice](https://commonvoice.mozilla.org/en/datasets) and pick a language to fine-tune XLSR-Wav2Vec2 on. For this notebook, we will use Turkish. \n",
        "\n",
        "For each language-specific dataset, you can find a language code corresponding to your chosen language. On [Common Voice](https://commonvoice.mozilla.org/en/datasets), look for the field \"Version\". The language code then corresponds to the prefix before the underscore. For Turkish, *e.g.* the language code is `\"tr\"`.\n",
        "\n",
        "Great, now we can use 🤗 Datasets' simple API to download the data. The dataset name will be `\"common_voice\"`, the config name corresponds to the language code - `\"tr\"` in our case."
      ]
    },
    {
      "cell_type": "markdown",
      "metadata": {
        "id": "bee4g9rpLxll"
      },
      "source": [
        "Common Voice has many different splits including `invalidated`, which refers to data that was not rated as \"clean enough\" to be considered useful. In this notebook, we will only make use of the splits `\"train\"`, `\"validation\"` and `\"test\"`. \n",
        "\n",
        "Because the Turkish dataset is so small, we will merge both the validation and training data into a training dataset and simply use the test data for validation."
      ]
    },
    {
      "cell_type": "code",
      "execution_count": null,
      "metadata": {
        "colab": {
          "base_uri": "https://localhost:8080/",
          "height": 187,
          "referenced_widgets": [
            "64930430f3674e54ac9e96dd23cbf0f3",
            "69edb675abc64f87a2ed4a0f1da3ca2a",
            "46acdb0b45a1410a98ac77314ef344c4",
            "ce751d8474b74d24be9b29741c70e6d5",
            "095a749a9c0b4a3da91534e616de2523",
            "69a5d99a056146d490c70ab012b35207",
            "fa8482bff10e4ed2b51cf40bef083a56",
            "8b189ea9856d451cb23b1f51447bb910",
            "a7b38f018e9e468f8790985065539b24",
            "4b109b6d0b044ea891d679ce75ff8406",
            "c89c3a43a2774976954364af27f3436c",
            "a51ff3c61d004d96871a84e189b860d5",
            "d21c51bc35f344a9a7d8c7c29215672b",
            "67c354f8a82a48cfb5faf3f597b69769",
            "52e7c754b4dd44de89d16eeeccb72261",
            "7247ff9e79ff418189592747319ffd6d",
            "9ab9adab4e0e413baa1f7aaeccc31ef5",
            "501b2825dc864aa399d62d173459cb74",
            "f55e48a45a0243c6a99f8976f156c1a2",
            "0d2ff7d197274bd988c422302041ad50",
            "cb4c61a9b61248f2a03507eb09830acc",
            "3d8d225a93234eff93573f1b126b17a6",
            "bca68a46851a4394b2054ddee61f5d46",
            "5b0b0be09e0846f89d5f972dd1b3aa41",
            "e3bd839f8338455699f745bb7d656f9e",
            "db81f07354954710ba65203bda7055d8",
            "0a4b58cadb2c4a069133b68d0a766b8d",
            "3e8a2b26c48c41ff915f1b7749704dc4",
            "ffa68f11ee2e4cba881b7cf192922e93",
            "d91c1cd3af05436f8712dcb5df27239d",
            "3cd53ee1981e418c842de32a688d5142",
            "09d3a282efbe46e882db6358515fb70e",
            "e31acd9092af4c689d441bd6d5ceb106",
            "9a3380a000654af1b9af977ee8cd8fbf",
            "97470f14042f4e7d8242514a63b6a64d",
            "ba0d7b07962146ffb1a12c3e13ed16d0",
            "0961a55d207843adb3f22579739382a1",
            "49d6b0e9056f4f188de48085dbfebe90",
            "a7d3aee051e64930913666db996a8666",
            "48cff5418d1a439c8fd8b046b01bdddc",
            "a7ac6c91ec484ca5a181f9da4a83912a",
            "9ff67c07edaf4c82ad97e74165be19e1",
            "aee4307dda8a419f8a8c631798d1bc95",
            "f9711b05854d413e867f9a48cf1a7f48",
            "d3eaeee5846041019ba5490ad73fe0c0",
            "54b0d5a10028414685819fd5f07e55e7",
            "4d7c2d51e73c4defb3d5c7696e8caefa",
            "a4b2ee61773843e0b069b70d5f2ffc94",
            "fb0a05b3416d4a448a193ca80b5b73dd",
            "68b4da177dd14a4ca1ba96a0f282cf93",
            "cd50952c2ba6403c9867b28d6c4d1f80",
            "78a92697f78f48298b6a53748824021d",
            "38fd2e8c263e4908961208ccd00c2a88",
            "783b8b5d6d2e448fb89e4cbc6891ce6e",
            "bd78cfb3cbf24a07a263b6b81e9cb0c1",
            "23f548df14474361ba7ab7a9f5195f96",
            "622cc7c71bb944399b56033cb49a9740",
            "90a21d2553cd4a18b9296cadff72944c",
            "2e0209a811254f06a5289226bb37acef",
            "6b4905a16ae649f3bcdcf1845bc92f3e",
            "e61f1939c9584575bf1d28b1d32a07cf",
            "61da4767d048476b9d79272c79c5ada9",
            "235834d1e8244ee7b2524ce5fa5cd29e",
            "7b436f1d1e684db88bc7dd912a044c45",
            "e376538a4a384693abc9389436ed2f9b",
            "86b297d194ca43e8b1fc4dca9d059f70",
            "c2461e7b8a424576a9ff5f0160857a90",
            "4abf3d6d363f48c9b6bc3e7531c8a9b1",
            "5c4bee0020354802be719db48fe39fb3",
            "57ade4129877435d9995eef97cc29953",
            "3b04977c72244e1c95cf167c4d83e9a4",
            "d7671dc854a749c59044b496cb6e730e",
            "a1fc93cf823e4ec0808e457d977b4f4d",
            "06f650ea19d24a548740abe2c0b41354",
            "15dcd1b41cee4b2391bcf0f0bea201f2",
            "8e5d4d6fac034bf482237c4415adb1b9",
            "65ca91e6bca24eb1abb1ce05f1aeaf16",
            "bbff2d5220854349951f6dd5f7fedfb9",
            "105925ad1023497d8bc1dfe3281a7eee",
            "3277c6a4634744a1822f485ef2bb98f9",
            "2d7e0fcff6f74147bb7e7000cf9e6fb6",
            "bfe721de57b14b4abf42a00d65073d5d",
            "31481b1cfa684174b1b8d980d168a1fe",
            "a254476ec6664beba6087d14fc44d2eb",
            "afbc735da0a1411cbd27a2551fe68a39",
            "6125f335610a4a8196e288bb6568164c",
            "b79ea3b1d11948bb92394486fba1affa",
            "3566f3d26829411096ff90650909ab38"
          ]
        },
        "id": "2MMXcWFFgCXU",
        "outputId": "1a91a5dc-7239-4303-c043-d63e06709d6e"
      },
      "outputs": [
        {
          "data": {
            "application/vnd.jupyter.widget-view+json": {
              "model_id": "64930430f3674e54ac9e96dd23cbf0f3",
              "version_major": 2,
              "version_minor": 0
            },
            "text/plain": [
              "Downloading:   0%|          | 0.00/4.44k [00:00<?, ?B/s]"
            ]
          },
          "metadata": {},
          "output_type": "display_data"
        },
        {
          "data": {
            "application/vnd.jupyter.widget-view+json": {
              "model_id": "a51ff3c61d004d96871a84e189b860d5",
              "version_major": 2,
              "version_minor": 0
            },
            "text/plain": [
              "Downloading:   0%|          | 0.00/10.2k [00:00<?, ?B/s]"
            ]
          },
          "metadata": {},
          "output_type": "display_data"
        },
        {
          "name": "stdout",
          "output_type": "stream",
          "text": [
            "Downloading and preparing dataset common_voice/tr (download: 592.09 MiB, generated: 2.89 MiB, post-processed: Unknown size, total: 594.98 MiB) to /root/.cache/huggingface/datasets/common_voice/tr/6.1.0/f7a9d973839b7706e9e281c19b7e512f31badf3c0fdbd21c671f3c4bf9acf3b9...\n"
          ]
        },
        {
          "data": {
            "application/vnd.jupyter.widget-view+json": {
              "model_id": "bca68a46851a4394b2054ddee61f5d46",
              "version_major": 2,
              "version_minor": 0
            },
            "text/plain": [
              "Downloading:   0%|          | 0.00/621M [00:00<?, ?B/s]"
            ]
          },
          "metadata": {},
          "output_type": "display_data"
        },
        {
          "data": {
            "application/vnd.jupyter.widget-view+json": {
              "model_id": "9a3380a000654af1b9af977ee8cd8fbf",
              "version_major": 2,
              "version_minor": 0
            },
            "text/plain": [
              "0 examples [00:00, ? examples/s]"
            ]
          },
          "metadata": {},
          "output_type": "display_data"
        },
        {
          "data": {
            "application/vnd.jupyter.widget-view+json": {
              "model_id": "d3eaeee5846041019ba5490ad73fe0c0",
              "version_major": 2,
              "version_minor": 0
            },
            "text/plain": [
              "0 examples [00:00, ? examples/s]"
            ]
          },
          "metadata": {},
          "output_type": "display_data"
        },
        {
          "data": {
            "application/vnd.jupyter.widget-view+json": {
              "model_id": "23f548df14474361ba7ab7a9f5195f96",
              "version_major": 2,
              "version_minor": 0
            },
            "text/plain": [
              "0 examples [00:00, ? examples/s]"
            ]
          },
          "metadata": {},
          "output_type": "display_data"
        },
        {
          "data": {
            "application/vnd.jupyter.widget-view+json": {
              "model_id": "c2461e7b8a424576a9ff5f0160857a90",
              "version_major": 2,
              "version_minor": 0
            },
            "text/plain": [
              "0 examples [00:00, ? examples/s]"
            ]
          },
          "metadata": {},
          "output_type": "display_data"
        },
        {
          "data": {
            "application/vnd.jupyter.widget-view+json": {
              "model_id": "bbff2d5220854349951f6dd5f7fedfb9",
              "version_major": 2,
              "version_minor": 0
            },
            "text/plain": [
              "0 examples [00:00, ? examples/s]"
            ]
          },
          "metadata": {},
          "output_type": "display_data"
        },
        {
          "name": "stdout",
          "output_type": "stream",
          "text": [
            "Dataset common_voice downloaded and prepared to /root/.cache/huggingface/datasets/common_voice/tr/6.1.0/f7a9d973839b7706e9e281c19b7e512f31badf3c0fdbd21c671f3c4bf9acf3b9. Subsequent calls will reuse this data.\n"
          ]
        },
        {
          "name": "stderr",
          "output_type": "stream",
          "text": [
            "Reusing dataset common_voice (/root/.cache/huggingface/datasets/common_voice/tr/6.1.0/f7a9d973839b7706e9e281c19b7e512f31badf3c0fdbd21c671f3c4bf9acf3b9)\n"
          ]
        }
      ],
      "source": [
        "from datasets import load_dataset, load_metric, Audio\n",
        "\n",
        "common_voice_train = load_dataset(\"common_voice\", \"tr\", split=\"train+validation\")\n",
        "common_voice_test = load_dataset(\"common_voice\", \"tr\", split=\"test\")"
      ]
    },
    {
      "cell_type": "markdown",
      "metadata": {
        "id": "ri5y5N_HMANq"
      },
      "source": [
        "Many ASR datasets only provide the target text, `'sentence'` for each audio array `'audio'` and file `'path'`. Common Voice actually provides much more information about each audio file, such as the `'accent'`, etc. However, we want to keep the notebook as general as possible, so that we will only consider the transcribed text for fine-tuning.\n",
        "\n"
      ]
    },
    {
      "cell_type": "code",
      "execution_count": null,
      "metadata": {
        "id": "kbyq6lDgQc2a"
      },
      "outputs": [],
      "source": [
        "common_voice_train = common_voice_train.remove_columns([\"accent\", \"age\", \"client_id\", \"down_votes\", \"gender\", \"locale\", \"segment\", \"up_votes\"])\n",
        "common_voice_test = common_voice_test.remove_columns([\"accent\", \"age\", \"client_id\", \"down_votes\", \"gender\", \"locale\", \"segment\", \"up_votes\"])"
      ]
    },
    {
      "cell_type": "markdown",
      "metadata": {
        "id": "Go9Hq4e4NDT9"
      },
      "source": [
        "Let's write a short function to display some random samples of the dataset and run it a couple of times to get a feeling for the transcriptions."
      ]
    },
    {
      "cell_type": "code",
      "execution_count": null,
      "metadata": {
        "id": "72737oog2F6U"
      },
      "outputs": [],
      "source": [
        "from datasets import ClassLabel\n",
        "import random\n",
        "import pandas as pd\n",
        "from IPython.display import display, HTML\n",
        "\n",
        "def show_random_elements(dataset, num_examples=10):\n",
        "    assert num_examples <= len(dataset), \"Can't pick more elements than there are in the dataset.\"\n",
        "    picks = []\n",
        "    for _ in range(num_examples):\n",
        "        pick = random.randint(0, len(dataset)-1)\n",
        "        while pick in picks:\n",
        "            pick = random.randint(0, len(dataset)-1)\n",
        "        picks.append(pick)\n",
        "    \n",
        "    df = pd.DataFrame(dataset[picks])\n",
        "    display(HTML(df.to_html()))"
      ]
    },
    {
      "cell_type": "code",
      "execution_count": null,
      "metadata": {
        "colab": {
          "base_uri": "https://localhost:8080/",
          "height": 363
        },
        "id": "K_JUmf3G3b9S",
        "outputId": "2a396853-1b10-4e26-ee0d-09326207f52f"
      },
      "outputs": [
        {
          "data": {
            "text/html": [
              "<table border=\"1\" class=\"dataframe\">\n",
              "  <thead>\n",
              "    <tr style=\"text-align: right;\">\n",
              "      <th></th>\n",
              "      <th>sentence</th>\n",
              "    </tr>\n",
              "  </thead>\n",
              "  <tbody>\n",
              "    <tr>\n",
              "      <th>0</th>\n",
              "      <td>Değişiklik her yerde göze çarpıyor.</td>\n",
              "    </tr>\n",
              "    <tr>\n",
              "      <th>1</th>\n",
              "      <td>\"Tiran'da bayram havası vardı.\"</td>\n",
              "    </tr>\n",
              "    <tr>\n",
              "      <th>2</th>\n",
              "      <td>Her iki krediye devlet garantörlük edecek.</td>\n",
              "    </tr>\n",
              "    <tr>\n",
              "      <th>3</th>\n",
              "      <td>Anlaşmanın son imzalanma tarihiyse bir Temmuz.</td>\n",
              "    </tr>\n",
              "    <tr>\n",
              "      <th>4</th>\n",
              "      <td>Büronun altı milyon avro zarara uğradığı sanılıyor.</td>\n",
              "    </tr>\n",
              "    <tr>\n",
              "      <th>5</th>\n",
              "      <td>Bu sorun bir kısırdöngü haline gelebilir.</td>\n",
              "    </tr>\n",
              "    <tr>\n",
              "      <th>6</th>\n",
              "      <td>Fikri uluslararası örgütler de kınadı.</td>\n",
              "    </tr>\n",
              "    <tr>\n",
              "      <th>7</th>\n",
              "      <td>Bu kriz, bir mali krizin sınırlarını aşmıştır.</td>\n",
              "    </tr>\n",
              "    <tr>\n",
              "      <th>8</th>\n",
              "      <td>Adeta küçük bir kasabayı andırır.</td>\n",
              "    </tr>\n",
              "    <tr>\n",
              "      <th>9</th>\n",
              "      <td>Fakat kararda soykırım sözcüğü yer almıyor.</td>\n",
              "    </tr>\n",
              "  </tbody>\n",
              "</table>"
            ],
            "text/plain": [
              "<IPython.core.display.HTML object>"
            ]
          },
          "metadata": {},
          "output_type": "display_data"
        }
      ],
      "source": [
        "show_random_elements(common_voice_train.remove_columns([\"path\", \"audio\"]), num_examples=10)"
      ]
    },
    {
      "cell_type": "markdown",
      "metadata": {
        "id": "fowcOllGNNju"
      },
      "source": [
        "Alright! The transcriptions look fairly clean. Having translated the transcribed sentences, it seems that the language corresponds more to written-out text than noisy dialogue. This makes sense considering that [Common Voice](https://huggingface.co/datasets/common_voice) is a crowd-sourced read speech corpus."
      ]
    },
    {
      "cell_type": "markdown",
      "metadata": {
        "id": "vq7OR50LN49m"
      },
      "source": [
        "We can see that the transcriptions contain some special characters, such as `,.?!;:`. Without a language model, it is much harder to classify speech chunks to such special characters because they don't really correspond to a characteristic sound unit. *E.g.*, the letter `\"s\"` has a more or less clear sound, whereas the special character `\".\"` does not.\n",
        "Also in order to understand the meaning of a speech signal, it is usually not necessary to include special characters in the transcription.\n",
        "\n",
        "In addition, we normalize the text to only have lower case letters and append a word separator token at the end."
      ]
    },
    {
      "cell_type": "code",
      "execution_count": null,
      "metadata": {
        "id": "svKzVJ_hQGK6"
      },
      "outputs": [],
      "source": [
        "import re\n",
        "chars_to_ignore_regex = '[\\,\\?\\.\\!\\-\\;\\:\\\"\\“\\%\\‘\\”\\�]'\n",
        "\n",
        "def remove_special_characters(batch):\n",
        "    batch[\"sentence\"] = re.sub(chars_to_ignore_regex, '', batch[\"sentence\"]).lower() + \" \"\n",
        "    return batch"
      ]
    },
    {
      "cell_type": "code",
      "execution_count": null,
      "metadata": {
        "colab": {
          "base_uri": "https://localhost:8080/",
          "height": 119,
          "referenced_widgets": [
            "c8fbcb97123a42b38ee18eb0712a8924",
            "64010cb39be8475fa58d3f250eb636f7",
            "c760a9525fc0455ba5d4dedc10cd183c",
            "935e2931503f457b902abb9eda548b1b",
            "5e4409e7c342470f95028f95cc14a864",
            "bf4a2689a0804862ac65f21bdcff0370",
            "65ac3488410d4d35916560e90ea62efb",
            "285159eacf3d4fdc9108db66fb290216",
            "ff2b714913f24108b64fa6ab120131d5",
            "ffe22ed6ad2f4190bcb65fa480b4fa18",
            "64a54b53bfd848a4a0a0ae170e562079",
            "8b0e471718a64a4da8d2ff819cbab49d",
            "6eb455b38d68422186ebc76cf41a6316",
            "a046b7a7ee3b40f7930a00774a302fdb",
            "3f4d309d9be3407ebcb24bbae997527d",
            "2d6ccbcfbe284105a57cd950e2bdf129",
            "38f346b5a3a14fd1a86381017e3e9689",
            "97dab204bee54ef0a9f8d1ec5e74b2ec",
            "1868f4b9a1c24d1e908ef0b1b1ee6835",
            "d7c4be314dc945cfb57e86d14c48b661",
            "b14fcc491d8a42d1b1a5e01cbbf1da41",
            "4daff97b105543fe85dcd3117f93e1bc"
          ]
        },
        "id": "XIHocAuTQbBR",
        "outputId": "04e56889-c5b5-4da3-a0bd-831f125e7201"
      },
      "outputs": [
        {
          "name": "stderr",
          "output_type": "stream",
          "text": [
            "Parameter 'function'=<function remove_special_characters at 0x7f4990164830> of the transform datasets.arrow_dataset.Dataset._map_single couldn't be hashed properly, a random hash was used instead. Make sure your transforms and parameters are serializable with pickle or dill for the dataset fingerprinting and caching to work. If you reuse this transform, the caching mechanism will consider it to be different from the previous calls and recompute everything. This warning is only showed once. Subsequent hashing failures won't be showed.\n"
          ]
        },
        {
          "data": {
            "application/vnd.jupyter.widget-view+json": {
              "model_id": "c8fbcb97123a42b38ee18eb0712a8924",
              "version_major": 2,
              "version_minor": 0
            },
            "text/plain": [
              "  0%|          | 0/3478 [00:00<?, ?ex/s]"
            ]
          },
          "metadata": {},
          "output_type": "display_data"
        },
        {
          "data": {
            "application/vnd.jupyter.widget-view+json": {
              "model_id": "8b0e471718a64a4da8d2ff819cbab49d",
              "version_major": 2,
              "version_minor": 0
            },
            "text/plain": [
              "  0%|          | 0/1647 [00:00<?, ?ex/s]"
            ]
          },
          "metadata": {},
          "output_type": "display_data"
        }
      ],
      "source": [
        "common_voice_train = common_voice_train.map(remove_special_characters)\n",
        "common_voice_test = common_voice_test.map(remove_special_characters)"
      ]
    },
    {
      "cell_type": "code",
      "execution_count": null,
      "metadata": {
        "colab": {
          "base_uri": "https://localhost:8080/",
          "height": 363
        },
        "id": "RBDRAAYxRE6n",
        "outputId": "54cfa4cb-6262-405e-e678-6ea4b9543af2"
      },
      "outputs": [
        {
          "data": {
            "text/html": [
              "<table border=\"1\" class=\"dataframe\">\n",
              "  <thead>\n",
              "    <tr style=\"text-align: right;\">\n",
              "      <th></th>\n",
              "      <th>sentence</th>\n",
              "    </tr>\n",
              "  </thead>\n",
              "  <tbody>\n",
              "    <tr>\n",
              "      <th>0</th>\n",
              "      <td>pag'ı genelde onbinlerce turist ziyaret ediyor</td>\n",
              "    </tr>\n",
              "    <tr>\n",
              "      <th>1</th>\n",
              "      <td>bunu kim ister</td>\n",
              "    </tr>\n",
              "    <tr>\n",
              "      <th>2</th>\n",
              "      <td>kosova ve sırbistan  şimdi ne olacak</td>\n",
              "    </tr>\n",
              "    <tr>\n",
              "      <th>3</th>\n",
              "      <td>sizce bu bütçe mali açıdan ne kadar istikrarlı</td>\n",
              "    </tr>\n",
              "    <tr>\n",
              "      <th>4</th>\n",
              "      <td>bir diğer on altı bin altı yüz altmış iki kişi ise halen kayıp</td>\n",
              "    </tr>\n",
              "    <tr>\n",
              "      <th>5</th>\n",
              "      <td>bu süreçle ilgili fikriniz nedir</td>\n",
              "    </tr>\n",
              "    <tr>\n",
              "      <th>6</th>\n",
              "      <td>başbakan muhalefetin katkılarını da kabul etti</td>\n",
              "    </tr>\n",
              "    <tr>\n",
              "      <th>7</th>\n",
              "      <td>sizce etnik çeşitlilik yakın zamanda kosova'da gerçeğe dönüşebilir mi</td>\n",
              "    </tr>\n",
              "    <tr>\n",
              "      <th>8</th>\n",
              "      <td>ayrıldıklarında meyrema sadece sekiz yaşındaydı</td>\n",
              "    </tr>\n",
              "    <tr>\n",
              "      <th>9</th>\n",
              "      <td>pek çok şiddet olayını ifşa ettik</td>\n",
              "    </tr>\n",
              "  </tbody>\n",
              "</table>"
            ],
            "text/plain": [
              "<IPython.core.display.HTML object>"
            ]
          },
          "metadata": {},
          "output_type": "display_data"
        }
      ],
      "source": [
        "show_random_elements(common_voice_train.remove_columns([\"path\",\"audio\"]))"
      ]
    },
    {
      "cell_type": "markdown",
      "metadata": {
        "id": "jwfaptH5RJwA"
      },
      "source": [
        "Good! This looks better. We have removed most special characters from transcriptions and normalized them to lower-case only.\n",
        "\n",
        "In CTC, it is common to classify speech chunks into letters, so we will do the same here. \n",
        "Let's extract all distinct letters of the training and test data and build our vocabulary from this set of letters.\n",
        "\n",
        "We write a mapping function that concatenates all transcriptions into one long transcription and then transforms the string into a set of chars. \n",
        "It is important to pass the argument `batched=True` to the `map(...)` function so that the mapping function has access to all transcriptions at once."
      ]
    },
    {
      "cell_type": "code",
      "execution_count": null,
      "metadata": {
        "id": "LwCshNbbeRZR"
      },
      "outputs": [],
      "source": [
        "def extract_all_chars(batch):\n",
        "  all_text = \" \".join(batch[\"sentence\"])\n",
        "  vocab = list(set(all_text))\n",
        "  return {\"vocab\": [vocab], \"all_text\": [all_text]}"
      ]
    },
    {
      "cell_type": "code",
      "execution_count": null,
      "metadata": {
        "colab": {
          "base_uri": "https://localhost:8080/",
          "height": 81,
          "referenced_widgets": [
            "1ed2cf184a9f45758bb6bfaf28496ff1",
            "41adfd06f38645ecbe04c1b88e40c2b5",
            "08094f77d5f146238a1d9c97ad2ce5c0",
            "c89c407f7e0b4034bf80aff57160a0d9",
            "4c036e5012cf4d77ae45576afe3f82fb",
            "5eaacd176ef241b4b568bdaf01038d5a",
            "a781f031e34e425eb382354750ae4460",
            "7b4a47ff3b6d44dc9ebb189b1a2dd4ae",
            "2abd6413c022425f8bca7c9063946026",
            "659a5be7a79345cc92b6f3923081f48a",
            "3f04be2b357a4c4ba5b1cbf19e47c62b",
            "4c41cf2ecd3547d2bff9c4682c860cce",
            "2f0d2a3fec3e42dda06d34d2d5ff735a",
            "97c38734878e41ac942d5f0426aea688",
            "c0f58f2823374ae095ae17713f00497e",
            "571168216b3c42309140b1ced783aa9c",
            "30f01c03c1f34e91a8d13dddea132f40",
            "4eed9f9d3b41493485eecb9d8b40a053",
            "c99f20b50205433ea29e56aa87af2eb2",
            "eecd5ec1d15a4c0788193b1f498b108e",
            "9f2f948d74c6480087a3fe4674741248",
            "cfe322472c0b47469477edcac702ad6b"
          ]
        },
        "id": "_m6uUjjcfbjH",
        "outputId": "449033db-ec3d-4b75-f19a-59fda089affd"
      },
      "outputs": [
        {
          "data": {
            "application/vnd.jupyter.widget-view+json": {
              "model_id": "1ed2cf184a9f45758bb6bfaf28496ff1",
              "version_major": 2,
              "version_minor": 0
            },
            "text/plain": [
              "  0%|          | 0/1 [00:00<?, ?ba/s]"
            ]
          },
          "metadata": {},
          "output_type": "display_data"
        },
        {
          "data": {
            "application/vnd.jupyter.widget-view+json": {
              "model_id": "4c41cf2ecd3547d2bff9c4682c860cce",
              "version_major": 2,
              "version_minor": 0
            },
            "text/plain": [
              "  0%|          | 0/1 [00:00<?, ?ba/s]"
            ]
          },
          "metadata": {},
          "output_type": "display_data"
        }
      ],
      "source": [
        "vocab_train = common_voice_train.map(extract_all_chars, batched=True, batch_size=-1, keep_in_memory=True, remove_columns=common_voice_train.column_names)\n",
        "vocab_test = common_voice_test.map(extract_all_chars, batched=True, batch_size=-1, keep_in_memory=True, remove_columns=common_voice_test.column_names)"
      ]
    },
    {
      "cell_type": "markdown",
      "metadata": {
        "id": "7oVgE8RZSJNP"
      },
      "source": [
        "Now, we create the union of all distinct letters in the training dataset and test dataset and convert the resulting list into an enumerated dictionary."
      ]
    },
    {
      "cell_type": "code",
      "execution_count": null,
      "metadata": {
        "id": "aQfneNsmlJI0"
      },
      "outputs": [],
      "source": [
        "vocab_list = list(set(vocab_train[\"vocab\"][0]) | set(vocab_test[\"vocab\"][0]))"
      ]
    },
    {
      "cell_type": "code",
      "execution_count": null,
      "metadata": {
        "colab": {
          "base_uri": "https://localhost:8080/"
        },
        "id": "_0kRndSvqaKk",
        "outputId": "2d76a87b-d112-4117-92a6-1ec0c7ad9270"
      },
      "outputs": [
        {
          "data": {
            "text/plain": [
              "{' ': 10,\n",
              " \"'\": 6,\n",
              " 'a': 0,\n",
              " 'b': 36,\n",
              " 'c': 34,\n",
              " 'd': 13,\n",
              " 'e': 33,\n",
              " 'f': 15,\n",
              " 'g': 14,\n",
              " 'h': 2,\n",
              " 'i': 26,\n",
              " 'j': 5,\n",
              " 'k': 19,\n",
              " 'l': 24,\n",
              " 'm': 25,\n",
              " 'n': 27,\n",
              " 'o': 11,\n",
              " 'p': 29,\n",
              " 'q': 35,\n",
              " 'r': 23,\n",
              " 's': 9,\n",
              " 't': 37,\n",
              " 'u': 12,\n",
              " 'v': 20,\n",
              " 'w': 17,\n",
              " 'x': 31,\n",
              " 'y': 18,\n",
              " 'z': 28,\n",
              " 'â': 32,\n",
              " 'ç': 1,\n",
              " 'ë': 22,\n",
              " 'î': 4,\n",
              " 'ö': 8,\n",
              " 'ü': 3,\n",
              " 'ğ': 7,\n",
              " 'ı': 21,\n",
              " 'ş': 30,\n",
              " '̇': 16}"
            ]
          },
          "execution_count": 12,
          "metadata": {},
          "output_type": "execute_result"
        }
      ],
      "source": [
        "vocab_dict = {v: k for k, v in enumerate(vocab_list)}\n",
        "vocab_dict"
      ]
    },
    {
      "cell_type": "markdown",
      "metadata": {
        "id": "JOSzbvs9SXT1"
      },
      "source": [
        "Cool, we see that all letters of the alphabet occur in the dataset (which is not really surprising) and we also extracted the special characters `\" \"` and `'`. Note that we did not exclude those special characters because: \n",
        "\n",
        "- The model has to learn to predict when a word is finished or else the model prediction would always be a sequence of chars which would make it impossible to separate words from each other.\n",
        "- From the transcriptions above it seems that words that include an apostrophe, such as `maktouf'un` do exist in Turkish, so I decided to keep the apostrophe in the dataset. This might be a wrong assumption though.\n",
        "\n",
        "One should always keep in mind that the data-preprocessing is a very important step before training your model. E.g., we don't want our model to differentiate between `a` and `A` just because we forgot to normalize the data. The difference between `a` and `A` does not depend on the \"sound\" of the letter at all, but more on grammatical rules - *e.g.* use a capitalized letter at the beginning of the sentence. So it is sensible to remove the difference between capitalized and non-capitalized letters so that the model has an easier time learning to transcribe speech. \n",
        "\n",
        "It is always advantageous to get help from a native speaker of the language you would like to transcribe to verify whether the assumptions you made are sensible, *e.g.* I should have made sure that keeping `'`, but removing other special characters is a sensible choice for Turkish. "
      ]
    },
    {
      "cell_type": "markdown",
      "metadata": {
        "id": "b1fBRCn-TRaO"
      },
      "source": [
        "To make it clearer that `\" \"` has its own token class, we give it a more visible character `|`. In addition, we also add an \"unknown\" token so that the model can later deal with characters not encountered in Common Voice's training set. \n",
        "\n",
        "Finally, we also add a padding token that corresponds to CTC's \"*blank token*\". The \"blank token\" is a core component of the CTC algorithm. For more information, please take a look at the \"Alignment\" section [here](https://distill.pub/2017/ctc/)."
      ]
    },
    {
      "cell_type": "code",
      "execution_count": null,
      "metadata": {
        "id": "npbIbBoLgaFX"
      },
      "outputs": [],
      "source": [
        "vocab_dict[\"|\"] = vocab_dict[\" \"]\n",
        "del vocab_dict[\" \"]"
      ]
    },
    {
      "cell_type": "code",
      "execution_count": null,
      "metadata": {
        "colab": {
          "base_uri": "https://localhost:8080/"
        },
        "id": "znF0bNunsjbl",
        "outputId": "f301b0d5-7ef2-4c23-be21-5959a175bf0c"
      },
      "outputs": [
        {
          "data": {
            "text/plain": [
              "40"
            ]
          },
          "execution_count": 14,
          "metadata": {},
          "output_type": "execute_result"
        }
      ],
      "source": [
        "vocab_dict[\"[UNK]\"] = len(vocab_dict)\n",
        "vocab_dict[\"[PAD]\"] = len(vocab_dict)\n",
        "len(vocab_dict)"
      ]
    },
    {
      "cell_type": "markdown",
      "metadata": {
        "id": "SFPGfet8U5sL"
      },
      "source": [
        "Cool, now our vocabulary is complete and consists of 39 tokens, which means that the linear layer that we will add on top of the pretrained XLSR-Wav2Vec2 checkpoint will have an output dimension of 39."
      ]
    },
    {
      "cell_type": "markdown",
      "metadata": {
        "id": "1CujRgBNVRaD"
      },
      "source": [
        "Let's now save the vocabulary as a json file."
      ]
    },
    {
      "cell_type": "code",
      "execution_count": null,
      "metadata": {
        "id": "ehyUoh9vk191"
      },
      "outputs": [],
      "source": [
        "import json\n",
        "with open('vocab.json', 'w') as vocab_file:\n",
        "    json.dump(vocab_dict, vocab_file)"
      ]
    },
    {
      "cell_type": "markdown",
      "metadata": {
        "id": "SHJDaKlIVVim"
      },
      "source": [
        "In a final step, we use the json file to instantiate an object of the `Wav2Vec2CTCTokenizer` class."
      ]
    },
    {
      "cell_type": "code",
      "execution_count": null,
      "metadata": {
        "id": "xriFGEWQkO4M"
      },
      "outputs": [],
      "source": [
        "from transformers import Wav2Vec2CTCTokenizer\n",
        "\n",
        "tokenizer = Wav2Vec2CTCTokenizer(\"./vocab.json\", unk_token=\"[UNK]\", pad_token=\"[PAD]\", word_delimiter_token=\"|\")"
      ]
    },
    {
      "cell_type": "markdown",
      "metadata": {
        "id": "KvL12DrNV4cx"
      },
      "source": [
        "Next, we will create the feature extractor."
      ]
    },
    {
      "cell_type": "markdown",
      "metadata": {
        "id": "mYcIiR2FQ96i"
      },
      "source": [
        "### Create XLSR-Wav2Vec2 Feature Extractor"
      ]
    },
    {
      "cell_type": "markdown",
      "metadata": {
        "id": "Y6mDEyW719rx"
      },
      "source": [
        "Speech is a continuous signal and to be treated by computers, it first has to be discretized, which is usually called **sampling**. The sampling rate hereby plays an important role in that it defines how many data points of the speech signal are measured per second. Therefore, sampling with a higher sampling rate results in a better approximation of the *real* speech signal but also necessitates more values per second.\n",
        "\n",
        "A pretrained checkpoint expects its input data to have been sampled more or less from the same distribution as the data it was trained on. The same speech signals sampled at two different rates have a very different distribution, *e.g.*, doubling the sampling rate results in data points being twice as long. Thus, \n",
        "before fine-tuning a pretrained checkpoint of an ASR model, it is crucial to verify that the sampling rate of the data that was used to pretrain the model matches the sampling rate of the dataset used to fine-tune the model.\n",
        "\n",
        "XLSR-Wav2Vec2 was pretrained on the audio data of [Babel](https://huggingface.co/datasets/librispeech_asr), \n",
        "[Multilingual LibriSpeech (MLS)](https://ai.facebook.com/blog/a-new-open-data-set-for-multilingual-speech-research/), and [Common Voice](https://huggingface.co/datasets/common_voice). Most of those datasets were sampled at 16kHz, so that Common Voice, sampled at 48kHz, has to be downsampled to 16kHz for training. Therefore, we will have to downsample our fine-tuning data to 16kHz in the following.\n",
        "\n"
      ]
    },
    {
      "cell_type": "markdown",
      "metadata": {
        "id": "KuUbPW7oV-B5"
      },
      "source": [
        "A XLSR-Wav2Vec2 feature extractor object requires the following parameters to be instantiated:\n",
        "\n",
        "- `feature_size`: Speech models take a sequence of feature vectors as an input. While the length of this sequence obviously varies, the feature size should not. In the case of Wav2Vec2, the feature size is 1 because the model was trained on the raw speech signal ${}^2$.\n",
        "- `sampling_rate`: The sampling rate at which the model is trained on.\n",
        "- `padding_value`: For batched inference, shorter inputs need to be padded with a specific value\n",
        "- `do_normalize`: Whether the input should be *zero-mean-unit-variance* normalized or not. Usually, speech models perform better when normalizing the input\n",
        "- `return_attention_mask`: Whether the model should make use of an `attention_mask` for batched inference. In general, XLSR-Wav2Vec2 models should **always** make use of the `attention_mask`."
      ]
    },
    {
      "cell_type": "code",
      "execution_count": null,
      "metadata": {
        "id": "kAR0-2KLkopp"
      },
      "outputs": [],
      "source": [
        "from transformers import Wav2Vec2FeatureExtractor\n",
        "\n",
        "feature_extractor = Wav2Vec2FeatureExtractor(feature_size=1, sampling_rate=16000, padding_value=0.0, do_normalize=True, return_attention_mask=True)"
      ]
    },
    {
      "cell_type": "markdown",
      "metadata": {
        "id": "qUETetgqYC3W"
      },
      "source": [
        "Great, XLSR-Wav2Vec2's feature extraction pipeline is thereby fully defined!\n",
        "\n",
        "To make the usage of XLSR-Wav2Vec2 as user-friendly as possible, the feature extractor and tokenizer are *wrapped* into a single `Wav2Vec2Processor` class so that one only needs a `model` and `processor` object."
      ]
    },
    {
      "cell_type": "code",
      "execution_count": null,
      "metadata": {
        "id": "KYZtoW-tlZgl"
      },
      "outputs": [],
      "source": [
        "from transformers import Wav2Vec2Processor\n",
        "\n",
        "processor = Wav2Vec2Processor(feature_extractor=feature_extractor, tokenizer=tokenizer)"
      ]
    },
    {
      "cell_type": "markdown",
      "metadata": {
        "id": "fTfFDSS0YfMN"
      },
      "source": [
        "If one wants to re-use the just created processor and the fine-tuned model of this notebook, one can mount his/her google drive to the notebook and save all relevant files there. To do so, please uncomment the following lines. \n",
        "\n",
        "We will give the fine-tuned model the name `\"wav2vec2-large-xlsr-turkish-demo\"`."
      ]
    },
    {
      "cell_type": "code",
      "execution_count": null,
      "metadata": {
        "id": "yq7Bzuzz4zjQ"
      },
      "outputs": [],
      "source": [
        "# from google.colab import drive\n",
        "# drive.mount('/content/gdrive/')"
      ]
    },
    {
      "cell_type": "code",
      "execution_count": null,
      "metadata": {
        "id": "Par9rpypPsml"
      },
      "outputs": [],
      "source": [
        "# processor.save_pretrained(\"/content/gdrive/MyDrive/wav2vec2-large-xlsr-turkish-demo\")"
      ]
    },
    {
      "cell_type": "markdown",
      "metadata": {
        "id": "DrKnYuvDIoOO"
      },
      "source": [
        "Next, we can prepare the dataset."
      ]
    },
    {
      "cell_type": "markdown",
      "metadata": {
        "id": "YFmShnl7RE35"
      },
      "source": [
        "### Preprocess Data\n",
        "\n",
        "So far, we have not looked at the actual values of the speech signal but just the transcriptio. In addition to `sentence`, our datasets include two more column names `path` and `audio`. `path` states the absolute path of the audio file. Let's take a look.\n"
      ]
    },
    {
      "cell_type": "code",
      "execution_count": null,
      "metadata": {
        "colab": {
          "base_uri": "https://localhost:8080/"
        },
        "id": "TTCS7W6XJ9BG",
        "outputId": "7037e0e0-b3e4-48fe-9b31-3c2038c22de4"
      },
      "outputs": [
        {
          "data": {
            "application/vnd.google.colaboratory.intrinsic+json": {
              "type": "string"
            },
            "text/plain": [
              "'/root/.cache/huggingface/datasets/downloads/extracted/05be0c29807a73c9b099873d2f5975dae6d05e9f7d577458a2466ecb9a2b0c6b/cv-corpus-6.1-2020-12-11/tr/clips/common_voice_tr_21921195.mp3'"
            ]
          },
          "execution_count": 21,
          "metadata": {},
          "output_type": "execute_result"
        }
      ],
      "source": [
        "common_voice_train[0][\"path\"]"
      ]
    },
    {
      "cell_type": "markdown",
      "metadata": {
        "id": "T6ndIjHGFp0W"
      },
      "source": [
        "However, `XLSR-Wav2Vec2` expects the input in the format of a 1-dimensional array of 16 kHz. This means that the audio file has to be loaded and resampled.\n",
        "\n",
        " Thankfully, `datasets` does this automatically by calling the other column `audio`. Let try it out. "
      ]
    },
    {
      "cell_type": "code",
      "execution_count": null,
      "metadata": {
        "colab": {
          "base_uri": "https://localhost:8080/"
        },
        "id": "qj_z5Zc3GAs9",
        "outputId": "3741ee9f-47fb-4d3c-85e2-47a132b89eb0"
      },
      "outputs": [
        {
          "data": {
            "text/plain": [
              "{'array': array([ 0.0000000e+00,  0.0000000e+00,  0.0000000e+00, ...,\n",
              "        -8.8930130e-05, -3.8027763e-05, -2.9146671e-05], dtype=float32),\n",
              " 'path': '/root/.cache/huggingface/datasets/downloads/extracted/05be0c29807a73c9b099873d2f5975dae6d05e9f7d577458a2466ecb9a2b0c6b/cv-corpus-6.1-2020-12-11/tr/clips/common_voice_tr_21921195.mp3',\n",
              " 'sampling_rate': 48000}"
            ]
          },
          "execution_count": 22,
          "metadata": {},
          "output_type": "execute_result"
        }
      ],
      "source": [
        "common_voice_train[0][\"audio\"]"
      ]
    },
    {
      "cell_type": "markdown",
      "metadata": {
        "id": "WUUTgI1bGHW-"
      },
      "source": [
        "Great, we can see that the audio file has automatically been loaded. This is thanks to the new [`\"Audio\"` feature](https://huggingface.co/docs/datasets/package_reference/main_classes.html?highlight=audio#datasets.Audio) introduced in `datasets == 4.13.3`, which loads and resamples audio files on-the-fly upon calling.\n",
        "\n",
        "In the example above we can see that the audio data is loaded with a sampling rate of 48kHZ whereas 16kHz are expected by the model. We can set the audio feature to the correct sampling rate by making use of [`cast_column`](https://huggingface.co/docs/datasets/package_reference/main_classes.html?highlight=cast_column#datasets.DatasetDict.cast_column):"
      ]
    },
    {
      "cell_type": "code",
      "execution_count": null,
      "metadata": {
        "id": "rrv65aj7G95i"
      },
      "outputs": [],
      "source": [
        "common_voice_train = common_voice_train.cast_column(\"audio\", Audio(sampling_rate=16_000))\n",
        "common_voice_test = common_voice_test.cast_column(\"audio\", Audio(sampling_rate=16_000))"
      ]
    },
    {
      "cell_type": "markdown",
      "metadata": {
        "id": "PcnO4x-NGBEi"
      },
      "source": [
        "Let's take a look at `\"audio\"` again."
      ]
    },
    {
      "cell_type": "code",
      "execution_count": null,
      "metadata": {
        "colab": {
          "base_uri": "https://localhost:8080/"
        },
        "id": "aKtkc1o_HWHC",
        "outputId": "7407fe90-ade2-4b5b-94e6-1f4ddba279f6"
      },
      "outputs": [
        {
          "data": {
            "text/plain": [
              "{'array': array([ 0.0000000e+00,  0.0000000e+00,  0.0000000e+00, ...,\n",
              "        -7.4556941e-05, -1.4621433e-05, -5.7861507e-05], dtype=float32),\n",
              " 'path': '/root/.cache/huggingface/datasets/downloads/extracted/05be0c29807a73c9b099873d2f5975dae6d05e9f7d577458a2466ecb9a2b0c6b/cv-corpus-6.1-2020-12-11/tr/clips/common_voice_tr_21921195.mp3',\n",
              " 'sampling_rate': 16000}"
            ]
          },
          "execution_count": 24,
          "metadata": {},
          "output_type": "execute_result"
        }
      ],
      "source": [
        "common_voice_train[0][\"audio\"]"
      ]
    },
    {
      "cell_type": "markdown",
      "metadata": {
        "id": "SOckzFd4Mbzq"
      },
      "source": [
        "This seemed to have worked! Let's listen to a couple of audio files to better understand the dataset and verify that the audio was correctly loaded. \n",
        "\n",
        "**Note**: *You can click the following cell a couple of times to listen to different speech samples.*"
      ]
    },
    {
      "cell_type": "code",
      "execution_count": null,
      "metadata": {
        "colab": {
          "base_uri": "https://localhost:8080/"
        },
        "id": "dueM6U7Ev0OA",
        "outputId": "a422e3b1-5978-4814-ecbb-7f482afa64a0"
      },
      "outputs": [
        {
          "data": {
            "text/html": [
              "\n",
              "                <audio controls=\"controls\" autoplay=\"autoplay\">\n",
              "                    <source src=\"data:audio/wav;base64,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\" type=\"audio/wav\" />\n",
              "                    Your browser does not support the audio element.\n",
              "                </audio>\n",
              "              "
            ],
            "text/plain": [
              "<IPython.lib.display.Audio object>"
            ]
          },
          "execution_count": 25,
          "metadata": {},
          "output_type": "execute_result"
        }
      ],
      "source": [
        "import IPython.display as ipd\n",
        "import numpy as np\n",
        "import random\n",
        "\n",
        "rand_int = random.randint(0, len(common_voice_train)-1)\n",
        "\n",
        "ipd.Audio(data=common_voice_train[rand_int][\"audio\"][\"array\"], autoplay=True, rate=16000)"
      ]
    },
    {
      "cell_type": "markdown",
      "metadata": {
        "id": "gY8m3vARHYTa"
      },
      "source": [
        "Great, it seems like the data is now correctly loaded and resampled. "
      ]
    },
    {
      "cell_type": "markdown",
      "metadata": {
        "id": "1MaL9J2dNVtG"
      },
      "source": [
        "It can be heard, that the speakers change along with their speaking rate, accent, and background environment, etc. Overall, the recordings sound acceptably clear though, which is to be expected from a crowd-sourced read speech corpus.\n",
        "\n",
        "Let's do a final check that the data is correctly prepared, by printing the shape of the speech input, its transcription, and the corresponding sampling rate.\n",
        "\n",
        "**Note**: *You can click the following cell a couple of times to verify multiple samples.*"
      ]
    },
    {
      "cell_type": "code",
      "execution_count": null,
      "metadata": {
        "colab": {
          "base_uri": "https://localhost:8080/"
        },
        "id": "1Po2g7YPuRTx",
        "outputId": "3ef53518-5759-4f24-ef8b-d47079a83751"
      },
      "outputs": [
        {
          "name": "stdout",
          "output_type": "stream",
          "text": [
            "Target text: tek istisna ise vize serbestliği konusu oldu \n",
            "Input array shape: (54528,)\n",
            "Sampling rate: 16000\n"
          ]
        }
      ],
      "source": [
        "rand_int = random.randint(0, len(common_voice_train)-1)\n",
        "\n",
        "print(\"Target text:\", common_voice_train[rand_int][\"sentence\"])\n",
        "print(\"Input array shape:\", common_voice_train[rand_int][\"audio\"][\"array\"].shape)\n",
        "print(\"Sampling rate:\", common_voice_train[rand_int][\"audio\"][\"sampling_rate\"])"
      ]
    },
    {
      "cell_type": "markdown",
      "metadata": {
        "id": "M9teZcSwOBJ4"
      },
      "source": [
        "Good! Everything looks fine - the data is a 1-dimensional array, the sampling rate always corresponds to 16kHz, and the target text is normalized."
      ]
    },
    {
      "cell_type": "markdown",
      "metadata": {
        "id": "k3Pbn5WvOYZF"
      },
      "source": [
        "Finally, we can leverage `Wav2Vec2Processor` to process the data to the format expected by `Wav2Vec2ForCTC` for training. We will again make use of the `map(...)` function.\n",
        "\n",
        "First, we load and resample the audio data, simply by calling `batch[\"audio\"]`.\n",
        "Second, we extract the `input_values` from the loaded audio file. In our case, this includes only normalization, but for other speech models, this step could correspond to extracting, *e.g.* [Log-Mel features](https://en.wikipedia.org/wiki/Mel-frequency_cepstrum). \n",
        "Third, we encode the transcriptions to label ids.\n",
        "\n",
        "**Note**: This mapping function is a good example of how the `Wav2Vec2Processor` class should be used. In \"normal\" context, calling `processor(...)` is redirected to `Wav2Vec2FeatureExtractor`'s call method. When wrapping the processor into the `as_target_processor` context, however, the same method is redirected to `Wav2Vec2CTCTokenizer`'s call method.\n",
        "For more information please check the [docs](https://huggingface.co/transformers/master/model_doc/wav2vec2.html#transformers.Wav2Vec2Processor.__call__)."
      ]
    },
    {
      "cell_type": "code",
      "execution_count": null,
      "metadata": {
        "id": "eJY7I0XAwe9p"
      },
      "outputs": [],
      "source": [
        "def prepare_dataset(batch):\n",
        "    audio = batch[\"audio\"]\n",
        "\n",
        "    # batched output is \"un-batched\"\n",
        "    batch[\"input_values\"] = processor(audio[\"array\"], sampling_rate=audio[\"sampling_rate\"]).input_values[0]\n",
        "    \n",
        "    with processor.as_target_processor():\n",
        "        batch[\"labels\"] = processor(batch[\"sentence\"]).input_ids\n",
        "    return batch"
      ]
    },
    {
      "cell_type": "markdown",
      "metadata": {
        "id": "q6Pg_WR3OGAP"
      },
      "source": [
        "Let's apply the data preparation function to all examples."
      ]
    },
    {
      "cell_type": "code",
      "execution_count": null,
      "metadata": {
        "id": "-np9xYK-wl8q"
      },
      "outputs": [],
      "source": [
        "common_voice_train = common_voice_train.map(prepare_dataset, remove_columns=common_voice_train.column_names, num_proc=4)\n",
        "common_voice_test = common_voice_test.map(prepare_dataset, remove_columns=common_voice_test.column_names, num_proc=4)"
      ]
    },
    {
      "cell_type": "markdown",
      "metadata": {
        "id": "nKcEWHvKI1by"
      },
      "source": [
        "**Note**: Currently `datasets` make use of [`torchaudio`](https://pytorch.org/audio/stable/index.html) and [`librosa`](https://librosa.org/doc/latest/index.html) for audio loading and resampling. If you wish to implement your own costumized data loading/sampling, feel free to just make use of the `\"path\"` column instead and disregard the `\"audio\"` column."
      ]
    },
    {
      "cell_type": "markdown",
      "metadata": {
        "id": "gYlQkKVoRUos"
      },
      "source": [
        "## Training\n",
        "\n",
        "The data is processed so that we are ready to start setting up the training pipeline. We will make use of 🤗's [Trainer](https://huggingface.co/transformers/master/main_classes/trainer.html?highlight=trainer) for which we essentially need to do the following:\n",
        "\n",
        "- Define a data collator. In contrast to most NLP models, XLSR-Wav2Vec2 has a much larger input length than output length. *E.g.*, a sample of input length 50000 has an output length of no more than 100. Given the large input sizes, it is much more efficient to pad the training batches dynamically meaning that all training samples should only be padded to the longest sample in their batch and not the overall longest sample. Therefore, fine-tuning XLSR-Wav2Vec2 requires a special padding data collator, which we will define below\n",
        "\n",
        "- Evaluation metric. During training, the model should be evaluated on the word error rate. We should define a `compute_metrics` function accordingly\n",
        "\n",
        "- Load a pretrained checkpoint. We need to load a pretrained checkpoint and configure it correctly for training.\n",
        "\n",
        "- Define the training configuration.\n",
        "\n",
        "After having fine-tuned the model, we will correctly evaluate it on the test data and verify that it has indeed learned to correctly transcribe speech."
      ]
    },
    {
      "cell_type": "markdown",
      "metadata": {
        "id": "Slk403unUS91"
      },
      "source": [
        "### Set-up Trainer\n",
        "\n",
        "Let's start by defining the data collator. The code for the data collator was copied from [this example](https://github.com/huggingface/transformers/blob/9a06b6b11bdfc42eea08fa91d0c737d1863c99e3/examples/research_projects/wav2vec2/run_asr.py#L81).\n",
        "\n",
        "Without going into too many details, in contrast to the common data collators, this data collator treats the `input_values` and `labels` differently and thus applies to separate padding functions on them (again making use of XLSR-Wav2Vec2's context manager). This is necessary because in speech input and output are of different modalities meaning that they should not be treated by the same padding function.\n",
        "Analogous to the common data collators, the padding tokens in the labels with `-100` so that those tokens are **not** taken into account when computing the loss."
      ]
    },
    {
      "cell_type": "code",
      "execution_count": null,
      "metadata": {
        "id": "tborvC9hx88e"
      },
      "outputs": [],
      "source": [
        "import torch\n",
        "\n",
        "from dataclasses import dataclass, field\n",
        "from typing import Any, Dict, List, Optional, Union\n",
        "\n",
        "@dataclass\n",
        "class DataCollatorCTCWithPadding:\n",
        "    \"\"\"\n",
        "    Data collator that will dynamically pad the inputs received.\n",
        "    Args:\n",
        "        processor (:class:`~transformers.Wav2Vec2Processor`)\n",
        "            The processor used for proccessing the data.\n",
        "        padding (:obj:`bool`, :obj:`str` or :class:`~transformers.tokenization_utils_base.PaddingStrategy`, `optional`, defaults to :obj:`True`):\n",
        "            Select a strategy to pad the returned sequences (according to the model's padding side and padding index)\n",
        "            among:\n",
        "            * :obj:`True` or :obj:`'longest'`: Pad to the longest sequence in the batch (or no padding if only a single\n",
        "              sequence if provided).\n",
        "            * :obj:`'max_length'`: Pad to a maximum length specified with the argument :obj:`max_length` or to the\n",
        "              maximum acceptable input length for the model if that argument is not provided.\n",
        "            * :obj:`False` or :obj:`'do_not_pad'` (default): No padding (i.e., can output a batch with sequences of\n",
        "              different lengths).\n",
        "        max_length (:obj:`int`, `optional`):\n",
        "            Maximum length of the ``input_values`` of the returned list and optionally padding length (see above).\n",
        "        max_length_labels (:obj:`int`, `optional`):\n",
        "            Maximum length of the ``labels`` returned list and optionally padding length (see above).\n",
        "        pad_to_multiple_of (:obj:`int`, `optional`):\n",
        "            If set will pad the sequence to a multiple of the provided value.\n",
        "            This is especially useful to enable the use of Tensor Cores on NVIDIA hardware with compute capability >=\n",
        "            7.5 (Volta).\n",
        "    \"\"\"\n",
        "\n",
        "    processor: Wav2Vec2Processor\n",
        "    padding: Union[bool, str] = True\n",
        "    max_length: Optional[int] = None\n",
        "    max_length_labels: Optional[int] = None\n",
        "    pad_to_multiple_of: Optional[int] = None\n",
        "    pad_to_multiple_of_labels: Optional[int] = None\n",
        "\n",
        "    def __call__(self, features: List[Dict[str, Union[List[int], torch.Tensor]]]) -> Dict[str, torch.Tensor]:\n",
        "        # split inputs and labels since they have to be of different lenghts and need\n",
        "        # different padding methods\n",
        "        input_features = [{\"input_values\": feature[\"input_values\"]} for feature in features]\n",
        "        label_features = [{\"input_ids\": feature[\"labels\"]} for feature in features]\n",
        "\n",
        "        batch = self.processor.pad(\n",
        "            input_features,\n",
        "            padding=self.padding,\n",
        "            max_length=self.max_length,\n",
        "            pad_to_multiple_of=self.pad_to_multiple_of,\n",
        "            return_tensors=\"pt\",\n",
        "        )\n",
        "        with self.processor.as_target_processor():\n",
        "            labels_batch = self.processor.pad(\n",
        "                label_features,\n",
        "                padding=self.padding,\n",
        "                max_length=self.max_length_labels,\n",
        "                pad_to_multiple_of=self.pad_to_multiple_of_labels,\n",
        "                return_tensors=\"pt\",\n",
        "            )\n",
        "\n",
        "        # replace padding with -100 to ignore loss correctly\n",
        "        labels = labels_batch[\"input_ids\"].masked_fill(labels_batch.attention_mask.ne(1), -100)\n",
        "\n",
        "        batch[\"labels\"] = labels\n",
        "\n",
        "        return batch"
      ]
    },
    {
      "cell_type": "code",
      "execution_count": null,
      "metadata": {
        "id": "lbQf5GuZyQ4_"
      },
      "outputs": [],
      "source": [
        "data_collator = DataCollatorCTCWithPadding(processor=processor, padding=True)"
      ]
    },
    {
      "cell_type": "markdown",
      "metadata": {
        "id": "xO-Zdj-5cxXp"
      },
      "source": [
        "Next, the evaluation metric is defined. As mentioned earlier, the \n",
        "predominant metric in ASR is the word error rate (WER), hence we will use it in this notebook as well."
      ]
    },
    {
      "cell_type": "code",
      "execution_count": null,
      "metadata": {
        "colab": {
          "base_uri": "https://localhost:8080/",
          "referenced_widgets": [
            "0207ad43616541d191f9fbfb4df831b6",
            "e801985d10c74d58a7017631f8b8a030",
            "b8a96d584cd44e60b6fa223933a7ae00",
            "a0d2aa1764184683b8c0040df32fe0fd",
            "cb38337364a4419bbfcab14f37879c02",
            "7de50f3804b34e6db1a714e0ec7c53b8",
            "f1f29243fad84ad8a7e41b7393bda5a6",
            "b0b2e567193f4f73aaf245067a5e981f",
            "dfce626571cb42b691b27b9dec37121d",
            "ec97dfe4b90546098ae7e63a8960830b",
            "cee62b4a672b45f2ada3bd1836883cbb"
          ]
        },
        "id": "9Xsux2gmyXso",
        "outputId": "c6d0f066-5882-4761-8012-80c2b377f3b5"
      },
      "outputs": [
        {
          "data": {
            "application/vnd.jupyter.widget-view+json": {
              "model_id": "0207ad43616541d191f9fbfb4df831b6",
              "version_major": 2,
              "version_minor": 0
            },
            "text/plain": [
              "Downloading:   0%|          | 0.00/1.95k [00:00<?, ?B/s]"
            ]
          },
          "metadata": {},
          "output_type": "display_data"
        }
      ],
      "source": [
        "wer_metric = load_metric(\"wer\")"
      ]
    },
    {
      "cell_type": "markdown",
      "metadata": {
        "id": "E1qZU5p-deqB"
      },
      "source": [
        "The model will return a sequence of logit vectors:\n",
        "$\\mathbf{y}_1, \\ldots, \\mathbf{y}_m$ with $\\mathbf{y}_1 = f_{\\theta}(x_1, \\ldots, x_n)[0]$ and $n >> m$.\n",
        "\n",
        "A logit vector $\\mathbf{y}_1$ contains the log-odds for each word in the vocabulary we defined earlier, thus $\\text{len}(\\mathbf{y}_i) =$ `config.vocab_size`. We are interested in the most likely prediction of the model and thus take the `argmax(...)` of the logits. Also, we transform the encoded labels back to the original string by replacing `-100` with the `pad_token_id` and decoding the ids while making sure that consecutive tokens are **not** grouped to the same token in CTC style ${}^1$."
      ]
    },
    {
      "cell_type": "code",
      "execution_count": null,
      "metadata": {
        "id": "1XZ-kjweyTy_"
      },
      "outputs": [],
      "source": [
        "def compute_metrics(pred):\n",
        "    pred_logits = pred.predictions\n",
        "    pred_ids = np.argmax(pred_logits, axis=-1)\n",
        "\n",
        "    pred.label_ids[pred.label_ids == -100] = processor.tokenizer.pad_token_id\n",
        "\n",
        "    pred_str = processor.batch_decode(pred_ids)\n",
        "    # we do not want to group tokens when computing the metrics\n",
        "    label_str = processor.batch_decode(pred.label_ids, group_tokens=False)\n",
        "\n",
        "    wer = wer_metric.compute(predictions=pred_str, references=label_str)\n",
        "\n",
        "    return {\"wer\": wer}"
      ]
    },
    {
      "cell_type": "markdown",
      "metadata": {
        "id": "Xmgrx4bRwLIH"
      },
      "source": [
        "Now, we can load the pretrained `XLSR-Wav2Vec2` checkpoint. The tokenizer's `pad_token_id` must be to define the model's `pad_token_id` or in the case of `Wav2Vec2ForCTC` also CTC's *blank token* ${}^2$. To save GPU memory, we enable PyTorch's [gradient checkpointing](https://pytorch.org/docs/stable/checkpoint.html) and also set the loss reduction to \"*mean*\".\n",
        "\n",
        "Because the dataset is quite small (~6h of training data) and because Common Voice is quite noisy, fine-tuning Facebook's [wav2vec2-large-xlsr-53 checkpoint](https://huggingface.co/facebook/wav2vec2-large-xlsr-53) seems to require some hyper-parameter tuning. Therefore, I had to play around a bit with different values for dropout, [SpecAugment](https://arxiv.org/abs/1904.08779)'s masking dropout rate, layer dropout, and the learning rate until training seemed to be stable enough. \n",
        "\n",
        "**Note**: When using this notebook to train XLSR-Wav2Vec2 on another language of Common Voice those hyper-parameter settings might not work very well. Feel free to adapt those depending on your use case. "
      ]
    },
    {
      "cell_type": "code",
      "execution_count": null,
      "metadata": {
        "colab": {
          "base_uri": "https://localhost:8080/",
          "height": 190,
          "referenced_widgets": [
            "87a71a28618f4690ac9b516da9190a0d",
            "c64fd3d05a234b108e8ce47bd9e4cab4",
            "387a646ef8994728ba167898cfa1ab97",
            "ab0aeaf336de486493153c226465de1a",
            "99b277b40534400fae6b4e63bec3988e",
            "af94d93e351747a2a88a04ddb3faa4ca",
            "4eca72af7d464c6b8d1a47c189e53dd1",
            "4063737c30464e3ca2fbd641f0fa955f",
            "582f30accc914eddbcc3b558e783f2f9",
            "1de3b0a365a342468047ec549a6cc46c",
            "fa71c728fcfb47bba8cc0274fa70a49f",
            "606b3ded549f4be499240a61ce1973fc",
            "8394bd92b5874959b76cdfdfa81fefc3",
            "741196439c824c89a51d5efc11972b3f",
            "fa845f7c970b409c9b99b3b5119b7010",
            "912dbc5a5fc04d25a17dfc58a74ed0ef",
            "e9469c58b2024af5a17463378248c4f3",
            "6fb90ed8c1814b869e46df39c9b21988",
            "838722a80ab2448a8baf16fae656aaed",
            "da9add17ff584af4aafbc9447da07f36",
            "0dd6bb6f6e8f487eb3fcd6f97820f127",
            "63d5d0e2d573433d87e66cfe9c1bf7d4"
          ]
        },
        "id": "e7cqAWIayn6w",
        "outputId": "828c7573-22b6-4449-ce1c-e440a506c850"
      },
      "outputs": [
        {
          "data": {
            "application/vnd.jupyter.widget-view+json": {
              "model_id": "87a71a28618f4690ac9b516da9190a0d",
              "version_major": 2,
              "version_minor": 0
            },
            "text/plain": [
              "Downloading:   0%|          | 0.00/1.73k [00:00<?, ?B/s]"
            ]
          },
          "metadata": {},
          "output_type": "display_data"
        },
        {
          "data": {
            "application/vnd.jupyter.widget-view+json": {
              "model_id": "606b3ded549f4be499240a61ce1973fc",
              "version_major": 2,
              "version_minor": 0
            },
            "text/plain": [
              "Downloading:   0%|          | 0.00/1.18G [00:00<?, ?B/s]"
            ]
          },
          "metadata": {},
          "output_type": "display_data"
        },
        {
          "name": "stderr",
          "output_type": "stream",
          "text": [
            "Some weights of the model checkpoint at facebook/wav2vec2-large-xlsr-53 were not used when initializing Wav2Vec2ForCTC: ['project_hid.weight', 'quantizer.codevectors', 'project_q.weight', 'project_hid.bias', 'quantizer.weight_proj.weight', 'project_q.bias', 'quantizer.weight_proj.bias']\n",
            "- This IS expected if you are initializing Wav2Vec2ForCTC from the checkpoint of a model trained on another task or with another architecture (e.g. initializing a BertForSequenceClassification model from a BertForPreTraining model).\n",
            "- This IS NOT expected if you are initializing Wav2Vec2ForCTC from the checkpoint of a model that you expect to be exactly identical (initializing a BertForSequenceClassification model from a BertForSequenceClassification model).\n",
            "Some weights of Wav2Vec2ForCTC were not initialized from the model checkpoint at facebook/wav2vec2-large-xlsr-53 and are newly initialized: ['lm_head.weight', 'lm_head.bias']\n",
            "You should probably TRAIN this model on a down-stream task to be able to use it for predictions and inference.\n"
          ]
        }
      ],
      "source": [
        "from transformers import Wav2Vec2ForCTC\n",
        "\n",
        "model = Wav2Vec2ForCTC.from_pretrained(\n",
        "    \"facebook/wav2vec2-large-xlsr-53\", \n",
        "    attention_dropout=0.1,\n",
        "    hidden_dropout=0.1,\n",
        "    feat_proj_dropout=0.0,\n",
        "    mask_time_prob=0.05,\n",
        "    layerdrop=0.1,\n",
        "    ctc_loss_reduction=\"mean\", \n",
        "    pad_token_id=processor.tokenizer.pad_token_id,\n",
        "    vocab_size=len(processor.tokenizer)\n",
        ")"
      ]
    },
    {
      "cell_type": "markdown",
      "metadata": {
        "id": "1DwR3XLSzGDD"
      },
      "source": [
        "The first component of XLSR-Wav2Vec2 consists of a stack of CNN layers that are used to extract acoustically meaningful - but contextually independent - features from the raw speech signal. This part of the model has already been sufficiently trained during pretraining and as stated in the [paper](https://arxiv.org/pdf/2006.13979.pdf) does not need to be fine-tuned anymore. \n",
        "Thus, we can set the `requires_grad` to `False` for all parameters of the *feature extraction* part."
      ]
    },
    {
      "cell_type": "code",
      "execution_count": null,
      "metadata": {
        "id": "oGI8zObtZ3V0"
      },
      "outputs": [],
      "source": [
        "model.freeze_feature_extractor()"
      ]
    },
    {
      "cell_type": "markdown",
      "metadata": {
        "id": "3y34yOlVWZca"
      },
      "source": [
        "In addition, let's enable gradient checkpointing to save some memory."
      ]
    },
    {
      "cell_type": "code",
      "execution_count": null,
      "metadata": {
        "id": "JE8uF0dFWeSw"
      },
      "outputs": [],
      "source": [
        "model.gradient_checkpointing_enable()"
      ]
    },
    {
      "cell_type": "markdown",
      "metadata": {
        "id": "lD4aGhQM0K-D"
      },
      "source": [
        "In a final step, we define all parameters related to training. \n",
        "To give more explanation on some of the parameters:\n",
        "- `group_by_length` makes training more efficient by grouping training samples of similar input length into one batch. This can significantly speed up training time by heavily reducing the overall number of useless padding tokens that are passed through the model\n",
        "- `learning_rate` and `weight_decay` were heuristically tuned until fine-tuning has become stable. Note that those parameters strongly depend on the Common Voice dataset and might be suboptimal for other speech datasets.\n",
        "\n",
        "For more explanations on other parameters, one can take a look at the [docs](https://huggingface.co/transformers/master/main_classes/trainer.html?highlight=trainer#trainingarguments).\n",
        "\n",
        "**Note**: If one wants to save the trained models in his/her google drive the commented-out `output_dir` can be used instead."
      ]
    },
    {
      "cell_type": "code",
      "execution_count": null,
      "metadata": {
        "id": "KbeKSV7uzGPP"
      },
      "outputs": [],
      "source": [
        "from transformers import TrainingArguments\n",
        "\n",
        "training_args = TrainingArguments(\n",
        "  # output_dir=\"/content/gdrive/MyDrive/wav2vec2-large-xlsr-turkish-demo\",\n",
        "  output_dir=\"./wav2vec2-large-xlsr-turkish-demo\",\n",
        "  group_by_length=True,\n",
        "  per_device_train_batch_size=16,\n",
        "  gradient_accumulation_steps=2,\n",
        "  evaluation_strategy=\"steps\",\n",
        "  num_train_epochs=30,\n",
        "  fp16=True,\n",
        "  save_steps=100,\n",
        "  eval_steps=100,\n",
        "  logging_steps=10,\n",
        "  learning_rate=3e-4,\n",
        "  warmup_steps=500,\n",
        "  save_total_limit=2,\n",
        ")"
      ]
    },
    {
      "cell_type": "markdown",
      "metadata": {
        "id": "OsW-WZcL1ZtN"
      },
      "source": [
        "Now, all instances can be passed to Trainer and we are ready to start training!"
      ]
    },
    {
      "cell_type": "code",
      "execution_count": null,
      "metadata": {
        "colab": {
          "base_uri": "https://localhost:8080/"
        },
        "id": "rY7vBmFCPFgC",
        "outputId": "d247f418-287d-4cfb-9f2f-1a85a3e5aeb6"
      },
      "outputs": [
        {
          "name": "stderr",
          "output_type": "stream",
          "text": [
            "Using amp fp16 backend\n"
          ]
        }
      ],
      "source": [
        "from transformers import Trainer\n",
        "\n",
        "trainer = Trainer(\n",
        "    model=model,\n",
        "    data_collator=data_collator,\n",
        "    args=training_args,\n",
        "    compute_metrics=compute_metrics,\n",
        "    train_dataset=common_voice_train,\n",
        "    eval_dataset=common_voice_test,\n",
        "    tokenizer=processor.feature_extractor,\n",
        ")"
      ]
    },
    {
      "cell_type": "markdown",
      "metadata": {
        "id": "UoXBx1JAA0DX"
      },
      "source": [
        "\n",
        "\n",
        "---\n",
        "\n",
        "${}^1$ To allow models to become independent of the speaker rate, in CTC, consecutive tokens that are identical are simply grouped as a single token. However, the encoded labels should not be grouped when decoding since they don't correspond to the predicted tokens of the model, which is why the `group_tokens=False` parameter has to be passed. If we wouldn't pass this parameter a word like `\"hello\"` would incorrectly be encoded, and decoded as `\"helo\"`.\n",
        "\n",
        "${}^2$ The blank token allows the model to predict a word, such as `\"hello\"` by forcing it to insert the blank token between the two l's. A CTC-conform prediction of `\"hello\"` of our model would be `[PAD] [PAD] \"h\" \"e\" \"e\" \"l\" \"l\" [PAD] \"l\" \"o\" \"o\" [PAD]`."
      ]
    },
    {
      "cell_type": "markdown",
      "metadata": {
        "id": "rpvZHM1xReIW"
      },
      "source": [
        "### Training"
      ]
    },
    {
      "cell_type": "markdown",
      "metadata": {
        "id": "j-3oKSzZ1hGq"
      },
      "source": [
        "Training will take multiple hours depending on the GPU allocated to this notebook. While the trained model yields somewhat satisfying results on *Common Voice*'s test data of Turkish, it is by no means an optimally fine-tuned model. The purpose of this notebook is to demonstrate how XLSR-Wav2Vec2's [checkpoint](https://huggingface.co/facebook/wav2vec2-large-xlsr-53) can be fine-tuned on a low-resource ASR dataset.\n",
        "\n",
        "In case you want to use this google colab to fine-tune your model, you should make sure that your training doesn't stop due to inactivity. A simple hack to prevent this is to paste the following code into the console of this tab (*right mouse click -> inspect -> Console tab and insert code*)."
      ]
    },
    {
      "cell_type": "markdown",
      "metadata": {
        "id": "VYYAvgkW4P0m"
      },
      "source": [
        "```javascript\n",
        "function ConnectButton(){\n",
        "    console.log(\"Connect pushed\"); \n",
        "    document.querySelector(\"#top-toolbar > colab-connect-button\").shadowRoot.querySelector(\"#connect\").click() \n",
        "}\n",
        "setInterval(ConnectButton,60000);\n",
        "```"
      ]
    },
    {
      "cell_type": "code",
      "execution_count": null,
      "metadata": {
        "colab": {
          "background_save": true
        },
        "id": "_UEjJqGsQw24",
        "outputId": "216e004c-84f7-48a9-9467-efac8d10657e"
      },
      "outputs": [
        {
          "name": "stderr",
          "output_type": "stream",
          "text": [
            "***** Running training *****\n",
            "  Num examples = 3478\n",
            "  Num Epochs = 30\n",
            "  Instantaneous batch size per device = 16\n",
            "  Total train batch size (w. parallel, distributed & accumulation) = 32\n",
            "  Gradient Accumulation steps = 2\n",
            "  Total optimization steps = 3270\n",
            "/usr/local/lib/python3.7/dist-packages/transformers/feature_extraction_utils.py:158: UserWarning: Creating a tensor from a list of numpy.ndarrays is extremely slow. Please consider converting the list to a single numpy.ndarray with numpy.array() before converting to a tensor. (Triggered internally at  ../torch/csrc/utils/tensor_new.cpp:210.)\n",
            "  tensor = as_tensor(value)\n"
          ]
        },
        {
          "ename": "RuntimeError",
          "evalue": "ignored",
          "output_type": "error",
          "traceback": [
            "\u001b[0;31m---------------------------------------------------------------------------\u001b[0m",
            "\u001b[0;31mRuntimeError\u001b[0m                              Traceback (most recent call last)",
            "\u001b[0;32m<ipython-input-38-3435b262f1ae>\u001b[0m in \u001b[0;36m<module>\u001b[0;34m()\u001b[0m\n\u001b[0;32m----> 1\u001b[0;31m \u001b[0mtrainer\u001b[0m\u001b[0;34m.\u001b[0m\u001b[0mtrain\u001b[0m\u001b[0;34m(\u001b[0m\u001b[0;34m)\u001b[0m\u001b[0;34m\u001b[0m\u001b[0;34m\u001b[0m\u001b[0m\n\u001b[0m",
            "\u001b[0;32m/usr/local/lib/python3.7/dist-packages/transformers/trainer.py\u001b[0m in \u001b[0;36mtrain\u001b[0;34m(self, resume_from_checkpoint, trial, ignore_keys_for_eval, **kwargs)\u001b[0m\n\u001b[1;32m   1314\u001b[0m                         \u001b[0mtr_loss_step\u001b[0m \u001b[0;34m=\u001b[0m \u001b[0mself\u001b[0m\u001b[0;34m.\u001b[0m\u001b[0mtraining_step\u001b[0m\u001b[0;34m(\u001b[0m\u001b[0mmodel\u001b[0m\u001b[0;34m,\u001b[0m \u001b[0minputs\u001b[0m\u001b[0;34m)\u001b[0m\u001b[0;34m\u001b[0m\u001b[0;34m\u001b[0m\u001b[0m\n\u001b[1;32m   1315\u001b[0m                 \u001b[0;32melse\u001b[0m\u001b[0;34m:\u001b[0m\u001b[0;34m\u001b[0m\u001b[0;34m\u001b[0m\u001b[0m\n\u001b[0;32m-> 1316\u001b[0;31m                     \u001b[0mtr_loss_step\u001b[0m \u001b[0;34m=\u001b[0m \u001b[0mself\u001b[0m\u001b[0;34m.\u001b[0m\u001b[0mtraining_step\u001b[0m\u001b[0;34m(\u001b[0m\u001b[0mmodel\u001b[0m\u001b[0;34m,\u001b[0m \u001b[0minputs\u001b[0m\u001b[0;34m)\u001b[0m\u001b[0;34m\u001b[0m\u001b[0;34m\u001b[0m\u001b[0m\n\u001b[0m\u001b[1;32m   1317\u001b[0m \u001b[0;34m\u001b[0m\u001b[0m\n\u001b[1;32m   1318\u001b[0m                 if (\n",
            "\u001b[0;32m/usr/local/lib/python3.7/dist-packages/transformers/trainer.py\u001b[0m in \u001b[0;36mtraining_step\u001b[0;34m(self, model, inputs)\u001b[0m\n\u001b[1;32m   1845\u001b[0m         \u001b[0;32mif\u001b[0m \u001b[0mself\u001b[0m\u001b[0;34m.\u001b[0m\u001b[0muse_amp\u001b[0m\u001b[0;34m:\u001b[0m\u001b[0;34m\u001b[0m\u001b[0;34m\u001b[0m\u001b[0m\n\u001b[1;32m   1846\u001b[0m             \u001b[0;32mwith\u001b[0m \u001b[0mautocast\u001b[0m\u001b[0;34m(\u001b[0m\u001b[0;34m)\u001b[0m\u001b[0;34m:\u001b[0m\u001b[0;34m\u001b[0m\u001b[0;34m\u001b[0m\u001b[0m\n\u001b[0;32m-> 1847\u001b[0;31m                 \u001b[0mloss\u001b[0m \u001b[0;34m=\u001b[0m \u001b[0mself\u001b[0m\u001b[0;34m.\u001b[0m\u001b[0mcompute_loss\u001b[0m\u001b[0;34m(\u001b[0m\u001b[0mmodel\u001b[0m\u001b[0;34m,\u001b[0m \u001b[0minputs\u001b[0m\u001b[0;34m)\u001b[0m\u001b[0;34m\u001b[0m\u001b[0;34m\u001b[0m\u001b[0m\n\u001b[0m\u001b[1;32m   1848\u001b[0m         \u001b[0;32melse\u001b[0m\u001b[0;34m:\u001b[0m\u001b[0;34m\u001b[0m\u001b[0;34m\u001b[0m\u001b[0m\n\u001b[1;32m   1849\u001b[0m             \u001b[0mloss\u001b[0m \u001b[0;34m=\u001b[0m \u001b[0mself\u001b[0m\u001b[0;34m.\u001b[0m\u001b[0mcompute_loss\u001b[0m\u001b[0;34m(\u001b[0m\u001b[0mmodel\u001b[0m\u001b[0;34m,\u001b[0m \u001b[0minputs\u001b[0m\u001b[0;34m)\u001b[0m\u001b[0;34m\u001b[0m\u001b[0;34m\u001b[0m\u001b[0m\n",
            "\u001b[0;32m/usr/local/lib/python3.7/dist-packages/transformers/trainer.py\u001b[0m in \u001b[0;36mcompute_loss\u001b[0;34m(self, model, inputs, return_outputs)\u001b[0m\n\u001b[1;32m   1879\u001b[0m         \u001b[0;32melse\u001b[0m\u001b[0;34m:\u001b[0m\u001b[0;34m\u001b[0m\u001b[0;34m\u001b[0m\u001b[0m\n\u001b[1;32m   1880\u001b[0m             \u001b[0mlabels\u001b[0m \u001b[0;34m=\u001b[0m \u001b[0;32mNone\u001b[0m\u001b[0;34m\u001b[0m\u001b[0;34m\u001b[0m\u001b[0m\n\u001b[0;32m-> 1881\u001b[0;31m         \u001b[0moutputs\u001b[0m \u001b[0;34m=\u001b[0m \u001b[0mmodel\u001b[0m\u001b[0;34m(\u001b[0m\u001b[0;34m**\u001b[0m\u001b[0minputs\u001b[0m\u001b[0;34m)\u001b[0m\u001b[0;34m\u001b[0m\u001b[0;34m\u001b[0m\u001b[0m\n\u001b[0m\u001b[1;32m   1882\u001b[0m         \u001b[0;31m# Save past state if it exists\u001b[0m\u001b[0;34m\u001b[0m\u001b[0;34m\u001b[0m\u001b[0;34m\u001b[0m\u001b[0m\n\u001b[1;32m   1883\u001b[0m         \u001b[0;31m# TODO: this needs to be fixed and made cleaner later.\u001b[0m\u001b[0;34m\u001b[0m\u001b[0;34m\u001b[0m\u001b[0;34m\u001b[0m\u001b[0m\n",
            "\u001b[0;32m/usr/local/lib/python3.7/dist-packages/torch/nn/modules/module.py\u001b[0m in \u001b[0;36m_call_impl\u001b[0;34m(self, *input, **kwargs)\u001b[0m\n\u001b[1;32m   1108\u001b[0m         if not (self._backward_hooks or self._forward_hooks or self._forward_pre_hooks or _global_backward_hooks\n\u001b[1;32m   1109\u001b[0m                 or _global_forward_hooks or _global_forward_pre_hooks):\n\u001b[0;32m-> 1110\u001b[0;31m             \u001b[0;32mreturn\u001b[0m \u001b[0mforward_call\u001b[0m\u001b[0;34m(\u001b[0m\u001b[0;34m*\u001b[0m\u001b[0minput\u001b[0m\u001b[0;34m,\u001b[0m \u001b[0;34m**\u001b[0m\u001b[0mkwargs\u001b[0m\u001b[0;34m)\u001b[0m\u001b[0;34m\u001b[0m\u001b[0;34m\u001b[0m\u001b[0m\n\u001b[0m\u001b[1;32m   1111\u001b[0m         \u001b[0;31m# Do not call functions when jit is used\u001b[0m\u001b[0;34m\u001b[0m\u001b[0;34m\u001b[0m\u001b[0;34m\u001b[0m\u001b[0m\n\u001b[1;32m   1112\u001b[0m         \u001b[0mfull_backward_hooks\u001b[0m\u001b[0;34m,\u001b[0m \u001b[0mnon_full_backward_hooks\u001b[0m \u001b[0;34m=\u001b[0m \u001b[0;34m[\u001b[0m\u001b[0;34m]\u001b[0m\u001b[0;34m,\u001b[0m \u001b[0;34m[\u001b[0m\u001b[0;34m]\u001b[0m\u001b[0;34m\u001b[0m\u001b[0;34m\u001b[0m\u001b[0m\n",
            "\u001b[0;32m/usr/local/lib/python3.7/dist-packages/transformers/models/wav2vec2/modeling_wav2vec2.py\u001b[0m in \u001b[0;36mforward\u001b[0;34m(self, input_values, attention_mask, output_attentions, output_hidden_states, return_dict, labels)\u001b[0m\n\u001b[1;32m   1497\u001b[0m             \u001b[0moutput_attentions\u001b[0m\u001b[0;34m=\u001b[0m\u001b[0moutput_attentions\u001b[0m\u001b[0;34m,\u001b[0m\u001b[0;34m\u001b[0m\u001b[0;34m\u001b[0m\u001b[0m\n\u001b[1;32m   1498\u001b[0m             \u001b[0moutput_hidden_states\u001b[0m\u001b[0;34m=\u001b[0m\u001b[0moutput_hidden_states\u001b[0m\u001b[0;34m,\u001b[0m\u001b[0;34m\u001b[0m\u001b[0;34m\u001b[0m\u001b[0m\n\u001b[0;32m-> 1499\u001b[0;31m             \u001b[0mreturn_dict\u001b[0m\u001b[0;34m=\u001b[0m\u001b[0mreturn_dict\u001b[0m\u001b[0;34m,\u001b[0m\u001b[0;34m\u001b[0m\u001b[0;34m\u001b[0m\u001b[0m\n\u001b[0m\u001b[1;32m   1500\u001b[0m         )\n\u001b[1;32m   1501\u001b[0m \u001b[0;34m\u001b[0m\u001b[0m\n",
            "\u001b[0;32m/usr/local/lib/python3.7/dist-packages/torch/nn/modules/module.py\u001b[0m in \u001b[0;36m_call_impl\u001b[0;34m(self, *input, **kwargs)\u001b[0m\n\u001b[1;32m   1108\u001b[0m         if not (self._backward_hooks or self._forward_hooks or self._forward_pre_hooks or _global_backward_hooks\n\u001b[1;32m   1109\u001b[0m                 or _global_forward_hooks or _global_forward_pre_hooks):\n\u001b[0;32m-> 1110\u001b[0;31m             \u001b[0;32mreturn\u001b[0m \u001b[0mforward_call\u001b[0m\u001b[0;34m(\u001b[0m\u001b[0;34m*\u001b[0m\u001b[0minput\u001b[0m\u001b[0;34m,\u001b[0m \u001b[0;34m**\u001b[0m\u001b[0mkwargs\u001b[0m\u001b[0;34m)\u001b[0m\u001b[0;34m\u001b[0m\u001b[0;34m\u001b[0m\u001b[0m\n\u001b[0m\u001b[1;32m   1111\u001b[0m         \u001b[0;31m# Do not call functions when jit is used\u001b[0m\u001b[0;34m\u001b[0m\u001b[0;34m\u001b[0m\u001b[0;34m\u001b[0m\u001b[0m\n\u001b[1;32m   1112\u001b[0m         \u001b[0mfull_backward_hooks\u001b[0m\u001b[0;34m,\u001b[0m \u001b[0mnon_full_backward_hooks\u001b[0m \u001b[0;34m=\u001b[0m \u001b[0;34m[\u001b[0m\u001b[0;34m]\u001b[0m\u001b[0;34m,\u001b[0m \u001b[0;34m[\u001b[0m\u001b[0;34m]\u001b[0m\u001b[0;34m\u001b[0m\u001b[0;34m\u001b[0m\u001b[0m\n",
            "\u001b[0;32m/usr/local/lib/python3.7/dist-packages/transformers/models/wav2vec2/modeling_wav2vec2.py\u001b[0m in \u001b[0;36mforward\u001b[0;34m(self, input_values, attention_mask, mask_time_indices, output_attentions, output_hidden_states, return_dict)\u001b[0m\n\u001b[1;32m   1062\u001b[0m         \u001b[0mreturn_dict\u001b[0m \u001b[0;34m=\u001b[0m \u001b[0mreturn_dict\u001b[0m \u001b[0;32mif\u001b[0m \u001b[0mreturn_dict\u001b[0m \u001b[0;32mis\u001b[0m \u001b[0;32mnot\u001b[0m \u001b[0;32mNone\u001b[0m \u001b[0;32melse\u001b[0m \u001b[0mself\u001b[0m\u001b[0;34m.\u001b[0m\u001b[0mconfig\u001b[0m\u001b[0;34m.\u001b[0m\u001b[0muse_return_dict\u001b[0m\u001b[0;34m\u001b[0m\u001b[0;34m\u001b[0m\u001b[0m\n\u001b[1;32m   1063\u001b[0m \u001b[0;34m\u001b[0m\u001b[0m\n\u001b[0;32m-> 1064\u001b[0;31m         \u001b[0mextract_features\u001b[0m \u001b[0;34m=\u001b[0m \u001b[0mself\u001b[0m\u001b[0;34m.\u001b[0m\u001b[0mfeature_extractor\u001b[0m\u001b[0;34m(\u001b[0m\u001b[0minput_values\u001b[0m\u001b[0;34m)\u001b[0m\u001b[0;34m\u001b[0m\u001b[0;34m\u001b[0m\u001b[0m\n\u001b[0m\u001b[1;32m   1065\u001b[0m         \u001b[0mextract_features\u001b[0m \u001b[0;34m=\u001b[0m \u001b[0mextract_features\u001b[0m\u001b[0;34m.\u001b[0m\u001b[0mtranspose\u001b[0m\u001b[0;34m(\u001b[0m\u001b[0;36m1\u001b[0m\u001b[0;34m,\u001b[0m \u001b[0;36m2\u001b[0m\u001b[0;34m)\u001b[0m\u001b[0;34m\u001b[0m\u001b[0;34m\u001b[0m\u001b[0m\n\u001b[1;32m   1066\u001b[0m \u001b[0;34m\u001b[0m\u001b[0m\n",
            "\u001b[0;32m/usr/local/lib/python3.7/dist-packages/torch/nn/modules/module.py\u001b[0m in \u001b[0;36m_call_impl\u001b[0;34m(self, *input, **kwargs)\u001b[0m\n\u001b[1;32m   1108\u001b[0m         if not (self._backward_hooks or self._forward_hooks or self._forward_pre_hooks or _global_backward_hooks\n\u001b[1;32m   1109\u001b[0m                 or _global_forward_hooks or _global_forward_pre_hooks):\n\u001b[0;32m-> 1110\u001b[0;31m             \u001b[0;32mreturn\u001b[0m \u001b[0mforward_call\u001b[0m\u001b[0;34m(\u001b[0m\u001b[0;34m*\u001b[0m\u001b[0minput\u001b[0m\u001b[0;34m,\u001b[0m \u001b[0;34m**\u001b[0m\u001b[0mkwargs\u001b[0m\u001b[0;34m)\u001b[0m\u001b[0;34m\u001b[0m\u001b[0;34m\u001b[0m\u001b[0m\n\u001b[0m\u001b[1;32m   1111\u001b[0m         \u001b[0;31m# Do not call functions when jit is used\u001b[0m\u001b[0;34m\u001b[0m\u001b[0;34m\u001b[0m\u001b[0;34m\u001b[0m\u001b[0m\n\u001b[1;32m   1112\u001b[0m         \u001b[0mfull_backward_hooks\u001b[0m\u001b[0;34m,\u001b[0m \u001b[0mnon_full_backward_hooks\u001b[0m \u001b[0;34m=\u001b[0m \u001b[0;34m[\u001b[0m\u001b[0;34m]\u001b[0m\u001b[0;34m,\u001b[0m \u001b[0;34m[\u001b[0m\u001b[0;34m]\u001b[0m\u001b[0;34m\u001b[0m\u001b[0;34m\u001b[0m\u001b[0m\n",
            "\u001b[0;32m/usr/local/lib/python3.7/dist-packages/transformers/models/wav2vec2/modeling_wav2vec2.py\u001b[0m in \u001b[0;36mforward\u001b[0;34m(self, input_values)\u001b[0m\n\u001b[1;32m    335\u001b[0m         \u001b[0mhidden_states\u001b[0m \u001b[0;34m=\u001b[0m \u001b[0minput_values\u001b[0m\u001b[0;34m[\u001b[0m\u001b[0;34m:\u001b[0m\u001b[0;34m,\u001b[0m \u001b[0;32mNone\u001b[0m\u001b[0;34m]\u001b[0m\u001b[0;34m\u001b[0m\u001b[0;34m\u001b[0m\u001b[0m\n\u001b[1;32m    336\u001b[0m         \u001b[0;32mfor\u001b[0m \u001b[0mconv_layer\u001b[0m \u001b[0;32min\u001b[0m \u001b[0mself\u001b[0m\u001b[0;34m.\u001b[0m\u001b[0mconv_layers\u001b[0m\u001b[0;34m:\u001b[0m\u001b[0;34m\u001b[0m\u001b[0;34m\u001b[0m\u001b[0m\n\u001b[0;32m--> 337\u001b[0;31m             \u001b[0mhidden_states\u001b[0m \u001b[0;34m=\u001b[0m \u001b[0mconv_layer\u001b[0m\u001b[0;34m(\u001b[0m\u001b[0mhidden_states\u001b[0m\u001b[0;34m)\u001b[0m\u001b[0;34m\u001b[0m\u001b[0;34m\u001b[0m\u001b[0m\n\u001b[0m\u001b[1;32m    338\u001b[0m \u001b[0;34m\u001b[0m\u001b[0m\n\u001b[1;32m    339\u001b[0m         \u001b[0;32mreturn\u001b[0m \u001b[0mhidden_states\u001b[0m\u001b[0;34m\u001b[0m\u001b[0;34m\u001b[0m\u001b[0m\n",
            "\u001b[0;32m/usr/local/lib/python3.7/dist-packages/torch/nn/modules/module.py\u001b[0m in \u001b[0;36m_call_impl\u001b[0;34m(self, *input, **kwargs)\u001b[0m\n\u001b[1;32m   1108\u001b[0m         if not (self._backward_hooks or self._forward_hooks or self._forward_pre_hooks or _global_backward_hooks\n\u001b[1;32m   1109\u001b[0m                 or _global_forward_hooks or _global_forward_pre_hooks):\n\u001b[0;32m-> 1110\u001b[0;31m             \u001b[0;32mreturn\u001b[0m \u001b[0mforward_call\u001b[0m\u001b[0;34m(\u001b[0m\u001b[0;34m*\u001b[0m\u001b[0minput\u001b[0m\u001b[0;34m,\u001b[0m \u001b[0;34m**\u001b[0m\u001b[0mkwargs\u001b[0m\u001b[0;34m)\u001b[0m\u001b[0;34m\u001b[0m\u001b[0;34m\u001b[0m\u001b[0m\n\u001b[0m\u001b[1;32m   1111\u001b[0m         \u001b[0;31m# Do not call functions when jit is used\u001b[0m\u001b[0;34m\u001b[0m\u001b[0;34m\u001b[0m\u001b[0;34m\u001b[0m\u001b[0m\n\u001b[1;32m   1112\u001b[0m         \u001b[0mfull_backward_hooks\u001b[0m\u001b[0;34m,\u001b[0m \u001b[0mnon_full_backward_hooks\u001b[0m \u001b[0;34m=\u001b[0m \u001b[0;34m[\u001b[0m\u001b[0;34m]\u001b[0m\u001b[0;34m,\u001b[0m \u001b[0;34m[\u001b[0m\u001b[0;34m]\u001b[0m\u001b[0;34m\u001b[0m\u001b[0;34m\u001b[0m\u001b[0m\n",
            "\u001b[0;32m/usr/local/lib/python3.7/dist-packages/transformers/models/wav2vec2/modeling_wav2vec2.py\u001b[0m in \u001b[0;36mforward\u001b[0;34m(self, hidden_states)\u001b[0m\n\u001b[1;32m    228\u001b[0m \u001b[0;34m\u001b[0m\u001b[0m\n\u001b[1;32m    229\u001b[0m     \u001b[0;32mdef\u001b[0m \u001b[0mforward\u001b[0m\u001b[0;34m(\u001b[0m\u001b[0mself\u001b[0m\u001b[0;34m,\u001b[0m \u001b[0mhidden_states\u001b[0m\u001b[0;34m)\u001b[0m\u001b[0;34m:\u001b[0m\u001b[0;34m\u001b[0m\u001b[0;34m\u001b[0m\u001b[0m\n\u001b[0;32m--> 230\u001b[0;31m         \u001b[0mhidden_states\u001b[0m \u001b[0;34m=\u001b[0m \u001b[0mself\u001b[0m\u001b[0;34m.\u001b[0m\u001b[0mconv\u001b[0m\u001b[0;34m(\u001b[0m\u001b[0mhidden_states\u001b[0m\u001b[0;34m)\u001b[0m\u001b[0;34m\u001b[0m\u001b[0;34m\u001b[0m\u001b[0m\n\u001b[0m\u001b[1;32m    231\u001b[0m \u001b[0;34m\u001b[0m\u001b[0m\n\u001b[1;32m    232\u001b[0m         \u001b[0mhidden_states\u001b[0m \u001b[0;34m=\u001b[0m \u001b[0mhidden_states\u001b[0m\u001b[0;34m.\u001b[0m\u001b[0mtranspose\u001b[0m\u001b[0;34m(\u001b[0m\u001b[0;34m-\u001b[0m\u001b[0;36m2\u001b[0m\u001b[0;34m,\u001b[0m \u001b[0;34m-\u001b[0m\u001b[0;36m1\u001b[0m\u001b[0;34m)\u001b[0m\u001b[0;34m\u001b[0m\u001b[0;34m\u001b[0m\u001b[0m\n",
            "\u001b[0;32m/usr/local/lib/python3.7/dist-packages/torch/nn/modules/module.py\u001b[0m in \u001b[0;36m_call_impl\u001b[0;34m(self, *input, **kwargs)\u001b[0m\n\u001b[1;32m   1108\u001b[0m         if not (self._backward_hooks or self._forward_hooks or self._forward_pre_hooks or _global_backward_hooks\n\u001b[1;32m   1109\u001b[0m                 or _global_forward_hooks or _global_forward_pre_hooks):\n\u001b[0;32m-> 1110\u001b[0;31m             \u001b[0;32mreturn\u001b[0m \u001b[0mforward_call\u001b[0m\u001b[0;34m(\u001b[0m\u001b[0;34m*\u001b[0m\u001b[0minput\u001b[0m\u001b[0;34m,\u001b[0m \u001b[0;34m**\u001b[0m\u001b[0mkwargs\u001b[0m\u001b[0;34m)\u001b[0m\u001b[0;34m\u001b[0m\u001b[0;34m\u001b[0m\u001b[0m\n\u001b[0m\u001b[1;32m   1111\u001b[0m         \u001b[0;31m# Do not call functions when jit is used\u001b[0m\u001b[0;34m\u001b[0m\u001b[0;34m\u001b[0m\u001b[0;34m\u001b[0m\u001b[0m\n\u001b[1;32m   1112\u001b[0m         \u001b[0mfull_backward_hooks\u001b[0m\u001b[0;34m,\u001b[0m \u001b[0mnon_full_backward_hooks\u001b[0m \u001b[0;34m=\u001b[0m \u001b[0;34m[\u001b[0m\u001b[0;34m]\u001b[0m\u001b[0;34m,\u001b[0m \u001b[0;34m[\u001b[0m\u001b[0;34m]\u001b[0m\u001b[0;34m\u001b[0m\u001b[0;34m\u001b[0m\u001b[0m\n",
            "\u001b[0;32m/usr/local/lib/python3.7/dist-packages/torch/nn/modules/conv.py\u001b[0m in \u001b[0;36mforward\u001b[0;34m(self, input)\u001b[0m\n\u001b[1;32m    300\u001b[0m \u001b[0;34m\u001b[0m\u001b[0m\n\u001b[1;32m    301\u001b[0m     \u001b[0;32mdef\u001b[0m \u001b[0mforward\u001b[0m\u001b[0;34m(\u001b[0m\u001b[0mself\u001b[0m\u001b[0;34m,\u001b[0m \u001b[0minput\u001b[0m\u001b[0;34m:\u001b[0m \u001b[0mTensor\u001b[0m\u001b[0;34m)\u001b[0m \u001b[0;34m->\u001b[0m \u001b[0mTensor\u001b[0m\u001b[0;34m:\u001b[0m\u001b[0;34m\u001b[0m\u001b[0;34m\u001b[0m\u001b[0m\n\u001b[0;32m--> 302\u001b[0;31m         \u001b[0;32mreturn\u001b[0m \u001b[0mself\u001b[0m\u001b[0;34m.\u001b[0m\u001b[0m_conv_forward\u001b[0m\u001b[0;34m(\u001b[0m\u001b[0minput\u001b[0m\u001b[0;34m,\u001b[0m \u001b[0mself\u001b[0m\u001b[0;34m.\u001b[0m\u001b[0mweight\u001b[0m\u001b[0;34m,\u001b[0m \u001b[0mself\u001b[0m\u001b[0;34m.\u001b[0m\u001b[0mbias\u001b[0m\u001b[0;34m)\u001b[0m\u001b[0;34m\u001b[0m\u001b[0;34m\u001b[0m\u001b[0m\n\u001b[0m\u001b[1;32m    303\u001b[0m \u001b[0;34m\u001b[0m\u001b[0m\n\u001b[1;32m    304\u001b[0m \u001b[0;34m\u001b[0m\u001b[0m\n",
            "\u001b[0;32m/usr/local/lib/python3.7/dist-packages/torch/nn/modules/conv.py\u001b[0m in \u001b[0;36m_conv_forward\u001b[0;34m(self, input, weight, bias)\u001b[0m\n\u001b[1;32m    297\u001b[0m                             _single(0), self.dilation, self.groups)\n\u001b[1;32m    298\u001b[0m         return F.conv1d(input, weight, bias, self.stride,\n\u001b[0;32m--> 299\u001b[0;31m                         self.padding, self.dilation, self.groups)\n\u001b[0m\u001b[1;32m    300\u001b[0m \u001b[0;34m\u001b[0m\u001b[0m\n\u001b[1;32m    301\u001b[0m     \u001b[0;32mdef\u001b[0m \u001b[0mforward\u001b[0m\u001b[0;34m(\u001b[0m\u001b[0mself\u001b[0m\u001b[0;34m,\u001b[0m \u001b[0minput\u001b[0m\u001b[0;34m:\u001b[0m \u001b[0mTensor\u001b[0m\u001b[0;34m)\u001b[0m \u001b[0;34m->\u001b[0m \u001b[0mTensor\u001b[0m\u001b[0;34m:\u001b[0m\u001b[0;34m\u001b[0m\u001b[0;34m\u001b[0m\u001b[0m\n",
            "\u001b[0;31mRuntimeError\u001b[0m: Input type (torch.FloatTensor) and weight type (torch.cuda.HalfTensor) should be the same or input should be a MKLDNN tensor and weight is a dense tensor"
          ]
        }
      ],
      "source": [
        "trainer.train()"
      ]
    },
    {
      "cell_type": "markdown",
      "metadata": {
        "id": "RHIVc44_fY2N"
      },
      "source": [
        "The training and validation loss go down nicely. The WER starts improving only at a later stage. Because this notebook is just for demonstration purposes, we can stop here.\n",
        "\n",
        "To fine-tune larger models on larger datasets using CTC loss, one should take a look at the official speech-recognition examples [here](https://github.com/huggingface/transformers/tree/master/examples/pytorch/speech-recognition#connectionist-temporal-classification-without-language-model-ctc-wo-lm) 🤗."
      ]
    }
  ],
  "metadata": {
    "accelerator": "GPU",
    "colab": {
      "collapsed_sections": [],
      "machine_shape": "hm",
      "name": " XLSR-Wav2Vec2",
      "provenance": []
    },
    "kernelspec": {
      "display_name": "Python 3",
      "name": "python3"
    },
    "widgets": {
      "application/vnd.jupyter.widget-state+json": {
        "0207ad43616541d191f9fbfb4df831b6": {
          "model_module": "@jupyter-widgets/controls",
          "model_module_version": "1.5.0",
          "model_name": "HBoxModel",
          "state": {
            "_dom_classes": [],
            "_model_module": "@jupyter-widgets/controls",
            "_model_module_version": "1.5.0",
            "_model_name": "HBoxModel",
            "_view_count": null,
            "_view_module": "@jupyter-widgets/controls",
            "_view_module_version": "1.5.0",
            "_view_name": "HBoxView",
            "box_style": "",
            "children": [
              "IPY_MODEL_e801985d10c74d58a7017631f8b8a030",
              "IPY_MODEL_b8a96d584cd44e60b6fa223933a7ae00",
              "IPY_MODEL_a0d2aa1764184683b8c0040df32fe0fd"
            ],
            "layout": "IPY_MODEL_cb38337364a4419bbfcab14f37879c02"
          }
        },
        "06f650ea19d24a548740abe2c0b41354": {
          "model_module": "@jupyter-widgets/base",
          "model_module_version": "1.2.0",
          "model_name": "LayoutModel",
          "state": {
            "_model_module": "@jupyter-widgets/base",
            "_model_module_version": "1.2.0",
            "_model_name": "LayoutModel",
            "_view_count": null,
            "_view_module": "@jupyter-widgets/base",
            "_view_module_version": "1.2.0",
            "_view_name": "LayoutView",
            "align_content": null,
            "align_items": null,
            "align_self": null,
            "border": null,
            "bottom": null,
            "display": null,
            "flex": null,
            "flex_flow": null,
            "grid_area": null,
            "grid_auto_columns": null,
            "grid_auto_flow": null,
            "grid_auto_rows": null,
            "grid_column": null,
            "grid_gap": null,
            "grid_row": null,
            "grid_template_areas": null,
            "grid_template_columns": null,
            "grid_template_rows": null,
            "height": null,
            "justify_content": null,
            "justify_items": null,
            "left": null,
            "margin": null,
            "max_height": null,
            "max_width": null,
            "min_height": null,
            "min_width": null,
            "object_fit": null,
            "object_position": null,
            "order": null,
            "overflow": null,
            "overflow_x": null,
            "overflow_y": null,
            "padding": null,
            "right": null,
            "top": null,
            "visibility": null,
            "width": "20px"
          }
        },
        "08094f77d5f146238a1d9c97ad2ce5c0": {
          "model_module": "@jupyter-widgets/controls",
          "model_module_version": "1.5.0",
          "model_name": "FloatProgressModel",
          "state": {
            "_dom_classes": [],
            "_model_module": "@jupyter-widgets/controls",
            "_model_module_version": "1.5.0",
            "_model_name": "FloatProgressModel",
            "_view_count": null,
            "_view_module": "@jupyter-widgets/controls",
            "_view_module_version": "1.5.0",
            "_view_name": "ProgressView",
            "bar_style": "success",
            "description": "",
            "description_tooltip": null,
            "layout": "IPY_MODEL_7b4a47ff3b6d44dc9ebb189b1a2dd4ae",
            "max": 1,
            "min": 0,
            "orientation": "horizontal",
            "style": "IPY_MODEL_2abd6413c022425f8bca7c9063946026",
            "value": 1
          }
        },
        "095a749a9c0b4a3da91534e616de2523": {
          "model_module": "@jupyter-widgets/base",
          "model_module_version": "1.2.0",
          "model_name": "LayoutModel",
          "state": {
            "_model_module": "@jupyter-widgets/base",
            "_model_module_version": "1.2.0",
            "_model_name": "LayoutModel",
            "_view_count": null,
            "_view_module": "@jupyter-widgets/base",
            "_view_module_version": "1.2.0",
            "_view_name": "LayoutView",
            "align_content": null,
            "align_items": null,
            "align_self": null,
            "border": null,
            "bottom": null,
            "display": null,
            "flex": null,
            "flex_flow": null,
            "grid_area": null,
            "grid_auto_columns": null,
            "grid_auto_flow": null,
            "grid_auto_rows": null,
            "grid_column": null,
            "grid_gap": null,
            "grid_row": null,
            "grid_template_areas": null,
            "grid_template_columns": null,
            "grid_template_rows": null,
            "height": null,
            "justify_content": null,
            "justify_items": null,
            "left": null,
            "margin": null,
            "max_height": null,
            "max_width": null,
            "min_height": null,
            "min_width": null,
            "object_fit": null,
            "object_position": null,
            "order": null,
            "overflow": null,
            "overflow_x": null,
            "overflow_y": null,
            "padding": null,
            "right": null,
            "top": null,
            "visibility": null,
            "width": null
          }
        },
        "0961a55d207843adb3f22579739382a1": {
          "model_module": "@jupyter-widgets/controls",
          "model_module_version": "1.5.0",
          "model_name": "HTMLModel",
          "state": {
            "_dom_classes": [],
            "_model_module": "@jupyter-widgets/controls",
            "_model_module_version": "1.5.0",
            "_model_name": "HTMLModel",
            "_view_count": null,
            "_view_module": "@jupyter-widgets/controls",
            "_view_module_version": "1.5.0",
            "_view_name": "HTMLView",
            "description": "",
            "description_tooltip": null,
            "layout": "IPY_MODEL_aee4307dda8a419f8a8c631798d1bc95",
            "placeholder": "​",
            "style": "IPY_MODEL_f9711b05854d413e867f9a48cf1a7f48",
            "value": " 1779/0 [00:00&lt;00:00, 9486.09 examples/s]"
          }
        },
        "09d3a282efbe46e882db6358515fb70e": {
          "model_module": "@jupyter-widgets/base",
          "model_module_version": "1.2.0",
          "model_name": "LayoutModel",
          "state": {
            "_model_module": "@jupyter-widgets/base",
            "_model_module_version": "1.2.0",
            "_model_name": "LayoutModel",
            "_view_count": null,
            "_view_module": "@jupyter-widgets/base",
            "_view_module_version": "1.2.0",
            "_view_name": "LayoutView",
            "align_content": null,
            "align_items": null,
            "align_self": null,
            "border": null,
            "bottom": null,
            "display": null,
            "flex": null,
            "flex_flow": null,
            "grid_area": null,
            "grid_auto_columns": null,
            "grid_auto_flow": null,
            "grid_auto_rows": null,
            "grid_column": null,
            "grid_gap": null,
            "grid_row": null,
            "grid_template_areas": null,
            "grid_template_columns": null,
            "grid_template_rows": null,
            "height": null,
            "justify_content": null,
            "justify_items": null,
            "left": null,
            "margin": null,
            "max_height": null,
            "max_width": null,
            "min_height": null,
            "min_width": null,
            "object_fit": null,
            "object_position": null,
            "order": null,
            "overflow": null,
            "overflow_x": null,
            "overflow_y": null,
            "padding": null,
            "right": null,
            "top": null,
            "visibility": null,
            "width": null
          }
        },
        "0a4b58cadb2c4a069133b68d0a766b8d": {
          "model_module": "@jupyter-widgets/base",
          "model_module_version": "1.2.0",
          "model_name": "LayoutModel",
          "state": {
            "_model_module": "@jupyter-widgets/base",
            "_model_module_version": "1.2.0",
            "_model_name": "LayoutModel",
            "_view_count": null,
            "_view_module": "@jupyter-widgets/base",
            "_view_module_version": "1.2.0",
            "_view_name": "LayoutView",
            "align_content": null,
            "align_items": null,
            "align_self": null,
            "border": null,
            "bottom": null,
            "display": null,
            "flex": null,
            "flex_flow": null,
            "grid_area": null,
            "grid_auto_columns": null,
            "grid_auto_flow": null,
            "grid_auto_rows": null,
            "grid_column": null,
            "grid_gap": null,
            "grid_row": null,
            "grid_template_areas": null,
            "grid_template_columns": null,
            "grid_template_rows": null,
            "height": null,
            "justify_content": null,
            "justify_items": null,
            "left": null,
            "margin": null,
            "max_height": null,
            "max_width": null,
            "min_height": null,
            "min_width": null,
            "object_fit": null,
            "object_position": null,
            "order": null,
            "overflow": null,
            "overflow_x": null,
            "overflow_y": null,
            "padding": null,
            "right": null,
            "top": null,
            "visibility": null,
            "width": null
          }
        },
        "0d2ff7d197274bd988c422302041ad50": {
          "model_module": "@jupyter-widgets/controls",
          "model_module_version": "1.5.0",
          "model_name": "ProgressStyleModel",
          "state": {
            "_model_module": "@jupyter-widgets/controls",
            "_model_module_version": "1.5.0",
            "_model_name": "ProgressStyleModel",
            "_view_count": null,
            "_view_module": "@jupyter-widgets/base",
            "_view_module_version": "1.2.0",
            "_view_name": "StyleView",
            "bar_color": null,
            "description_width": ""
          }
        },
        "0dd6bb6f6e8f487eb3fcd6f97820f127": {
          "model_module": "@jupyter-widgets/base",
          "model_module_version": "1.2.0",
          "model_name": "LayoutModel",
          "state": {
            "_model_module": "@jupyter-widgets/base",
            "_model_module_version": "1.2.0",
            "_model_name": "LayoutModel",
            "_view_count": null,
            "_view_module": "@jupyter-widgets/base",
            "_view_module_version": "1.2.0",
            "_view_name": "LayoutView",
            "align_content": null,
            "align_items": null,
            "align_self": null,
            "border": null,
            "bottom": null,
            "display": null,
            "flex": null,
            "flex_flow": null,
            "grid_area": null,
            "grid_auto_columns": null,
            "grid_auto_flow": null,
            "grid_auto_rows": null,
            "grid_column": null,
            "grid_gap": null,
            "grid_row": null,
            "grid_template_areas": null,
            "grid_template_columns": null,
            "grid_template_rows": null,
            "height": null,
            "justify_content": null,
            "justify_items": null,
            "left": null,
            "margin": null,
            "max_height": null,
            "max_width": null,
            "min_height": null,
            "min_width": null,
            "object_fit": null,
            "object_position": null,
            "order": null,
            "overflow": null,
            "overflow_x": null,
            "overflow_y": null,
            "padding": null,
            "right": null,
            "top": null,
            "visibility": null,
            "width": null
          }
        },
        "105925ad1023497d8bc1dfe3281a7eee": {
          "model_module": "@jupyter-widgets/controls",
          "model_module_version": "1.5.0",
          "model_name": "HTMLModel",
          "state": {
            "_dom_classes": [],
            "_model_module": "@jupyter-widgets/controls",
            "_model_module_version": "1.5.0",
            "_model_name": "HTMLModel",
            "_view_count": null,
            "_view_module": "@jupyter-widgets/controls",
            "_view_module_version": "1.5.0",
            "_view_name": "HTMLView",
            "description": "",
            "description_tooltip": null,
            "layout": "IPY_MODEL_31481b1cfa684174b1b8d980d168a1fe",
            "placeholder": "​",
            "style": "IPY_MODEL_a254476ec6664beba6087d14fc44d2eb",
            "value": ""
          }
        },
        "15dcd1b41cee4b2391bcf0f0bea201f2": {
          "model_module": "@jupyter-widgets/controls",
          "model_module_version": "1.5.0",
          "model_name": "ProgressStyleModel",
          "state": {
            "_model_module": "@jupyter-widgets/controls",
            "_model_module_version": "1.5.0",
            "_model_name": "ProgressStyleModel",
            "_view_count": null,
            "_view_module": "@jupyter-widgets/base",
            "_view_module_version": "1.2.0",
            "_view_name": "StyleView",
            "bar_color": null,
            "description_width": ""
          }
        },
        "1868f4b9a1c24d1e908ef0b1b1ee6835": {
          "model_module": "@jupyter-widgets/base",
          "model_module_version": "1.2.0",
          "model_name": "LayoutModel",
          "state": {
            "_model_module": "@jupyter-widgets/base",
            "_model_module_version": "1.2.0",
            "_model_name": "LayoutModel",
            "_view_count": null,
            "_view_module": "@jupyter-widgets/base",
            "_view_module_version": "1.2.0",
            "_view_name": "LayoutView",
            "align_content": null,
            "align_items": null,
            "align_self": null,
            "border": null,
            "bottom": null,
            "display": null,
            "flex": null,
            "flex_flow": null,
            "grid_area": null,
            "grid_auto_columns": null,
            "grid_auto_flow": null,
            "grid_auto_rows": null,
            "grid_column": null,
            "grid_gap": null,
            "grid_row": null,
            "grid_template_areas": null,
            "grid_template_columns": null,
            "grid_template_rows": null,
            "height": null,
            "justify_content": null,
            "justify_items": null,
            "left": null,
            "margin": null,
            "max_height": null,
            "max_width": null,
            "min_height": null,
            "min_width": null,
            "object_fit": null,
            "object_position": null,
            "order": null,
            "overflow": null,
            "overflow_x": null,
            "overflow_y": null,
            "padding": null,
            "right": null,
            "top": null,
            "visibility": null,
            "width": null
          }
        },
        "1de3b0a365a342468047ec549a6cc46c": {
          "model_module": "@jupyter-widgets/base",
          "model_module_version": "1.2.0",
          "model_name": "LayoutModel",
          "state": {
            "_model_module": "@jupyter-widgets/base",
            "_model_module_version": "1.2.0",
            "_model_name": "LayoutModel",
            "_view_count": null,
            "_view_module": "@jupyter-widgets/base",
            "_view_module_version": "1.2.0",
            "_view_name": "LayoutView",
            "align_content": null,
            "align_items": null,
            "align_self": null,
            "border": null,
            "bottom": null,
            "display": null,
            "flex": null,
            "flex_flow": null,
            "grid_area": null,
            "grid_auto_columns": null,
            "grid_auto_flow": null,
            "grid_auto_rows": null,
            "grid_column": null,
            "grid_gap": null,
            "grid_row": null,
            "grid_template_areas": null,
            "grid_template_columns": null,
            "grid_template_rows": null,
            "height": null,
            "justify_content": null,
            "justify_items": null,
            "left": null,
            "margin": null,
            "max_height": null,
            "max_width": null,
            "min_height": null,
            "min_width": null,
            "object_fit": null,
            "object_position": null,
            "order": null,
            "overflow": null,
            "overflow_x": null,
            "overflow_y": null,
            "padding": null,
            "right": null,
            "top": null,
            "visibility": null,
            "width": null
          }
        },
        "1ed2cf184a9f45758bb6bfaf28496ff1": {
          "model_module": "@jupyter-widgets/controls",
          "model_module_version": "1.5.0",
          "model_name": "HBoxModel",
          "state": {
            "_dom_classes": [],
            "_model_module": "@jupyter-widgets/controls",
            "_model_module_version": "1.5.0",
            "_model_name": "HBoxModel",
            "_view_count": null,
            "_view_module": "@jupyter-widgets/controls",
            "_view_module_version": "1.5.0",
            "_view_name": "HBoxView",
            "box_style": "",
            "children": [
              "IPY_MODEL_41adfd06f38645ecbe04c1b88e40c2b5",
              "IPY_MODEL_08094f77d5f146238a1d9c97ad2ce5c0",
              "IPY_MODEL_c89c407f7e0b4034bf80aff57160a0d9"
            ],
            "layout": "IPY_MODEL_4c036e5012cf4d77ae45576afe3f82fb"
          }
        },
        "235834d1e8244ee7b2524ce5fa5cd29e": {
          "model_module": "@jupyter-widgets/base",
          "model_module_version": "1.2.0",
          "model_name": "LayoutModel",
          "state": {
            "_model_module": "@jupyter-widgets/base",
            "_model_module_version": "1.2.0",
            "_model_name": "LayoutModel",
            "_view_count": null,
            "_view_module": "@jupyter-widgets/base",
            "_view_module_version": "1.2.0",
            "_view_name": "LayoutView",
            "align_content": null,
            "align_items": null,
            "align_self": null,
            "border": null,
            "bottom": null,
            "display": null,
            "flex": null,
            "flex_flow": null,
            "grid_area": null,
            "grid_auto_columns": null,
            "grid_auto_flow": null,
            "grid_auto_rows": null,
            "grid_column": null,
            "grid_gap": null,
            "grid_row": null,
            "grid_template_areas": null,
            "grid_template_columns": null,
            "grid_template_rows": null,
            "height": null,
            "justify_content": null,
            "justify_items": null,
            "left": null,
            "margin": null,
            "max_height": null,
            "max_width": null,
            "min_height": null,
            "min_width": null,
            "object_fit": null,
            "object_position": null,
            "order": null,
            "overflow": null,
            "overflow_x": null,
            "overflow_y": null,
            "padding": null,
            "right": null,
            "top": null,
            "visibility": null,
            "width": "20px"
          }
        },
        "23f548df14474361ba7ab7a9f5195f96": {
          "model_module": "@jupyter-widgets/controls",
          "model_module_version": "1.5.0",
          "model_name": "HBoxModel",
          "state": {
            "_dom_classes": [],
            "_model_module": "@jupyter-widgets/controls",
            "_model_module_version": "1.5.0",
            "_model_name": "HBoxModel",
            "_view_count": null,
            "_view_module": "@jupyter-widgets/controls",
            "_view_module_version": "1.5.0",
            "_view_name": "HBoxView",
            "box_style": "",
            "children": [
              "IPY_MODEL_622cc7c71bb944399b56033cb49a9740",
              "IPY_MODEL_90a21d2553cd4a18b9296cadff72944c",
              "IPY_MODEL_2e0209a811254f06a5289226bb37acef"
            ],
            "layout": "IPY_MODEL_6b4905a16ae649f3bcdcf1845bc92f3e"
          }
        },
        "285159eacf3d4fdc9108db66fb290216": {
          "model_module": "@jupyter-widgets/base",
          "model_module_version": "1.2.0",
          "model_name": "LayoutModel",
          "state": {
            "_model_module": "@jupyter-widgets/base",
            "_model_module_version": "1.2.0",
            "_model_name": "LayoutModel",
            "_view_count": null,
            "_view_module": "@jupyter-widgets/base",
            "_view_module_version": "1.2.0",
            "_view_name": "LayoutView",
            "align_content": null,
            "align_items": null,
            "align_self": null,
            "border": null,
            "bottom": null,
            "display": null,
            "flex": null,
            "flex_flow": null,
            "grid_area": null,
            "grid_auto_columns": null,
            "grid_auto_flow": null,
            "grid_auto_rows": null,
            "grid_column": null,
            "grid_gap": null,
            "grid_row": null,
            "grid_template_areas": null,
            "grid_template_columns": null,
            "grid_template_rows": null,
            "height": null,
            "justify_content": null,
            "justify_items": null,
            "left": null,
            "margin": null,
            "max_height": null,
            "max_width": null,
            "min_height": null,
            "min_width": null,
            "object_fit": null,
            "object_position": null,
            "order": null,
            "overflow": null,
            "overflow_x": null,
            "overflow_y": null,
            "padding": null,
            "right": null,
            "top": null,
            "visibility": null,
            "width": null
          }
        },
        "2abd6413c022425f8bca7c9063946026": {
          "model_module": "@jupyter-widgets/controls",
          "model_module_version": "1.5.0",
          "model_name": "ProgressStyleModel",
          "state": {
            "_model_module": "@jupyter-widgets/controls",
            "_model_module_version": "1.5.0",
            "_model_name": "ProgressStyleModel",
            "_view_count": null,
            "_view_module": "@jupyter-widgets/base",
            "_view_module_version": "1.2.0",
            "_view_name": "StyleView",
            "bar_color": null,
            "description_width": ""
          }
        },
        "2d6ccbcfbe284105a57cd950e2bdf129": {
          "model_module": "@jupyter-widgets/base",
          "model_module_version": "1.2.0",
          "model_name": "LayoutModel",
          "state": {
            "_model_module": "@jupyter-widgets/base",
            "_model_module_version": "1.2.0",
            "_model_name": "LayoutModel",
            "_view_count": null,
            "_view_module": "@jupyter-widgets/base",
            "_view_module_version": "1.2.0",
            "_view_name": "LayoutView",
            "align_content": null,
            "align_items": null,
            "align_self": null,
            "border": null,
            "bottom": null,
            "display": null,
            "flex": null,
            "flex_flow": null,
            "grid_area": null,
            "grid_auto_columns": null,
            "grid_auto_flow": null,
            "grid_auto_rows": null,
            "grid_column": null,
            "grid_gap": null,
            "grid_row": null,
            "grid_template_areas": null,
            "grid_template_columns": null,
            "grid_template_rows": null,
            "height": null,
            "justify_content": null,
            "justify_items": null,
            "left": null,
            "margin": null,
            "max_height": null,
            "max_width": null,
            "min_height": null,
            "min_width": null,
            "object_fit": null,
            "object_position": null,
            "order": null,
            "overflow": null,
            "overflow_x": null,
            "overflow_y": null,
            "padding": null,
            "right": null,
            "top": null,
            "visibility": null,
            "width": null
          }
        },
        "2d7e0fcff6f74147bb7e7000cf9e6fb6": {
          "model_module": "@jupyter-widgets/controls",
          "model_module_version": "1.5.0",
          "model_name": "HTMLModel",
          "state": {
            "_dom_classes": [],
            "_model_module": "@jupyter-widgets/controls",
            "_model_module_version": "1.5.0",
            "_model_name": "HTMLModel",
            "_view_count": null,
            "_view_module": "@jupyter-widgets/controls",
            "_view_module_version": "1.5.0",
            "_view_name": "HTMLView",
            "description": "",
            "description_tooltip": null,
            "layout": "IPY_MODEL_b79ea3b1d11948bb92394486fba1affa",
            "placeholder": "​",
            "style": "IPY_MODEL_3566f3d26829411096ff90650909ab38",
            "value": " 1580/0 [00:00&lt;00:00, 8574.95 examples/s]"
          }
        },
        "2e0209a811254f06a5289226bb37acef": {
          "model_module": "@jupyter-widgets/controls",
          "model_module_version": "1.5.0",
          "model_name": "HTMLModel",
          "state": {
            "_dom_classes": [],
            "_model_module": "@jupyter-widgets/controls",
            "_model_module_version": "1.5.0",
            "_model_name": "HTMLModel",
            "_view_count": null,
            "_view_module": "@jupyter-widgets/controls",
            "_view_module_version": "1.5.0",
            "_view_name": "HTMLView",
            "description": "",
            "description_tooltip": null,
            "layout": "IPY_MODEL_e376538a4a384693abc9389436ed2f9b",
            "placeholder": "​",
            "style": "IPY_MODEL_86b297d194ca43e8b1fc4dca9d059f70",
            "value": " 528/0 [00:00&lt;00:00, 5278.17 examples/s]"
          }
        },
        "2f0d2a3fec3e42dda06d34d2d5ff735a": {
          "model_module": "@jupyter-widgets/controls",
          "model_module_version": "1.5.0",
          "model_name": "HTMLModel",
          "state": {
            "_dom_classes": [],
            "_model_module": "@jupyter-widgets/controls",
            "_model_module_version": "1.5.0",
            "_model_name": "HTMLModel",
            "_view_count": null,
            "_view_module": "@jupyter-widgets/controls",
            "_view_module_version": "1.5.0",
            "_view_name": "HTMLView",
            "description": "",
            "description_tooltip": null,
            "layout": "IPY_MODEL_30f01c03c1f34e91a8d13dddea132f40",
            "placeholder": "​",
            "style": "IPY_MODEL_4eed9f9d3b41493485eecb9d8b40a053",
            "value": "100%"
          }
        },
        "30f01c03c1f34e91a8d13dddea132f40": {
          "model_module": "@jupyter-widgets/base",
          "model_module_version": "1.2.0",
          "model_name": "LayoutModel",
          "state": {
            "_model_module": "@jupyter-widgets/base",
            "_model_module_version": "1.2.0",
            "_model_name": "LayoutModel",
            "_view_count": null,
            "_view_module": "@jupyter-widgets/base",
            "_view_module_version": "1.2.0",
            "_view_name": "LayoutView",
            "align_content": null,
            "align_items": null,
            "align_self": null,
            "border": null,
            "bottom": null,
            "display": null,
            "flex": null,
            "flex_flow": null,
            "grid_area": null,
            "grid_auto_columns": null,
            "grid_auto_flow": null,
            "grid_auto_rows": null,
            "grid_column": null,
            "grid_gap": null,
            "grid_row": null,
            "grid_template_areas": null,
            "grid_template_columns": null,
            "grid_template_rows": null,
            "height": null,
            "justify_content": null,
            "justify_items": null,
            "left": null,
            "margin": null,
            "max_height": null,
            "max_width": null,
            "min_height": null,
            "min_width": null,
            "object_fit": null,
            "object_position": null,
            "order": null,
            "overflow": null,
            "overflow_x": null,
            "overflow_y": null,
            "padding": null,
            "right": null,
            "top": null,
            "visibility": null,
            "width": null
          }
        },
        "31481b1cfa684174b1b8d980d168a1fe": {
          "model_module": "@jupyter-widgets/base",
          "model_module_version": "1.2.0",
          "model_name": "LayoutModel",
          "state": {
            "_model_module": "@jupyter-widgets/base",
            "_model_module_version": "1.2.0",
            "_model_name": "LayoutModel",
            "_view_count": null,
            "_view_module": "@jupyter-widgets/base",
            "_view_module_version": "1.2.0",
            "_view_name": "LayoutView",
            "align_content": null,
            "align_items": null,
            "align_self": null,
            "border": null,
            "bottom": null,
            "display": null,
            "flex": null,
            "flex_flow": null,
            "grid_area": null,
            "grid_auto_columns": null,
            "grid_auto_flow": null,
            "grid_auto_rows": null,
            "grid_column": null,
            "grid_gap": null,
            "grid_row": null,
            "grid_template_areas": null,
            "grid_template_columns": null,
            "grid_template_rows": null,
            "height": null,
            "justify_content": null,
            "justify_items": null,
            "left": null,
            "margin": null,
            "max_height": null,
            "max_width": null,
            "min_height": null,
            "min_width": null,
            "object_fit": null,
            "object_position": null,
            "order": null,
            "overflow": null,
            "overflow_x": null,
            "overflow_y": null,
            "padding": null,
            "right": null,
            "top": null,
            "visibility": null,
            "width": null
          }
        },
        "3277c6a4634744a1822f485ef2bb98f9": {
          "model_module": "@jupyter-widgets/controls",
          "model_module_version": "1.5.0",
          "model_name": "FloatProgressModel",
          "state": {
            "_dom_classes": [],
            "_model_module": "@jupyter-widgets/controls",
            "_model_module_version": "1.5.0",
            "_model_name": "FloatProgressModel",
            "_view_count": null,
            "_view_module": "@jupyter-widgets/controls",
            "_view_module_version": "1.5.0",
            "_view_name": "ProgressView",
            "bar_style": "info",
            "description": "",
            "description_tooltip": null,
            "layout": "IPY_MODEL_afbc735da0a1411cbd27a2551fe68a39",
            "max": 1,
            "min": 0,
            "orientation": "horizontal",
            "style": "IPY_MODEL_6125f335610a4a8196e288bb6568164c",
            "value": 1
          }
        },
        "3566f3d26829411096ff90650909ab38": {
          "model_module": "@jupyter-widgets/controls",
          "model_module_version": "1.5.0",
          "model_name": "DescriptionStyleModel",
          "state": {
            "_model_module": "@jupyter-widgets/controls",
            "_model_module_version": "1.5.0",
            "_model_name": "DescriptionStyleModel",
            "_view_count": null,
            "_view_module": "@jupyter-widgets/base",
            "_view_module_version": "1.2.0",
            "_view_name": "StyleView",
            "description_width": ""
          }
        },
        "387a646ef8994728ba167898cfa1ab97": {
          "model_module": "@jupyter-widgets/controls",
          "model_module_version": "1.5.0",
          "model_name": "FloatProgressModel",
          "state": {
            "_dom_classes": [],
            "_model_module": "@jupyter-widgets/controls",
            "_model_module_version": "1.5.0",
            "_model_name": "FloatProgressModel",
            "_view_count": null,
            "_view_module": "@jupyter-widgets/controls",
            "_view_module_version": "1.5.0",
            "_view_name": "ProgressView",
            "bar_style": "success",
            "description": "",
            "description_tooltip": null,
            "layout": "IPY_MODEL_4063737c30464e3ca2fbd641f0fa955f",
            "max": 1768,
            "min": 0,
            "orientation": "horizontal",
            "style": "IPY_MODEL_582f30accc914eddbcc3b558e783f2f9",
            "value": 1768
          }
        },
        "38f346b5a3a14fd1a86381017e3e9689": {
          "model_module": "@jupyter-widgets/base",
          "model_module_version": "1.2.0",
          "model_name": "LayoutModel",
          "state": {
            "_model_module": "@jupyter-widgets/base",
            "_model_module_version": "1.2.0",
            "_model_name": "LayoutModel",
            "_view_count": null,
            "_view_module": "@jupyter-widgets/base",
            "_view_module_version": "1.2.0",
            "_view_name": "LayoutView",
            "align_content": null,
            "align_items": null,
            "align_self": null,
            "border": null,
            "bottom": null,
            "display": null,
            "flex": null,
            "flex_flow": null,
            "grid_area": null,
            "grid_auto_columns": null,
            "grid_auto_flow": null,
            "grid_auto_rows": null,
            "grid_column": null,
            "grid_gap": null,
            "grid_row": null,
            "grid_template_areas": null,
            "grid_template_columns": null,
            "grid_template_rows": null,
            "height": null,
            "justify_content": null,
            "justify_items": null,
            "left": null,
            "margin": null,
            "max_height": null,
            "max_width": null,
            "min_height": null,
            "min_width": null,
            "object_fit": null,
            "object_position": null,
            "order": null,
            "overflow": null,
            "overflow_x": null,
            "overflow_y": null,
            "padding": null,
            "right": null,
            "top": null,
            "visibility": null,
            "width": null
          }
        },
        "38fd2e8c263e4908961208ccd00c2a88": {
          "model_module": "@jupyter-widgets/controls",
          "model_module_version": "1.5.0",
          "model_name": "ProgressStyleModel",
          "state": {
            "_model_module": "@jupyter-widgets/controls",
            "_model_module_version": "1.5.0",
            "_model_name": "ProgressStyleModel",
            "_view_count": null,
            "_view_module": "@jupyter-widgets/base",
            "_view_module_version": "1.2.0",
            "_view_name": "StyleView",
            "bar_color": null,
            "description_width": ""
          }
        },
        "3b04977c72244e1c95cf167c4d83e9a4": {
          "model_module": "@jupyter-widgets/base",
          "model_module_version": "1.2.0",
          "model_name": "LayoutModel",
          "state": {
            "_model_module": "@jupyter-widgets/base",
            "_model_module_version": "1.2.0",
            "_model_name": "LayoutModel",
            "_view_count": null,
            "_view_module": "@jupyter-widgets/base",
            "_view_module_version": "1.2.0",
            "_view_name": "LayoutView",
            "align_content": null,
            "align_items": null,
            "align_self": null,
            "border": null,
            "bottom": null,
            "display": null,
            "flex": null,
            "flex_flow": null,
            "grid_area": null,
            "grid_auto_columns": null,
            "grid_auto_flow": null,
            "grid_auto_rows": null,
            "grid_column": null,
            "grid_gap": null,
            "grid_row": null,
            "grid_template_areas": null,
            "grid_template_columns": null,
            "grid_template_rows": null,
            "height": null,
            "justify_content": null,
            "justify_items": null,
            "left": null,
            "margin": null,
            "max_height": null,
            "max_width": null,
            "min_height": null,
            "min_width": null,
            "object_fit": null,
            "object_position": null,
            "order": null,
            "overflow": null,
            "overflow_x": null,
            "overflow_y": null,
            "padding": null,
            "right": null,
            "top": null,
            "visibility": null,
            "width": null
          }
        },
        "3cd53ee1981e418c842de32a688d5142": {
          "model_module": "@jupyter-widgets/controls",
          "model_module_version": "1.5.0",
          "model_name": "ProgressStyleModel",
          "state": {
            "_model_module": "@jupyter-widgets/controls",
            "_model_module_version": "1.5.0",
            "_model_name": "ProgressStyleModel",
            "_view_count": null,
            "_view_module": "@jupyter-widgets/base",
            "_view_module_version": "1.2.0",
            "_view_name": "StyleView",
            "bar_color": null,
            "description_width": ""
          }
        },
        "3d8d225a93234eff93573f1b126b17a6": {
          "model_module": "@jupyter-widgets/controls",
          "model_module_version": "1.5.0",
          "model_name": "DescriptionStyleModel",
          "state": {
            "_model_module": "@jupyter-widgets/controls",
            "_model_module_version": "1.5.0",
            "_model_name": "DescriptionStyleModel",
            "_view_count": null,
            "_view_module": "@jupyter-widgets/base",
            "_view_module_version": "1.2.0",
            "_view_name": "StyleView",
            "description_width": ""
          }
        },
        "3e8a2b26c48c41ff915f1b7749704dc4": {
          "model_module": "@jupyter-widgets/base",
          "model_module_version": "1.2.0",
          "model_name": "LayoutModel",
          "state": {
            "_model_module": "@jupyter-widgets/base",
            "_model_module_version": "1.2.0",
            "_model_name": "LayoutModel",
            "_view_count": null,
            "_view_module": "@jupyter-widgets/base",
            "_view_module_version": "1.2.0",
            "_view_name": "LayoutView",
            "align_content": null,
            "align_items": null,
            "align_self": null,
            "border": null,
            "bottom": null,
            "display": null,
            "flex": null,
            "flex_flow": null,
            "grid_area": null,
            "grid_auto_columns": null,
            "grid_auto_flow": null,
            "grid_auto_rows": null,
            "grid_column": null,
            "grid_gap": null,
            "grid_row": null,
            "grid_template_areas": null,
            "grid_template_columns": null,
            "grid_template_rows": null,
            "height": null,
            "justify_content": null,
            "justify_items": null,
            "left": null,
            "margin": null,
            "max_height": null,
            "max_width": null,
            "min_height": null,
            "min_width": null,
            "object_fit": null,
            "object_position": null,
            "order": null,
            "overflow": null,
            "overflow_x": null,
            "overflow_y": null,
            "padding": null,
            "right": null,
            "top": null,
            "visibility": null,
            "width": null
          }
        },
        "3f04be2b357a4c4ba5b1cbf19e47c62b": {
          "model_module": "@jupyter-widgets/controls",
          "model_module_version": "1.5.0",
          "model_name": "DescriptionStyleModel",
          "state": {
            "_model_module": "@jupyter-widgets/controls",
            "_model_module_version": "1.5.0",
            "_model_name": "DescriptionStyleModel",
            "_view_count": null,
            "_view_module": "@jupyter-widgets/base",
            "_view_module_version": "1.2.0",
            "_view_name": "StyleView",
            "description_width": ""
          }
        },
        "3f4d309d9be3407ebcb24bbae997527d": {
          "model_module": "@jupyter-widgets/controls",
          "model_module_version": "1.5.0",
          "model_name": "HTMLModel",
          "state": {
            "_dom_classes": [],
            "_model_module": "@jupyter-widgets/controls",
            "_model_module_version": "1.5.0",
            "_model_name": "HTMLModel",
            "_view_count": null,
            "_view_module": "@jupyter-widgets/controls",
            "_view_module_version": "1.5.0",
            "_view_name": "HTMLView",
            "description": "",
            "description_tooltip": null,
            "layout": "IPY_MODEL_b14fcc491d8a42d1b1a5e01cbbf1da41",
            "placeholder": "​",
            "style": "IPY_MODEL_4daff97b105543fe85dcd3117f93e1bc",
            "value": " 1647/1647 [00:00&lt;00:00, 5317.48ex/s]"
          }
        },
        "4063737c30464e3ca2fbd641f0fa955f": {
          "model_module": "@jupyter-widgets/base",
          "model_module_version": "1.2.0",
          "model_name": "LayoutModel",
          "state": {
            "_model_module": "@jupyter-widgets/base",
            "_model_module_version": "1.2.0",
            "_model_name": "LayoutModel",
            "_view_count": null,
            "_view_module": "@jupyter-widgets/base",
            "_view_module_version": "1.2.0",
            "_view_name": "LayoutView",
            "align_content": null,
            "align_items": null,
            "align_self": null,
            "border": null,
            "bottom": null,
            "display": null,
            "flex": null,
            "flex_flow": null,
            "grid_area": null,
            "grid_auto_columns": null,
            "grid_auto_flow": null,
            "grid_auto_rows": null,
            "grid_column": null,
            "grid_gap": null,
            "grid_row": null,
            "grid_template_areas": null,
            "grid_template_columns": null,
            "grid_template_rows": null,
            "height": null,
            "justify_content": null,
            "justify_items": null,
            "left": null,
            "margin": null,
            "max_height": null,
            "max_width": null,
            "min_height": null,
            "min_width": null,
            "object_fit": null,
            "object_position": null,
            "order": null,
            "overflow": null,
            "overflow_x": null,
            "overflow_y": null,
            "padding": null,
            "right": null,
            "top": null,
            "visibility": null,
            "width": null
          }
        },
        "41adfd06f38645ecbe04c1b88e40c2b5": {
          "model_module": "@jupyter-widgets/controls",
          "model_module_version": "1.5.0",
          "model_name": "HTMLModel",
          "state": {
            "_dom_classes": [],
            "_model_module": "@jupyter-widgets/controls",
            "_model_module_version": "1.5.0",
            "_model_name": "HTMLModel",
            "_view_count": null,
            "_view_module": "@jupyter-widgets/controls",
            "_view_module_version": "1.5.0",
            "_view_name": "HTMLView",
            "description": "",
            "description_tooltip": null,
            "layout": "IPY_MODEL_5eaacd176ef241b4b568bdaf01038d5a",
            "placeholder": "​",
            "style": "IPY_MODEL_a781f031e34e425eb382354750ae4460",
            "value": "100%"
          }
        },
        "46acdb0b45a1410a98ac77314ef344c4": {
          "model_module": "@jupyter-widgets/controls",
          "model_module_version": "1.5.0",
          "model_name": "FloatProgressModel",
          "state": {
            "_dom_classes": [],
            "_model_module": "@jupyter-widgets/controls",
            "_model_module_version": "1.5.0",
            "_model_name": "FloatProgressModel",
            "_view_count": null,
            "_view_module": "@jupyter-widgets/controls",
            "_view_module_version": "1.5.0",
            "_view_name": "ProgressView",
            "bar_style": "success",
            "description": "",
            "description_tooltip": null,
            "layout": "IPY_MODEL_8b189ea9856d451cb23b1f51447bb910",
            "max": 4444,
            "min": 0,
            "orientation": "horizontal",
            "style": "IPY_MODEL_a7b38f018e9e468f8790985065539b24",
            "value": 4444
          }
        },
        "48cff5418d1a439c8fd8b046b01bdddc": {
          "model_module": "@jupyter-widgets/controls",
          "model_module_version": "1.5.0",
          "model_name": "DescriptionStyleModel",
          "state": {
            "_model_module": "@jupyter-widgets/controls",
            "_model_module_version": "1.5.0",
            "_model_name": "DescriptionStyleModel",
            "_view_count": null,
            "_view_module": "@jupyter-widgets/base",
            "_view_module_version": "1.2.0",
            "_view_name": "StyleView",
            "description_width": ""
          }
        },
        "49d6b0e9056f4f188de48085dbfebe90": {
          "model_module": "@jupyter-widgets/base",
          "model_module_version": "1.2.0",
          "model_name": "LayoutModel",
          "state": {
            "_model_module": "@jupyter-widgets/base",
            "_model_module_version": "1.2.0",
            "_model_name": "LayoutModel",
            "_view_count": null,
            "_view_module": "@jupyter-widgets/base",
            "_view_module_version": "1.2.0",
            "_view_name": "LayoutView",
            "align_content": null,
            "align_items": null,
            "align_self": null,
            "border": null,
            "bottom": null,
            "display": null,
            "flex": null,
            "flex_flow": null,
            "grid_area": null,
            "grid_auto_columns": null,
            "grid_auto_flow": null,
            "grid_auto_rows": null,
            "grid_column": null,
            "grid_gap": null,
            "grid_row": null,
            "grid_template_areas": null,
            "grid_template_columns": null,
            "grid_template_rows": null,
            "height": null,
            "justify_content": null,
            "justify_items": null,
            "left": null,
            "margin": null,
            "max_height": null,
            "max_width": null,
            "min_height": null,
            "min_width": null,
            "object_fit": null,
            "object_position": null,
            "order": null,
            "overflow": null,
            "overflow_x": null,
            "overflow_y": null,
            "padding": null,
            "right": null,
            "top": null,
            "visibility": null,
            "width": null
          }
        },
        "4abf3d6d363f48c9b6bc3e7531c8a9b1": {
          "model_module": "@jupyter-widgets/controls",
          "model_module_version": "1.5.0",
          "model_name": "HTMLModel",
          "state": {
            "_dom_classes": [],
            "_model_module": "@jupyter-widgets/controls",
            "_model_module_version": "1.5.0",
            "_model_name": "HTMLModel",
            "_view_count": null,
            "_view_module": "@jupyter-widgets/controls",
            "_view_module_version": "1.5.0",
            "_view_name": "HTMLView",
            "description": "",
            "description_tooltip": null,
            "layout": "IPY_MODEL_d7671dc854a749c59044b496cb6e730e",
            "placeholder": "​",
            "style": "IPY_MODEL_a1fc93cf823e4ec0808e457d977b4f4d",
            "value": ""
          }
        },
        "4b109b6d0b044ea891d679ce75ff8406": {
          "model_module": "@jupyter-widgets/base",
          "model_module_version": "1.2.0",
          "model_name": "LayoutModel",
          "state": {
            "_model_module": "@jupyter-widgets/base",
            "_model_module_version": "1.2.0",
            "_model_name": "LayoutModel",
            "_view_count": null,
            "_view_module": "@jupyter-widgets/base",
            "_view_module_version": "1.2.0",
            "_view_name": "LayoutView",
            "align_content": null,
            "align_items": null,
            "align_self": null,
            "border": null,
            "bottom": null,
            "display": null,
            "flex": null,
            "flex_flow": null,
            "grid_area": null,
            "grid_auto_columns": null,
            "grid_auto_flow": null,
            "grid_auto_rows": null,
            "grid_column": null,
            "grid_gap": null,
            "grid_row": null,
            "grid_template_areas": null,
            "grid_template_columns": null,
            "grid_template_rows": null,
            "height": null,
            "justify_content": null,
            "justify_items": null,
            "left": null,
            "margin": null,
            "max_height": null,
            "max_width": null,
            "min_height": null,
            "min_width": null,
            "object_fit": null,
            "object_position": null,
            "order": null,
            "overflow": null,
            "overflow_x": null,
            "overflow_y": null,
            "padding": null,
            "right": null,
            "top": null,
            "visibility": null,
            "width": null
          }
        },
        "4c036e5012cf4d77ae45576afe3f82fb": {
          "model_module": "@jupyter-widgets/base",
          "model_module_version": "1.2.0",
          "model_name": "LayoutModel",
          "state": {
            "_model_module": "@jupyter-widgets/base",
            "_model_module_version": "1.2.0",
            "_model_name": "LayoutModel",
            "_view_count": null,
            "_view_module": "@jupyter-widgets/base",
            "_view_module_version": "1.2.0",
            "_view_name": "LayoutView",
            "align_content": null,
            "align_items": null,
            "align_self": null,
            "border": null,
            "bottom": null,
            "display": null,
            "flex": null,
            "flex_flow": null,
            "grid_area": null,
            "grid_auto_columns": null,
            "grid_auto_flow": null,
            "grid_auto_rows": null,
            "grid_column": null,
            "grid_gap": null,
            "grid_row": null,
            "grid_template_areas": null,
            "grid_template_columns": null,
            "grid_template_rows": null,
            "height": null,
            "justify_content": null,
            "justify_items": null,
            "left": null,
            "margin": null,
            "max_height": null,
            "max_width": null,
            "min_height": null,
            "min_width": null,
            "object_fit": null,
            "object_position": null,
            "order": null,
            "overflow": null,
            "overflow_x": null,
            "overflow_y": null,
            "padding": null,
            "right": null,
            "top": null,
            "visibility": null,
            "width": null
          }
        },
        "4c41cf2ecd3547d2bff9c4682c860cce": {
          "model_module": "@jupyter-widgets/controls",
          "model_module_version": "1.5.0",
          "model_name": "HBoxModel",
          "state": {
            "_dom_classes": [],
            "_model_module": "@jupyter-widgets/controls",
            "_model_module_version": "1.5.0",
            "_model_name": "HBoxModel",
            "_view_count": null,
            "_view_module": "@jupyter-widgets/controls",
            "_view_module_version": "1.5.0",
            "_view_name": "HBoxView",
            "box_style": "",
            "children": [
              "IPY_MODEL_2f0d2a3fec3e42dda06d34d2d5ff735a",
              "IPY_MODEL_97c38734878e41ac942d5f0426aea688",
              "IPY_MODEL_c0f58f2823374ae095ae17713f00497e"
            ],
            "layout": "IPY_MODEL_571168216b3c42309140b1ced783aa9c"
          }
        },
        "4d7c2d51e73c4defb3d5c7696e8caefa": {
          "model_module": "@jupyter-widgets/controls",
          "model_module_version": "1.5.0",
          "model_name": "FloatProgressModel",
          "state": {
            "_dom_classes": [],
            "_model_module": "@jupyter-widgets/controls",
            "_model_module_version": "1.5.0",
            "_model_name": "FloatProgressModel",
            "_view_count": null,
            "_view_module": "@jupyter-widgets/controls",
            "_view_module_version": "1.5.0",
            "_view_name": "ProgressView",
            "bar_style": "info",
            "description": "",
            "description_tooltip": null,
            "layout": "IPY_MODEL_78a92697f78f48298b6a53748824021d",
            "max": 1,
            "min": 0,
            "orientation": "horizontal",
            "style": "IPY_MODEL_38fd2e8c263e4908961208ccd00c2a88",
            "value": 1
          }
        },
        "4daff97b105543fe85dcd3117f93e1bc": {
          "model_module": "@jupyter-widgets/controls",
          "model_module_version": "1.5.0",
          "model_name": "DescriptionStyleModel",
          "state": {
            "_model_module": "@jupyter-widgets/controls",
            "_model_module_version": "1.5.0",
            "_model_name": "DescriptionStyleModel",
            "_view_count": null,
            "_view_module": "@jupyter-widgets/base",
            "_view_module_version": "1.2.0",
            "_view_name": "StyleView",
            "description_width": ""
          }
        },
        "4eca72af7d464c6b8d1a47c189e53dd1": {
          "model_module": "@jupyter-widgets/controls",
          "model_module_version": "1.5.0",
          "model_name": "DescriptionStyleModel",
          "state": {
            "_model_module": "@jupyter-widgets/controls",
            "_model_module_version": "1.5.0",
            "_model_name": "DescriptionStyleModel",
            "_view_count": null,
            "_view_module": "@jupyter-widgets/base",
            "_view_module_version": "1.2.0",
            "_view_name": "StyleView",
            "description_width": ""
          }
        },
        "4eed9f9d3b41493485eecb9d8b40a053": {
          "model_module": "@jupyter-widgets/controls",
          "model_module_version": "1.5.0",
          "model_name": "DescriptionStyleModel",
          "state": {
            "_model_module": "@jupyter-widgets/controls",
            "_model_module_version": "1.5.0",
            "_model_name": "DescriptionStyleModel",
            "_view_count": null,
            "_view_module": "@jupyter-widgets/base",
            "_view_module_version": "1.2.0",
            "_view_name": "StyleView",
            "description_width": ""
          }
        },
        "501b2825dc864aa399d62d173459cb74": {
          "model_module": "@jupyter-widgets/controls",
          "model_module_version": "1.5.0",
          "model_name": "DescriptionStyleModel",
          "state": {
            "_model_module": "@jupyter-widgets/controls",
            "_model_module_version": "1.5.0",
            "_model_name": "DescriptionStyleModel",
            "_view_count": null,
            "_view_module": "@jupyter-widgets/base",
            "_view_module_version": "1.2.0",
            "_view_name": "StyleView",
            "description_width": ""
          }
        },
        "52e7c754b4dd44de89d16eeeccb72261": {
          "model_module": "@jupyter-widgets/controls",
          "model_module_version": "1.5.0",
          "model_name": "HTMLModel",
          "state": {
            "_dom_classes": [],
            "_model_module": "@jupyter-widgets/controls",
            "_model_module_version": "1.5.0",
            "_model_name": "HTMLModel",
            "_view_count": null,
            "_view_module": "@jupyter-widgets/controls",
            "_view_module_version": "1.5.0",
            "_view_name": "HTMLView",
            "description": "",
            "description_tooltip": null,
            "layout": "IPY_MODEL_cb4c61a9b61248f2a03507eb09830acc",
            "placeholder": "​",
            "style": "IPY_MODEL_3d8d225a93234eff93573f1b126b17a6",
            "value": " 161k/? [00:00&lt;00:00, 15.6kB/s]"
          }
        },
        "54b0d5a10028414685819fd5f07e55e7": {
          "model_module": "@jupyter-widgets/controls",
          "model_module_version": "1.5.0",
          "model_name": "HTMLModel",
          "state": {
            "_dom_classes": [],
            "_model_module": "@jupyter-widgets/controls",
            "_model_module_version": "1.5.0",
            "_model_name": "HTMLModel",
            "_view_count": null,
            "_view_module": "@jupyter-widgets/controls",
            "_view_module_version": "1.5.0",
            "_view_name": "HTMLView",
            "description": "",
            "description_tooltip": null,
            "layout": "IPY_MODEL_68b4da177dd14a4ca1ba96a0f282cf93",
            "placeholder": "​",
            "style": "IPY_MODEL_cd50952c2ba6403c9867b28d6c4d1f80",
            "value": ""
          }
        },
        "571168216b3c42309140b1ced783aa9c": {
          "model_module": "@jupyter-widgets/base",
          "model_module_version": "1.2.0",
          "model_name": "LayoutModel",
          "state": {
            "_model_module": "@jupyter-widgets/base",
            "_model_module_version": "1.2.0",
            "_model_name": "LayoutModel",
            "_view_count": null,
            "_view_module": "@jupyter-widgets/base",
            "_view_module_version": "1.2.0",
            "_view_name": "LayoutView",
            "align_content": null,
            "align_items": null,
            "align_self": null,
            "border": null,
            "bottom": null,
            "display": null,
            "flex": null,
            "flex_flow": null,
            "grid_area": null,
            "grid_auto_columns": null,
            "grid_auto_flow": null,
            "grid_auto_rows": null,
            "grid_column": null,
            "grid_gap": null,
            "grid_row": null,
            "grid_template_areas": null,
            "grid_template_columns": null,
            "grid_template_rows": null,
            "height": null,
            "justify_content": null,
            "justify_items": null,
            "left": null,
            "margin": null,
            "max_height": null,
            "max_width": null,
            "min_height": null,
            "min_width": null,
            "object_fit": null,
            "object_position": null,
            "order": null,
            "overflow": null,
            "overflow_x": null,
            "overflow_y": null,
            "padding": null,
            "right": null,
            "top": null,
            "visibility": null,
            "width": null
          }
        },
        "57ade4129877435d9995eef97cc29953": {
          "model_module": "@jupyter-widgets/controls",
          "model_module_version": "1.5.0",
          "model_name": "HTMLModel",
          "state": {
            "_dom_classes": [],
            "_model_module": "@jupyter-widgets/controls",
            "_model_module_version": "1.5.0",
            "_model_name": "HTMLModel",
            "_view_count": null,
            "_view_module": "@jupyter-widgets/controls",
            "_view_module_version": "1.5.0",
            "_view_name": "HTMLView",
            "description": "",
            "description_tooltip": null,
            "layout": "IPY_MODEL_8e5d4d6fac034bf482237c4415adb1b9",
            "placeholder": "​",
            "style": "IPY_MODEL_65ca91e6bca24eb1abb1ce05f1aeaf16",
            "value": " 0/0 [00:00&lt;?, ? examples/s]"
          }
        },
        "582f30accc914eddbcc3b558e783f2f9": {
          "model_module": "@jupyter-widgets/controls",
          "model_module_version": "1.5.0",
          "model_name": "ProgressStyleModel",
          "state": {
            "_model_module": "@jupyter-widgets/controls",
            "_model_module_version": "1.5.0",
            "_model_name": "ProgressStyleModel",
            "_view_count": null,
            "_view_module": "@jupyter-widgets/base",
            "_view_module_version": "1.2.0",
            "_view_name": "StyleView",
            "bar_color": null,
            "description_width": ""
          }
        },
        "5b0b0be09e0846f89d5f972dd1b3aa41": {
          "model_module": "@jupyter-widgets/controls",
          "model_module_version": "1.5.0",
          "model_name": "HTMLModel",
          "state": {
            "_dom_classes": [],
            "_model_module": "@jupyter-widgets/controls",
            "_model_module_version": "1.5.0",
            "_model_name": "HTMLModel",
            "_view_count": null,
            "_view_module": "@jupyter-widgets/controls",
            "_view_module_version": "1.5.0",
            "_view_name": "HTMLView",
            "description": "",
            "description_tooltip": null,
            "layout": "IPY_MODEL_3e8a2b26c48c41ff915f1b7749704dc4",
            "placeholder": "​",
            "style": "IPY_MODEL_ffa68f11ee2e4cba881b7cf192922e93",
            "value": "Downloading: 100%"
          }
        },
        "5c4bee0020354802be719db48fe39fb3": {
          "model_module": "@jupyter-widgets/controls",
          "model_module_version": "1.5.0",
          "model_name": "FloatProgressModel",
          "state": {
            "_dom_classes": [],
            "_model_module": "@jupyter-widgets/controls",
            "_model_module_version": "1.5.0",
            "_model_name": "FloatProgressModel",
            "_view_count": null,
            "_view_module": "@jupyter-widgets/controls",
            "_view_module_version": "1.5.0",
            "_view_name": "ProgressView",
            "bar_style": "info",
            "description": "",
            "description_tooltip": null,
            "layout": "IPY_MODEL_06f650ea19d24a548740abe2c0b41354",
            "max": 1,
            "min": 0,
            "orientation": "horizontal",
            "style": "IPY_MODEL_15dcd1b41cee4b2391bcf0f0bea201f2",
            "value": 1
          }
        },
        "5e4409e7c342470f95028f95cc14a864": {
          "model_module": "@jupyter-widgets/base",
          "model_module_version": "1.2.0",
          "model_name": "LayoutModel",
          "state": {
            "_model_module": "@jupyter-widgets/base",
            "_model_module_version": "1.2.0",
            "_model_name": "LayoutModel",
            "_view_count": null,
            "_view_module": "@jupyter-widgets/base",
            "_view_module_version": "1.2.0",
            "_view_name": "LayoutView",
            "align_content": null,
            "align_items": null,
            "align_self": null,
            "border": null,
            "bottom": null,
            "display": null,
            "flex": null,
            "flex_flow": null,
            "grid_area": null,
            "grid_auto_columns": null,
            "grid_auto_flow": null,
            "grid_auto_rows": null,
            "grid_column": null,
            "grid_gap": null,
            "grid_row": null,
            "grid_template_areas": null,
            "grid_template_columns": null,
            "grid_template_rows": null,
            "height": null,
            "justify_content": null,
            "justify_items": null,
            "left": null,
            "margin": null,
            "max_height": null,
            "max_width": null,
            "min_height": null,
            "min_width": null,
            "object_fit": null,
            "object_position": null,
            "order": null,
            "overflow": null,
            "overflow_x": null,
            "overflow_y": null,
            "padding": null,
            "right": null,
            "top": null,
            "visibility": null,
            "width": null
          }
        },
        "5eaacd176ef241b4b568bdaf01038d5a": {
          "model_module": "@jupyter-widgets/base",
          "model_module_version": "1.2.0",
          "model_name": "LayoutModel",
          "state": {
            "_model_module": "@jupyter-widgets/base",
            "_model_module_version": "1.2.0",
            "_model_name": "LayoutModel",
            "_view_count": null,
            "_view_module": "@jupyter-widgets/base",
            "_view_module_version": "1.2.0",
            "_view_name": "LayoutView",
            "align_content": null,
            "align_items": null,
            "align_self": null,
            "border": null,
            "bottom": null,
            "display": null,
            "flex": null,
            "flex_flow": null,
            "grid_area": null,
            "grid_auto_columns": null,
            "grid_auto_flow": null,
            "grid_auto_rows": null,
            "grid_column": null,
            "grid_gap": null,
            "grid_row": null,
            "grid_template_areas": null,
            "grid_template_columns": null,
            "grid_template_rows": null,
            "height": null,
            "justify_content": null,
            "justify_items": null,
            "left": null,
            "margin": null,
            "max_height": null,
            "max_width": null,
            "min_height": null,
            "min_width": null,
            "object_fit": null,
            "object_position": null,
            "order": null,
            "overflow": null,
            "overflow_x": null,
            "overflow_y": null,
            "padding": null,
            "right": null,
            "top": null,
            "visibility": null,
            "width": null
          }
        },
        "606b3ded549f4be499240a61ce1973fc": {
          "model_module": "@jupyter-widgets/controls",
          "model_module_version": "1.5.0",
          "model_name": "HBoxModel",
          "state": {
            "_dom_classes": [],
            "_model_module": "@jupyter-widgets/controls",
            "_model_module_version": "1.5.0",
            "_model_name": "HBoxModel",
            "_view_count": null,
            "_view_module": "@jupyter-widgets/controls",
            "_view_module_version": "1.5.0",
            "_view_name": "HBoxView",
            "box_style": "",
            "children": [
              "IPY_MODEL_8394bd92b5874959b76cdfdfa81fefc3",
              "IPY_MODEL_741196439c824c89a51d5efc11972b3f",
              "IPY_MODEL_fa845f7c970b409c9b99b3b5119b7010"
            ],
            "layout": "IPY_MODEL_912dbc5a5fc04d25a17dfc58a74ed0ef"
          }
        },
        "6125f335610a4a8196e288bb6568164c": {
          "model_module": "@jupyter-widgets/controls",
          "model_module_version": "1.5.0",
          "model_name": "ProgressStyleModel",
          "state": {
            "_model_module": "@jupyter-widgets/controls",
            "_model_module_version": "1.5.0",
            "_model_name": "ProgressStyleModel",
            "_view_count": null,
            "_view_module": "@jupyter-widgets/base",
            "_view_module_version": "1.2.0",
            "_view_name": "StyleView",
            "bar_color": null,
            "description_width": ""
          }
        },
        "61da4767d048476b9d79272c79c5ada9": {
          "model_module": "@jupyter-widgets/controls",
          "model_module_version": "1.5.0",
          "model_name": "DescriptionStyleModel",
          "state": {
            "_model_module": "@jupyter-widgets/controls",
            "_model_module_version": "1.5.0",
            "_model_name": "DescriptionStyleModel",
            "_view_count": null,
            "_view_module": "@jupyter-widgets/base",
            "_view_module_version": "1.2.0",
            "_view_name": "StyleView",
            "description_width": ""
          }
        },
        "622cc7c71bb944399b56033cb49a9740": {
          "model_module": "@jupyter-widgets/controls",
          "model_module_version": "1.5.0",
          "model_name": "HTMLModel",
          "state": {
            "_dom_classes": [],
            "_model_module": "@jupyter-widgets/controls",
            "_model_module_version": "1.5.0",
            "_model_name": "HTMLModel",
            "_view_count": null,
            "_view_module": "@jupyter-widgets/controls",
            "_view_module_version": "1.5.0",
            "_view_name": "HTMLView",
            "description": "",
            "description_tooltip": null,
            "layout": "IPY_MODEL_e61f1939c9584575bf1d28b1d32a07cf",
            "placeholder": "​",
            "style": "IPY_MODEL_61da4767d048476b9d79272c79c5ada9",
            "value": ""
          }
        },
        "63d5d0e2d573433d87e66cfe9c1bf7d4": {
          "model_module": "@jupyter-widgets/controls",
          "model_module_version": "1.5.0",
          "model_name": "DescriptionStyleModel",
          "state": {
            "_model_module": "@jupyter-widgets/controls",
            "_model_module_version": "1.5.0",
            "_model_name": "DescriptionStyleModel",
            "_view_count": null,
            "_view_module": "@jupyter-widgets/base",
            "_view_module_version": "1.2.0",
            "_view_name": "StyleView",
            "description_width": ""
          }
        },
        "64010cb39be8475fa58d3f250eb636f7": {
          "model_module": "@jupyter-widgets/controls",
          "model_module_version": "1.5.0",
          "model_name": "HTMLModel",
          "state": {
            "_dom_classes": [],
            "_model_module": "@jupyter-widgets/controls",
            "_model_module_version": "1.5.0",
            "_model_name": "HTMLModel",
            "_view_count": null,
            "_view_module": "@jupyter-widgets/controls",
            "_view_module_version": "1.5.0",
            "_view_name": "HTMLView",
            "description": "",
            "description_tooltip": null,
            "layout": "IPY_MODEL_bf4a2689a0804862ac65f21bdcff0370",
            "placeholder": "​",
            "style": "IPY_MODEL_65ac3488410d4d35916560e90ea62efb",
            "value": "100%"
          }
        },
        "64930430f3674e54ac9e96dd23cbf0f3": {
          "model_module": "@jupyter-widgets/controls",
          "model_module_version": "1.5.0",
          "model_name": "HBoxModel",
          "state": {
            "_dom_classes": [],
            "_model_module": "@jupyter-widgets/controls",
            "_model_module_version": "1.5.0",
            "_model_name": "HBoxModel",
            "_view_count": null,
            "_view_module": "@jupyter-widgets/controls",
            "_view_module_version": "1.5.0",
            "_view_name": "HBoxView",
            "box_style": "",
            "children": [
              "IPY_MODEL_69edb675abc64f87a2ed4a0f1da3ca2a",
              "IPY_MODEL_46acdb0b45a1410a98ac77314ef344c4",
              "IPY_MODEL_ce751d8474b74d24be9b29741c70e6d5"
            ],
            "layout": "IPY_MODEL_095a749a9c0b4a3da91534e616de2523"
          }
        },
        "64a54b53bfd848a4a0a0ae170e562079": {
          "model_module": "@jupyter-widgets/controls",
          "model_module_version": "1.5.0",
          "model_name": "DescriptionStyleModel",
          "state": {
            "_model_module": "@jupyter-widgets/controls",
            "_model_module_version": "1.5.0",
            "_model_name": "DescriptionStyleModel",
            "_view_count": null,
            "_view_module": "@jupyter-widgets/base",
            "_view_module_version": "1.2.0",
            "_view_name": "StyleView",
            "description_width": ""
          }
        },
        "659a5be7a79345cc92b6f3923081f48a": {
          "model_module": "@jupyter-widgets/base",
          "model_module_version": "1.2.0",
          "model_name": "LayoutModel",
          "state": {
            "_model_module": "@jupyter-widgets/base",
            "_model_module_version": "1.2.0",
            "_model_name": "LayoutModel",
            "_view_count": null,
            "_view_module": "@jupyter-widgets/base",
            "_view_module_version": "1.2.0",
            "_view_name": "LayoutView",
            "align_content": null,
            "align_items": null,
            "align_self": null,
            "border": null,
            "bottom": null,
            "display": null,
            "flex": null,
            "flex_flow": null,
            "grid_area": null,
            "grid_auto_columns": null,
            "grid_auto_flow": null,
            "grid_auto_rows": null,
            "grid_column": null,
            "grid_gap": null,
            "grid_row": null,
            "grid_template_areas": null,
            "grid_template_columns": null,
            "grid_template_rows": null,
            "height": null,
            "justify_content": null,
            "justify_items": null,
            "left": null,
            "margin": null,
            "max_height": null,
            "max_width": null,
            "min_height": null,
            "min_width": null,
            "object_fit": null,
            "object_position": null,
            "order": null,
            "overflow": null,
            "overflow_x": null,
            "overflow_y": null,
            "padding": null,
            "right": null,
            "top": null,
            "visibility": null,
            "width": null
          }
        },
        "65ac3488410d4d35916560e90ea62efb": {
          "model_module": "@jupyter-widgets/controls",
          "model_module_version": "1.5.0",
          "model_name": "DescriptionStyleModel",
          "state": {
            "_model_module": "@jupyter-widgets/controls",
            "_model_module_version": "1.5.0",
            "_model_name": "DescriptionStyleModel",
            "_view_count": null,
            "_view_module": "@jupyter-widgets/base",
            "_view_module_version": "1.2.0",
            "_view_name": "StyleView",
            "description_width": ""
          }
        },
        "65ca91e6bca24eb1abb1ce05f1aeaf16": {
          "model_module": "@jupyter-widgets/controls",
          "model_module_version": "1.5.0",
          "model_name": "DescriptionStyleModel",
          "state": {
            "_model_module": "@jupyter-widgets/controls",
            "_model_module_version": "1.5.0",
            "_model_name": "DescriptionStyleModel",
            "_view_count": null,
            "_view_module": "@jupyter-widgets/base",
            "_view_module_version": "1.2.0",
            "_view_name": "StyleView",
            "description_width": ""
          }
        },
        "67c354f8a82a48cfb5faf3f597b69769": {
          "model_module": "@jupyter-widgets/controls",
          "model_module_version": "1.5.0",
          "model_name": "FloatProgressModel",
          "state": {
            "_dom_classes": [],
            "_model_module": "@jupyter-widgets/controls",
            "_model_module_version": "1.5.0",
            "_model_name": "FloatProgressModel",
            "_view_count": null,
            "_view_module": "@jupyter-widgets/controls",
            "_view_module_version": "1.5.0",
            "_view_name": "ProgressView",
            "bar_style": "success",
            "description": "",
            "description_tooltip": null,
            "layout": "IPY_MODEL_f55e48a45a0243c6a99f8976f156c1a2",
            "max": 10151,
            "min": 0,
            "orientation": "horizontal",
            "style": "IPY_MODEL_0d2ff7d197274bd988c422302041ad50",
            "value": 10151
          }
        },
        "68b4da177dd14a4ca1ba96a0f282cf93": {
          "model_module": "@jupyter-widgets/base",
          "model_module_version": "1.2.0",
          "model_name": "LayoutModel",
          "state": {
            "_model_module": "@jupyter-widgets/base",
            "_model_module_version": "1.2.0",
            "_model_name": "LayoutModel",
            "_view_count": null,
            "_view_module": "@jupyter-widgets/base",
            "_view_module_version": "1.2.0",
            "_view_name": "LayoutView",
            "align_content": null,
            "align_items": null,
            "align_self": null,
            "border": null,
            "bottom": null,
            "display": null,
            "flex": null,
            "flex_flow": null,
            "grid_area": null,
            "grid_auto_columns": null,
            "grid_auto_flow": null,
            "grid_auto_rows": null,
            "grid_column": null,
            "grid_gap": null,
            "grid_row": null,
            "grid_template_areas": null,
            "grid_template_columns": null,
            "grid_template_rows": null,
            "height": null,
            "justify_content": null,
            "justify_items": null,
            "left": null,
            "margin": null,
            "max_height": null,
            "max_width": null,
            "min_height": null,
            "min_width": null,
            "object_fit": null,
            "object_position": null,
            "order": null,
            "overflow": null,
            "overflow_x": null,
            "overflow_y": null,
            "padding": null,
            "right": null,
            "top": null,
            "visibility": null,
            "width": null
          }
        },
        "69a5d99a056146d490c70ab012b35207": {
          "model_module": "@jupyter-widgets/base",
          "model_module_version": "1.2.0",
          "model_name": "LayoutModel",
          "state": {
            "_model_module": "@jupyter-widgets/base",
            "_model_module_version": "1.2.0",
            "_model_name": "LayoutModel",
            "_view_count": null,
            "_view_module": "@jupyter-widgets/base",
            "_view_module_version": "1.2.0",
            "_view_name": "LayoutView",
            "align_content": null,
            "align_items": null,
            "align_self": null,
            "border": null,
            "bottom": null,
            "display": null,
            "flex": null,
            "flex_flow": null,
            "grid_area": null,
            "grid_auto_columns": null,
            "grid_auto_flow": null,
            "grid_auto_rows": null,
            "grid_column": null,
            "grid_gap": null,
            "grid_row": null,
            "grid_template_areas": null,
            "grid_template_columns": null,
            "grid_template_rows": null,
            "height": null,
            "justify_content": null,
            "justify_items": null,
            "left": null,
            "margin": null,
            "max_height": null,
            "max_width": null,
            "min_height": null,
            "min_width": null,
            "object_fit": null,
            "object_position": null,
            "order": null,
            "overflow": null,
            "overflow_x": null,
            "overflow_y": null,
            "padding": null,
            "right": null,
            "top": null,
            "visibility": null,
            "width": null
          }
        },
        "69edb675abc64f87a2ed4a0f1da3ca2a": {
          "model_module": "@jupyter-widgets/controls",
          "model_module_version": "1.5.0",
          "model_name": "HTMLModel",
          "state": {
            "_dom_classes": [],
            "_model_module": "@jupyter-widgets/controls",
            "_model_module_version": "1.5.0",
            "_model_name": "HTMLModel",
            "_view_count": null,
            "_view_module": "@jupyter-widgets/controls",
            "_view_module_version": "1.5.0",
            "_view_name": "HTMLView",
            "description": "",
            "description_tooltip": null,
            "layout": "IPY_MODEL_69a5d99a056146d490c70ab012b35207",
            "placeholder": "​",
            "style": "IPY_MODEL_fa8482bff10e4ed2b51cf40bef083a56",
            "value": "Downloading: "
          }
        },
        "6b4905a16ae649f3bcdcf1845bc92f3e": {
          "model_module": "@jupyter-widgets/base",
          "model_module_version": "1.2.0",
          "model_name": "LayoutModel",
          "state": {
            "_model_module": "@jupyter-widgets/base",
            "_model_module_version": "1.2.0",
            "_model_name": "LayoutModel",
            "_view_count": null,
            "_view_module": "@jupyter-widgets/base",
            "_view_module_version": "1.2.0",
            "_view_name": "LayoutView",
            "align_content": null,
            "align_items": null,
            "align_self": null,
            "border": null,
            "bottom": null,
            "display": null,
            "flex": null,
            "flex_flow": null,
            "grid_area": null,
            "grid_auto_columns": null,
            "grid_auto_flow": null,
            "grid_auto_rows": null,
            "grid_column": null,
            "grid_gap": null,
            "grid_row": null,
            "grid_template_areas": null,
            "grid_template_columns": null,
            "grid_template_rows": null,
            "height": null,
            "justify_content": null,
            "justify_items": null,
            "left": null,
            "margin": null,
            "max_height": null,
            "max_width": null,
            "min_height": null,
            "min_width": null,
            "object_fit": null,
            "object_position": null,
            "order": null,
            "overflow": null,
            "overflow_x": null,
            "overflow_y": null,
            "padding": null,
            "right": null,
            "top": null,
            "visibility": null,
            "width": null
          }
        },
        "6eb455b38d68422186ebc76cf41a6316": {
          "model_module": "@jupyter-widgets/controls",
          "model_module_version": "1.5.0",
          "model_name": "HTMLModel",
          "state": {
            "_dom_classes": [],
            "_model_module": "@jupyter-widgets/controls",
            "_model_module_version": "1.5.0",
            "_model_name": "HTMLModel",
            "_view_count": null,
            "_view_module": "@jupyter-widgets/controls",
            "_view_module_version": "1.5.0",
            "_view_name": "HTMLView",
            "description": "",
            "description_tooltip": null,
            "layout": "IPY_MODEL_38f346b5a3a14fd1a86381017e3e9689",
            "placeholder": "​",
            "style": "IPY_MODEL_97dab204bee54ef0a9f8d1ec5e74b2ec",
            "value": "100%"
          }
        },
        "6fb90ed8c1814b869e46df39c9b21988": {
          "model_module": "@jupyter-widgets/controls",
          "model_module_version": "1.5.0",
          "model_name": "DescriptionStyleModel",
          "state": {
            "_model_module": "@jupyter-widgets/controls",
            "_model_module_version": "1.5.0",
            "_model_name": "DescriptionStyleModel",
            "_view_count": null,
            "_view_module": "@jupyter-widgets/base",
            "_view_module_version": "1.2.0",
            "_view_name": "StyleView",
            "description_width": ""
          }
        },
        "7247ff9e79ff418189592747319ffd6d": {
          "model_module": "@jupyter-widgets/base",
          "model_module_version": "1.2.0",
          "model_name": "LayoutModel",
          "state": {
            "_model_module": "@jupyter-widgets/base",
            "_model_module_version": "1.2.0",
            "_model_name": "LayoutModel",
            "_view_count": null,
            "_view_module": "@jupyter-widgets/base",
            "_view_module_version": "1.2.0",
            "_view_name": "LayoutView",
            "align_content": null,
            "align_items": null,
            "align_self": null,
            "border": null,
            "bottom": null,
            "display": null,
            "flex": null,
            "flex_flow": null,
            "grid_area": null,
            "grid_auto_columns": null,
            "grid_auto_flow": null,
            "grid_auto_rows": null,
            "grid_column": null,
            "grid_gap": null,
            "grid_row": null,
            "grid_template_areas": null,
            "grid_template_columns": null,
            "grid_template_rows": null,
            "height": null,
            "justify_content": null,
            "justify_items": null,
            "left": null,
            "margin": null,
            "max_height": null,
            "max_width": null,
            "min_height": null,
            "min_width": null,
            "object_fit": null,
            "object_position": null,
            "order": null,
            "overflow": null,
            "overflow_x": null,
            "overflow_y": null,
            "padding": null,
            "right": null,
            "top": null,
            "visibility": null,
            "width": null
          }
        },
        "741196439c824c89a51d5efc11972b3f": {
          "model_module": "@jupyter-widgets/controls",
          "model_module_version": "1.5.0",
          "model_name": "FloatProgressModel",
          "state": {
            "_dom_classes": [],
            "_model_module": "@jupyter-widgets/controls",
            "_model_module_version": "1.5.0",
            "_model_name": "FloatProgressModel",
            "_view_count": null,
            "_view_module": "@jupyter-widgets/controls",
            "_view_module_version": "1.5.0",
            "_view_name": "ProgressView",
            "bar_style": "success",
            "description": "",
            "description_tooltip": null,
            "layout": "IPY_MODEL_838722a80ab2448a8baf16fae656aaed",
            "max": 1269737156,
            "min": 0,
            "orientation": "horizontal",
            "style": "IPY_MODEL_da9add17ff584af4aafbc9447da07f36",
            "value": 1269737156
          }
        },
        "783b8b5d6d2e448fb89e4cbc6891ce6e": {
          "model_module": "@jupyter-widgets/base",
          "model_module_version": "1.2.0",
          "model_name": "LayoutModel",
          "state": {
            "_model_module": "@jupyter-widgets/base",
            "_model_module_version": "1.2.0",
            "_model_name": "LayoutModel",
            "_view_count": null,
            "_view_module": "@jupyter-widgets/base",
            "_view_module_version": "1.2.0",
            "_view_name": "LayoutView",
            "align_content": null,
            "align_items": null,
            "align_self": null,
            "border": null,
            "bottom": null,
            "display": null,
            "flex": null,
            "flex_flow": null,
            "grid_area": null,
            "grid_auto_columns": null,
            "grid_auto_flow": null,
            "grid_auto_rows": null,
            "grid_column": null,
            "grid_gap": null,
            "grid_row": null,
            "grid_template_areas": null,
            "grid_template_columns": null,
            "grid_template_rows": null,
            "height": null,
            "justify_content": null,
            "justify_items": null,
            "left": null,
            "margin": null,
            "max_height": null,
            "max_width": null,
            "min_height": null,
            "min_width": null,
            "object_fit": null,
            "object_position": null,
            "order": null,
            "overflow": null,
            "overflow_x": null,
            "overflow_y": null,
            "padding": null,
            "right": null,
            "top": null,
            "visibility": null,
            "width": null
          }
        },
        "78a92697f78f48298b6a53748824021d": {
          "model_module": "@jupyter-widgets/base",
          "model_module_version": "1.2.0",
          "model_name": "LayoutModel",
          "state": {
            "_model_module": "@jupyter-widgets/base",
            "_model_module_version": "1.2.0",
            "_model_name": "LayoutModel",
            "_view_count": null,
            "_view_module": "@jupyter-widgets/base",
            "_view_module_version": "1.2.0",
            "_view_name": "LayoutView",
            "align_content": null,
            "align_items": null,
            "align_self": null,
            "border": null,
            "bottom": null,
            "display": null,
            "flex": null,
            "flex_flow": null,
            "grid_area": null,
            "grid_auto_columns": null,
            "grid_auto_flow": null,
            "grid_auto_rows": null,
            "grid_column": null,
            "grid_gap": null,
            "grid_row": null,
            "grid_template_areas": null,
            "grid_template_columns": null,
            "grid_template_rows": null,
            "height": null,
            "justify_content": null,
            "justify_items": null,
            "left": null,
            "margin": null,
            "max_height": null,
            "max_width": null,
            "min_height": null,
            "min_width": null,
            "object_fit": null,
            "object_position": null,
            "order": null,
            "overflow": null,
            "overflow_x": null,
            "overflow_y": null,
            "padding": null,
            "right": null,
            "top": null,
            "visibility": null,
            "width": "20px"
          }
        },
        "7b436f1d1e684db88bc7dd912a044c45": {
          "model_module": "@jupyter-widgets/controls",
          "model_module_version": "1.5.0",
          "model_name": "ProgressStyleModel",
          "state": {
            "_model_module": "@jupyter-widgets/controls",
            "_model_module_version": "1.5.0",
            "_model_name": "ProgressStyleModel",
            "_view_count": null,
            "_view_module": "@jupyter-widgets/base",
            "_view_module_version": "1.2.0",
            "_view_name": "StyleView",
            "bar_color": null,
            "description_width": ""
          }
        },
        "7b4a47ff3b6d44dc9ebb189b1a2dd4ae": {
          "model_module": "@jupyter-widgets/base",
          "model_module_version": "1.2.0",
          "model_name": "LayoutModel",
          "state": {
            "_model_module": "@jupyter-widgets/base",
            "_model_module_version": "1.2.0",
            "_model_name": "LayoutModel",
            "_view_count": null,
            "_view_module": "@jupyter-widgets/base",
            "_view_module_version": "1.2.0",
            "_view_name": "LayoutView",
            "align_content": null,
            "align_items": null,
            "align_self": null,
            "border": null,
            "bottom": null,
            "display": null,
            "flex": null,
            "flex_flow": null,
            "grid_area": null,
            "grid_auto_columns": null,
            "grid_auto_flow": null,
            "grid_auto_rows": null,
            "grid_column": null,
            "grid_gap": null,
            "grid_row": null,
            "grid_template_areas": null,
            "grid_template_columns": null,
            "grid_template_rows": null,
            "height": null,
            "justify_content": null,
            "justify_items": null,
            "left": null,
            "margin": null,
            "max_height": null,
            "max_width": null,
            "min_height": null,
            "min_width": null,
            "object_fit": null,
            "object_position": null,
            "order": null,
            "overflow": null,
            "overflow_x": null,
            "overflow_y": null,
            "padding": null,
            "right": null,
            "top": null,
            "visibility": null,
            "width": null
          }
        },
        "7de50f3804b34e6db1a714e0ec7c53b8": {
          "model_module": "@jupyter-widgets/base",
          "model_module_version": "1.2.0",
          "model_name": "LayoutModel",
          "state": {
            "_model_module": "@jupyter-widgets/base",
            "_model_module_version": "1.2.0",
            "_model_name": "LayoutModel",
            "_view_count": null,
            "_view_module": "@jupyter-widgets/base",
            "_view_module_version": "1.2.0",
            "_view_name": "LayoutView",
            "align_content": null,
            "align_items": null,
            "align_self": null,
            "border": null,
            "bottom": null,
            "display": null,
            "flex": null,
            "flex_flow": null,
            "grid_area": null,
            "grid_auto_columns": null,
            "grid_auto_flow": null,
            "grid_auto_rows": null,
            "grid_column": null,
            "grid_gap": null,
            "grid_row": null,
            "grid_template_areas": null,
            "grid_template_columns": null,
            "grid_template_rows": null,
            "height": null,
            "justify_content": null,
            "justify_items": null,
            "left": null,
            "margin": null,
            "max_height": null,
            "max_width": null,
            "min_height": null,
            "min_width": null,
            "object_fit": null,
            "object_position": null,
            "order": null,
            "overflow": null,
            "overflow_x": null,
            "overflow_y": null,
            "padding": null,
            "right": null,
            "top": null,
            "visibility": null,
            "width": null
          }
        },
        "838722a80ab2448a8baf16fae656aaed": {
          "model_module": "@jupyter-widgets/base",
          "model_module_version": "1.2.0",
          "model_name": "LayoutModel",
          "state": {
            "_model_module": "@jupyter-widgets/base",
            "_model_module_version": "1.2.0",
            "_model_name": "LayoutModel",
            "_view_count": null,
            "_view_module": "@jupyter-widgets/base",
            "_view_module_version": "1.2.0",
            "_view_name": "LayoutView",
            "align_content": null,
            "align_items": null,
            "align_self": null,
            "border": null,
            "bottom": null,
            "display": null,
            "flex": null,
            "flex_flow": null,
            "grid_area": null,
            "grid_auto_columns": null,
            "grid_auto_flow": null,
            "grid_auto_rows": null,
            "grid_column": null,
            "grid_gap": null,
            "grid_row": null,
            "grid_template_areas": null,
            "grid_template_columns": null,
            "grid_template_rows": null,
            "height": null,
            "justify_content": null,
            "justify_items": null,
            "left": null,
            "margin": null,
            "max_height": null,
            "max_width": null,
            "min_height": null,
            "min_width": null,
            "object_fit": null,
            "object_position": null,
            "order": null,
            "overflow": null,
            "overflow_x": null,
            "overflow_y": null,
            "padding": null,
            "right": null,
            "top": null,
            "visibility": null,
            "width": null
          }
        },
        "8394bd92b5874959b76cdfdfa81fefc3": {
          "model_module": "@jupyter-widgets/controls",
          "model_module_version": "1.5.0",
          "model_name": "HTMLModel",
          "state": {
            "_dom_classes": [],
            "_model_module": "@jupyter-widgets/controls",
            "_model_module_version": "1.5.0",
            "_model_name": "HTMLModel",
            "_view_count": null,
            "_view_module": "@jupyter-widgets/controls",
            "_view_module_version": "1.5.0",
            "_view_name": "HTMLView",
            "description": "",
            "description_tooltip": null,
            "layout": "IPY_MODEL_e9469c58b2024af5a17463378248c4f3",
            "placeholder": "​",
            "style": "IPY_MODEL_6fb90ed8c1814b869e46df39c9b21988",
            "value": "Downloading: 100%"
          }
        },
        "86b297d194ca43e8b1fc4dca9d059f70": {
          "model_module": "@jupyter-widgets/controls",
          "model_module_version": "1.5.0",
          "model_name": "DescriptionStyleModel",
          "state": {
            "_model_module": "@jupyter-widgets/controls",
            "_model_module_version": "1.5.0",
            "_model_name": "DescriptionStyleModel",
            "_view_count": null,
            "_view_module": "@jupyter-widgets/base",
            "_view_module_version": "1.2.0",
            "_view_name": "StyleView",
            "description_width": ""
          }
        },
        "87a71a28618f4690ac9b516da9190a0d": {
          "model_module": "@jupyter-widgets/controls",
          "model_module_version": "1.5.0",
          "model_name": "HBoxModel",
          "state": {
            "_dom_classes": [],
            "_model_module": "@jupyter-widgets/controls",
            "_model_module_version": "1.5.0",
            "_model_name": "HBoxModel",
            "_view_count": null,
            "_view_module": "@jupyter-widgets/controls",
            "_view_module_version": "1.5.0",
            "_view_name": "HBoxView",
            "box_style": "",
            "children": [
              "IPY_MODEL_c64fd3d05a234b108e8ce47bd9e4cab4",
              "IPY_MODEL_387a646ef8994728ba167898cfa1ab97",
              "IPY_MODEL_ab0aeaf336de486493153c226465de1a"
            ],
            "layout": "IPY_MODEL_99b277b40534400fae6b4e63bec3988e"
          }
        },
        "8b0e471718a64a4da8d2ff819cbab49d": {
          "model_module": "@jupyter-widgets/controls",
          "model_module_version": "1.5.0",
          "model_name": "HBoxModel",
          "state": {
            "_dom_classes": [],
            "_model_module": "@jupyter-widgets/controls",
            "_model_module_version": "1.5.0",
            "_model_name": "HBoxModel",
            "_view_count": null,
            "_view_module": "@jupyter-widgets/controls",
            "_view_module_version": "1.5.0",
            "_view_name": "HBoxView",
            "box_style": "",
            "children": [
              "IPY_MODEL_6eb455b38d68422186ebc76cf41a6316",
              "IPY_MODEL_a046b7a7ee3b40f7930a00774a302fdb",
              "IPY_MODEL_3f4d309d9be3407ebcb24bbae997527d"
            ],
            "layout": "IPY_MODEL_2d6ccbcfbe284105a57cd950e2bdf129"
          }
        },
        "8b189ea9856d451cb23b1f51447bb910": {
          "model_module": "@jupyter-widgets/base",
          "model_module_version": "1.2.0",
          "model_name": "LayoutModel",
          "state": {
            "_model_module": "@jupyter-widgets/base",
            "_model_module_version": "1.2.0",
            "_model_name": "LayoutModel",
            "_view_count": null,
            "_view_module": "@jupyter-widgets/base",
            "_view_module_version": "1.2.0",
            "_view_name": "LayoutView",
            "align_content": null,
            "align_items": null,
            "align_self": null,
            "border": null,
            "bottom": null,
            "display": null,
            "flex": null,
            "flex_flow": null,
            "grid_area": null,
            "grid_auto_columns": null,
            "grid_auto_flow": null,
            "grid_auto_rows": null,
            "grid_column": null,
            "grid_gap": null,
            "grid_row": null,
            "grid_template_areas": null,
            "grid_template_columns": null,
            "grid_template_rows": null,
            "height": null,
            "justify_content": null,
            "justify_items": null,
            "left": null,
            "margin": null,
            "max_height": null,
            "max_width": null,
            "min_height": null,
            "min_width": null,
            "object_fit": null,
            "object_position": null,
            "order": null,
            "overflow": null,
            "overflow_x": null,
            "overflow_y": null,
            "padding": null,
            "right": null,
            "top": null,
            "visibility": null,
            "width": null
          }
        },
        "8e5d4d6fac034bf482237c4415adb1b9": {
          "model_module": "@jupyter-widgets/base",
          "model_module_version": "1.2.0",
          "model_name": "LayoutModel",
          "state": {
            "_model_module": "@jupyter-widgets/base",
            "_model_module_version": "1.2.0",
            "_model_name": "LayoutModel",
            "_view_count": null,
            "_view_module": "@jupyter-widgets/base",
            "_view_module_version": "1.2.0",
            "_view_name": "LayoutView",
            "align_content": null,
            "align_items": null,
            "align_self": null,
            "border": null,
            "bottom": null,
            "display": null,
            "flex": null,
            "flex_flow": null,
            "grid_area": null,
            "grid_auto_columns": null,
            "grid_auto_flow": null,
            "grid_auto_rows": null,
            "grid_column": null,
            "grid_gap": null,
            "grid_row": null,
            "grid_template_areas": null,
            "grid_template_columns": null,
            "grid_template_rows": null,
            "height": null,
            "justify_content": null,
            "justify_items": null,
            "left": null,
            "margin": null,
            "max_height": null,
            "max_width": null,
            "min_height": null,
            "min_width": null,
            "object_fit": null,
            "object_position": null,
            "order": null,
            "overflow": null,
            "overflow_x": null,
            "overflow_y": null,
            "padding": null,
            "right": null,
            "top": null,
            "visibility": null,
            "width": null
          }
        },
        "90a21d2553cd4a18b9296cadff72944c": {
          "model_module": "@jupyter-widgets/controls",
          "model_module_version": "1.5.0",
          "model_name": "FloatProgressModel",
          "state": {
            "_dom_classes": [],
            "_model_module": "@jupyter-widgets/controls",
            "_model_module_version": "1.5.0",
            "_model_name": "FloatProgressModel",
            "_view_count": null,
            "_view_module": "@jupyter-widgets/controls",
            "_view_module_version": "1.5.0",
            "_view_name": "ProgressView",
            "bar_style": "info",
            "description": "",
            "description_tooltip": null,
            "layout": "IPY_MODEL_235834d1e8244ee7b2524ce5fa5cd29e",
            "max": 1,
            "min": 0,
            "orientation": "horizontal",
            "style": "IPY_MODEL_7b436f1d1e684db88bc7dd912a044c45",
            "value": 1
          }
        },
        "912dbc5a5fc04d25a17dfc58a74ed0ef": {
          "model_module": "@jupyter-widgets/base",
          "model_module_version": "1.2.0",
          "model_name": "LayoutModel",
          "state": {
            "_model_module": "@jupyter-widgets/base",
            "_model_module_version": "1.2.0",
            "_model_name": "LayoutModel",
            "_view_count": null,
            "_view_module": "@jupyter-widgets/base",
            "_view_module_version": "1.2.0",
            "_view_name": "LayoutView",
            "align_content": null,
            "align_items": null,
            "align_self": null,
            "border": null,
            "bottom": null,
            "display": null,
            "flex": null,
            "flex_flow": null,
            "grid_area": null,
            "grid_auto_columns": null,
            "grid_auto_flow": null,
            "grid_auto_rows": null,
            "grid_column": null,
            "grid_gap": null,
            "grid_row": null,
            "grid_template_areas": null,
            "grid_template_columns": null,
            "grid_template_rows": null,
            "height": null,
            "justify_content": null,
            "justify_items": null,
            "left": null,
            "margin": null,
            "max_height": null,
            "max_width": null,
            "min_height": null,
            "min_width": null,
            "object_fit": null,
            "object_position": null,
            "order": null,
            "overflow": null,
            "overflow_x": null,
            "overflow_y": null,
            "padding": null,
            "right": null,
            "top": null,
            "visibility": null,
            "width": null
          }
        },
        "935e2931503f457b902abb9eda548b1b": {
          "model_module": "@jupyter-widgets/controls",
          "model_module_version": "1.5.0",
          "model_name": "HTMLModel",
          "state": {
            "_dom_classes": [],
            "_model_module": "@jupyter-widgets/controls",
            "_model_module_version": "1.5.0",
            "_model_name": "HTMLModel",
            "_view_count": null,
            "_view_module": "@jupyter-widgets/controls",
            "_view_module_version": "1.5.0",
            "_view_name": "HTMLView",
            "description": "",
            "description_tooltip": null,
            "layout": "IPY_MODEL_ffe22ed6ad2f4190bcb65fa480b4fa18",
            "placeholder": "​",
            "style": "IPY_MODEL_64a54b53bfd848a4a0a0ae170e562079",
            "value": " 3478/3478 [00:00&lt;00:00, 10082.50ex/s]"
          }
        },
        "97470f14042f4e7d8242514a63b6a64d": {
          "model_module": "@jupyter-widgets/controls",
          "model_module_version": "1.5.0",
          "model_name": "HTMLModel",
          "state": {
            "_dom_classes": [],
            "_model_module": "@jupyter-widgets/controls",
            "_model_module_version": "1.5.0",
            "_model_name": "HTMLModel",
            "_view_count": null,
            "_view_module": "@jupyter-widgets/controls",
            "_view_module_version": "1.5.0",
            "_view_name": "HTMLView",
            "description": "",
            "description_tooltip": null,
            "layout": "IPY_MODEL_a7d3aee051e64930913666db996a8666",
            "placeholder": "​",
            "style": "IPY_MODEL_48cff5418d1a439c8fd8b046b01bdddc",
            "value": ""
          }
        },
        "97c38734878e41ac942d5f0426aea688": {
          "model_module": "@jupyter-widgets/controls",
          "model_module_version": "1.5.0",
          "model_name": "FloatProgressModel",
          "state": {
            "_dom_classes": [],
            "_model_module": "@jupyter-widgets/controls",
            "_model_module_version": "1.5.0",
            "_model_name": "FloatProgressModel",
            "_view_count": null,
            "_view_module": "@jupyter-widgets/controls",
            "_view_module_version": "1.5.0",
            "_view_name": "ProgressView",
            "bar_style": "success",
            "description": "",
            "description_tooltip": null,
            "layout": "IPY_MODEL_c99f20b50205433ea29e56aa87af2eb2",
            "max": 1,
            "min": 0,
            "orientation": "horizontal",
            "style": "IPY_MODEL_eecd5ec1d15a4c0788193b1f498b108e",
            "value": 1
          }
        },
        "97dab204bee54ef0a9f8d1ec5e74b2ec": {
          "model_module": "@jupyter-widgets/controls",
          "model_module_version": "1.5.0",
          "model_name": "DescriptionStyleModel",
          "state": {
            "_model_module": "@jupyter-widgets/controls",
            "_model_module_version": "1.5.0",
            "_model_name": "DescriptionStyleModel",
            "_view_count": null,
            "_view_module": "@jupyter-widgets/base",
            "_view_module_version": "1.2.0",
            "_view_name": "StyleView",
            "description_width": ""
          }
        },
        "99b277b40534400fae6b4e63bec3988e": {
          "model_module": "@jupyter-widgets/base",
          "model_module_version": "1.2.0",
          "model_name": "LayoutModel",
          "state": {
            "_model_module": "@jupyter-widgets/base",
            "_model_module_version": "1.2.0",
            "_model_name": "LayoutModel",
            "_view_count": null,
            "_view_module": "@jupyter-widgets/base",
            "_view_module_version": "1.2.0",
            "_view_name": "LayoutView",
            "align_content": null,
            "align_items": null,
            "align_self": null,
            "border": null,
            "bottom": null,
            "display": null,
            "flex": null,
            "flex_flow": null,
            "grid_area": null,
            "grid_auto_columns": null,
            "grid_auto_flow": null,
            "grid_auto_rows": null,
            "grid_column": null,
            "grid_gap": null,
            "grid_row": null,
            "grid_template_areas": null,
            "grid_template_columns": null,
            "grid_template_rows": null,
            "height": null,
            "justify_content": null,
            "justify_items": null,
            "left": null,
            "margin": null,
            "max_height": null,
            "max_width": null,
            "min_height": null,
            "min_width": null,
            "object_fit": null,
            "object_position": null,
            "order": null,
            "overflow": null,
            "overflow_x": null,
            "overflow_y": null,
            "padding": null,
            "right": null,
            "top": null,
            "visibility": null,
            "width": null
          }
        },
        "9a3380a000654af1b9af977ee8cd8fbf": {
          "model_module": "@jupyter-widgets/controls",
          "model_module_version": "1.5.0",
          "model_name": "HBoxModel",
          "state": {
            "_dom_classes": [],
            "_model_module": "@jupyter-widgets/controls",
            "_model_module_version": "1.5.0",
            "_model_name": "HBoxModel",
            "_view_count": null,
            "_view_module": "@jupyter-widgets/controls",
            "_view_module_version": "1.5.0",
            "_view_name": "HBoxView",
            "box_style": "",
            "children": [
              "IPY_MODEL_97470f14042f4e7d8242514a63b6a64d",
              "IPY_MODEL_ba0d7b07962146ffb1a12c3e13ed16d0",
              "IPY_MODEL_0961a55d207843adb3f22579739382a1"
            ],
            "layout": "IPY_MODEL_49d6b0e9056f4f188de48085dbfebe90"
          }
        },
        "9ab9adab4e0e413baa1f7aaeccc31ef5": {
          "model_module": "@jupyter-widgets/base",
          "model_module_version": "1.2.0",
          "model_name": "LayoutModel",
          "state": {
            "_model_module": "@jupyter-widgets/base",
            "_model_module_version": "1.2.0",
            "_model_name": "LayoutModel",
            "_view_count": null,
            "_view_module": "@jupyter-widgets/base",
            "_view_module_version": "1.2.0",
            "_view_name": "LayoutView",
            "align_content": null,
            "align_items": null,
            "align_self": null,
            "border": null,
            "bottom": null,
            "display": null,
            "flex": null,
            "flex_flow": null,
            "grid_area": null,
            "grid_auto_columns": null,
            "grid_auto_flow": null,
            "grid_auto_rows": null,
            "grid_column": null,
            "grid_gap": null,
            "grid_row": null,
            "grid_template_areas": null,
            "grid_template_columns": null,
            "grid_template_rows": null,
            "height": null,
            "justify_content": null,
            "justify_items": null,
            "left": null,
            "margin": null,
            "max_height": null,
            "max_width": null,
            "min_height": null,
            "min_width": null,
            "object_fit": null,
            "object_position": null,
            "order": null,
            "overflow": null,
            "overflow_x": null,
            "overflow_y": null,
            "padding": null,
            "right": null,
            "top": null,
            "visibility": null,
            "width": null
          }
        },
        "9f2f948d74c6480087a3fe4674741248": {
          "model_module": "@jupyter-widgets/base",
          "model_module_version": "1.2.0",
          "model_name": "LayoutModel",
          "state": {
            "_model_module": "@jupyter-widgets/base",
            "_model_module_version": "1.2.0",
            "_model_name": "LayoutModel",
            "_view_count": null,
            "_view_module": "@jupyter-widgets/base",
            "_view_module_version": "1.2.0",
            "_view_name": "LayoutView",
            "align_content": null,
            "align_items": null,
            "align_self": null,
            "border": null,
            "bottom": null,
            "display": null,
            "flex": null,
            "flex_flow": null,
            "grid_area": null,
            "grid_auto_columns": null,
            "grid_auto_flow": null,
            "grid_auto_rows": null,
            "grid_column": null,
            "grid_gap": null,
            "grid_row": null,
            "grid_template_areas": null,
            "grid_template_columns": null,
            "grid_template_rows": null,
            "height": null,
            "justify_content": null,
            "justify_items": null,
            "left": null,
            "margin": null,
            "max_height": null,
            "max_width": null,
            "min_height": null,
            "min_width": null,
            "object_fit": null,
            "object_position": null,
            "order": null,
            "overflow": null,
            "overflow_x": null,
            "overflow_y": null,
            "padding": null,
            "right": null,
            "top": null,
            "visibility": null,
            "width": null
          }
        },
        "9ff67c07edaf4c82ad97e74165be19e1": {
          "model_module": "@jupyter-widgets/controls",
          "model_module_version": "1.5.0",
          "model_name": "ProgressStyleModel",
          "state": {
            "_model_module": "@jupyter-widgets/controls",
            "_model_module_version": "1.5.0",
            "_model_name": "ProgressStyleModel",
            "_view_count": null,
            "_view_module": "@jupyter-widgets/base",
            "_view_module_version": "1.2.0",
            "_view_name": "StyleView",
            "bar_color": null,
            "description_width": ""
          }
        },
        "a046b7a7ee3b40f7930a00774a302fdb": {
          "model_module": "@jupyter-widgets/controls",
          "model_module_version": "1.5.0",
          "model_name": "FloatProgressModel",
          "state": {
            "_dom_classes": [],
            "_model_module": "@jupyter-widgets/controls",
            "_model_module_version": "1.5.0",
            "_model_name": "FloatProgressModel",
            "_view_count": null,
            "_view_module": "@jupyter-widgets/controls",
            "_view_module_version": "1.5.0",
            "_view_name": "ProgressView",
            "bar_style": "success",
            "description": "",
            "description_tooltip": null,
            "layout": "IPY_MODEL_1868f4b9a1c24d1e908ef0b1b1ee6835",
            "max": 1647,
            "min": 0,
            "orientation": "horizontal",
            "style": "IPY_MODEL_d7c4be314dc945cfb57e86d14c48b661",
            "value": 1647
          }
        },
        "a0d2aa1764184683b8c0040df32fe0fd": {
          "model_module": "@jupyter-widgets/controls",
          "model_module_version": "1.5.0",
          "model_name": "HTMLModel",
          "state": {
            "_dom_classes": [],
            "_model_module": "@jupyter-widgets/controls",
            "_model_module_version": "1.5.0",
            "_model_name": "HTMLModel",
            "_view_count": null,
            "_view_module": "@jupyter-widgets/controls",
            "_view_module_version": "1.5.0",
            "_view_name": "HTMLView",
            "description": "",
            "description_tooltip": null,
            "layout": "IPY_MODEL_ec97dfe4b90546098ae7e63a8960830b",
            "placeholder": "​",
            "style": "IPY_MODEL_cee62b4a672b45f2ada3bd1836883cbb",
            "value": " 4.55k/? [00:00&lt;00:00, 146kB/s]"
          }
        },
        "a1fc93cf823e4ec0808e457d977b4f4d": {
          "model_module": "@jupyter-widgets/controls",
          "model_module_version": "1.5.0",
          "model_name": "DescriptionStyleModel",
          "state": {
            "_model_module": "@jupyter-widgets/controls",
            "_model_module_version": "1.5.0",
            "_model_name": "DescriptionStyleModel",
            "_view_count": null,
            "_view_module": "@jupyter-widgets/base",
            "_view_module_version": "1.2.0",
            "_view_name": "StyleView",
            "description_width": ""
          }
        },
        "a254476ec6664beba6087d14fc44d2eb": {
          "model_module": "@jupyter-widgets/controls",
          "model_module_version": "1.5.0",
          "model_name": "DescriptionStyleModel",
          "state": {
            "_model_module": "@jupyter-widgets/controls",
            "_model_module_version": "1.5.0",
            "_model_name": "DescriptionStyleModel",
            "_view_count": null,
            "_view_module": "@jupyter-widgets/base",
            "_view_module_version": "1.2.0",
            "_view_name": "StyleView",
            "description_width": ""
          }
        },
        "a4b2ee61773843e0b069b70d5f2ffc94": {
          "model_module": "@jupyter-widgets/controls",
          "model_module_version": "1.5.0",
          "model_name": "HTMLModel",
          "state": {
            "_dom_classes": [],
            "_model_module": "@jupyter-widgets/controls",
            "_model_module_version": "1.5.0",
            "_model_name": "HTMLModel",
            "_view_count": null,
            "_view_module": "@jupyter-widgets/controls",
            "_view_module_version": "1.5.0",
            "_view_name": "HTMLView",
            "description": "",
            "description_tooltip": null,
            "layout": "IPY_MODEL_783b8b5d6d2e448fb89e4cbc6891ce6e",
            "placeholder": "​",
            "style": "IPY_MODEL_bd78cfb3cbf24a07a263b6b81e9cb0c1",
            "value": " 498/0 [00:00&lt;00:00, 4978.46 examples/s]"
          }
        },
        "a51ff3c61d004d96871a84e189b860d5": {
          "model_module": "@jupyter-widgets/controls",
          "model_module_version": "1.5.0",
          "model_name": "HBoxModel",
          "state": {
            "_dom_classes": [],
            "_model_module": "@jupyter-widgets/controls",
            "_model_module_version": "1.5.0",
            "_model_name": "HBoxModel",
            "_view_count": null,
            "_view_module": "@jupyter-widgets/controls",
            "_view_module_version": "1.5.0",
            "_view_name": "HBoxView",
            "box_style": "",
            "children": [
              "IPY_MODEL_d21c51bc35f344a9a7d8c7c29215672b",
              "IPY_MODEL_67c354f8a82a48cfb5faf3f597b69769",
              "IPY_MODEL_52e7c754b4dd44de89d16eeeccb72261"
            ],
            "layout": "IPY_MODEL_7247ff9e79ff418189592747319ffd6d"
          }
        },
        "a781f031e34e425eb382354750ae4460": {
          "model_module": "@jupyter-widgets/controls",
          "model_module_version": "1.5.0",
          "model_name": "DescriptionStyleModel",
          "state": {
            "_model_module": "@jupyter-widgets/controls",
            "_model_module_version": "1.5.0",
            "_model_name": "DescriptionStyleModel",
            "_view_count": null,
            "_view_module": "@jupyter-widgets/base",
            "_view_module_version": "1.2.0",
            "_view_name": "StyleView",
            "description_width": ""
          }
        },
        "a7ac6c91ec484ca5a181f9da4a83912a": {
          "model_module": "@jupyter-widgets/base",
          "model_module_version": "1.2.0",
          "model_name": "LayoutModel",
          "state": {
            "_model_module": "@jupyter-widgets/base",
            "_model_module_version": "1.2.0",
            "_model_name": "LayoutModel",
            "_view_count": null,
            "_view_module": "@jupyter-widgets/base",
            "_view_module_version": "1.2.0",
            "_view_name": "LayoutView",
            "align_content": null,
            "align_items": null,
            "align_self": null,
            "border": null,
            "bottom": null,
            "display": null,
            "flex": null,
            "flex_flow": null,
            "grid_area": null,
            "grid_auto_columns": null,
            "grid_auto_flow": null,
            "grid_auto_rows": null,
            "grid_column": null,
            "grid_gap": null,
            "grid_row": null,
            "grid_template_areas": null,
            "grid_template_columns": null,
            "grid_template_rows": null,
            "height": null,
            "justify_content": null,
            "justify_items": null,
            "left": null,
            "margin": null,
            "max_height": null,
            "max_width": null,
            "min_height": null,
            "min_width": null,
            "object_fit": null,
            "object_position": null,
            "order": null,
            "overflow": null,
            "overflow_x": null,
            "overflow_y": null,
            "padding": null,
            "right": null,
            "top": null,
            "visibility": null,
            "width": "20px"
          }
        },
        "a7b38f018e9e468f8790985065539b24": {
          "model_module": "@jupyter-widgets/controls",
          "model_module_version": "1.5.0",
          "model_name": "ProgressStyleModel",
          "state": {
            "_model_module": "@jupyter-widgets/controls",
            "_model_module_version": "1.5.0",
            "_model_name": "ProgressStyleModel",
            "_view_count": null,
            "_view_module": "@jupyter-widgets/base",
            "_view_module_version": "1.2.0",
            "_view_name": "StyleView",
            "bar_color": null,
            "description_width": ""
          }
        },
        "a7d3aee051e64930913666db996a8666": {
          "model_module": "@jupyter-widgets/base",
          "model_module_version": "1.2.0",
          "model_name": "LayoutModel",
          "state": {
            "_model_module": "@jupyter-widgets/base",
            "_model_module_version": "1.2.0",
            "_model_name": "LayoutModel",
            "_view_count": null,
            "_view_module": "@jupyter-widgets/base",
            "_view_module_version": "1.2.0",
            "_view_name": "LayoutView",
            "align_content": null,
            "align_items": null,
            "align_self": null,
            "border": null,
            "bottom": null,
            "display": null,
            "flex": null,
            "flex_flow": null,
            "grid_area": null,
            "grid_auto_columns": null,
            "grid_auto_flow": null,
            "grid_auto_rows": null,
            "grid_column": null,
            "grid_gap": null,
            "grid_row": null,
            "grid_template_areas": null,
            "grid_template_columns": null,
            "grid_template_rows": null,
            "height": null,
            "justify_content": null,
            "justify_items": null,
            "left": null,
            "margin": null,
            "max_height": null,
            "max_width": null,
            "min_height": null,
            "min_width": null,
            "object_fit": null,
            "object_position": null,
            "order": null,
            "overflow": null,
            "overflow_x": null,
            "overflow_y": null,
            "padding": null,
            "right": null,
            "top": null,
            "visibility": null,
            "width": null
          }
        },
        "ab0aeaf336de486493153c226465de1a": {
          "model_module": "@jupyter-widgets/controls",
          "model_module_version": "1.5.0",
          "model_name": "HTMLModel",
          "state": {
            "_dom_classes": [],
            "_model_module": "@jupyter-widgets/controls",
            "_model_module_version": "1.5.0",
            "_model_name": "HTMLModel",
            "_view_count": null,
            "_view_module": "@jupyter-widgets/controls",
            "_view_module_version": "1.5.0",
            "_view_name": "HTMLView",
            "description": "",
            "description_tooltip": null,
            "layout": "IPY_MODEL_1de3b0a365a342468047ec549a6cc46c",
            "placeholder": "​",
            "style": "IPY_MODEL_fa71c728fcfb47bba8cc0274fa70a49f",
            "value": " 1.73k/1.73k [00:00&lt;00:00, 54.1kB/s]"
          }
        },
        "aee4307dda8a419f8a8c631798d1bc95": {
          "model_module": "@jupyter-widgets/base",
          "model_module_version": "1.2.0",
          "model_name": "LayoutModel",
          "state": {
            "_model_module": "@jupyter-widgets/base",
            "_model_module_version": "1.2.0",
            "_model_name": "LayoutModel",
            "_view_count": null,
            "_view_module": "@jupyter-widgets/base",
            "_view_module_version": "1.2.0",
            "_view_name": "LayoutView",
            "align_content": null,
            "align_items": null,
            "align_self": null,
            "border": null,
            "bottom": null,
            "display": null,
            "flex": null,
            "flex_flow": null,
            "grid_area": null,
            "grid_auto_columns": null,
            "grid_auto_flow": null,
            "grid_auto_rows": null,
            "grid_column": null,
            "grid_gap": null,
            "grid_row": null,
            "grid_template_areas": null,
            "grid_template_columns": null,
            "grid_template_rows": null,
            "height": null,
            "justify_content": null,
            "justify_items": null,
            "left": null,
            "margin": null,
            "max_height": null,
            "max_width": null,
            "min_height": null,
            "min_width": null,
            "object_fit": null,
            "object_position": null,
            "order": null,
            "overflow": null,
            "overflow_x": null,
            "overflow_y": null,
            "padding": null,
            "right": null,
            "top": null,
            "visibility": null,
            "width": null
          }
        },
        "af94d93e351747a2a88a04ddb3faa4ca": {
          "model_module": "@jupyter-widgets/base",
          "model_module_version": "1.2.0",
          "model_name": "LayoutModel",
          "state": {
            "_model_module": "@jupyter-widgets/base",
            "_model_module_version": "1.2.0",
            "_model_name": "LayoutModel",
            "_view_count": null,
            "_view_module": "@jupyter-widgets/base",
            "_view_module_version": "1.2.0",
            "_view_name": "LayoutView",
            "align_content": null,
            "align_items": null,
            "align_self": null,
            "border": null,
            "bottom": null,
            "display": null,
            "flex": null,
            "flex_flow": null,
            "grid_area": null,
            "grid_auto_columns": null,
            "grid_auto_flow": null,
            "grid_auto_rows": null,
            "grid_column": null,
            "grid_gap": null,
            "grid_row": null,
            "grid_template_areas": null,
            "grid_template_columns": null,
            "grid_template_rows": null,
            "height": null,
            "justify_content": null,
            "justify_items": null,
            "left": null,
            "margin": null,
            "max_height": null,
            "max_width": null,
            "min_height": null,
            "min_width": null,
            "object_fit": null,
            "object_position": null,
            "order": null,
            "overflow": null,
            "overflow_x": null,
            "overflow_y": null,
            "padding": null,
            "right": null,
            "top": null,
            "visibility": null,
            "width": null
          }
        },
        "afbc735da0a1411cbd27a2551fe68a39": {
          "model_module": "@jupyter-widgets/base",
          "model_module_version": "1.2.0",
          "model_name": "LayoutModel",
          "state": {
            "_model_module": "@jupyter-widgets/base",
            "_model_module_version": "1.2.0",
            "_model_name": "LayoutModel",
            "_view_count": null,
            "_view_module": "@jupyter-widgets/base",
            "_view_module_version": "1.2.0",
            "_view_name": "LayoutView",
            "align_content": null,
            "align_items": null,
            "align_self": null,
            "border": null,
            "bottom": null,
            "display": null,
            "flex": null,
            "flex_flow": null,
            "grid_area": null,
            "grid_auto_columns": null,
            "grid_auto_flow": null,
            "grid_auto_rows": null,
            "grid_column": null,
            "grid_gap": null,
            "grid_row": null,
            "grid_template_areas": null,
            "grid_template_columns": null,
            "grid_template_rows": null,
            "height": null,
            "justify_content": null,
            "justify_items": null,
            "left": null,
            "margin": null,
            "max_height": null,
            "max_width": null,
            "min_height": null,
            "min_width": null,
            "object_fit": null,
            "object_position": null,
            "order": null,
            "overflow": null,
            "overflow_x": null,
            "overflow_y": null,
            "padding": null,
            "right": null,
            "top": null,
            "visibility": null,
            "width": "20px"
          }
        },
        "b0b2e567193f4f73aaf245067a5e981f": {
          "model_module": "@jupyter-widgets/base",
          "model_module_version": "1.2.0",
          "model_name": "LayoutModel",
          "state": {
            "_model_module": "@jupyter-widgets/base",
            "_model_module_version": "1.2.0",
            "_model_name": "LayoutModel",
            "_view_count": null,
            "_view_module": "@jupyter-widgets/base",
            "_view_module_version": "1.2.0",
            "_view_name": "LayoutView",
            "align_content": null,
            "align_items": null,
            "align_self": null,
            "border": null,
            "bottom": null,
            "display": null,
            "flex": null,
            "flex_flow": null,
            "grid_area": null,
            "grid_auto_columns": null,
            "grid_auto_flow": null,
            "grid_auto_rows": null,
            "grid_column": null,
            "grid_gap": null,
            "grid_row": null,
            "grid_template_areas": null,
            "grid_template_columns": null,
            "grid_template_rows": null,
            "height": null,
            "justify_content": null,
            "justify_items": null,
            "left": null,
            "margin": null,
            "max_height": null,
            "max_width": null,
            "min_height": null,
            "min_width": null,
            "object_fit": null,
            "object_position": null,
            "order": null,
            "overflow": null,
            "overflow_x": null,
            "overflow_y": null,
            "padding": null,
            "right": null,
            "top": null,
            "visibility": null,
            "width": null
          }
        },
        "b14fcc491d8a42d1b1a5e01cbbf1da41": {
          "model_module": "@jupyter-widgets/base",
          "model_module_version": "1.2.0",
          "model_name": "LayoutModel",
          "state": {
            "_model_module": "@jupyter-widgets/base",
            "_model_module_version": "1.2.0",
            "_model_name": "LayoutModel",
            "_view_count": null,
            "_view_module": "@jupyter-widgets/base",
            "_view_module_version": "1.2.0",
            "_view_name": "LayoutView",
            "align_content": null,
            "align_items": null,
            "align_self": null,
            "border": null,
            "bottom": null,
            "display": null,
            "flex": null,
            "flex_flow": null,
            "grid_area": null,
            "grid_auto_columns": null,
            "grid_auto_flow": null,
            "grid_auto_rows": null,
            "grid_column": null,
            "grid_gap": null,
            "grid_row": null,
            "grid_template_areas": null,
            "grid_template_columns": null,
            "grid_template_rows": null,
            "height": null,
            "justify_content": null,
            "justify_items": null,
            "left": null,
            "margin": null,
            "max_height": null,
            "max_width": null,
            "min_height": null,
            "min_width": null,
            "object_fit": null,
            "object_position": null,
            "order": null,
            "overflow": null,
            "overflow_x": null,
            "overflow_y": null,
            "padding": null,
            "right": null,
            "top": null,
            "visibility": null,
            "width": null
          }
        },
        "b79ea3b1d11948bb92394486fba1affa": {
          "model_module": "@jupyter-widgets/base",
          "model_module_version": "1.2.0",
          "model_name": "LayoutModel",
          "state": {
            "_model_module": "@jupyter-widgets/base",
            "_model_module_version": "1.2.0",
            "_model_name": "LayoutModel",
            "_view_count": null,
            "_view_module": "@jupyter-widgets/base",
            "_view_module_version": "1.2.0",
            "_view_name": "LayoutView",
            "align_content": null,
            "align_items": null,
            "align_self": null,
            "border": null,
            "bottom": null,
            "display": null,
            "flex": null,
            "flex_flow": null,
            "grid_area": null,
            "grid_auto_columns": null,
            "grid_auto_flow": null,
            "grid_auto_rows": null,
            "grid_column": null,
            "grid_gap": null,
            "grid_row": null,
            "grid_template_areas": null,
            "grid_template_columns": null,
            "grid_template_rows": null,
            "height": null,
            "justify_content": null,
            "justify_items": null,
            "left": null,
            "margin": null,
            "max_height": null,
            "max_width": null,
            "min_height": null,
            "min_width": null,
            "object_fit": null,
            "object_position": null,
            "order": null,
            "overflow": null,
            "overflow_x": null,
            "overflow_y": null,
            "padding": null,
            "right": null,
            "top": null,
            "visibility": null,
            "width": null
          }
        },
        "b8a96d584cd44e60b6fa223933a7ae00": {
          "model_module": "@jupyter-widgets/controls",
          "model_module_version": "1.5.0",
          "model_name": "FloatProgressModel",
          "state": {
            "_dom_classes": [],
            "_model_module": "@jupyter-widgets/controls",
            "_model_module_version": "1.5.0",
            "_model_name": "FloatProgressModel",
            "_view_count": null,
            "_view_module": "@jupyter-widgets/controls",
            "_view_module_version": "1.5.0",
            "_view_name": "ProgressView",
            "bar_style": "success",
            "description": "",
            "description_tooltip": null,
            "layout": "IPY_MODEL_b0b2e567193f4f73aaf245067a5e981f",
            "max": 1947,
            "min": 0,
            "orientation": "horizontal",
            "style": "IPY_MODEL_dfce626571cb42b691b27b9dec37121d",
            "value": 1947
          }
        },
        "ba0d7b07962146ffb1a12c3e13ed16d0": {
          "model_module": "@jupyter-widgets/controls",
          "model_module_version": "1.5.0",
          "model_name": "FloatProgressModel",
          "state": {
            "_dom_classes": [],
            "_model_module": "@jupyter-widgets/controls",
            "_model_module_version": "1.5.0",
            "_model_name": "FloatProgressModel",
            "_view_count": null,
            "_view_module": "@jupyter-widgets/controls",
            "_view_module_version": "1.5.0",
            "_view_name": "ProgressView",
            "bar_style": "info",
            "description": "",
            "description_tooltip": null,
            "layout": "IPY_MODEL_a7ac6c91ec484ca5a181f9da4a83912a",
            "max": 1,
            "min": 0,
            "orientation": "horizontal",
            "style": "IPY_MODEL_9ff67c07edaf4c82ad97e74165be19e1",
            "value": 1
          }
        },
        "bbff2d5220854349951f6dd5f7fedfb9": {
          "model_module": "@jupyter-widgets/controls",
          "model_module_version": "1.5.0",
          "model_name": "HBoxModel",
          "state": {
            "_dom_classes": [],
            "_model_module": "@jupyter-widgets/controls",
            "_model_module_version": "1.5.0",
            "_model_name": "HBoxModel",
            "_view_count": null,
            "_view_module": "@jupyter-widgets/controls",
            "_view_module_version": "1.5.0",
            "_view_name": "HBoxView",
            "box_style": "",
            "children": [
              "IPY_MODEL_105925ad1023497d8bc1dfe3281a7eee",
              "IPY_MODEL_3277c6a4634744a1822f485ef2bb98f9",
              "IPY_MODEL_2d7e0fcff6f74147bb7e7000cf9e6fb6"
            ],
            "layout": "IPY_MODEL_bfe721de57b14b4abf42a00d65073d5d"
          }
        },
        "bca68a46851a4394b2054ddee61f5d46": {
          "model_module": "@jupyter-widgets/controls",
          "model_module_version": "1.5.0",
          "model_name": "HBoxModel",
          "state": {
            "_dom_classes": [],
            "_model_module": "@jupyter-widgets/controls",
            "_model_module_version": "1.5.0",
            "_model_name": "HBoxModel",
            "_view_count": null,
            "_view_module": "@jupyter-widgets/controls",
            "_view_module_version": "1.5.0",
            "_view_name": "HBoxView",
            "box_style": "",
            "children": [
              "IPY_MODEL_5b0b0be09e0846f89d5f972dd1b3aa41",
              "IPY_MODEL_e3bd839f8338455699f745bb7d656f9e",
              "IPY_MODEL_db81f07354954710ba65203bda7055d8"
            ],
            "layout": "IPY_MODEL_0a4b58cadb2c4a069133b68d0a766b8d"
          }
        },
        "bd78cfb3cbf24a07a263b6b81e9cb0c1": {
          "model_module": "@jupyter-widgets/controls",
          "model_module_version": "1.5.0",
          "model_name": "DescriptionStyleModel",
          "state": {
            "_model_module": "@jupyter-widgets/controls",
            "_model_module_version": "1.5.0",
            "_model_name": "DescriptionStyleModel",
            "_view_count": null,
            "_view_module": "@jupyter-widgets/base",
            "_view_module_version": "1.2.0",
            "_view_name": "StyleView",
            "description_width": ""
          }
        },
        "bf4a2689a0804862ac65f21bdcff0370": {
          "model_module": "@jupyter-widgets/base",
          "model_module_version": "1.2.0",
          "model_name": "LayoutModel",
          "state": {
            "_model_module": "@jupyter-widgets/base",
            "_model_module_version": "1.2.0",
            "_model_name": "LayoutModel",
            "_view_count": null,
            "_view_module": "@jupyter-widgets/base",
            "_view_module_version": "1.2.0",
            "_view_name": "LayoutView",
            "align_content": null,
            "align_items": null,
            "align_self": null,
            "border": null,
            "bottom": null,
            "display": null,
            "flex": null,
            "flex_flow": null,
            "grid_area": null,
            "grid_auto_columns": null,
            "grid_auto_flow": null,
            "grid_auto_rows": null,
            "grid_column": null,
            "grid_gap": null,
            "grid_row": null,
            "grid_template_areas": null,
            "grid_template_columns": null,
            "grid_template_rows": null,
            "height": null,
            "justify_content": null,
            "justify_items": null,
            "left": null,
            "margin": null,
            "max_height": null,
            "max_width": null,
            "min_height": null,
            "min_width": null,
            "object_fit": null,
            "object_position": null,
            "order": null,
            "overflow": null,
            "overflow_x": null,
            "overflow_y": null,
            "padding": null,
            "right": null,
            "top": null,
            "visibility": null,
            "width": null
          }
        },
        "bfe721de57b14b4abf42a00d65073d5d": {
          "model_module": "@jupyter-widgets/base",
          "model_module_version": "1.2.0",
          "model_name": "LayoutModel",
          "state": {
            "_model_module": "@jupyter-widgets/base",
            "_model_module_version": "1.2.0",
            "_model_name": "LayoutModel",
            "_view_count": null,
            "_view_module": "@jupyter-widgets/base",
            "_view_module_version": "1.2.0",
            "_view_name": "LayoutView",
            "align_content": null,
            "align_items": null,
            "align_self": null,
            "border": null,
            "bottom": null,
            "display": null,
            "flex": null,
            "flex_flow": null,
            "grid_area": null,
            "grid_auto_columns": null,
            "grid_auto_flow": null,
            "grid_auto_rows": null,
            "grid_column": null,
            "grid_gap": null,
            "grid_row": null,
            "grid_template_areas": null,
            "grid_template_columns": null,
            "grid_template_rows": null,
            "height": null,
            "justify_content": null,
            "justify_items": null,
            "left": null,
            "margin": null,
            "max_height": null,
            "max_width": null,
            "min_height": null,
            "min_width": null,
            "object_fit": null,
            "object_position": null,
            "order": null,
            "overflow": null,
            "overflow_x": null,
            "overflow_y": null,
            "padding": null,
            "right": null,
            "top": null,
            "visibility": null,
            "width": null
          }
        },
        "c0f58f2823374ae095ae17713f00497e": {
          "model_module": "@jupyter-widgets/controls",
          "model_module_version": "1.5.0",
          "model_name": "HTMLModel",
          "state": {
            "_dom_classes": [],
            "_model_module": "@jupyter-widgets/controls",
            "_model_module_version": "1.5.0",
            "_model_name": "HTMLModel",
            "_view_count": null,
            "_view_module": "@jupyter-widgets/controls",
            "_view_module_version": "1.5.0",
            "_view_name": "HTMLView",
            "description": "",
            "description_tooltip": null,
            "layout": "IPY_MODEL_9f2f948d74c6480087a3fe4674741248",
            "placeholder": "​",
            "style": "IPY_MODEL_cfe322472c0b47469477edcac702ad6b",
            "value": " 1/1 [00:00&lt;00:00, 17.40ba/s]"
          }
        },
        "c2461e7b8a424576a9ff5f0160857a90": {
          "model_module": "@jupyter-widgets/controls",
          "model_module_version": "1.5.0",
          "model_name": "HBoxModel",
          "state": {
            "_dom_classes": [],
            "_model_module": "@jupyter-widgets/controls",
            "_model_module_version": "1.5.0",
            "_model_name": "HBoxModel",
            "_view_count": null,
            "_view_module": "@jupyter-widgets/controls",
            "_view_module_version": "1.5.0",
            "_view_name": "HBoxView",
            "box_style": "",
            "children": [
              "IPY_MODEL_4abf3d6d363f48c9b6bc3e7531c8a9b1",
              "IPY_MODEL_5c4bee0020354802be719db48fe39fb3",
              "IPY_MODEL_57ade4129877435d9995eef97cc29953"
            ],
            "layout": "IPY_MODEL_3b04977c72244e1c95cf167c4d83e9a4"
          }
        },
        "c64fd3d05a234b108e8ce47bd9e4cab4": {
          "model_module": "@jupyter-widgets/controls",
          "model_module_version": "1.5.0",
          "model_name": "HTMLModel",
          "state": {
            "_dom_classes": [],
            "_model_module": "@jupyter-widgets/controls",
            "_model_module_version": "1.5.0",
            "_model_name": "HTMLModel",
            "_view_count": null,
            "_view_module": "@jupyter-widgets/controls",
            "_view_module_version": "1.5.0",
            "_view_name": "HTMLView",
            "description": "",
            "description_tooltip": null,
            "layout": "IPY_MODEL_af94d93e351747a2a88a04ddb3faa4ca",
            "placeholder": "​",
            "style": "IPY_MODEL_4eca72af7d464c6b8d1a47c189e53dd1",
            "value": "Downloading: 100%"
          }
        },
        "c760a9525fc0455ba5d4dedc10cd183c": {
          "model_module": "@jupyter-widgets/controls",
          "model_module_version": "1.5.0",
          "model_name": "FloatProgressModel",
          "state": {
            "_dom_classes": [],
            "_model_module": "@jupyter-widgets/controls",
            "_model_module_version": "1.5.0",
            "_model_name": "FloatProgressModel",
            "_view_count": null,
            "_view_module": "@jupyter-widgets/controls",
            "_view_module_version": "1.5.0",
            "_view_name": "ProgressView",
            "bar_style": "success",
            "description": "",
            "description_tooltip": null,
            "layout": "IPY_MODEL_285159eacf3d4fdc9108db66fb290216",
            "max": 3478,
            "min": 0,
            "orientation": "horizontal",
            "style": "IPY_MODEL_ff2b714913f24108b64fa6ab120131d5",
            "value": 3478
          }
        },
        "c89c3a43a2774976954364af27f3436c": {
          "model_module": "@jupyter-widgets/controls",
          "model_module_version": "1.5.0",
          "model_name": "DescriptionStyleModel",
          "state": {
            "_model_module": "@jupyter-widgets/controls",
            "_model_module_version": "1.5.0",
            "_model_name": "DescriptionStyleModel",
            "_view_count": null,
            "_view_module": "@jupyter-widgets/base",
            "_view_module_version": "1.2.0",
            "_view_name": "StyleView",
            "description_width": ""
          }
        },
        "c89c407f7e0b4034bf80aff57160a0d9": {
          "model_module": "@jupyter-widgets/controls",
          "model_module_version": "1.5.0",
          "model_name": "HTMLModel",
          "state": {
            "_dom_classes": [],
            "_model_module": "@jupyter-widgets/controls",
            "_model_module_version": "1.5.0",
            "_model_name": "HTMLModel",
            "_view_count": null,
            "_view_module": "@jupyter-widgets/controls",
            "_view_module_version": "1.5.0",
            "_view_name": "HTMLView",
            "description": "",
            "description_tooltip": null,
            "layout": "IPY_MODEL_659a5be7a79345cc92b6f3923081f48a",
            "placeholder": "​",
            "style": "IPY_MODEL_3f04be2b357a4c4ba5b1cbf19e47c62b",
            "value": " 1/1 [00:00&lt;00:00, 14.35ba/s]"
          }
        },
        "c8fbcb97123a42b38ee18eb0712a8924": {
          "model_module": "@jupyter-widgets/controls",
          "model_module_version": "1.5.0",
          "model_name": "HBoxModel",
          "state": {
            "_dom_classes": [],
            "_model_module": "@jupyter-widgets/controls",
            "_model_module_version": "1.5.0",
            "_model_name": "HBoxModel",
            "_view_count": null,
            "_view_module": "@jupyter-widgets/controls",
            "_view_module_version": "1.5.0",
            "_view_name": "HBoxView",
            "box_style": "",
            "children": [
              "IPY_MODEL_64010cb39be8475fa58d3f250eb636f7",
              "IPY_MODEL_c760a9525fc0455ba5d4dedc10cd183c",
              "IPY_MODEL_935e2931503f457b902abb9eda548b1b"
            ],
            "layout": "IPY_MODEL_5e4409e7c342470f95028f95cc14a864"
          }
        },
        "c99f20b50205433ea29e56aa87af2eb2": {
          "model_module": "@jupyter-widgets/base",
          "model_module_version": "1.2.0",
          "model_name": "LayoutModel",
          "state": {
            "_model_module": "@jupyter-widgets/base",
            "_model_module_version": "1.2.0",
            "_model_name": "LayoutModel",
            "_view_count": null,
            "_view_module": "@jupyter-widgets/base",
            "_view_module_version": "1.2.0",
            "_view_name": "LayoutView",
            "align_content": null,
            "align_items": null,
            "align_self": null,
            "border": null,
            "bottom": null,
            "display": null,
            "flex": null,
            "flex_flow": null,
            "grid_area": null,
            "grid_auto_columns": null,
            "grid_auto_flow": null,
            "grid_auto_rows": null,
            "grid_column": null,
            "grid_gap": null,
            "grid_row": null,
            "grid_template_areas": null,
            "grid_template_columns": null,
            "grid_template_rows": null,
            "height": null,
            "justify_content": null,
            "justify_items": null,
            "left": null,
            "margin": null,
            "max_height": null,
            "max_width": null,
            "min_height": null,
            "min_width": null,
            "object_fit": null,
            "object_position": null,
            "order": null,
            "overflow": null,
            "overflow_x": null,
            "overflow_y": null,
            "padding": null,
            "right": null,
            "top": null,
            "visibility": null,
            "width": null
          }
        },
        "cb38337364a4419bbfcab14f37879c02": {
          "model_module": "@jupyter-widgets/base",
          "model_module_version": "1.2.0",
          "model_name": "LayoutModel",
          "state": {
            "_model_module": "@jupyter-widgets/base",
            "_model_module_version": "1.2.0",
            "_model_name": "LayoutModel",
            "_view_count": null,
            "_view_module": "@jupyter-widgets/base",
            "_view_module_version": "1.2.0",
            "_view_name": "LayoutView",
            "align_content": null,
            "align_items": null,
            "align_self": null,
            "border": null,
            "bottom": null,
            "display": null,
            "flex": null,
            "flex_flow": null,
            "grid_area": null,
            "grid_auto_columns": null,
            "grid_auto_flow": null,
            "grid_auto_rows": null,
            "grid_column": null,
            "grid_gap": null,
            "grid_row": null,
            "grid_template_areas": null,
            "grid_template_columns": null,
            "grid_template_rows": null,
            "height": null,
            "justify_content": null,
            "justify_items": null,
            "left": null,
            "margin": null,
            "max_height": null,
            "max_width": null,
            "min_height": null,
            "min_width": null,
            "object_fit": null,
            "object_position": null,
            "order": null,
            "overflow": null,
            "overflow_x": null,
            "overflow_y": null,
            "padding": null,
            "right": null,
            "top": null,
            "visibility": null,
            "width": null
          }
        },
        "cb4c61a9b61248f2a03507eb09830acc": {
          "model_module": "@jupyter-widgets/base",
          "model_module_version": "1.2.0",
          "model_name": "LayoutModel",
          "state": {
            "_model_module": "@jupyter-widgets/base",
            "_model_module_version": "1.2.0",
            "_model_name": "LayoutModel",
            "_view_count": null,
            "_view_module": "@jupyter-widgets/base",
            "_view_module_version": "1.2.0",
            "_view_name": "LayoutView",
            "align_content": null,
            "align_items": null,
            "align_self": null,
            "border": null,
            "bottom": null,
            "display": null,
            "flex": null,
            "flex_flow": null,
            "grid_area": null,
            "grid_auto_columns": null,
            "grid_auto_flow": null,
            "grid_auto_rows": null,
            "grid_column": null,
            "grid_gap": null,
            "grid_row": null,
            "grid_template_areas": null,
            "grid_template_columns": null,
            "grid_template_rows": null,
            "height": null,
            "justify_content": null,
            "justify_items": null,
            "left": null,
            "margin": null,
            "max_height": null,
            "max_width": null,
            "min_height": null,
            "min_width": null,
            "object_fit": null,
            "object_position": null,
            "order": null,
            "overflow": null,
            "overflow_x": null,
            "overflow_y": null,
            "padding": null,
            "right": null,
            "top": null,
            "visibility": null,
            "width": null
          }
        },
        "cd50952c2ba6403c9867b28d6c4d1f80": {
          "model_module": "@jupyter-widgets/controls",
          "model_module_version": "1.5.0",
          "model_name": "DescriptionStyleModel",
          "state": {
            "_model_module": "@jupyter-widgets/controls",
            "_model_module_version": "1.5.0",
            "_model_name": "DescriptionStyleModel",
            "_view_count": null,
            "_view_module": "@jupyter-widgets/base",
            "_view_module_version": "1.2.0",
            "_view_name": "StyleView",
            "description_width": ""
          }
        },
        "ce751d8474b74d24be9b29741c70e6d5": {
          "model_module": "@jupyter-widgets/controls",
          "model_module_version": "1.5.0",
          "model_name": "HTMLModel",
          "state": {
            "_dom_classes": [],
            "_model_module": "@jupyter-widgets/controls",
            "_model_module_version": "1.5.0",
            "_model_name": "HTMLModel",
            "_view_count": null,
            "_view_module": "@jupyter-widgets/controls",
            "_view_module_version": "1.5.0",
            "_view_name": "HTMLView",
            "description": "",
            "description_tooltip": null,
            "layout": "IPY_MODEL_4b109b6d0b044ea891d679ce75ff8406",
            "placeholder": "​",
            "style": "IPY_MODEL_c89c3a43a2774976954364af27f3436c",
            "value": " 22.5k/? [00:00&lt;00:00, 243kB/s]"
          }
        },
        "cee62b4a672b45f2ada3bd1836883cbb": {
          "model_module": "@jupyter-widgets/controls",
          "model_module_version": "1.5.0",
          "model_name": "DescriptionStyleModel",
          "state": {
            "_model_module": "@jupyter-widgets/controls",
            "_model_module_version": "1.5.0",
            "_model_name": "DescriptionStyleModel",
            "_view_count": null,
            "_view_module": "@jupyter-widgets/base",
            "_view_module_version": "1.2.0",
            "_view_name": "StyleView",
            "description_width": ""
          }
        },
        "cfe322472c0b47469477edcac702ad6b": {
          "model_module": "@jupyter-widgets/controls",
          "model_module_version": "1.5.0",
          "model_name": "DescriptionStyleModel",
          "state": {
            "_model_module": "@jupyter-widgets/controls",
            "_model_module_version": "1.5.0",
            "_model_name": "DescriptionStyleModel",
            "_view_count": null,
            "_view_module": "@jupyter-widgets/base",
            "_view_module_version": "1.2.0",
            "_view_name": "StyleView",
            "description_width": ""
          }
        },
        "d21c51bc35f344a9a7d8c7c29215672b": {
          "model_module": "@jupyter-widgets/controls",
          "model_module_version": "1.5.0",
          "model_name": "HTMLModel",
          "state": {
            "_dom_classes": [],
            "_model_module": "@jupyter-widgets/controls",
            "_model_module_version": "1.5.0",
            "_model_name": "HTMLModel",
            "_view_count": null,
            "_view_module": "@jupyter-widgets/controls",
            "_view_module_version": "1.5.0",
            "_view_name": "HTMLView",
            "description": "",
            "description_tooltip": null,
            "layout": "IPY_MODEL_9ab9adab4e0e413baa1f7aaeccc31ef5",
            "placeholder": "​",
            "style": "IPY_MODEL_501b2825dc864aa399d62d173459cb74",
            "value": "Downloading: "
          }
        },
        "d3eaeee5846041019ba5490ad73fe0c0": {
          "model_module": "@jupyter-widgets/controls",
          "model_module_version": "1.5.0",
          "model_name": "HBoxModel",
          "state": {
            "_dom_classes": [],
            "_model_module": "@jupyter-widgets/controls",
            "_model_module_version": "1.5.0",
            "_model_name": "HBoxModel",
            "_view_count": null,
            "_view_module": "@jupyter-widgets/controls",
            "_view_module_version": "1.5.0",
            "_view_name": "HBoxView",
            "box_style": "",
            "children": [
              "IPY_MODEL_54b0d5a10028414685819fd5f07e55e7",
              "IPY_MODEL_4d7c2d51e73c4defb3d5c7696e8caefa",
              "IPY_MODEL_a4b2ee61773843e0b069b70d5f2ffc94"
            ],
            "layout": "IPY_MODEL_fb0a05b3416d4a448a193ca80b5b73dd"
          }
        },
        "d7671dc854a749c59044b496cb6e730e": {
          "model_module": "@jupyter-widgets/base",
          "model_module_version": "1.2.0",
          "model_name": "LayoutModel",
          "state": {
            "_model_module": "@jupyter-widgets/base",
            "_model_module_version": "1.2.0",
            "_model_name": "LayoutModel",
            "_view_count": null,
            "_view_module": "@jupyter-widgets/base",
            "_view_module_version": "1.2.0",
            "_view_name": "LayoutView",
            "align_content": null,
            "align_items": null,
            "align_self": null,
            "border": null,
            "bottom": null,
            "display": null,
            "flex": null,
            "flex_flow": null,
            "grid_area": null,
            "grid_auto_columns": null,
            "grid_auto_flow": null,
            "grid_auto_rows": null,
            "grid_column": null,
            "grid_gap": null,
            "grid_row": null,
            "grid_template_areas": null,
            "grid_template_columns": null,
            "grid_template_rows": null,
            "height": null,
            "justify_content": null,
            "justify_items": null,
            "left": null,
            "margin": null,
            "max_height": null,
            "max_width": null,
            "min_height": null,
            "min_width": null,
            "object_fit": null,
            "object_position": null,
            "order": null,
            "overflow": null,
            "overflow_x": null,
            "overflow_y": null,
            "padding": null,
            "right": null,
            "top": null,
            "visibility": null,
            "width": null
          }
        },
        "d7c4be314dc945cfb57e86d14c48b661": {
          "model_module": "@jupyter-widgets/controls",
          "model_module_version": "1.5.0",
          "model_name": "ProgressStyleModel",
          "state": {
            "_model_module": "@jupyter-widgets/controls",
            "_model_module_version": "1.5.0",
            "_model_name": "ProgressStyleModel",
            "_view_count": null,
            "_view_module": "@jupyter-widgets/base",
            "_view_module_version": "1.2.0",
            "_view_name": "StyleView",
            "bar_color": null,
            "description_width": ""
          }
        },
        "d91c1cd3af05436f8712dcb5df27239d": {
          "model_module": "@jupyter-widgets/base",
          "model_module_version": "1.2.0",
          "model_name": "LayoutModel",
          "state": {
            "_model_module": "@jupyter-widgets/base",
            "_model_module_version": "1.2.0",
            "_model_name": "LayoutModel",
            "_view_count": null,
            "_view_module": "@jupyter-widgets/base",
            "_view_module_version": "1.2.0",
            "_view_name": "LayoutView",
            "align_content": null,
            "align_items": null,
            "align_self": null,
            "border": null,
            "bottom": null,
            "display": null,
            "flex": null,
            "flex_flow": null,
            "grid_area": null,
            "grid_auto_columns": null,
            "grid_auto_flow": null,
            "grid_auto_rows": null,
            "grid_column": null,
            "grid_gap": null,
            "grid_row": null,
            "grid_template_areas": null,
            "grid_template_columns": null,
            "grid_template_rows": null,
            "height": null,
            "justify_content": null,
            "justify_items": null,
            "left": null,
            "margin": null,
            "max_height": null,
            "max_width": null,
            "min_height": null,
            "min_width": null,
            "object_fit": null,
            "object_position": null,
            "order": null,
            "overflow": null,
            "overflow_x": null,
            "overflow_y": null,
            "padding": null,
            "right": null,
            "top": null,
            "visibility": null,
            "width": null
          }
        },
        "da9add17ff584af4aafbc9447da07f36": {
          "model_module": "@jupyter-widgets/controls",
          "model_module_version": "1.5.0",
          "model_name": "ProgressStyleModel",
          "state": {
            "_model_module": "@jupyter-widgets/controls",
            "_model_module_version": "1.5.0",
            "_model_name": "ProgressStyleModel",
            "_view_count": null,
            "_view_module": "@jupyter-widgets/base",
            "_view_module_version": "1.2.0",
            "_view_name": "StyleView",
            "bar_color": null,
            "description_width": ""
          }
        },
        "db81f07354954710ba65203bda7055d8": {
          "model_module": "@jupyter-widgets/controls",
          "model_module_version": "1.5.0",
          "model_name": "HTMLModel",
          "state": {
            "_dom_classes": [],
            "_model_module": "@jupyter-widgets/controls",
            "_model_module_version": "1.5.0",
            "_model_name": "HTMLModel",
            "_view_count": null,
            "_view_module": "@jupyter-widgets/controls",
            "_view_module_version": "1.5.0",
            "_view_name": "HTMLView",
            "description": "",
            "description_tooltip": null,
            "layout": "IPY_MODEL_09d3a282efbe46e882db6358515fb70e",
            "placeholder": "​",
            "style": "IPY_MODEL_e31acd9092af4c689d441bd6d5ceb106",
            "value": " 621M/621M [00:12&lt;00:00, 59.0MB/s]"
          }
        },
        "dfce626571cb42b691b27b9dec37121d": {
          "model_module": "@jupyter-widgets/controls",
          "model_module_version": "1.5.0",
          "model_name": "ProgressStyleModel",
          "state": {
            "_model_module": "@jupyter-widgets/controls",
            "_model_module_version": "1.5.0",
            "_model_name": "ProgressStyleModel",
            "_view_count": null,
            "_view_module": "@jupyter-widgets/base",
            "_view_module_version": "1.2.0",
            "_view_name": "StyleView",
            "bar_color": null,
            "description_width": ""
          }
        },
        "e31acd9092af4c689d441bd6d5ceb106": {
          "model_module": "@jupyter-widgets/controls",
          "model_module_version": "1.5.0",
          "model_name": "DescriptionStyleModel",
          "state": {
            "_model_module": "@jupyter-widgets/controls",
            "_model_module_version": "1.5.0",
            "_model_name": "DescriptionStyleModel",
            "_view_count": null,
            "_view_module": "@jupyter-widgets/base",
            "_view_module_version": "1.2.0",
            "_view_name": "StyleView",
            "description_width": ""
          }
        },
        "e376538a4a384693abc9389436ed2f9b": {
          "model_module": "@jupyter-widgets/base",
          "model_module_version": "1.2.0",
          "model_name": "LayoutModel",
          "state": {
            "_model_module": "@jupyter-widgets/base",
            "_model_module_version": "1.2.0",
            "_model_name": "LayoutModel",
            "_view_count": null,
            "_view_module": "@jupyter-widgets/base",
            "_view_module_version": "1.2.0",
            "_view_name": "LayoutView",
            "align_content": null,
            "align_items": null,
            "align_self": null,
            "border": null,
            "bottom": null,
            "display": null,
            "flex": null,
            "flex_flow": null,
            "grid_area": null,
            "grid_auto_columns": null,
            "grid_auto_flow": null,
            "grid_auto_rows": null,
            "grid_column": null,
            "grid_gap": null,
            "grid_row": null,
            "grid_template_areas": null,
            "grid_template_columns": null,
            "grid_template_rows": null,
            "height": null,
            "justify_content": null,
            "justify_items": null,
            "left": null,
            "margin": null,
            "max_height": null,
            "max_width": null,
            "min_height": null,
            "min_width": null,
            "object_fit": null,
            "object_position": null,
            "order": null,
            "overflow": null,
            "overflow_x": null,
            "overflow_y": null,
            "padding": null,
            "right": null,
            "top": null,
            "visibility": null,
            "width": null
          }
        },
        "e3bd839f8338455699f745bb7d656f9e": {
          "model_module": "@jupyter-widgets/controls",
          "model_module_version": "1.5.0",
          "model_name": "FloatProgressModel",
          "state": {
            "_dom_classes": [],
            "_model_module": "@jupyter-widgets/controls",
            "_model_module_version": "1.5.0",
            "_model_name": "FloatProgressModel",
            "_view_count": null,
            "_view_module": "@jupyter-widgets/controls",
            "_view_module_version": "1.5.0",
            "_view_name": "ProgressView",
            "bar_style": "success",
            "description": "",
            "description_tooltip": null,
            "layout": "IPY_MODEL_d91c1cd3af05436f8712dcb5df27239d",
            "max": 620848700,
            "min": 0,
            "orientation": "horizontal",
            "style": "IPY_MODEL_3cd53ee1981e418c842de32a688d5142",
            "value": 620848700
          }
        },
        "e61f1939c9584575bf1d28b1d32a07cf": {
          "model_module": "@jupyter-widgets/base",
          "model_module_version": "1.2.0",
          "model_name": "LayoutModel",
          "state": {
            "_model_module": "@jupyter-widgets/base",
            "_model_module_version": "1.2.0",
            "_model_name": "LayoutModel",
            "_view_count": null,
            "_view_module": "@jupyter-widgets/base",
            "_view_module_version": "1.2.0",
            "_view_name": "LayoutView",
            "align_content": null,
            "align_items": null,
            "align_self": null,
            "border": null,
            "bottom": null,
            "display": null,
            "flex": null,
            "flex_flow": null,
            "grid_area": null,
            "grid_auto_columns": null,
            "grid_auto_flow": null,
            "grid_auto_rows": null,
            "grid_column": null,
            "grid_gap": null,
            "grid_row": null,
            "grid_template_areas": null,
            "grid_template_columns": null,
            "grid_template_rows": null,
            "height": null,
            "justify_content": null,
            "justify_items": null,
            "left": null,
            "margin": null,
            "max_height": null,
            "max_width": null,
            "min_height": null,
            "min_width": null,
            "object_fit": null,
            "object_position": null,
            "order": null,
            "overflow": null,
            "overflow_x": null,
            "overflow_y": null,
            "padding": null,
            "right": null,
            "top": null,
            "visibility": null,
            "width": null
          }
        },
        "e801985d10c74d58a7017631f8b8a030": {
          "model_module": "@jupyter-widgets/controls",
          "model_module_version": "1.5.0",
          "model_name": "HTMLModel",
          "state": {
            "_dom_classes": [],
            "_model_module": "@jupyter-widgets/controls",
            "_model_module_version": "1.5.0",
            "_model_name": "HTMLModel",
            "_view_count": null,
            "_view_module": "@jupyter-widgets/controls",
            "_view_module_version": "1.5.0",
            "_view_name": "HTMLView",
            "description": "",
            "description_tooltip": null,
            "layout": "IPY_MODEL_7de50f3804b34e6db1a714e0ec7c53b8",
            "placeholder": "​",
            "style": "IPY_MODEL_f1f29243fad84ad8a7e41b7393bda5a6",
            "value": "Downloading: "
          }
        },
        "e9469c58b2024af5a17463378248c4f3": {
          "model_module": "@jupyter-widgets/base",
          "model_module_version": "1.2.0",
          "model_name": "LayoutModel",
          "state": {
            "_model_module": "@jupyter-widgets/base",
            "_model_module_version": "1.2.0",
            "_model_name": "LayoutModel",
            "_view_count": null,
            "_view_module": "@jupyter-widgets/base",
            "_view_module_version": "1.2.0",
            "_view_name": "LayoutView",
            "align_content": null,
            "align_items": null,
            "align_self": null,
            "border": null,
            "bottom": null,
            "display": null,
            "flex": null,
            "flex_flow": null,
            "grid_area": null,
            "grid_auto_columns": null,
            "grid_auto_flow": null,
            "grid_auto_rows": null,
            "grid_column": null,
            "grid_gap": null,
            "grid_row": null,
            "grid_template_areas": null,
            "grid_template_columns": null,
            "grid_template_rows": null,
            "height": null,
            "justify_content": null,
            "justify_items": null,
            "left": null,
            "margin": null,
            "max_height": null,
            "max_width": null,
            "min_height": null,
            "min_width": null,
            "object_fit": null,
            "object_position": null,
            "order": null,
            "overflow": null,
            "overflow_x": null,
            "overflow_y": null,
            "padding": null,
            "right": null,
            "top": null,
            "visibility": null,
            "width": null
          }
        },
        "ec97dfe4b90546098ae7e63a8960830b": {
          "model_module": "@jupyter-widgets/base",
          "model_module_version": "1.2.0",
          "model_name": "LayoutModel",
          "state": {
            "_model_module": "@jupyter-widgets/base",
            "_model_module_version": "1.2.0",
            "_model_name": "LayoutModel",
            "_view_count": null,
            "_view_module": "@jupyter-widgets/base",
            "_view_module_version": "1.2.0",
            "_view_name": "LayoutView",
            "align_content": null,
            "align_items": null,
            "align_self": null,
            "border": null,
            "bottom": null,
            "display": null,
            "flex": null,
            "flex_flow": null,
            "grid_area": null,
            "grid_auto_columns": null,
            "grid_auto_flow": null,
            "grid_auto_rows": null,
            "grid_column": null,
            "grid_gap": null,
            "grid_row": null,
            "grid_template_areas": null,
            "grid_template_columns": null,
            "grid_template_rows": null,
            "height": null,
            "justify_content": null,
            "justify_items": null,
            "left": null,
            "margin": null,
            "max_height": null,
            "max_width": null,
            "min_height": null,
            "min_width": null,
            "object_fit": null,
            "object_position": null,
            "order": null,
            "overflow": null,
            "overflow_x": null,
            "overflow_y": null,
            "padding": null,
            "right": null,
            "top": null,
            "visibility": null,
            "width": null
          }
        },
        "eecd5ec1d15a4c0788193b1f498b108e": {
          "model_module": "@jupyter-widgets/controls",
          "model_module_version": "1.5.0",
          "model_name": "ProgressStyleModel",
          "state": {
            "_model_module": "@jupyter-widgets/controls",
            "_model_module_version": "1.5.0",
            "_model_name": "ProgressStyleModel",
            "_view_count": null,
            "_view_module": "@jupyter-widgets/base",
            "_view_module_version": "1.2.0",
            "_view_name": "StyleView",
            "bar_color": null,
            "description_width": ""
          }
        },
        "f1f29243fad84ad8a7e41b7393bda5a6": {
          "model_module": "@jupyter-widgets/controls",
          "model_module_version": "1.5.0",
          "model_name": "DescriptionStyleModel",
          "state": {
            "_model_module": "@jupyter-widgets/controls",
            "_model_module_version": "1.5.0",
            "_model_name": "DescriptionStyleModel",
            "_view_count": null,
            "_view_module": "@jupyter-widgets/base",
            "_view_module_version": "1.2.0",
            "_view_name": "StyleView",
            "description_width": ""
          }
        },
        "f55e48a45a0243c6a99f8976f156c1a2": {
          "model_module": "@jupyter-widgets/base",
          "model_module_version": "1.2.0",
          "model_name": "LayoutModel",
          "state": {
            "_model_module": "@jupyter-widgets/base",
            "_model_module_version": "1.2.0",
            "_model_name": "LayoutModel",
            "_view_count": null,
            "_view_module": "@jupyter-widgets/base",
            "_view_module_version": "1.2.0",
            "_view_name": "LayoutView",
            "align_content": null,
            "align_items": null,
            "align_self": null,
            "border": null,
            "bottom": null,
            "display": null,
            "flex": null,
            "flex_flow": null,
            "grid_area": null,
            "grid_auto_columns": null,
            "grid_auto_flow": null,
            "grid_auto_rows": null,
            "grid_column": null,
            "grid_gap": null,
            "grid_row": null,
            "grid_template_areas": null,
            "grid_template_columns": null,
            "grid_template_rows": null,
            "height": null,
            "justify_content": null,
            "justify_items": null,
            "left": null,
            "margin": null,
            "max_height": null,
            "max_width": null,
            "min_height": null,
            "min_width": null,
            "object_fit": null,
            "object_position": null,
            "order": null,
            "overflow": null,
            "overflow_x": null,
            "overflow_y": null,
            "padding": null,
            "right": null,
            "top": null,
            "visibility": null,
            "width": null
          }
        },
        "f9711b05854d413e867f9a48cf1a7f48": {
          "model_module": "@jupyter-widgets/controls",
          "model_module_version": "1.5.0",
          "model_name": "DescriptionStyleModel",
          "state": {
            "_model_module": "@jupyter-widgets/controls",
            "_model_module_version": "1.5.0",
            "_model_name": "DescriptionStyleModel",
            "_view_count": null,
            "_view_module": "@jupyter-widgets/base",
            "_view_module_version": "1.2.0",
            "_view_name": "StyleView",
            "description_width": ""
          }
        },
        "fa71c728fcfb47bba8cc0274fa70a49f": {
          "model_module": "@jupyter-widgets/controls",
          "model_module_version": "1.5.0",
          "model_name": "DescriptionStyleModel",
          "state": {
            "_model_module": "@jupyter-widgets/controls",
            "_model_module_version": "1.5.0",
            "_model_name": "DescriptionStyleModel",
            "_view_count": null,
            "_view_module": "@jupyter-widgets/base",
            "_view_module_version": "1.2.0",
            "_view_name": "StyleView",
            "description_width": ""
          }
        },
        "fa845f7c970b409c9b99b3b5119b7010": {
          "model_module": "@jupyter-widgets/controls",
          "model_module_version": "1.5.0",
          "model_name": "HTMLModel",
          "state": {
            "_dom_classes": [],
            "_model_module": "@jupyter-widgets/controls",
            "_model_module_version": "1.5.0",
            "_model_name": "HTMLModel",
            "_view_count": null,
            "_view_module": "@jupyter-widgets/controls",
            "_view_module_version": "1.5.0",
            "_view_name": "HTMLView",
            "description": "",
            "description_tooltip": null,
            "layout": "IPY_MODEL_0dd6bb6f6e8f487eb3fcd6f97820f127",
            "placeholder": "​",
            "style": "IPY_MODEL_63d5d0e2d573433d87e66cfe9c1bf7d4",
            "value": " 1.18G/1.18G [00:42&lt;00:00, 36.6MB/s]"
          }
        },
        "fa8482bff10e4ed2b51cf40bef083a56": {
          "model_module": "@jupyter-widgets/controls",
          "model_module_version": "1.5.0",
          "model_name": "DescriptionStyleModel",
          "state": {
            "_model_module": "@jupyter-widgets/controls",
            "_model_module_version": "1.5.0",
            "_model_name": "DescriptionStyleModel",
            "_view_count": null,
            "_view_module": "@jupyter-widgets/base",
            "_view_module_version": "1.2.0",
            "_view_name": "StyleView",
            "description_width": ""
          }
        },
        "fb0a05b3416d4a448a193ca80b5b73dd": {
          "model_module": "@jupyter-widgets/base",
          "model_module_version": "1.2.0",
          "model_name": "LayoutModel",
          "state": {
            "_model_module": "@jupyter-widgets/base",
            "_model_module_version": "1.2.0",
            "_model_name": "LayoutModel",
            "_view_count": null,
            "_view_module": "@jupyter-widgets/base",
            "_view_module_version": "1.2.0",
            "_view_name": "LayoutView",
            "align_content": null,
            "align_items": null,
            "align_self": null,
            "border": null,
            "bottom": null,
            "display": null,
            "flex": null,
            "flex_flow": null,
            "grid_area": null,
            "grid_auto_columns": null,
            "grid_auto_flow": null,
            "grid_auto_rows": null,
            "grid_column": null,
            "grid_gap": null,
            "grid_row": null,
            "grid_template_areas": null,
            "grid_template_columns": null,
            "grid_template_rows": null,
            "height": null,
            "justify_content": null,
            "justify_items": null,
            "left": null,
            "margin": null,
            "max_height": null,
            "max_width": null,
            "min_height": null,
            "min_width": null,
            "object_fit": null,
            "object_position": null,
            "order": null,
            "overflow": null,
            "overflow_x": null,
            "overflow_y": null,
            "padding": null,
            "right": null,
            "top": null,
            "visibility": null,
            "width": null
          }
        },
        "ff2b714913f24108b64fa6ab120131d5": {
          "model_module": "@jupyter-widgets/controls",
          "model_module_version": "1.5.0",
          "model_name": "ProgressStyleModel",
          "state": {
            "_model_module": "@jupyter-widgets/controls",
            "_model_module_version": "1.5.0",
            "_model_name": "ProgressStyleModel",
            "_view_count": null,
            "_view_module": "@jupyter-widgets/base",
            "_view_module_version": "1.2.0",
            "_view_name": "StyleView",
            "bar_color": null,
            "description_width": ""
          }
        },
        "ffa68f11ee2e4cba881b7cf192922e93": {
          "model_module": "@jupyter-widgets/controls",
          "model_module_version": "1.5.0",
          "model_name": "DescriptionStyleModel",
          "state": {
            "_model_module": "@jupyter-widgets/controls",
            "_model_module_version": "1.5.0",
            "_model_name": "DescriptionStyleModel",
            "_view_count": null,
            "_view_module": "@jupyter-widgets/base",
            "_view_module_version": "1.2.0",
            "_view_name": "StyleView",
            "description_width": ""
          }
        },
        "ffe22ed6ad2f4190bcb65fa480b4fa18": {
          "model_module": "@jupyter-widgets/base",
          "model_module_version": "1.2.0",
          "model_name": "LayoutModel",
          "state": {
            "_model_module": "@jupyter-widgets/base",
            "_model_module_version": "1.2.0",
            "_model_name": "LayoutModel",
            "_view_count": null,
            "_view_module": "@jupyter-widgets/base",
            "_view_module_version": "1.2.0",
            "_view_name": "LayoutView",
            "align_content": null,
            "align_items": null,
            "align_self": null,
            "border": null,
            "bottom": null,
            "display": null,
            "flex": null,
            "flex_flow": null,
            "grid_area": null,
            "grid_auto_columns": null,
            "grid_auto_flow": null,
            "grid_auto_rows": null,
            "grid_column": null,
            "grid_gap": null,
            "grid_row": null,
            "grid_template_areas": null,
            "grid_template_columns": null,
            "grid_template_rows": null,
            "height": null,
            "justify_content": null,
            "justify_items": null,
            "left": null,
            "margin": null,
            "max_height": null,
            "max_width": null,
            "min_height": null,
            "min_width": null,
            "object_fit": null,
            "object_position": null,
            "order": null,
            "overflow": null,
            "overflow_x": null,
            "overflow_y": null,
            "padding": null,
            "right": null,
            "top": null,
            "visibility": null,
            "width": null
          }
        }
      }
    }
  },
  "nbformat": 4,
  "nbformat_minor": 0
}