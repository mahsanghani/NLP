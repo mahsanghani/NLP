{
  "nbformat": 4,
  "nbformat_minor": 0,
  "metadata": {
    "colab": {
      "provenance": []
    },
    "kernelspec": {
      "name": "python3",
      "display_name": "Python 3"
    },
    "language_info": {
      "name": "python"
    }
  },
  "cells": [
    {
      "cell_type": "code",
      "execution_count": 1,
      "metadata": {
        "colab": {
          "base_uri": "https://localhost:8080/",
          "height": 0
        },
        "id": "bPw0vkeP_nw_",
        "outputId": "70b536f1-1636-406e-f826-dfcf32cd5a5c"
      },
      "outputs": [
        {
          "output_type": "stream",
          "name": "stdout",
          "text": [
            "\u001b[?25l     \u001b[90m━━━━━━━━━━━━━━━━━━━━━━━━━━━━━━━━━━━━━━━━\u001b[0m \u001b[32m0.0/129.1 kB\u001b[0m \u001b[31m?\u001b[0m eta \u001b[36m-:--:--\u001b[0m\r\u001b[2K     \u001b[91m━━━━━━━━━━━━━━━━━━━━━━━━━━━━━━━━━━━━━━\u001b[0m\u001b[90m╺\u001b[0m\u001b[90m━\u001b[0m \u001b[32m122.9/129.1 kB\u001b[0m \u001b[31m3.8 MB/s\u001b[0m eta \u001b[36m0:00:01\u001b[0m\r\u001b[2K     \u001b[90m━━━━━━━━━━━━━━━━━━━━━━━━━━━━━━━━━━━━━━━━\u001b[0m \u001b[32m129.1/129.1 kB\u001b[0m \u001b[31m2.7 MB/s\u001b[0m eta \u001b[36m0:00:00\u001b[0m\n",
            "\u001b[?25h"
          ]
        }
      ],
      "source": [
        "!pip install -q -U keras-tuner"
      ]
    },
    {
      "cell_type": "code",
      "source": [
        "import tensorflow as tf\n",
        "from tensorflow import keras\n",
        "import keras_tuner as kt"
      ],
      "metadata": {
        "id": "v9BwFvSjAoRF"
      },
      "execution_count": 2,
      "outputs": []
    },
    {
      "cell_type": "code",
      "source": [
        "(img_train, label_train), (img_test, label_test) = keras.datasets.fashion_mnist.load_data()"
      ],
      "metadata": {
        "colab": {
          "base_uri": "https://localhost:8080/",
          "height": 0
        },
        "id": "qP-Adq8NAqDA",
        "outputId": "7cfdd400-2adf-4463-aaca-6df4595c11e0"
      },
      "execution_count": 3,
      "outputs": [
        {
          "output_type": "stream",
          "name": "stdout",
          "text": [
            "Downloading data from https://storage.googleapis.com/tensorflow/tf-keras-datasets/train-labels-idx1-ubyte.gz\n",
            "29515/29515 [==============================] - 0s 0us/step\n",
            "Downloading data from https://storage.googleapis.com/tensorflow/tf-keras-datasets/train-images-idx3-ubyte.gz\n",
            "26421880/26421880 [==============================] - 1s 0us/step\n",
            "Downloading data from https://storage.googleapis.com/tensorflow/tf-keras-datasets/t10k-labels-idx1-ubyte.gz\n",
            "5148/5148 [==============================] - 0s 0us/step\n",
            "Downloading data from https://storage.googleapis.com/tensorflow/tf-keras-datasets/t10k-images-idx3-ubyte.gz\n",
            "4422102/4422102 [==============================] - 1s 0us/step\n"
          ]
        }
      ]
    },
    {
      "cell_type": "code",
      "source": [
        "img_train = img_train.astype('float32') / 255.0\n",
        "img_test = img_test.astype('float32') / 255.0"
      ],
      "metadata": {
        "id": "78owPrr1AsIo"
      },
      "execution_count": 4,
      "outputs": []
    },
    {
      "cell_type": "code",
      "source": [
        "def model_builder(hp):\n",
        "  model = keras.Sequential()\n",
        "  model.add(keras.layers.Flatten(input_shape=(28, 28)))\n",
        "\n",
        "  hp_units = hp.Int('units', min_value=32, max_value=512, step=32)\n",
        "  model.add(keras.layers.Dense(units=hp_units, activation='relu'))\n",
        "  model.add(keras.layers.Dense(10))\n",
        "\n",
        "  hp_learning_rate = hp.Choice('learning_rate', values=[1e-2, 1e-3, 1e-4])\n",
        "\n",
        "  model.compile(optimizer=keras.optimizers.Adam(learning_rate=hp_learning_rate),\n",
        "                loss=keras.losses.SparseCategoricalCrossentropy(from_logits=True),\n",
        "                metrics=['accuracy'])\n",
        "\n",
        "  return model"
      ],
      "metadata": {
        "id": "MvZTVbyFAxMn"
      },
      "execution_count": 6,
      "outputs": []
    },
    {
      "cell_type": "code",
      "source": [
        "tuner = kt.Hyperband(model_builder,\n",
        "                     objective='val_accuracy',\n",
        "                     max_epochs=10,\n",
        "                     factor=3,\n",
        "                     directory='my_dir',\n",
        "                     project_name='intro_to_kt')"
      ],
      "metadata": {
        "id": "q_PXABgzAxon"
      },
      "execution_count": 7,
      "outputs": []
    },
    {
      "cell_type": "code",
      "source": [
        "stop_early = tf.keras.callbacks.EarlyStopping(monitor='val_loss', patience=5)"
      ],
      "metadata": {
        "id": "fanWe8QxBD98"
      },
      "execution_count": 8,
      "outputs": []
    },
    {
      "cell_type": "code",
      "source": [
        "tuner.search(img_train, label_train, epochs=50, validation_split=0.2, callbacks=[stop_early])\n",
        "\n",
        "best_hps=tuner.get_best_hyperparameters(num_trials=1)[0]\n",
        "\n",
        "print(f\"\"\"\n",
        "The hyperparameter search is complete. The optimal number of units in the first densely-connected\n",
        "layer is {best_hps.get('units')} and the optimal learning rate for the optimizer\n",
        "is {best_hps.get('learning_rate')}.\n",
        "\"\"\")"
      ],
      "metadata": {
        "colab": {
          "base_uri": "https://localhost:8080/",
          "height": 0
        },
        "id": "hPEV6al2BFPf",
        "outputId": "faf9c097-3ed3-40b6-b69f-44eb0e12ef5d"
      },
      "execution_count": 9,
      "outputs": [
        {
          "output_type": "stream",
          "name": "stdout",
          "text": [
            "Trial 30 Complete [00h 00m 46s]\n",
            "val_accuracy: 0.8532500267028809\n",
            "\n",
            "Best val_accuracy So Far: 0.8917499780654907\n",
            "Total elapsed time: 00h 24m 54s\n",
            "\n",
            "The hyperparameter search is complete. The optimal number of units in the first densely-connected\n",
            "layer is 256 and the optimal learning rate for the optimizer\n",
            "is 0.001.\n",
            "\n"
          ]
        }
      ]
    },
    {
      "cell_type": "code",
      "source": [
        "model = tuner.hypermodel.build(best_hps)\n",
        "history = model.fit(img_train, label_train, epochs=50, validation_split=0.2)\n",
        "\n",
        "val_acc_per_epoch = history.history['val_accuracy']\n",
        "best_epoch = val_acc_per_epoch.index(max(val_acc_per_epoch)) + 1\n",
        "print('Best epoch: %d' % (best_epoch,))"
      ],
      "metadata": {
        "colab": {
          "base_uri": "https://localhost:8080/",
          "height": 0
        },
        "id": "o45r9ZSWBHD-",
        "outputId": "b41887d7-8394-423b-a8f1-b4974b9350b5"
      },
      "execution_count": 10,
      "outputs": [
        {
          "output_type": "stream",
          "name": "stdout",
          "text": [
            "Epoch 1/50\n",
            "1500/1500 [==============================] - 11s 7ms/step - loss: 0.5059 - accuracy: 0.8208 - val_loss: 0.3851 - val_accuracy: 0.8604\n",
            "Epoch 2/50\n",
            "1500/1500 [==============================] - 10s 6ms/step - loss: 0.3767 - accuracy: 0.8643 - val_loss: 0.3887 - val_accuracy: 0.8622\n",
            "Epoch 3/50\n",
            "1500/1500 [==============================] - 9s 6ms/step - loss: 0.3345 - accuracy: 0.8770 - val_loss: 0.3461 - val_accuracy: 0.8729\n",
            "Epoch 4/50\n",
            "1500/1500 [==============================] - 10s 7ms/step - loss: 0.3099 - accuracy: 0.8845 - val_loss: 0.3490 - val_accuracy: 0.8754\n",
            "Epoch 5/50\n",
            "1500/1500 [==============================] - 10s 6ms/step - loss: 0.2912 - accuracy: 0.8922 - val_loss: 0.3264 - val_accuracy: 0.8845\n",
            "Epoch 6/50\n",
            "1500/1500 [==============================] - 8s 5ms/step - loss: 0.2766 - accuracy: 0.8961 - val_loss: 0.3316 - val_accuracy: 0.8800\n",
            "Epoch 7/50\n",
            "1500/1500 [==============================] - 10s 7ms/step - loss: 0.2637 - accuracy: 0.9016 - val_loss: 0.3313 - val_accuracy: 0.8855\n",
            "Epoch 8/50\n",
            "1500/1500 [==============================] - 10s 6ms/step - loss: 0.2527 - accuracy: 0.9056 - val_loss: 0.3376 - val_accuracy: 0.8793\n",
            "Epoch 9/50\n",
            "1500/1500 [==============================] - 9s 6ms/step - loss: 0.2384 - accuracy: 0.9102 - val_loss: 0.3310 - val_accuracy: 0.8785\n",
            "Epoch 10/50\n",
            "1500/1500 [==============================] - 10s 7ms/step - loss: 0.2290 - accuracy: 0.9146 - val_loss: 0.3256 - val_accuracy: 0.8880\n",
            "Epoch 11/50\n",
            "1500/1500 [==============================] - 10s 7ms/step - loss: 0.2245 - accuracy: 0.9155 - val_loss: 0.3224 - val_accuracy: 0.8873\n",
            "Epoch 12/50\n",
            "1500/1500 [==============================] - 8s 5ms/step - loss: 0.2142 - accuracy: 0.9203 - val_loss: 0.3317 - val_accuracy: 0.8868\n",
            "Epoch 13/50\n",
            "1500/1500 [==============================] - 10s 7ms/step - loss: 0.2057 - accuracy: 0.9219 - val_loss: 0.3090 - val_accuracy: 0.8967\n",
            "Epoch 14/50\n",
            "1500/1500 [==============================] - 10s 7ms/step - loss: 0.1983 - accuracy: 0.9253 - val_loss: 0.3165 - val_accuracy: 0.8888\n",
            "Epoch 15/50\n",
            "1500/1500 [==============================] - 9s 6ms/step - loss: 0.1932 - accuracy: 0.9269 - val_loss: 0.3242 - val_accuracy: 0.8914\n",
            "Epoch 16/50\n",
            "1500/1500 [==============================] - 10s 7ms/step - loss: 0.1829 - accuracy: 0.9319 - val_loss: 0.3260 - val_accuracy: 0.8928\n",
            "Epoch 17/50\n",
            "1500/1500 [==============================] - 10s 7ms/step - loss: 0.1790 - accuracy: 0.9328 - val_loss: 0.3320 - val_accuracy: 0.8904\n",
            "Epoch 18/50\n",
            "1500/1500 [==============================] - 8s 5ms/step - loss: 0.1744 - accuracy: 0.9337 - val_loss: 0.3368 - val_accuracy: 0.8939\n",
            "Epoch 19/50\n",
            "1500/1500 [==============================] - 10s 7ms/step - loss: 0.1674 - accuracy: 0.9375 - val_loss: 0.3333 - val_accuracy: 0.8927\n",
            "Epoch 20/50\n",
            "1500/1500 [==============================] - 10s 7ms/step - loss: 0.1637 - accuracy: 0.9376 - val_loss: 0.3593 - val_accuracy: 0.8872\n",
            "Epoch 21/50\n",
            "1500/1500 [==============================] - 8s 6ms/step - loss: 0.1574 - accuracy: 0.9406 - val_loss: 0.3510 - val_accuracy: 0.8889\n",
            "Epoch 22/50\n",
            "1500/1500 [==============================] - 10s 7ms/step - loss: 0.1543 - accuracy: 0.9414 - val_loss: 0.3444 - val_accuracy: 0.8940\n",
            "Epoch 23/50\n",
            "1500/1500 [==============================] - 10s 7ms/step - loss: 0.1506 - accuracy: 0.9430 - val_loss: 0.3549 - val_accuracy: 0.8928\n",
            "Epoch 24/50\n",
            "1500/1500 [==============================] - 8s 5ms/step - loss: 0.1454 - accuracy: 0.9458 - val_loss: 0.3759 - val_accuracy: 0.8902\n",
            "Epoch 25/50\n",
            "1500/1500 [==============================] - 11s 7ms/step - loss: 0.1407 - accuracy: 0.9474 - val_loss: 0.3686 - val_accuracy: 0.8901\n",
            "Epoch 26/50\n",
            "1500/1500 [==============================] - 10s 7ms/step - loss: 0.1359 - accuracy: 0.9493 - val_loss: 0.3777 - val_accuracy: 0.8979\n",
            "Epoch 27/50\n",
            "1500/1500 [==============================] - 8s 5ms/step - loss: 0.1341 - accuracy: 0.9497 - val_loss: 0.3937 - val_accuracy: 0.8873\n",
            "Epoch 28/50\n",
            "1500/1500 [==============================] - 10s 7ms/step - loss: 0.1322 - accuracy: 0.9497 - val_loss: 0.3874 - val_accuracy: 0.8928\n",
            "Epoch 29/50\n",
            "1500/1500 [==============================] - 11s 7ms/step - loss: 0.1253 - accuracy: 0.9530 - val_loss: 0.3859 - val_accuracy: 0.8915\n",
            "Epoch 30/50\n",
            "1500/1500 [==============================] - 8s 5ms/step - loss: 0.1256 - accuracy: 0.9521 - val_loss: 0.4102 - val_accuracy: 0.8883\n",
            "Epoch 31/50\n",
            "1500/1500 [==============================] - 10s 7ms/step - loss: 0.1188 - accuracy: 0.9551 - val_loss: 0.4092 - val_accuracy: 0.8889\n",
            "Epoch 32/50\n",
            "1500/1500 [==============================] - 10s 7ms/step - loss: 0.1155 - accuracy: 0.9563 - val_loss: 0.4131 - val_accuracy: 0.8931\n",
            "Epoch 33/50\n",
            "1500/1500 [==============================] - 9s 6ms/step - loss: 0.1156 - accuracy: 0.9568 - val_loss: 0.4011 - val_accuracy: 0.8903\n",
            "Epoch 34/50\n",
            "1500/1500 [==============================] - 10s 7ms/step - loss: 0.1116 - accuracy: 0.9580 - val_loss: 0.4520 - val_accuracy: 0.8866\n",
            "Epoch 35/50\n",
            "1500/1500 [==============================] - 11s 7ms/step - loss: 0.1083 - accuracy: 0.9591 - val_loss: 0.4298 - val_accuracy: 0.8913\n",
            "Epoch 36/50\n",
            "1500/1500 [==============================] - 9s 6ms/step - loss: 0.1056 - accuracy: 0.9605 - val_loss: 0.4718 - val_accuracy: 0.8888\n",
            "Epoch 37/50\n",
            "1500/1500 [==============================] - 9s 6ms/step - loss: 0.1026 - accuracy: 0.9622 - val_loss: 0.4263 - val_accuracy: 0.8922\n",
            "Epoch 38/50\n",
            "1500/1500 [==============================] - 10s 7ms/step - loss: 0.1029 - accuracy: 0.9614 - val_loss: 0.4638 - val_accuracy: 0.8905\n",
            "Epoch 39/50\n",
            "1500/1500 [==============================] - 9s 6ms/step - loss: 0.0980 - accuracy: 0.9629 - val_loss: 0.4719 - val_accuracy: 0.8874\n",
            "Epoch 40/50\n",
            "1500/1500 [==============================] - 9s 6ms/step - loss: 0.0976 - accuracy: 0.9632 - val_loss: 0.4711 - val_accuracy: 0.8912\n",
            "Epoch 41/50\n",
            "1500/1500 [==============================] - 10s 7ms/step - loss: 0.0928 - accuracy: 0.9649 - val_loss: 0.4522 - val_accuracy: 0.8941\n",
            "Epoch 42/50\n",
            "1500/1500 [==============================] - 10s 6ms/step - loss: 0.0942 - accuracy: 0.9655 - val_loss: 0.4983 - val_accuracy: 0.8857\n",
            "Epoch 43/50\n",
            "1500/1500 [==============================] - 8s 6ms/step - loss: 0.0902 - accuracy: 0.9656 - val_loss: 0.4649 - val_accuracy: 0.8934\n",
            "Epoch 44/50\n",
            "1500/1500 [==============================] - 10s 7ms/step - loss: 0.0873 - accuracy: 0.9669 - val_loss: 0.4792 - val_accuracy: 0.8936\n",
            "Epoch 45/50\n",
            "1500/1500 [==============================] - 9s 6ms/step - loss: 0.0876 - accuracy: 0.9674 - val_loss: 0.4608 - val_accuracy: 0.8929\n",
            "Epoch 46/50\n",
            "1500/1500 [==============================] - 9s 6ms/step - loss: 0.0867 - accuracy: 0.9678 - val_loss: 0.5152 - val_accuracy: 0.8904\n",
            "Epoch 47/50\n",
            "1500/1500 [==============================] - 10s 7ms/step - loss: 0.0814 - accuracy: 0.9696 - val_loss: 0.5048 - val_accuracy: 0.8932\n",
            "Epoch 48/50\n",
            "1500/1500 [==============================] - 9s 6ms/step - loss: 0.0825 - accuracy: 0.9687 - val_loss: 0.5115 - val_accuracy: 0.8903\n",
            "Epoch 49/50\n",
            "1500/1500 [==============================] - 9s 6ms/step - loss: 0.0806 - accuracy: 0.9708 - val_loss: 0.5097 - val_accuracy: 0.8935\n",
            "Epoch 50/50\n",
            "1500/1500 [==============================] - 10s 7ms/step - loss: 0.0765 - accuracy: 0.9717 - val_loss: 0.5290 - val_accuracy: 0.8911\n",
            "Best epoch: 26\n"
          ]
        }
      ]
    },
    {
      "cell_type": "code",
      "source": [
        "hypermodel = tuner.hypermodel.build(best_hps)\n",
        "\n",
        "hypermodel.fit(img_train, label_train, epochs=best_epoch, validation_split=0.2)"
      ],
      "metadata": {
        "colab": {
          "base_uri": "https://localhost:8080/",
          "height": 0
        },
        "id": "M2J2CImnBKj-",
        "outputId": "cb12dbf6-c0e9-4a1e-a24f-f8c612f2498a"
      },
      "execution_count": 11,
      "outputs": [
        {
          "output_type": "stream",
          "name": "stdout",
          "text": [
            "Epoch 1/26\n",
            "1500/1500 [==============================] - 10s 7ms/step - loss: 0.5006 - accuracy: 0.8229 - val_loss: 0.4230 - val_accuracy: 0.8483\n",
            "Epoch 2/26\n",
            "1500/1500 [==============================] - 9s 6ms/step - loss: 0.3747 - accuracy: 0.8633 - val_loss: 0.4157 - val_accuracy: 0.8484\n",
            "Epoch 3/26\n",
            "1500/1500 [==============================] - 10s 6ms/step - loss: 0.3329 - accuracy: 0.8773 - val_loss: 0.3323 - val_accuracy: 0.8837\n",
            "Epoch 4/26\n",
            "1500/1500 [==============================] - 9s 6ms/step - loss: 0.3105 - accuracy: 0.8861 - val_loss: 0.3323 - val_accuracy: 0.8813\n",
            "Epoch 5/26\n",
            "1500/1500 [==============================] - 8s 5ms/step - loss: 0.2882 - accuracy: 0.8945 - val_loss: 0.3241 - val_accuracy: 0.8814\n",
            "Epoch 6/26\n",
            "1500/1500 [==============================] - 10s 7ms/step - loss: 0.2739 - accuracy: 0.8979 - val_loss: 0.3242 - val_accuracy: 0.8827\n",
            "Epoch 7/26\n",
            "1500/1500 [==============================] - 9s 6ms/step - loss: 0.2623 - accuracy: 0.9027 - val_loss: 0.3266 - val_accuracy: 0.8852\n",
            "Epoch 8/26\n",
            "1500/1500 [==============================] - 9s 6ms/step - loss: 0.2510 - accuracy: 0.9058 - val_loss: 0.3465 - val_accuracy: 0.8770\n",
            "Epoch 9/26\n",
            "1500/1500 [==============================] - 10s 6ms/step - loss: 0.2392 - accuracy: 0.9099 - val_loss: 0.3155 - val_accuracy: 0.8894\n",
            "Epoch 10/26\n",
            "1500/1500 [==============================] - 9s 6ms/step - loss: 0.2325 - accuracy: 0.9130 - val_loss: 0.3325 - val_accuracy: 0.8854\n",
            "Epoch 11/26\n",
            "1500/1500 [==============================] - 9s 6ms/step - loss: 0.2220 - accuracy: 0.9162 - val_loss: 0.3135 - val_accuracy: 0.8892\n",
            "Epoch 12/26\n",
            "1500/1500 [==============================] - 10s 6ms/step - loss: 0.2133 - accuracy: 0.9203 - val_loss: 0.3222 - val_accuracy: 0.8895\n",
            "Epoch 13/26\n",
            "1500/1500 [==============================] - 9s 6ms/step - loss: 0.2064 - accuracy: 0.9229 - val_loss: 0.3227 - val_accuracy: 0.8920\n",
            "Epoch 14/26\n",
            "1500/1500 [==============================] - 9s 6ms/step - loss: 0.1993 - accuracy: 0.9254 - val_loss: 0.3253 - val_accuracy: 0.8895\n",
            "Epoch 15/26\n",
            "1500/1500 [==============================] - 10s 7ms/step - loss: 0.1913 - accuracy: 0.9275 - val_loss: 0.3413 - val_accuracy: 0.8869\n",
            "Epoch 16/26\n",
            "1500/1500 [==============================] - 8s 6ms/step - loss: 0.1845 - accuracy: 0.9308 - val_loss: 0.3376 - val_accuracy: 0.8876\n",
            "Epoch 17/26\n",
            "1500/1500 [==============================] - 10s 6ms/step - loss: 0.1780 - accuracy: 0.9329 - val_loss: 0.3360 - val_accuracy: 0.8912\n",
            "Epoch 18/26\n",
            "1500/1500 [==============================] - 10s 7ms/step - loss: 0.1730 - accuracy: 0.9349 - val_loss: 0.3337 - val_accuracy: 0.8906\n",
            "Epoch 19/26\n",
            "1500/1500 [==============================] - 9s 6ms/step - loss: 0.1684 - accuracy: 0.9358 - val_loss: 0.3629 - val_accuracy: 0.8847\n",
            "Epoch 20/26\n",
            "1500/1500 [==============================] - 9s 6ms/step - loss: 0.1632 - accuracy: 0.9384 - val_loss: 0.3439 - val_accuracy: 0.8931\n",
            "Epoch 21/26\n",
            "1500/1500 [==============================] - 10s 6ms/step - loss: 0.1569 - accuracy: 0.9404 - val_loss: 0.3693 - val_accuracy: 0.8902\n",
            "Epoch 22/26\n",
            "1500/1500 [==============================] - 9s 6ms/step - loss: 0.1504 - accuracy: 0.9433 - val_loss: 0.3580 - val_accuracy: 0.8975\n",
            "Epoch 23/26\n",
            "1500/1500 [==============================] - 10s 6ms/step - loss: 0.1476 - accuracy: 0.9452 - val_loss: 0.3631 - val_accuracy: 0.8919\n",
            "Epoch 24/26\n",
            "1500/1500 [==============================] - 10s 7ms/step - loss: 0.1433 - accuracy: 0.9463 - val_loss: 0.3551 - val_accuracy: 0.8931\n",
            "Epoch 25/26\n",
            "1500/1500 [==============================] - 9s 6ms/step - loss: 0.1400 - accuracy: 0.9479 - val_loss: 0.3775 - val_accuracy: 0.8898\n",
            "Epoch 26/26\n",
            "1500/1500 [==============================] - 10s 6ms/step - loss: 0.1361 - accuracy: 0.9491 - val_loss: 0.4132 - val_accuracy: 0.8848\n"
          ]
        },
        {
          "output_type": "execute_result",
          "data": {
            "text/plain": [
              "<keras.src.callbacks.History at 0x7c3ccd31f160>"
            ]
          },
          "metadata": {},
          "execution_count": 11
        }
      ]
    },
    {
      "cell_type": "code",
      "source": [
        "eval_result = hypermodel.evaluate(img_test, label_test)\n",
        "print(\"[test loss, test accuracy]:\", eval_result)"
      ],
      "metadata": {
        "colab": {
          "base_uri": "https://localhost:8080/",
          "height": 0
        },
        "id": "S9QC4T3zBMMu",
        "outputId": "ca1dcf5e-858d-42c7-e633-40fada73cc9e"
      },
      "execution_count": 12,
      "outputs": [
        {
          "output_type": "stream",
          "name": "stdout",
          "text": [
            "313/313 [==============================] - 1s 3ms/step - loss: 0.4517 - accuracy: 0.8819\n",
            "[test loss, test accuracy]: [0.45173704624176025, 0.8819000124931335]\n"
          ]
        }
      ]
    },
    {
      "cell_type": "code",
      "source": [],
      "metadata": {
        "id": "RKbDlV3XBNUV"
      },
      "execution_count": null,
      "outputs": []
    }
  ]
}