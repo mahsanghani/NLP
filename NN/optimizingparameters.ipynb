{
  "nbformat": 4,
  "nbformat_minor": 0,
  "metadata": {
    "colab": {
      "provenance": []
    },
    "kernelspec": {
      "name": "python3",
      "display_name": "Python 3"
    },
    "language_info": {
      "name": "python"
    }
  },
  "cells": [
    {
      "cell_type": "code",
      "execution_count": null,
      "metadata": {
        "colab": {
          "base_uri": "https://localhost:8080/"
        },
        "id": "uoD0VEs_w71J",
        "outputId": "682053bf-8bc7-4f1c-ebcb-4d070b3afdbe"
      },
      "outputs": [
        {
          "output_type": "stream",
          "name": "stdout",
          "text": [
            "Downloading http://fashion-mnist.s3-website.eu-central-1.amazonaws.com/train-images-idx3-ubyte.gz\n",
            "Downloading http://fashion-mnist.s3-website.eu-central-1.amazonaws.com/train-images-idx3-ubyte.gz to data/FashionMNIST/raw/train-images-idx3-ubyte.gz\n"
          ]
        },
        {
          "output_type": "stream",
          "name": "stderr",
          "text": [
            "100%|██████████| 26421880/26421880 [00:01<00:00, 15969002.62it/s]\n"
          ]
        },
        {
          "output_type": "stream",
          "name": "stdout",
          "text": [
            "Extracting data/FashionMNIST/raw/train-images-idx3-ubyte.gz to data/FashionMNIST/raw\n",
            "\n",
            "Downloading http://fashion-mnist.s3-website.eu-central-1.amazonaws.com/train-labels-idx1-ubyte.gz\n",
            "Downloading http://fashion-mnist.s3-website.eu-central-1.amazonaws.com/train-labels-idx1-ubyte.gz to data/FashionMNIST/raw/train-labels-idx1-ubyte.gz\n"
          ]
        },
        {
          "output_type": "stream",
          "name": "stderr",
          "text": [
            "100%|██████████| 29515/29515 [00:00<00:00, 273335.21it/s]\n"
          ]
        },
        {
          "output_type": "stream",
          "name": "stdout",
          "text": [
            "Extracting data/FashionMNIST/raw/train-labels-idx1-ubyte.gz to data/FashionMNIST/raw\n",
            "\n",
            "Downloading http://fashion-mnist.s3-website.eu-central-1.amazonaws.com/t10k-images-idx3-ubyte.gz\n",
            "Downloading http://fashion-mnist.s3-website.eu-central-1.amazonaws.com/t10k-images-idx3-ubyte.gz to data/FashionMNIST/raw/t10k-images-idx3-ubyte.gz\n"
          ]
        },
        {
          "output_type": "stream",
          "name": "stderr",
          "text": [
            "100%|██████████| 4422102/4422102 [00:00<00:00, 4939251.49it/s]\n"
          ]
        },
        {
          "output_type": "stream",
          "name": "stdout",
          "text": [
            "Extracting data/FashionMNIST/raw/t10k-images-idx3-ubyte.gz to data/FashionMNIST/raw\n",
            "\n",
            "Downloading http://fashion-mnist.s3-website.eu-central-1.amazonaws.com/t10k-labels-idx1-ubyte.gz\n",
            "Downloading http://fashion-mnist.s3-website.eu-central-1.amazonaws.com/t10k-labels-idx1-ubyte.gz to data/FashionMNIST/raw/t10k-labels-idx1-ubyte.gz\n"
          ]
        },
        {
          "output_type": "stream",
          "name": "stderr",
          "text": [
            "100%|██████████| 5148/5148 [00:00<00:00, 4630554.79it/s]"
          ]
        },
        {
          "output_type": "stream",
          "name": "stdout",
          "text": [
            "Extracting data/FashionMNIST/raw/t10k-labels-idx1-ubyte.gz to data/FashionMNIST/raw\n",
            "\n"
          ]
        },
        {
          "output_type": "stream",
          "name": "stderr",
          "text": [
            "\n"
          ]
        }
      ],
      "source": [
        "import torch\n",
        "from torch import nn\n",
        "from torch.utils.data import DataLoader\n",
        "from torchvision import datasets\n",
        "from torchvision.transforms import ToTensor\n",
        "\n",
        "training_data = datasets.FashionMNIST(\n",
        "    root=\"data\",\n",
        "    train=True,\n",
        "    download=True,\n",
        "    transform=ToTensor()\n",
        ")\n",
        "\n",
        "test_data = datasets.FashionMNIST(\n",
        "    root=\"data\",\n",
        "    train=False,\n",
        "    download=True,\n",
        "    transform=ToTensor()\n",
        ")\n",
        "\n",
        "train_dataloader = DataLoader(training_data, batch_size=64)\n",
        "test_dataloader = DataLoader(test_data, batch_size=64)\n",
        "\n",
        "class NeuralNetwork(nn.Module):\n",
        "    def __init__(self):\n",
        "        super().__init__()\n",
        "        self.flatten = nn.Flatten()\n",
        "        self.linear_relu_stack = nn.Sequential(\n",
        "            nn.Linear(28*28, 512),\n",
        "            nn.ReLU(),\n",
        "            nn.Linear(512, 512),\n",
        "            nn.ReLU(),\n",
        "            nn.Linear(512, 10),\n",
        "        )\n",
        "\n",
        "    def forward(self, x):\n",
        "        x = self.flatten(x)\n",
        "        logits = self.linear_relu_stack(x)\n",
        "        return logits\n",
        "\n",
        "model = NeuralNetwork()"
      ]
    },
    {
      "cell_type": "code",
      "source": [
        "learning_rate = 1e-3\n",
        "batch_size = 64\n",
        "epochs = 5"
      ],
      "metadata": {
        "id": "Dx8EiJTfw-Tp"
      },
      "execution_count": null,
      "outputs": []
    },
    {
      "cell_type": "code",
      "source": [
        "# Initialize the loss function\n",
        "loss_fn = nn.CrossEntropyLoss()"
      ],
      "metadata": {
        "id": "lptc8mcTxA9S"
      },
      "execution_count": null,
      "outputs": []
    },
    {
      "cell_type": "code",
      "source": [
        "optimizer = torch.optim.SGD(model.parameters(), lr=learning_rate)"
      ],
      "metadata": {
        "id": "0TsC7yWpxCdr"
      },
      "execution_count": null,
      "outputs": []
    },
    {
      "cell_type": "code",
      "source": [
        "def train_loop(dataloader, model, loss_fn, optimizer):\n",
        "    size = len(dataloader.dataset)\n",
        "    # Set the model to training mode - important for batch normalization and dropout layers\n",
        "    # Unnecessary in this situation but added for best practices\n",
        "    model.train()\n",
        "    for batch, (X, y) in enumerate(dataloader):\n",
        "        # Compute prediction and loss\n",
        "        pred = model(X)\n",
        "        loss = loss_fn(pred, y)\n",
        "\n",
        "        # Backpropagation\n",
        "        loss.backward()\n",
        "        optimizer.step()\n",
        "        optimizer.zero_grad()\n",
        "\n",
        "        if batch % 100 == 0:\n",
        "            loss, current = loss.item(), batch * batch_size + len(X)\n",
        "            print(f\"loss: {loss:>7f}  [{current:>5d}/{size:>5d}]\")\n",
        "\n",
        "\n",
        "def test_loop(dataloader, model, loss_fn):\n",
        "    # Set the model to evaluation mode - important for batch normalization and dropout layers\n",
        "    # Unnecessary in this situation but added for best practices\n",
        "    model.eval()\n",
        "    size = len(dataloader.dataset)\n",
        "    num_batches = len(dataloader)\n",
        "    test_loss, correct = 0, 0\n",
        "\n",
        "    # Evaluating the model with torch.no_grad() ensures that no gradients are computed during test mode\n",
        "    # also serves to reduce unnecessary gradient computations and memory usage for tensors with requires_grad=True\n",
        "    with torch.no_grad():\n",
        "        for X, y in dataloader:\n",
        "            pred = model(X)\n",
        "            test_loss += loss_fn(pred, y).item()\n",
        "            correct += (pred.argmax(1) == y).type(torch.float).sum().item()\n",
        "\n",
        "    test_loss /= num_batches\n",
        "    correct /= size\n",
        "    print(f\"Test Error: \\n Accuracy: {(100*correct):>0.1f}%, Avg loss: {test_loss:>8f} \\n\")"
      ],
      "metadata": {
        "id": "2Dwloq6wxDm6"
      },
      "execution_count": null,
      "outputs": []
    },
    {
      "cell_type": "code",
      "source": [
        "loss_fn = nn.CrossEntropyLoss()\n",
        "optimizer = torch.optim.SGD(model.parameters(), lr=learning_rate)\n",
        "\n",
        "epochs = 10\n",
        "for t in range(epochs):\n",
        "    print(f\"Epoch {t+1}\\n-------------------------------\")\n",
        "    train_loop(train_dataloader, model, loss_fn, optimizer)\n",
        "    test_loop(test_dataloader, model, loss_fn)\n",
        "print(\"Done!\")"
      ],
      "metadata": {
        "colab": {
          "base_uri": "https://localhost:8080/"
        },
        "id": "oKHpziWrxKSY",
        "outputId": "7b5dafe3-9b64-49a6-934f-e8fba5c85012"
      },
      "execution_count": null,
      "outputs": [
        {
          "output_type": "stream",
          "name": "stdout",
          "text": [
            "Epoch 1\n",
            "-------------------------------\n",
            "loss: 2.298162  [   64/60000]\n",
            "loss: 2.292771  [ 6464/60000]\n",
            "loss: 2.271546  [12864/60000]\n",
            "loss: 2.266847  [19264/60000]\n",
            "loss: 2.255282  [25664/60000]\n",
            "loss: 2.213435  [32064/60000]\n",
            "loss: 2.223336  [38464/60000]\n",
            "loss: 2.186318  [44864/60000]\n",
            "loss: 2.188391  [51264/60000]\n",
            "loss: 2.154263  [57664/60000]\n",
            "Test Error: \n",
            " Accuracy: 46.3%, Avg loss: 2.152597 \n",
            "\n",
            "Epoch 2\n",
            "-------------------------------\n",
            "loss: 2.158096  [   64/60000]\n",
            "loss: 2.153635  [ 6464/60000]\n",
            "loss: 2.097640  [12864/60000]\n",
            "loss: 2.118165  [19264/60000]\n",
            "loss: 2.072080  [25664/60000]\n",
            "loss: 1.997125  [32064/60000]\n",
            "loss: 2.033505  [38464/60000]\n",
            "loss: 1.951200  [44864/60000]\n",
            "loss: 1.960784  [51264/60000]\n",
            "loss: 1.884257  [57664/60000]\n",
            "Test Error: \n",
            " Accuracy: 60.3%, Avg loss: 1.889145 \n",
            "\n",
            "Epoch 3\n",
            "-------------------------------\n",
            "loss: 1.916196  [   64/60000]\n",
            "loss: 1.889935  [ 6464/60000]\n",
            "loss: 1.778021  [12864/60000]\n",
            "loss: 1.822745  [19264/60000]\n",
            "loss: 1.710232  [25664/60000]\n",
            "loss: 1.650045  [32064/60000]\n",
            "loss: 1.679041  [38464/60000]\n",
            "loss: 1.571979  [44864/60000]\n",
            "loss: 1.600378  [51264/60000]\n",
            "loss: 1.487216  [57664/60000]\n",
            "Test Error: \n",
            " Accuracy: 61.3%, Avg loss: 1.509118 \n",
            "\n",
            "Epoch 4\n",
            "-------------------------------\n",
            "loss: 1.572500  [   64/60000]\n",
            "loss: 1.537920  [ 6464/60000]\n",
            "loss: 1.389822  [12864/60000]\n",
            "loss: 1.466301  [19264/60000]\n",
            "loss: 1.338608  [25664/60000]\n",
            "loss: 1.328973  [32064/60000]\n",
            "loss: 1.350403  [38464/60000]\n",
            "loss: 1.262919  [44864/60000]\n",
            "loss: 1.304058  [51264/60000]\n",
            "loss: 1.206077  [57664/60000]\n",
            "Test Error: \n",
            " Accuracy: 62.8%, Avg loss: 1.230184 \n",
            "\n",
            "Epoch 5\n",
            "-------------------------------\n",
            "loss: 1.303562  [   64/60000]\n",
            "loss: 1.290812  [ 6464/60000]\n",
            "loss: 1.123922  [12864/60000]\n",
            "loss: 1.237306  [19264/60000]\n",
            "loss: 1.105819  [25664/60000]\n",
            "loss: 1.125156  [32064/60000]\n",
            "loss: 1.157764  [38464/60000]\n",
            "loss: 1.079616  [44864/60000]\n",
            "loss: 1.125818  [51264/60000]\n",
            "loss: 1.051740  [57664/60000]\n",
            "Test Error: \n",
            " Accuracy: 64.5%, Avg loss: 1.066708 \n",
            "\n",
            "Epoch 6\n",
            "-------------------------------\n",
            "loss: 1.130610  [   64/60000]\n",
            "loss: 1.143588  [ 6464/60000]\n",
            "loss: 0.957321  [12864/60000]\n",
            "loss: 1.101508  [19264/60000]\n",
            "loss: 0.970260  [25664/60000]\n",
            "loss: 0.994676  [32064/60000]\n",
            "loss: 1.045278  [38464/60000]\n",
            "loss: 0.969525  [44864/60000]\n",
            "loss: 1.015779  [51264/60000]\n",
            "loss: 0.959378  [57664/60000]\n",
            "Test Error: \n",
            " Accuracy: 65.8%, Avg loss: 0.966102 \n",
            "\n",
            "Epoch 7\n",
            "-------------------------------\n",
            "loss: 1.015925  [   64/60000]\n",
            "loss: 1.052278  [ 6464/60000]\n",
            "loss: 0.847293  [12864/60000]\n",
            "loss: 1.013089  [19264/60000]\n",
            "loss: 0.887453  [25664/60000]\n",
            "loss: 0.904686  [32064/60000]\n",
            "loss: 0.973809  [38464/60000]\n",
            "loss: 0.899562  [44864/60000]\n",
            "loss: 0.941711  [51264/60000]\n",
            "loss: 0.897946  [57664/60000]\n",
            "Test Error: \n",
            " Accuracy: 67.0%, Avg loss: 0.898546 \n",
            "\n",
            "Epoch 8\n",
            "-------------------------------\n",
            "loss: 0.932868  [   64/60000]\n",
            "loss: 0.989231  [ 6464/60000]\n",
            "loss: 0.768814  [12864/60000]\n",
            "loss: 0.950247  [19264/60000]\n",
            "loss: 0.832024  [25664/60000]\n",
            "loss: 0.838919  [32064/60000]\n",
            "loss: 0.923257  [38464/60000]\n",
            "loss: 0.852615  [44864/60000]\n",
            "loss: 0.888624  [51264/60000]\n",
            "loss: 0.853120  [57664/60000]\n",
            "Test Error: \n",
            " Accuracy: 68.5%, Avg loss: 0.849784 \n",
            "\n",
            "Epoch 9\n",
            "-------------------------------\n",
            "loss: 0.868866  [   64/60000]\n",
            "loss: 0.941413  [ 6464/60000]\n",
            "loss: 0.709714  [12864/60000]\n",
            "loss: 0.902750  [19264/60000]\n",
            "loss: 0.791849  [25664/60000]\n",
            "loss: 0.788759  [32064/60000]\n",
            "loss: 0.884298  [38464/60000]\n",
            "loss: 0.819687  [44864/60000]\n",
            "loss: 0.848627  [51264/60000]\n",
            "loss: 0.818160  [57664/60000]\n",
            "Test Error: \n",
            " Accuracy: 69.7%, Avg loss: 0.812507 \n",
            "\n",
            "Epoch 10\n",
            "-------------------------------\n",
            "loss: 0.817577  [   64/60000]\n",
            "loss: 0.902571  [ 6464/60000]\n",
            "loss: 0.663376  [12864/60000]\n",
            "loss: 0.865560  [19264/60000]\n",
            "loss: 0.761038  [25664/60000]\n",
            "loss: 0.749777  [32064/60000]\n",
            "loss: 0.852343  [38464/60000]\n",
            "loss: 0.795090  [44864/60000]\n",
            "loss: 0.817286  [51264/60000]\n",
            "loss: 0.789729  [57664/60000]\n",
            "Test Error: \n",
            " Accuracy: 70.7%, Avg loss: 0.782585 \n",
            "\n",
            "Done!\n"
          ]
        }
      ]
    },
    {
      "cell_type": "code",
      "source": [],
      "metadata": {
        "id": "acrOg0gzxRmG"
      },
      "execution_count": null,
      "outputs": []
    }
  ]
}