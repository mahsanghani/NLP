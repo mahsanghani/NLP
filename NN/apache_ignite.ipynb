{
  "nbformat": 4,
  "nbformat_minor": 0,
  "metadata": {
    "colab": {
      "provenance": []
    },
    "kernelspec": {
      "name": "python3",
      "display_name": "Python 3"
    },
    "language_info": {
      "name": "python"
    }
  },
  "cells": [
    {
      "cell_type": "code",
      "execution_count": null,
      "metadata": {
        "id": "Q9puQRBc8rFv"
      },
      "outputs": [],
      "source": [
        "import tensorflow as tf\n",
        "from tensorflow.contrib.ignite import IgniteDataset\n",
        "tf.enable_eager_execution()\n",
        "\n",
        "dataset = IgniteDataset(cache_name=\"SQL_PUBLIC_KITTEN_CACHE\")\n",
        "\n",
        "for element in dataset:\n",
        "  print(element)"
      ]
    },
    {
      "cell_type": "code",
      "source": [
        "import tensorflow as tf\n",
        "from tensorflow.contrib.ignite import IgniteDataset\n",
        "tf.enable_eager_execution()\n",
        "\n",
        "dataset = IgniteDataset(cache_name=\"IMAGES\")\n",
        "\n",
        "for element in dataset.take(1):\n",
        "  print(element)"
      ],
      "metadata": {
        "id": "HF-o8KNe8ugo"
      },
      "execution_count": null,
      "outputs": []
    },
    {
      "cell_type": "code",
      "source": [
        "import tensorflow as tf\n",
        "from tensorflow.contrib.ignite import IgniteDataset\n",
        "tf.enable_eager_execution()\n",
        "\n",
        "dataset = IgniteDataset(cache_name=\"IMAGES\").map(lambda obj: obj['val']['pixels'])\n",
        "\n",
        "for element in dataset:\n",
        "  print(element)"
      ],
      "metadata": {
        "id": "3wsEVV1z8z1_"
      },
      "execution_count": null,
      "outputs": []
    },
    {
      "cell_type": "code",
      "source": [
        "import tensorflow as tf\n",
        "from tensorflow.contrib.ignite import IgniteDataset\n",
        "\n",
        "dataset = IgniteDataset(\"IMAGES\")\n",
        "\n",
        "# Compute gradients locally on every worker node.\n",
        "gradients = []\n",
        "for i in range(5):\n",
        "  with tf.device(\"/job:WORKER/task:%d\" % i):\n",
        "    device_iterator = tf.compat.v1.data.make_one_shot_iterator(dataset)\n",
        "    device_next_obj = device_iterator.get_next()\n",
        "    gradient = compute_gradient(device_next_obj)\n",
        "    gradients.append(gradient)\n",
        "\n",
        "# Aggregate them on master node.\n",
        "result_gradient = tf.reduce_sum(gradients)\n",
        "\n",
        "with tf.Session(\"grpc://localhost:10000\") as sess:\n",
        "  print(sess.run(result_gradient))"
      ],
      "metadata": {
        "id": "8Q59h9EC82QT"
      },
      "execution_count": null,
      "outputs": []
    },
    {
      "cell_type": "code",
      "source": [
        "import tensorflow as tf\n",
        "from tensorflow.contrib.ignite import IgniteDataset\n",
        "tf.enable_eager_execution()\n",
        "\n",
        "dataset = IgniteDataset(cache_name=\"IMAGES\",\n",
        "                        certfile=\"client.pem\",\n",
        "                        cert_password=\"password\",\n",
        "                        username=\"ignite\",\n",
        "                        password=\"ignite\")"
      ],
      "metadata": {
        "id": "T0XzZpSy833d"
      },
      "execution_count": null,
      "outputs": []
    },
    {
      "cell_type": "code",
      "source": [
        "import tensorflow as tf\n",
        "import tensorflow.contrib.ignite.python.ops.igfs_ops\n",
        "\n",
        "with tf.gfile.Open(\"igfs:///hello.txt\", mode='w') as w:\n",
        "  w.write(\"Hello, world!\")\n",
        "\n",
        "with tf.gfile.Open(\"igfs:///hello.txt\", mode='r') as r:\n",
        "  print(r.read())"
      ],
      "metadata": {
        "id": "ewnAX05P871B"
      },
      "execution_count": null,
      "outputs": []
    },
    {
      "cell_type": "code",
      "source": [],
      "metadata": {
        "id": "DOTIoPpB89HN"
      },
      "execution_count": null,
      "outputs": []
    }
  ]
}