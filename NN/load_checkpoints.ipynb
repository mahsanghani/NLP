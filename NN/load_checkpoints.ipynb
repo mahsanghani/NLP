{
  "nbformat": 4,
  "nbformat_minor": 0,
  "metadata": {
    "colab": {
      "provenance": []
    },
    "kernelspec": {
      "name": "python3",
      "display_name": "Python 3"
    },
    "language_info": {
      "name": "python"
    }
  },
  "cells": [
    {
      "cell_type": "code",
      "execution_count": 1,
      "metadata": {
        "colab": {
          "base_uri": "https://localhost:8080/"
        },
        "id": "QCkcdmyo7xPl",
        "outputId": "04c4fdd3-8715-49f6-9034-83134b84eb66"
      },
      "outputs": [
        {
          "output_type": "stream",
          "name": "stdout",
          "text": [
            "\u001b[2K     \u001b[90m━━━━━━━━━━━━━━━━━━━━━━━━━━━━━━━━━━━━━━━━\u001b[0m \u001b[32m51.8/51.8 kB\u001b[0m \u001b[31m1.5 MB/s\u001b[0m eta \u001b[36m0:00:00\u001b[0m\n",
            "\u001b[2K     \u001b[90m━━━━━━━━━━━━━━━━━━━━━━━━━━━━━━━━━━━━━━━━\u001b[0m \u001b[32m43.6/43.6 kB\u001b[0m \u001b[31m1.6 MB/s\u001b[0m eta \u001b[36m0:00:00\u001b[0m\n",
            "\u001b[?25h  Preparing metadata (setup.py) ... \u001b[?25l\u001b[?25hdone\n",
            "\u001b[2K   \u001b[90m━━━━━━━━━━━━━━━━━━━━━━━━━━━━━━━━━━━━━━━━\u001b[0m \u001b[32m2.9/2.9 MB\u001b[0m \u001b[31m30.7 MB/s\u001b[0m eta \u001b[36m0:00:00\u001b[0m\n",
            "\u001b[2K   \u001b[90m━━━━━━━━━━━━━━━━━━━━━━━━━━━━━━━━━━━━━━━━\u001b[0m \u001b[32m242.5/242.5 kB\u001b[0m \u001b[31m10.0 MB/s\u001b[0m eta \u001b[36m0:00:00\u001b[0m\n",
            "\u001b[2K   \u001b[90m━━━━━━━━━━━━━━━━━━━━━━━━━━━━━━━━━━━━━━━━\u001b[0m \u001b[32m5.2/5.2 MB\u001b[0m \u001b[31m50.6 MB/s\u001b[0m eta \u001b[36m0:00:00\u001b[0m\n",
            "\u001b[2K   \u001b[90m━━━━━━━━━━━━━━━━━━━━━━━━━━━━━━━━━━━━━━━━\u001b[0m \u001b[32m104.0/104.0 kB\u001b[0m \u001b[31m5.5 MB/s\u001b[0m eta \u001b[36m0:00:00\u001b[0m\n",
            "\u001b[?25h  Building wheel for seqeval (setup.py) ... \u001b[?25l\u001b[?25hdone\n"
          ]
        }
      ],
      "source": [
        "!pip install -U -q \"tf-models-official\""
      ]
    },
    {
      "cell_type": "code",
      "source": [
        "import os\n",
        "import yaml\n",
        "import json\n",
        "\n",
        "import tensorflow as tf\n",
        "import tensorflow_models as tfm\n",
        "\n",
        "from official.core import exp_factory"
      ],
      "metadata": {
        "id": "W78bLCI88yTy"
      },
      "execution_count": 2,
      "outputs": []
    },
    {
      "cell_type": "code",
      "source": [
        "# @title Download Checkpoint of the Selected Model { display-mode: \"form\", run: \"auto\" }\n",
        "model_display_name = 'BERT-base uncased English'  # @param ['BERT-base uncased English','BERT-base cased English','BERT-large uncased English', 'BERT-large cased English', 'BERT-large, Uncased (Whole Word Masking)', 'BERT-large, Cased (Whole Word Masking)', 'BERT-base MultiLingual','BERT-base Chinese']\n",
        "\n",
        "if model_display_name == 'BERT-base uncased English':\n",
        "  !wget \"https://storage.googleapis.com/tf_model_garden/nlp/bert/v3/uncased_L-12_H-768_A-12.tar.gz\"\n",
        "  !tar -xvf \"uncased_L-12_H-768_A-12.tar.gz\"\n",
        "elif model_display_name == 'BERT-base cased English':\n",
        "  !wget \"https://storage.googleapis.com/tf_model_garden/nlp/bert/v3/cased_L-12_H-768_A-12.tar.gz\"\n",
        "  !tar -xvf \"cased_L-12_H-768_A-12.tar.gz\"\n",
        "elif model_display_name == \"BERT-large uncased English\":\n",
        "  !wget \"https://storage.googleapis.com/tf_model_garden/nlp/bert/v3/uncased_L-24_H-1024_A-16.tar.gz\"\n",
        "  !tar -xvf \"uncased_L-24_H-1024_A-16.tar.gz\"\n",
        "elif model_display_name == \"BERT-large cased English\":\n",
        "  !wget \"https://storage.googleapis.com/tf_model_garden/nlp/bert/v3/cased_L-24_H-1024_A-16.tar.gz\"\n",
        "  !tar -xvf \"cased_L-24_H-1024_A-16.tar.gz\"\n",
        "elif model_display_name == \"BERT-large, Uncased (Whole Word Masking)\":\n",
        "  !wget \"https://storage.googleapis.com/tf_model_garden/nlp/bert/v3/wwm_uncased_L-24_H-1024_A-16.tar.gz\"\n",
        "  !tar -xvf \"wwm_uncased_L-24_H-1024_A-16.tar.gz\"\n",
        "elif model_display_name == \"BERT-large, Cased (Whole Word Masking)\":\n",
        "  !wget \"https://storage.googleapis.com/tf_model_garden/nlp/bert/v3/wwm_cased_L-24_H-1024_A-16.tar.gz\"\n",
        "  !tar -xvf \"wwm_cased_L-24_H-1024_A-16.tar.gz\"\n",
        "elif model_display_name == \"BERT-base MultiLingual\":\n",
        "  !wget \"https://storage.googleapis.com/tf_model_garden/nlp/bert/v3/multi_cased_L-12_H-768_A-12.tar.gz\"\n",
        "  !tar -xvf \"multi_cased_L-12_H-768_A-12.tar.gz\"\n",
        "elif model_display_name == \"BERT-base Chinese\":\n",
        "  !wget \"https://storage.googleapis.com/tf_model_garden/nlp/bert/v3/chinese_L-12_H-768_A-12.tar.gz\"\n",
        "  !tar -xvf \"chinese_L-12_H-768_A-12.tar.gz\""
      ],
      "metadata": {
        "colab": {
          "base_uri": "https://localhost:8080/"
        },
        "id": "gAVvLaI080Lj",
        "outputId": "3a489cd3-a1e3-4ad2-d73d-39deb827af6b"
      },
      "execution_count": 3,
      "outputs": [
        {
          "output_type": "stream",
          "name": "stdout",
          "text": [
            "--2024-09-11 16:38:54--  https://storage.googleapis.com/tf_model_garden/nlp/bert/v3/cased_L-12_H-768_A-12.tar.gz\n",
            "Resolving storage.googleapis.com (storage.googleapis.com)... 74.125.199.207, 74.125.142.207, 74.125.195.207, ...\n",
            "Connecting to storage.googleapis.com (storage.googleapis.com)|74.125.199.207|:443... connected.\n",
            "HTTP request sent, awaiting response... 200 OK\n",
            "Length: 401886728 (383M) [application/octet-stream]\n",
            "Saving to: ‘cased_L-12_H-768_A-12.tar.gz’\n",
            "\n",
            "cased_L-12_H-768_A- 100%[===================>] 383.27M  32.8MB/s    in 13s     \n",
            "\n",
            "2024-09-11 16:39:07 (30.1 MB/s) - ‘cased_L-12_H-768_A-12.tar.gz’ saved [401886728/401886728]\n",
            "\n",
            "cased_L-12_H-768_A-12/\n",
            "cased_L-12_H-768_A-12/vocab.txt\n",
            "cased_L-12_H-768_A-12/bert_model.ckpt.index\n",
            "cased_L-12_H-768_A-12/bert_model.ckpt.data-00000-of-00001\n",
            "cased_L-12_H-768_A-12/params.yaml\n",
            "cased_L-12_H-768_A-12/bert_config.json\n"
          ]
        }
      ]
    },
    {
      "cell_type": "code",
      "source": [
        "# Lookup table of the directory name corresponding to each model checkpoint\n",
        "folder_bert_dict = {\n",
        "    'BERT-base uncased English': 'uncased_L-12_H-768_A-12',\n",
        "    'BERT-base cased English': 'cased_L-12_H-768_A-12',\n",
        "    'BERT-large uncased English': 'uncased_L-24_H-1024_A-16',\n",
        "    'BERT-large cased English': 'cased_L-24_H-1024_A-16',\n",
        "    'BERT-large, Uncased (Whole Word Masking)': 'wwm_uncased_L-24_H-1024_A-16',\n",
        "    'BERT-large, Cased (Whole Word Masking)': 'wwm_cased_L-24_H-1024_A-16',\n",
        "    'BERT-base MultiLingual': 'multi_cased_L-12_H-768_A-1',\n",
        "    'BERT-base Chinese': 'chinese_L-12_H-768_A-12'\n",
        "}\n",
        "\n",
        "folder_bert = folder_bert_dict.get(model_display_name)\n",
        "folder_bert"
      ],
      "metadata": {
        "colab": {
          "base_uri": "https://localhost:8080/",
          "height": 35
        },
        "id": "61V1fpDP81RE",
        "outputId": "dd0e4fbf-c8e5-4844-8ce2-b939dc05ca5f"
      },
      "execution_count": 4,
      "outputs": [
        {
          "output_type": "execute_result",
          "data": {
            "text/plain": [
              "'cased_L-12_H-768_A-12'"
            ],
            "application/vnd.google.colaboratory.intrinsic+json": {
              "type": "string"
            }
          },
          "metadata": {},
          "execution_count": 4
        }
      ]
    },
    {
      "cell_type": "code",
      "source": [
        "config_file = os.path.join(folder_bert, \"params.yaml\")\n",
        "config_dict = yaml.safe_load(tf.io.gfile.GFile(config_file).read())\n",
        "config_dict"
      ],
      "metadata": {
        "colab": {
          "base_uri": "https://localhost:8080/"
        },
        "id": "2UCpmlcB83n_",
        "outputId": "a32f5440-58c2-4ab8-8310-78c18e69917a"
      },
      "execution_count": 5,
      "outputs": [
        {
          "output_type": "execute_result",
          "data": {
            "text/plain": [
              "{'task': {'model': {'encoder': {'bert': {'attention_dropout_rate': 0.1,\n",
              "     'dropout_rate': 0.1,\n",
              "     'hidden_activation': 'gelu',\n",
              "     'hidden_size': 768,\n",
              "     'initializer_range': 0.02,\n",
              "     'intermediate_size': 3072,\n",
              "     'max_position_embeddings': 512,\n",
              "     'num_attention_heads': 12,\n",
              "     'num_layers': 12,\n",
              "     'type_vocab_size': 2,\n",
              "     'vocab_size': 28996},\n",
              "    'type': 'bert'}}}}"
            ]
          },
          "metadata": {},
          "execution_count": 5
        }
      ]
    },
    {
      "cell_type": "code",
      "source": [
        "# Method 1: pass encoder config dict into EncoderConfig\n",
        "encoder_config = tfm.nlp.encoders.EncoderConfig(config_dict[\"task\"][\"model\"][\"encoder\"])\n",
        "encoder_config.get().as_dict()"
      ],
      "metadata": {
        "colab": {
          "base_uri": "https://localhost:8080/"
        },
        "id": "MsIXt4-49IKs",
        "outputId": "45232d9b-e5d9-40d8-b529-4404f2c0f387"
      },
      "execution_count": 6,
      "outputs": [
        {
          "output_type": "execute_result",
          "data": {
            "text/plain": [
              "{'vocab_size': 28996,\n",
              " 'hidden_size': 768,\n",
              " 'num_layers': 12,\n",
              " 'num_attention_heads': 12,\n",
              " 'hidden_activation': 'gelu',\n",
              " 'intermediate_size': 3072,\n",
              " 'dropout_rate': 0.1,\n",
              " 'attention_dropout_rate': 0.1,\n",
              " 'max_position_embeddings': 512,\n",
              " 'type_vocab_size': 2,\n",
              " 'initializer_range': 0.02,\n",
              " 'embedding_size': None,\n",
              " 'output_range': None,\n",
              " 'return_all_encoder_outputs': False,\n",
              " 'return_attention_scores': False,\n",
              " 'return_word_embeddings': False,\n",
              " 'norm_first': False}"
            ]
          },
          "metadata": {},
          "execution_count": 6
        }
      ]
    },
    {
      "cell_type": "code",
      "source": [
        "# Method 2: use override_params_dict function to override default Encoder params\n",
        "encoder_config = tfm.nlp.encoders.EncoderConfig()\n",
        "tfm.hyperparams.override_params_dict(encoder_config, config_dict[\"task\"][\"model\"][\"encoder\"], is_strict=True)\n",
        "encoder_config.get().as_dict()"
      ],
      "metadata": {
        "colab": {
          "base_uri": "https://localhost:8080/"
        },
        "id": "aLOjcne49Ji3",
        "outputId": "e4b1e7a2-f8da-4f83-8309-efd0e90b4278"
      },
      "execution_count": 7,
      "outputs": [
        {
          "output_type": "execute_result",
          "data": {
            "text/plain": [
              "{'vocab_size': 28996,\n",
              " 'hidden_size': 768,\n",
              " 'num_layers': 12,\n",
              " 'num_attention_heads': 12,\n",
              " 'hidden_activation': 'gelu',\n",
              " 'intermediate_size': 3072,\n",
              " 'dropout_rate': 0.1,\n",
              " 'attention_dropout_rate': 0.1,\n",
              " 'max_position_embeddings': 512,\n",
              " 'type_vocab_size': 2,\n",
              " 'initializer_range': 0.02,\n",
              " 'embedding_size': None,\n",
              " 'output_range': None,\n",
              " 'return_all_encoder_outputs': False,\n",
              " 'return_attention_scores': False,\n",
              " 'return_word_embeddings': False,\n",
              " 'norm_first': False}"
            ]
          },
          "metadata": {},
          "execution_count": 7
        }
      ]
    },
    {
      "cell_type": "code",
      "source": [
        "bert_config_file = os.path.join(folder_bert, \"bert_config.json\")\n",
        "config_dict = json.loads(tf.io.gfile.GFile(bert_config_file).read())\n",
        "config_dict"
      ],
      "metadata": {
        "colab": {
          "base_uri": "https://localhost:8080/"
        },
        "id": "SYtmdvm79K53",
        "outputId": "dd389d05-956d-4f80-ec4a-dc3520060f79"
      },
      "execution_count": 8,
      "outputs": [
        {
          "output_type": "execute_result",
          "data": {
            "text/plain": [
              "{'hidden_size': 768,\n",
              " 'initializer_range': 0.02,\n",
              " 'intermediate_size': 3072,\n",
              " 'max_position_embeddings': 512,\n",
              " 'num_attention_heads': 12,\n",
              " 'num_layers': 12,\n",
              " 'type_vocab_size': 2,\n",
              " 'vocab_size': 28996,\n",
              " 'hidden_activation': 'gelu',\n",
              " 'dropout_rate': 0.1,\n",
              " 'attention_dropout_rate': 0.1}"
            ]
          },
          "metadata": {},
          "execution_count": 8
        }
      ]
    },
    {
      "cell_type": "code",
      "source": [
        "encoder_config = tfm.nlp.encoders.EncoderConfig({\n",
        "    'type':'bert',\n",
        "    'bert': config_dict\n",
        "})\n",
        "\n",
        "encoder_config.get().as_dict()"
      ],
      "metadata": {
        "colab": {
          "base_uri": "https://localhost:8080/"
        },
        "id": "DUBiSsEx9L8R",
        "outputId": "cd932468-5c94-4272-b79d-98dcc8beaa28"
      },
      "execution_count": 9,
      "outputs": [
        {
          "output_type": "execute_result",
          "data": {
            "text/plain": [
              "{'vocab_size': 28996,\n",
              " 'hidden_size': 768,\n",
              " 'num_layers': 12,\n",
              " 'num_attention_heads': 12,\n",
              " 'hidden_activation': 'gelu',\n",
              " 'intermediate_size': 3072,\n",
              " 'dropout_rate': 0.1,\n",
              " 'attention_dropout_rate': 0.1,\n",
              " 'max_position_embeddings': 512,\n",
              " 'type_vocab_size': 2,\n",
              " 'initializer_range': 0.02,\n",
              " 'embedding_size': None,\n",
              " 'output_range': None,\n",
              " 'return_all_encoder_outputs': False,\n",
              " 'return_attention_scores': False,\n",
              " 'return_word_embeddings': False,\n",
              " 'norm_first': False}"
            ]
          },
          "metadata": {},
          "execution_count": 9
        }
      ]
    },
    {
      "cell_type": "code",
      "source": [
        "bert_encoder = tfm.nlp.encoders.build_encoder(encoder_config)\n",
        "bert_classifier = tfm.nlp.models.BertClassifier(network=bert_encoder, num_classes=2)\n",
        "\n",
        "tf.keras.utils.plot_model(bert_classifier)"
      ],
      "metadata": {
        "colab": {
          "base_uri": "https://localhost:8080/",
          "height": 164
        },
        "id": "K4mAkVN_9NBJ",
        "outputId": "78625688-bac4-4df8-9f82-68fd70e51be4"
      },
      "execution_count": 15,
      "outputs": [
        {
          "output_type": "execute_result",
          "data": {
            "image/png": "[encoded data removed]",
            "text/plain": [
              "<IPython.core.display.Image object>"
            ]
          },
          "metadata": {},
          "execution_count": 15
        }
      ]
    },
    {
      "cell_type": "code",
      "source": [
        "checkpoint = tf.train.Checkpoint(encoder=bert_encoder)\n",
        "checkpoint.read(\n",
        "    os.path.join(folder_bert, 'bert_model.ckpt')).expect_partial().assert_existing_objects_matched()"
      ],
      "metadata": {
        "colab": {
          "base_uri": "https://localhost:8080/"
        },
        "id": "4Y77l1GZ9OPH",
        "outputId": "354f6a1a-316a-4ef8-c804-65b1701bd345"
      },
      "execution_count": 16,
      "outputs": [
        {
          "output_type": "execute_result",
          "data": {
            "text/plain": [
              "<tensorflow.python.checkpoint.checkpoint.CheckpointLoadStatus at 0x7b4319f832e0>"
            ]
          },
          "metadata": {},
          "execution_count": 16
        }
      ]
    },
    {
      "cell_type": "code",
      "source": [
        "# @title Download Checkpoint of the Selected Model { display-mode: \"form\", run: \"auto\" }\n",
        "albert_model_display_name = 'ALBERT-base English'  # @param ['ALBERT-base English', 'ALBERT-large English', 'ALBERT-xlarge English', 'ALBERT-xxlarge English']\n",
        "\n",
        "if albert_model_display_name == 'ALBERT-base English':\n",
        "  !wget \"https://storage.googleapis.com/tf_model_garden/nlp/albert/albert_base.tar.gz\"\n",
        "  !tar -xvf \"albert_base.tar.gz\"\n",
        "elif albert_model_display_name == 'ALBERT-large English':\n",
        "  !wget \"https://storage.googleapis.com/tf_model_garden/nlp/albert/albert_large.tar.gz\"\n",
        "  !tar -xvf \"albert_large.tar.gz\"\n",
        "elif albert_model_display_name == \"ALBERT-xlarge English\":\n",
        "  !wget \"https://storage.googleapis.com/tf_model_garden/nlp/albert/albert_xlarge.tar.gz\"\n",
        "  !tar -xvf \"albert_xlarge.tar.gz\"\n",
        "elif albert_model_display_name == \"ALBERT-xxlarge English\":\n",
        "  !wget \"https://storage.googleapis.com/tf_model_garden/nlp/albert/albert_xxlarge.tar.gz\"\n",
        "  !tar -xvf \"albert_xxlarge.tar.gz\""
      ],
      "metadata": {
        "colab": {
          "base_uri": "https://localhost:8080/"
        },
        "id": "BUEMEAtx9PR9",
        "outputId": "c06bb979-f69f-4adc-f153-4a96640f3e0e"
      },
      "execution_count": 12,
      "outputs": [
        {
          "output_type": "stream",
          "name": "stdout",
          "text": [
            "--2024-09-11 16:40:22--  https://storage.googleapis.com/tf_model_garden/nlp/albert/albert_xxlarge.tar.gz\n",
            "Resolving storage.googleapis.com (storage.googleapis.com)... 172.253.117.207, 142.250.99.207, 74.125.20.207, ...\n",
            "Connecting to storage.googleapis.com (storage.googleapis.com)|172.253.117.207|:443... connected.\n",
            "HTTP request sent, awaiting response... 200 OK\n",
            "Length: 826059238 (788M) [application/octet-stream]\n",
            "Saving to: ‘albert_xxlarge.tar.gz’\n",
            "\n",
            "albert_xxlarge.tar. 100%[===================>] 787.79M  44.4MB/s    in 15s     \n",
            "\n",
            "2024-09-11 16:40:38 (51.6 MB/s) - ‘albert_xxlarge.tar.gz’ saved [826059238/826059238]\n",
            "\n",
            "albert_xxlarge/\n",
            "albert_xxlarge/bert_model.ckpt.index\n",
            "albert_xxlarge/30k-clean.model\n",
            "albert_xxlarge/30k-clean.vocab\n",
            "albert_xxlarge/bert_model.ckpt.data-00000-of-00001\n",
            "albert_xxlarge/params.yaml\n",
            "albert_xxlarge/albert_config.json\n"
          ]
        }
      ]
    },
    {
      "cell_type": "code",
      "source": [
        "# Lookup table of the directory name corresponding to each model checkpoint\n",
        "folder_albert_dict = {\n",
        "    'ALBERT-base English': 'albert_base',\n",
        "    'ALBERT-large English': 'albert_large',\n",
        "    'ALBERT-xlarge English': 'albert_xlarge',\n",
        "    'ALBERT-xxlarge English': 'albert_xxlarge'\n",
        "}\n",
        "\n",
        "folder_albert = folder_albert_dict.get(albert_model_display_name)\n",
        "folder_albert"
      ],
      "metadata": {
        "colab": {
          "base_uri": "https://localhost:8080/",
          "height": 35
        },
        "id": "NrOTlwFj9QP6",
        "outputId": "a726cba1-bd15-480f-dbaa-34045084a885"
      },
      "execution_count": 13,
      "outputs": [
        {
          "output_type": "execute_result",
          "data": {
            "text/plain": [
              "'albert_xxlarge'"
            ],
            "application/vnd.google.colaboratory.intrinsic+json": {
              "type": "string"
            }
          },
          "metadata": {},
          "execution_count": 13
        }
      ]
    },
    {
      "cell_type": "code",
      "source": [
        "config_file = os.path.join(folder_albert, \"params.yaml\")\n",
        "config_dict = yaml.safe_load(tf.io.gfile.GFile(config_file).read())\n",
        "config_dict"
      ],
      "metadata": {
        "colab": {
          "base_uri": "https://localhost:8080/"
        },
        "id": "JXS_JX8o9Sy9",
        "outputId": "ed94a496-2eaa-463b-e152-f0f1c0366179"
      },
      "execution_count": 14,
      "outputs": [
        {
          "output_type": "execute_result",
          "data": {
            "text/plain": [
              "{'task': {'model': {'encoder': {'albert': {'attention_dropout_rate': 0.0,\n",
              "     'dropout_rate': 0.0,\n",
              "     'embedding_width': 128,\n",
              "     'hidden_activation': 'gelu',\n",
              "     'hidden_size': 4096,\n",
              "     'initializer_range': 0.02,\n",
              "     'intermediate_size': 16384,\n",
              "     'max_position_embeddings': 512,\n",
              "     'num_attention_heads': 64,\n",
              "     'num_layers': 12,\n",
              "     'type_vocab_size': 2,\n",
              "     'vocab_size': 30000},\n",
              "    'type': 'albert'}}}}"
            ]
          },
          "metadata": {},
          "execution_count": 14
        }
      ]
    },
    {
      "cell_type": "code",
      "source": [
        "# Method 1: pass encoder config dict into EncoderConfig\n",
        "encoder_config = tfm.nlp.encoders.EncoderConfig(config_dict[\"task\"][\"model\"][\"encoder\"])\n",
        "encoder_config.get().as_dict()"
      ],
      "metadata": {
        "colab": {
          "base_uri": "https://localhost:8080/"
        },
        "id": "KUaIyVtk9Uuj",
        "outputId": "c96cd3eb-5c64-4d38-dd87-d69159e5d8a1"
      },
      "execution_count": 17,
      "outputs": [
        {
          "output_type": "execute_result",
          "data": {
            "text/plain": [
              "{'vocab_size': 30000,\n",
              " 'embedding_width': 128,\n",
              " 'hidden_size': 4096,\n",
              " 'num_layers': 12,\n",
              " 'num_attention_heads': 64,\n",
              " 'hidden_activation': 'gelu',\n",
              " 'intermediate_size': 16384,\n",
              " 'dropout_rate': 0.0,\n",
              " 'attention_dropout_rate': 0.0,\n",
              " 'max_position_embeddings': 512,\n",
              " 'type_vocab_size': 2,\n",
              " 'initializer_range': 0.02}"
            ]
          },
          "metadata": {},
          "execution_count": 17
        }
      ]
    },
    {
      "cell_type": "code",
      "source": [
        "# Method 2: use override_params_dict function to override default Encoder params\n",
        "encoder_config = tfm.nlp.encoders.EncoderConfig()\n",
        "tfm.hyperparams.override_params_dict(encoder_config, config_dict[\"task\"][\"model\"][\"encoder\"], is_strict=True)\n",
        "encoder_config.get().as_dict()"
      ],
      "metadata": {
        "colab": {
          "base_uri": "https://localhost:8080/"
        },
        "id": "hcaIx-G79h1A",
        "outputId": "e73f5351-0293-49fa-8be8-8dc0f0523298"
      },
      "execution_count": 18,
      "outputs": [
        {
          "output_type": "execute_result",
          "data": {
            "text/plain": [
              "{'vocab_size': 30000,\n",
              " 'embedding_width': 128,\n",
              " 'hidden_size': 4096,\n",
              " 'num_layers': 12,\n",
              " 'num_attention_heads': 64,\n",
              " 'hidden_activation': 'gelu',\n",
              " 'intermediate_size': 16384,\n",
              " 'dropout_rate': 0.0,\n",
              " 'attention_dropout_rate': 0.0,\n",
              " 'max_position_embeddings': 512,\n",
              " 'type_vocab_size': 2,\n",
              " 'initializer_range': 0.02}"
            ]
          },
          "metadata": {},
          "execution_count": 18
        }
      ]
    },
    {
      "cell_type": "code",
      "source": [
        "albert_config_file = os.path.join(folder_albert, \"albert_config.json\")\n",
        "config_dict = json.loads(tf.io.gfile.GFile(albert_config_file).read())\n",
        "config_dict"
      ],
      "metadata": {
        "colab": {
          "base_uri": "https://localhost:8080/"
        },
        "id": "WIjBLgv69i15",
        "outputId": "bc547dce-b858-4e30-9d96-fa2bed41c3d7"
      },
      "execution_count": 19,
      "outputs": [
        {
          "output_type": "execute_result",
          "data": {
            "text/plain": [
              "{'hidden_size': 4096,\n",
              " 'initializer_range': 0.02,\n",
              " 'intermediate_size': 16384,\n",
              " 'max_position_embeddings': 512,\n",
              " 'num_attention_heads': 64,\n",
              " 'type_vocab_size': 2,\n",
              " 'vocab_size': 30000,\n",
              " 'embedding_width': 128,\n",
              " 'attention_dropout_rate': 0.0,\n",
              " 'dropout_rate': 0.0,\n",
              " 'num_layers': 12,\n",
              " 'hidden_activation': 'gelu'}"
            ]
          },
          "metadata": {},
          "execution_count": 19
        }
      ]
    },
    {
      "cell_type": "code",
      "source": [
        "encoder_config = tfm.nlp.encoders.EncoderConfig({\n",
        "    'type':'albert',\n",
        "    'albert': config_dict\n",
        "})\n",
        "\n",
        "encoder_config.get().as_dict()"
      ],
      "metadata": {
        "colab": {
          "base_uri": "https://localhost:8080/"
        },
        "id": "Tc0piErn9jv3",
        "outputId": "690218df-d484-4f33-edb2-2b7b659c14ae"
      },
      "execution_count": 20,
      "outputs": [
        {
          "output_type": "execute_result",
          "data": {
            "text/plain": [
              "{'vocab_size': 30000,\n",
              " 'embedding_width': 128,\n",
              " 'hidden_size': 4096,\n",
              " 'num_layers': 12,\n",
              " 'num_attention_heads': 64,\n",
              " 'hidden_activation': 'gelu',\n",
              " 'intermediate_size': 16384,\n",
              " 'dropout_rate': 0.0,\n",
              " 'attention_dropout_rate': 0.0,\n",
              " 'max_position_embeddings': 512,\n",
              " 'type_vocab_size': 2,\n",
              " 'initializer_range': 0.02}"
            ]
          },
          "metadata": {},
          "execution_count": 20
        }
      ]
    },
    {
      "cell_type": "code",
      "source": [
        "albert_encoder = tfm.nlp.encoders.build_encoder(encoder_config)\n",
        "albert_classifier = tfm.nlp.models.BertClassifier(network=albert_encoder, num_classes=2)\n",
        "\n",
        "tf.keras.utils.plot_model(albert_classifier)"
      ],
      "metadata": {
        "colab": {
          "base_uri": "https://localhost:8080/",
          "height": 164
        },
        "id": "xWx47BwJ9kpv",
        "outputId": "b38b73d6-c0a5-4927-a6b4-c20ba3666946"
      },
      "execution_count": 21,
      "outputs": [
        {
          "output_type": "execute_result",
          "data": {
            "image/png": "[encoded data removed]",
            "text/plain": [
              "<IPython.core.display.Image object>"
            ]
          },
          "metadata": {},
          "execution_count": 21
        }
      ]
    },
    {
      "cell_type": "code",
      "source": [
        "checkpoint = tf.train.Checkpoint(encoder=albert_encoder)\n",
        "checkpoint.read(\n",
        "    os.path.join(folder_albert, 'bert_model.ckpt')).expect_partial().assert_existing_objects_matched()"
      ],
      "metadata": {
        "colab": {
          "base_uri": "https://localhost:8080/"
        },
        "id": "T1_MsHTX9ljj",
        "outputId": "921e50e5-76aa-4deb-ed95-aea597f30ac9"
      },
      "execution_count": 22,
      "outputs": [
        {
          "output_type": "execute_result",
          "data": {
            "text/plain": [
              "<tensorflow.python.checkpoint.checkpoint.CheckpointLoadStatus at 0x7b4319ce3fd0>"
            ]
          },
          "metadata": {},
          "execution_count": 22
        }
      ]
    },
    {
      "cell_type": "code",
      "source": [
        "# @title Download Checkpoint of the Selected Model { display-mode: \"form\", run: \"auto\" }\n",
        "electra_model_display_name = 'ELECTRA-small English'  # @param ['ELECTRA-small English', 'ELECTRA-base English']\n",
        "\n",
        "if electra_model_display_name == 'ELECTRA-small English':\n",
        "  !wget \"https://storage.googleapis.com/tf_model_garden/nlp/electra/small.tar.gz\"\n",
        "  !tar -xvf \"small.tar.gz\"\n",
        "elif electra_model_display_name == 'ELECTRA-base English':\n",
        "  !wget \"https://storage.googleapis.com/tf_model_garden/nlp/electra/base.tar.gz\"\n",
        "  !tar -xvf \"base.tar.gz\""
      ],
      "metadata": {
        "colab": {
          "base_uri": "https://localhost:8080/"
        },
        "id": "1e0W02u19md5",
        "outputId": "93b6db6e-69c6-4261-8823-3ad556486687"
      },
      "execution_count": 23,
      "outputs": [
        {
          "metadata": {
            "tags": null
          },
          "name": "stdout",
          "output_type": "stream",
          "text": [
            "--2024-09-11 16:41:55--  https://storage.googleapis.com/tf_model_garden/nlp/electra/small.tar.gz\n",
            "Resolving storage.googleapis.com (storage.googleapis.com)... 74.125.195.207, 172.253.117.207, 142.250.99.207, ...\n",
            "Connecting to storage.googleapis.com (storage.googleapis.com)|74.125.195.207|:443... connected.\n",
            "HTTP request sent, awaiting response... 200 OK\n",
            "Length: 157951922 (151M) [application/octet-stream]\n",
            "Saving to: ‘small.tar.gz’\n",
            "\n",
            "small.tar.gz        100%[===================>] 150.63M  72.7MB/s    in 2.1s    \n",
            "\n",
            "2024-09-11 16:41:57 (72.7 MB/s) - ‘small.tar.gz’ saved [157951922/157951922]\n",
            "\n",
            "small/\n",
            "small/ckpt-1000000.data-00000-of-00001\n",
            "small/params.yaml\n",
            "small/checkpoint\n",
            "small/ckpt-1000000.index\n"
          ]
        }
      ]
    },
    {
      "cell_type": "code",
      "source": [
        "# Lookup table of the directory name corresponding to each model checkpoint\n",
        "folder_electra_dict = {\n",
        "    'ELECTRA-small English': 'small',\n",
        "    'ELECTRA-base English': 'base'\n",
        "}\n",
        "\n",
        "folder_electra = folder_electra_dict.get(electra_model_display_name)\n",
        "folder_electra"
      ],
      "metadata": {
        "colab": {
          "base_uri": "https://localhost:8080/",
          "height": 35
        },
        "id": "k6Y4rxuU9nRK",
        "outputId": "caf86af1-550a-48ea-e717-d10b97c3027b"
      },
      "execution_count": 24,
      "outputs": [
        {
          "data": {
            "application/vnd.google.colaboratory.intrinsic+json": {
              "type": "string"
            },
            "text/plain": [
              "'small'"
            ]
          },
          "execution_count": 24,
          "metadata": {},
          "output_type": "execute_result"
        }
      ]
    },
    {
      "cell_type": "code",
      "source": [
        "config_file = os.path.join(folder_electra, \"params.yaml\")\n",
        "config_dict = yaml.safe_load(tf.io.gfile.GFile(config_file).read())\n",
        "config_dict"
      ],
      "metadata": {
        "colab": {
          "base_uri": "https://localhost:8080/"
        },
        "id": "4kmLBRyd9pLk",
        "outputId": "7d82afcb-9278-4a5f-d62e-84ab1905a1ed"
      },
      "execution_count": 25,
      "outputs": [
        {
          "output_type": "execute_result",
          "data": {
            "text/plain": [
              "{'model': {'cls_heads': [{'activation': 'tanh',\n",
              "    'cls_token_idx': 0,\n",
              "    'dropout_rate': 0.1,\n",
              "    'inner_dim': 64,\n",
              "    'name': 'next_sentence',\n",
              "    'num_classes': 2}],\n",
              "  'disallow_correct': False,\n",
              "  'discriminator_encoder': {'type': 'bert',\n",
              "   'bert': {'attention_dropout_rate': 0.1,\n",
              "    'dropout_rate': 0.1,\n",
              "    'embedding_size': 128,\n",
              "    'hidden_activation': 'gelu',\n",
              "    'hidden_size': 256,\n",
              "    'initializer_range': 0.02,\n",
              "    'intermediate_size': 1024,\n",
              "    'max_position_embeddings': 512,\n",
              "    'num_attention_heads': 4,\n",
              "    'num_layers': 12,\n",
              "    'type_vocab_size': 2,\n",
              "    'vocab_size': 30522}},\n",
              "  'discriminator_loss_weight': 50.0,\n",
              "  'generator_encoder': {'type': 'bert',\n",
              "   'bert': {'attention_dropout_rate': 0.1,\n",
              "    'dropout_rate': 0.1,\n",
              "    'embedding_size': 128,\n",
              "    'hidden_activation': 'gelu',\n",
              "    'hidden_size': 64,\n",
              "    'initializer_range': 0.02,\n",
              "    'intermediate_size': 256,\n",
              "    'max_position_embeddings': 512,\n",
              "    'num_attention_heads': 1,\n",
              "    'num_layers': 12,\n",
              "    'type_vocab_size': 2,\n",
              "    'vocab_size': 30522}},\n",
              "  'num_classes': 2,\n",
              "  'num_masked_tokens': 76,\n",
              "  'sequence_length': 512,\n",
              "  'tie_embeddings': True}}"
            ]
          },
          "metadata": {},
          "execution_count": 25
        }
      ]
    },
    {
      "cell_type": "code",
      "source": [
        "disc_encoder_config = tfm.nlp.encoders.EncoderConfig(\n",
        "    config_dict['model']['discriminator_encoder']\n",
        ")\n",
        "\n",
        "disc_encoder_config.get().as_dict()"
      ],
      "metadata": {
        "colab": {
          "base_uri": "https://localhost:8080/"
        },
        "id": "hYvw3uR59qh6",
        "outputId": "9e777f44-47d7-4d8f-c04c-249e33dd1a62"
      },
      "execution_count": 26,
      "outputs": [
        {
          "output_type": "execute_result",
          "data": {
            "text/plain": [
              "{'vocab_size': 30522,\n",
              " 'hidden_size': 256,\n",
              " 'num_layers': 12,\n",
              " 'num_attention_heads': 4,\n",
              " 'hidden_activation': 'gelu',\n",
              " 'intermediate_size': 1024,\n",
              " 'dropout_rate': 0.1,\n",
              " 'attention_dropout_rate': 0.1,\n",
              " 'max_position_embeddings': 512,\n",
              " 'type_vocab_size': 2,\n",
              " 'initializer_range': 0.02,\n",
              " 'embedding_size': 128,\n",
              " 'output_range': None,\n",
              " 'return_all_encoder_outputs': False,\n",
              " 'return_attention_scores': False,\n",
              " 'return_word_embeddings': False,\n",
              " 'norm_first': False}"
            ]
          },
          "metadata": {},
          "execution_count": 26
        }
      ]
    },
    {
      "cell_type": "code",
      "source": [
        "disc_encoder = tfm.nlp.encoders.build_encoder(disc_encoder_config)\n",
        "elctra_dic_classifier = tfm.nlp.models.BertClassifier(network=disc_encoder, num_classes=2)\n",
        "tf.keras.utils.plot_model(elctra_dic_classifier)"
      ],
      "metadata": {
        "colab": {
          "base_uri": "https://localhost:8080/",
          "height": 164
        },
        "id": "MsT9u2DW9r7O",
        "outputId": "0fbcbd5f-359b-437b-8b69-d7a69e5c4a31"
      },
      "execution_count": 27,
      "outputs": [
        {
          "output_type": "execute_result",
          "data": {
            "image/png": "[encoded data removed]",
            "text/plain": [
              "<IPython.core.display.Image object>"
            ]
          },
          "metadata": {},
          "execution_count": 27
        }
      ]
    },
    {
      "cell_type": "code",
      "source": [
        "checkpoint = tf.train.Checkpoint(encoder=disc_encoder)\n",
        "checkpoint.read(\n",
        "    tf.train.latest_checkpoint(os.path.join(folder_electra))\n",
        "    ).expect_partial().assert_existing_objects_matched()"
      ],
      "metadata": {
        "colab": {
          "base_uri": "https://localhost:8080/"
        },
        "id": "7xe-m6qi9s-Z",
        "outputId": "c50c3f1c-ea0a-4974-88e6-6ae6f0f07b79"
      },
      "execution_count": 28,
      "outputs": [
        {
          "output_type": "execute_result",
          "data": {
            "text/plain": [
              "<tensorflow.python.checkpoint.checkpoint.CheckpointLoadStatus at 0x7b4319d1b6d0>"
            ]
          },
          "metadata": {},
          "execution_count": 28
        }
      ]
    },
    {
      "cell_type": "code",
      "source": [],
      "metadata": {
        "id": "znbHw_Ct9t4q"
      },
      "execution_count": null,
      "outputs": []
    }
  ]
}