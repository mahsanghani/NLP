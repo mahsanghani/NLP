{
  "nbformat": 4,
  "nbformat_minor": 0,
  "metadata": {
    "colab": {
      "provenance": []
    },
    "kernelspec": {
      "name": "python3",
      "display_name": "Python 3"
    },
    "language_info": {
      "name": "python"
    }
  },
  "cells": [
    {
      "cell_type": "code",
      "source": [
        "!pip install tensorflow_io"
      ],
      "metadata": {
        "colab": {
          "base_uri": "https://localhost:8080/"
        },
        "id": "baFOGGJuho75",
        "outputId": "c7983c38-4d7f-4885-cfa8-c134c9cc557d"
      },
      "execution_count": 1,
      "outputs": [
        {
          "output_type": "stream",
          "name": "stdout",
          "text": [
            "Collecting tensorflow_io\n",
            "  Downloading tensorflow_io-0.37.1-cp310-cp310-manylinux_2_17_x86_64.manylinux2014_x86_64.whl.metadata (14 kB)\n",
            "Requirement already satisfied: tensorflow-io-gcs-filesystem==0.37.1 in /usr/local/lib/python3.10/dist-packages (from tensorflow_io) (0.37.1)\n",
            "Downloading tensorflow_io-0.37.1-cp310-cp310-manylinux_2_17_x86_64.manylinux2014_x86_64.whl (49.6 MB)\n",
            "\u001b[2K   \u001b[90m━━━━━━━━━━━━━━━━━━━━━━━━━━━━━━━━━━━━━━━━\u001b[0m \u001b[32m49.6/49.6 MB\u001b[0m \u001b[31m10.4 MB/s\u001b[0m eta \u001b[36m0:00:00\u001b[0m\n",
            "\u001b[?25hInstalling collected packages: tensorflow_io\n",
            "Successfully installed tensorflow_io-0.37.1\n"
          ]
        }
      ]
    },
    {
      "cell_type": "code",
      "execution_count": null,
      "metadata": {
        "id": "pmVXDYNHf013",
        "colab": {
          "base_uri": "https://localhost:8080/"
        },
        "outputId": "a8519377-d477-45d7-a335-037502fef11a"
      },
      "outputs": [
        {
          "output_type": "stream",
          "name": "stderr",
          "text": [
            "/usr/local/lib/python3.10/dist-packages/tensorflow_io/python/utils/deprecation.py:58: UserWarning: Use tfio.IODataset.from_kafka(...) instead\n",
            "  warnings.warn(message=message)\n"
          ]
        }
      ],
      "source": [
        "import numpy as np\n",
        "import tensorflow as tf\n",
        "import tensorflow_io.kafka as kafka_io\n",
        "\n",
        "# 1. Consume streaming data with Kafka and TensorFlow I/O\n",
        "def func_x(x):\n",
        "  # Decode image to (28, 28)\n",
        "  x = tf.io.decode_raw(x, out_type=tf.uint8)\n",
        "  x = tf.reshape(x, [28, 28])\n",
        "  # Convert to float32 for tf.keras\n",
        "  x = tf.image.convert_image_dtype(x, tf.float32)\n",
        "  return x\n",
        "def func_y(y):\n",
        "  # Decode image to (,)\n",
        "  y = tf.io.decode_raw(y, out_type=tf.uint8)\n",
        "  y = tf.reshape(y, [])\n",
        "  return y\n",
        "train_images = kafka_io.KafkaDataset(['xx:0'], group='xx', eof=True).map(func_x)\n",
        "train_labels = kafka_io.KafkaDataset(['yy:0'], group='yy', eof=True).map(func_y)\n",
        "train_kafka = tf.data.Dataset.zip((train_images, train_labels)).batch(1)\n",
        "print(train_kafka)\n",
        "\n",
        "# 2. Train Analytic Model with TensorFlow and Keras without an additional Data Store\n",
        "model = tf.keras.Sequential([\n",
        "    tf.keras.layers.Flatten(input_shape=(28, 28)),\n",
        "    tf.keras.layers.Dense(128, activation=tf.nn.relu),\n",
        "    tf.keras.layers.Dense(10, activation=tf.nn.softmax)\n",
        "])\n",
        "model.compile(optimizer='adam',\n",
        "              loss='sparse_categorical_crossentropy',\n",
        "              metrics=['accuracy'])\n",
        "# default: steps_per_epoch=12000\n",
        "model.fit(train_kafka, epochs=5, steps_per_epoch=1000)"
      ]
    },
    {
      "cell_type": "code",
      "source": [],
      "metadata": {
        "id": "EoKM3f14gcqV"
      },
      "execution_count": null,
      "outputs": []
    }
  ]
}