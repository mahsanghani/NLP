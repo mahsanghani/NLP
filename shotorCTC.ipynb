{
  "cells": [
    {
      "cell_type": "markdown",
      "metadata": {
        "id": "2G5bK8BU870A"
      },
      "source": [
        "# Word Level OCR for Persian Language\n",
        "## Based on Recurrent Neural Networks\n",
        "Amirabbas Asadi, amir137825@gmail.com"
      ]
    },
    {
      "cell_type": "markdown",
      "metadata": {
        "id": "SIyqRgeN870E"
      },
      "source": [
        "## Requirements\n",
        "- Pandas, Numpy\n",
        "- Pytorch\n",
        "- OpenCV\n",
        "- imgaug"
      ]
    },
    {
      "cell_type": "markdown",
      "metadata": {
        "id": "DZO2MlML870E"
      },
      "source": [
        "## Dataset\n",
        "I created a Synthetic dataset called Shotor containing 120000 images and correspond words.  \n",
        "[Download The Dataset](https://github.com/amirabbasasadi/Shotor)"
      ]
    },
    {
      "cell_type": "markdown",
      "metadata": {
        "id": "pKbJUA7F870F"
      },
      "source": [
        "## Loading and using images"
      ]
    },
    {
      "cell_type": "code",
      "execution_count": 1,
      "metadata": {
        "id": "9oIkC_He870F"
      },
      "outputs": [],
      "source": [
        "from imgaug import augmenters as iaa\n",
        "import os\n",
        "import torch\n",
        "import pandas as pd\n",
        "from skimage import io, transform\n",
        "import numpy as np\n",
        "import seaborn as sns\n",
        "sns.set()\n",
        "sns.set_style('dark')\n",
        "import matplotlib.pyplot as plt\n",
        "from torch.utils.data import Dataset, DataLoader\n",
        "from torchvision import transforms, utils\n",
        "import torchvision\n",
        "from random import randint"
      ]
    },
    {
      "cell_type": "markdown",
      "metadata": {
        "id": "VeW9ngBT870G"
      },
      "source": [
        "### Some configurations"
      ]
    },
    {
      "cell_type": "code",
      "execution_count": 2,
      "metadata": {
        "id": "N_o9Ut-q870H"
      },
      "outputs": [],
      "source": [
        "img_width = 100\n",
        "img_height = 50\n",
        "img_splits = 20\n",
        "word_max_len = 15\n",
        "device = 'cpu' "
      ]
    },
    {
      "cell_type": "markdown",
      "metadata": {
        "id": "lBOKc-UR870I"
      },
      "source": [
        "### Set dataset path"
      ]
    },
    {
      "cell_type": "code",
      "source": [
        "!mkdir shotor"
      ],
      "metadata": {
        "id": "tvfxojDy-MOE"
      },
      "execution_count": 3,
      "outputs": []
    },
    {
      "cell_type": "code",
      "source": [
        "from google.colab import drive\n",
        "drive.mount('/content/drive')"
      ],
      "metadata": {
        "colab": {
          "base_uri": "https://localhost:8080/"
        },
        "id": "3i5RPejo9OjA",
        "outputId": "98cce306-e6d7-4350-ee58-36e38dc24e60"
      },
      "execution_count": 4,
      "outputs": [
        {
          "output_type": "stream",
          "name": "stdout",
          "text": [
            "Mounted at /content/drive\n"
          ]
        }
      ]
    },
    {
      "cell_type": "code",
      "source": [
        "import tarfile\n",
        "file = tarfile.open('/content/drive/MyDrive/NLP/Shotor_Images.tar.gz')\n",
        "file.extractall('/content/shotor/')  \n",
        "file.close()"
      ],
      "metadata": {
        "id": "jSqgLTsV9OlE"
      },
      "execution_count": 5,
      "outputs": []
    },
    {
      "cell_type": "code",
      "execution_count": 6,
      "metadata": {
        "id": "9eK5C-o_870I"
      },
      "outputs": [],
      "source": [
        "dataset_path = '/content/shotor/Shotor_Images/'\n",
        "csv_words_path = '/content/drive/MyDrive/NLP/Shotor_Words.csv'"
      ]
    },
    {
      "cell_type": "markdown",
      "metadata": {
        "id": "usWlfgVI870J"
      },
      "source": [
        "### Creating dataset object\n",
        "It is easier to define a dataset object for using data for Pytorch models"
      ]
    },
    {
      "cell_type": "code",
      "execution_count": 7,
      "metadata": {
        "id": "OmVl0CJ5870J"
      },
      "outputs": [],
      "source": [
        "class PersianOCR(Dataset):\n",
        "    \"\"\"Persian Hand-Written dataset.\"\"\"\n",
        "\n",
        "    def __init__(self, csv_file, root_dir, transform=None):\n",
        "        \"\"\"\n",
        "        Args:\n",
        "            csv_file (string): Path to the csv file with annotations.\n",
        "            root_dir (string): Directory with all the images.\n",
        "            transform (callable, optional): Optional transform to be applied\n",
        "                on a sample.\n",
        "        \"\"\"\n",
        "        self.root_dir = root_dir\n",
        "        self.transform = transform\n",
        "        # read the csv file\n",
        "        self.csv = pd.read_csv(csv_file)\n",
        "    def __len__(self):\n",
        "        return self.csv.shape[0]\n",
        "\n",
        "    def __getitem__(self, idx):\n",
        "        if torch.is_tensor(idx):\n",
        "            idx = idx.tolist()\n",
        "        img_name = os.path.join(self.root_dir,\n",
        "                                self.csv.iloc[idx, 0])\n",
        "        word = self.csv.iloc[idx, 1]\n",
        "        image = io.imread(img_name)\n",
        "        \n",
        "        item = {'image': image, 'word': word}\n",
        "\n",
        "        if self.transform:\n",
        "            item = self.transform(item)\n",
        "\n",
        "        return item\n",
        "\n",
        "dataset = PersianOCR(csv_words_path, dataset_path)"
      ]
    },
    {
      "cell_type": "markdown",
      "metadata": {
        "id": "SJgrStp-870J"
      },
      "source": [
        "### Checking the raw dataset\n",
        "Take a look at some random words from dataset"
      ]
    },
    {
      "cell_type": "code",
      "execution_count": 8,
      "metadata": {
        "colab": {
          "base_uri": "https://localhost:8080/",
          "height": 287
        },
        "id": "MFUufDA2870K",
        "outputId": "dd3362b7-1aa6-4bfb-b1b8-735ce454554e"
      },
      "outputs": [
        {
          "output_type": "display_data",
          "data": {
            "text/plain": [
              "<Figure size 720x864 with 40 Axes>"
            ],
            "image/png": "[encoded data removed]"
          },
          "metadata": {}
        }
      ],
      "source": [
        "from mpl_toolkits.axes_grid1 import ImageGrid\n",
        "fig = plt.figure(figsize=(10., 12.))\n",
        "grid = ImageGrid(fig, 111, nrows_ncols=(4, 5), axes_pad=0.1)\n",
        "\n",
        "images = []\n",
        "for _ in range(20):\n",
        "  images.append(dataset[randint(0, len(dataset)-1)]['image'])\n",
        "\n",
        "for ax, im in zip(grid, images):\n",
        "    ax.imshow(im)\n",
        "plt.show()"
      ]
    },
    {
      "cell_type": "markdown",
      "metadata": {
        "id": "nOP4JZxi870K"
      },
      "source": [
        "### Converting Words and Images to Pytorch Tensors\n",
        "We should define all persian alphabets.\n",
        "Also we define `S` as start token and `E` as end token and `-` as blank character which is used for CTCLoss that we wanna use and is different from space character."
      ]
    },
    {
      "cell_type": "code",
      "execution_count": 9,
      "metadata": {
        "id": "djTIc7S3870L"
      },
      "outputs": [],
      "source": [
        "# define all persian alphabets\n",
        "pchars = \"آ ا ب پ ت ث ج چ ح خ د ذ ر ز ژ س ش ص ض ط ظ ع غ ف ق ک گ ل م ن و ه ی ئ\"\n",
        "pchars = ['-',' ', 'S', 'E'] + pchars.split(' ')\n",
        "letter_to_index = {}\n",
        "for i in range(len(pchars)):\n",
        "  letter_to_index[pchars[i]] = i\n",
        "enc_dim = len(pchars)"
      ]
    },
    {
      "cell_type": "code",
      "execution_count": 10,
      "metadata": {
        "id": "sP_EWpq1870L"
      },
      "outputs": [],
      "source": [
        "class ToTensor(object):\n",
        "    \"\"\"Convert ndarrays in sample to Tensors.\"\"\"\n",
        "    def __call__(self, sample):\n",
        "        image, word = sample['image'], sample['word']\n",
        "        image = image.reshape(-1, img_height, img_width)\n",
        "        if (len(word) > word_max_len):\n",
        "          word = word[:word_max_len]\n",
        "        word = word + 'E'\n",
        "        original_word = [[letter_to_index[c]] for c in word]\n",
        "        return {'image': torch.from_numpy(image).double(),\n",
        "                'word' : torch.LongTensor(original_word)}"
      ]
    },
    {
      "cell_type": "markdown",
      "metadata": {
        "id": "rC27mgMt870L"
      },
      "source": [
        "### Augmentation Pipeline\n",
        "using imgaug we can define an Augmentation pipeline. It helps to train a robust model and useable for more realistic data. It randomly applies some of 5 augmentations."
      ]
    },
    {
      "cell_type": "code",
      "execution_count": 11,
      "metadata": {
        "id": "n9yLo3Fc870L"
      },
      "outputs": [],
      "source": [
        "class ImageAug(object):\n",
        "    \"\"\"Apply Image Augmentation on style and output\"\"\"\n",
        "\n",
        "    def __call__(self, sample):\n",
        "        image, word = sample['image'], sample['word']\n",
        "        aug = iaa.SomeOf((0, 5), [\n",
        "            iaa.Affine(scale={\"x\": (0.80, 1.20), \"y\": (0.80, 1.20)}),\n",
        "            iaa.Affine(translate_percent={\"x\": (-0.2, 0.2), \"y\": (-0.2, 0.2)}),\n",
        "            iaa.Add((-30, 30)),\n",
        "            iaa.Multiply((0.80, 1.20)),\n",
        "            iaa.GaussianBlur(sigma=(0, 0.2))\n",
        "        ])\n",
        "        image = aug(images=image)\n",
        "        return {'image': image,\n",
        "                'word': word}\n"
      ]
    },
    {
      "cell_type": "markdown",
      "metadata": {
        "id": "o2-gILxF870M"
      },
      "source": [
        "### Create Dataset with Transformations"
      ]
    },
    {
      "cell_type": "code",
      "execution_count": 12,
      "metadata": {
        "id": "FxfRzyTq870M"
      },
      "outputs": [],
      "source": [
        "transformed_dataset = PersianOCR(csv_words_path, dataset_path,\n",
        "                                 transform=transforms.Compose([ImageAug(), ToTensor()]))\n",
        "\n",
        "dataloader = DataLoader(transformed_dataset, batch_size=1, shuffle=True)"
      ]
    },
    {
      "cell_type": "markdown",
      "metadata": {
        "id": "fwshwPCM870M"
      },
      "source": [
        "### See some samples from transformed dataset"
      ]
    },
    {
      "cell_type": "code",
      "execution_count": 13,
      "metadata": {
        "colab": {
          "base_uri": "https://localhost:8080/",
          "height": 287
        },
        "id": "TLR_yt8M870M",
        "outputId": "d7b97d8a-55c8-47c6-92a3-6d81c7bad309"
      },
      "outputs": [
        {
          "output_type": "display_data",
          "data": {
            "text/plain": [
              "<Figure size 720x864 with 40 Axes>"
            ],
            "image/png": "[encoded data removed]"
          },
          "metadata": {}
        }
      ],
      "source": [
        "dataiter = iter(dataloader)\n",
        "\n",
        "fig = plt.figure(figsize=(10., 12.))\n",
        "grid = ImageGrid(fig, 111, nrows_ncols=(4, 5), axes_pad=0.1)\n",
        "\n",
        "images = []\n",
        "for _ in range(20):\n",
        "  batch = dataiter.next()\n",
        "  images.append(batch['image'][0][0])\n",
        "\n",
        "for ax, im in zip(grid, images):\n",
        "    ax.imshow(im)\n",
        "\n",
        "plt.show()"
      ]
    },
    {
      "cell_type": "markdown",
      "metadata": {
        "id": "XaCKit3a870M"
      },
      "source": [
        "## Defining a Recurrent Neural Network in Pytorch"
      ]
    },
    {
      "cell_type": "code",
      "execution_count": 14,
      "metadata": {
        "colab": {
          "base_uri": "https://localhost:8080/"
        },
        "id": "BG3Ryf9d870N",
        "outputId": "2f0d2c37-0953-42b9-d83a-a5e0a606d1be"
      },
      "outputs": [
        {
          "output_type": "stream",
          "name": "stdout",
          "text": [
            "OCRNet(\n",
            "  (fc1): Linear(in_features=250, out_features=450, bias=True)\n",
            "  (fc2): Linear(in_features=450, out_features=200, bias=True)\n",
            "  (drop): Dropout(p=0.1, inplace=False)\n",
            "  (act): CELU(alpha=1.0)\n",
            "  (i2h): Linear(in_features=276, out_features=80, bias=True)\n",
            "  (h2h): Linear(in_features=80, out_features=60, bias=True)\n",
            "  (h2h2): Linear(in_features=60, out_features=38, bias=True)\n",
            "  (i2o): Linear(in_features=276, out_features=200, bias=True)\n",
            "  (o2o): Linear(in_features=200, out_features=38, bias=True)\n",
            "  (softmax): LogSoftmax(dim=1)\n",
            ")\n",
            "Number of Parameters:  295526\n"
          ]
        }
      ],
      "source": [
        "import torch.nn as nn\n",
        "\n",
        "class OCRNet(nn.Module):\n",
        "    def __init__(self, img_size, hidden_size):\n",
        "        super(OCRNet, self).__init__()\n",
        "        self.hidden_size = hidden_size\n",
        "        self.img_size = img_size\n",
        "        self.enc_img_size = 200\n",
        "        self.fc1 = nn.Linear(self.img_size, 450)\n",
        "        self.fc2 = nn.Linear(450, self.enc_img_size)\n",
        "        self.drop = nn.Dropout(p=0.1)\n",
        "        self.act = nn.CELU()\n",
        "        self.i2h = nn.Linear(self.enc_img_size + enc_dim + self.hidden_size, 80)\n",
        "        self.h2h = nn.Linear(80, 60)\n",
        "        self.h2h2 = nn.Linear(60, self.hidden_size)\n",
        "        self.i2o = nn.Linear(self.enc_img_size + enc_dim + self.hidden_size, 200)\n",
        "        self.o2o = nn.Linear(200, enc_dim)\n",
        "        self.softmax = nn.LogSoftmax(dim=1)\n",
        "    def forward(self, x, input, hidden):\n",
        "        x = x.reshape((1, -1))\n",
        "        x = self.act(self.fc1(x))\n",
        "        x = self.act(self.fc2(x))\n",
        "        x = self.drop(x)\n",
        "        combined = torch.cat((x, input.view((1, -1)), hidden.view((1, -1))), 1)\n",
        "        hidden = self.act(self.i2h(combined))\n",
        "        hidden = self.act(self.h2h(hidden))\n",
        "        hidden = self.h2h2(hidden)\n",
        "        output = self.act(self.i2o(combined))\n",
        "        output = self.o2o(output)\n",
        "        output = self.softmax(output)\n",
        "        \n",
        "        return output, hidden\n",
        "\n",
        "\n",
        "net = OCRNet(int(img_width/img_splits)*img_height, enc_dim).double()\n",
        "net = net.to(device)\n",
        "print(net)\n",
        "print(\"Number of Parameters: \", sum(p.numel() for p in net.parameters() if p.requires_grad))"
      ]
    },
    {
      "cell_type": "markdown",
      "metadata": {
        "id": "QC4GGGU_870N"
      },
      "source": [
        "## Training The Model"
      ]
    },
    {
      "cell_type": "markdown",
      "metadata": {
        "id": "FrapfhTE870N"
      },
      "source": [
        "### Generating start token"
      ]
    },
    {
      "cell_type": "code",
      "execution_count": 15,
      "metadata": {
        "id": "Wwf3GlOa870N"
      },
      "outputs": [],
      "source": [
        "def get_start_token():\n",
        "  start_token = torch.zeros((1, enc_dim), dtype=torch.double).to(device)\n",
        "  start_token[0][letter_to_index['S']] = 1\n",
        "  return start_token"
      ]
    },
    {
      "cell_type": "markdown",
      "metadata": {
        "id": "xmpxROaB870N"
      },
      "source": [
        "### Defining Optimizer"
      ]
    },
    {
      "cell_type": "code",
      "execution_count": 16,
      "metadata": {
        "id": "yxqjMsx0870N"
      },
      "outputs": [],
      "source": [
        "import torch.optim as optim\n",
        "\n",
        "# I suggest to decrease the learning rate after each epoch\n",
        "# for the first one I used lr = 0.0002 and for the second lr = 0.00005\n",
        "optim_learning_rate = 0.0002\n",
        "\n",
        "criterion = nn.CTCLoss() \n",
        "optimizer = optim.Adam(net.parameters(), lr=optim_learning_rate, betas=(0.5, 0.999))\n",
        "\n",
        "epochs = 1\n",
        "mini_batchs = 100\n",
        "loss_values = []"
      ]
    },
    {
      "cell_type": "markdown",
      "metadata": {
        "id": "sLPOJxYY870N"
      },
      "source": [
        "### Training\n",
        "After two epochs I saw an acceptable output. on CPU each epoch might take 1-2 hours."
      ]
    },
    {
      "cell_type": "code",
      "execution_count": 17,
      "metadata": {
        "colab": {
          "base_uri": "https://localhost:8080/"
        },
        "id": "v5HXR7kQ870N",
        "outputId": "578e31e5-95ad-4e49-d5d0-46f5da06d72e"
      },
      "outputs": [
        {
          "output_type": "stream",
          "name": "stdout",
          "text": [
            "[1,   100] loss: 4.61576\n",
            "[1,   200] loss: 3.40317\n",
            "[1,   300] loss: 3.20649\n",
            "[1,   400] loss: 3.08034\n",
            "[1,   500] loss: 2.93568\n",
            "[1,   600] loss: 2.75244\n",
            "[1,   700] loss: 2.61895\n",
            "[1,   800] loss: 2.58824\n",
            "[1,   900] loss: 2.58590\n",
            "[1,  1000] loss: 2.43075\n",
            "[1,  1100] loss: 2.40987\n",
            "[1,  1200] loss: 2.53841\n",
            "[1,  1300] loss: 2.38944\n",
            "[1,  1400] loss: 2.29919\n",
            "[1,  1500] loss: 2.22941\n",
            "[1,  1600] loss: 2.16242\n",
            "[1,  1700] loss: 2.13801\n",
            "[1,  1800] loss: 2.09328\n",
            "[1,  1900] loss: 2.02391\n",
            "[1,  2000] loss: 2.12048\n",
            "[1,  2100] loss: 1.93959\n",
            "[1,  2200] loss: 2.07792\n",
            "[1,  2300] loss: 1.89865\n",
            "[1,  2400] loss: 1.97575\n",
            "[1,  2500] loss: 1.84443\n",
            "[1,  2600] loss: 1.70307\n",
            "[1,  2700] loss: 1.49952\n",
            "[1,  2800] loss: 1.75641\n",
            "[1,  2900] loss: 1.73511\n",
            "[1,  3000] loss: 1.77098\n",
            "[1,  3100] loss: 1.58875\n",
            "[1,  3200] loss: 1.55998\n",
            "[1,  3300] loss: 1.66881\n",
            "[1,  3400] loss: 1.67169\n",
            "[1,  3500] loss: 1.61230\n",
            "[1,  3600] loss: 1.37030\n",
            "[1,  3700] loss: 1.46294\n",
            "[1,  3800] loss: 1.50605\n",
            "[1,  3900] loss: 1.48125\n",
            "[1,  4000] loss: 1.59246\n",
            "[1,  4100] loss: 1.47812\n",
            "[1,  4200] loss: 1.65152\n",
            "[1,  4300] loss: 1.34630\n",
            "[1,  4400] loss: 1.38568\n",
            "[1,  4500] loss: 1.43558\n",
            "[1,  4600] loss: 1.42671\n",
            "[1,  4700] loss: 1.35474\n",
            "[1,  4800] loss: 1.40504\n",
            "[1,  4900] loss: 1.32982\n",
            "[1,  5000] loss: 1.36274\n",
            "[1,  5100] loss: 1.44639\n",
            "[1,  5200] loss: 1.43522\n",
            "[1,  5300] loss: 1.39705\n",
            "[1,  5400] loss: 1.34126\n",
            "[1,  5500] loss: 1.28116\n",
            "[1,  5600] loss: 1.27087\n",
            "[1,  5700] loss: 1.28978\n",
            "[1,  5800] loss: 1.40400\n",
            "[1,  5900] loss: 1.17629\n",
            "[1,  6000] loss: 1.17531\n",
            "[1,  6100] loss: 1.08592\n",
            "[1,  6200] loss: 1.22684\n",
            "[1,  6300] loss: 1.31735\n",
            "[1,  6400] loss: 1.19314\n",
            "[1,  6500] loss: 1.07996\n",
            "[1,  6600] loss: 1.03984\n",
            "[1,  6700] loss: 1.26016\n",
            "[1,  6800] loss: 1.14238\n",
            "[1,  6900] loss: 1.09065\n",
            "[1,  7000] loss: 1.32932\n",
            "[1,  7100] loss: 1.27532\n",
            "[1,  7200] loss: 1.16414\n",
            "[1,  7300] loss: 1.07729\n",
            "[1,  7400] loss: 1.11592\n",
            "[1,  7500] loss: 1.14110\n",
            "[1,  7600] loss: 1.05285\n",
            "[1,  7700] loss: 1.15327\n",
            "[1,  7800] loss: 1.00198\n",
            "[1,  7900] loss: 0.99778\n",
            "[1,  8000] loss: 1.10993\n",
            "[1,  8100] loss: 1.04862\n",
            "[1,  8200] loss: 1.12073\n",
            "[1,  8300] loss: 1.11836\n",
            "[1,  8400] loss: 1.14912\n",
            "[1,  8500] loss: 1.12361\n",
            "[1,  8600] loss: 0.98968\n",
            "[1,  8700] loss: 1.17670\n",
            "[1,  8800] loss: 1.13849\n",
            "[1,  8900] loss: 1.04429\n",
            "[1,  9000] loss: 1.02245\n",
            "[1,  9100] loss: 1.07790\n",
            "[1,  9200] loss: 1.06885\n",
            "[1,  9300] loss: 0.93060\n",
            "[1,  9400] loss: 0.95247\n",
            "[1,  9500] loss: 1.14669\n",
            "[1,  9600] loss: 0.94958\n",
            "[1,  9700] loss: 1.03685\n",
            "[1,  9800] loss: 0.99609\n",
            "[1,  9900] loss: 1.12054\n",
            "[1, 10000] loss: 0.87437\n",
            "[1, 10100] loss: 0.98853\n",
            "[1, 10200] loss: 0.96831\n",
            "[1, 10300] loss: 0.91852\n",
            "[1, 10400] loss: 1.03175\n",
            "[1, 10500] loss: 1.18478\n",
            "[1, 10600] loss: 1.11430\n",
            "[1, 10700] loss: 0.99551\n",
            "[1, 10800] loss: 0.91998\n",
            "[1, 10900] loss: 0.97967\n",
            "[1, 11000] loss: 1.09231\n",
            "[1, 11100] loss: 1.00323\n",
            "[1, 11200] loss: 0.94232\n",
            "[1, 11300] loss: 0.92827\n",
            "[1, 11400] loss: 0.90650\n",
            "[1, 11500] loss: 0.92789\n",
            "[1, 11600] loss: 0.97471\n",
            "[1, 11700] loss: 0.93640\n",
            "[1, 11800] loss: 1.07805\n",
            "[1, 11900] loss: 0.98796\n",
            "[1, 12000] loss: 0.94471\n",
            "[1, 12100] loss: 0.93978\n",
            "[1, 12200] loss: 1.06731\n",
            "[1, 12300] loss: 0.86689\n",
            "[1, 12400] loss: 0.84069\n",
            "[1, 12500] loss: 0.74703\n",
            "[1, 12600] loss: 0.98181\n",
            "[1, 12700] loss: 0.87508\n",
            "[1, 12800] loss: 1.06149\n",
            "[1, 12900] loss: 0.84774\n",
            "[1, 13000] loss: 0.91968\n",
            "[1, 13100] loss: 0.80759\n",
            "[1, 13200] loss: 0.82436\n",
            "[1, 13300] loss: 0.73354\n",
            "[1, 13400] loss: 0.94653\n",
            "[1, 13500] loss: 0.94068\n",
            "[1, 13600] loss: 0.78928\n",
            "[1, 13700] loss: 0.78783\n",
            "[1, 13800] loss: 0.96490\n",
            "[1, 13900] loss: 0.95927\n",
            "[1, 14000] loss: 0.76660\n",
            "[1, 14100] loss: 0.92546\n",
            "[1, 14200] loss: 0.96501\n",
            "[1, 14300] loss: 0.94599\n",
            "[1, 14400] loss: 0.78739\n",
            "[1, 14500] loss: 0.69301\n",
            "[1, 14600] loss: 0.93500\n",
            "[1, 14700] loss: 0.97012\n",
            "[1, 14800] loss: 0.88446\n",
            "[1, 14900] loss: 0.64288\n",
            "[1, 15000] loss: 0.78801\n",
            "[1, 15100] loss: 0.92457\n",
            "[1, 15200] loss: 0.85719\n",
            "[1, 15300] loss: 0.92011\n",
            "[1, 15400] loss: 0.87950\n",
            "[1, 15500] loss: 0.86967\n",
            "[1, 15600] loss: 0.76545\n",
            "[1, 15700] loss: 0.85133\n",
            "[1, 15800] loss: 0.78559\n",
            "[1, 15900] loss: 0.86203\n",
            "[1, 16000] loss: 0.79146\n",
            "[1, 16100] loss: 0.88854\n",
            "[1, 16200] loss: 0.71022\n",
            "[1, 16300] loss: 0.78127\n",
            "[1, 16400] loss: 0.82636\n",
            "[1, 16500] loss: 0.82767\n",
            "[1, 16600] loss: 0.84057\n",
            "[1, 16700] loss: 1.04657\n",
            "[1, 16800] loss: 0.80169\n",
            "[1, 16900] loss: 1.01723\n",
            "[1, 17000] loss: 0.72649\n",
            "[1, 17100] loss: 0.84977\n",
            "[1, 17200] loss: 0.63372\n",
            "[1, 17300] loss: 0.77686\n",
            "[1, 17400] loss: 0.83779\n",
            "[1, 17500] loss: 0.90379\n",
            "[1, 17600] loss: 0.81760\n",
            "[1, 17700] loss: 0.75458\n",
            "[1, 17800] loss: 0.69319\n",
            "[1, 17900] loss: 0.67856\n",
            "[1, 18000] loss: 0.91724\n",
            "[1, 18100] loss: 0.78148\n",
            "[1, 18200] loss: 0.75677\n",
            "[1, 18300] loss: 0.76880\n",
            "[1, 18400] loss: 0.78943\n",
            "[1, 18500] loss: 0.74166\n",
            "[1, 18600] loss: 0.73009\n",
            "[1, 18700] loss: 0.69286\n",
            "[1, 18800] loss: 0.78000\n",
            "[1, 18900] loss: 0.81502\n",
            "[1, 19000] loss: 0.64382\n",
            "[1, 19100] loss: 0.80136\n",
            "[1, 19200] loss: 0.85970\n",
            "[1, 19300] loss: 0.71487\n",
            "[1, 19400] loss: 0.76868\n",
            "[1, 19500] loss: 0.70806\n",
            "[1, 19600] loss: 0.61653\n",
            "[1, 19700] loss: 0.73734\n",
            "[1, 19800] loss: 0.82464\n",
            "[1, 19900] loss: 0.80897\n",
            "[1, 20000] loss: 0.69125\n",
            "[1, 20100] loss: 0.81059\n",
            "[1, 20200] loss: 0.74502\n",
            "[1, 20300] loss: 0.65151\n",
            "[1, 20400] loss: 0.75374\n",
            "[1, 20500] loss: 0.68774\n",
            "[1, 20600] loss: 0.78488\n",
            "[1, 20700] loss: 0.69586\n",
            "[1, 20800] loss: 0.67984\n",
            "[1, 20900] loss: 0.62469\n",
            "[1, 21000] loss: 0.71371\n",
            "[1, 21100] loss: 0.76818\n",
            "[1, 21200] loss: 0.68278\n",
            "[1, 21300] loss: 0.71173\n",
            "[1, 21400] loss: 0.73771\n",
            "[1, 21500] loss: 0.66097\n",
            "[1, 21600] loss: 0.62324\n",
            "[1, 21700] loss: 0.62305\n",
            "[1, 21800] loss: 0.81352\n",
            "[1, 21900] loss: 0.79798\n",
            "[1, 22000] loss: 0.68207\n",
            "[1, 22100] loss: 0.69001\n",
            "[1, 22200] loss: 0.61596\n",
            "[1, 22300] loss: 0.76020\n",
            "[1, 22400] loss: 0.81834\n",
            "[1, 22500] loss: 0.75573\n",
            "[1, 22600] loss: 0.58938\n",
            "[1, 22700] loss: 0.69959\n",
            "[1, 22800] loss: 0.80041\n",
            "[1, 22900] loss: 0.58749\n",
            "[1, 23000] loss: 0.71303\n",
            "[1, 23100] loss: 0.57127\n",
            "[1, 23200] loss: 0.69209\n",
            "[1, 23300] loss: 0.73563\n",
            "[1, 23400] loss: 0.67393\n",
            "[1, 23500] loss: 0.79861\n",
            "[1, 23600] loss: 0.73971\n",
            "[1, 23700] loss: 0.64360\n",
            "[1, 23800] loss: 0.79241\n",
            "[1, 23900] loss: 0.74264\n",
            "[1, 24000] loss: 0.61834\n",
            "[1, 24100] loss: 0.70905\n",
            "[1, 24200] loss: 0.72164\n",
            "[1, 24300] loss: 0.72477\n",
            "[1, 24400] loss: 0.59797\n",
            "[1, 24500] loss: 0.63326\n",
            "[1, 24600] loss: 0.64806\n",
            "[1, 24700] loss: 0.73495\n",
            "[1, 24800] loss: 0.62940\n",
            "[1, 24900] loss: 0.61610\n",
            "[1, 25000] loss: 0.60985\n",
            "[1, 25100] loss: 0.60449\n",
            "[1, 25200] loss: 0.74682\n",
            "[1, 25300] loss: 0.74492\n",
            "[1, 25400] loss: 0.66113\n",
            "[1, 25500] loss: 0.65394\n",
            "[1, 25600] loss: 0.64301\n",
            "[1, 25700] loss: 0.68584\n",
            "[1, 25800] loss: 0.64561\n",
            "[1, 25900] loss: 0.85865\n",
            "[1, 26000] loss: 0.75092\n",
            "[1, 26100] loss: 0.61819\n",
            "[1, 26200] loss: 0.68025\n",
            "[1, 26300] loss: 0.73611\n",
            "[1, 26400] loss: 0.52325\n",
            "[1, 26500] loss: 0.74138\n",
            "[1, 26600] loss: 0.56416\n",
            "[1, 26700] loss: 0.74086\n",
            "[1, 26800] loss: 0.70737\n",
            "[1, 26900] loss: 0.57325\n",
            "[1, 27000] loss: 0.55439\n",
            "[1, 27100] loss: 0.61420\n",
            "[1, 27200] loss: 0.63460\n",
            "[1, 27300] loss: 0.53987\n",
            "[1, 27400] loss: 0.64464\n",
            "[1, 27500] loss: 0.76192\n",
            "[1, 27600] loss: 0.64081\n",
            "[1, 27700] loss: 0.64864\n",
            "[1, 27800] loss: 0.67831\n",
            "[1, 27900] loss: 0.61675\n",
            "[1, 28000] loss: 0.70662\n",
            "[1, 28100] loss: 0.56302\n",
            "[1, 28200] loss: 0.77167\n",
            "[1, 28300] loss: 0.72091\n",
            "[1, 28400] loss: 0.60868\n",
            "[1, 28500] loss: 0.71193\n",
            "[1, 28600] loss: 0.59151\n",
            "[1, 28700] loss: 0.69021\n",
            "[1, 28800] loss: 0.67247\n",
            "[1, 28900] loss: 0.69579\n",
            "[1, 29000] loss: 0.56237\n",
            "[1, 29100] loss: 0.64676\n",
            "[1, 29200] loss: 0.64404\n",
            "[1, 29300] loss: 0.46453\n",
            "[1, 29400] loss: 0.65454\n",
            "[1, 29500] loss: 0.64496\n",
            "[1, 29600] loss: 0.68524\n",
            "[1, 29700] loss: 0.88650\n",
            "[1, 29800] loss: 0.55582\n",
            "[1, 29900] loss: 0.63457\n",
            "[1, 30000] loss: 0.65174\n",
            "[1, 30100] loss: 0.61207\n",
            "[1, 30200] loss: 0.60359\n",
            "[1, 30300] loss: 0.61290\n",
            "[1, 30400] loss: 0.56839\n",
            "[1, 30500] loss: 0.62143\n",
            "[1, 30600] loss: 0.66010\n",
            "[1, 30700] loss: 0.64830\n",
            "[1, 30800] loss: 0.56668\n",
            "[1, 30900] loss: 0.62545\n",
            "[1, 31000] loss: 0.55218\n",
            "[1, 31100] loss: 0.68482\n",
            "[1, 31200] loss: 0.68079\n",
            "[1, 31300] loss: 0.58339\n",
            "[1, 31400] loss: 0.53716\n",
            "[1, 31500] loss: 0.60825\n",
            "[1, 31600] loss: 0.70164\n",
            "[1, 31700] loss: 0.61013\n",
            "[1, 31800] loss: 0.61647\n",
            "[1, 31900] loss: 0.56322\n",
            "[1, 32000] loss: 0.50018\n",
            "[1, 32100] loss: 0.62486\n",
            "[1, 32200] loss: 0.71977\n",
            "[1, 32300] loss: 0.51009\n",
            "[1, 32400] loss: 0.73225\n",
            "[1, 32500] loss: 0.57228\n",
            "[1, 32600] loss: 0.71032\n",
            "[1, 32700] loss: 0.52106\n",
            "[1, 32800] loss: 0.64738\n",
            "[1, 32900] loss: 0.74810\n",
            "[1, 33000] loss: 0.60742\n",
            "[1, 33100] loss: 0.57964\n",
            "[1, 33200] loss: 0.64773\n",
            "[1, 33300] loss: 0.58754\n",
            "[1, 33400] loss: 0.68425\n",
            "[1, 33500] loss: 0.66527\n",
            "[1, 33600] loss: 0.45388\n",
            "[1, 33700] loss: 0.47482\n",
            "[1, 33800] loss: 0.56114\n",
            "[1, 33900] loss: 0.56072\n",
            "[1, 34000] loss: 0.53868\n",
            "[1, 34100] loss: 0.63005\n",
            "[1, 34200] loss: 0.65464\n",
            "[1, 34300] loss: 0.54693\n",
            "[1, 34400] loss: 0.54638\n",
            "[1, 34500] loss: 0.50901\n",
            "[1, 34600] loss: 0.61900\n",
            "[1, 34700] loss: 0.52200\n",
            "[1, 34800] loss: 0.57705\n",
            "[1, 34900] loss: 0.57430\n",
            "[1, 35000] loss: 0.62773\n",
            "[1, 35100] loss: 0.61873\n",
            "[1, 35200] loss: 0.62322\n",
            "[1, 35300] loss: 0.44110\n",
            "[1, 35400] loss: 0.61711\n",
            "[1, 35500] loss: 0.57772\n",
            "[1, 35600] loss: 0.75688\n",
            "[1, 35700] loss: 0.68180\n",
            "[1, 35800] loss: 0.51995\n",
            "[1, 35900] loss: 0.45576\n",
            "[1, 36000] loss: 0.59185\n",
            "[1, 36100] loss: 0.70443\n",
            "[1, 36200] loss: 0.59892\n",
            "[1, 36300] loss: 0.60066\n",
            "[1, 36400] loss: 0.51692\n",
            "[1, 36500] loss: 0.62771\n",
            "[1, 36600] loss: 0.58897\n",
            "[1, 36700] loss: 0.63982\n",
            "[1, 36800] loss: 0.55756\n",
            "[1, 36900] loss: 0.55792\n",
            "[1, 37000] loss: 0.46620\n",
            "[1, 37100] loss: 0.47594\n",
            "[1, 37200] loss: 0.54464\n",
            "[1, 37300] loss: 0.65068\n",
            "[1, 37400] loss: 0.53791\n",
            "[1, 37500] loss: 0.56171\n",
            "[1, 37600] loss: 0.73955\n",
            "[1, 37700] loss: 0.53776\n",
            "[1, 37800] loss: 0.63260\n",
            "[1, 37900] loss: 0.46191\n",
            "[1, 38000] loss: 0.55266\n",
            "[1, 38100] loss: 0.54489\n",
            "[1, 38200] loss: 0.60118\n",
            "[1, 38300] loss: 0.70088\n",
            "[1, 38400] loss: 0.63204\n",
            "[1, 38500] loss: 0.52599\n",
            "[1, 38600] loss: 0.65193\n",
            "[1, 38700] loss: 0.62026\n",
            "[1, 38800] loss: 0.61519\n",
            "[1, 38900] loss: 0.54507\n",
            "[1, 39000] loss: 0.60297\n",
            "[1, 39100] loss: 0.57301\n",
            "[1, 39200] loss: 0.54465\n",
            "[1, 39300] loss: 0.56069\n",
            "[1, 39400] loss: 0.57292\n",
            "[1, 39500] loss: 0.55596\n",
            "[1, 39600] loss: 0.74325\n",
            "[1, 39700] loss: 0.55275\n",
            "[1, 39800] loss: 0.46023\n",
            "[1, 39900] loss: 0.60343\n",
            "[1, 40000] loss: 0.62866\n",
            "[1, 40100] loss: 0.56663\n",
            "[1, 40200] loss: 0.58694\n",
            "[1, 40300] loss: 0.58660\n",
            "[1, 40400] loss: 0.58719\n",
            "[1, 40500] loss: 0.58542\n",
            "[1, 40600] loss: 0.55495\n",
            "[1, 40700] loss: 0.60896\n",
            "[1, 40800] loss: 0.46487\n",
            "[1, 40900] loss: 0.58319\n",
            "[1, 41000] loss: 0.48777\n",
            "[1, 41100] loss: 0.49941\n",
            "[1, 41200] loss: 0.62889\n",
            "[1, 41300] loss: 0.54027\n",
            "[1, 41400] loss: 0.58740\n",
            "[1, 41500] loss: 0.72381\n",
            "[1, 41600] loss: 0.58887\n",
            "[1, 41700] loss: 0.41830\n",
            "[1, 41800] loss: 0.67365\n",
            "[1, 41900] loss: 0.69477\n",
            "[1, 42000] loss: 0.50189\n",
            "[1, 42100] loss: 0.59145\n",
            "[1, 42200] loss: 0.52560\n",
            "[1, 42300] loss: 0.40529\n",
            "[1, 42400] loss: 0.50790\n",
            "[1, 42500] loss: 0.39239\n",
            "[1, 42600] loss: 0.59699\n",
            "[1, 42700] loss: 0.68496\n",
            "[1, 42800] loss: 0.47719\n",
            "[1, 42900] loss: 0.58751\n",
            "[1, 43000] loss: 0.64582\n",
            "[1, 43100] loss: 0.62935\n",
            "[1, 43200] loss: 0.64369\n",
            "[1, 43300] loss: 0.58297\n",
            "[1, 43400] loss: 0.46451\n",
            "[1, 43500] loss: 0.57154\n",
            "[1, 43600] loss: 0.61808\n",
            "[1, 43700] loss: 0.61551\n",
            "[1, 43800] loss: 0.62886\n",
            "[1, 43900] loss: 0.51598\n",
            "[1, 44000] loss: 0.41074\n",
            "[1, 44100] loss: 0.48955\n",
            "[1, 44200] loss: 0.48474\n",
            "[1, 44300] loss: 0.46323\n",
            "[1, 44400] loss: 0.48485\n",
            "[1, 44500] loss: 0.49201\n",
            "[1, 44600] loss: 0.47490\n",
            "[1, 44700] loss: 0.54319\n",
            "[1, 44800] loss: 0.45673\n",
            "[1, 44900] loss: 0.61778\n",
            "[1, 45000] loss: 0.76071\n",
            "[1, 45100] loss: 0.41156\n",
            "[1, 45200] loss: 0.54416\n",
            "[1, 45300] loss: 0.64808\n",
            "[1, 45400] loss: 0.57633\n",
            "[1, 45500] loss: 0.51872\n",
            "[1, 45600] loss: 0.48747\n",
            "[1, 45700] loss: 0.52993\n",
            "[1, 45800] loss: 0.58657\n",
            "[1, 45900] loss: 0.53647\n",
            "[1, 46000] loss: 0.52206\n",
            "[1, 46100] loss: 0.53428\n",
            "[1, 46200] loss: 0.46939\n",
            "[1, 46300] loss: 0.52644\n",
            "[1, 46400] loss: 0.52032\n",
            "[1, 46500] loss: 0.59432\n",
            "[1, 46600] loss: 0.52663\n",
            "[1, 46700] loss: 0.61366\n",
            "[1, 46800] loss: 0.56149\n",
            "[1, 46900] loss: 0.54148\n",
            "[1, 47000] loss: 0.59326\n",
            "[1, 47100] loss: 0.59189\n",
            "[1, 47200] loss: 0.47986\n",
            "[1, 47300] loss: 0.83822\n",
            "[1, 47400] loss: 0.41310\n",
            "[1, 47500] loss: 0.52756\n",
            "[1, 47600] loss: 0.54242\n",
            "[1, 47700] loss: 0.50987\n",
            "[1, 47800] loss: 0.54024\n",
            "[1, 47900] loss: 0.56881\n",
            "[1, 48000] loss: 0.61354\n",
            "[1, 48100] loss: 0.53854\n",
            "[1, 48200] loss: 0.47413\n",
            "[1, 48300] loss: 0.45825\n",
            "[1, 48400] loss: 0.44665\n",
            "[1, 48500] loss: 0.62912\n",
            "[1, 48600] loss: 0.44684\n",
            "[1, 48700] loss: 0.47504\n",
            "[1, 48800] loss: 0.53069\n",
            "[1, 48900] loss: 0.63853\n",
            "[1, 49000] loss: 0.48128\n",
            "[1, 49100] loss: 0.41825\n",
            "[1, 49200] loss: 0.52576\n",
            "[1, 49300] loss: 0.51550\n",
            "[1, 49400] loss: 0.56947\n",
            "[1, 49500] loss: 0.66957\n",
            "[1, 49600] loss: 0.60325\n",
            "[1, 49700] loss: 0.41115\n",
            "[1, 49800] loss: 0.50757\n",
            "[1, 49900] loss: 0.56726\n",
            "[1, 50000] loss: 0.61453\n",
            "[1, 50100] loss: 0.41401\n",
            "[1, 50200] loss: 0.45026\n",
            "[1, 50300] loss: 0.47748\n",
            "[1, 50400] loss: 0.56705\n",
            "[1, 50500] loss: 0.52558\n",
            "[1, 50600] loss: 0.44987\n",
            "[1, 50700] loss: 0.46592\n",
            "[1, 50800] loss: 0.54043\n",
            "[1, 50900] loss: 0.53164\n",
            "[1, 51000] loss: 0.47734\n",
            "[1, 51100] loss: 0.55438\n",
            "[1, 51200] loss: 0.58205\n",
            "[1, 51300] loss: 0.72119\n",
            "[1, 51400] loss: 0.54658\n",
            "[1, 51500] loss: 0.50136\n",
            "[1, 51600] loss: 0.53004\n",
            "[1, 51700] loss: 0.54587\n",
            "[1, 51800] loss: 0.53945\n",
            "[1, 51900] loss: 0.50195\n",
            "[1, 52000] loss: 0.51638\n",
            "[1, 52100] loss: 0.51842\n",
            "[1, 52200] loss: 0.48661\n",
            "[1, 52300] loss: 0.52647\n",
            "[1, 52400] loss: 0.44131\n",
            "[1, 52500] loss: 0.45956\n",
            "[1, 52600] loss: 0.60806\n",
            "[1, 52700] loss: 0.57640\n",
            "[1, 52800] loss: 0.47341\n",
            "[1, 52900] loss: 0.53608\n",
            "[1, 53000] loss: 0.36262\n",
            "[1, 53100] loss: 0.69009\n",
            "[1, 53200] loss: 0.55225\n",
            "[1, 53300] loss: 0.55028\n",
            "[1, 53400] loss: 0.54012\n",
            "[1, 53500] loss: 0.55328\n",
            "[1, 53600] loss: 0.45342\n",
            "[1, 53700] loss: 0.53253\n",
            "[1, 53800] loss: 0.56061\n",
            "[1, 53900] loss: 0.51068\n",
            "[1, 54000] loss: 0.53719\n",
            "[1, 54100] loss: 0.58144\n",
            "[1, 54200] loss: 0.45739\n",
            "[1, 54300] loss: 0.42579\n",
            "[1, 54400] loss: 0.58365\n",
            "[1, 54500] loss: 0.40414\n",
            "[1, 54600] loss: 0.45366\n",
            "[1, 54700] loss: 0.46933\n",
            "[1, 54800] loss: 0.42099\n",
            "[1, 54900] loss: 0.37854\n",
            "[1, 55000] loss: 0.48219\n",
            "[1, 55100] loss: 0.48193\n",
            "[1, 55200] loss: 0.51622\n",
            "[1, 55300] loss: 0.45875\n",
            "[1, 55400] loss: 0.39569\n",
            "[1, 55500] loss: 0.60318\n",
            "[1, 55600] loss: 0.50513\n",
            "[1, 55700] loss: 0.62431\n",
            "[1, 55800] loss: 0.38516\n",
            "[1, 55900] loss: 0.44175\n",
            "[1, 56000] loss: 0.50062\n",
            "[1, 56100] loss: 0.43790\n",
            "[1, 56200] loss: 0.41992\n",
            "[1, 56300] loss: 0.40969\n",
            "[1, 56400] loss: 0.49972\n",
            "[1, 56500] loss: 0.51238\n",
            "[1, 56600] loss: 0.56740\n",
            "[1, 56700] loss: 0.51227\n",
            "[1, 56800] loss: 0.61764\n",
            "[1, 56900] loss: 0.53294\n",
            "[1, 57000] loss: 0.50358\n",
            "[1, 57100] loss: 0.50815\n",
            "[1, 57200] loss: 0.51705\n",
            "[1, 57300] loss: 0.56694\n",
            "[1, 57400] loss: 0.47460\n",
            "[1, 57500] loss: 0.50732\n",
            "[1, 57600] loss: 0.51603\n",
            "[1, 57700] loss: 0.47951\n",
            "[1, 57800] loss: 0.45819\n",
            "[1, 57900] loss: 0.54973\n",
            "[1, 58000] loss: 0.45516\n",
            "[1, 58100] loss: 0.52473\n",
            "[1, 58200] loss: 0.60277\n",
            "[1, 58300] loss: 0.46064\n",
            "[1, 58400] loss: 0.51339\n",
            "[1, 58500] loss: 0.38147\n",
            "[1, 58600] loss: 0.51262\n",
            "[1, 58700] loss: 0.46365\n",
            "[1, 58800] loss: 0.41311\n",
            "[1, 58900] loss: 0.47546\n",
            "[1, 59000] loss: 0.41037\n",
            "[1, 59100] loss: 0.58804\n",
            "[1, 59200] loss: 0.42895\n",
            "[1, 59300] loss: 0.48087\n",
            "[1, 59400] loss: 0.55645\n",
            "[1, 59500] loss: 0.38168\n",
            "[1, 59600] loss: 0.46753\n",
            "[1, 59700] loss: 0.50744\n",
            "[1, 59800] loss: 0.37887\n",
            "[1, 59900] loss: 0.50939\n",
            "[1, 60000] loss: 0.52917\n",
            "[1, 60100] loss: 0.33998\n",
            "[1, 60200] loss: 0.48262\n",
            "[1, 60300] loss: 0.52595\n",
            "[1, 60400] loss: 0.45378\n",
            "[1, 60500] loss: 0.44123\n",
            "[1, 60600] loss: 0.52843\n",
            "[1, 60700] loss: 0.43031\n",
            "[1, 60800] loss: 0.46424\n",
            "[1, 60900] loss: 0.41439\n",
            "[1, 61000] loss: 0.54721\n",
            "[1, 61100] loss: 0.43057\n",
            "[1, 61200] loss: 0.45927\n",
            "[1, 61300] loss: 0.42102\n",
            "[1, 61400] loss: 0.40884\n",
            "[1, 61500] loss: 0.49720\n",
            "[1, 61600] loss: 0.48282\n",
            "[1, 61700] loss: 0.46086\n",
            "[1, 61800] loss: 0.47317\n",
            "[1, 61900] loss: 0.49814\n",
            "[1, 62000] loss: 0.46238\n",
            "[1, 62100] loss: 0.37186\n",
            "[1, 62200] loss: 0.51183\n",
            "[1, 62300] loss: 0.36141\n",
            "[1, 62400] loss: 0.39839\n",
            "[1, 62500] loss: 0.40340\n",
            "[1, 62600] loss: 0.50861\n",
            "[1, 62700] loss: 0.58815\n",
            "[1, 62800] loss: 0.40373\n",
            "[1, 62900] loss: 0.59449\n",
            "[1, 63000] loss: 0.39923\n",
            "[1, 63100] loss: 0.37553\n",
            "[1, 63200] loss: 0.54544\n",
            "[1, 63300] loss: 0.40805\n",
            "[1, 63400] loss: 0.44557\n",
            "[1, 63500] loss: 0.47932\n",
            "[1, 63600] loss: 0.36361\n",
            "[1, 63700] loss: 0.46656\n",
            "[1, 63800] loss: 0.41433\n",
            "[1, 63900] loss: 0.56114\n",
            "[1, 64000] loss: 0.52420\n",
            "[1, 64100] loss: 0.60389\n",
            "[1, 64200] loss: 0.50973\n",
            "[1, 64300] loss: 0.33334\n",
            "[1, 64400] loss: 0.46399\n",
            "[1, 64500] loss: 0.36108\n",
            "[1, 64600] loss: 0.47404\n",
            "[1, 64700] loss: 0.32683\n",
            "[1, 64800] loss: 0.51716\n",
            "[1, 64900] loss: 0.37023\n",
            "[1, 65000] loss: 0.35844\n",
            "[1, 65100] loss: 0.55146\n",
            "[1, 65200] loss: 0.47618\n",
            "[1, 65300] loss: 0.48201\n",
            "[1, 65400] loss: 0.38988\n",
            "[1, 65500] loss: 0.38459\n",
            "[1, 65600] loss: 0.47279\n",
            "[1, 65700] loss: 0.45713\n",
            "[1, 65800] loss: 0.43086\n",
            "[1, 65900] loss: 0.49027\n",
            "[1, 66000] loss: 0.35763\n",
            "[1, 66100] loss: 0.40660\n",
            "[1, 66200] loss: 0.37650\n",
            "[1, 66300] loss: 0.35931\n",
            "[1, 66400] loss: 0.45945\n",
            "[1, 66500] loss: 0.44080\n",
            "[1, 66600] loss: 0.38202\n",
            "[1, 66700] loss: 0.56276\n",
            "[1, 66800] loss: 0.49604\n",
            "[1, 66900] loss: 0.45152\n",
            "[1, 67000] loss: 0.41753\n",
            "[1, 67100] loss: 0.55950\n",
            "[1, 67200] loss: 0.45490\n",
            "[1, 67300] loss: 0.49535\n",
            "[1, 67400] loss: 0.45681\n",
            "[1, 67500] loss: 0.47973\n",
            "[1, 67600] loss: 0.38845\n",
            "[1, 67700] loss: 0.51966\n",
            "[1, 67800] loss: 0.33127\n",
            "[1, 67900] loss: 0.40653\n",
            "[1, 68000] loss: 0.33754\n",
            "[1, 68100] loss: 0.47755\n",
            "[1, 68200] loss: 0.51246\n",
            "[1, 68300] loss: 0.55792\n",
            "[1, 68400] loss: 0.54964\n",
            "[1, 68500] loss: 0.40057\n",
            "[1, 68600] loss: 0.53800\n",
            "[1, 68700] loss: 0.41773\n",
            "[1, 68800] loss: 0.37673\n",
            "[1, 68900] loss: 0.25078\n",
            "[1, 69000] loss: 0.50502\n",
            "[1, 69100] loss: 0.42032\n",
            "[1, 69200] loss: 0.42671\n",
            "[1, 69300] loss: 0.43637\n",
            "[1, 69400] loss: 0.50075\n",
            "[1, 69500] loss: 0.45854\n",
            "[1, 69600] loss: 0.35586\n",
            "[1, 69700] loss: 0.53514\n",
            "[1, 69800] loss: 0.52093\n",
            "[1, 69900] loss: 0.49263\n",
            "[1, 70000] loss: 0.49845\n",
            "[1, 70100] loss: 0.55887\n",
            "[1, 70200] loss: 0.48133\n",
            "[1, 70300] loss: 0.56699\n",
            "[1, 70400] loss: 0.46216\n",
            "[1, 70500] loss: 0.50416\n",
            "[1, 70600] loss: 0.37231\n",
            "[1, 70700] loss: 0.37045\n",
            "[1, 70800] loss: 0.50913\n",
            "[1, 70900] loss: 0.39192\n",
            "[1, 71000] loss: 0.38892\n",
            "[1, 71100] loss: 0.42102\n",
            "[1, 71200] loss: 0.49484\n",
            "[1, 71300] loss: 0.40883\n",
            "[1, 71400] loss: 0.57240\n",
            "[1, 71500] loss: 0.40248\n",
            "[1, 71600] loss: 0.48312\n",
            "[1, 71700] loss: 0.46374\n",
            "[1, 71800] loss: 0.38198\n",
            "[1, 71900] loss: 0.34308\n",
            "[1, 72000] loss: 0.44541\n",
            "[1, 72100] loss: 0.37681\n",
            "[1, 72200] loss: 0.47577\n",
            "[1, 72300] loss: 0.36060\n",
            "[1, 72400] loss: 0.43425\n",
            "[1, 72500] loss: 0.46107\n",
            "[1, 72600] loss: 0.47439\n",
            "[1, 72700] loss: 0.45083\n",
            "[1, 72800] loss: 0.54639\n",
            "[1, 72900] loss: 0.38957\n",
            "[1, 73000] loss: 0.42067\n",
            "[1, 73100] loss: 0.33889\n",
            "[1, 73200] loss: 0.53612\n",
            "[1, 73300] loss: 0.55321\n",
            "[1, 73400] loss: 0.39325\n",
            "[1, 73500] loss: 0.49661\n",
            "[1, 73600] loss: 0.39004\n",
            "[1, 73700] loss: 0.50754\n",
            "[1, 73800] loss: 0.30704\n",
            "[1, 73900] loss: 0.39537\n",
            "[1, 74000] loss: 0.49930\n",
            "[1, 74100] loss: 0.51123\n",
            "[1, 74200] loss: 0.49415\n",
            "[1, 74300] loss: 0.49083\n",
            "[1, 74400] loss: 0.63749\n",
            "[1, 74500] loss: 0.43748\n",
            "[1, 74600] loss: 0.43268\n",
            "[1, 74700] loss: 0.42506\n",
            "[1, 74800] loss: 0.52281\n",
            "[1, 74900] loss: 0.43313\n",
            "[1, 75000] loss: 0.40157\n",
            "[1, 75100] loss: 0.53091\n",
            "[1, 75200] loss: 0.51226\n",
            "[1, 75300] loss: 0.39657\n",
            "[1, 75400] loss: 0.41507\n",
            "[1, 75500] loss: 0.35834\n",
            "[1, 75600] loss: 0.46420\n",
            "[1, 75700] loss: 0.40127\n",
            "[1, 75800] loss: 0.41791\n",
            "[1, 75900] loss: 0.47443\n",
            "[1, 76000] loss: 0.39361\n",
            "[1, 76100] loss: 0.41535\n",
            "[1, 76200] loss: 0.43214\n",
            "[1, 76300] loss: 0.44966\n",
            "[1, 76400] loss: 0.51483\n",
            "[1, 76500] loss: 0.73246\n",
            "[1, 76600] loss: 0.36300\n",
            "[1, 76700] loss: 0.43227\n",
            "[1, 76800] loss: 0.43425\n",
            "[1, 76900] loss: 0.47428\n",
            "[1, 77000] loss: 0.42455\n",
            "[1, 77100] loss: 0.32225\n",
            "[1, 77200] loss: 0.56243\n",
            "[1, 77300] loss: 0.42327\n",
            "[1, 77400] loss: 0.55070\n",
            "[1, 77500] loss: 0.36065\n",
            "[1, 77600] loss: 0.41063\n",
            "[1, 77700] loss: 0.47866\n",
            "[1, 77800] loss: 0.46660\n",
            "[1, 77900] loss: 0.35668\n",
            "[1, 78000] loss: 0.27637\n",
            "[1, 78100] loss: 0.37252\n",
            "[1, 78200] loss: 0.37902\n",
            "[1, 78300] loss: 0.35555\n",
            "[1, 78400] loss: 0.35748\n",
            "[1, 78500] loss: 0.41445\n",
            "[1, 78600] loss: 0.32707\n",
            "[1, 78700] loss: 0.43886\n",
            "[1, 78800] loss: 0.35423\n",
            "[1, 78900] loss: 0.34444\n",
            "[1, 79000] loss: 0.35485\n",
            "[1, 79100] loss: 0.34725\n",
            "[1, 79200] loss: 0.37025\n",
            "[1, 79300] loss: 0.42967\n",
            "[1, 79400] loss: 0.43197\n",
            "[1, 79500] loss: 0.39442\n",
            "[1, 79600] loss: 0.50133\n",
            "[1, 79700] loss: 0.45991\n",
            "[1, 79800] loss: 0.41967\n",
            "[1, 79900] loss: 0.55331\n",
            "[1, 80000] loss: 0.35761\n",
            "[1, 80100] loss: 0.38779\n",
            "[1, 80200] loss: 0.47347\n",
            "[1, 80300] loss: 0.38346\n",
            "[1, 80400] loss: 0.44804\n",
            "[1, 80500] loss: 0.41881\n",
            "[1, 80600] loss: 0.46820\n",
            "[1, 80700] loss: 0.49902\n",
            "[1, 80800] loss: 0.31849\n",
            "[1, 80900] loss: 0.40552\n",
            "[1, 81000] loss: 0.45732\n",
            "[1, 81100] loss: 0.36685\n",
            "[1, 81200] loss: 0.42188\n",
            "[1, 81300] loss: 0.36860\n",
            "[1, 81400] loss: 0.45523\n",
            "[1, 81500] loss: 0.48959\n",
            "[1, 81600] loss: 0.34868\n",
            "[1, 81700] loss: 0.39234\n",
            "[1, 81800] loss: 0.46583\n",
            "[1, 81900] loss: 0.42590\n",
            "[1, 82000] loss: 0.52294\n",
            "[1, 82100] loss: 0.52191\n",
            "[1, 82200] loss: 0.32801\n",
            "[1, 82300] loss: 0.53596\n",
            "[1, 82400] loss: 0.48664\n",
            "[1, 82500] loss: 0.45750\n",
            "[1, 82600] loss: 0.36712\n",
            "[1, 82700] loss: 0.35828\n",
            "[1, 82800] loss: 0.44009\n",
            "[1, 82900] loss: 0.44474\n",
            "[1, 83000] loss: 0.37755\n",
            "[1, 83100] loss: 0.29086\n",
            "[1, 83200] loss: 0.42838\n",
            "[1, 83300] loss: 0.32563\n",
            "[1, 83400] loss: 0.45165\n",
            "[1, 83500] loss: 0.36125\n",
            "[1, 83600] loss: 0.37920\n",
            "[1, 83700] loss: 0.51959\n",
            "[1, 83800] loss: 0.40507\n",
            "[1, 83900] loss: 0.35489\n",
            "[1, 84000] loss: 0.59307\n",
            "[1, 84100] loss: 0.49737\n",
            "[1, 84200] loss: 0.43008\n",
            "[1, 84300] loss: 0.33905\n",
            "[1, 84400] loss: 0.48622\n",
            "[1, 84500] loss: 0.39851\n",
            "[1, 84600] loss: 0.38919\n",
            "[1, 84700] loss: 0.44122\n",
            "[1, 84800] loss: 0.34530\n",
            "[1, 84900] loss: 0.42036\n",
            "[1, 85000] loss: 0.46121\n",
            "[1, 85100] loss: 0.36171\n",
            "[1, 85200] loss: 0.39901\n",
            "[1, 85300] loss: 0.43783\n",
            "[1, 85400] loss: 0.40824\n",
            "[1, 85500] loss: 0.47362\n",
            "[1, 85600] loss: 0.56516\n",
            "[1, 85700] loss: 0.36961\n",
            "[1, 85800] loss: 0.44312\n",
            "[1, 85900] loss: 0.46367\n",
            "[1, 86000] loss: 0.52816\n",
            "[1, 86100] loss: 0.35368\n",
            "[1, 86200] loss: 0.47634\n",
            "[1, 86300] loss: 0.33268\n",
            "[1, 86400] loss: 0.38536\n",
            "[1, 86500] loss: 0.45182\n",
            "[1, 86600] loss: 0.38162\n",
            "[1, 86700] loss: 0.34464\n",
            "[1, 86800] loss: 0.40816\n",
            "[1, 86900] loss: 0.38630\n",
            "[1, 87000] loss: 0.47074\n",
            "[1, 87100] loss: 0.36223\n",
            "[1, 87200] loss: 0.46071\n",
            "[1, 87300] loss: 0.41973\n",
            "[1, 87400] loss: 0.50823\n",
            "[1, 87500] loss: 0.56285\n",
            "[1, 87600] loss: 0.43853\n",
            "[1, 87700] loss: 0.45482\n",
            "[1, 87800] loss: 0.37118\n",
            "[1, 87900] loss: 0.38238\n",
            "[1, 88000] loss: 0.33434\n",
            "[1, 88100] loss: 0.47683\n",
            "[1, 88200] loss: 0.76390\n",
            "[1, 88300] loss: 0.36219\n",
            "[1, 88400] loss: 0.41469\n",
            "[1, 88500] loss: 0.42090\n",
            "[1, 88600] loss: 0.34894\n",
            "[1, 88700] loss: 0.38752\n",
            "[1, 88800] loss: 0.50489\n",
            "[1, 88900] loss: 0.47576\n",
            "[1, 89000] loss: 0.45387\n",
            "[1, 89100] loss: 0.37465\n",
            "[1, 89200] loss: 0.35309\n",
            "[1, 89300] loss: 0.33209\n",
            "[1, 89400] loss: 0.46062\n",
            "[1, 89500] loss: 0.36381\n",
            "[1, 89600] loss: 0.32995\n",
            "[1, 89700] loss: 0.45353\n",
            "[1, 89800] loss: 0.42954\n",
            "[1, 89900] loss: 0.35662\n",
            "[1, 90000] loss: 0.59635\n",
            "[1, 90100] loss: 0.32969\n",
            "[1, 90200] loss: 0.39446\n",
            "[1, 90300] loss: 0.52113\n",
            "[1, 90400] loss: 0.41882\n",
            "[1, 90500] loss: 0.52094\n",
            "[1, 90600] loss: 0.39137\n",
            "[1, 90700] loss: 0.45882\n",
            "[1, 90800] loss: 0.48517\n",
            "[1, 90900] loss: 0.44519\n",
            "[1, 91000] loss: 0.33198\n",
            "[1, 91100] loss: 0.39450\n",
            "[1, 91200] loss: 0.35845\n",
            "[1, 91300] loss: 0.45772\n",
            "[1, 91400] loss: 0.43779\n",
            "[1, 91500] loss: 0.41514\n",
            "[1, 91600] loss: 0.48811\n",
            "[1, 91700] loss: 0.47916\n",
            "[1, 91800] loss: 0.26480\n",
            "[1, 91900] loss: 0.40777\n",
            "[1, 92000] loss: 0.42522\n",
            "[1, 92100] loss: 0.34223\n",
            "[1, 92200] loss: 0.39699\n",
            "[1, 92300] loss: 0.46875\n",
            "[1, 92400] loss: 0.38387\n",
            "[1, 92500] loss: 0.39259\n",
            "[1, 92600] loss: 0.39148\n",
            "[1, 92700] loss: 0.46363\n",
            "[1, 92800] loss: 0.38288\n",
            "[1, 92900] loss: 0.36398\n",
            "[1, 93000] loss: 0.49764\n",
            "[1, 93100] loss: 0.55586\n",
            "[1, 93200] loss: 0.37206\n",
            "[1, 93300] loss: 0.42898\n",
            "[1, 93400] loss: 0.42569\n",
            "[1, 93500] loss: 0.52458\n",
            "[1, 93600] loss: 0.41273\n",
            "[1, 93700] loss: 0.44980\n",
            "[1, 93800] loss: 0.37492\n",
            "[1, 93900] loss: 0.40203\n",
            "[1, 94000] loss: 0.41865\n",
            "[1, 94100] loss: 0.56494\n",
            "[1, 94200] loss: 0.33498\n",
            "[1, 94300] loss: 0.36598\n",
            "[1, 94400] loss: 0.38239\n",
            "[1, 94500] loss: 0.40907\n",
            "[1, 94600] loss: 0.36478\n",
            "[1, 94700] loss: 0.38217\n",
            "[1, 94800] loss: 0.37569\n",
            "[1, 94900] loss: 0.30381\n",
            "[1, 95000] loss: 0.31928\n",
            "[1, 95100] loss: 0.39712\n",
            "[1, 95200] loss: 0.44468\n",
            "[1, 95300] loss: 0.34690\n",
            "[1, 95400] loss: 0.50250\n",
            "[1, 95500] loss: 0.44233\n",
            "[1, 95600] loss: 0.37721\n",
            "[1, 95700] loss: 0.39148\n",
            "[1, 95800] loss: 0.21233\n",
            "[1, 95900] loss: 0.43829\n",
            "[1, 96000] loss: 0.38776\n",
            "[1, 96100] loss: 0.40955\n",
            "[1, 96200] loss: 0.47303\n",
            "[1, 96300] loss: 0.40048\n",
            "[1, 96400] loss: 0.33820\n",
            "[1, 96500] loss: 0.35991\n",
            "[1, 96600] loss: 0.51320\n",
            "[1, 96700] loss: 0.36106\n",
            "[1, 96800] loss: 0.45576\n",
            "[1, 96900] loss: 0.40801\n",
            "[1, 97000] loss: 0.39165\n",
            "[1, 97100] loss: 0.44602\n",
            "[1, 97200] loss: 0.33315\n",
            "[1, 97300] loss: 0.33835\n",
            "[1, 97400] loss: 0.54502\n",
            "[1, 97500] loss: 0.39850\n",
            "[1, 97600] loss: 0.31395\n",
            "[1, 97700] loss: 0.45962\n",
            "[1, 97800] loss: 0.42053\n",
            "[1, 97900] loss: 0.49055\n",
            "[1, 98000] loss: 0.35297\n",
            "[1, 98100] loss: 0.46146\n",
            "[1, 98200] loss: 0.45661\n",
            "[1, 98300] loss: 0.43614\n",
            "[1, 98400] loss: 0.40395\n",
            "[1, 98500] loss: 0.40736\n",
            "[1, 98600] loss: 0.39720\n",
            "[1, 98700] loss: 0.38656\n",
            "[1, 98800] loss: 0.31257\n",
            "[1, 98900] loss: 0.47745\n",
            "[1, 99000] loss: 0.36291\n",
            "[1, 99100] loss: 0.35504\n",
            "[1, 99200] loss: 0.35702\n",
            "[1, 99300] loss: 0.32619\n",
            "[1, 99400] loss: 0.34366\n",
            "[1, 99500] loss: 0.50945\n",
            "[1, 99600] loss: 0.25422\n",
            "[1, 99700] loss: 0.36125\n",
            "[1, 99800] loss: 0.32281\n",
            "[1, 99900] loss: 0.65858\n",
            "[1, 100000] loss: 0.35225\n",
            "[1, 100100] loss: 0.34024\n",
            "[1, 100200] loss: 0.46157\n",
            "[1, 100300] loss: 0.44620\n",
            "[1, 100400] loss: 0.32186\n",
            "[1, 100500] loss: 0.39948\n",
            "[1, 100600] loss: 0.39966\n",
            "[1, 100700] loss: 0.49503\n",
            "[1, 100800] loss: 0.34044\n",
            "[1, 100900] loss: 0.27859\n",
            "[1, 101000] loss: 0.33313\n",
            "[1, 101100] loss: 0.29133\n",
            "[1, 101200] loss: 0.37871\n",
            "[1, 101300] loss: 0.43245\n",
            "[1, 101400] loss: 0.45816\n",
            "[1, 101500] loss: 0.34567\n",
            "[1, 101600] loss: 0.38123\n",
            "[1, 101700] loss: 0.42658\n",
            "[1, 101800] loss: 0.36164\n",
            "[1, 101900] loss: 0.41035\n",
            "[1, 102000] loss: 0.35498\n",
            "[1, 102100] loss: 0.32102\n",
            "[1, 102200] loss: 0.39894\n",
            "[1, 102300] loss: 0.47720\n",
            "[1, 102400] loss: 0.44343\n",
            "[1, 102500] loss: 0.30829\n",
            "[1, 102600] loss: 0.47413\n",
            "[1, 102700] loss: 0.36706\n",
            "[1, 102800] loss: 0.33134\n",
            "[1, 102900] loss: 0.45405\n",
            "[1, 103000] loss: 0.37384\n",
            "[1, 103100] loss: 0.47261\n",
            "[1, 103200] loss: 0.45231\n",
            "[1, 103300] loss: 0.27116\n",
            "[1, 103400] loss: 0.38089\n",
            "[1, 103500] loss: 0.39027\n",
            "[1, 103600] loss: 0.41627\n",
            "[1, 103700] loss: 0.51908\n",
            "[1, 103800] loss: 0.39012\n",
            "[1, 103900] loss: 0.35557\n",
            "[1, 104000] loss: 0.37849\n",
            "[1, 104100] loss: 0.43227\n",
            "[1, 104200] loss: 0.35694\n",
            "[1, 104300] loss: 0.37300\n",
            "[1, 104400] loss: 0.37997\n",
            "[1, 104500] loss: 0.36484\n",
            "[1, 104600] loss: 0.50427\n",
            "[1, 104700] loss: 0.43103\n",
            "[1, 104800] loss: 0.48440\n",
            "[1, 104900] loss: 0.42298\n",
            "[1, 105000] loss: 0.47558\n",
            "[1, 105100] loss: 0.34093\n",
            "[1, 105200] loss: 0.40016\n",
            "[1, 105300] loss: 0.35847\n",
            "[1, 105400] loss: 0.44076\n",
            "[1, 105500] loss: 0.37962\n",
            "[1, 105600] loss: 0.34679\n",
            "[1, 105700] loss: 0.37453\n",
            "[1, 105800] loss: 0.37137\n",
            "[1, 105900] loss: 0.29468\n",
            "[1, 106000] loss: 0.44284\n",
            "[1, 106100] loss: 0.38512\n",
            "[1, 106200] loss: 0.41223\n",
            "[1, 106300] loss: 0.40826\n",
            "[1, 106400] loss: 0.46502\n",
            "[1, 106500] loss: 0.51922\n",
            "[1, 106600] loss: 0.35353\n",
            "[1, 106700] loss: 0.31332\n",
            "[1, 106800] loss: 0.40743\n",
            "[1, 106900] loss: 0.35882\n",
            "[1, 107000] loss: 0.35229\n",
            "[1, 107100] loss: 0.32273\n",
            "[1, 107200] loss: 0.28896\n",
            "[1, 107300] loss: 0.40835\n",
            "[1, 107400] loss: 0.36146\n",
            "[1, 107500] loss: 0.33554\n",
            "[1, 107600] loss: 0.32600\n",
            "[1, 107700] loss: 0.45900\n",
            "[1, 107800] loss: 0.43679\n",
            "[1, 107900] loss: 0.40672\n",
            "[1, 108000] loss: 0.54299\n",
            "[1, 108100] loss: 0.35004\n",
            "[1, 108200] loss: 0.32380\n",
            "[1, 108300] loss: 0.42756\n",
            "[1, 108400] loss: 0.42195\n",
            "[1, 108500] loss: 0.40619\n",
            "[1, 108600] loss: 0.35316\n",
            "[1, 108700] loss: 0.31183\n",
            "[1, 108800] loss: 0.32051\n",
            "[1, 108900] loss: 0.35741\n",
            "[1, 109000] loss: 0.45572\n",
            "[1, 109100] loss: 0.40730\n",
            "[1, 109200] loss: 0.40799\n",
            "[1, 109300] loss: 0.32658\n",
            "[1, 109400] loss: 0.32291\n",
            "[1, 109500] loss: 0.33255\n",
            "[1, 109600] loss: 0.35829\n",
            "[1, 109700] loss: 0.30750\n",
            "[1, 109800] loss: 0.40314\n",
            "[1, 109900] loss: 0.42421\n",
            "[1, 110000] loss: 0.38178\n",
            "[1, 110100] loss: 0.35755\n",
            "[1, 110200] loss: 0.36817\n",
            "[1, 110300] loss: 0.27865\n",
            "[1, 110400] loss: 0.43429\n",
            "[1, 110500] loss: 0.31792\n",
            "[1, 110600] loss: 0.32770\n",
            "[1, 110700] loss: 0.42023\n",
            "[1, 110800] loss: 0.34382\n",
            "[1, 110900] loss: 0.34053\n",
            "[1, 111000] loss: 0.45811\n",
            "[1, 111100] loss: 0.26719\n",
            "[1, 111200] loss: 0.30445\n",
            "[1, 111300] loss: 0.33274\n",
            "[1, 111400] loss: 0.48481\n",
            "[1, 111500] loss: 0.40543\n",
            "[1, 111600] loss: 0.28043\n",
            "[1, 111700] loss: 0.45996\n",
            "[1, 111800] loss: 0.37588\n",
            "[1, 111900] loss: 0.54510\n",
            "[1, 112000] loss: 0.38824\n",
            "[1, 112100] loss: 0.38373\n",
            "[1, 112200] loss: 0.43773\n",
            "[1, 112300] loss: 0.41361\n",
            "[1, 112400] loss: 0.39199\n",
            "[1, 112500] loss: 0.50925\n",
            "[1, 112600] loss: 0.42558\n",
            "[1, 112700] loss: 0.51479\n",
            "[1, 112800] loss: 0.32134\n",
            "[1, 112900] loss: 0.49173\n",
            "[1, 113000] loss: 0.46430\n",
            "[1, 113100] loss: 0.29811\n",
            "[1, 113200] loss: 0.29716\n",
            "[1, 113300] loss: 0.29806\n",
            "[1, 113400] loss: 0.29850\n",
            "[1, 113500] loss: 0.31919\n",
            "[1, 113600] loss: 0.50410\n",
            "[1, 113700] loss: 0.35941\n",
            "[1, 113800] loss: 0.30320\n",
            "[1, 113900] loss: 0.31018\n",
            "[1, 114000] loss: 0.24436\n",
            "[1, 114100] loss: 0.28766\n",
            "[1, 114200] loss: 0.37088\n",
            "[1, 114300] loss: 0.48547\n",
            "[1, 114400] loss: 0.31173\n",
            "[1, 114500] loss: 0.29235\n",
            "[1, 114600] loss: 0.36545\n",
            "[1, 114700] loss: 0.43723\n",
            "[1, 114800] loss: 0.46753\n",
            "[1, 114900] loss: 0.40459\n",
            "[1, 115000] loss: 0.31590\n",
            "[1, 115100] loss: 0.53872\n",
            "[1, 115200] loss: 0.38874\n",
            "[1, 115300] loss: 0.43009\n",
            "[1, 115400] loss: 0.37927\n",
            "[1, 115500] loss: 0.40392\n",
            "[1, 115600] loss: 0.33807\n",
            "[1, 115700] loss: 0.35418\n",
            "[1, 115800] loss: 0.34844\n",
            "[1, 115900] loss: 0.30824\n",
            "[1, 116000] loss: 0.36249\n",
            "[1, 116100] loss: 0.39677\n",
            "[1, 116200] loss: 0.39040\n",
            "[1, 116300] loss: 0.31988\n",
            "[1, 116400] loss: 0.34867\n",
            "[1, 116500] loss: 0.31580\n",
            "[1, 116600] loss: 0.35162\n",
            "[1, 116700] loss: 0.38750\n",
            "[1, 116800] loss: 0.39021\n",
            "[1, 116900] loss: 0.34598\n",
            "[1, 117000] loss: 0.36112\n",
            "[1, 117100] loss: 0.35442\n",
            "[1, 117200] loss: 0.28260\n",
            "[1, 117300] loss: 0.27832\n",
            "[1, 117400] loss: 0.46927\n",
            "[1, 117500] loss: 0.29465\n",
            "[1, 117600] loss: 0.28293\n",
            "[1, 117700] loss: 0.50849\n",
            "[1, 117800] loss: 0.52383\n",
            "[1, 117900] loss: 0.30823\n",
            "[1, 118000] loss: 0.41135\n",
            "[1, 118100] loss: 0.38267\n",
            "[1, 118200] loss: 0.47025\n",
            "[1, 118300] loss: 0.32655\n",
            "[1, 118400] loss: 0.41953\n",
            "[1, 118500] loss: 0.49583\n",
            "[1, 118600] loss: 0.31504\n",
            "[1, 118700] loss: 0.44486\n",
            "[1, 118800] loss: 0.43301\n",
            "[1, 118900] loss: 0.38214\n",
            "[1, 119000] loss: 0.45770\n",
            "[1, 119100] loss: 0.38670\n",
            "[1, 119200] loss: 0.46821\n",
            "[1, 119300] loss: 0.33178\n",
            "[1, 119400] loss: 0.31237\n",
            "[1, 119500] loss: 0.34537\n",
            "[1, 119600] loss: 0.38301\n",
            "[1, 119700] loss: 0.39418\n",
            "[1, 119800] loss: 0.30777\n",
            "[1, 119900] loss: 0.45046\n",
            "[1, 120000] loss: 0.31196\n"
          ]
        }
      ],
      "source": [
        "net.train()\n",
        "step = int(img_width / img_splits)\n",
        "input_seq_len = torch.tensor([img_splits], dtype=torch.long)\n",
        "for epoch in range(epochs):\n",
        "    loss = 0\n",
        "    mini_batch_loss = 0\n",
        "    for i, data in enumerate(dataloader, 0):\n",
        "        # get the input\n",
        "        image, word = data['image'], data['word']\n",
        "        image = image.to(device)\n",
        "        word = word.to(device)\n",
        "        # zero the parameter gradients\n",
        "        optimizer.zero_grad()\n",
        "        # initialize the RNN hidden state\n",
        "        hidden = torch.zeros((1, enc_dim)).double().to(device)\n",
        "        output = get_start_token()\n",
        "        letters = []\n",
        "        for j in range(img_splits):\n",
        "          output, hidden = net(image[:, :, :,\n",
        "                                     step*(img_splits-j-1):step*(img_splits-j)],\n",
        "                                     output, hidden)\n",
        "          letters.append(output)\n",
        "\n",
        "        # concatinate the outputs\n",
        "        predicted_word = torch.cat(letters, dim=1).view(img_splits, 1, enc_dim)\n",
        "        \n",
        "        target_seq_len = torch.tensor([word.size(1)],\n",
        "                                      dtype=torch.long)\n",
        "        \n",
        "        # compairing the output and word based on CTCLoss\n",
        "        loss = criterion(predicted_word, word.view((1, -1)),\n",
        "                          input_seq_len, target_seq_len)\n",
        "        \n",
        "        loss.backward()\n",
        "        \n",
        "        optimizer.step()\n",
        "        \n",
        "        mini_batch_loss += loss.item()\n",
        "        \n",
        "        if i % mini_batchs == (mini_batchs-1):\n",
        "            \n",
        "            print('[%d, %5d] loss: %.5f' %\n",
        "                  (epoch + 1, i + 1, mini_batch_loss/mini_batchs))\n",
        "            \n",
        "            loss_values.append(mini_batch_loss)    \n",
        "        \n",
        "            mini_batch_loss = 0"
      ]
    },
    {
      "cell_type": "markdown",
      "metadata": {
        "id": "j8UCra09870O"
      },
      "source": [
        "### Checking The Loss values"
      ]
    },
    {
      "cell_type": "code",
      "execution_count": 18,
      "metadata": {
        "colab": {
          "base_uri": "https://localhost:8080/",
          "height": 301
        },
        "id": "iaGy6Jl7870O",
        "outputId": "6f9d9513-310b-4f68-965f-a6adcd04010c"
      },
      "outputs": [
        {
          "output_type": "display_data",
          "data": {
            "text/plain": [
              "<Figure size 720x288 with 1 Axes>"
            ],
            "image/png": "[encoded data removed]"
          },
          "metadata": {}
        }
      ],
      "source": [
        "sns.set_palette(sns.dark_palette(\"purple\"))\n",
        "fig, ax = plt.subplots(figsize=(10, 4))\n",
        "plot = sns.lineplot(ax=ax,y=loss_values, x=range(len(loss_values)))\n",
        "plot.set_title(\"Training Loss\")\n",
        "plot.set_xlabel(\"steps\")\n",
        "plot.set_ylabel(\"CTC Loss\")\n",
        "plt.show()"
      ]
    },
    {
      "cell_type": "markdown",
      "metadata": {
        "id": "-HqC0NkP870O"
      },
      "source": [
        "## Using The Model for converting a page"
      ]
    },
    {
      "cell_type": "markdown",
      "metadata": {
        "id": "COr9T8Wz870O"
      },
      "source": [
        "### Cleaning The Ouput\n",
        "Due to the CTCLoss we should clear the ouput from repeated characters then `-` (blank) characters. "
      ]
    },
    {
      "cell_type": "code",
      "execution_count": 19,
      "metadata": {
        "id": "ar4vU4z_870O"
      },
      "outputs": [],
      "source": [
        "import re\n",
        "def clean_ctc(s):\n",
        "    # remove repeated\n",
        "    word = \"\"\n",
        "    prev = \"\"\n",
        "    for c in s:\n",
        "      if(c != prev):\n",
        "        word += c\n",
        "      prev = c\n",
        "    word = re.sub('[\\-SE]', '', word)\n",
        "    return word"
      ]
    },
    {
      "cell_type": "markdown",
      "metadata": {
        "id": "q1zAh__p870O"
      },
      "source": [
        "### Converting Output Tensor To Word"
      ]
    },
    {
      "cell_type": "code",
      "execution_count": 20,
      "metadata": {
        "id": "uIZuFzRY870O"
      },
      "outputs": [],
      "source": [
        "def tensor_to_word(word_tensor):\n",
        "    word_tensor = word_tensor.max(2)[1].view(-1)\n",
        "    word = \"\"\n",
        "    for i in range(word_tensor.size(0)):\n",
        "      word += pchars[word_tensor[i]]\n",
        "    return clean_ctc(word)"
      ]
    },
    {
      "cell_type": "markdown",
      "metadata": {
        "id": "4XjYe0ZV870O"
      },
      "source": [
        "### Transforming Numpy Images for evaluation"
      ]
    },
    {
      "cell_type": "code",
      "execution_count": 21,
      "metadata": {
        "id": "EDyipjvZ870O"
      },
      "outputs": [],
      "source": [
        "def transform_numpy_image(img):\n",
        "    # scale the image\n",
        "    img = img.reshape(1, 1, 50, 100)\n",
        "    tensor = torch.from_numpy(img).double().to(device)\n",
        "    return tensor"
      ]
    },
    {
      "cell_type": "markdown",
      "metadata": {
        "id": "GIYwqnEj870P"
      },
      "source": [
        "### Feeding Image to Model "
      ]
    },
    {
      "cell_type": "code",
      "execution_count": 22,
      "metadata": {
        "id": "5kmm-KN8870P"
      },
      "outputs": [],
      "source": [
        "def image_to_word(img):\n",
        "    tensor = transform_numpy_image(img)\n",
        "    prediction = None\n",
        "    net.eval()\n",
        "    with torch.no_grad():\n",
        "      hidden = torch.zeros((1, enc_dim)).double().to(device)\n",
        "      output = get_start_token()\n",
        "      letters = []\n",
        "      for j in range(img_splits):\n",
        "        step = int(img_width / img_splits)\n",
        "        output, hidden = net(tensor[:, :, :, step*(img_splits-j-1):step*(img_splits-j)], output, hidden)\n",
        "        letters.append(output)\n",
        "      prediction = torch.cat(letters, dim=0).view(img_splits, 1, enc_dim)\n",
        "    return tensor_to_word(prediction)"
      ]
    },
    {
      "cell_type": "markdown",
      "metadata": {
        "id": "ZsqSPloc870P"
      },
      "source": [
        "### Reading The Text Image"
      ]
    },
    {
      "cell_type": "code",
      "execution_count": 26,
      "metadata": {
        "colab": {
          "base_uri": "https://localhost:8080/",
          "height": 331
        },
        "id": "psMjynpK870P",
        "outputId": "d8de1bd6-7cca-40ba-ae07-f4ea35180b06"
      },
      "outputs": [
        {
          "output_type": "execute_result",
          "data": {
            "text/plain": [
              "<matplotlib.image.AxesImage at 0x7f3180a0e990>"
            ]
          },
          "metadata": {},
          "execution_count": 26
        },
        {
          "output_type": "display_data",
          "data": {
            "text/plain": [
              "<Figure size 1008x360 with 1 Axes>"
            ],
            "image/png": "[encoded data removed]"
          },
          "metadata": {
            "needs_background": "light"
          }
        }
      ],
      "source": [
        "import cv2\n",
        "%matplotlib inline\n",
        "image_path = '/content/drive/MyDrive/NLP/test_page.png'\n",
        "\n",
        "img = cv2.imread(image_path, cv2.IMREAD_COLOR)\n",
        "gray = cv2.cvtColor(img, cv2.COLOR_BGR2GRAY)\n",
        "\n",
        "fig, ax = plt.subplots(figsize=(14, 5))\n",
        "ax.imshow(gray, interpolation='nearest')"
      ]
    },
    {
      "cell_type": "markdown",
      "metadata": {
        "id": "TWB-pT1k870P"
      },
      "source": [
        "### Thresholding The Image"
      ]
    },
    {
      "cell_type": "code",
      "execution_count": 27,
      "metadata": {
        "colab": {
          "base_uri": "https://localhost:8080/",
          "height": 331
        },
        "id": "_V9t7x3R870P",
        "outputId": "94fb80a3-b793-46af-825f-0dda6bfb7872"
      },
      "outputs": [
        {
          "output_type": "execute_result",
          "data": {
            "text/plain": [
              "<matplotlib.image.AxesImage at 0x7f31800412d0>"
            ]
          },
          "metadata": {},
          "execution_count": 27
        },
        {
          "output_type": "display_data",
          "data": {
            "text/plain": [
              "<Figure size 1008x360 with 1 Axes>"
            ],
            "image/png": "[encoded data removed]"
          },
          "metadata": {
            "needs_background": "light"
          }
        }
      ],
      "source": [
        "ret,thresh = cv2.threshold(gray, 0, 255,cv2.THRESH_OTSU|cv2.THRESH_BINARY_INV)\n",
        "fig, ax = plt.subplots(figsize=(14, 5))\n",
        "ax.imshow(thresh, interpolation='nearest')"
      ]
    },
    {
      "cell_type": "markdown",
      "metadata": {
        "id": "TsXcIY8g870P"
      },
      "source": [
        "### Using dilation to segment the words"
      ]
    },
    {
      "cell_type": "code",
      "execution_count": 28,
      "metadata": {
        "colab": {
          "base_uri": "https://localhost:8080/",
          "height": 331
        },
        "id": "eag0QEH9870P",
        "outputId": "28117f77-c842-4929-92ba-da9caee22de6"
      },
      "outputs": [
        {
          "output_type": "execute_result",
          "data": {
            "text/plain": [
              "<matplotlib.image.AxesImage at 0x7f3180c77110>"
            ]
          },
          "metadata": {},
          "execution_count": 28
        },
        {
          "output_type": "display_data",
          "data": {
            "text/plain": [
              "<Figure size 1008x360 with 1 Axes>"
            ],
            "image/png": "[encoded data removed]"
          },
          "metadata": {
            "needs_background": "light"
          }
        }
      ],
      "source": [
        "rect_kernel = cv2.getStructuringElement(cv2.MORPH_RECT, (2, 3))\n",
        "dilation = cv2.dilate(thresh, rect_kernel, iterations = 3)\n",
        "fig, ax = plt.subplots(figsize=(14, 5))\n",
        "ax.imshow(dilation, interpolation='nearest')"
      ]
    },
    {
      "cell_type": "markdown",
      "metadata": {
        "id": "aCEu9JOK870P"
      },
      "source": [
        "### Finding The Contours"
      ]
    },
    {
      "cell_type": "code",
      "execution_count": 29,
      "metadata": {
        "colab": {
          "base_uri": "https://localhost:8080/",
          "height": 331
        },
        "id": "FTT4jFp5870P",
        "outputId": "4c6036d0-4c8a-408f-9783-e34f5a34c9e0"
      },
      "outputs": [
        {
          "output_type": "execute_result",
          "data": {
            "text/plain": [
              "<matplotlib.image.AxesImage at 0x7f31806e2f90>"
            ]
          },
          "metadata": {},
          "execution_count": 29
        },
        {
          "output_type": "display_data",
          "data": {
            "text/plain": [
              "<Figure size 1008x360 with 1 Axes>"
            ],
            "image/png": "[encoded data removed]"
          },
          "metadata": {
            "needs_background": "light"
          }
        }
      ],
      "source": [
        "contours, hierarchy = cv2.findContours(dilation, cv2.RETR_EXTERNAL, cv2.CHAIN_APPROX_NONE)\n",
        "img_contours = img.copy()\n",
        "for cnt in contours:\n",
        "  x, y, w, h = cv2.boundingRect(cnt)\n",
        "  cv2.rectangle(img_contours, (x, y), (x + w, y + h), (0, 255, 0), 1)\n",
        "fig, ax = plt.subplots(figsize=(14, 5))\n",
        "ax.imshow(img_contours, interpolation='nearest')"
      ]
    },
    {
      "cell_type": "markdown",
      "metadata": {
        "id": "SY7k73yO870Q"
      },
      "source": [
        "### Sorting The Contours"
      ]
    },
    {
      "cell_type": "code",
      "execution_count": 30,
      "metadata": {
        "id": "-8NBZ7MY870Q"
      },
      "outputs": [],
      "source": [
        "from functools import cmp_to_key\n",
        "\n",
        "def rectCmp(r1, r2):\n",
        "  if (abs(r1[1] - r2[1]) < 20):\n",
        "    return r2[0] - r1[0]\n",
        "  return r1[1] - r2[1]\n",
        "\n",
        "bounding_rects = [ cv2.boundingRect(c) for c in contours ]\n",
        "bounding_rects.sort(key=cmp_to_key(rectCmp))"
      ]
    },
    {
      "cell_type": "markdown",
      "metadata": {
        "id": "U4Zw-lLH870Q"
      },
      "source": [
        "### Extract Images"
      ]
    },
    {
      "cell_type": "code",
      "execution_count": 31,
      "metadata": {
        "id": "WJ_5zmF0870Q"
      },
      "outputs": [],
      "source": [
        "def extract_images(rects, image):\n",
        "  images = []\n",
        "  for r in rects:\n",
        "    x, y, w, h = r\n",
        "    H=50\n",
        "    W=100\n",
        "    Y = int((H-h)/2) - 5\n",
        "    X = int((W-w)/2) - 5\n",
        "    c = np.zeros((H, W))\n",
        "    c[Y:Y+h, X:X+w] = 1-image[y:y+h, x:x+w]\n",
        "    c[c < 70] = 0\n",
        "    c *= 1.8\n",
        "    c[c > 255] = 255\n",
        "    c = np.floor(c)\n",
        "    images.append(c)\n",
        "  return images\n",
        "test_images = extract_images(bounding_rects, gray)"
      ]
    },
    {
      "cell_type": "markdown",
      "metadata": {
        "id": "jBCG274s870Q"
      },
      "source": [
        "## Final Result\n",
        "After 2 epochs the result should be meangful"
      ]
    },
    {
      "cell_type": "code",
      "execution_count": 32,
      "metadata": {
        "colab": {
          "base_uri": "https://localhost:8080/",
          "height": 125
        },
        "id": "fjeKOazN870Q",
        "outputId": "0d86ac06-b524-4005-8398-5d0adda1d969"
      },
      "outputs": [
        {
          "output_type": "execute_result",
          "data": {
            "text/plain": [
              "'از هر دو نجگاه ریاعشیات و سیاست مادانسکی با مسثلده بسیار سختی مواجه شده بود به عنوان یک عیر نظامی جوان که پنکی از بآور حای آساسی ارتش دار مورد چنشگ سرد را به چالش می کشید باید تصمیم گیرندگان را منتقاعد می کرد با وحون اینکه هنوز فاجعه اگ رح نداده ممکن است پنکی نار آینده رح دهد او باید قضیه را از دید بیزگ به افرادگ غیر متخعص توخیح مع داد و به دالیل بد گمانی ارتک نسبت به توصبیعه حای بدون حساسب و کتاب افراد عیر نخآمی ناجار بود تا حد آمکان از کمترین تعیداد فرخیات آولیه استفاده کند همجنیت با نار نظر گرفتن تمداد کم حوادتث و خوشبختانه آخرالزمان هایی که تا آن موقح رچ داده بود یک مشکل آمارک هم وحون داشت'"
            ],
            "application/vnd.google.colaboratory.intrinsic+json": {
              "type": "string"
            }
          },
          "metadata": {},
          "execution_count": 32
        }
      ],
      "source": [
        "' '.join([image_to_word(image) for image in test_images])"
      ]
    },
    {
      "cell_type": "markdown",
      "metadata": {
        "id": "RGaZ-cPF870Q"
      },
      "source": [
        "## References\n",
        "This paper helped me a lot, however my architecture is not same\n",
        "- https://arxiv.org/abs/1805.09441\n",
        "- [Pytorch Tutorial on RNNs](https://pytorch.org/tutorials/intermediate/char_rnn_classification_tutorial.html)  \n",
        "For word segmentation using dilation see this:\n",
        "- https://stackoverflow.com/a/10970473/4334320\n",
        "\n",
        "The text of the image which I used to show the final result is a translation of this book:\n",
        "- The Theory That Would Not Die, Sharon McGrayne"
      ]
    },
    {
      "cell_type": "code",
      "execution_count": null,
      "metadata": {
        "id": "FXrAkr-k870Q"
      },
      "outputs": [],
      "source": [
        ""
      ]
    }
  ],
  "metadata": {
    "kernelspec": {
      "display_name": "Python 3",
      "language": "python",
      "name": "python3"
    },
    "language_info": {
      "codemirror_mode": {
        "name": "ipython",
        "version": 3
      },
      "file_extension": ".py",
      "mimetype": "text/x-python",
      "name": "python",
      "nbconvert_exporter": "python",
      "pygments_lexer": "ipython3",
      "version": "3.7.5"
    },
    "colab": {
      "name": "shotorCTC.ipynb",
      "provenance": [],
      "machine_shape": "hm"
    },
    "accelerator": "GPU",
    "gpuClass": "standard"
  },
  "nbformat": 4,
  "nbformat_minor": 0
}